{
  "nbformat": 4,
  "nbformat_minor": 0,
  "metadata": {
    "colab": {
      "provenance": []
    },
    "kernelspec": {
      "name": "python3",
      "display_name": "Python 3"
    },
    "language_info": {
      "name": "python"
    }
  },
  "cells": [
    {
      "cell_type": "markdown",
      "source": [
        "## Mount to gdrive to read data, adjacency matrix, p_link and labels. "
      ],
      "metadata": {
        "id": "XJpt6MI6HHb5"
      }
    },
    {
      "cell_type": "code",
      "execution_count": null,
      "metadata": {
        "colab": {
          "base_uri": "https://localhost:8080/"
        },
        "id": "sflUIaNYHBhO",
        "outputId": "0603cda5-8f43-40e6-9fae-89fc03666499"
      },
      "outputs": [
        {
          "output_type": "stream",
          "name": "stdout",
          "text": [
            "Drive already mounted at /gdrive; to attempt to forcibly remount, call drive.mount(\"/gdrive\", force_remount=True).\n"
          ]
        }
      ],
      "source": [
        "from google.colab import drive\n",
        "drive.mount('/gdrive')"
      ]
    },
    {
      "cell_type": "markdown",
      "source": [
        "# Install pandas to read csv files from gdrive. Install torch and numpy which are packages that are needed durind coding."
      ],
      "metadata": {
        "id": "Y31xHt_DHKSP"
      }
    },
    {
      "cell_type": "code",
      "source": [
        "!pip install pandas\n",
        "import pandas as pd\n",
        "import torch\n",
        "import numpy as np"
      ],
      "metadata": {
        "colab": {
          "base_uri": "https://localhost:8080/"
        },
        "id": "FeAq9GyUHEkv",
        "outputId": "3b8070fe-3865-4c9a-9734-8e27de444408"
      },
      "execution_count": null,
      "outputs": [
        {
          "output_type": "stream",
          "name": "stdout",
          "text": [
            "Looking in indexes: https://pypi.org/simple, https://us-python.pkg.dev/colab-wheels/public/simple/\n",
            "Requirement already satisfied: pandas in /usr/local/lib/python3.8/dist-packages (1.3.5)\n",
            "Requirement already satisfied: pytz>=2017.3 in /usr/local/lib/python3.8/dist-packages (from pandas) (2022.6)\n",
            "Requirement already satisfied: python-dateutil>=2.7.3 in /usr/local/lib/python3.8/dist-packages (from pandas) (2.8.2)\n",
            "Requirement already satisfied: numpy>=1.17.3 in /usr/local/lib/python3.8/dist-packages (from pandas) (1.21.6)\n",
            "Requirement already satisfied: six>=1.5 in /usr/local/lib/python3.8/dist-packages (from python-dateutil>=2.7.3->pandas) (1.15.0)\n"
          ]
        }
      ]
    },
    {
      "cell_type": "markdown",
      "source": [
        "# Load data which are processed in preprocessing_gene.ipynb file."
      ],
      "metadata": {
        "id": "KIOxovTxHNGu"
      }
    },
    {
      "cell_type": "code",
      "source": [
        "path = F\"/gdrive/MyDrive/Gene/gene.pt\"\n",
        "Data = torch.load(path)\n",
        "Data"
      ],
      "metadata": {
        "colab": {
          "base_uri": "https://localhost:8080/"
        },
        "id": "3NooqtcZHpbN",
        "outputId": "8520971c-4fd4-469b-89e5-baec3a3bb9e8"
      },
      "execution_count": null,
      "outputs": [
        {
          "output_type": "execute_result",
          "data": {
            "text/plain": [
              "{'x': tensor([[12.2066,  8.5495, 10.7969,  ...,  8.4967,  8.5979,  8.8691],\n",
              "         [ 9.6155,  8.9314,  9.5201,  ...,  9.6052, 11.1579, 10.5243],\n",
              "         [ 6.2624, 10.6610,  8.8817,  ...,  6.8272,  6.2315,  6.5671],\n",
              "         ...,\n",
              "         [ 6.0040, 11.8118, 10.3843,  ...,  7.5903, 12.6739, 12.8235],\n",
              "         [ 8.8085, 12.8148, 15.4529,  ...,  9.6657, 13.1217, 10.3099],\n",
              "         [ 7.3143, 13.6116, 12.9968,  ...,  8.7592,  9.8862,  9.2184]]),\n",
              " 'edge_index': tensor([[ 0,  0,  0,  0,  0,  0,  1,  2,  2,  2,  2,  2,  3,  3,  4,  4,  4,  4,\n",
              "           4,  5,  5,  5,  5,  5,  5,  6,  6,  6,  7,  7,  7,  7,  7,  7,  7,  7,\n",
              "           8,  8,  8,  8,  8,  8,  8,  9,  9,  9,  9,  9,  9,  9,  9,  9, 10, 10,\n",
              "          10, 10, 11, 11, 11, 11, 11, 11, 12, 12, 12, 13, 13, 13, 13, 14, 14, 14,\n",
              "          14, 15, 15, 15, 15, 15, 15, 15, 15, 16, 16, 16, 16, 16, 16, 16, 17, 17,\n",
              "          17, 17, 17, 17, 17, 17, 17, 17, 18, 18, 18, 18, 18, 18, 18, 19, 19, 19,\n",
              "          19, 19, 19, 20, 20, 20, 20, 20, 20, 20, 21, 21, 21, 21, 21, 21, 21, 21,\n",
              "          21, 21, 22, 22, 22, 23, 23, 23, 23, 24, 24, 24, 24, 24, 25, 25, 25, 25,\n",
              "          25, 26, 26, 26, 26, 26, 27, 27, 28, 28, 28, 29, 29, 29, 29, 29, 29, 30,\n",
              "          30, 30, 30, 30, 31, 31, 31, 31, 31, 32, 32, 32, 33, 33, 33, 33, 33, 33,\n",
              "          34, 34, 34, 34, 34, 35, 35, 35, 35, 36, 36, 36, 36, 36, 36, 36, 36, 36,\n",
              "          36, 37, 37, 37, 38, 38, 38, 38, 39, 40, 40, 41, 41, 42, 42, 42, 43, 43,\n",
              "          43, 44, 44, 44, 45, 45, 46, 46, 47, 48, 48, 48, 49, 50, 50, 50, 51, 52,\n",
              "          52, 52, 53, 53, 53, 53, 54, 54, 55, 55, 56, 56, 56, 57, 57, 57, 57, 57,\n",
              "          58, 58, 59, 59, 60, 60, 61, 62, 62, 62, 63, 64, 64, 64],\n",
              "         [ 5,  8,  9, 12, 21, 32, 36, 10, 13, 16, 40, 62, 17, 25,  7, 15, 18, 19,\n",
              "          38,  0,  7,  9, 11, 21, 33,  7, 19, 39,  4,  5,  6, 17, 18, 19, 24, 31,\n",
              "           0, 18, 21, 29, 38, 41, 57,  0,  5, 15, 18, 21, 24, 26, 33, 36,  2, 21,\n",
              "          36, 44,  5, 24, 26, 29, 35, 50,  0, 15, 37,  2, 14, 17, 60, 13, 17, 19,\n",
              "          47,  4,  9, 12, 16, 17, 21, 36, 56,  2, 15, 19, 26, 36, 51, 52,  3,  7,\n",
              "          13, 14, 15, 20, 26, 27, 33, 40,  4,  7,  8,  9, 36, 37, 64,  4,  6,  7,\n",
              "          14, 16, 36, 17, 21, 24, 26, 31, 38, 52,  0,  5,  8,  9, 10, 15, 20, 33,\n",
              "          37, 58, 24, 31, 36, 25, 35, 41, 57,  7,  9, 11, 20, 22,  3, 23, 30, 46,\n",
              "          57,  9, 11, 16, 17, 20, 17, 53, 29, 34, 52,  8, 11, 28, 31, 34, 50, 25,\n",
              "          31, 32, 33, 43,  7, 20, 22, 29, 30,  0, 30, 34,  5,  9, 17, 21, 30, 34,\n",
              "          28, 29, 32, 33, 63, 11, 23, 43, 61,  1,  9, 10, 15, 16, 18, 19, 22, 48,\n",
              "          55, 12, 18, 21,  4,  8, 20, 57,  6,  2, 17,  8, 23, 44, 45, 56, 30, 35,\n",
              "          53, 10, 42, 60, 42, 53, 25, 55, 14, 36, 53, 62, 50, 11, 29, 49, 16, 16,\n",
              "          20, 28, 27, 43, 45, 48, 57, 59, 36, 46, 15, 42, 64,  8, 23, 25, 38, 54,\n",
              "          21, 59, 54, 58, 13, 44, 35,  2, 48, 64, 34, 18, 56, 62]]),\n",
              " 'y': tensor([0, 0, 0, 0, 0, 0, 0, 0, 0, 0, 0, 0, 0, 0, 0, 0, 0, 0, 0, 0, 0, 0, 1, 1,\n",
              "         1, 1, 1, 1, 2, 2, 2, 2, 2, 2, 2, 2, 2, 2, 2, 1, 1, 1, 1, 1, 1, 1, 1, 1,\n",
              "         1, 1, 1, 1, 1, 1, 2, 2, 2, 2, 2, 2, 2, 2, 2, 2, 2]),\n",
              " 'train_mask': tensor([False,  True,  True, False,  True,  True, False, False, False, False,\n",
              "          True,  True,  True,  True,  True, False,  True, False,  True, False,\n",
              "          True,  True, False,  True,  True,  True,  True, False, False, False,\n",
              "         False, False,  True,  True,  True,  True,  True, False, False,  True,\n",
              "          True, False, False,  True, False,  True, False,  True, False, False,\n",
              "          True,  True,  True,  True, False, False,  True,  True,  True,  True,\n",
              "          True,  True,  True,  True,  True]),\n",
              " 'val_mask': tensor([False, False, False, False, False, False,  True, False,  True,  True,\n",
              "         False, False, False, False, False, False, False,  True, False, False,\n",
              "         False, False,  True, False, False, False, False, False, False,  True,\n",
              "         False, False, False, False, False, False, False,  True, False, False,\n",
              "         False, False, False, False,  True, False, False, False,  True, False,\n",
              "         False, False, False, False, False,  True, False, False, False, False,\n",
              "         False, False, False, False, False]),\n",
              " 'test_mask': tensor([ True, False, False,  True, False, False, False,  True, False, False,\n",
              "         False, False, False, False, False,  True, False, False, False,  True,\n",
              "         False, False, False, False, False, False, False,  True,  True, False,\n",
              "          True,  True, False, False, False, False, False, False,  True, False,\n",
              "         False,  True,  True, False, False, False,  True, False, False,  True,\n",
              "         False, False, False, False,  True, False, False, False, False, False,\n",
              "         False, False, False, False, False])}"
            ]
          },
          "metadata": {},
          "execution_count": 3
        }
      ]
    },
    {
      "cell_type": "markdown",
      "source": [
        "# Gather some statistics about the graph."
      ],
      "metadata": {
        "id": "Q7lVUylvHQJ_"
      }
    },
    {
      "cell_type": "code",
      "source": [
        "print(f'Number of nodes: {Data[\"x\"].size(0)}')\n",
        "print(f'Number of features: {Data[\"x\"].size(1)}')\n",
        "print(f'Number of classes: {torch.numel(torch.unique(Data[\"y\"],sorted=True))}')\n",
        "print(f'Number of edges: {Data[\"edge_index\"].size(1)}')\n",
        "print(f'Average node degree: {Data[\"edge_index\"].size(1) / Data[\"x\"].size(0):.2f}')\n",
        "print(f'Number of training nodes: {Data[\"train_mask\"].sum()}')\n",
        "print(f'Number of testing nodes: {Data[\"test_mask\"].sum()}')\n",
        "print(f'Training node label rate: {int(Data[\"train_mask\"].sum()) /  Data[\"x\"].size(0):.2f}')"
      ],
      "metadata": {
        "colab": {
          "base_uri": "https://localhost:8080/"
        },
        "id": "5GJAxJLlHvlg",
        "outputId": "f676e0d8-50e0-4efb-8158-9b9032699cf0"
      },
      "execution_count": null,
      "outputs": [
        {
          "output_type": "stream",
          "name": "stdout",
          "text": [
            "Number of nodes: 65\n",
            "Number of features: 60\n",
            "Number of classes: 3\n",
            "Number of edges: 266\n",
            "Average node degree: 4.09\n",
            "Number of training nodes: 40\n",
            "Number of testing nodes: 15\n",
            "Training node label rate: 0.62\n"
          ]
        }
      ]
    },
    {
      "cell_type": "markdown",
      "source": [
        "# Read p_link from gdrive to use it as the attention."
      ],
      "metadata": {
        "id": "vkDpCVQcHSvm"
      }
    },
    {
      "cell_type": "code",
      "source": [
        "path = F\"/gdrive/MyDrive/Gene/p_links_gene.pt\"\n",
        "p_link = torch.load(path)\n",
        "print(p_link.size())\n",
        "print(p_link.dtype)\n",
        "print(p_link.type())"
      ],
      "metadata": {
        "colab": {
          "base_uri": "https://localhost:8080/"
        },
        "id": "-8SRw25iIH8G",
        "outputId": "b518add2-539f-483b-80b4-a1038f7c3110"
      },
      "execution_count": null,
      "outputs": [
        {
          "output_type": "stream",
          "name": "stdout",
          "text": [
            "torch.Size([65, 65])\n",
            "torch.float32\n",
            "torch.FloatTensor\n"
          ]
        }
      ]
    },
    {
      "cell_type": "markdown",
      "source": [
        "# Install torch_geometic."
      ],
      "metadata": {
        "id": "3n21IcfeHVpi"
      }
    },
    {
      "cell_type": "code",
      "source": [
        "import os\n",
        "os.environ['TORCH'] = torch.__version__\n",
        "print(torch.__version__)\n",
        "\n",
        "!pip install -q torch-scatter -f https://data.pyg.org/whl/torch-${TORCH}.html\n",
        "!pip install -q torch-sparse -f https://data.pyg.org/whl/torch-${TORCH}.html\n",
        "!pip install -q git+https://github.com/pyg-team/pytorch_geometric.git"
      ],
      "metadata": {
        "id": "z_frgXbNIOw7",
        "colab": {
          "base_uri": "https://localhost:8080/"
        },
        "outputId": "1f84e4c2-4b37-424e-d514-0642d59a8e6c"
      },
      "execution_count": null,
      "outputs": [
        {
          "output_type": "stream",
          "name": "stdout",
          "text": [
            "1.13.0+cu116\n"
          ]
        }
      ]
    },
    {
      "cell_type": "markdown",
      "source": [
        "# Developing our own model (making our own message passing layers)."
      ],
      "metadata": {
        "id": "1VCacUAJHZC_"
      }
    },
    {
      "cell_type": "markdown",
      "source": [
        "# BGATConv\n",
        "$$ X^\\prime _i = \\sum_{j \\in N(i)\\cup i} \\alpha_{ij}\\Theta X_j$$\n",
        "In which $\\alpha$s are computed via BDgraph(p_link) and $\\Theta$ is learnable parameter."
      ],
      "metadata": {
        "id": "2JTJQ35UHcwP"
      }
    },
    {
      "cell_type": "code",
      "source": [
        "from torch_geometric.nn import MessagePassing\n",
        "import torch_geometric.nn\n",
        "import torch.nn.functional as F\n",
        "from torch_geometric.utils import add_self_loops"
      ],
      "metadata": {
        "id": "68a6PEk4IRJR"
      },
      "execution_count": null,
      "outputs": []
    },
    {
      "cell_type": "markdown",
      "source": [
        "# Creating message passing network."
      ],
      "metadata": {
        "id": "nxqtRqgcHf4v"
      }
    },
    {
      "cell_type": "code",
      "source": [
        "class BGATConv(MessagePassing):\n",
        "    def __init__(\n",
        "        self,\n",
        "        in_channels,\n",
        "        out_channels,\n",
        "        **kwargs,\n",
        "    ):\n",
        "        kwargs.setdefault('aggr', 'add')\n",
        "        super().__init__(node_dim = 0, **kwargs)\n",
        "        self.in_channels = in_channels\n",
        "        self.out_channels = out_channels\n",
        "        self.lin = torch.nn.Linear(in_channels, out_channels)\n",
        "\n",
        "    def forward(self, x, edge_index):\n",
        "        edge_index, _ = add_self_loops(Data[\"edge_index\"], num_nodes = Data[\"x\"].size(0))\n",
        "        x = self.lin(x)\n",
        "        atten = p_link\n",
        "        return self.propagate(edge_index, x=x, atten = atten)\n",
        "\n",
        "    def message(self, x_j, atten, edge_index_i, edge_index_j):\n",
        "        return atten[edge_index_i, edge_index_j].reshape(-1,1) * x_j\n",
        "\n",
        "    def __repr__(self):\n",
        "        return '{}({}, {})'.format(self.__class__.__name__, self.in_channels, self.out_channels)"
      ],
      "metadata": {
        "id": "c-rTCjPhIUGq"
      },
      "execution_count": null,
      "outputs": []
    },
    {
      "cell_type": "markdown",
      "source": [
        "# Make GNN layers with our own model, BGAT. We use three BGAT conv."
      ],
      "metadata": {
        "id": "9WGSW4rKHiZ4"
      }
    },
    {
      "cell_type": "code",
      "source": [
        "class Myconv(torch.nn.Module):\n",
        "    def __init__(self):\n",
        "        super().__init__()\n",
        "        torch.manual_seed(2)\n",
        "        self.conv1 = BGATConv(in_channels = 60, out_channels = 10)\n",
        "        self.conv2 =  BGATConv(10,5)\n",
        "        self.conv3 =  BGATConv(5, 3)\n",
        "\n",
        "\n",
        "        \n",
        "    def forward(self, x, edge_index):\n",
        "        h = self.conv1(x, edge_index)\n",
        "        h = F.torch.tanh(h)\n",
        "        h = self.conv2(h, edge_index)\n",
        "        h = F.torch.tanh(h)\n",
        "        h = self.conv3(h, edge_index)# Final GNN embedding space.\n",
        "        h = F.torch.tanh(h)\n",
        "        return h\n",
        "        \n",
        "model = Myconv()\n",
        "print(model)\n",
        "print(model.forward(Data[\"x\"], Data[\"edge_index\"]))"
      ],
      "metadata": {
        "id": "G4I7BvwCIXhx",
        "colab": {
          "base_uri": "https://localhost:8080/"
        },
        "outputId": "b1ee1255-9d9a-4691-8212-3d4ce7843a3b"
      },
      "execution_count": null,
      "outputs": [
        {
          "output_type": "stream",
          "name": "stdout",
          "text": [
            "Myconv(\n",
            "  (conv1): BGATConv(60, 10)\n",
            "  (conv2): BGATConv(10, 5)\n",
            "  (conv3): BGATConv(5, 3)\n",
            ")\n",
            "tensor([[ 0.2697, -0.9984,  0.9625],\n",
            "        [ 0.1263, -0.7821,  0.5417],\n",
            "        [ 0.2983, -0.9348,  0.7711],\n",
            "        [ 0.2597, -0.5222,  0.3410],\n",
            "        [ 0.2763, -0.9923,  0.9185],\n",
            "        [ 0.3068, -0.9977,  0.9570],\n",
            "        [ 0.2553, -0.9134,  0.7354],\n",
            "        [ 0.3748, -0.9997,  0.9865],\n",
            "        [ 0.3972, -0.9966,  0.9456],\n",
            "        [ 0.4356, -1.0000,  0.9967],\n",
            "        [ 0.2334, -0.9870,  0.8922],\n",
            "        [ 0.2968, -0.9951,  0.9391],\n",
            "        [ 0.1970, -0.8826,  0.6854],\n",
            "        [ 0.0937, -0.9396,  0.7404],\n",
            "        [ 0.1096, -0.9440,  0.7370],\n",
            "        [ 0.3570, -0.9998,  0.9867],\n",
            "        [ 0.3823, -0.9950,  0.9359],\n",
            "        [ 0.4214, -0.9989,  0.9666],\n",
            "        [ 0.3511, -0.9992,  0.9767],\n",
            "        [ 0.2540, -0.9971,  0.9493],\n",
            "        [ 0.2391, -0.9963,  0.9328],\n",
            "        [ 0.4274, -1.0000,  0.9962],\n",
            "        [ 0.2366, -0.9857,  0.8850],\n",
            "        [ 0.3825, -0.5219,  0.4167],\n",
            "        [ 0.2414, -0.9979,  0.9547],\n",
            "        [ 0.4617, -0.6339,  0.5028],\n",
            "        [ 0.0455, -0.9962,  0.9225],\n",
            "        [ 0.1371, -0.7582,  0.5255],\n",
            "        [ 0.2907, -0.9317,  0.7677],\n",
            "        [ 0.3397, -0.9987,  0.9698],\n",
            "        [ 0.3068, -0.9921,  0.9237],\n",
            "        [ 0.2412, -0.9961,  0.9394],\n",
            "        [ 0.2275, -0.9811,  0.8686],\n",
            "        [ 0.3096, -0.9990,  0.9712],\n",
            "        [ 0.3544, -0.9966,  0.9519],\n",
            "        [ 0.3911, -0.8713,  0.6937],\n",
            "        [ 0.5270, -1.0000,  0.9959],\n",
            "        [ 0.2176, -0.9548,  0.7985],\n",
            "        [ 0.0913, -0.8868,  0.6407],\n",
            "        [ 0.2011, -0.6292,  0.4575],\n",
            "        [ 0.2713, -0.6003,  0.3933],\n",
            "        [ 0.3256, -0.3442,  0.2393],\n",
            "        [ 0.1802, -0.9392,  0.7666],\n",
            "        [ 0.2150, -0.9299,  0.7605],\n",
            "        [ 0.2313, -0.9622,  0.8257],\n",
            "        [ 0.1329, -0.8551,  0.6317],\n",
            "        [ 0.3493, -0.3027,  0.2815],\n",
            "        [ 0.1120, -0.1691,  0.1083],\n",
            "        [ 0.2096, -0.9662,  0.8265],\n",
            "        [ 0.1021, -0.5271,  0.3450],\n",
            "        [ 0.1945, -0.9331,  0.7534],\n",
            "        [ 0.1789, -0.5862,  0.3855],\n",
            "        [ 0.1695, -0.7755,  0.5232],\n",
            "        [ 0.2455, -0.9590,  0.8195],\n",
            "        [ 0.1893, -0.7152,  0.5266],\n",
            "        [ 0.3456, -0.7383,  0.5537],\n",
            "        [ 0.1538, -0.9160,  0.7187],\n",
            "        [ 0.2562, -0.7623,  0.5650],\n",
            "        [ 0.2243, -0.8527,  0.6483],\n",
            "        [ 0.2598, -0.7793,  0.6029],\n",
            "        [ 0.1508, -0.8500,  0.6352],\n",
            "        [ 0.3062, -0.2810,  0.2096],\n",
            "        [ 0.1955, -0.9445,  0.7818],\n",
            "        [ 0.1064, -0.6548,  0.4249],\n",
            "        [ 0.1761, -0.9300,  0.7483]], grad_fn=<TanhBackward0>)\n"
          ]
        }
      ]
    },
    {
      "cell_type": "markdown",
      "source": [
        "# We take a look at the node embeddings produced by our GNN (before training)."
      ],
      "metadata": {
        "id": "k-ns1aGwHnV7"
      }
    },
    {
      "cell_type": "code",
      "source": [
        "import matplotlib.pyplot as plt\n",
        "from sklearn.manifold import TSNE\n",
        "import seaborn as sns\n",
        "\n",
        "def visualize(h):\n",
        "    z = TSNE(n_components = 2, random_state = 0).fit_transform(h.detach().numpy())\n",
        "    plt.figure(figsize = (6,4),  dpi = 120)\n",
        "    sns.scatterplot(z[:, 0], z[:, 1], hue = Data[\"y\"], palette=sns.color_palette(\"bright\",3)).set(title = \"Gene expression data T-SNE projection before training (BGAT)\")"
      ],
      "metadata": {
        "id": "9X57t2luIdq-"
      },
      "execution_count": null,
      "outputs": []
    },
    {
      "cell_type": "code",
      "source": [
        "model = Myconv()\n",
        "h = model(Data[\"x\"], Data[\"edge_index\"])\n",
        "\n",
        "print(f'Embedding shape: {list(h.shape)}')\n",
        "visualize(h)"
      ],
      "metadata": {
        "id": "XIOt_sIuIgb6",
        "colab": {
          "base_uri": "https://localhost:8080/",
          "height": 607
        },
        "outputId": "0510b8e3-4fda-4af6-84d6-43a09f77e3f5"
      },
      "execution_count": null,
      "outputs": [
        {
          "output_type": "stream",
          "name": "stdout",
          "text": [
            "Embedding shape: [65, 3]\n"
          ]
        },
        {
          "output_type": "stream",
          "name": "stderr",
          "text": [
            "/usr/local/lib/python3.8/dist-packages/sklearn/manifold/_t_sne.py:780: FutureWarning: The default initialization in TSNE will change from 'random' to 'pca' in 1.2.\n",
            "  warnings.warn(\n",
            "/usr/local/lib/python3.8/dist-packages/sklearn/manifold/_t_sne.py:790: FutureWarning: The default learning rate in TSNE will change from 200.0 to 'auto' in 1.2.\n",
            "  warnings.warn(\n",
            "/usr/local/lib/python3.8/dist-packages/seaborn/_decorators.py:36: FutureWarning: Pass the following variables as keyword args: x, y. From version 0.12, the only valid positional argument will be `data`, and passing other arguments without an explicit keyword will result in an error or misinterpretation.\n",
            "  warnings.warn(\n"
          ]
        },
        {
          "output_type": "display_data",
          "data": {
            "text/plain": [
              "<Figure size 720x480 with 1 Axes>"
            ],
            "image/png": "[encoded data removed]"
          },
          "metadata": {
            "needs_background": "light"
          }
        }
      ]
    },
    {
      "cell_type": "markdown",
      "source": [
        "# Start training the model. "
      ],
      "metadata": {
        "id": "7VP4YMpiHqpG"
      }
    },
    {
      "cell_type": "code",
      "source": [
        "model = Myconv()\n",
        "criterion = torch.nn.CrossEntropyLoss()  # Define loss criterion.\n",
        "optimizer = torch.optim.Adam(model.parameters(),  lr = 0.0005, weight_decay = 5e-4)  # Define optimizer, an object for updating parameters\n",
        "#loss = loss + weight decay parameter * L2 norm of the weights, 1) To prevent overfitting 2) To keep the weights small and avoid exploding gradient\n",
        "\n",
        "def train(Data):\n",
        "    model.train()\n",
        "    optimizer.zero_grad()  # Clear gradients.\n",
        "    out = model(Data[\"x\"], Data[\"edge_index\"])\n",
        "    train_loss = criterion(out[Data[\"train_mask\"]], Data[\"y\"][Data[\"train_mask\"]])  # Compute the loss solely based on the training nodes.\n",
        "    train_loss.backward()  # Derive gradients.\n",
        "    optimizer.step()  # Update parameters based on gradients.\n",
        "    return train_loss\n",
        "\n",
        "\n",
        "def val(Data):\n",
        "      model.eval()\n",
        "      with torch.no_grad():\n",
        "        out = model(Data[\"x\"], Data[\"edge_index\"])\n",
        "        val_loss = criterion(out[Data[\"val_mask\"]], Data[\"y\"][Data[\"val_mask\"]])\n",
        "        #pred = out.argmax(dim=1)\n",
        "        #test_correct = pred[Data[\"val_mask\"]] == Data[\"y\"][Data[\"val_mask\"]]  # Check against ground-truth labels.\n",
        "        #test_acc = int(test_correct.sum()) / int(Data[\"val_mask\"].sum())  # Derive ratio of correct predictions.\n",
        "        return val_loss"
      ],
      "metadata": {
        "id": "rEEYCfq0IqJ0"
      },
      "execution_count": null,
      "outputs": []
    },
    {
      "cell_type": "code",
      "source": [
        "train_loss_ = []\n",
        "val_loss_ = []\n",
        "\n",
        "for epoch in range(1,101):\n",
        "\n",
        "  epoch_train_loss = []\n",
        "  epoch_val_loss = []\n",
        "  train_loss = train(Data)\n",
        "  val_loss = val(Data)\n",
        "\n",
        "\n",
        "\n",
        "\n",
        "\n",
        "\n",
        "  epoch_train_loss.append(train_loss.item())\n",
        "  epoch_val_loss.append(val_loss.item())\n",
        "\n",
        "\n",
        "\n",
        "\n",
        "  \n",
        "\n",
        "  val_loss_.append(sum(epoch_val_loss)/len(epoch_val_loss))\n",
        "  train_loss_.append(sum(epoch_train_loss)/len(epoch_train_loss))\n",
        "  print(epoch,'Train Loss: %.3f | val Loss: %.3f'%( train_loss,val_loss))"
      ],
      "metadata": {
        "id": "TC40WS2IItMC",
        "colab": {
          "base_uri": "https://localhost:8080/"
        },
        "outputId": "374c5148-805d-4295-e138-281897c6952f"
      },
      "execution_count": null,
      "outputs": [
        {
          "output_type": "stream",
          "name": "stdout",
          "text": [
            "1 Train Loss: 1.243 | val Loss: 1.390\n",
            "2 Train Loss: 1.224 | val Loss: 1.372\n",
            "3 Train Loss: 1.177 | val Loss: 1.338\n",
            "4 Train Loss: 1.131 | val Loss: 1.326\n",
            "5 Train Loss: 1.108 | val Loss: 1.297\n",
            "6 Train Loss: 1.105 | val Loss: 1.223\n",
            "7 Train Loss: 1.103 | val Loss: 1.176\n",
            "8 Train Loss: 1.098 | val Loss: 1.142\n",
            "9 Train Loss: 1.091 | val Loss: 1.103\n",
            "10 Train Loss: 1.088 | val Loss: 1.086\n",
            "11 Train Loss: 1.094 | val Loss: 1.082\n",
            "12 Train Loss: 1.093 | val Loss: 1.082\n",
            "13 Train Loss: 1.089 | val Loss: 1.100\n",
            "14 Train Loss: 1.082 | val Loss: 1.125\n",
            "15 Train Loss: 1.078 | val Loss: 1.141\n",
            "16 Train Loss: 1.073 | val Loss: 1.151\n",
            "17 Train Loss: 1.066 | val Loss: 1.151\n",
            "18 Train Loss: 1.058 | val Loss: 1.145\n",
            "19 Train Loss: 1.054 | val Loss: 1.147\n",
            "20 Train Loss: 1.052 | val Loss: 1.149\n",
            "21 Train Loss: 1.049 | val Loss: 1.154\n",
            "22 Train Loss: 1.043 | val Loss: 1.170\n",
            "23 Train Loss: 1.042 | val Loss: 1.170\n",
            "24 Train Loss: 1.042 | val Loss: 1.140\n",
            "25 Train Loss: 1.037 | val Loss: 1.104\n",
            "26 Train Loss: 1.032 | val Loss: 1.087\n",
            "27 Train Loss: 1.029 | val Loss: 1.080\n",
            "28 Train Loss: 1.022 | val Loss: 1.080\n",
            "29 Train Loss: 1.019 | val Loss: 1.075\n",
            "30 Train Loss: 1.015 | val Loss: 1.065\n",
            "31 Train Loss: 1.012 | val Loss: 1.061\n",
            "32 Train Loss: 1.010 | val Loss: 1.060\n",
            "33 Train Loss: 1.008 | val Loss: 1.060\n",
            "34 Train Loss: 1.008 | val Loss: 1.053\n",
            "35 Train Loss: 1.010 | val Loss: 1.053\n",
            "36 Train Loss: 1.008 | val Loss: 1.051\n",
            "37 Train Loss: 1.008 | val Loss: 1.048\n",
            "38 Train Loss: 1.007 | val Loss: 1.048\n",
            "39 Train Loss: 1.004 | val Loss: 1.051\n",
            "40 Train Loss: 1.003 | val Loss: 1.049\n",
            "41 Train Loss: 1.002 | val Loss: 1.043\n",
            "42 Train Loss: 0.998 | val Loss: 1.042\n",
            "43 Train Loss: 0.996 | val Loss: 1.037\n",
            "44 Train Loss: 0.994 | val Loss: 1.031\n",
            "45 Train Loss: 0.993 | val Loss: 1.023\n",
            "46 Train Loss: 0.991 | val Loss: 1.011\n",
            "47 Train Loss: 0.989 | val Loss: 0.994\n",
            "48 Train Loss: 0.987 | val Loss: 0.982\n",
            "49 Train Loss: 0.985 | val Loss: 0.976\n",
            "50 Train Loss: 0.984 | val Loss: 0.976\n",
            "51 Train Loss: 0.982 | val Loss: 0.980\n",
            "52 Train Loss: 0.979 | val Loss: 0.985\n",
            "53 Train Loss: 0.978 | val Loss: 0.984\n",
            "54 Train Loss: 0.977 | val Loss: 0.976\n",
            "55 Train Loss: 0.974 | val Loss: 0.967\n",
            "56 Train Loss: 0.972 | val Loss: 0.961\n",
            "57 Train Loss: 0.971 | val Loss: 0.955\n",
            "58 Train Loss: 0.969 | val Loss: 0.949\n",
            "59 Train Loss: 0.967 | val Loss: 0.945\n",
            "60 Train Loss: 0.965 | val Loss: 0.942\n",
            "61 Train Loss: 0.963 | val Loss: 0.937\n",
            "62 Train Loss: 0.961 | val Loss: 0.932\n",
            "63 Train Loss: 0.959 | val Loss: 0.928\n",
            "64 Train Loss: 0.958 | val Loss: 0.926\n",
            "65 Train Loss: 0.956 | val Loss: 0.924\n",
            "66 Train Loss: 0.954 | val Loss: 0.923\n",
            "67 Train Loss: 0.952 | val Loss: 0.921\n",
            "68 Train Loss: 0.950 | val Loss: 0.920\n",
            "69 Train Loss: 0.948 | val Loss: 0.919\n",
            "70 Train Loss: 0.945 | val Loss: 0.919\n",
            "71 Train Loss: 0.941 | val Loss: 0.920\n",
            "72 Train Loss: 0.937 | val Loss: 0.924\n",
            "73 Train Loss: 0.933 | val Loss: 0.943\n",
            "74 Train Loss: 0.957 | val Loss: 0.926\n",
            "75 Train Loss: 0.931 | val Loss: 0.922\n",
            "76 Train Loss: 0.933 | val Loss: 0.915\n",
            "77 Train Loss: 0.933 | val Loss: 0.911\n",
            "78 Train Loss: 0.928 | val Loss: 0.919\n",
            "79 Train Loss: 0.927 | val Loss: 0.917\n",
            "80 Train Loss: 0.929 | val Loss: 0.900\n",
            "81 Train Loss: 0.925 | val Loss: 0.891\n",
            "82 Train Loss: 0.925 | val Loss: 0.889\n",
            "83 Train Loss: 0.926 | val Loss: 0.882\n",
            "84 Train Loss: 0.924 | val Loss: 0.883\n",
            "85 Train Loss: 0.921 | val Loss: 0.895\n",
            "86 Train Loss: 0.920 | val Loss: 0.897\n",
            "87 Train Loss: 0.917 | val Loss: 0.898\n",
            "88 Train Loss: 0.917 | val Loss: 0.887\n",
            "89 Train Loss: 0.915 | val Loss: 0.882\n",
            "90 Train Loss: 0.914 | val Loss: 0.880\n",
            "91 Train Loss: 0.912 | val Loss: 0.880\n",
            "92 Train Loss: 0.909 | val Loss: 0.886\n",
            "93 Train Loss: 0.910 | val Loss: 0.876\n",
            "94 Train Loss: 0.908 | val Loss: 0.869\n",
            "95 Train Loss: 0.905 | val Loss: 0.871\n",
            "96 Train Loss: 0.905 | val Loss: 0.859\n",
            "97 Train Loss: 0.902 | val Loss: 0.870\n",
            "98 Train Loss: 0.899 | val Loss: 0.880\n",
            "99 Train Loss: 0.899 | val Loss: 0.856\n",
            "100 Train Loss: 0.899 | val Loss: 0.871\n"
          ]
        }
      ]
    },
    {
      "cell_type": "markdown",
      "source": [
        "# Visualize train loss and val loss."
      ],
      "metadata": {
        "id": "rECAVfL-HuM3"
      }
    },
    {
      "cell_type": "code",
      "source": [
        "plt.plot(train_loss_, \"m\", linewidth = 3)\n",
        "plt.plot(val_loss_, \"k\", linewidth = 3)\n",
        "plt.xlabel('epoch')\n",
        "plt.ylabel('loss')\n",
        "plt.legend(['Train','Val'])\n",
        "plt.title('Train vs Val Loss for the gene expression (BGAT)')\n",
        "plt.grid()\n",
        "plt.show()"
      ],
      "metadata": {
        "id": "jfWsribSIyCZ",
        "colab": {
          "base_uri": "https://localhost:8080/",
          "height": 295
        },
        "outputId": "20641781-6403-4c0e-cc9b-c679f33ce29a"
      },
      "execution_count": null,
      "outputs": [
        {
          "output_type": "display_data",
          "data": {
            "text/plain": [
              "<Figure size 432x288 with 1 Axes>"
            ],
            "image/png": "[encoded data removed]"
          },
          "metadata": {
            "needs_background": "light"
          }
        }
      ]
    },
    {
      "cell_type": "markdown",
      "source": [
        "# Compute the accuracy of the model."
      ],
      "metadata": {
        "id": "pWmrgyerHwqb"
      }
    },
    {
      "cell_type": "code",
      "source": [
        "def test(Data):\n",
        "      model.eval()\n",
        "      with torch.no_grad():\n",
        "        out = model(Data[\"x\"], Data[\"edge_index\"])\n",
        "        pred = out.argmax(dim=1)\n",
        "        test_correct = pred[Data[\"test_mask\"]] == Data[\"y\"][Data[\"test_mask\"]]  # Check against ground-truth labels.\n",
        "        test_acc = int(test_correct.sum()) / int(Data[\"test_mask\"].sum())  # Derive ratio of correct predictions.\n",
        "        return test_acc"
      ],
      "metadata": {
        "id": "AYuzbP8QI1FB"
      },
      "execution_count": null,
      "outputs": []
    },
    {
      "cell_type": "code",
      "source": [
        "test_acc = test(Data)\n",
        "print(f'Test Accuracy: {100*test_acc:.2f}')"
      ],
      "metadata": {
        "id": "Bo8skfVlI3Cj",
        "colab": {
          "base_uri": "https://localhost:8080/"
        },
        "outputId": "3ea67c0f-d98f-43f6-bcc1-981fdfd0aab1"
      },
      "execution_count": null,
      "outputs": [
        {
          "output_type": "stream",
          "name": "stdout",
          "text": [
            "Test Accuracy: 80.00\n"
          ]
        }
      ]
    },
    {
      "cell_type": "markdown",
      "source": [
        "# We take a look at the node embeddings produced by our GNN (after training)."
      ],
      "metadata": {
        "id": "3TLQJ02SH0Nf"
      }
    },
    {
      "cell_type": "code",
      "source": [
        "import matplotlib.pyplot as plt\n",
        "from sklearn.manifold import TSNE\n",
        "import seaborn as sns\n",
        "\n",
        "def visualize(h):\n",
        "    z = TSNE(n_components = 2, random_state = 0).fit_transform(h.detach().numpy())\n",
        "    plt.figure(figsize = (6,4),  dpi = 120)\n",
        "    sns.scatterplot(z[:, 0], z[:, 1], hue = Data[\"y\"], palette=sns.color_palette(\"bright\",3)).set(title = \"Gene expression data T-SNE projection after training (BGAT)\")"
      ],
      "metadata": {
        "id": "FX8ECiogWhB4"
      },
      "execution_count": null,
      "outputs": []
    },
    {
      "cell_type": "code",
      "source": [
        "model.eval()\n",
        "out = model(Data[\"x\"], Data[\"edge_index\"])\n",
        "visualize(out)"
      ],
      "metadata": {
        "id": "6sy0W82RI6l7",
        "colab": {
          "base_uri": "https://localhost:8080/",
          "height": 589
        },
        "outputId": "9774746b-7e72-4d54-c4ec-e8ad978eb9ed"
      },
      "execution_count": null,
      "outputs": [
        {
          "output_type": "stream",
          "name": "stderr",
          "text": [
            "/usr/local/lib/python3.8/dist-packages/sklearn/manifold/_t_sne.py:780: FutureWarning: The default initialization in TSNE will change from 'random' to 'pca' in 1.2.\n",
            "  warnings.warn(\n",
            "/usr/local/lib/python3.8/dist-packages/sklearn/manifold/_t_sne.py:790: FutureWarning: The default learning rate in TSNE will change from 200.0 to 'auto' in 1.2.\n",
            "  warnings.warn(\n",
            "/usr/local/lib/python3.8/dist-packages/seaborn/_decorators.py:36: FutureWarning: Pass the following variables as keyword args: x, y. From version 0.12, the only valid positional argument will be `data`, and passing other arguments without an explicit keyword will result in an error or misinterpretation.\n",
            "  warnings.warn(\n"
          ]
        },
        {
          "output_type": "display_data",
          "data": {
            "text/plain": [
              "<Figure size 720x480 with 1 Axes>"
            ],
            "image/png": "[encoded data removed]"
          },
          "metadata": {
            "needs_background": "light"
          }
        }
      ]
    },
    {
      "cell_type": "markdown",
      "source": [
        "# Confusion matrix."
      ],
      "metadata": {
        "id": "iczh9jlEH3bu"
      }
    },
    {
      "cell_type": "code",
      "source": [
        "pred = out.argmax(dim=1)\n",
        "pred"
      ],
      "metadata": {
        "id": "XSIj0zy8I8qk",
        "colab": {
          "base_uri": "https://localhost:8080/"
        },
        "outputId": "e4cbfd26-e062-48a4-9d0a-e5512bde05f1"
      },
      "execution_count": null,
      "outputs": [
        {
          "output_type": "execute_result",
          "data": {
            "text/plain": [
              "tensor([0, 0, 0, 0, 0, 0, 0, 0, 0, 0, 0, 1, 0, 0, 0, 0, 0, 0, 0, 0, 0, 0, 1, 0,\n",
              "        1, 1, 0, 1, 2, 1, 2, 1, 2, 2, 2, 1, 0, 0, 0, 1, 0, 0, 1, 1, 1, 1, 1, 1,\n",
              "        1, 1, 1, 0, 0, 1, 2, 0, 1, 0, 0, 2, 2, 1, 2, 2, 2])"
            ]
          },
          "metadata": {},
          "execution_count": 19
        }
      ]
    },
    {
      "cell_type": "code",
      "source": [
        "pred = pred[Data[\"test_mask\"]] "
      ],
      "metadata": {
        "id": "6iZ_7eqjI-Z7"
      },
      "execution_count": null,
      "outputs": []
    },
    {
      "cell_type": "code",
      "source": [
        "act = Data[\"y\"][Data[\"test_mask\"]]"
      ],
      "metadata": {
        "id": "ng3xKI4CJAY7"
      },
      "execution_count": null,
      "outputs": []
    },
    {
      "cell_type": "code",
      "source": [
        "data = {'y_Actual':    act,\n",
        "        'y_Predicted':pred\n",
        "        }\n",
        "\n",
        "df = pd.DataFrame(data, columns = ['y_Actual','y_Predicted'])\n",
        "df"
      ],
      "metadata": {
        "id": "aWwd8UfsJDVe",
        "colab": {
          "base_uri": "https://localhost:8080/",
          "height": 519
        },
        "outputId": "8e475d6f-1e08-401c-8f20-a4140febf152"
      },
      "execution_count": null,
      "outputs": [
        {
          "output_type": "execute_result",
          "data": {
            "text/plain": [
              "    y_Actual  y_Predicted\n",
              "0          0            0\n",
              "1          0            0\n",
              "2          0            0\n",
              "3          0            0\n",
              "4          0            0\n",
              "5          1            1\n",
              "6          2            2\n",
              "7          2            2\n",
              "8          2            1\n",
              "9          2            0\n",
              "10         1            0\n",
              "11         1            1\n",
              "12         1            1\n",
              "13         1            1\n",
              "14         2            2"
            ],
            "text/html": [
              "\n",
              "  <div id=\"df-87d3e3bc-8a6c-482d-ba8a-632beacb79c9\">\n",
              "    <div class=\"colab-df-container\">\n",
              "      <div>\n",
              "<style scoped>\n",
              "    .dataframe tbody tr th:only-of-type {\n",
              "        vertical-align: middle;\n",
              "    }\n",
              "\n",
              "    .dataframe tbody tr th {\n",
              "        vertical-align: top;\n",
              "    }\n",
              "\n",
              "    .dataframe thead th {\n",
              "        text-align: right;\n",
              "    }\n",
              "</style>\n",
              "<table border=\"1\" class=\"dataframe\">\n",
              "  <thead>\n",
              "    <tr style=\"text-align: right;\">\n",
              "      <th></th>\n",
              "      <th>y_Actual</th>\n",
              "      <th>y_Predicted</th>\n",
              "    </tr>\n",
              "  </thead>\n",
              "  <tbody>\n",
              "    <tr>\n",
              "      <th>0</th>\n",
              "      <td>0</td>\n",
              "      <td>0</td>\n",
              "    </tr>\n",
              "    <tr>\n",
              "      <th>1</th>\n",
              "      <td>0</td>\n",
              "      <td>0</td>\n",
              "    </tr>\n",
              "    <tr>\n",
              "      <th>2</th>\n",
              "      <td>0</td>\n",
              "      <td>0</td>\n",
              "    </tr>\n",
              "    <tr>\n",
              "      <th>3</th>\n",
              "      <td>0</td>\n",
              "      <td>0</td>\n",
              "    </tr>\n",
              "    <tr>\n",
              "      <th>4</th>\n",
              "      <td>0</td>\n",
              "      <td>0</td>\n",
              "    </tr>\n",
              "    <tr>\n",
              "      <th>5</th>\n",
              "      <td>1</td>\n",
              "      <td>1</td>\n",
              "    </tr>\n",
              "    <tr>\n",
              "      <th>6</th>\n",
              "      <td>2</td>\n",
              "      <td>2</td>\n",
              "    </tr>\n",
              "    <tr>\n",
              "      <th>7</th>\n",
              "      <td>2</td>\n",
              "      <td>2</td>\n",
              "    </tr>\n",
              "    <tr>\n",
              "      <th>8</th>\n",
              "      <td>2</td>\n",
              "      <td>1</td>\n",
              "    </tr>\n",
              "    <tr>\n",
              "      <th>9</th>\n",
              "      <td>2</td>\n",
              "      <td>0</td>\n",
              "    </tr>\n",
              "    <tr>\n",
              "      <th>10</th>\n",
              "      <td>1</td>\n",
              "      <td>0</td>\n",
              "    </tr>\n",
              "    <tr>\n",
              "      <th>11</th>\n",
              "      <td>1</td>\n",
              "      <td>1</td>\n",
              "    </tr>\n",
              "    <tr>\n",
              "      <th>12</th>\n",
              "      <td>1</td>\n",
              "      <td>1</td>\n",
              "    </tr>\n",
              "    <tr>\n",
              "      <th>13</th>\n",
              "      <td>1</td>\n",
              "      <td>1</td>\n",
              "    </tr>\n",
              "    <tr>\n",
              "      <th>14</th>\n",
              "      <td>2</td>\n",
              "      <td>2</td>\n",
              "    </tr>\n",
              "  </tbody>\n",
              "</table>\n",
              "</div>\n",
              "      <button class=\"colab-df-convert\" onclick=\"convertToInteractive('df-87d3e3bc-8a6c-482d-ba8a-632beacb79c9')\"\n",
              "              title=\"Convert this dataframe to an interactive table.\"\n",
              "              style=\"display:none;\">\n",
              "        \n",
              "  <svg xmlns=\"http://www.w3.org/2000/svg\" height=\"24px\"viewBox=\"0 0 24 24\"\n",
              "       width=\"24px\">\n",
              "    <path d=\"M0 0h24v24H0V0z\" fill=\"none\"/>\n",
              "    <path d=\"M18.56 5.44l.94 2.06.94-2.06 2.06-.94-2.06-.94-.94-2.06-.94 2.06-2.06.94zm-11 1L8.5 8.5l.94-2.06 2.06-.94-2.06-.94L8.5 2.5l-.94 2.06-2.06.94zm10 10l.94 2.06.94-2.06 2.06-.94-2.06-.94-.94-2.06-.94 2.06-2.06.94z\"/><path d=\"M17.41 7.96l-1.37-1.37c-.4-.4-.92-.59-1.43-.59-.52 0-1.04.2-1.43.59L10.3 9.45l-7.72 7.72c-.78.78-.78 2.05 0 2.83L4 21.41c.39.39.9.59 1.41.59.51 0 1.02-.2 1.41-.59l7.78-7.78 2.81-2.81c.8-.78.8-2.07 0-2.86zM5.41 20L4 18.59l7.72-7.72 1.47 1.35L5.41 20z\"/>\n",
              "  </svg>\n",
              "      </button>\n",
              "      \n",
              "  <style>\n",
              "    .colab-df-container {\n",
              "      display:flex;\n",
              "      flex-wrap:wrap;\n",
              "      gap: 12px;\n",
              "    }\n",
              "\n",
              "    .colab-df-convert {\n",
              "      background-color: #E8F0FE;\n",
              "      border: none;\n",
              "      border-radius: 50%;\n",
              "      cursor: pointer;\n",
              "      display: none;\n",
              "      fill: #1967D2;\n",
              "      height: 32px;\n",
              "      padding: 0 0 0 0;\n",
              "      width: 32px;\n",
              "    }\n",
              "\n",
              "    .colab-df-convert:hover {\n",
              "      background-color: #E2EBFA;\n",
              "      box-shadow: 0px 1px 2px rgba(60, 64, 67, 0.3), 0px 1px 3px 1px rgba(60, 64, 67, 0.15);\n",
              "      fill: #174EA6;\n",
              "    }\n",
              "\n",
              "    [theme=dark] .colab-df-convert {\n",
              "      background-color: #3B4455;\n",
              "      fill: #D2E3FC;\n",
              "    }\n",
              "\n",
              "    [theme=dark] .colab-df-convert:hover {\n",
              "      background-color: #434B5C;\n",
              "      box-shadow: 0px 1px 3px 1px rgba(0, 0, 0, 0.15);\n",
              "      filter: drop-shadow(0px 1px 2px rgba(0, 0, 0, 0.3));\n",
              "      fill: #FFFFFF;\n",
              "    }\n",
              "  </style>\n",
              "\n",
              "      <script>\n",
              "        const buttonEl =\n",
              "          document.querySelector('#df-87d3e3bc-8a6c-482d-ba8a-632beacb79c9 button.colab-df-convert');\n",
              "        buttonEl.style.display =\n",
              "          google.colab.kernel.accessAllowed ? 'block' : 'none';\n",
              "\n",
              "        async function convertToInteractive(key) {\n",
              "          const element = document.querySelector('#df-87d3e3bc-8a6c-482d-ba8a-632beacb79c9');\n",
              "          const dataTable =\n",
              "            await google.colab.kernel.invokeFunction('convertToInteractive',\n",
              "                                                     [key], {});\n",
              "          if (!dataTable) return;\n",
              "\n",
              "          const docLinkHtml = 'Like what you see? Visit the ' +\n",
              "            '<a target=\"_blank\" href=https://colab.research.google.com/notebooks/data_table.ipynb>data table notebook</a>'\n",
              "            + ' to learn more about interactive tables.';\n",
              "          element.innerHTML = '';\n",
              "          dataTable['output_type'] = 'display_data';\n",
              "          await google.colab.output.renderOutput(dataTable, element);\n",
              "          const docLink = document.createElement('div');\n",
              "          docLink.innerHTML = docLinkHtml;\n",
              "          element.appendChild(docLink);\n",
              "        }\n",
              "      </script>\n",
              "    </div>\n",
              "  </div>\n",
              "  "
            ]
          },
          "metadata": {},
          "execution_count": 22
        }
      ]
    },
    {
      "cell_type": "code",
      "source": [
        "confusion_matrix = pd.crosstab(data['y_Actual'], data['y_Predicted'], rownames=['Actual'], colnames = ['Predicted'], margins = True)\n",
        "import seaborn as sn\n",
        "sn.heatmap(confusion_matrix, annot=True,  cmap=\"Blues\")\n",
        "ax = plt.axes()\n",
        "ax.set_title('Gene expression, confusion matrix (BGAT)')\n",
        "plt.show()"
      ],
      "metadata": {
        "colab": {
          "base_uri": "https://localhost:8080/",
          "height": 352
        },
        "id": "N_NTobJEWOM3",
        "outputId": "4a6df28e-a124-457d-8ef9-39c067fb0bbe"
      },
      "execution_count": null,
      "outputs": [
        {
          "output_type": "stream",
          "name": "stderr",
          "text": [
            "<ipython-input-23-8d81dfc6e44f>:4: MatplotlibDeprecationWarning: Adding an axes using the same arguments as a previous axes currently reuses the earlier instance.  In a future version, a new instance will always be created and returned.  Meanwhile, this warning can be suppressed, and the future behavior ensured, by passing a unique label to each axes instance.\n",
            "  ax = plt.axes()\n"
          ]
        },
        {
          "output_type": "display_data",
          "data": {
            "text/plain": [
              "<Figure size 432x288 with 2 Axes>"
            ],
            "image/png": "[encoded data removed]"
          },
          "metadata": {
            "needs_background": "light"
          }
        }
      ]
    }
  ]
}
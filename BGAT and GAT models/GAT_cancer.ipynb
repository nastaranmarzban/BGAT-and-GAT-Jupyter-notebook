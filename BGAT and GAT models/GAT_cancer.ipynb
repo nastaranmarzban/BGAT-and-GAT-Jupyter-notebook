{
  "nbformat": 4,
  "nbformat_minor": 0,
  "metadata": {
    "colab": {
      "provenance": []
    },
    "kernelspec": {
      "name": "python3",
      "display_name": "Python 3"
    },
    "language_info": {
      "name": "python"
    }
  },
  "cells": [
    {
      "cell_type": "markdown",
      "source": [
        "## Mount to gdrive to read data, adjacency matrix, p_link and labels. "
      ],
      "metadata": {
        "id": "_cwLdfVLDJJJ"
      }
    },
    {
      "cell_type": "code",
      "execution_count": null,
      "metadata": {
        "colab": {
          "base_uri": "https://localhost:8080/"
        },
        "id": "v8CkurzUdwu2",
        "outputId": "a1775af7-3c09-4786-cad7-acaa37f900e5"
      },
      "outputs": [
        {
          "output_type": "stream",
          "name": "stdout",
          "text": [
            "Mounted at /gdrive\n"
          ]
        }
      ],
      "source": [
        "from google.colab import drive\n",
        "drive.mount('/gdrive')"
      ]
    },
    {
      "cell_type": "markdown",
      "source": [
        "# Install pandas to read csv files from gdrive. Install torch and numpy which are packages that are needed durind coding."
      ],
      "metadata": {
        "id": "0RMa-K_eDP8a"
      }
    },
    {
      "cell_type": "code",
      "source": [
        "!pip install pandas\n",
        "import pandas as pd\n",
        "import torch\n",
        "import numpy as np"
      ],
      "metadata": {
        "colab": {
          "base_uri": "https://localhost:8080/"
        },
        "id": "WAFYDzc4d4pI",
        "outputId": "f611b326-5823-4515-e67c-489d63267d25"
      },
      "execution_count": null,
      "outputs": [
        {
          "output_type": "stream",
          "name": "stdout",
          "text": [
            "Looking in indexes: https://pypi.org/simple, https://us-python.pkg.dev/colab-wheels/public/simple/\n",
            "Requirement already satisfied: pandas in /usr/local/lib/python3.8/dist-packages (1.3.5)\n",
            "Requirement already satisfied: python-dateutil>=2.7.3 in /usr/local/lib/python3.8/dist-packages (from pandas) (2.8.2)\n",
            "Requirement already satisfied: numpy>=1.17.3 in /usr/local/lib/python3.8/dist-packages (from pandas) (1.21.6)\n",
            "Requirement already satisfied: pytz>=2017.3 in /usr/local/lib/python3.8/dist-packages (from pandas) (2022.6)\n",
            "Requirement already satisfied: six>=1.5 in /usr/local/lib/python3.8/dist-packages (from python-dateutil>=2.7.3->pandas) (1.15.0)\n"
          ]
        }
      ]
    },
    {
      "cell_type": "markdown",
      "source": [
        "# Load data which are processed in preprocessing_data_cancer.ipynb file."
      ],
      "metadata": {
        "id": "dDILf1cGDTEu"
      }
    },
    {
      "cell_type": "code",
      "source": [
        "path = F\"/gdrive/MyDrive/Cancer/cancer.pt\"\n",
        "Data = torch.load(path)\n",
        "Data"
      ],
      "metadata": {
        "colab": {
          "base_uri": "https://localhost:8080/"
        },
        "id": "NlYdWB7Gd50L",
        "outputId": "01a23937-6888-4f36-bdeb-20470353bbeb"
      },
      "execution_count": null,
      "outputs": [
        {
          "output_type": "execute_result",
          "data": {
            "text/plain": [
              "{'x': tensor([[1.7990e+01, 1.0380e+01, 1.2280e+02,  ..., 2.6540e-01, 4.6010e-01,\n",
              "          1.1890e-01],\n",
              "         [2.0570e+01, 1.7770e+01, 1.3290e+02,  ..., 1.8600e-01, 2.7500e-01,\n",
              "          8.9020e-02],\n",
              "         [1.9690e+01, 2.1250e+01, 1.3000e+02,  ..., 2.4300e-01, 3.6130e-01,\n",
              "          8.7580e-02],\n",
              "         ...,\n",
              "         [1.3030e+01, 1.8420e+01, 8.2610e+01,  ..., 5.0130e-02, 1.9870e-01,\n",
              "          6.1690e-02],\n",
              "         [1.3080e+01, 1.5710e+01, 8.5630e+01,  ..., 7.2830e-02, 3.1840e-01,\n",
              "          8.1830e-02],\n",
              "         [9.5040e+00, 1.2440e+01, 6.0340e+01,  ..., 6.2270e-02, 2.4500e-01,\n",
              "          7.7730e-02]]), 'edge_index': tensor([[ 0,  0,  0,  ..., 79, 79, 79],\n",
              "         [ 2,  3,  4,  ..., 72, 74, 76]]), 'y': tensor([0, 0, 0, 0, 0, 0, 0, 0, 0, 0, 0, 0, 0, 0, 0, 0, 0, 0, 0, 0, 0, 0, 0, 0,\n",
              "         0, 0, 0, 0, 0, 0, 0, 0, 0, 0, 0, 0, 0, 0, 0, 0, 1, 1, 1, 1, 1, 1, 1, 1,\n",
              "         1, 1, 1, 1, 1, 1, 1, 1, 1, 1, 1, 1, 1, 1, 1, 1, 1, 1, 1, 1, 1, 1, 1, 1,\n",
              "         1, 1, 1, 1, 1, 1, 1, 1]), 'train_mask': tensor([False, False,  True, False,  True, False, False, False, False, False,\n",
              "          True,  True, False, False, False,  True, False, False, False, False,\n",
              "         False, False,  True, False, False,  True, False,  True, False,  True,\n",
              "          True, False, False, False, False, False, False, False, False,  True,\n",
              "         False, False,  True,  True, False, False, False, False, False, False,\n",
              "         False, False, False, False,  True, False,  True, False, False, False,\n",
              "         False, False,  True, False,  True,  True,  True, False, False, False,\n",
              "         False, False, False, False,  True, False,  True, False,  True, False]), 'val_mask': tensor([False, False, False, False, False, False, False, False, False, False,\n",
              "         False, False, False, False, False, False, False, False,  True, False,\n",
              "          True, False, False, False, False, False, False, False,  True, False,\n",
              "         False, False, False, False, False,  True, False,  True, False, False,\n",
              "         False, False, False, False, False, False, False, False, False, False,\n",
              "         False, False,  True,  True, False, False, False, False,  True, False,\n",
              "         False, False, False, False, False, False, False,  True, False, False,\n",
              "         False, False, False,  True, False, False, False, False, False, False]), 'test_mask': tensor([ True,  True, False,  True, False,  True,  True,  True,  True,  True,\n",
              "         False, False,  True,  True,  True, False,  True,  True, False,  True,\n",
              "         False,  True, False,  True,  True, False,  True, False, False, False,\n",
              "         False,  True,  True,  True,  True, False,  True, False,  True, False,\n",
              "          True,  True, False, False,  True,  True,  True,  True,  True,  True,\n",
              "          True,  True, False, False, False,  True, False,  True, False,  True,\n",
              "          True,  True, False,  True, False, False, False, False,  True,  True,\n",
              "          True,  True,  True, False, False,  True, False,  True, False,  True])}"
            ]
          },
          "metadata": {},
          "execution_count": 3
        }
      ]
    },
    {
      "cell_type": "markdown",
      "source": [
        "# Gather some statistics about the graph."
      ],
      "metadata": {
        "id": "v-qIE6WpDXBm"
      }
    },
    {
      "cell_type": "code",
      "source": [
        "print(f'Number of nodes: {Data[\"x\"].size(0)}')\n",
        "print(f'Number of features: {Data[\"x\"].size(1)}')\n",
        "print(f'Number of classes: {torch.numel(torch.unique(Data[\"y\"],sorted=True))}')\n",
        "print(f'Number of edges: {Data[\"edge_index\"].size(1)}')\n",
        "print(f'Average node degree: {Data[\"edge_index\"].size(1) / Data[\"x\"].size(0):.2f}')\n",
        "print(f'Number of training nodes: {Data[\"train_mask\"].sum()}')\n",
        "print(f'Number of testing nodes: {Data[\"test_mask\"].sum()}')\n",
        "print(f'Training node label rate: {int(Data[\"train_mask\"].sum()) /  Data[\"x\"].size(0):.2f}')"
      ],
      "metadata": {
        "colab": {
          "base_uri": "https://localhost:8080/"
        },
        "id": "E8DOzb2_eCGi",
        "outputId": "05f7a5a2-0b42-4e77-a08a-0e4567293d92"
      },
      "execution_count": null,
      "outputs": [
        {
          "output_type": "stream",
          "name": "stdout",
          "text": [
            "Number of nodes: 80\n",
            "Number of features: 30\n",
            "Number of classes: 2\n",
            "Number of edges: 872\n",
            "Average node degree: 10.90\n",
            "Number of training nodes: 22\n",
            "Number of testing nodes: 48\n",
            "Training node label rate: 0.28\n"
          ]
        }
      ]
    },
    {
      "cell_type": "code",
      "source": [
        "path = F\"/gdrive/MyDrive/Cancer/p_links_cancer.pt\"\n",
        "p_link = torch.load(path)\n",
        "print(p_link.size())\n",
        "print(p_link.dtype)\n",
        "print(p_link.type())"
      ],
      "metadata": {
        "colab": {
          "base_uri": "https://localhost:8080/"
        },
        "id": "fxauw3WTeEEb",
        "outputId": "1d2e2b94-4b9c-4189-ab7e-947b78f182e8"
      },
      "execution_count": null,
      "outputs": [
        {
          "output_type": "stream",
          "name": "stdout",
          "text": [
            "torch.Size([80, 80])\n",
            "torch.float32\n",
            "torch.FloatTensor\n"
          ]
        }
      ]
    },
    {
      "cell_type": "markdown",
      "source": [
        "# Install torch_geometic."
      ],
      "metadata": {
        "id": "loQWNm9qDbiY"
      }
    },
    {
      "cell_type": "code",
      "source": [
        "import os\n",
        "os.environ['TORCH'] = torch.__version__\n",
        "print(torch.__version__)\n",
        "\n",
        "!pip install -q torch-scatter -f https://data.pyg.org/whl/torch-${TORCH}.html\n",
        "!pip install -q torch-sparse -f https://data.pyg.org/whl/torch-${TORCH}.html\n",
        "!pip install -q git+https://github.com/pyg-team/pytorch_geometric.git"
      ],
      "metadata": {
        "colab": {
          "base_uri": "https://localhost:8080/"
        },
        "id": "JIGFK6loeJBU",
        "outputId": "53a115ec-0f80-4d1f-d1f6-056ec6b9212a"
      },
      "execution_count": null,
      "outputs": [
        {
          "output_type": "stream",
          "name": "stdout",
          "text": [
            "1.13.0+cu116\n",
            "\u001b[K     |████████████████████████████████| 9.4 MB 25.5 MB/s \n",
            "\u001b[K     |████████████████████████████████| 4.6 MB 21.6 MB/s \n",
            "\u001b[K     |████████████████████████████████| 280 kB 12.9 MB/s \n",
            "\u001b[?25h  Building wheel for torch-geometric (setup.py) ... \u001b[?25l\u001b[?25hdone\n"
          ]
        }
      ]
    },
    {
      "cell_type": "code",
      "source": [
        "from torch_geometric.nn import MessagePassing\n",
        "import torch_geometric.nn\n",
        "import torch.nn.functional as F\n",
        "from torch_geometric.nn import GATConv"
      ],
      "metadata": {
        "id": "fyLXEdnteKhT"
      },
      "execution_count": null,
      "outputs": []
    },
    {
      "cell_type": "markdown",
      "source": [
        "# Creating message passing network."
      ],
      "metadata": {
        "id": "S34e08bPDfLP"
      }
    },
    {
      "cell_type": "code",
      "source": [
        "class Myconv(torch.nn.Module):\n",
        "    def __init__(self):\n",
        "        super().__init__()\n",
        "        torch.manual_seed(2)\n",
        "        self.conv1 = GATConv(in_channels = 30, out_channels = 30)\n",
        "        self.conv2 =  GATConv(30,10)\n",
        "        self.conv3 =  GATConv(10,2)\n",
        "     \n",
        "        \n",
        "\n",
        "    def forward(self, x, edge_index):\n",
        "        h = self.conv1(x, edge_index)\n",
        "        h = F.torch.tanh(h)\n",
        "        h = self.conv2(h, edge_index)\n",
        "        h = F.torch.tanh(h)\n",
        "        h = self.conv3(h, edge_index)# Final GNN embedding space.\n",
        "        h = F.torch.tanh(h)\n",
        "        return h\n",
        "        \n",
        "\n",
        "model = Myconv()\n",
        "print(model)\n",
        "print(model.forward(Data[\"x\"], Data[\"edge_index\"]))"
      ],
      "metadata": {
        "colab": {
          "base_uri": "https://localhost:8080/"
        },
        "id": "8qWeuLU4eM1s",
        "outputId": "e61c3d37-5f81-436e-e6c2-ae7712d1f0c3"
      },
      "execution_count": null,
      "outputs": [
        {
          "output_type": "stream",
          "name": "stdout",
          "text": [
            "Myconv(\n",
            "  (conv1): GATConv(30, 30, heads=1)\n",
            "  (conv2): GATConv(30, 10, heads=1)\n",
            "  (conv3): GATConv(10, 2, heads=1)\n",
            ")\n",
            "tensor([[ 0.9850, -0.3719],\n",
            "        [ 0.9852, -0.3369],\n",
            "        [ 0.9836, -0.3399],\n",
            "        [ 0.9850, -0.3725],\n",
            "        [ 0.9855, -0.3528],\n",
            "        [ 0.9839, -0.3196],\n",
            "        [ 0.9857, -0.3511],\n",
            "        [ 0.9849, -0.3387],\n",
            "        [ 0.9852, -0.3534],\n",
            "        [ 0.9844, -0.3152],\n",
            "        [ 0.9848, -0.3064],\n",
            "        [ 0.9853, -0.3682],\n",
            "        [ 0.9842, -0.2949],\n",
            "        [ 0.9850, -0.3705],\n",
            "        [ 0.9853, -0.3580],\n",
            "        [ 0.9846, -0.3157],\n",
            "        [ 0.9843, -0.3241],\n",
            "        [ 0.9846, -0.3457],\n",
            "        [ 0.9848, -0.3468],\n",
            "        [ 0.9848, -0.3366],\n",
            "        [ 0.9853, -0.3621],\n",
            "        [ 0.9854, -0.3462],\n",
            "        [ 0.9852, -0.3531],\n",
            "        [ 0.9845, -0.3353],\n",
            "        [ 0.9849, -0.3458],\n",
            "        [ 0.9851, -0.3621],\n",
            "        [ 0.9829, -0.2771],\n",
            "        [ 0.9860, -0.3540],\n",
            "        [ 0.9849, -0.3438],\n",
            "        [ 0.9857, -0.3436],\n",
            "        [ 0.9843, -0.3232],\n",
            "        [ 0.9853, -0.3633],\n",
            "        [ 0.9850, -0.3014],\n",
            "        [ 0.9851, -0.3457],\n",
            "        [ 0.9834, -0.2803],\n",
            "        [ 0.9843, -0.3411],\n",
            "        [ 0.9848, -0.3263],\n",
            "        [ 0.9853, -0.3233],\n",
            "        [ 0.9849, -0.3586],\n",
            "        [ 0.9851, -0.3421],\n",
            "        [ 0.9848, -0.3089],\n",
            "        [ 0.9845, -0.3037],\n",
            "        [ 0.9854, -0.3517],\n",
            "        [ 0.9838, -0.3099],\n",
            "        [ 0.9848, -0.3076],\n",
            "        [ 0.9844, -0.3351],\n",
            "        [ 0.9853, -0.3359],\n",
            "        [ 0.9830, -0.2967],\n",
            "        [ 0.9835, -0.3009],\n",
            "        [ 0.9852, -0.3406],\n",
            "        [ 0.9849, -0.3496],\n",
            "        [ 0.9851, -0.3212],\n",
            "        [ 0.9850, -0.3050],\n",
            "        [ 0.9846, -0.3378],\n",
            "        [ 0.9833, -0.2827],\n",
            "        [ 0.9848, -0.3646],\n",
            "        [ 0.9847, -0.3576],\n",
            "        [ 0.9848, -0.3361],\n",
            "        [ 0.9838, -0.3062],\n",
            "        [ 0.9847, -0.3463],\n",
            "        [ 0.9850, -0.3269],\n",
            "        [ 0.9840, -0.3019],\n",
            "        [ 0.9856, -0.3475],\n",
            "        [ 0.9859, -0.3293],\n",
            "        [ 0.9854, -0.3519],\n",
            "        [ 0.9841, -0.3296],\n",
            "        [ 0.9851, -0.3523],\n",
            "        [ 0.9842, -0.3395],\n",
            "        [ 0.9839, -0.2994],\n",
            "        [ 0.9835, -0.2918],\n",
            "        [ 0.9851, -0.3169],\n",
            "        [ 0.9833, -0.3218],\n",
            "        [ 0.9851, -0.3628],\n",
            "        [ 0.9854, -0.3506],\n",
            "        [ 0.9824, -0.2399],\n",
            "        [ 0.9857, -0.3724],\n",
            "        [ 0.9849, -0.3478],\n",
            "        [ 0.9851, -0.3539],\n",
            "        [ 0.9847, -0.3497],\n",
            "        [ 0.9850, -0.3106]], grad_fn=<TanhBackward0>)\n"
          ]
        }
      ]
    },
    {
      "cell_type": "markdown",
      "source": [
        "# We take a look at the node embeddings produced by GAT (before training)."
      ],
      "metadata": {
        "id": "emzu32TxDjJU"
      }
    },
    {
      "cell_type": "code",
      "source": [
        "import matplotlib.pyplot as plt\n",
        "from sklearn.manifold import TSNE\n",
        "import seaborn as sns\n",
        "\n",
        "def visualize(h):\n",
        "    z = TSNE(n_components = 2, random_state = 0).fit_transform(h.detach().numpy())\n",
        "    plt.figure(figsize = (6,4),  dpi = 120)\n",
        "    sns.scatterplot(z[:, 0], z[:, 1], hue = Data[\"y\"], palette=sns.color_palette(\"bright\",2)).set(title = \"Breast cancer dataset T-SNE projection before training (GAT)\")"
      ],
      "metadata": {
        "id": "yQMM7Qq9eQuD"
      },
      "execution_count": null,
      "outputs": []
    },
    {
      "cell_type": "code",
      "source": [
        "model = Myconv()\n",
        "h = model(Data[\"x\"], Data[\"edge_index\"])\n",
        "\n",
        "print(f'Embedding shape: {list(h.shape)}')\n",
        "visualize(h)"
      ],
      "metadata": {
        "colab": {
          "base_uri": "https://localhost:8080/"
        },
        "id": "R1s8wU4-eSaa",
        "outputId": "85d844fe-854b-4ef6-e8e1-26b77468e5a6"
      },
      "execution_count": null,
      "outputs": [
        {
          "output_type": "stream",
          "name": "stdout",
          "text": [
            "Embedding shape: [80, 2]\n"
          ]
        },
        {
          "output_type": "stream",
          "name": "stderr",
          "text": [
            "/usr/local/lib/python3.8/dist-packages/sklearn/manifold/_t_sne.py:780: FutureWarning: The default initialization in TSNE will change from 'random' to 'pca' in 1.2.\n",
            "  warnings.warn(\n",
            "/usr/local/lib/python3.8/dist-packages/sklearn/manifold/_t_sne.py:790: FutureWarning: The default learning rate in TSNE will change from 200.0 to 'auto' in 1.2.\n",
            "  warnings.warn(\n",
            "/usr/local/lib/python3.8/dist-packages/seaborn/_decorators.py:36: FutureWarning: Pass the following variables as keyword args: x, y. From version 0.12, the only valid positional argument will be `data`, and passing other arguments without an explicit keyword will result in an error or misinterpretation.\n",
            "  warnings.warn(\n"
          ]
        },
        {
          "output_type": "display_data",
          "data": {
            "text/plain": [
              "<Figure size 720x480 with 1 Axes>"
            ],
            "image/png": "[encoded data removed]"
          },
          "metadata": {
            "needs_background": "light"
          }
        }
      ]
    },
    {
      "cell_type": "markdown",
      "source": [
        "# Start training the model. "
      ],
      "metadata": {
        "id": "koWOvdPvDnC_"
      }
    },
    {
      "cell_type": "code",
      "source": [
        "model = Myconv()\n",
        "criterion = torch.nn.CrossEntropyLoss()  # Define loss criterion.\n",
        "optimizer = torch.optim.Adam(model.parameters(),    lr = 0.0005, weight_decay = 5e-4) # Define optimizer, an object for updating parameters\n",
        "#loss = loss + weight decay parameter * L2 norm of the weights, 1) To prevent overfitting 2) To keep the weights small and avoid exploding gradient\n",
        "\n",
        "def train(Data):\n",
        "    model.train()\n",
        "    optimizer.zero_grad()  # Clear gradients.\n",
        "    out= model(Data[\"x\"], Data[\"edge_index\"])\n",
        "    train_loss = criterion(out[Data[\"train_mask\"]], Data[\"y\"][Data[\"train_mask\"]])  # Compute the loss solely based on the training nodes.\n",
        "    train_loss.backward()  # Derive gradients.\n",
        "    optimizer.step()  # Update parameters based on gradients.\n",
        "    return train_loss\n",
        "\n",
        "\n",
        "def val(Data):\n",
        "      model.eval()\n",
        "      with torch.no_grad():\n",
        "        out= model(Data[\"x\"], Data[\"edge_index\"])\n",
        "        val_loss = criterion(out[Data[\"val_mask\"]], Data[\"y\"][Data[\"val_mask\"]])\n",
        "        return val_loss"
      ],
      "metadata": {
        "id": "S3wK2a72eUYT"
      },
      "execution_count": null,
      "outputs": []
    },
    {
      "cell_type": "code",
      "source": [
        "train_loss_ = []\n",
        "val_loss_ = []\n",
        "\n",
        "for epoch in range(1, 201):\n",
        "\n",
        "  epoch_train_loss= []\n",
        "  epoch_val_loss= []\n",
        "  train_loss = train(Data)\n",
        "  val_loss = val(Data)\n",
        "\n",
        "\n",
        "\n",
        "\n",
        "\n",
        "\n",
        "  epoch_train_loss.append(train_loss.item())\n",
        "  epoch_val_loss.append(val_loss.item())\n",
        "\n",
        "\n",
        "\n",
        "\n",
        "  \n",
        "\n",
        "  val_loss_.append(sum(epoch_val_loss)/len(epoch_val_loss))\n",
        "  train_loss_.append(sum(epoch_train_loss)/len(epoch_train_loss))\n",
        "  print(epoch,'Train Loss: %.3f | val Loss: %.3f'%( train_loss,val_loss))"
      ],
      "metadata": {
        "colab": {
          "base_uri": "https://localhost:8080/"
        },
        "id": "50AjPkFyebZD",
        "outputId": "158fd59a-8d83-4734-9225-6a037c4e5ace"
      },
      "execution_count": null,
      "outputs": [
        {
          "output_type": "stream",
          "name": "stdout",
          "text": [
            "1 Train Loss: 0.894 | val Loss: 0.880\n",
            "2 Train Loss: 0.883 | val Loss: 0.871\n",
            "3 Train Loss: 0.874 | val Loss: 0.861\n",
            "4 Train Loss: 0.863 | val Loss: 0.849\n",
            "5 Train Loss: 0.850 | val Loss: 0.836\n",
            "6 Train Loss: 0.835 | val Loss: 0.825\n",
            "7 Train Loss: 0.823 | val Loss: 0.814\n",
            "8 Train Loss: 0.813 | val Loss: 0.803\n",
            "9 Train Loss: 0.802 | val Loss: 0.791\n",
            "10 Train Loss: 0.789 | val Loss: 0.781\n",
            "11 Train Loss: 0.776 | val Loss: 0.774\n",
            "12 Train Loss: 0.769 | val Loss: 0.766\n",
            "13 Train Loss: 0.762 | val Loss: 0.759\n",
            "14 Train Loss: 0.754 | val Loss: 0.752\n",
            "15 Train Loss: 0.747 | val Loss: 0.746\n",
            "16 Train Loss: 0.741 | val Loss: 0.740\n",
            "17 Train Loss: 0.736 | val Loss: 0.734\n",
            "18 Train Loss: 0.730 | val Loss: 0.728\n",
            "19 Train Loss: 0.724 | val Loss: 0.722\n",
            "20 Train Loss: 0.719 | val Loss: 0.718\n",
            "21 Train Loss: 0.715 | val Loss: 0.715\n",
            "22 Train Loss: 0.711 | val Loss: 0.712\n",
            "23 Train Loss: 0.708 | val Loss: 0.709\n",
            "24 Train Loss: 0.706 | val Loss: 0.706\n",
            "25 Train Loss: 0.703 | val Loss: 0.703\n",
            "26 Train Loss: 0.702 | val Loss: 0.701\n",
            "27 Train Loss: 0.700 | val Loss: 0.700\n",
            "28 Train Loss: 0.698 | val Loss: 0.698\n",
            "29 Train Loss: 0.697 | val Loss: 0.697\n",
            "30 Train Loss: 0.696 | val Loss: 0.696\n",
            "31 Train Loss: 0.694 | val Loss: 0.694\n",
            "32 Train Loss: 0.693 | val Loss: 0.693\n",
            "33 Train Loss: 0.692 | val Loss: 0.692\n",
            "34 Train Loss: 0.692 | val Loss: 0.692\n",
            "35 Train Loss: 0.691 | val Loss: 0.691\n",
            "36 Train Loss: 0.690 | val Loss: 0.690\n",
            "37 Train Loss: 0.689 | val Loss: 0.689\n",
            "38 Train Loss: 0.688 | val Loss: 0.689\n",
            "39 Train Loss: 0.687 | val Loss: 0.688\n",
            "40 Train Loss: 0.687 | val Loss: 0.688\n",
            "41 Train Loss: 0.686 | val Loss: 0.687\n",
            "42 Train Loss: 0.686 | val Loss: 0.687\n",
            "43 Train Loss: 0.686 | val Loss: 0.687\n",
            "44 Train Loss: 0.685 | val Loss: 0.686\n",
            "45 Train Loss: 0.685 | val Loss: 0.686\n",
            "46 Train Loss: 0.685 | val Loss: 0.686\n",
            "47 Train Loss: 0.685 | val Loss: 0.685\n",
            "48 Train Loss: 0.684 | val Loss: 0.685\n",
            "49 Train Loss: 0.684 | val Loss: 0.685\n",
            "50 Train Loss: 0.684 | val Loss: 0.685\n",
            "51 Train Loss: 0.684 | val Loss: 0.685\n",
            "52 Train Loss: 0.684 | val Loss: 0.685\n",
            "53 Train Loss: 0.684 | val Loss: 0.685\n",
            "54 Train Loss: 0.684 | val Loss: 0.684\n",
            "55 Train Loss: 0.683 | val Loss: 0.684\n",
            "56 Train Loss: 0.683 | val Loss: 0.684\n",
            "57 Train Loss: 0.683 | val Loss: 0.684\n",
            "58 Train Loss: 0.683 | val Loss: 0.684\n",
            "59 Train Loss: 0.683 | val Loss: 0.684\n",
            "60 Train Loss: 0.683 | val Loss: 0.684\n",
            "61 Train Loss: 0.683 | val Loss: 0.684\n",
            "62 Train Loss: 0.683 | val Loss: 0.684\n",
            "63 Train Loss: 0.683 | val Loss: 0.684\n",
            "64 Train Loss: 0.683 | val Loss: 0.684\n",
            "65 Train Loss: 0.683 | val Loss: 0.684\n",
            "66 Train Loss: 0.682 | val Loss: 0.683\n",
            "67 Train Loss: 0.682 | val Loss: 0.683\n",
            "68 Train Loss: 0.682 | val Loss: 0.683\n",
            "69 Train Loss: 0.682 | val Loss: 0.683\n",
            "70 Train Loss: 0.682 | val Loss: 0.683\n",
            "71 Train Loss: 0.682 | val Loss: 0.683\n",
            "72 Train Loss: 0.682 | val Loss: 0.683\n",
            "73 Train Loss: 0.682 | val Loss: 0.683\n",
            "74 Train Loss: 0.680 | val Loss: 0.683\n",
            "75 Train Loss: 0.680 | val Loss: 0.683\n",
            "76 Train Loss: 0.679 | val Loss: 0.684\n",
            "77 Train Loss: 0.679 | val Loss: 0.684\n",
            "78 Train Loss: 0.676 | val Loss: 0.684\n",
            "79 Train Loss: 0.675 | val Loss: 0.684\n",
            "80 Train Loss: 0.672 | val Loss: 0.683\n",
            "81 Train Loss: 0.672 | val Loss: 0.683\n",
            "82 Train Loss: 0.671 | val Loss: 0.682\n",
            "83 Train Loss: 0.674 | val Loss: 0.682\n",
            "84 Train Loss: 0.672 | val Loss: 0.682\n",
            "85 Train Loss: 0.668 | val Loss: 0.682\n",
            "86 Train Loss: 0.668 | val Loss: 0.682\n",
            "87 Train Loss: 0.668 | val Loss: 0.681\n",
            "88 Train Loss: 0.667 | val Loss: 0.681\n",
            "89 Train Loss: 0.667 | val Loss: 0.681\n",
            "90 Train Loss: 0.666 | val Loss: 0.681\n",
            "91 Train Loss: 0.666 | val Loss: 0.681\n",
            "92 Train Loss: 0.666 | val Loss: 0.681\n",
            "93 Train Loss: 0.665 | val Loss: 0.681\n",
            "94 Train Loss: 0.664 | val Loss: 0.681\n",
            "95 Train Loss: 0.663 | val Loss: 0.680\n",
            "96 Train Loss: 0.662 | val Loss: 0.680\n",
            "97 Train Loss: 0.661 | val Loss: 0.680\n",
            "98 Train Loss: 0.660 | val Loss: 0.679\n",
            "99 Train Loss: 0.659 | val Loss: 0.679\n",
            "100 Train Loss: 0.658 | val Loss: 0.679\n",
            "101 Train Loss: 0.657 | val Loss: 0.678\n",
            "102 Train Loss: 0.656 | val Loss: 0.678\n",
            "103 Train Loss: 0.654 | val Loss: 0.678\n",
            "104 Train Loss: 0.653 | val Loss: 0.677\n",
            "105 Train Loss: 0.652 | val Loss: 0.677\n",
            "106 Train Loss: 0.650 | val Loss: 0.676\n",
            "107 Train Loss: 0.649 | val Loss: 0.676\n",
            "108 Train Loss: 0.648 | val Loss: 0.675\n",
            "109 Train Loss: 0.646 | val Loss: 0.674\n",
            "110 Train Loss: 0.644 | val Loss: 0.674\n",
            "111 Train Loss: 0.642 | val Loss: 0.673\n",
            "112 Train Loss: 0.640 | val Loss: 0.672\n",
            "113 Train Loss: 0.638 | val Loss: 0.672\n",
            "114 Train Loss: 0.636 | val Loss: 0.672\n",
            "115 Train Loss: 0.634 | val Loss: 0.671\n",
            "116 Train Loss: 0.632 | val Loss: 0.670\n",
            "117 Train Loss: 0.630 | val Loss: 0.669\n",
            "118 Train Loss: 0.628 | val Loss: 0.670\n",
            "119 Train Loss: 0.626 | val Loss: 0.670\n",
            "120 Train Loss: 0.624 | val Loss: 0.669\n",
            "121 Train Loss: 0.621 | val Loss: 0.668\n",
            "122 Train Loss: 0.619 | val Loss: 0.667\n",
            "123 Train Loss: 0.617 | val Loss: 0.667\n",
            "124 Train Loss: 0.614 | val Loss: 0.668\n",
            "125 Train Loss: 0.612 | val Loss: 0.667\n",
            "126 Train Loss: 0.610 | val Loss: 0.665\n",
            "127 Train Loss: 0.607 | val Loss: 0.665\n",
            "128 Train Loss: 0.605 | val Loss: 0.663\n",
            "129 Train Loss: 0.603 | val Loss: 0.663\n",
            "130 Train Loss: 0.601 | val Loss: 0.664\n",
            "131 Train Loss: 0.599 | val Loss: 0.664\n",
            "132 Train Loss: 0.597 | val Loss: 0.662\n",
            "133 Train Loss: 0.594 | val Loss: 0.660\n",
            "134 Train Loss: 0.592 | val Loss: 0.660\n",
            "135 Train Loss: 0.590 | val Loss: 0.661\n",
            "136 Train Loss: 0.588 | val Loss: 0.660\n",
            "137 Train Loss: 0.585 | val Loss: 0.657\n",
            "138 Train Loss: 0.584 | val Loss: 0.656\n",
            "139 Train Loss: 0.582 | val Loss: 0.658\n",
            "140 Train Loss: 0.579 | val Loss: 0.658\n",
            "141 Train Loss: 0.578 | val Loss: 0.656\n",
            "142 Train Loss: 0.575 | val Loss: 0.652\n",
            "143 Train Loss: 0.573 | val Loss: 0.651\n",
            "144 Train Loss: 0.571 | val Loss: 0.652\n",
            "145 Train Loss: 0.570 | val Loss: 0.651\n",
            "146 Train Loss: 0.568 | val Loss: 0.649\n",
            "147 Train Loss: 0.566 | val Loss: 0.647\n",
            "148 Train Loss: 0.564 | val Loss: 0.647\n",
            "149 Train Loss: 0.563 | val Loss: 0.648\n",
            "150 Train Loss: 0.561 | val Loss: 0.647\n",
            "151 Train Loss: 0.559 | val Loss: 0.644\n",
            "152 Train Loss: 0.558 | val Loss: 0.643\n",
            "153 Train Loss: 0.556 | val Loss: 0.644\n",
            "154 Train Loss: 0.555 | val Loss: 0.644\n",
            "155 Train Loss: 0.554 | val Loss: 0.644\n",
            "156 Train Loss: 0.552 | val Loss: 0.642\n",
            "157 Train Loss: 0.551 | val Loss: 0.639\n",
            "158 Train Loss: 0.550 | val Loss: 0.639\n",
            "159 Train Loss: 0.548 | val Loss: 0.639\n",
            "160 Train Loss: 0.547 | val Loss: 0.640\n",
            "161 Train Loss: 0.546 | val Loss: 0.638\n",
            "162 Train Loss: 0.544 | val Loss: 0.636\n",
            "163 Train Loss: 0.543 | val Loss: 0.635\n",
            "164 Train Loss: 0.542 | val Loss: 0.635\n",
            "165 Train Loss: 0.541 | val Loss: 0.636\n",
            "166 Train Loss: 0.540 | val Loss: 0.635\n",
            "167 Train Loss: 0.539 | val Loss: 0.634\n",
            "168 Train Loss: 0.538 | val Loss: 0.633\n",
            "169 Train Loss: 0.537 | val Loss: 0.633\n",
            "170 Train Loss: 0.536 | val Loss: 0.633\n",
            "171 Train Loss: 0.534 | val Loss: 0.633\n",
            "172 Train Loss: 0.533 | val Loss: 0.632\n",
            "173 Train Loss: 0.532 | val Loss: 0.631\n",
            "174 Train Loss: 0.531 | val Loss: 0.631\n",
            "175 Train Loss: 0.530 | val Loss: 0.631\n",
            "176 Train Loss: 0.529 | val Loss: 0.631\n",
            "177 Train Loss: 0.529 | val Loss: 0.630\n",
            "178 Train Loss: 0.528 | val Loss: 0.630\n",
            "179 Train Loss: 0.527 | val Loss: 0.629\n",
            "180 Train Loss: 0.526 | val Loss: 0.630\n",
            "181 Train Loss: 0.525 | val Loss: 0.630\n",
            "182 Train Loss: 0.524 | val Loss: 0.630\n",
            "183 Train Loss: 0.523 | val Loss: 0.629\n",
            "184 Train Loss: 0.522 | val Loss: 0.629\n",
            "185 Train Loss: 0.521 | val Loss: 0.629\n",
            "186 Train Loss: 0.520 | val Loss: 0.629\n",
            "187 Train Loss: 0.520 | val Loss: 0.629\n",
            "188 Train Loss: 0.519 | val Loss: 0.628\n",
            "189 Train Loss: 0.518 | val Loss: 0.627\n",
            "190 Train Loss: 0.517 | val Loss: 0.627\n",
            "191 Train Loss: 0.516 | val Loss: 0.628\n",
            "192 Train Loss: 0.515 | val Loss: 0.629\n",
            "193 Train Loss: 0.515 | val Loss: 0.628\n",
            "194 Train Loss: 0.514 | val Loss: 0.627\n",
            "195 Train Loss: 0.513 | val Loss: 0.626\n",
            "196 Train Loss: 0.512 | val Loss: 0.626\n",
            "197 Train Loss: 0.512 | val Loss: 0.627\n",
            "198 Train Loss: 0.511 | val Loss: 0.627\n",
            "199 Train Loss: 0.510 | val Loss: 0.627\n",
            "200 Train Loss: 0.509 | val Loss: 0.626\n"
          ]
        }
      ]
    },
    {
      "cell_type": "markdown",
      "source": [
        "# Visualize train loss and val loss."
      ],
      "metadata": {
        "id": "0kUSr2w4Drmv"
      }
    },
    {
      "cell_type": "code",
      "source": [
        "plt.plot(train_loss_, \"c\", linewidth = 3)\n",
        "plt.plot(val_loss_, \"k\", linewidth = 3)\n",
        "plt.xlabel('epoch')\n",
        "plt.ylabel('loss')\n",
        "plt.legend(['Train','Val'])\n",
        "plt.title('Train vs Val Loss for the breast cancer dataset (GAT)')\n",
        "plt.grid()\n",
        "plt.show()"
      ],
      "metadata": {
        "colab": {
          "base_uri": "https://localhost:8080/"
        },
        "id": "aFzckjE5edUL",
        "outputId": "d41e805d-a970-4e9d-9a18-c3c7fcb1ca19"
      },
      "execution_count": null,
      "outputs": [
        {
          "output_type": "display_data",
          "data": {
            "text/plain": [
              "<Figure size 432x288 with 1 Axes>"
            ],
            "image/png": "[encoded data removed]"
          },
          "metadata": {
            "needs_background": "light"
          }
        }
      ]
    },
    {
      "cell_type": "markdown",
      "source": [
        "# Compute the accuracy of the model."
      ],
      "metadata": {
        "id": "lz3wz75zDvEn"
      }
    },
    {
      "cell_type": "code",
      "source": [
        "def test(Data):\n",
        "      model.eval()\n",
        "      with torch.no_grad():\n",
        "        out= model(Data[\"x\"], Data[\"edge_index\"])\n",
        "        pred = out.argmax(dim=1)\n",
        "        test_correct = pred[Data[\"test_mask\"]] == Data[\"y\"][Data[\"test_mask\"]]  # Check against ground-truth labels.\n",
        "        test_acc = int(test_correct.sum()) / int(Data[\"test_mask\"].sum())  # Derive ratio of correct predictions.\n",
        "        return test_acc"
      ],
      "metadata": {
        "id": "fp_ZKMNSefDW"
      },
      "execution_count": null,
      "outputs": []
    },
    {
      "cell_type": "code",
      "source": [
        "test_acc = test(Data)\n",
        "print(f'Test Accuracy: {100*test_acc}')"
      ],
      "metadata": {
        "colab": {
          "base_uri": "https://localhost:8080/"
        },
        "id": "O7jkr7Xqegft",
        "outputId": "6042ba5c-f297-4cf8-f530-ba6de572377b"
      },
      "execution_count": null,
      "outputs": [
        {
          "output_type": "stream",
          "name": "stdout",
          "text": [
            "Test Accuracy: 62.5\n"
          ]
        }
      ]
    },
    {
      "cell_type": "markdown",
      "source": [
        "# We take a look at the node embeddings produced by GAT (after training)."
      ],
      "metadata": {
        "id": "5b7eHlVBDyne"
      }
    },
    {
      "cell_type": "code",
      "source": [
        "import matplotlib.pyplot as plt\n",
        "from sklearn.manifold import TSNE\n",
        "import seaborn as sns\n",
        "\n",
        "def visualize(h):\n",
        "    z = TSNE(n_components = 2, random_state = 0).fit_transform(h.detach().numpy())\n",
        "    plt.figure(figsize = (6,4),  dpi = 120)\n",
        "    sns.scatterplot(z[:, 0], z[:, 1], hue = Data[\"y\"], palette=sns.color_palette(\"bright\",2)).set(title = \"Breast cancer dataset T-SNE projection after training (GAT)\")"
      ],
      "metadata": {
        "id": "55NtWFO2cJEN"
      },
      "execution_count": null,
      "outputs": []
    },
    {
      "cell_type": "code",
      "source": [
        "model.eval()\n",
        "out = model(Data[\"x\"], Data[\"edge_index\"])\n",
        "visualize(out)"
      ],
      "metadata": {
        "colab": {
          "base_uri": "https://localhost:8080/",
          "height": 589
        },
        "id": "oDpf5e7keiCj",
        "outputId": "6557b770-3dd0-4f5f-c3a0-6ebca0198a2a"
      },
      "execution_count": null,
      "outputs": [
        {
          "output_type": "stream",
          "name": "stderr",
          "text": [
            "/usr/local/lib/python3.8/dist-packages/sklearn/manifold/_t_sne.py:780: FutureWarning: The default initialization in TSNE will change from 'random' to 'pca' in 1.2.\n",
            "  warnings.warn(\n",
            "/usr/local/lib/python3.8/dist-packages/sklearn/manifold/_t_sne.py:790: FutureWarning: The default learning rate in TSNE will change from 200.0 to 'auto' in 1.2.\n",
            "  warnings.warn(\n",
            "/usr/local/lib/python3.8/dist-packages/seaborn/_decorators.py:36: FutureWarning: Pass the following variables as keyword args: x, y. From version 0.12, the only valid positional argument will be `data`, and passing other arguments without an explicit keyword will result in an error or misinterpretation.\n",
            "  warnings.warn(\n"
          ]
        },
        {
          "output_type": "display_data",
          "data": {
            "text/plain": [
              "<Figure size 720x480 with 1 Axes>"
            ],
            "image/png": "[encoded data removed]"
          },
          "metadata": {
            "needs_background": "light"
          }
        }
      ]
    },
    {
      "cell_type": "markdown",
      "source": [
        "# Confusion matrix."
      ],
      "metadata": {
        "id": "VpPpDGBBD3UV"
      }
    },
    {
      "cell_type": "code",
      "source": [
        "pred = out.argmax(dim=1)\n",
        "pred"
      ],
      "metadata": {
        "colab": {
          "base_uri": "https://localhost:8080/"
        },
        "id": "KD-6jLQWdJnT",
        "outputId": "6d411276-a239-43b7-d75e-d4c533557886"
      },
      "execution_count": null,
      "outputs": [
        {
          "output_type": "execute_result",
          "data": {
            "text/plain": [
              "tensor([0, 0, 0, 0, 0, 1, 0, 1, 1, 1, 1, 0, 1, 0, 1, 0, 0, 0, 0, 0, 0, 0, 0, 1,\n",
              "        0, 0, 1, 0, 1, 0, 0, 0, 1, 0, 1, 0, 1, 1, 0, 0, 1, 1, 0, 1, 1, 0, 1, 1,\n",
              "        1, 1, 1, 0, 1, 0, 1, 0, 0, 1, 1, 1, 1, 1, 1, 0, 1, 1, 0, 1, 1, 1, 1, 1,\n",
              "        0, 1, 1, 0, 1, 0, 1, 1])"
            ]
          },
          "metadata": {},
          "execution_count": 18
        }
      ]
    },
    {
      "cell_type": "code",
      "source": [
        "pred = pred[Data[\"test_mask\"]] "
      ],
      "metadata": {
        "id": "fUMKJu_cdMJa"
      },
      "execution_count": null,
      "outputs": []
    },
    {
      "cell_type": "code",
      "source": [
        "act = Data[\"y\"][Data[\"test_mask\"]]"
      ],
      "metadata": {
        "id": "QQoOM99tdOZ_"
      },
      "execution_count": null,
      "outputs": []
    },
    {
      "cell_type": "code",
      "source": [
        "data = {'y_Actual':    act,\n",
        "        'y_Predicted': pred\n",
        "        }\n",
        "\n",
        "df = pd.DataFrame(data, columns = ['y_Actual','y_Predicted'])\n",
        "df"
      ],
      "metadata": {
        "colab": {
          "base_uri": "https://localhost:8080/",
          "height": 1000
        },
        "id": "K8fT9E-_ejyU",
        "outputId": "2df0f955-1b6c-477f-c3df-02d51e1f36c9"
      },
      "execution_count": null,
      "outputs": [
        {
          "output_type": "execute_result",
          "data": {
            "text/plain": [
              "    y_Actual  y_Predicted\n",
              "0          0            0\n",
              "1          0            0\n",
              "2          0            0\n",
              "3          0            1\n",
              "4          0            0\n",
              "5          0            1\n",
              "6          0            1\n",
              "7          0            1\n",
              "8          0            1\n",
              "9          0            0\n",
              "10         0            1\n",
              "11         0            0\n",
              "12         0            0\n",
              "13         0            0\n",
              "14         0            0\n",
              "15         0            1\n",
              "16         0            0\n",
              "17         0            1\n",
              "18         0            0\n",
              "19         0            1\n",
              "20         0            0\n",
              "21         0            1\n",
              "22         0            1\n",
              "23         0            0\n",
              "24         1            1\n",
              "25         1            1\n",
              "26         1            1\n",
              "27         1            0\n",
              "28         1            1\n",
              "29         1            1\n",
              "30         1            1\n",
              "31         1            1\n",
              "32         1            1\n",
              "33         1            0\n",
              "34         1            0\n",
              "35         1            1\n",
              "36         1            1\n",
              "37         1            1\n",
              "38         1            1\n",
              "39         1            0\n",
              "40         1            1\n",
              "41         1            1\n",
              "42         1            1\n",
              "43         1            1\n",
              "44         1            0\n",
              "45         1            0\n",
              "46         1            0\n",
              "47         1            1"
            ],
            "text/html": [
              "\n",
              "  <div id=\"df-d8ca5de6-ab10-4a75-a3d7-4c749f0761b9\">\n",
              "    <div class=\"colab-df-container\">\n",
              "      <div>\n",
              "<style scoped>\n",
              "    .dataframe tbody tr th:only-of-type {\n",
              "        vertical-align: middle;\n",
              "    }\n",
              "\n",
              "    .dataframe tbody tr th {\n",
              "        vertical-align: top;\n",
              "    }\n",
              "\n",
              "    .dataframe thead th {\n",
              "        text-align: right;\n",
              "    }\n",
              "</style>\n",
              "<table border=\"1\" class=\"dataframe\">\n",
              "  <thead>\n",
              "    <tr style=\"text-align: right;\">\n",
              "      <th></th>\n",
              "      <th>y_Actual</th>\n",
              "      <th>y_Predicted</th>\n",
              "    </tr>\n",
              "  </thead>\n",
              "  <tbody>\n",
              "    <tr>\n",
              "      <th>0</th>\n",
              "      <td>0</td>\n",
              "      <td>0</td>\n",
              "    </tr>\n",
              "    <tr>\n",
              "      <th>1</th>\n",
              "      <td>0</td>\n",
              "      <td>0</td>\n",
              "    </tr>\n",
              "    <tr>\n",
              "      <th>2</th>\n",
              "      <td>0</td>\n",
              "      <td>0</td>\n",
              "    </tr>\n",
              "    <tr>\n",
              "      <th>3</th>\n",
              "      <td>0</td>\n",
              "      <td>1</td>\n",
              "    </tr>\n",
              "    <tr>\n",
              "      <th>4</th>\n",
              "      <td>0</td>\n",
              "      <td>0</td>\n",
              "    </tr>\n",
              "    <tr>\n",
              "      <th>5</th>\n",
              "      <td>0</td>\n",
              "      <td>1</td>\n",
              "    </tr>\n",
              "    <tr>\n",
              "      <th>6</th>\n",
              "      <td>0</td>\n",
              "      <td>1</td>\n",
              "    </tr>\n",
              "    <tr>\n",
              "      <th>7</th>\n",
              "      <td>0</td>\n",
              "      <td>1</td>\n",
              "    </tr>\n",
              "    <tr>\n",
              "      <th>8</th>\n",
              "      <td>0</td>\n",
              "      <td>1</td>\n",
              "    </tr>\n",
              "    <tr>\n",
              "      <th>9</th>\n",
              "      <td>0</td>\n",
              "      <td>0</td>\n",
              "    </tr>\n",
              "    <tr>\n",
              "      <th>10</th>\n",
              "      <td>0</td>\n",
              "      <td>1</td>\n",
              "    </tr>\n",
              "    <tr>\n",
              "      <th>11</th>\n",
              "      <td>0</td>\n",
              "      <td>0</td>\n",
              "    </tr>\n",
              "    <tr>\n",
              "      <th>12</th>\n",
              "      <td>0</td>\n",
              "      <td>0</td>\n",
              "    </tr>\n",
              "    <tr>\n",
              "      <th>13</th>\n",
              "      <td>0</td>\n",
              "      <td>0</td>\n",
              "    </tr>\n",
              "    <tr>\n",
              "      <th>14</th>\n",
              "      <td>0</td>\n",
              "      <td>0</td>\n",
              "    </tr>\n",
              "    <tr>\n",
              "      <th>15</th>\n",
              "      <td>0</td>\n",
              "      <td>1</td>\n",
              "    </tr>\n",
              "    <tr>\n",
              "      <th>16</th>\n",
              "      <td>0</td>\n",
              "      <td>0</td>\n",
              "    </tr>\n",
              "    <tr>\n",
              "      <th>17</th>\n",
              "      <td>0</td>\n",
              "      <td>1</td>\n",
              "    </tr>\n",
              "    <tr>\n",
              "      <th>18</th>\n",
              "      <td>0</td>\n",
              "      <td>0</td>\n",
              "    </tr>\n",
              "    <tr>\n",
              "      <th>19</th>\n",
              "      <td>0</td>\n",
              "      <td>1</td>\n",
              "    </tr>\n",
              "    <tr>\n",
              "      <th>20</th>\n",
              "      <td>0</td>\n",
              "      <td>0</td>\n",
              "    </tr>\n",
              "    <tr>\n",
              "      <th>21</th>\n",
              "      <td>0</td>\n",
              "      <td>1</td>\n",
              "    </tr>\n",
              "    <tr>\n",
              "      <th>22</th>\n",
              "      <td>0</td>\n",
              "      <td>1</td>\n",
              "    </tr>\n",
              "    <tr>\n",
              "      <th>23</th>\n",
              "      <td>0</td>\n",
              "      <td>0</td>\n",
              "    </tr>\n",
              "    <tr>\n",
              "      <th>24</th>\n",
              "      <td>1</td>\n",
              "      <td>1</td>\n",
              "    </tr>\n",
              "    <tr>\n",
              "      <th>25</th>\n",
              "      <td>1</td>\n",
              "      <td>1</td>\n",
              "    </tr>\n",
              "    <tr>\n",
              "      <th>26</th>\n",
              "      <td>1</td>\n",
              "      <td>1</td>\n",
              "    </tr>\n",
              "    <tr>\n",
              "      <th>27</th>\n",
              "      <td>1</td>\n",
              "      <td>0</td>\n",
              "    </tr>\n",
              "    <tr>\n",
              "      <th>28</th>\n",
              "      <td>1</td>\n",
              "      <td>1</td>\n",
              "    </tr>\n",
              "    <tr>\n",
              "      <th>29</th>\n",
              "      <td>1</td>\n",
              "      <td>1</td>\n",
              "    </tr>\n",
              "    <tr>\n",
              "      <th>30</th>\n",
              "      <td>1</td>\n",
              "      <td>1</td>\n",
              "    </tr>\n",
              "    <tr>\n",
              "      <th>31</th>\n",
              "      <td>1</td>\n",
              "      <td>1</td>\n",
              "    </tr>\n",
              "    <tr>\n",
              "      <th>32</th>\n",
              "      <td>1</td>\n",
              "      <td>1</td>\n",
              "    </tr>\n",
              "    <tr>\n",
              "      <th>33</th>\n",
              "      <td>1</td>\n",
              "      <td>0</td>\n",
              "    </tr>\n",
              "    <tr>\n",
              "      <th>34</th>\n",
              "      <td>1</td>\n",
              "      <td>0</td>\n",
              "    </tr>\n",
              "    <tr>\n",
              "      <th>35</th>\n",
              "      <td>1</td>\n",
              "      <td>1</td>\n",
              "    </tr>\n",
              "    <tr>\n",
              "      <th>36</th>\n",
              "      <td>1</td>\n",
              "      <td>1</td>\n",
              "    </tr>\n",
              "    <tr>\n",
              "      <th>37</th>\n",
              "      <td>1</td>\n",
              "      <td>1</td>\n",
              "    </tr>\n",
              "    <tr>\n",
              "      <th>38</th>\n",
              "      <td>1</td>\n",
              "      <td>1</td>\n",
              "    </tr>\n",
              "    <tr>\n",
              "      <th>39</th>\n",
              "      <td>1</td>\n",
              "      <td>0</td>\n",
              "    </tr>\n",
              "    <tr>\n",
              "      <th>40</th>\n",
              "      <td>1</td>\n",
              "      <td>1</td>\n",
              "    </tr>\n",
              "    <tr>\n",
              "      <th>41</th>\n",
              "      <td>1</td>\n",
              "      <td>1</td>\n",
              "    </tr>\n",
              "    <tr>\n",
              "      <th>42</th>\n",
              "      <td>1</td>\n",
              "      <td>1</td>\n",
              "    </tr>\n",
              "    <tr>\n",
              "      <th>43</th>\n",
              "      <td>1</td>\n",
              "      <td>1</td>\n",
              "    </tr>\n",
              "    <tr>\n",
              "      <th>44</th>\n",
              "      <td>1</td>\n",
              "      <td>0</td>\n",
              "    </tr>\n",
              "    <tr>\n",
              "      <th>45</th>\n",
              "      <td>1</td>\n",
              "      <td>0</td>\n",
              "    </tr>\n",
              "    <tr>\n",
              "      <th>46</th>\n",
              "      <td>1</td>\n",
              "      <td>0</td>\n",
              "    </tr>\n",
              "    <tr>\n",
              "      <th>47</th>\n",
              "      <td>1</td>\n",
              "      <td>1</td>\n",
              "    </tr>\n",
              "  </tbody>\n",
              "</table>\n",
              "</div>\n",
              "      <button class=\"colab-df-convert\" onclick=\"convertToInteractive('df-d8ca5de6-ab10-4a75-a3d7-4c749f0761b9')\"\n",
              "              title=\"Convert this dataframe to an interactive table.\"\n",
              "              style=\"display:none;\">\n",
              "        \n",
              "  <svg xmlns=\"http://www.w3.org/2000/svg\" height=\"24px\"viewBox=\"0 0 24 24\"\n",
              "       width=\"24px\">\n",
              "    <path d=\"M0 0h24v24H0V0z\" fill=\"none\"/>\n",
              "    <path d=\"M18.56 5.44l.94 2.06.94-2.06 2.06-.94-2.06-.94-.94-2.06-.94 2.06-2.06.94zm-11 1L8.5 8.5l.94-2.06 2.06-.94-2.06-.94L8.5 2.5l-.94 2.06-2.06.94zm10 10l.94 2.06.94-2.06 2.06-.94-2.06-.94-.94-2.06-.94 2.06-2.06.94z\"/><path d=\"M17.41 7.96l-1.37-1.37c-.4-.4-.92-.59-1.43-.59-.52 0-1.04.2-1.43.59L10.3 9.45l-7.72 7.72c-.78.78-.78 2.05 0 2.83L4 21.41c.39.39.9.59 1.41.59.51 0 1.02-.2 1.41-.59l7.78-7.78 2.81-2.81c.8-.78.8-2.07 0-2.86zM5.41 20L4 18.59l7.72-7.72 1.47 1.35L5.41 20z\"/>\n",
              "  </svg>\n",
              "      </button>\n",
              "      \n",
              "  <style>\n",
              "    .colab-df-container {\n",
              "      display:flex;\n",
              "      flex-wrap:wrap;\n",
              "      gap: 12px;\n",
              "    }\n",
              "\n",
              "    .colab-df-convert {\n",
              "      background-color: #E8F0FE;\n",
              "      border: none;\n",
              "      border-radius: 50%;\n",
              "      cursor: pointer;\n",
              "      display: none;\n",
              "      fill: #1967D2;\n",
              "      height: 32px;\n",
              "      padding: 0 0 0 0;\n",
              "      width: 32px;\n",
              "    }\n",
              "\n",
              "    .colab-df-convert:hover {\n",
              "      background-color: #E2EBFA;\n",
              "      box-shadow: 0px 1px 2px rgba(60, 64, 67, 0.3), 0px 1px 3px 1px rgba(60, 64, 67, 0.15);\n",
              "      fill: #174EA6;\n",
              "    }\n",
              "\n",
              "    [theme=dark] .colab-df-convert {\n",
              "      background-color: #3B4455;\n",
              "      fill: #D2E3FC;\n",
              "    }\n",
              "\n",
              "    [theme=dark] .colab-df-convert:hover {\n",
              "      background-color: #434B5C;\n",
              "      box-shadow: 0px 1px 3px 1px rgba(0, 0, 0, 0.15);\n",
              "      filter: drop-shadow(0px 1px 2px rgba(0, 0, 0, 0.3));\n",
              "      fill: #FFFFFF;\n",
              "    }\n",
              "  </style>\n",
              "\n",
              "      <script>\n",
              "        const buttonEl =\n",
              "          document.querySelector('#df-d8ca5de6-ab10-4a75-a3d7-4c749f0761b9 button.colab-df-convert');\n",
              "        buttonEl.style.display =\n",
              "          google.colab.kernel.accessAllowed ? 'block' : 'none';\n",
              "\n",
              "        async function convertToInteractive(key) {\n",
              "          const element = document.querySelector('#df-d8ca5de6-ab10-4a75-a3d7-4c749f0761b9');\n",
              "          const dataTable =\n",
              "            await google.colab.kernel.invokeFunction('convertToInteractive',\n",
              "                                                     [key], {});\n",
              "          if (!dataTable) return;\n",
              "\n",
              "          const docLinkHtml = 'Like what you see? Visit the ' +\n",
              "            '<a target=\"_blank\" href=https://colab.research.google.com/notebooks/data_table.ipynb>data table notebook</a>'\n",
              "            + ' to learn more about interactive tables.';\n",
              "          element.innerHTML = '';\n",
              "          dataTable['output_type'] = 'display_data';\n",
              "          await google.colab.output.renderOutput(dataTable, element);\n",
              "          const docLink = document.createElement('div');\n",
              "          docLink.innerHTML = docLinkHtml;\n",
              "          element.appendChild(docLink);\n",
              "        }\n",
              "      </script>\n",
              "    </div>\n",
              "  </div>\n",
              "  "
            ]
          },
          "metadata": {},
          "execution_count": 21
        }
      ]
    },
    {
      "cell_type": "code",
      "source": [
        "confusion_matrix = pd.crosstab(data['y_Actual'], data['y_Predicted'], rownames=['Actual'], colnames = ['Predicted'], margins = True)\n",
        "import seaborn as sn\n",
        "sn.heatmap(confusion_matrix, annot=True,  cmap=\"Blues\")\n",
        "ax = plt.axes()\n",
        "ax.set_title('Breast cancer, confusion matrix (GAT)')\n",
        "plt.show()"
      ],
      "metadata": {
        "colab": {
          "base_uri": "https://localhost:8080/",
          "height": 352
        },
        "id": "VjEiFF3Tcoil",
        "outputId": "2921a3a1-d19f-48c8-876c-35c4000c3b4b"
      },
      "execution_count": null,
      "outputs": [
        {
          "output_type": "stream",
          "name": "stderr",
          "text": [
            "<ipython-input-22-986b2d80670e>:4: MatplotlibDeprecationWarning: Adding an axes using the same arguments as a previous axes currently reuses the earlier instance.  In a future version, a new instance will always be created and returned.  Meanwhile, this warning can be suppressed, and the future behavior ensured, by passing a unique label to each axes instance.\n",
            "  ax = plt.axes()\n"
          ]
        },
        {
          "output_type": "display_data",
          "data": {
            "text/plain": [
              "<Figure size 432x288 with 2 Axes>"
            ],
            "image/png": "[encoded data removed]"
          },
          "metadata": {
            "needs_background": "light"
          }
        }
      ]
    }
  ]
}
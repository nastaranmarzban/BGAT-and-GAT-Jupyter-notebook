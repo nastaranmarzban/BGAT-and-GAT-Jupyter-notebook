{
  "nbformat": 4,
  "nbformat_minor": 0,
  "metadata": {
    "colab": {
      "provenance": []
    },
    "kernelspec": {
      "name": "python3",
      "display_name": "Python 3"
    },
    "language_info": {
      "name": "python"
    }
  },
  "cells": [
    {
      "cell_type": "markdown",
      "source": [
        "## Mount to gdrive to read data, adjacency matrix, p_link and labels. "
      ],
      "metadata": {
        "id": "W9UKAC9AGCh_"
      }
    },
    {
      "cell_type": "code",
      "execution_count": null,
      "metadata": {
        "colab": {
          "base_uri": "https://localhost:8080/"
        },
        "id": "UreiTGwsDu5f",
        "outputId": "6a8d4d51-3bfb-401f-ae08-e24296f4c05f"
      },
      "outputs": [
        {
          "output_type": "stream",
          "name": "stdout",
          "text": [
            "Mounted at /gdrive\n"
          ]
        }
      ],
      "source": [
        "from google.colab import drive\n",
        "drive.mount('/gdrive')"
      ]
    },
    {
      "cell_type": "markdown",
      "source": [
        "# Install pandas to read csv files from gdrive. Install torch and numpy which are packages that are needed durind coding."
      ],
      "metadata": {
        "id": "A4qSH9n3GGCM"
      }
    },
    {
      "cell_type": "code",
      "source": [
        "!pip install pandas\n",
        "import pandas as pd\n",
        "import torch\n",
        "import numpy as np"
      ],
      "metadata": {
        "colab": {
          "base_uri": "https://localhost:8080/"
        },
        "id": "yo2xDMVEDzJk",
        "outputId": "11cf6d3d-b1b0-4adc-c675-96c7fb11936f"
      },
      "execution_count": null,
      "outputs": [
        {
          "output_type": "stream",
          "name": "stdout",
          "text": [
            "Looking in indexes: https://pypi.org/simple, https://us-python.pkg.dev/colab-wheels/public/simple/\n",
            "Requirement already satisfied: pandas in /usr/local/lib/python3.8/dist-packages (1.3.5)\n",
            "Requirement already satisfied: pytz>=2017.3 in /usr/local/lib/python3.8/dist-packages (from pandas) (2022.6)\n",
            "Requirement already satisfied: python-dateutil>=2.7.3 in /usr/local/lib/python3.8/dist-packages (from pandas) (2.8.2)\n",
            "Requirement already satisfied: numpy>=1.17.3 in /usr/local/lib/python3.8/dist-packages (from pandas) (1.21.6)\n",
            "Requirement already satisfied: six>=1.5 in /usr/local/lib/python3.8/dist-packages (from python-dateutil>=2.7.3->pandas) (1.15.0)\n"
          ]
        }
      ]
    },
    {
      "cell_type": "markdown",
      "source": [
        "# Load data which are processed in preprocessing_data_cancer.ipynb file."
      ],
      "metadata": {
        "id": "zJykBGU5GI9A"
      }
    },
    {
      "cell_type": "code",
      "source": [
        "path = F\"/gdrive/MyDrive/Cancer/cancer.pt\"\n",
        "Data = torch.load(path)\n",
        "Data"
      ],
      "metadata": {
        "colab": {
          "base_uri": "https://localhost:8080/"
        },
        "id": "iweBOrwWD4t0",
        "outputId": "9c7ad16e-9f06-4a23-afa2-a8c49d79dbfe"
      },
      "execution_count": null,
      "outputs": [
        {
          "output_type": "execute_result",
          "data": {
            "text/plain": [
              "{'x': tensor([[1.7990e+01, 1.0380e+01, 1.2280e+02,  ..., 2.6540e-01, 4.6010e-01,\n",
              "          1.1890e-01],\n",
              "         [2.0570e+01, 1.7770e+01, 1.3290e+02,  ..., 1.8600e-01, 2.7500e-01,\n",
              "          8.9020e-02],\n",
              "         [1.9690e+01, 2.1250e+01, 1.3000e+02,  ..., 2.4300e-01, 3.6130e-01,\n",
              "          8.7580e-02],\n",
              "         ...,\n",
              "         [1.3030e+01, 1.8420e+01, 8.2610e+01,  ..., 5.0130e-02, 1.9870e-01,\n",
              "          6.1690e-02],\n",
              "         [1.3080e+01, 1.5710e+01, 8.5630e+01,  ..., 7.2830e-02, 3.1840e-01,\n",
              "          8.1830e-02],\n",
              "         [9.5040e+00, 1.2440e+01, 6.0340e+01,  ..., 6.2270e-02, 2.4500e-01,\n",
              "          7.7730e-02]]), 'edge_index': tensor([[ 0,  0,  0,  ..., 79, 79, 79],\n",
              "         [ 2,  3,  4,  ..., 72, 74, 76]]), 'y': tensor([0, 0, 0, 0, 0, 0, 0, 0, 0, 0, 0, 0, 0, 0, 0, 0, 0, 0, 0, 0, 0, 0, 0, 0,\n",
              "         0, 0, 0, 0, 0, 0, 0, 0, 0, 0, 0, 0, 0, 0, 0, 0, 1, 1, 1, 1, 1, 1, 1, 1,\n",
              "         1, 1, 1, 1, 1, 1, 1, 1, 1, 1, 1, 1, 1, 1, 1, 1, 1, 1, 1, 1, 1, 1, 1, 1,\n",
              "         1, 1, 1, 1, 1, 1, 1, 1]), 'train_mask': tensor([False, False,  True, False,  True, False, False, False, False, False,\n",
              "          True,  True, False, False, False,  True, False, False, False, False,\n",
              "         False, False,  True, False, False,  True, False,  True, False,  True,\n",
              "          True, False, False, False, False, False, False, False, False,  True,\n",
              "         False, False,  True,  True, False, False, False, False, False, False,\n",
              "         False, False, False, False,  True, False,  True, False, False, False,\n",
              "         False, False,  True, False,  True,  True,  True, False, False, False,\n",
              "         False, False, False, False,  True, False,  True, False,  True, False]), 'val_mask': tensor([False, False, False, False, False, False, False, False, False, False,\n",
              "         False, False, False, False, False, False, False, False,  True, False,\n",
              "          True, False, False, False, False, False, False, False,  True, False,\n",
              "         False, False, False, False, False,  True, False,  True, False, False,\n",
              "         False, False, False, False, False, False, False, False, False, False,\n",
              "         False, False,  True,  True, False, False, False, False,  True, False,\n",
              "         False, False, False, False, False, False, False,  True, False, False,\n",
              "         False, False, False,  True, False, False, False, False, False, False]), 'test_mask': tensor([ True,  True, False,  True, False,  True,  True,  True,  True,  True,\n",
              "         False, False,  True,  True,  True, False,  True,  True, False,  True,\n",
              "         False,  True, False,  True,  True, False,  True, False, False, False,\n",
              "         False,  True,  True,  True,  True, False,  True, False,  True, False,\n",
              "          True,  True, False, False,  True,  True,  True,  True,  True,  True,\n",
              "          True,  True, False, False, False,  True, False,  True, False,  True,\n",
              "          True,  True, False,  True, False, False, False, False,  True,  True,\n",
              "          True,  True,  True, False, False,  True, False,  True, False,  True])}"
            ]
          },
          "metadata": {},
          "execution_count": 3
        }
      ]
    },
    {
      "cell_type": "markdown",
      "source": [
        "# Gather some statistics about the graph."
      ],
      "metadata": {
        "id": "I5ndcv6SGMPf"
      }
    },
    {
      "cell_type": "code",
      "source": [
        "print(f'Number of nodes: {Data[\"x\"].size(0)}')\n",
        "print(f'Number of features: {Data[\"x\"].size(1)}')\n",
        "print(f'Number of classes: {torch.numel(torch.unique(Data[\"y\"],sorted=True))}')\n",
        "print(f'Number of edges: {Data[\"edge_index\"].size(1)}')\n",
        "print(f'Average node degree: {Data[\"edge_index\"].size(1) / Data[\"x\"].size(0):.2f}')\n",
        "print(f'Number of training nodes: {Data[\"train_mask\"].sum()}')\n",
        "print(f'Number of testing nodes: {Data[\"test_mask\"].sum()}')\n",
        "print(f'Training node label rate: {int(Data[\"train_mask\"].sum()) /  Data[\"x\"].size(0):.2f}')"
      ],
      "metadata": {
        "colab": {
          "base_uri": "https://localhost:8080/"
        },
        "id": "hFUMWCDFELL3",
        "outputId": "8711e3a7-d3d0-4cd3-d1af-50b39ea98479"
      },
      "execution_count": null,
      "outputs": [
        {
          "output_type": "stream",
          "name": "stdout",
          "text": [
            "Number of nodes: 80\n",
            "Number of features: 30\n",
            "Number of classes: 2\n",
            "Number of edges: 872\n",
            "Average node degree: 10.90\n",
            "Number of training nodes: 22\n",
            "Number of testing nodes: 48\n",
            "Training node label rate: 0.28\n"
          ]
        }
      ]
    },
    {
      "cell_type": "markdown",
      "source": [
        "# Read p_link from gdrive to use it as the attention."
      ],
      "metadata": {
        "id": "llxeljG_GPKV"
      }
    },
    {
      "cell_type": "code",
      "source": [
        "path = F\"/gdrive/MyDrive/Cancer/p_links_cancer.pt\"\n",
        "p_link = torch.load(path)\n",
        "print(p_link.size())\n",
        "print(p_link.dtype)\n",
        "print(p_link.type())"
      ],
      "metadata": {
        "colab": {
          "base_uri": "https://localhost:8080/"
        },
        "id": "JKHQeENvEOFb",
        "outputId": "dd8108fb-2421-4526-a213-c4c38127e6d2"
      },
      "execution_count": null,
      "outputs": [
        {
          "output_type": "stream",
          "name": "stdout",
          "text": [
            "torch.Size([80, 80])\n",
            "torch.float32\n",
            "torch.FloatTensor\n"
          ]
        }
      ]
    },
    {
      "cell_type": "markdown",
      "source": [
        "# Install torch_geometic."
      ],
      "metadata": {
        "id": "WvBeav8rGStb"
      }
    },
    {
      "cell_type": "code",
      "source": [
        "import os\n",
        "os.environ['TORCH'] = torch.__version__\n",
        "print(torch.__version__)\n",
        "\n",
        "!pip install -q torch-scatter -f https://data.pyg.org/whl/torch-${TORCH}.html\n",
        "!pip install -q torch-sparse -f https://data.pyg.org/whl/torch-${TORCH}.html\n",
        "!pip install -q git+https://github.com/pyg-team/pytorch_geometric.git"
      ],
      "metadata": {
        "colab": {
          "base_uri": "https://localhost:8080/"
        },
        "id": "GERqe2MlRx5h",
        "outputId": "4fb6a4ee-50d9-4a95-bc58-1013cec472a9"
      },
      "execution_count": null,
      "outputs": [
        {
          "output_type": "stream",
          "name": "stdout",
          "text": [
            "1.13.0+cu116\n",
            "\u001b[K     |████████████████████████████████| 9.4 MB 13.3 MB/s \n",
            "\u001b[K     |████████████████████████████████| 4.6 MB 8.3 MB/s \n",
            "\u001b[K     |████████████████████████████████| 280 kB 3.5 MB/s \n",
            "\u001b[?25h  Building wheel for torch-geometric (setup.py) ... \u001b[?25l\u001b[?25hdone\n"
          ]
        }
      ]
    },
    {
      "cell_type": "markdown",
      "source": [
        "# Developing our own model (making our own message passing layers)."
      ],
      "metadata": {
        "id": "_Kv4tPQRGaHq"
      }
    },
    {
      "cell_type": "markdown",
      "source": [
        "# BGATConv\n",
        "$$ X^\\prime _i = \\sum_{j \\in N(i)\\cup i} \\alpha_{ij}\\Theta X_j$$\n",
        "In which $\\alpha$s are computed via BDgraph(p_link) and $\\Theta$ is learnable parameter."
      ],
      "metadata": {
        "id": "u7T2EwcFGbCT"
      }
    },
    {
      "cell_type": "code",
      "source": [
        "from torch_geometric.nn import MessagePassing\n",
        "import torch_geometric.nn\n",
        "import torch.nn.functional as F\n",
        "from torch_geometric.utils import add_self_loops"
      ],
      "metadata": {
        "id": "VFd89vMZR0Ay"
      },
      "execution_count": null,
      "outputs": []
    },
    {
      "cell_type": "markdown",
      "source": [
        "# Creating message passing network."
      ],
      "metadata": {
        "id": "QKvelcQqGgkX"
      }
    },
    {
      "cell_type": "code",
      "source": [
        "class BGATConv(MessagePassing):\n",
        "    def __init__(\n",
        "        self,\n",
        "        in_channels,\n",
        "        out_channels,\n",
        "        **kwargs,\n",
        "    ):\n",
        "        kwargs.setdefault('aggr', 'add')\n",
        "        super().__init__(node_dim=0, **kwargs)\n",
        "        self.in_channels = in_channels\n",
        "        self.out_channels = out_channels\n",
        "        self.lin = torch.nn.Linear(in_channels, out_channels)\n",
        "\n",
        "    def forward(self, x, edge_index):\n",
        "        edge_index, _ = add_self_loops(Data[\"edge_index\"], num_nodes=Data[\"x\"].size(0))\n",
        "        x = self.lin(x)\n",
        "        atten = p_link\n",
        "        return self.propagate(edge_index, x=x, atten = atten)\n",
        "\n",
        "    def message(self, x_j, atten, edge_index_i, edge_index_j):\n",
        "        return atten[edge_index_i, edge_index_j].reshape(-1,1) * x_j\n",
        "\n",
        "    def __repr__(self):\n",
        "        return '{}({}, {})'.format(self.__class__.__name__, self.in_channels, self.out_channels)"
      ],
      "metadata": {
        "id": "6vbY3NpjR10q"
      },
      "execution_count": null,
      "outputs": []
    },
    {
      "cell_type": "markdown",
      "source": [
        "# Make GNN layers with our own model, BGAT. We use two BGAT conv."
      ],
      "metadata": {
        "id": "JV3hommzGl9s"
      }
    },
    {
      "cell_type": "code",
      "source": [
        "class Myconv(torch.nn.Module):\n",
        "    def __init__(self):\n",
        "        super().__init__()\n",
        "        torch.manual_seed(2)\n",
        "        self.conv1 = BGATConv(in_channels = 30, out_channels = 15)\n",
        "        self.conv2 =  BGATConv(15,2)\n",
        "\n",
        "\n",
        "        \n",
        "    def forward(self, x, edge_index):\n",
        "        h = self.conv1(x, edge_index)\n",
        "        h = F.torch.tanh(h)\n",
        "        h = self.conv2(h, edge_index)\n",
        "        h = F.log_softmax(h)\n",
        "        return h\n",
        "        \n",
        "model = Myconv()\n",
        "print(model)\n",
        "print(model.forward(Data[\"x\"], Data[\"edge_index\"]))"
      ],
      "metadata": {
        "id": "eJnIfdflR4Q7",
        "colab": {
          "base_uri": "https://localhost:8080/"
        },
        "outputId": "c0c47b96-ae85-4cf5-92b9-b5fd2068183f"
      },
      "execution_count": null,
      "outputs": [
        {
          "output_type": "stream",
          "name": "stdout",
          "text": [
            "Myconv(\n",
            "  (conv1): BGATConv(30, 15)\n",
            "  (conv2): BGATConv(15, 2)\n",
            ")\n",
            "tensor([[-5.8928e+00, -2.7629e-03],\n",
            "        [-6.2349e+00, -1.9617e-03],\n",
            "        [-5.5977e+00, -3.7133e-03],\n",
            "        [-5.5730e+00, -3.8061e-03],\n",
            "        [-3.9700e+00, -1.9054e-02],\n",
            "        [-4.8565e+00, -7.8078e-03],\n",
            "        [-6.3340e+00, -1.7764e-03],\n",
            "        [-6.5407e+00, -1.4446e-03],\n",
            "        [-5.6902e+00, -3.3845e-03],\n",
            "        [-5.2904e+00, -5.0525e-03],\n",
            "        [-6.6747e+00, -1.2633e-03],\n",
            "        [-6.8860e+00, -1.0225e-03],\n",
            "        [-4.6494e+00, -9.6129e-03],\n",
            "        [-4.3784e+00, -1.2625e-02],\n",
            "        [-6.3528e+00, -1.7433e-03],\n",
            "        [-6.0144e+00, -2.4463e-03],\n",
            "        [-5.7492e+00, -3.1905e-03],\n",
            "        [-5.3906e+00, -4.5698e-03],\n",
            "        [-2.9897e+00, -5.1612e-02],\n",
            "        [-7.3064e+00, -6.7152e-04],\n",
            "        [-7.0723e+00, -8.4865e-04],\n",
            "        [-5.3999e+00, -4.5273e-03],\n",
            "        [-6.2035e+00, -2.0243e-03],\n",
            "        [-6.8066e+00, -1.1071e-03],\n",
            "        [-6.6792e+00, -1.2576e-03],\n",
            "        [-7.2586e+00, -7.0428e-04],\n",
            "        [-3.1390e+00, -4.4295e-02],\n",
            "        [-4.9486e+00, -7.1185e-03],\n",
            "        [-6.0178e+00, -2.4380e-03],\n",
            "        [-4.2690e+00, -1.4094e-02],\n",
            "        [-7.1542e+00, -7.8183e-04],\n",
            "        [-7.3655e+00, -6.3292e-04],\n",
            "        [-4.5126e+00, -1.1030e-02],\n",
            "        [-7.0823e+00, -8.4019e-04],\n",
            "        [-2.4236e+00, -9.2771e-02],\n",
            "        [-6.1994e+00, -2.0328e-03],\n",
            "        [-7.9144e+00, -3.6555e-04],\n",
            "        [-4.8018e+00, -8.2487e-03],\n",
            "        [-6.6140e+00, -1.3423e-03],\n",
            "        [-7.2654e+00, -6.9951e-04],\n",
            "        [-3.4357e+00, -3.2734e-02],\n",
            "        [-5.2732e+00, -5.1405e-03],\n",
            "        [-4.1446e+00, -1.5977e-02],\n",
            "        [-7.7225e+00, -4.4288e-04],\n",
            "        [-5.4440e+00, -4.3317e-03],\n",
            "        [-6.6199e+00, -1.3345e-03],\n",
            "        [-6.6428e+00, -1.3041e-03],\n",
            "        [-3.6934e+00, -2.5201e-02],\n",
            "        [-3.5118e+00, -3.0297e-02],\n",
            "        [-5.3416e+00, -4.7999e-03],\n",
            "        [-5.8156e+00, -2.9852e-03],\n",
            "        [-5.3097e+00, -4.9555e-03],\n",
            "        [-5.4658e+00, -4.2378e-03],\n",
            "        [-5.5847e+00, -3.7620e-03],\n",
            "        [-4.6889e+00, -9.2398e-03],\n",
            "        [-8.8120e+00, -1.4900e-04],\n",
            "        [-8.5314e+00, -1.9715e-04],\n",
            "        [-5.5288e+00, -3.9786e-03],\n",
            "        [-3.4525e+00, -3.2178e-02],\n",
            "        [-5.5740e+00, -3.8025e-03],\n",
            "        [-5.5637e+00, -3.8418e-03],\n",
            "        [-6.9040e+00, -1.0043e-03],\n",
            "        [-4.3241e+00, -1.3334e-02],\n",
            "        [-4.3995e+00, -1.2359e-02],\n",
            "        [-5.7040e+00, -3.3381e-03],\n",
            "        [-8.4931e+00, -2.0490e-04],\n",
            "        [-5.4031e+00, -4.5126e-03],\n",
            "        [-6.0171e+00, -2.4397e-03],\n",
            "        [-4.8123e+00, -8.1620e-03],\n",
            "        [-2.5719e+00, -7.9468e-02],\n",
            "        [-5.6762e+00, -3.4326e-03],\n",
            "        [-2.4232e+00, -9.2814e-02],\n",
            "        [-6.4859e+00, -1.5260e-03],\n",
            "        [-7.5738e+00, -5.1390e-04],\n",
            "        [-3.1442e+00, -4.4056e-02],\n",
            "        [-4.4286e+00, -1.2003e-02],\n",
            "        [-6.5660e+00, -1.4084e-03],\n",
            "        [-4.8862e+00, -7.5788e-03],\n",
            "        [-6.7863e+00, -1.1297e-03],\n",
            "        [-8.5275e+00, -1.9799e-04]], grad_fn=<LogSoftmaxBackward0>)\n"
          ]
        },
        {
          "output_type": "stream",
          "name": "stderr",
          "text": [
            "<ipython-input-9-3890977ceee7>:14: UserWarning: Implicit dimension choice for log_softmax has been deprecated. Change the call to include dim=X as an argument.\n",
            "  h = F.log_softmax(h)\n"
          ]
        }
      ]
    },
    {
      "cell_type": "markdown",
      "source": [
        "# We take a look at the node embeddings produced by our GNN (before training)."
      ],
      "metadata": {
        "id": "xC1B-DKbGr_3"
      }
    },
    {
      "cell_type": "code",
      "source": [
        "import matplotlib.pyplot as plt\n",
        "from sklearn.manifold import TSNE\n",
        "import seaborn as sns\n",
        "\n",
        "def visualize(h):\n",
        "    z = TSNE(n_components = 2, random_state = 0).fit_transform(h.detach().numpy())\n",
        "    plt.figure(figsize = (6,4),  dpi = 120)\n",
        "    sns.scatterplot(z[:, 0], z[:, 1], hue = Data[\"y\"], palette=sns.color_palette(\"bright\",2)).set(title = \"Breast cancer dataset T-SNE projection before training (BGAT)\")"
      ],
      "metadata": {
        "id": "JJ5Skl4xR6xD"
      },
      "execution_count": null,
      "outputs": []
    },
    {
      "cell_type": "code",
      "source": [
        "model = Myconv()\n",
        "h = model(Data[\"x\"], Data[\"edge_index\"])\n",
        "\n",
        "print(f'Embedding shape: {list(h.shape)}')\n",
        "visualize(h)"
      ],
      "metadata": {
        "id": "XbQ-5skUTPlm",
        "colab": {
          "base_uri": "https://localhost:8080/",
          "height": 644
        },
        "outputId": "3ea13e06-1c14-45dd-8c1b-ccb1dc97015c"
      },
      "execution_count": null,
      "outputs": [
        {
          "output_type": "stream",
          "name": "stderr",
          "text": [
            "<ipython-input-9-3890977ceee7>:14: UserWarning: Implicit dimension choice for log_softmax has been deprecated. Change the call to include dim=X as an argument.\n",
            "  h = F.log_softmax(h)\n",
            "/usr/local/lib/python3.8/dist-packages/sklearn/manifold/_t_sne.py:780: FutureWarning: The default initialization in TSNE will change from 'random' to 'pca' in 1.2.\n",
            "  warnings.warn(\n",
            "/usr/local/lib/python3.8/dist-packages/sklearn/manifold/_t_sne.py:790: FutureWarning: The default learning rate in TSNE will change from 200.0 to 'auto' in 1.2.\n",
            "  warnings.warn(\n"
          ]
        },
        {
          "output_type": "stream",
          "name": "stdout",
          "text": [
            "Embedding shape: [80, 2]\n"
          ]
        },
        {
          "output_type": "stream",
          "name": "stderr",
          "text": [
            "/usr/local/lib/python3.8/dist-packages/seaborn/_decorators.py:36: FutureWarning: Pass the following variables as keyword args: x, y. From version 0.12, the only valid positional argument will be `data`, and passing other arguments without an explicit keyword will result in an error or misinterpretation.\n",
            "  warnings.warn(\n"
          ]
        },
        {
          "output_type": "display_data",
          "data": {
            "text/plain": [
              "<Figure size 720x480 with 1 Axes>"
            ],
            "image/png": "[encoded data removed]"
          },
          "metadata": {
            "needs_background": "light"
          }
        }
      ]
    },
    {
      "cell_type": "markdown",
      "source": [
        "# Start training the model. "
      ],
      "metadata": {
        "id": "zyo9Kk9XGvWX"
      }
    },
    {
      "cell_type": "code",
      "source": [
        "model = Myconv()\n",
        "criterion = torch.nn.CrossEntropyLoss()  # Define loss criterion.\n",
        "optimizer = torch.optim.Adam(model.parameters(), lr = 0.0005, weight_decay = 5e-4)  # Define optimizer, an object for updating parameters\n",
        "#loss = loss + weight decay parameter * L2 norm of the weights, 1) To prevent overfitting 2) To keep the weights small and avoid exploding gradient\n",
        "\n",
        "def train(Data):\n",
        "    model.train()\n",
        "    optimizer.zero_grad()  # Clear gradients.\n",
        "    out= model(Data[\"x\"], Data[\"edge_index\"])\n",
        "    train_loss = criterion(out[Data[\"train_mask\"]], Data[\"y\"][Data[\"train_mask\"]])  # Compute the loss solely based on the training nodes.\n",
        "    train_loss.backward()  # Derive gradients.\n",
        "    optimizer.step()  # Update parameters based on gradients.\n",
        "    return train_loss\n",
        "\n",
        "\n",
        "def val(Data):\n",
        "      model.eval()\n",
        "      with torch.no_grad():\n",
        "        out= model(Data[\"x\"], Data[\"edge_index\"])\n",
        "        val_loss = criterion(out[Data[\"val_mask\"]], Data[\"y\"][Data[\"val_mask\"]])\n",
        "        #pred = out.argmax(dim=1)\n",
        "        #test_correct = pred[Data[\"val_mask\"]] == Data[\"y\"][Data[\"val_mask\"]]  # Check against ground-truth labels.\n",
        "        #test_acc = int(test_correct.sum()) / int(Data[\"val_mask\"].sum())  # Derive ratio of correct predictions.\n",
        "        return val_loss"
      ],
      "metadata": {
        "id": "rj7Ov4wKTTtr"
      },
      "execution_count": null,
      "outputs": []
    },
    {
      "cell_type": "code",
      "source": [
        "train_loss_ = []\n",
        "val_loss_ = []\n",
        "\n",
        "for epoch in range(1, 201):\n",
        "\n",
        "  epoch_train_loss= []\n",
        "  epoch_val_loss= []\n",
        "  train_loss = train(Data)\n",
        "  val_loss = val(Data)\n",
        "\n",
        "\n",
        "\n",
        "\n",
        "\n",
        "\n",
        "  epoch_train_loss.append(train_loss.item())\n",
        "  epoch_val_loss.append(val_loss.item())\n",
        "\n",
        "\n",
        "\n",
        "\n",
        "  \n",
        "\n",
        "  val_loss_.append(sum(epoch_val_loss)/len(epoch_val_loss))\n",
        "  train_loss_.append(sum(epoch_train_loss)/len(epoch_train_loss))\n",
        "  print(epoch,'Train Loss: %.3f | val Loss: %.3f'%( train_loss,val_loss))"
      ],
      "metadata": {
        "id": "CYAvaQA0TXDM",
        "colab": {
          "base_uri": "https://localhost:8080/"
        },
        "outputId": "94d6df55-3641-476b-e51b-abe11108de77"
      },
      "execution_count": null,
      "outputs": [
        {
          "output_type": "stream",
          "name": "stderr",
          "text": [
            "<ipython-input-9-3890977ceee7>:14: UserWarning: Implicit dimension choice for log_softmax has been deprecated. Change the call to include dim=X as an argument.\n",
            "  h = F.log_softmax(h)\n"
          ]
        },
        {
          "output_type": "stream",
          "name": "stdout",
          "text": [
            "1 Train Loss: 3.015 | val Loss: 1.563\n",
            "2 Train Loss: 1.955 | val Loss: 0.831\n",
            "3 Train Loss: 1.004 | val Loss: 0.782\n",
            "4 Train Loss: 0.650 | val Loss: 0.795\n",
            "5 Train Loss: 0.660 | val Loss: 0.836\n",
            "6 Train Loss: 0.701 | val Loss: 0.855\n",
            "7 Train Loss: 0.699 | val Loss: 0.854\n",
            "8 Train Loss: 0.747 | val Loss: 0.828\n",
            "9 Train Loss: 0.736 | val Loss: 0.815\n",
            "10 Train Loss: 0.705 | val Loss: 0.808\n",
            "11 Train Loss: 0.697 | val Loss: 0.795\n",
            "12 Train Loss: 0.686 | val Loss: 0.774\n",
            "13 Train Loss: 0.664 | val Loss: 0.792\n",
            "14 Train Loss: 0.648 | val Loss: 0.808\n",
            "15 Train Loss: 0.641 | val Loss: 0.801\n",
            "16 Train Loss: 0.639 | val Loss: 0.794\n",
            "17 Train Loss: 0.637 | val Loss: 0.786\n",
            "18 Train Loss: 0.640 | val Loss: 0.806\n",
            "19 Train Loss: 0.640 | val Loss: 0.811\n",
            "20 Train Loss: 0.636 | val Loss: 0.796\n",
            "21 Train Loss: 0.624 | val Loss: 0.793\n",
            "22 Train Loss: 0.620 | val Loss: 0.795\n",
            "23 Train Loss: 0.620 | val Loss: 0.795\n",
            "24 Train Loss: 0.619 | val Loss: 0.794\n",
            "25 Train Loss: 0.616 | val Loss: 0.781\n",
            "26 Train Loss: 0.607 | val Loss: 0.761\n",
            "27 Train Loss: 0.603 | val Loss: 0.759\n",
            "28 Train Loss: 0.601 | val Loss: 0.763\n",
            "29 Train Loss: 0.599 | val Loss: 0.768\n",
            "30 Train Loss: 0.600 | val Loss: 0.769\n",
            "31 Train Loss: 0.600 | val Loss: 0.768\n",
            "32 Train Loss: 0.600 | val Loss: 0.766\n",
            "33 Train Loss: 0.600 | val Loss: 0.765\n",
            "34 Train Loss: 0.599 | val Loss: 0.766\n",
            "35 Train Loss: 0.598 | val Loss: 0.766\n",
            "36 Train Loss: 0.596 | val Loss: 0.766\n",
            "37 Train Loss: 0.596 | val Loss: 0.766\n",
            "38 Train Loss: 0.595 | val Loss: 0.767\n",
            "39 Train Loss: 0.594 | val Loss: 0.767\n",
            "40 Train Loss: 0.593 | val Loss: 0.767\n",
            "41 Train Loss: 0.592 | val Loss: 0.766\n",
            "42 Train Loss: 0.590 | val Loss: 0.765\n",
            "43 Train Loss: 0.589 | val Loss: 0.763\n",
            "44 Train Loss: 0.588 | val Loss: 0.761\n",
            "45 Train Loss: 0.586 | val Loss: 0.760\n",
            "46 Train Loss: 0.585 | val Loss: 0.758\n",
            "47 Train Loss: 0.584 | val Loss: 0.757\n",
            "48 Train Loss: 0.583 | val Loss: 0.756\n",
            "49 Train Loss: 0.582 | val Loss: 0.754\n",
            "50 Train Loss: 0.581 | val Loss: 0.753\n",
            "51 Train Loss: 0.580 | val Loss: 0.751\n",
            "52 Train Loss: 0.579 | val Loss: 0.747\n",
            "53 Train Loss: 0.577 | val Loss: 0.740\n",
            "54 Train Loss: 0.574 | val Loss: 0.732\n",
            "55 Train Loss: 0.572 | val Loss: 0.726\n",
            "56 Train Loss: 0.571 | val Loss: 0.723\n",
            "57 Train Loss: 0.570 | val Loss: 0.723\n",
            "58 Train Loss: 0.569 | val Loss: 0.724\n",
            "59 Train Loss: 0.569 | val Loss: 0.727\n",
            "60 Train Loss: 0.568 | val Loss: 0.728\n",
            "61 Train Loss: 0.568 | val Loss: 0.726\n",
            "62 Train Loss: 0.567 | val Loss: 0.722\n",
            "63 Train Loss: 0.565 | val Loss: 0.718\n",
            "64 Train Loss: 0.564 | val Loss: 0.716\n",
            "65 Train Loss: 0.563 | val Loss: 0.715\n",
            "66 Train Loss: 0.562 | val Loss: 0.714\n",
            "67 Train Loss: 0.561 | val Loss: 0.715\n",
            "68 Train Loss: 0.560 | val Loss: 0.716\n",
            "69 Train Loss: 0.559 | val Loss: 0.718\n",
            "70 Train Loss: 0.559 | val Loss: 0.718\n",
            "71 Train Loss: 0.558 | val Loss: 0.718\n",
            "72 Train Loss: 0.557 | val Loss: 0.716\n",
            "73 Train Loss: 0.556 | val Loss: 0.713\n",
            "74 Train Loss: 0.555 | val Loss: 0.711\n",
            "75 Train Loss: 0.554 | val Loss: 0.709\n",
            "76 Train Loss: 0.554 | val Loss: 0.708\n",
            "77 Train Loss: 0.553 | val Loss: 0.707\n",
            "78 Train Loss: 0.552 | val Loss: 0.706\n",
            "79 Train Loss: 0.552 | val Loss: 0.705\n",
            "80 Train Loss: 0.551 | val Loss: 0.705\n",
            "81 Train Loss: 0.550 | val Loss: 0.704\n",
            "82 Train Loss: 0.549 | val Loss: 0.703\n",
            "83 Train Loss: 0.549 | val Loss: 0.703\n",
            "84 Train Loss: 0.548 | val Loss: 0.702\n",
            "85 Train Loss: 0.547 | val Loss: 0.702\n",
            "86 Train Loss: 0.547 | val Loss: 0.702\n",
            "87 Train Loss: 0.546 | val Loss: 0.702\n",
            "88 Train Loss: 0.545 | val Loss: 0.702\n",
            "89 Train Loss: 0.544 | val Loss: 0.702\n",
            "90 Train Loss: 0.544 | val Loss: 0.702\n",
            "91 Train Loss: 0.543 | val Loss: 0.701\n",
            "92 Train Loss: 0.543 | val Loss: 0.701\n",
            "93 Train Loss: 0.542 | val Loss: 0.700\n",
            "94 Train Loss: 0.541 | val Loss: 0.698\n",
            "95 Train Loss: 0.541 | val Loss: 0.697\n",
            "96 Train Loss: 0.540 | val Loss: 0.696\n",
            "97 Train Loss: 0.539 | val Loss: 0.695\n",
            "98 Train Loss: 0.539 | val Loss: 0.694\n",
            "99 Train Loss: 0.538 | val Loss: 0.694\n",
            "100 Train Loss: 0.538 | val Loss: 0.693\n",
            "101 Train Loss: 0.537 | val Loss: 0.692\n",
            "102 Train Loss: 0.537 | val Loss: 0.692\n",
            "103 Train Loss: 0.536 | val Loss: 0.691\n",
            "104 Train Loss: 0.535 | val Loss: 0.691\n",
            "105 Train Loss: 0.535 | val Loss: 0.691\n",
            "106 Train Loss: 0.534 | val Loss: 0.690\n",
            "107 Train Loss: 0.534 | val Loss: 0.690\n",
            "108 Train Loss: 0.533 | val Loss: 0.690\n",
            "109 Train Loss: 0.533 | val Loss: 0.690\n",
            "110 Train Loss: 0.532 | val Loss: 0.689\n",
            "111 Train Loss: 0.532 | val Loss: 0.689\n",
            "112 Train Loss: 0.531 | val Loss: 0.688\n",
            "113 Train Loss: 0.531 | val Loss: 0.688\n",
            "114 Train Loss: 0.530 | val Loss: 0.687\n",
            "115 Train Loss: 0.530 | val Loss: 0.686\n",
            "116 Train Loss: 0.529 | val Loss: 0.686\n",
            "117 Train Loss: 0.529 | val Loss: 0.685\n",
            "118 Train Loss: 0.528 | val Loss: 0.685\n",
            "119 Train Loss: 0.528 | val Loss: 0.684\n",
            "120 Train Loss: 0.527 | val Loss: 0.684\n",
            "121 Train Loss: 0.527 | val Loss: 0.684\n",
            "122 Train Loss: 0.526 | val Loss: 0.683\n",
            "123 Train Loss: 0.526 | val Loss: 0.683\n",
            "124 Train Loss: 0.525 | val Loss: 0.683\n",
            "125 Train Loss: 0.525 | val Loss: 0.682\n",
            "126 Train Loss: 0.525 | val Loss: 0.682\n",
            "127 Train Loss: 0.524 | val Loss: 0.682\n",
            "128 Train Loss: 0.524 | val Loss: 0.681\n",
            "129 Train Loss: 0.523 | val Loss: 0.681\n",
            "130 Train Loss: 0.523 | val Loss: 0.681\n",
            "131 Train Loss: 0.523 | val Loss: 0.680\n",
            "132 Train Loss: 0.522 | val Loss: 0.680\n",
            "133 Train Loss: 0.522 | val Loss: 0.679\n",
            "134 Train Loss: 0.521 | val Loss: 0.679\n",
            "135 Train Loss: 0.521 | val Loss: 0.679\n",
            "136 Train Loss: 0.521 | val Loss: 0.678\n",
            "137 Train Loss: 0.520 | val Loss: 0.678\n",
            "138 Train Loss: 0.520 | val Loss: 0.678\n",
            "139 Train Loss: 0.519 | val Loss: 0.677\n",
            "140 Train Loss: 0.519 | val Loss: 0.677\n",
            "141 Train Loss: 0.519 | val Loss: 0.677\n",
            "142 Train Loss: 0.518 | val Loss: 0.677\n",
            "143 Train Loss: 0.518 | val Loss: 0.676\n",
            "144 Train Loss: 0.518 | val Loss: 0.676\n",
            "145 Train Loss: 0.517 | val Loss: 0.676\n",
            "146 Train Loss: 0.517 | val Loss: 0.675\n",
            "147 Train Loss: 0.517 | val Loss: 0.675\n",
            "148 Train Loss: 0.516 | val Loss: 0.675\n",
            "149 Train Loss: 0.516 | val Loss: 0.675\n",
            "150 Train Loss: 0.516 | val Loss: 0.674\n",
            "151 Train Loss: 0.515 | val Loss: 0.674\n",
            "152 Train Loss: 0.515 | val Loss: 0.674\n",
            "153 Train Loss: 0.515 | val Loss: 0.674\n",
            "154 Train Loss: 0.514 | val Loss: 0.673\n",
            "155 Train Loss: 0.514 | val Loss: 0.673\n",
            "156 Train Loss: 0.514 | val Loss: 0.673\n",
            "157 Train Loss: 0.514 | val Loss: 0.673\n",
            "158 Train Loss: 0.513 | val Loss: 0.672\n",
            "159 Train Loss: 0.513 | val Loss: 0.672\n",
            "160 Train Loss: 0.513 | val Loss: 0.672\n",
            "161 Train Loss: 0.512 | val Loss: 0.672\n",
            "162 Train Loss: 0.512 | val Loss: 0.672\n",
            "163 Train Loss: 0.512 | val Loss: 0.671\n",
            "164 Train Loss: 0.512 | val Loss: 0.671\n",
            "165 Train Loss: 0.511 | val Loss: 0.671\n",
            "166 Train Loss: 0.511 | val Loss: 0.671\n",
            "167 Train Loss: 0.511 | val Loss: 0.670\n",
            "168 Train Loss: 0.511 | val Loss: 0.670\n",
            "169 Train Loss: 0.510 | val Loss: 0.670\n",
            "170 Train Loss: 0.510 | val Loss: 0.670\n",
            "171 Train Loss: 0.510 | val Loss: 0.670\n",
            "172 Train Loss: 0.510 | val Loss: 0.670\n",
            "173 Train Loss: 0.509 | val Loss: 0.669\n",
            "174 Train Loss: 0.509 | val Loss: 0.669\n",
            "175 Train Loss: 0.509 | val Loss: 0.669\n",
            "176 Train Loss: 0.509 | val Loss: 0.669\n",
            "177 Train Loss: 0.508 | val Loss: 0.669\n",
            "178 Train Loss: 0.508 | val Loss: 0.669\n",
            "179 Train Loss: 0.508 | val Loss: 0.668\n",
            "180 Train Loss: 0.508 | val Loss: 0.668\n",
            "181 Train Loss: 0.508 | val Loss: 0.668\n",
            "182 Train Loss: 0.507 | val Loss: 0.668\n",
            "183 Train Loss: 0.507 | val Loss: 0.668\n",
            "184 Train Loss: 0.507 | val Loss: 0.668\n",
            "185 Train Loss: 0.507 | val Loss: 0.667\n",
            "186 Train Loss: 0.507 | val Loss: 0.667\n",
            "187 Train Loss: 0.506 | val Loss: 0.667\n",
            "188 Train Loss: 0.506 | val Loss: 0.667\n",
            "189 Train Loss: 0.506 | val Loss: 0.667\n",
            "190 Train Loss: 0.506 | val Loss: 0.667\n",
            "191 Train Loss: 0.506 | val Loss: 0.667\n",
            "192 Train Loss: 0.505 | val Loss: 0.666\n",
            "193 Train Loss: 0.505 | val Loss: 0.666\n",
            "194 Train Loss: 0.505 | val Loss: 0.666\n",
            "195 Train Loss: 0.505 | val Loss: 0.666\n",
            "196 Train Loss: 0.505 | val Loss: 0.666\n",
            "197 Train Loss: 0.504 | val Loss: 0.666\n",
            "198 Train Loss: 0.504 | val Loss: 0.666\n",
            "199 Train Loss: 0.504 | val Loss: 0.666\n",
            "200 Train Loss: 0.504 | val Loss: 0.666\n"
          ]
        }
      ]
    },
    {
      "cell_type": "markdown",
      "source": [
        "# Visualize train loss and val loss."
      ],
      "metadata": {
        "id": "HqStyVBPGy6r"
      }
    },
    {
      "cell_type": "code",
      "source": [
        "plt.plot(train_loss_, \"m\", linewidth = 3)\n",
        "plt.plot(val_loss_, \"k\", linewidth = 3)\n",
        "plt.xlabel('epoch')\n",
        "plt.ylabel('loss')\n",
        "plt.legend(['Train','Val'])\n",
        "plt.title('Train vs Val Loss for the breast cancer dataset (BGAT)')\n",
        "plt.grid()\n",
        "plt.show()"
      ],
      "metadata": {
        "id": "ckyIHLDTTbsE",
        "colab": {
          "base_uri": "https://localhost:8080/",
          "height": 295
        },
        "outputId": "fa0c6c30-7b58-41aa-f1b9-162124be7141"
      },
      "execution_count": null,
      "outputs": [
        {
          "output_type": "display_data",
          "data": {
            "text/plain": [
              "<Figure size 432x288 with 1 Axes>"
            ],
            "image/png": "[encoded data removed]"
          },
          "metadata": {
            "needs_background": "light"
          }
        }
      ]
    },
    {
      "cell_type": "markdown",
      "source": [
        "# Compute the accuracy of the model."
      ],
      "metadata": {
        "id": "3MSz8jMRG2q_"
      }
    },
    {
      "cell_type": "code",
      "source": [
        "data = pd.DataFrame([])\n",
        "out = model(Data[\"x\"], Data[\"edge_index\"])\n",
        "pred = out.argmax(dim=1) \n",
        "pred = pred[Data[\"test_mask\"]] \n",
        "act = Data[\"y\"][Data[\"test_mask\"]]\n",
        "df = {'y_Actual':    act,'y_Predicted':pred}\n",
        "df = pd.DataFrame(df, columns=['y_Actual','y_Predicted'])\n",
        "data = pd.concat((data, df), axis = 0, ignore_index = True)\n",
        "#print(data, \"\\n\")\n",
        "acc = 100*(data[\"y_Actual\"] == data[\"y_Predicted\"]).sum()/len(data)\n",
        "print(f'Accuracy:  {acc:.4f}')"
      ],
      "metadata": {
        "id": "X36bSwTud7tE",
        "colab": {
          "base_uri": "https://localhost:8080/"
        },
        "outputId": "1a35b93d-90b5-43fd-e28c-3f938cfd062a"
      },
      "execution_count": null,
      "outputs": [
        {
          "output_type": "stream",
          "name": "stdout",
          "text": [
            "Accuracy:  81.2500\n"
          ]
        },
        {
          "output_type": "stream",
          "name": "stderr",
          "text": [
            "<ipython-input-9-3890977ceee7>:14: UserWarning: Implicit dimension choice for log_softmax has been deprecated. Change the call to include dim=X as an argument.\n",
            "  h = F.log_softmax(h)\n"
          ]
        }
      ]
    },
    {
      "cell_type": "code",
      "source": [
        "def test(Data):\n",
        "      model.eval()\n",
        "      with torch.no_grad():\n",
        "        out= model(Data[\"x\"], Data[\"edge_index\"])\n",
        "        pred = out.argmax(dim=1)\n",
        "        test_correct = pred[Data[\"test_mask\"]] == Data[\"y\"][Data[\"test_mask\"]]  # Check against ground-truth labels.\n",
        "        test_acc = int(test_correct.sum()) / int(Data[\"test_mask\"].sum())  # Derive ratio of correct predictions.\n",
        "        return test_acc"
      ],
      "metadata": {
        "id": "Bow9I6sMTfQ4"
      },
      "execution_count": null,
      "outputs": []
    },
    {
      "cell_type": "code",
      "source": [
        "test_acc = test(Data)\n",
        "print(f'Test Accuracy: {100*test_acc}')"
      ],
      "metadata": {
        "id": "fxIB5hrcThc6",
        "colab": {
          "base_uri": "https://localhost:8080/"
        },
        "outputId": "d927d71f-caaf-4d2c-c49e-c538500a89bb"
      },
      "execution_count": null,
      "outputs": [
        {
          "output_type": "stream",
          "name": "stdout",
          "text": [
            "Test Accuracy: 81.25\n"
          ]
        },
        {
          "output_type": "stream",
          "name": "stderr",
          "text": [
            "<ipython-input-9-3890977ceee7>:14: UserWarning: Implicit dimension choice for log_softmax has been deprecated. Change the call to include dim=X as an argument.\n",
            "  h = F.log_softmax(h)\n"
          ]
        }
      ]
    },
    {
      "cell_type": "markdown",
      "source": [
        "# We take a look at the node embeddings produced by our GNN (after training)."
      ],
      "metadata": {
        "id": "vGGgzzGbG5WW"
      }
    },
    {
      "cell_type": "code",
      "source": [
        "import matplotlib.pyplot as plt\n",
        "from sklearn.manifold import TSNE\n",
        "import seaborn as sns\n",
        "\n",
        "def visualize(h):\n",
        "    z = TSNE(n_components = 2, random_state = 0).fit_transform(h.detach().numpy())\n",
        "    plt.figure(figsize = (6,4),  dpi = 120)\n",
        "    sns.scatterplot(z[:, 0], z[:, 1], hue = Data[\"y\"], palette=sns.color_palette(\"bright\",2)).set(title = \"Breast cancer dataset T-SNE projection after training (BGAT)\")"
      ],
      "metadata": {
        "id": "qhZROGgwcSl-"
      },
      "execution_count": null,
      "outputs": []
    },
    {
      "cell_type": "code",
      "source": [
        "model.eval()\n",
        "out = model(Data[\"x\"], Data[\"edge_index\"])\n",
        "visualize(out)"
      ],
      "metadata": {
        "id": "F73uOs9fTjxz",
        "colab": {
          "base_uri": "https://localhost:8080/",
          "height": 626
        },
        "outputId": "1dc26906-505f-4089-a378-597b725ec516"
      },
      "execution_count": null,
      "outputs": [
        {
          "output_type": "stream",
          "name": "stderr",
          "text": [
            "<ipython-input-9-3890977ceee7>:14: UserWarning: Implicit dimension choice for log_softmax has been deprecated. Change the call to include dim=X as an argument.\n",
            "  h = F.log_softmax(h)\n",
            "/usr/local/lib/python3.8/dist-packages/sklearn/manifold/_t_sne.py:780: FutureWarning: The default initialization in TSNE will change from 'random' to 'pca' in 1.2.\n",
            "  warnings.warn(\n",
            "/usr/local/lib/python3.8/dist-packages/sklearn/manifold/_t_sne.py:790: FutureWarning: The default learning rate in TSNE will change from 200.0 to 'auto' in 1.2.\n",
            "  warnings.warn(\n",
            "/usr/local/lib/python3.8/dist-packages/seaborn/_decorators.py:36: FutureWarning: Pass the following variables as keyword args: x, y. From version 0.12, the only valid positional argument will be `data`, and passing other arguments without an explicit keyword will result in an error or misinterpretation.\n",
            "  warnings.warn(\n"
          ]
        },
        {
          "output_type": "display_data",
          "data": {
            "text/plain": [
              "<Figure size 720x480 with 1 Axes>"
            ],
            "image/png": "[encoded data removed]"
          },
          "metadata": {
            "needs_background": "light"
          }
        }
      ]
    },
    {
      "cell_type": "markdown",
      "source": [
        "# Confusion matrix."
      ],
      "metadata": {
        "id": "7r_xZHCxG9EJ"
      }
    },
    {
      "cell_type": "code",
      "source": [
        "pred = out.argmax(dim=1)\n",
        "pred"
      ],
      "metadata": {
        "colab": {
          "base_uri": "https://localhost:8080/"
        },
        "id": "ozp0XDr5d16e",
        "outputId": "0c25ddba-01b3-4c99-a96d-db619c5186e1"
      },
      "execution_count": null,
      "outputs": [
        {
          "output_type": "execute_result",
          "data": {
            "text/plain": [
              "tensor([0, 0, 1, 0, 0, 1, 0, 0, 1, 1, 1, 0, 0, 0, 1, 0, 0, 0, 0, 0, 0, 0, 0, 1,\n",
              "        0, 0, 0, 0, 1, 0, 0, 0, 0, 0, 1, 1, 1, 0, 0, 1, 1, 1, 0, 1, 1, 1, 1, 1,\n",
              "        1, 1, 1, 0, 1, 1, 1, 1, 1, 1, 1, 1, 1, 1, 1, 1, 0, 1, 0, 1, 1, 1, 1, 1,\n",
              "        0, 1, 1, 1, 1, 1, 1, 1])"
            ]
          },
          "metadata": {},
          "execution_count": 20
        }
      ]
    },
    {
      "cell_type": "code",
      "source": [
        "pred = pred[Data[\"test_mask\"]] "
      ],
      "metadata": {
        "id": "oW8YkMNod1sh"
      },
      "execution_count": null,
      "outputs": []
    },
    {
      "cell_type": "code",
      "source": [
        "act = Data[\"y\"][Data[\"test_mask\"]]"
      ],
      "metadata": {
        "id": "Zbi_ZSsvd1dV"
      },
      "execution_count": null,
      "outputs": []
    },
    {
      "cell_type": "code",
      "source": [
        "data = {'y_Actual':    act,\n",
        "        'y_Predicted': pred\n",
        "        }\n",
        "\n",
        "df = pd.DataFrame(data, columns = ['y_Actual','y_Predicted'])\n",
        "df"
      ],
      "metadata": {
        "colab": {
          "base_uri": "https://localhost:8080/",
          "height": 1000
        },
        "id": "VfvYy5UUqBFW",
        "outputId": "55e0e273-b85a-42c6-da31-335a89f13a15"
      },
      "execution_count": null,
      "outputs": [
        {
          "output_type": "execute_result",
          "data": {
            "text/plain": [
              "    y_Actual  y_Predicted\n",
              "0          0            0\n",
              "1          0            0\n",
              "2          0            0\n",
              "3          0            1\n",
              "4          0            0\n",
              "5          0            0\n",
              "6          0            1\n",
              "7          0            1\n",
              "8          0            0\n",
              "9          0            0\n",
              "10         0            1\n",
              "11         0            0\n",
              "12         0            0\n",
              "13         0            0\n",
              "14         0            0\n",
              "15         0            1\n",
              "16         0            0\n",
              "17         0            0\n",
              "18         0            0\n",
              "19         0            0\n",
              "20         0            0\n",
              "21         0            1\n",
              "22         0            1\n",
              "23         0            0\n",
              "24         1            1\n",
              "25         1            1\n",
              "26         1            1\n",
              "27         1            1\n",
              "28         1            1\n",
              "29         1            1\n",
              "30         1            1\n",
              "31         1            1\n",
              "32         1            1\n",
              "33         1            0\n",
              "34         1            1\n",
              "35         1            1\n",
              "36         1            1\n",
              "37         1            1\n",
              "38         1            1\n",
              "39         1            1\n",
              "40         1            1\n",
              "41         1            1\n",
              "42         1            1\n",
              "43         1            1\n",
              "44         1            0\n",
              "45         1            1\n",
              "46         1            1\n",
              "47         1            1"
            ],
            "text/html": [
              "\n",
              "  <div id=\"df-0187ebea-64f8-4020-99f8-3a86c39d7446\">\n",
              "    <div class=\"colab-df-container\">\n",
              "      <div>\n",
              "<style scoped>\n",
              "    .dataframe tbody tr th:only-of-type {\n",
              "        vertical-align: middle;\n",
              "    }\n",
              "\n",
              "    .dataframe tbody tr th {\n",
              "        vertical-align: top;\n",
              "    }\n",
              "\n",
              "    .dataframe thead th {\n",
              "        text-align: right;\n",
              "    }\n",
              "</style>\n",
              "<table border=\"1\" class=\"dataframe\">\n",
              "  <thead>\n",
              "    <tr style=\"text-align: right;\">\n",
              "      <th></th>\n",
              "      <th>y_Actual</th>\n",
              "      <th>y_Predicted</th>\n",
              "    </tr>\n",
              "  </thead>\n",
              "  <tbody>\n",
              "    <tr>\n",
              "      <th>0</th>\n",
              "      <td>0</td>\n",
              "      <td>0</td>\n",
              "    </tr>\n",
              "    <tr>\n",
              "      <th>1</th>\n",
              "      <td>0</td>\n",
              "      <td>0</td>\n",
              "    </tr>\n",
              "    <tr>\n",
              "      <th>2</th>\n",
              "      <td>0</td>\n",
              "      <td>0</td>\n",
              "    </tr>\n",
              "    <tr>\n",
              "      <th>3</th>\n",
              "      <td>0</td>\n",
              "      <td>1</td>\n",
              "    </tr>\n",
              "    <tr>\n",
              "      <th>4</th>\n",
              "      <td>0</td>\n",
              "      <td>0</td>\n",
              "    </tr>\n",
              "    <tr>\n",
              "      <th>5</th>\n",
              "      <td>0</td>\n",
              "      <td>0</td>\n",
              "    </tr>\n",
              "    <tr>\n",
              "      <th>6</th>\n",
              "      <td>0</td>\n",
              "      <td>1</td>\n",
              "    </tr>\n",
              "    <tr>\n",
              "      <th>7</th>\n",
              "      <td>0</td>\n",
              "      <td>1</td>\n",
              "    </tr>\n",
              "    <tr>\n",
              "      <th>8</th>\n",
              "      <td>0</td>\n",
              "      <td>0</td>\n",
              "    </tr>\n",
              "    <tr>\n",
              "      <th>9</th>\n",
              "      <td>0</td>\n",
              "      <td>0</td>\n",
              "    </tr>\n",
              "    <tr>\n",
              "      <th>10</th>\n",
              "      <td>0</td>\n",
              "      <td>1</td>\n",
              "    </tr>\n",
              "    <tr>\n",
              "      <th>11</th>\n",
              "      <td>0</td>\n",
              "      <td>0</td>\n",
              "    </tr>\n",
              "    <tr>\n",
              "      <th>12</th>\n",
              "      <td>0</td>\n",
              "      <td>0</td>\n",
              "    </tr>\n",
              "    <tr>\n",
              "      <th>13</th>\n",
              "      <td>0</td>\n",
              "      <td>0</td>\n",
              "    </tr>\n",
              "    <tr>\n",
              "      <th>14</th>\n",
              "      <td>0</td>\n",
              "      <td>0</td>\n",
              "    </tr>\n",
              "    <tr>\n",
              "      <th>15</th>\n",
              "      <td>0</td>\n",
              "      <td>1</td>\n",
              "    </tr>\n",
              "    <tr>\n",
              "      <th>16</th>\n",
              "      <td>0</td>\n",
              "      <td>0</td>\n",
              "    </tr>\n",
              "    <tr>\n",
              "      <th>17</th>\n",
              "      <td>0</td>\n",
              "      <td>0</td>\n",
              "    </tr>\n",
              "    <tr>\n",
              "      <th>18</th>\n",
              "      <td>0</td>\n",
              "      <td>0</td>\n",
              "    </tr>\n",
              "    <tr>\n",
              "      <th>19</th>\n",
              "      <td>0</td>\n",
              "      <td>0</td>\n",
              "    </tr>\n",
              "    <tr>\n",
              "      <th>20</th>\n",
              "      <td>0</td>\n",
              "      <td>0</td>\n",
              "    </tr>\n",
              "    <tr>\n",
              "      <th>21</th>\n",
              "      <td>0</td>\n",
              "      <td>1</td>\n",
              "    </tr>\n",
              "    <tr>\n",
              "      <th>22</th>\n",
              "      <td>0</td>\n",
              "      <td>1</td>\n",
              "    </tr>\n",
              "    <tr>\n",
              "      <th>23</th>\n",
              "      <td>0</td>\n",
              "      <td>0</td>\n",
              "    </tr>\n",
              "    <tr>\n",
              "      <th>24</th>\n",
              "      <td>1</td>\n",
              "      <td>1</td>\n",
              "    </tr>\n",
              "    <tr>\n",
              "      <th>25</th>\n",
              "      <td>1</td>\n",
              "      <td>1</td>\n",
              "    </tr>\n",
              "    <tr>\n",
              "      <th>26</th>\n",
              "      <td>1</td>\n",
              "      <td>1</td>\n",
              "    </tr>\n",
              "    <tr>\n",
              "      <th>27</th>\n",
              "      <td>1</td>\n",
              "      <td>1</td>\n",
              "    </tr>\n",
              "    <tr>\n",
              "      <th>28</th>\n",
              "      <td>1</td>\n",
              "      <td>1</td>\n",
              "    </tr>\n",
              "    <tr>\n",
              "      <th>29</th>\n",
              "      <td>1</td>\n",
              "      <td>1</td>\n",
              "    </tr>\n",
              "    <tr>\n",
              "      <th>30</th>\n",
              "      <td>1</td>\n",
              "      <td>1</td>\n",
              "    </tr>\n",
              "    <tr>\n",
              "      <th>31</th>\n",
              "      <td>1</td>\n",
              "      <td>1</td>\n",
              "    </tr>\n",
              "    <tr>\n",
              "      <th>32</th>\n",
              "      <td>1</td>\n",
              "      <td>1</td>\n",
              "    </tr>\n",
              "    <tr>\n",
              "      <th>33</th>\n",
              "      <td>1</td>\n",
              "      <td>0</td>\n",
              "    </tr>\n",
              "    <tr>\n",
              "      <th>34</th>\n",
              "      <td>1</td>\n",
              "      <td>1</td>\n",
              "    </tr>\n",
              "    <tr>\n",
              "      <th>35</th>\n",
              "      <td>1</td>\n",
              "      <td>1</td>\n",
              "    </tr>\n",
              "    <tr>\n",
              "      <th>36</th>\n",
              "      <td>1</td>\n",
              "      <td>1</td>\n",
              "    </tr>\n",
              "    <tr>\n",
              "      <th>37</th>\n",
              "      <td>1</td>\n",
              "      <td>1</td>\n",
              "    </tr>\n",
              "    <tr>\n",
              "      <th>38</th>\n",
              "      <td>1</td>\n",
              "      <td>1</td>\n",
              "    </tr>\n",
              "    <tr>\n",
              "      <th>39</th>\n",
              "      <td>1</td>\n",
              "      <td>1</td>\n",
              "    </tr>\n",
              "    <tr>\n",
              "      <th>40</th>\n",
              "      <td>1</td>\n",
              "      <td>1</td>\n",
              "    </tr>\n",
              "    <tr>\n",
              "      <th>41</th>\n",
              "      <td>1</td>\n",
              "      <td>1</td>\n",
              "    </tr>\n",
              "    <tr>\n",
              "      <th>42</th>\n",
              "      <td>1</td>\n",
              "      <td>1</td>\n",
              "    </tr>\n",
              "    <tr>\n",
              "      <th>43</th>\n",
              "      <td>1</td>\n",
              "      <td>1</td>\n",
              "    </tr>\n",
              "    <tr>\n",
              "      <th>44</th>\n",
              "      <td>1</td>\n",
              "      <td>0</td>\n",
              "    </tr>\n",
              "    <tr>\n",
              "      <th>45</th>\n",
              "      <td>1</td>\n",
              "      <td>1</td>\n",
              "    </tr>\n",
              "    <tr>\n",
              "      <th>46</th>\n",
              "      <td>1</td>\n",
              "      <td>1</td>\n",
              "    </tr>\n",
              "    <tr>\n",
              "      <th>47</th>\n",
              "      <td>1</td>\n",
              "      <td>1</td>\n",
              "    </tr>\n",
              "  </tbody>\n",
              "</table>\n",
              "</div>\n",
              "      <button class=\"colab-df-convert\" onclick=\"convertToInteractive('df-0187ebea-64f8-4020-99f8-3a86c39d7446')\"\n",
              "              title=\"Convert this dataframe to an interactive table.\"\n",
              "              style=\"display:none;\">\n",
              "        \n",
              "  <svg xmlns=\"http://www.w3.org/2000/svg\" height=\"24px\"viewBox=\"0 0 24 24\"\n",
              "       width=\"24px\">\n",
              "    <path d=\"M0 0h24v24H0V0z\" fill=\"none\"/>\n",
              "    <path d=\"M18.56 5.44l.94 2.06.94-2.06 2.06-.94-2.06-.94-.94-2.06-.94 2.06-2.06.94zm-11 1L8.5 8.5l.94-2.06 2.06-.94-2.06-.94L8.5 2.5l-.94 2.06-2.06.94zm10 10l.94 2.06.94-2.06 2.06-.94-2.06-.94-.94-2.06-.94 2.06-2.06.94z\"/><path d=\"M17.41 7.96l-1.37-1.37c-.4-.4-.92-.59-1.43-.59-.52 0-1.04.2-1.43.59L10.3 9.45l-7.72 7.72c-.78.78-.78 2.05 0 2.83L4 21.41c.39.39.9.59 1.41.59.51 0 1.02-.2 1.41-.59l7.78-7.78 2.81-2.81c.8-.78.8-2.07 0-2.86zM5.41 20L4 18.59l7.72-7.72 1.47 1.35L5.41 20z\"/>\n",
              "  </svg>\n",
              "      </button>\n",
              "      \n",
              "  <style>\n",
              "    .colab-df-container {\n",
              "      display:flex;\n",
              "      flex-wrap:wrap;\n",
              "      gap: 12px;\n",
              "    }\n",
              "\n",
              "    .colab-df-convert {\n",
              "      background-color: #E8F0FE;\n",
              "      border: none;\n",
              "      border-radius: 50%;\n",
              "      cursor: pointer;\n",
              "      display: none;\n",
              "      fill: #1967D2;\n",
              "      height: 32px;\n",
              "      padding: 0 0 0 0;\n",
              "      width: 32px;\n",
              "    }\n",
              "\n",
              "    .colab-df-convert:hover {\n",
              "      background-color: #E2EBFA;\n",
              "      box-shadow: 0px 1px 2px rgba(60, 64, 67, 0.3), 0px 1px 3px 1px rgba(60, 64, 67, 0.15);\n",
              "      fill: #174EA6;\n",
              "    }\n",
              "\n",
              "    [theme=dark] .colab-df-convert {\n",
              "      background-color: #3B4455;\n",
              "      fill: #D2E3FC;\n",
              "    }\n",
              "\n",
              "    [theme=dark] .colab-df-convert:hover {\n",
              "      background-color: #434B5C;\n",
              "      box-shadow: 0px 1px 3px 1px rgba(0, 0, 0, 0.15);\n",
              "      filter: drop-shadow(0px 1px 2px rgba(0, 0, 0, 0.3));\n",
              "      fill: #FFFFFF;\n",
              "    }\n",
              "  </style>\n",
              "\n",
              "      <script>\n",
              "        const buttonEl =\n",
              "          document.querySelector('#df-0187ebea-64f8-4020-99f8-3a86c39d7446 button.colab-df-convert');\n",
              "        buttonEl.style.display =\n",
              "          google.colab.kernel.accessAllowed ? 'block' : 'none';\n",
              "\n",
              "        async function convertToInteractive(key) {\n",
              "          const element = document.querySelector('#df-0187ebea-64f8-4020-99f8-3a86c39d7446');\n",
              "          const dataTable =\n",
              "            await google.colab.kernel.invokeFunction('convertToInteractive',\n",
              "                                                     [key], {});\n",
              "          if (!dataTable) return;\n",
              "\n",
              "          const docLinkHtml = 'Like what you see? Visit the ' +\n",
              "            '<a target=\"_blank\" href=https://colab.research.google.com/notebooks/data_table.ipynb>data table notebook</a>'\n",
              "            + ' to learn more about interactive tables.';\n",
              "          element.innerHTML = '';\n",
              "          dataTable['output_type'] = 'display_data';\n",
              "          await google.colab.output.renderOutput(dataTable, element);\n",
              "          const docLink = document.createElement('div');\n",
              "          docLink.innerHTML = docLinkHtml;\n",
              "          element.appendChild(docLink);\n",
              "        }\n",
              "      </script>\n",
              "    </div>\n",
              "  </div>\n",
              "  "
            ]
          },
          "metadata": {},
          "execution_count": 23
        }
      ]
    },
    {
      "cell_type": "code",
      "source": [
        "confusion_matrix = pd.crosstab(data['y_Actual'], data['y_Predicted'], rownames=['Actual'], colnames = ['Predicted'], margins = True)\n",
        "import seaborn as sn\n",
        "sn.heatmap(confusion_matrix, annot=True,  cmap=\"Blues\")\n",
        "ax = plt.axes()\n",
        "ax.set_title('Breast cancer, confusion matrix (BGAT)')\n",
        "plt.show()"
      ],
      "metadata": {
        "colab": {
          "base_uri": "https://localhost:8080/",
          "height": 352
        },
        "id": "ajCg1_lGcrHI",
        "outputId": "68bffffa-a3cc-44c6-c779-0062e36e8309"
      },
      "execution_count": null,
      "outputs": [
        {
          "output_type": "stream",
          "name": "stderr",
          "text": [
            "<ipython-input-24-a8bd3feab9ff>:4: MatplotlibDeprecationWarning: Adding an axes using the same arguments as a previous axes currently reuses the earlier instance.  In a future version, a new instance will always be created and returned.  Meanwhile, this warning can be suppressed, and the future behavior ensured, by passing a unique label to each axes instance.\n",
            "  ax = plt.axes()\n"
          ]
        },
        {
          "output_type": "display_data",
          "data": {
            "text/plain": [
              "<Figure size 432x288 with 2 Axes>"
            ],
            "image/png": "[encoded data removed]"
          },
          "metadata": {
            "needs_background": "light"
          }
        }
      ]
    }
  ]
}
{
  "cells": [
    {
      "cell_type": "markdown",
      "metadata": {
        "id": "eEvAm83aOzC8"
      },
      "source": [
        "## Mount to gdrive to read data, adjacency matrix, p_link and labels. "
      ]
    },
    {
      "cell_type": "code",
      "execution_count": null,
      "metadata": {
        "colab": {
          "base_uri": "https://localhost:8080/"
        },
        "id": "5ksxtdcEeCwR",
        "outputId": "4bad687b-9d0f-4e77-f3de-d220697021c3"
      },
      "outputs": [
        {
          "output_type": "stream",
          "name": "stdout",
          "text": [
            "Mounted at /gdrive\n"
          ]
        }
      ],
      "source": [
        "from google.colab import drive\n",
        "drive.mount('/gdrive')"
      ]
    },
    {
      "cell_type": "markdown",
      "metadata": {
        "id": "n39JZ1WtO5p0"
      },
      "source": [
        "# Install pandas to read csv files from gdrive. Install torch and numpy which are packages that are needed durind coding."
      ]
    },
    {
      "cell_type": "code",
      "execution_count": null,
      "metadata": {
        "colab": {
          "base_uri": "https://localhost:8080/"
        },
        "id": "qkBVaL3xOx3x",
        "outputId": "6078d571-57ff-4f1f-e4e3-96161031fbc9"
      },
      "outputs": [
        {
          "output_type": "stream",
          "name": "stdout",
          "text": [
            "Looking in indexes: https://pypi.org/simple, https://us-python.pkg.dev/colab-wheels/public/simple/\n",
            "Requirement already satisfied: pandas in /usr/local/lib/python3.8/dist-packages (1.3.5)\n",
            "Requirement already satisfied: python-dateutil>=2.7.3 in /usr/local/lib/python3.8/dist-packages (from pandas) (2.8.2)\n",
            "Requirement already satisfied: numpy>=1.17.3 in /usr/local/lib/python3.8/dist-packages (from pandas) (1.21.6)\n",
            "Requirement already satisfied: pytz>=2017.3 in /usr/local/lib/python3.8/dist-packages (from pandas) (2022.6)\n",
            "Requirement already satisfied: six>=1.5 in /usr/local/lib/python3.8/dist-packages (from python-dateutil>=2.7.3->pandas) (1.15.0)\n"
          ]
        }
      ],
      "source": [
        "!pip install pandas\n",
        "import pandas as pd\n",
        "import torch\n",
        "import numpy as np"
      ]
    },
    {
      "cell_type": "markdown",
      "source": [
        "# Load data which are processed in preprocessing_data_4classdes.ipynb file."
      ],
      "metadata": {
        "id": "ENr711n2kqUK"
      }
    },
    {
      "cell_type": "code",
      "execution_count": null,
      "metadata": {
        "colab": {
          "base_uri": "https://localhost:8080/"
        },
        "id": "87QNqt-jVnYg",
        "outputId": "0eb0cd10-9d4b-47e5-9e9a-984d868b3d76"
      },
      "outputs": [
        {
          "output_type": "execute_result",
          "data": {
            "text/plain": [
              "{'x': tensor([[-0.4530,  0.5955, -1.1069,  ...,  0.5985,  0.1790,  0.2985],\n",
              "         [ 0.2027,  0.6537,  0.6290,  ..., -0.1876, -1.2782,  0.5982],\n",
              "         [-0.2713,  0.4418,  1.5845,  ..., -1.1430, -2.2012,  0.7388],\n",
              "         ...,\n",
              "         [ 0.5176, -1.6871, -1.4386,  ..., -0.2084,  1.3068, -0.1615],\n",
              "         [ 0.0700, -1.4413, -0.2656,  ..., -0.3264,  1.0155,  0.4870],\n",
              "         [-0.2865,  1.4095,  1.7289,  ..., -0.3547, -1.7226,  0.7805]]),\n",
              " 'edge_index': tensor([[ 0,  0,  1,  1,  1,  2,  2,  2,  2,  4,  4,  4,  4,  5,  5,  6,  6,  6,\n",
              "           6,  6,  6,  7,  8,  8,  8,  8,  8,  8,  9,  9,  9,  9,  9,  9, 10, 10,\n",
              "          11, 11, 11, 11, 11, 12, 13, 13, 14, 14, 14, 14, 14, 14, 14, 14, 14, 14,\n",
              "          14, 16, 17, 17, 17, 18, 18, 18, 18, 19, 19, 19, 20, 20, 21, 21, 21, 21,\n",
              "          21, 21, 22, 23, 24, 24, 24, 24, 25, 25, 26, 26, 26, 26, 26, 26, 26, 26,\n",
              "          27, 28, 29, 29, 29, 29, 29, 29, 29, 30, 30, 30, 30, 30, 30, 30, 32, 32,\n",
              "          33, 34, 34, 34, 34, 34, 34, 35, 36, 37, 37, 37, 37, 37, 38, 38, 39, 39],\n",
              "         [17, 33, 18, 26, 37,  5, 10, 23, 25, 14, 21, 29, 30,  2, 16,  8,  9, 14,\n",
              "          29, 30, 34, 36,  6,  9, 14, 29, 30, 34,  6,  8, 21, 29, 30, 34,  2, 11,\n",
              "          10, 18, 26, 27, 37, 25, 20, 22,  4,  6,  8, 19, 21, 24, 29, 30, 34, 37,\n",
              "          39,  5,  0, 20, 39,  1, 11, 26, 32, 14, 26, 37, 13, 17,  4,  9, 14, 24,\n",
              "          29, 34, 13,  2, 14, 21, 30, 34,  2, 12,  1, 11, 18, 19, 28, 35, 37, 38,\n",
              "          11, 26,  4,  6,  8,  9, 14, 21, 30,  4,  6,  8,  9, 14, 24, 29, 18, 38,\n",
              "           0,  6,  8,  9, 14, 21, 24, 26,  7,  1, 11, 14, 19, 26, 26, 32, 14, 17]]),\n",
              " 'y': tensor([0, 2, 3, 0, 1, 3, 1, 3, 1, 1, 3, 2, 3, 0, 1, 3, 3, 0, 2, 2, 0, 1, 0, 3,\n",
              "         1, 3, 2, 2, 2, 1, 1, 0, 0, 0, 1, 2, 3, 2, 2, 0]),\n",
              " 'train_mask': tensor([ True, False, False, False, False,  True, False, False, False,  True,\n",
              "         False, False,  True, False,  True, False, False, False,  True, False,\n",
              "         False, False,  True, False, False, False, False,  True, False, False,\n",
              "         False, False, False, False, False, False, False, False, False, False]),\n",
              " 'val_mask': tensor([False, False, False, False, False, False, False,  True,  True, False,\n",
              "         False,  True, False, False, False,  True, False, False, False, False,\n",
              "          True,  True, False,  True, False, False, False, False,  True, False,\n",
              "         False,  True, False, False, False, False, False, False,  True, False]),\n",
              " 'test_mask': tensor([False,  True,  True,  True,  True, False,  True, False, False, False,\n",
              "          True, False, False,  True, False, False,  True,  True, False,  True,\n",
              "         False, False, False, False,  True,  True,  True, False, False,  True,\n",
              "          True, False,  True,  True,  True,  True,  True,  True, False,  True])}"
            ]
          },
          "metadata": {},
          "execution_count": 3
        }
      ],
      "source": [
        "path = F\"/gdrive/MyDrive/4classes.sim/data.pt\"\n",
        "Data = torch.load(path)\n",
        "Data"
      ]
    },
    {
      "cell_type": "markdown",
      "source": [
        "# Gather some statistics about the graph."
      ],
      "metadata": {
        "id": "yNhMiH82k-QZ"
      }
    },
    {
      "cell_type": "code",
      "execution_count": null,
      "metadata": {
        "colab": {
          "base_uri": "https://localhost:8080/"
        },
        "id": "EJ5rY4Y5aP9e",
        "outputId": "6293cc85-73cf-4de7-d8de-0ebfe2e35e40"
      },
      "outputs": [
        {
          "output_type": "stream",
          "name": "stdout",
          "text": [
            "Number of nodes: 40\n",
            "Number of features: 500\n",
            "Number of classes: 4\n",
            "Number of edges: 126\n",
            "Average node degree: 3.15\n",
            "Number of training nodes: 8\n",
            "Number of testing nodes: 22\n",
            "Training node label rate: 0.20\n"
          ]
        }
      ],
      "source": [
        "print(f'Number of nodes: {Data[\"x\"].size(0)}')\n",
        "print(f'Number of features: {Data[\"x\"].size(1)}')\n",
        "print(f'Number of classes: {torch.numel(torch.unique(Data[\"y\"],sorted=True))}')\n",
        "print(f'Number of edges: {Data[\"edge_index\"].size(1)}')\n",
        "print(f'Average node degree: {Data[\"edge_index\"].size(1) / Data[\"x\"].size(0):.2f}')\n",
        "print(f'Number of training nodes: {Data[\"train_mask\"].sum()}')\n",
        "print(f'Number of testing nodes: {Data[\"test_mask\"].sum()}')\n",
        "print(f'Training node label rate: {int(Data[\"train_mask\"].sum()) /  Data[\"x\"].size(0):.2f}')"
      ]
    },
    {
      "cell_type": "markdown",
      "source": [
        "# Install torch_geometic"
      ],
      "metadata": {
        "id": "MDxXRLYqlO3v"
      }
    },
    {
      "cell_type": "code",
      "execution_count": null,
      "metadata": {
        "id": "eW77qnhRWZCU",
        "colab": {
          "base_uri": "https://localhost:8080/"
        },
        "outputId": "bad7329c-b22f-4e74-adf6-0320d98bc3cf"
      },
      "outputs": [
        {
          "output_type": "stream",
          "name": "stdout",
          "text": [
            "1.13.0+cu116\n",
            "\u001b[K     |████████████████████████████████| 9.4 MB 30.6 MB/s \n",
            "\u001b[K     |████████████████████████████████| 4.6 MB 25.3 MB/s \n",
            "\u001b[K     |████████████████████████████████| 280 kB 16.1 MB/s \n",
            "\u001b[?25h  Building wheel for torch-geometric (setup.py) ... \u001b[?25l\u001b[?25hdone\n"
          ]
        }
      ],
      "source": [
        "import os\n",
        "os.environ['TORCH'] = torch.__version__\n",
        "print(torch.__version__)\n",
        "\n",
        "!pip install -q torch-scatter -f https://data.pyg.org/whl/torch-${TORCH}.html\n",
        "!pip install -q torch-sparse -f https://data.pyg.org/whl/torch-${TORCH}.html\n",
        "!pip install -q git+https://github.com/pyg-team/pytorch_geometric.git"
      ]
    },
    {
      "cell_type": "code",
      "execution_count": null,
      "metadata": {
        "id": "HFPqJh-_V03a"
      },
      "outputs": [],
      "source": [
        "from torch_geometric.nn import MessagePassing\n",
        "import torch_geometric.nn\n",
        "import torch.nn.functional as F\n",
        "from torch_geometric.nn import GATConv"
      ]
    },
    {
      "cell_type": "markdown",
      "source": [
        "# Creating message passing network."
      ],
      "metadata": {
        "id": "6plXlKZ8A-lg"
      }
    },
    {
      "cell_type": "code",
      "execution_count": null,
      "metadata": {
        "colab": {
          "base_uri": "https://localhost:8080/"
        },
        "id": "oJygDFuAVz3S",
        "outputId": "432e4972-55be-4e36-f465-323b9ea2d293"
      },
      "outputs": [
        {
          "output_type": "stream",
          "name": "stdout",
          "text": [
            "Myconv(\n",
            "  (conv1): GATConv(500, 8, heads=1)\n",
            "  (conv2): GATConv(8, 4, heads=1)\n",
            ")\n",
            "tensor([[-1.4782, -3.2267, -1.6484, -0.6164],\n",
            "        [-2.0163, -2.9077, -1.6430, -0.4799],\n",
            "        [-0.9537, -1.8489, -2.1233, -1.0858],\n",
            "        [-2.5058, -2.3223, -0.3816, -1.9836],\n",
            "        [-1.0091, -2.2511, -1.4071, -1.2542],\n",
            "        [-1.2715, -1.9648, -2.0565, -0.7952],\n",
            "        [-0.9781, -2.0685, -1.6489, -1.1863],\n",
            "        [-1.2810, -0.7253, -2.0576, -2.2048],\n",
            "        [-0.9781, -2.0685, -1.6489, -1.1863],\n",
            "        [-1.0504, -2.1256, -1.5886, -1.1190],\n",
            "        [-1.4075, -1.5120, -1.7793, -1.0051],\n",
            "        [-1.8909, -2.5580, -1.5674, -0.5744],\n",
            "        [-0.4946, -1.8777, -2.1263, -2.1373],\n",
            "        [-1.4524, -2.7654, -1.5383, -0.7168],\n",
            "        [-1.1531, -2.7234, -1.3636, -1.0135],\n",
            "        [-1.4762, -1.8212, -1.0878, -1.2994],\n",
            "        [-1.2769, -2.0969, -2.1223, -0.7371],\n",
            "        [-1.4118, -3.4797, -1.4304, -0.7210],\n",
            "        [-2.0807, -2.8264, -1.6534, -0.4707],\n",
            "        [-1.5796, -2.4318, -1.4956, -0.7299],\n",
            "        [-1.4831, -3.3766, -1.4775, -0.6720],\n",
            "        [-1.0161, -2.1776, -1.3977, -1.2819],\n",
            "        [-1.2698, -1.0947, -2.0855, -1.3463],\n",
            "        [-1.1697, -1.6640, -2.0356, -0.9954],\n",
            "        [-1.1055, -2.0337, -1.4079, -1.2260],\n",
            "        [-0.6846, -1.7376, -1.9916, -1.6967],\n",
            "        [-2.0622, -2.7837, -1.7222, -0.4583],\n",
            "        [-2.0313, -1.1905, -1.3081, -1.2226],\n",
            "        [-2.1968, -2.8560, -1.8019, -0.4059],\n",
            "        [-0.9979, -2.2088, -1.4881, -1.2184],\n",
            "        [-0.9643, -2.1317, -1.4674, -1.3108],\n",
            "        [-3.3169, -1.8301, -0.9734, -0.8544],\n",
            "        [-2.0530, -2.6790, -1.6247, -0.5008],\n",
            "        [-1.5837, -2.4563, -2.1402, -0.5252],\n",
            "        [-1.0640, -2.0765, -1.4935, -1.1876],\n",
            "        [-2.2714, -2.9443, -1.8941, -0.3657],\n",
            "        [-1.2810, -0.7253, -2.0576, -2.2048],\n",
            "        [-1.7555, -2.5869, -1.5488, -0.6173],\n",
            "        [-1.9904, -2.5437, -1.5481, -0.5584],\n",
            "        [-1.3121, -3.5187, -1.3645, -0.8084]], grad_fn=<LogSoftmaxBackward0>)\n"
          ]
        },
        {
          "output_type": "stream",
          "name": "stderr",
          "text": [
            "<ipython-input-7-5f86d3f84677>:12: UserWarning: Implicit dimension choice for log_softmax has been deprecated. Change the call to include dim=X as an argument.\n",
            "  h = F.log_softmax(h)\n"
          ]
        }
      ],
      "source": [
        "class Myconv(torch.nn.Module):\n",
        "    def __init__(self):\n",
        "        super().__init__()\n",
        "        torch.manual_seed(2)\n",
        "        self.conv1 = GATConv(in_channels = 500, out_channels = 8)\n",
        "        self.conv2 =  GATConv(8, 4)\n",
        "        \n",
        "    def forward(self, x, edge_index):\n",
        "        h = self.conv1(x, edge_index)\n",
        "        h = F.torch.tanh(h)\n",
        "        h = self.conv2(h, edge_index)\n",
        "        h = F.log_softmax(h)\n",
        "        return h\n",
        "        \n",
        "model = Myconv()\n",
        "print(model)\n",
        "print(model.forward(Data[\"x\"], Data[\"edge_index\"]))"
      ]
    },
    {
      "cell_type": "markdown",
      "source": [
        "# We take a look at the node embeddings produced by GAT (before training)."
      ],
      "metadata": {
        "id": "zfTPRc17BJLS"
      }
    },
    {
      "cell_type": "code",
      "execution_count": null,
      "metadata": {
        "id": "RG51_VTqWzhA"
      },
      "outputs": [],
      "source": [
        "import matplotlib.pyplot as plt\n",
        "from sklearn.manifold import TSNE\n",
        "import seaborn as sns\n",
        "\n",
        "def visualize(h):\n",
        "    z = TSNE(n_components = 2, random_state = 0).fit_transform(h.detach().numpy())\n",
        "    plt.figure(figsize = (6,4),  dpi = 120)\n",
        "    sns.scatterplot(z[:, 0], z[:, 1], hue = Data[\"y\"], palette=sns.color_palette(\"bright\",4)).set(title = \"First scenario data T-SNE projection before training (GAT)\")"
      ]
    },
    {
      "cell_type": "code",
      "execution_count": null,
      "metadata": {
        "colab": {
          "base_uri": "https://localhost:8080/",
          "height": 644
        },
        "id": "THw91BTTW4jT",
        "outputId": "7580e32d-d8e9-401d-977d-d3af25f29c27"
      },
      "outputs": [
        {
          "output_type": "stream",
          "name": "stderr",
          "text": [
            "<ipython-input-7-5f86d3f84677>:12: UserWarning: Implicit dimension choice for log_softmax has been deprecated. Change the call to include dim=X as an argument.\n",
            "  h = F.log_softmax(h)\n",
            "/usr/local/lib/python3.8/dist-packages/sklearn/manifold/_t_sne.py:780: FutureWarning: The default initialization in TSNE will change from 'random' to 'pca' in 1.2.\n",
            "  warnings.warn(\n",
            "/usr/local/lib/python3.8/dist-packages/sklearn/manifold/_t_sne.py:790: FutureWarning: The default learning rate in TSNE will change from 200.0 to 'auto' in 1.2.\n",
            "  warnings.warn(\n",
            "/usr/local/lib/python3.8/dist-packages/seaborn/_decorators.py:36: FutureWarning: Pass the following variables as keyword args: x, y. From version 0.12, the only valid positional argument will be `data`, and passing other arguments without an explicit keyword will result in an error or misinterpretation.\n",
            "  warnings.warn(\n"
          ]
        },
        {
          "output_type": "stream",
          "name": "stdout",
          "text": [
            "Embedding shape: [40, 4]\n"
          ]
        },
        {
          "output_type": "display_data",
          "data": {
            "text/plain": [
              "<Figure size 720x480 with 1 Axes>"
            ],
            "image/png": "[encoded data removed]"
          },
          "metadata": {
            "needs_background": "light"
          }
        }
      ],
      "source": [
        "model = Myconv()\n",
        "h = model(Data[\"x\"], Data[\"edge_index\"])\n",
        "\n",
        "print(f'Embedding shape: {list(h.shape)}')\n",
        "visualize(h)"
      ]
    },
    {
      "cell_type": "markdown",
      "source": [
        "# Start training the model. "
      ],
      "metadata": {
        "id": "ZH9Tjd50Bm2i"
      }
    },
    {
      "cell_type": "code",
      "execution_count": null,
      "metadata": {
        "id": "XdDX0Qn9XE6g"
      },
      "outputs": [],
      "source": [
        "model = Myconv()\n",
        "criterion = torch.nn.CrossEntropyLoss()  # Define loss criterion.\n",
        "optimizer = torch.optim.Adam(model.parameters(),  lr = 0.0005)  # Define optimizer, an object for updating parameters\n",
        "#loss = loss + weight decay parameter * L2 norm of the weights, 1) To prevent overfitting 2) To keep the weights small and avoid exploding gradient\n",
        "\n",
        "def train(Data):\n",
        "    model.train()\n",
        "    optimizer.zero_grad()  # Clear gradients.\n",
        "    out = model(Data[\"x\"], Data[\"edge_index\"])\n",
        "    train_loss = criterion(out[Data[\"train_mask\"]], Data[\"y\"][Data[\"train_mask\"]])  # Compute the loss solely based on the training nodes.\n",
        "    train_loss.backward()  # Derive gradients.\n",
        "    optimizer.step()  # Update parameters based on gradients.\n",
        "    return train_loss\n",
        "\n",
        "\n",
        "def val(Data):\n",
        "      model.eval()\n",
        "      with torch.no_grad():\n",
        "        out = model(Data[\"x\"], Data[\"edge_index\"])\n",
        "        val_loss = criterion(out[Data[\"val_mask\"]], Data[\"y\"][Data[\"val_mask\"]])\n",
        "        #pred = out.argmax(dim=1)\n",
        "        #test_correct = pred[Data[\"val_mask\"]] == Data[\"y\"][Data[\"val_mask\"]]  # Check against ground-truth labels.\n",
        "        #test_acc = int(test_correct.sum()) / int(Data[\"val_mask\"].sum())  # Derive ratio of correct predictions.\n",
        "        return val_loss"
      ]
    },
    {
      "cell_type": "code",
      "source": [
        "train_loss_ = []\n",
        "val_loss_ = []\n",
        "\n",
        "for epoch in range(1, 201):\n",
        "\n",
        "  epoch_train_loss = []\n",
        "  epoch_val_loss = []\n",
        "  train_loss = train(Data)\n",
        "  val_loss = val(Data)\n",
        "\n",
        "\n",
        "\n",
        "\n",
        "\n",
        "\n",
        "  epoch_train_loss.append(train_loss.item())\n",
        "  epoch_val_loss.append(val_loss.item())\n",
        "\n",
        "\n",
        "\n",
        "\n",
        "  \n",
        "\n",
        "  val_loss_.append(sum(epoch_val_loss)/len(epoch_val_loss))\n",
        "  train_loss_.append(sum(epoch_train_loss)/len(epoch_train_loss))\n",
        "  print(epoch,'Train Loss: %.3f | val Loss: %.3f'%( train_loss,val_loss))"
      ],
      "metadata": {
        "colab": {
          "base_uri": "https://localhost:8080/"
        },
        "id": "Y514DQRqAvLm",
        "outputId": "0c3e6017-043d-4c22-81dc-cf68472df59d"
      },
      "execution_count": null,
      "outputs": [
        {
          "output_type": "stream",
          "name": "stderr",
          "text": [
            "<ipython-input-7-5f86d3f84677>:12: UserWarning: Implicit dimension choice for log_softmax has been deprecated. Change the call to include dim=X as an argument.\n",
            "  h = F.log_softmax(h)\n"
          ]
        },
        {
          "output_type": "stream",
          "name": "stdout",
          "text": [
            "1 Train Loss: 1.686 | val Loss: 1.777\n",
            "2 Train Loss: 1.583 | val Loss: 1.714\n",
            "3 Train Loss: 1.483 | val Loss: 1.656\n",
            "4 Train Loss: 1.389 | val Loss: 1.605\n",
            "5 Train Loss: 1.304 | val Loss: 1.564\n",
            "6 Train Loss: 1.229 | val Loss: 1.529\n",
            "7 Train Loss: 1.158 | val Loss: 1.496\n",
            "8 Train Loss: 1.088 | val Loss: 1.465\n",
            "9 Train Loss: 1.023 | val Loss: 1.435\n",
            "10 Train Loss: 0.961 | val Loss: 1.406\n",
            "11 Train Loss: 0.902 | val Loss: 1.379\n",
            "12 Train Loss: 0.846 | val Loss: 1.354\n",
            "13 Train Loss: 0.793 | val Loss: 1.330\n",
            "14 Train Loss: 0.745 | val Loss: 1.309\n",
            "15 Train Loss: 0.700 | val Loss: 1.290\n",
            "16 Train Loss: 0.658 | val Loss: 1.273\n",
            "17 Train Loss: 0.620 | val Loss: 1.256\n",
            "18 Train Loss: 0.584 | val Loss: 1.241\n",
            "19 Train Loss: 0.551 | val Loss: 1.226\n",
            "20 Train Loss: 0.521 | val Loss: 1.213\n",
            "21 Train Loss: 0.492 | val Loss: 1.200\n",
            "22 Train Loss: 0.466 | val Loss: 1.188\n",
            "23 Train Loss: 0.442 | val Loss: 1.177\n",
            "24 Train Loss: 0.419 | val Loss: 1.168\n",
            "25 Train Loss: 0.399 | val Loss: 1.161\n",
            "26 Train Loss: 0.380 | val Loss: 1.155\n",
            "27 Train Loss: 0.364 | val Loss: 1.151\n",
            "28 Train Loss: 0.349 | val Loss: 1.148\n",
            "29 Train Loss: 0.335 | val Loss: 1.147\n",
            "30 Train Loss: 0.322 | val Loss: 1.148\n",
            "31 Train Loss: 0.311 | val Loss: 1.149\n",
            "32 Train Loss: 0.301 | val Loss: 1.150\n",
            "33 Train Loss: 0.291 | val Loss: 1.152\n",
            "34 Train Loss: 0.283 | val Loss: 1.155\n",
            "35 Train Loss: 0.276 | val Loss: 1.158\n",
            "36 Train Loss: 0.269 | val Loss: 1.161\n",
            "37 Train Loss: 0.262 | val Loss: 1.164\n",
            "38 Train Loss: 0.257 | val Loss: 1.167\n",
            "39 Train Loss: 0.251 | val Loss: 1.170\n",
            "40 Train Loss: 0.247 | val Loss: 1.172\n",
            "41 Train Loss: 0.242 | val Loss: 1.175\n",
            "42 Train Loss: 0.237 | val Loss: 1.177\n",
            "43 Train Loss: 0.233 | val Loss: 1.179\n",
            "44 Train Loss: 0.229 | val Loss: 1.180\n",
            "45 Train Loss: 0.225 | val Loss: 1.181\n",
            "46 Train Loss: 0.222 | val Loss: 1.182\n",
            "47 Train Loss: 0.218 | val Loss: 1.181\n",
            "48 Train Loss: 0.215 | val Loss: 1.178\n",
            "49 Train Loss: 0.211 | val Loss: 1.175\n",
            "50 Train Loss: 0.208 | val Loss: 1.172\n",
            "51 Train Loss: 0.205 | val Loss: 1.168\n",
            "52 Train Loss: 0.202 | val Loss: 1.166\n",
            "53 Train Loss: 0.199 | val Loss: 1.163\n",
            "54 Train Loss: 0.196 | val Loss: 1.161\n",
            "55 Train Loss: 0.193 | val Loss: 1.159\n",
            "56 Train Loss: 0.190 | val Loss: 1.157\n",
            "57 Train Loss: 0.188 | val Loss: 1.156\n",
            "58 Train Loss: 0.185 | val Loss: 1.156\n",
            "59 Train Loss: 0.183 | val Loss: 1.155\n",
            "60 Train Loss: 0.181 | val Loss: 1.156\n",
            "61 Train Loss: 0.178 | val Loss: 1.156\n",
            "62 Train Loss: 0.176 | val Loss: 1.157\n",
            "63 Train Loss: 0.174 | val Loss: 1.159\n",
            "64 Train Loss: 0.172 | val Loss: 1.159\n",
            "65 Train Loss: 0.171 | val Loss: 1.159\n",
            "66 Train Loss: 0.169 | val Loss: 1.159\n",
            "67 Train Loss: 0.167 | val Loss: 1.157\n",
            "68 Train Loss: 0.166 | val Loss: 1.156\n",
            "69 Train Loss: 0.164 | val Loss: 1.154\n",
            "70 Train Loss: 0.163 | val Loss: 1.152\n",
            "71 Train Loss: 0.162 | val Loss: 1.150\n",
            "72 Train Loss: 0.161 | val Loss: 1.148\n",
            "73 Train Loss: 0.159 | val Loss: 1.146\n",
            "74 Train Loss: 0.158 | val Loss: 1.144\n",
            "75 Train Loss: 0.157 | val Loss: 1.142\n",
            "76 Train Loss: 0.156 | val Loss: 1.141\n",
            "77 Train Loss: 0.155 | val Loss: 1.139\n",
            "78 Train Loss: 0.154 | val Loss: 1.138\n",
            "79 Train Loss: 0.153 | val Loss: 1.137\n",
            "80 Train Loss: 0.152 | val Loss: 1.136\n",
            "81 Train Loss: 0.151 | val Loss: 1.136\n",
            "82 Train Loss: 0.150 | val Loss: 1.135\n",
            "83 Train Loss: 0.149 | val Loss: 1.135\n",
            "84 Train Loss: 0.148 | val Loss: 1.135\n",
            "85 Train Loss: 0.148 | val Loss: 1.136\n",
            "86 Train Loss: 0.147 | val Loss: 1.136\n",
            "87 Train Loss: 0.146 | val Loss: 1.137\n",
            "88 Train Loss: 0.145 | val Loss: 1.139\n",
            "89 Train Loss: 0.144 | val Loss: 1.141\n",
            "90 Train Loss: 0.143 | val Loss: 1.143\n",
            "91 Train Loss: 0.143 | val Loss: 1.147\n",
            "92 Train Loss: 0.142 | val Loss: 1.151\n",
            "93 Train Loss: 0.141 | val Loss: 1.155\n",
            "94 Train Loss: 0.141 | val Loss: 1.154\n",
            "95 Train Loss: 0.140 | val Loss: 1.147\n",
            "96 Train Loss: 0.139 | val Loss: 1.141\n",
            "97 Train Loss: 0.138 | val Loss: 1.137\n",
            "98 Train Loss: 0.138 | val Loss: 1.134\n",
            "99 Train Loss: 0.137 | val Loss: 1.132\n",
            "100 Train Loss: 0.136 | val Loss: 1.131\n",
            "101 Train Loss: 0.136 | val Loss: 1.130\n",
            "102 Train Loss: 0.135 | val Loss: 1.130\n",
            "103 Train Loss: 0.134 | val Loss: 1.130\n",
            "104 Train Loss: 0.134 | val Loss: 1.132\n",
            "105 Train Loss: 0.133 | val Loss: 1.133\n",
            "106 Train Loss: 0.132 | val Loss: 1.135\n",
            "107 Train Loss: 0.132 | val Loss: 1.137\n",
            "108 Train Loss: 0.131 | val Loss: 1.140\n",
            "109 Train Loss: 0.131 | val Loss: 1.143\n",
            "110 Train Loss: 0.130 | val Loss: 1.148\n",
            "111 Train Loss: 0.129 | val Loss: 1.153\n",
            "112 Train Loss: 0.129 | val Loss: 1.150\n",
            "113 Train Loss: 0.128 | val Loss: 1.139\n",
            "114 Train Loss: 0.128 | val Loss: 1.130\n",
            "115 Train Loss: 0.127 | val Loss: 1.122\n",
            "116 Train Loss: 0.126 | val Loss: 1.115\n",
            "117 Train Loss: 0.126 | val Loss: 1.107\n",
            "118 Train Loss: 0.125 | val Loss: 1.099\n",
            "119 Train Loss: 0.125 | val Loss: 1.091\n",
            "120 Train Loss: 0.124 | val Loss: 1.081\n",
            "121 Train Loss: 0.124 | val Loss: 1.071\n",
            "122 Train Loss: 0.123 | val Loss: 1.059\n",
            "123 Train Loss: 0.122 | val Loss: 1.046\n",
            "124 Train Loss: 0.121 | val Loss: 1.033\n",
            "125 Train Loss: 0.121 | val Loss: 1.022\n",
            "126 Train Loss: 0.120 | val Loss: 1.013\n",
            "127 Train Loss: 0.119 | val Loss: 1.006\n",
            "128 Train Loss: 0.118 | val Loss: 1.001\n",
            "129 Train Loss: 0.118 | val Loss: 0.998\n",
            "130 Train Loss: 0.117 | val Loss: 0.997\n",
            "131 Train Loss: 0.117 | val Loss: 0.996\n",
            "132 Train Loss: 0.116 | val Loss: 0.997\n",
            "133 Train Loss: 0.116 | val Loss: 0.997\n",
            "134 Train Loss: 0.115 | val Loss: 0.997\n",
            "135 Train Loss: 0.115 | val Loss: 0.998\n",
            "136 Train Loss: 0.114 | val Loss: 0.998\n",
            "137 Train Loss: 0.113 | val Loss: 0.999\n",
            "138 Train Loss: 0.113 | val Loss: 0.999\n",
            "139 Train Loss: 0.113 | val Loss: 0.999\n",
            "140 Train Loss: 0.112 | val Loss: 0.999\n",
            "141 Train Loss: 0.112 | val Loss: 0.999\n",
            "142 Train Loss: 0.111 | val Loss: 0.999\n",
            "143 Train Loss: 0.111 | val Loss: 0.999\n",
            "144 Train Loss: 0.110 | val Loss: 0.998\n",
            "145 Train Loss: 0.110 | val Loss: 0.997\n",
            "146 Train Loss: 0.109 | val Loss: 0.997\n",
            "147 Train Loss: 0.109 | val Loss: 0.996\n",
            "148 Train Loss: 0.108 | val Loss: 0.995\n",
            "149 Train Loss: 0.108 | val Loss: 0.995\n",
            "150 Train Loss: 0.107 | val Loss: 0.994\n",
            "151 Train Loss: 0.107 | val Loss: 0.994\n",
            "152 Train Loss: 0.106 | val Loss: 0.993\n",
            "153 Train Loss: 0.106 | val Loss: 0.993\n",
            "154 Train Loss: 0.105 | val Loss: 0.993\n",
            "155 Train Loss: 0.105 | val Loss: 0.992\n",
            "156 Train Loss: 0.105 | val Loss: 0.992\n",
            "157 Train Loss: 0.104 | val Loss: 0.992\n",
            "158 Train Loss: 0.104 | val Loss: 0.992\n",
            "159 Train Loss: 0.103 | val Loss: 0.992\n",
            "160 Train Loss: 0.103 | val Loss: 0.992\n",
            "161 Train Loss: 0.102 | val Loss: 0.991\n",
            "162 Train Loss: 0.102 | val Loss: 0.991\n",
            "163 Train Loss: 0.102 | val Loss: 0.991\n",
            "164 Train Loss: 0.101 | val Loss: 0.991\n",
            "165 Train Loss: 0.101 | val Loss: 0.991\n",
            "166 Train Loss: 0.100 | val Loss: 0.991\n",
            "167 Train Loss: 0.100 | val Loss: 0.990\n",
            "168 Train Loss: 0.099 | val Loss: 0.990\n",
            "169 Train Loss: 0.099 | val Loss: 0.990\n",
            "170 Train Loss: 0.099 | val Loss: 0.989\n",
            "171 Train Loss: 0.098 | val Loss: 0.989\n",
            "172 Train Loss: 0.098 | val Loss: 0.989\n",
            "173 Train Loss: 0.097 | val Loss: 0.988\n",
            "174 Train Loss: 0.097 | val Loss: 0.988\n",
            "175 Train Loss: 0.097 | val Loss: 0.988\n",
            "176 Train Loss: 0.096 | val Loss: 0.987\n",
            "177 Train Loss: 0.096 | val Loss: 0.987\n",
            "178 Train Loss: 0.095 | val Loss: 0.986\n",
            "179 Train Loss: 0.095 | val Loss: 0.986\n",
            "180 Train Loss: 0.095 | val Loss: 0.986\n",
            "181 Train Loss: 0.094 | val Loss: 0.985\n",
            "182 Train Loss: 0.094 | val Loss: 0.985\n",
            "183 Train Loss: 0.094 | val Loss: 0.984\n",
            "184 Train Loss: 0.093 | val Loss: 0.984\n",
            "185 Train Loss: 0.093 | val Loss: 0.984\n",
            "186 Train Loss: 0.092 | val Loss: 0.983\n",
            "187 Train Loss: 0.092 | val Loss: 0.983\n",
            "188 Train Loss: 0.092 | val Loss: 0.982\n",
            "189 Train Loss: 0.091 | val Loss: 0.982\n",
            "190 Train Loss: 0.091 | val Loss: 0.982\n",
            "191 Train Loss: 0.091 | val Loss: 0.981\n",
            "192 Train Loss: 0.090 | val Loss: 0.981\n",
            "193 Train Loss: 0.090 | val Loss: 0.980\n",
            "194 Train Loss: 0.089 | val Loss: 0.980\n",
            "195 Train Loss: 0.089 | val Loss: 0.979\n",
            "196 Train Loss: 0.089 | val Loss: 0.979\n",
            "197 Train Loss: 0.088 | val Loss: 0.978\n",
            "198 Train Loss: 0.088 | val Loss: 0.978\n",
            "199 Train Loss: 0.088 | val Loss: 0.977\n",
            "200 Train Loss: 0.087 | val Loss: 0.976\n"
          ]
        }
      ]
    },
    {
      "cell_type": "markdown",
      "source": [
        "# Visualize train loss and val loss."
      ],
      "metadata": {
        "id": "tnGzSD2bBq8W"
      }
    },
    {
      "cell_type": "code",
      "source": [
        "plt.plot(train_loss_, \"c\", linewidth = 3)\n",
        "plt.plot(val_loss_, \"k\", linewidth = 3)\n",
        "plt.xlabel('epoch')\n",
        "plt.ylabel('loss')\n",
        "plt.legend(['Train','Val'])\n",
        "plt.title('Train vs Val Loss for the first scenario (GAT)')\n",
        "plt.grid()\n",
        "plt.show()"
      ],
      "metadata": {
        "colab": {
          "base_uri": "https://localhost:8080/",
          "height": 295
        },
        "id": "KZv1RpBrAxRr",
        "outputId": "e1978702-a302-4b65-d929-6637694aa253"
      },
      "execution_count": null,
      "outputs": [
        {
          "output_type": "display_data",
          "data": {
            "text/plain": [
              "<Figure size 432x288 with 1 Axes>"
            ],
            "image/png": "[encoded data removed]"
          },
          "metadata": {
            "needs_background": "light"
          }
        }
      ]
    },
    {
      "cell_type": "markdown",
      "source": [
        "# Compute the accuracy of the model."
      ],
      "metadata": {
        "id": "a1tqUvjnB5xg"
      }
    },
    {
      "cell_type": "code",
      "source": [
        "def test(Data):\n",
        "      model.eval()\n",
        "      with torch.no_grad():\n",
        "        out = model(Data[\"x\"], Data[\"edge_index\"])\n",
        "        pred = out.argmax(dim = 1)\n",
        "        test_correct = pred[Data[\"test_mask\"]] == Data[\"y\"][Data[\"test_mask\"]]  # Check against ground-truth labels.\n",
        "        test_acc = int(test_correct.sum()) / int(Data[\"test_mask\"].sum())  # Derive ratio of correct predictions.\n",
        "        return test_acc"
      ],
      "metadata": {
        "id": "BqmJpxygAzK0"
      },
      "execution_count": null,
      "outputs": []
    },
    {
      "cell_type": "code",
      "source": [
        "test_acc = test(Data)\n",
        "print(f'Test Accuracy: {100*test_acc:.2f}')"
      ],
      "metadata": {
        "colab": {
          "base_uri": "https://localhost:8080/"
        },
        "id": "38dolsiUA06U",
        "outputId": "a8d83146-3ceb-4fcd-801b-e3afb0b59f91"
      },
      "execution_count": null,
      "outputs": [
        {
          "output_type": "stream",
          "name": "stdout",
          "text": [
            "Test Accuracy: 86.36\n"
          ]
        },
        {
          "output_type": "stream",
          "name": "stderr",
          "text": [
            "<ipython-input-7-5f86d3f84677>:12: UserWarning: Implicit dimension choice for log_softmax has been deprecated. Change the call to include dim=X as an argument.\n",
            "  h = F.log_softmax(h)\n"
          ]
        }
      ]
    },
    {
      "cell_type": "markdown",
      "source": [
        "# We take a look at the node embeddings produced by GAT (after training)."
      ],
      "metadata": {
        "id": "4t06HccFCIVv"
      }
    },
    {
      "cell_type": "code",
      "source": [
        "import matplotlib.pyplot as plt\n",
        "from sklearn.manifold import TSNE\n",
        "import seaborn as sns\n",
        "\n",
        "def visualize(h):\n",
        "    z = TSNE(n_components = 2, random_state = 0).fit_transform(h.detach().numpy())\n",
        "    plt.figure(figsize = (6,4),  dpi = 120)\n",
        "    sns.scatterplot(z[:, 0], z[:, 1], hue = Data[\"y\"], palette=sns.color_palette(\"bright\",4)).set(title = \"First scenario data T-SNE projection after training (GAT)\")"
      ],
      "metadata": {
        "id": "xqqjZR0h6XQx"
      },
      "execution_count": null,
      "outputs": []
    },
    {
      "cell_type": "code",
      "execution_count": null,
      "metadata": {
        "colab": {
          "base_uri": "https://localhost:8080/",
          "height": 626
        },
        "id": "7ryK2AHvObte",
        "outputId": "d4864789-d0b5-478d-d0aa-bfc5b888723f"
      },
      "outputs": [
        {
          "output_type": "stream",
          "name": "stderr",
          "text": [
            "<ipython-input-7-5f86d3f84677>:12: UserWarning: Implicit dimension choice for log_softmax has been deprecated. Change the call to include dim=X as an argument.\n",
            "  h = F.log_softmax(h)\n",
            "/usr/local/lib/python3.8/dist-packages/sklearn/manifold/_t_sne.py:780: FutureWarning: The default initialization in TSNE will change from 'random' to 'pca' in 1.2.\n",
            "  warnings.warn(\n",
            "/usr/local/lib/python3.8/dist-packages/sklearn/manifold/_t_sne.py:790: FutureWarning: The default learning rate in TSNE will change from 200.0 to 'auto' in 1.2.\n",
            "  warnings.warn(\n",
            "/usr/local/lib/python3.8/dist-packages/seaborn/_decorators.py:36: FutureWarning: Pass the following variables as keyword args: x, y. From version 0.12, the only valid positional argument will be `data`, and passing other arguments without an explicit keyword will result in an error or misinterpretation.\n",
            "  warnings.warn(\n"
          ]
        },
        {
          "output_type": "display_data",
          "data": {
            "text/plain": [
              "<Figure size 720x480 with 1 Axes>"
            ],
            "image/png": "[encoded data removed]"
          },
          "metadata": {
            "needs_background": "light"
          }
        }
      ],
      "source": [
        "model.eval()\n",
        "out = model(Data[\"x\"], Data[\"edge_index\"])\n",
        "visualize(out)\n"
      ]
    },
    {
      "cell_type": "markdown",
      "source": [
        "# Confusion matrix."
      ],
      "metadata": {
        "id": "sWVTqJd2CkuZ"
      }
    },
    {
      "cell_type": "code",
      "execution_count": null,
      "metadata": {
        "id": "ZAvUxs2xZna3",
        "colab": {
          "base_uri": "https://localhost:8080/"
        },
        "outputId": "ec476c8f-3ebd-4554-f95f-7aa43a467668"
      },
      "outputs": [
        {
          "output_type": "execute_result",
          "data": {
            "text/plain": [
              "tensor([0, 2, 3, 2, 1, 3, 1, 1, 1, 1, 3, 2, 3, 0, 1, 1, 3, 0, 2, 2, 0, 1, 0, 3,\n",
              "        1, 3, 2, 2, 2, 1, 1, 2, 2, 0, 1, 2, 1, 2, 2, 0])"
            ]
          },
          "metadata": {},
          "execution_count": 17
        }
      ],
      "source": [
        "pred = out.argmax(dim=1)\n",
        "pred"
      ]
    },
    {
      "cell_type": "code",
      "execution_count": null,
      "metadata": {
        "id": "1KWZubSgZpw-"
      },
      "outputs": [],
      "source": [
        "pred = pred[Data[\"test_mask\"]] "
      ]
    },
    {
      "cell_type": "code",
      "source": [
        "act = Data[\"y\"][Data[\"test_mask\"]]"
      ],
      "metadata": {
        "id": "yyjMhcDJPq3P"
      },
      "execution_count": null,
      "outputs": []
    },
    {
      "cell_type": "code",
      "source": [
        "data = {'y_Actual':    act,\n",
        "        'y_Predicted': pred\n",
        "        }\n",
        "\n",
        "df = pd.DataFrame(data, columns = ['y_Actual','y_Predicted'])\n",
        "df"
      ],
      "metadata": {
        "colab": {
          "base_uri": "https://localhost:8080/",
          "height": 739
        },
        "id": "j8lQC_VfPsaa",
        "outputId": "9490c3d5-7acf-4949-f726-5a9473575a3d"
      },
      "execution_count": null,
      "outputs": [
        {
          "output_type": "execute_result",
          "data": {
            "text/plain": [
              "    y_Actual  y_Predicted\n",
              "0          2            2\n",
              "1          3            3\n",
              "2          0            2\n",
              "3          1            1\n",
              "4          1            1\n",
              "5          3            3\n",
              "6          0            0\n",
              "7          3            3\n",
              "8          0            0\n",
              "9          2            2\n",
              "10         1            1\n",
              "11         3            3\n",
              "12         2            2\n",
              "13         1            1\n",
              "14         1            1\n",
              "15         0            2\n",
              "16         0            0\n",
              "17         1            1\n",
              "18         2            2\n",
              "19         3            1\n",
              "20         2            2\n",
              "21         0            0"
            ],
            "text/html": [
              "\n",
              "  <div id=\"df-60959318-3127-4b0a-9c5d-3d30417db2fc\">\n",
              "    <div class=\"colab-df-container\">\n",
              "      <div>\n",
              "<style scoped>\n",
              "    .dataframe tbody tr th:only-of-type {\n",
              "        vertical-align: middle;\n",
              "    }\n",
              "\n",
              "    .dataframe tbody tr th {\n",
              "        vertical-align: top;\n",
              "    }\n",
              "\n",
              "    .dataframe thead th {\n",
              "        text-align: right;\n",
              "    }\n",
              "</style>\n",
              "<table border=\"1\" class=\"dataframe\">\n",
              "  <thead>\n",
              "    <tr style=\"text-align: right;\">\n",
              "      <th></th>\n",
              "      <th>y_Actual</th>\n",
              "      <th>y_Predicted</th>\n",
              "    </tr>\n",
              "  </thead>\n",
              "  <tbody>\n",
              "    <tr>\n",
              "      <th>0</th>\n",
              "      <td>2</td>\n",
              "      <td>2</td>\n",
              "    </tr>\n",
              "    <tr>\n",
              "      <th>1</th>\n",
              "      <td>3</td>\n",
              "      <td>3</td>\n",
              "    </tr>\n",
              "    <tr>\n",
              "      <th>2</th>\n",
              "      <td>0</td>\n",
              "      <td>2</td>\n",
              "    </tr>\n",
              "    <tr>\n",
              "      <th>3</th>\n",
              "      <td>1</td>\n",
              "      <td>1</td>\n",
              "    </tr>\n",
              "    <tr>\n",
              "      <th>4</th>\n",
              "      <td>1</td>\n",
              "      <td>1</td>\n",
              "    </tr>\n",
              "    <tr>\n",
              "      <th>5</th>\n",
              "      <td>3</td>\n",
              "      <td>3</td>\n",
              "    </tr>\n",
              "    <tr>\n",
              "      <th>6</th>\n",
              "      <td>0</td>\n",
              "      <td>0</td>\n",
              "    </tr>\n",
              "    <tr>\n",
              "      <th>7</th>\n",
              "      <td>3</td>\n",
              "      <td>3</td>\n",
              "    </tr>\n",
              "    <tr>\n",
              "      <th>8</th>\n",
              "      <td>0</td>\n",
              "      <td>0</td>\n",
              "    </tr>\n",
              "    <tr>\n",
              "      <th>9</th>\n",
              "      <td>2</td>\n",
              "      <td>2</td>\n",
              "    </tr>\n",
              "    <tr>\n",
              "      <th>10</th>\n",
              "      <td>1</td>\n",
              "      <td>1</td>\n",
              "    </tr>\n",
              "    <tr>\n",
              "      <th>11</th>\n",
              "      <td>3</td>\n",
              "      <td>3</td>\n",
              "    </tr>\n",
              "    <tr>\n",
              "      <th>12</th>\n",
              "      <td>2</td>\n",
              "      <td>2</td>\n",
              "    </tr>\n",
              "    <tr>\n",
              "      <th>13</th>\n",
              "      <td>1</td>\n",
              "      <td>1</td>\n",
              "    </tr>\n",
              "    <tr>\n",
              "      <th>14</th>\n",
              "      <td>1</td>\n",
              "      <td>1</td>\n",
              "    </tr>\n",
              "    <tr>\n",
              "      <th>15</th>\n",
              "      <td>0</td>\n",
              "      <td>2</td>\n",
              "    </tr>\n",
              "    <tr>\n",
              "      <th>16</th>\n",
              "      <td>0</td>\n",
              "      <td>0</td>\n",
              "    </tr>\n",
              "    <tr>\n",
              "      <th>17</th>\n",
              "      <td>1</td>\n",
              "      <td>1</td>\n",
              "    </tr>\n",
              "    <tr>\n",
              "      <th>18</th>\n",
              "      <td>2</td>\n",
              "      <td>2</td>\n",
              "    </tr>\n",
              "    <tr>\n",
              "      <th>19</th>\n",
              "      <td>3</td>\n",
              "      <td>1</td>\n",
              "    </tr>\n",
              "    <tr>\n",
              "      <th>20</th>\n",
              "      <td>2</td>\n",
              "      <td>2</td>\n",
              "    </tr>\n",
              "    <tr>\n",
              "      <th>21</th>\n",
              "      <td>0</td>\n",
              "      <td>0</td>\n",
              "    </tr>\n",
              "  </tbody>\n",
              "</table>\n",
              "</div>\n",
              "      <button class=\"colab-df-convert\" onclick=\"convertToInteractive('df-60959318-3127-4b0a-9c5d-3d30417db2fc')\"\n",
              "              title=\"Convert this dataframe to an interactive table.\"\n",
              "              style=\"display:none;\">\n",
              "        \n",
              "  <svg xmlns=\"http://www.w3.org/2000/svg\" height=\"24px\"viewBox=\"0 0 24 24\"\n",
              "       width=\"24px\">\n",
              "    <path d=\"M0 0h24v24H0V0z\" fill=\"none\"/>\n",
              "    <path d=\"M18.56 5.44l.94 2.06.94-2.06 2.06-.94-2.06-.94-.94-2.06-.94 2.06-2.06.94zm-11 1L8.5 8.5l.94-2.06 2.06-.94-2.06-.94L8.5 2.5l-.94 2.06-2.06.94zm10 10l.94 2.06.94-2.06 2.06-.94-2.06-.94-.94-2.06-.94 2.06-2.06.94z\"/><path d=\"M17.41 7.96l-1.37-1.37c-.4-.4-.92-.59-1.43-.59-.52 0-1.04.2-1.43.59L10.3 9.45l-7.72 7.72c-.78.78-.78 2.05 0 2.83L4 21.41c.39.39.9.59 1.41.59.51 0 1.02-.2 1.41-.59l7.78-7.78 2.81-2.81c.8-.78.8-2.07 0-2.86zM5.41 20L4 18.59l7.72-7.72 1.47 1.35L5.41 20z\"/>\n",
              "  </svg>\n",
              "      </button>\n",
              "      \n",
              "  <style>\n",
              "    .colab-df-container {\n",
              "      display:flex;\n",
              "      flex-wrap:wrap;\n",
              "      gap: 12px;\n",
              "    }\n",
              "\n",
              "    .colab-df-convert {\n",
              "      background-color: #E8F0FE;\n",
              "      border: none;\n",
              "      border-radius: 50%;\n",
              "      cursor: pointer;\n",
              "      display: none;\n",
              "      fill: #1967D2;\n",
              "      height: 32px;\n",
              "      padding: 0 0 0 0;\n",
              "      width: 32px;\n",
              "    }\n",
              "\n",
              "    .colab-df-convert:hover {\n",
              "      background-color: #E2EBFA;\n",
              "      box-shadow: 0px 1px 2px rgba(60, 64, 67, 0.3), 0px 1px 3px 1px rgba(60, 64, 67, 0.15);\n",
              "      fill: #174EA6;\n",
              "    }\n",
              "\n",
              "    [theme=dark] .colab-df-convert {\n",
              "      background-color: #3B4455;\n",
              "      fill: #D2E3FC;\n",
              "    }\n",
              "\n",
              "    [theme=dark] .colab-df-convert:hover {\n",
              "      background-color: #434B5C;\n",
              "      box-shadow: 0px 1px 3px 1px rgba(0, 0, 0, 0.15);\n",
              "      filter: drop-shadow(0px 1px 2px rgba(0, 0, 0, 0.3));\n",
              "      fill: #FFFFFF;\n",
              "    }\n",
              "  </style>\n",
              "\n",
              "      <script>\n",
              "        const buttonEl =\n",
              "          document.querySelector('#df-60959318-3127-4b0a-9c5d-3d30417db2fc button.colab-df-convert');\n",
              "        buttonEl.style.display =\n",
              "          google.colab.kernel.accessAllowed ? 'block' : 'none';\n",
              "\n",
              "        async function convertToInteractive(key) {\n",
              "          const element = document.querySelector('#df-60959318-3127-4b0a-9c5d-3d30417db2fc');\n",
              "          const dataTable =\n",
              "            await google.colab.kernel.invokeFunction('convertToInteractive',\n",
              "                                                     [key], {});\n",
              "          if (!dataTable) return;\n",
              "\n",
              "          const docLinkHtml = 'Like what you see? Visit the ' +\n",
              "            '<a target=\"_blank\" href=https://colab.research.google.com/notebooks/data_table.ipynb>data table notebook</a>'\n",
              "            + ' to learn more about interactive tables.';\n",
              "          element.innerHTML = '';\n",
              "          dataTable['output_type'] = 'display_data';\n",
              "          await google.colab.output.renderOutput(dataTable, element);\n",
              "          const docLink = document.createElement('div');\n",
              "          docLink.innerHTML = docLinkHtml;\n",
              "          element.appendChild(docLink);\n",
              "        }\n",
              "      </script>\n",
              "    </div>\n",
              "  </div>\n",
              "  "
            ]
          },
          "metadata": {},
          "execution_count": 20
        }
      ]
    },
    {
      "cell_type": "code",
      "source": [
        "confusion_matrix = pd.crosstab(data['y_Actual'], data['y_Predicted'], rownames=['Actual'], colnames = ['Predicted'], margins = True)\n",
        "import seaborn as sn\n",
        "sn.heatmap(confusion_matrix, annot=True,  cmap=\"Blues\")\n",
        "ax = plt.axes()\n",
        "ax.set_title('First scenario, confusion matrix (GAT)')\n",
        "plt.show()"
      ],
      "metadata": {
        "colab": {
          "base_uri": "https://localhost:8080/",
          "height": 352
        },
        "id": "W6IWZUG-PuP4",
        "outputId": "ee676199-35d0-4268-b54c-d464e801f993"
      },
      "execution_count": null,
      "outputs": [
        {
          "output_type": "stream",
          "name": "stderr",
          "text": [
            "<ipython-input-21-62f68310b0c2>:4: MatplotlibDeprecationWarning: Adding an axes using the same arguments as a previous axes currently reuses the earlier instance.  In a future version, a new instance will always be created and returned.  Meanwhile, this warning can be suppressed, and the future behavior ensured, by passing a unique label to each axes instance.\n",
            "  ax = plt.axes()\n"
          ]
        },
        {
          "output_type": "display_data",
          "data": {
            "text/plain": [
              "<Figure size 432x288 with 2 Axes>"
            ],
            "image/png": "[encoded data removed]"
          },
          "metadata": {
            "needs_background": "light"
          }
        }
      ]
    }
  ],
  "metadata": {
    "colab": {
      "provenance": []
    },
    "kernelspec": {
      "display_name": "Python 3",
      "name": "python3"
    },
    "language_info": {
      "name": "python"
    }
  },
  "nbformat": 4,
  "nbformat_minor": 0
}
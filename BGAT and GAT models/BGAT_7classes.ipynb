{
  "nbformat": 4,
  "nbformat_minor": 0,
  "metadata": {
    "colab": {
      "provenance": []
    },
    "kernelspec": {
      "name": "python3",
      "display_name": "Python 3"
    },
    "language_info": {
      "name": "python"
    }
  },
  "cells": [
    {
      "cell_type": "markdown",
      "source": [
        "## Mount to gdrive to read data, adjacency matrix, p_link and labels. "
      ],
      "metadata": {
        "id": "D5liF2Ip1nKF"
      }
    },
    {
      "cell_type": "code",
      "source": [
        "from google.colab import drive\n",
        "drive.mount('/gdrive')"
      ],
      "metadata": {
        "id": "rsdB4zCeHw4d",
        "colab": {
          "base_uri": "https://localhost:8080/"
        },
        "outputId": "da1a7467-7789-4067-c024-89a1d97a8253"
      },
      "execution_count": null,
      "outputs": [
        {
          "output_type": "stream",
          "name": "stdout",
          "text": [
            "Mounted at /gdrive\n"
          ]
        }
      ]
    },
    {
      "cell_type": "markdown",
      "source": [
        "# Install pandas to read csv files from gdrive. Install torch and numpy which are packages that are needed durind coding."
      ],
      "metadata": {
        "id": "vsenwLFGtkgN"
      }
    },
    {
      "cell_type": "code",
      "source": [
        "!pip install pandas\n",
        "import pandas as pd\n",
        "import torch\n",
        "import numpy as np"
      ],
      "metadata": {
        "id": "B41ftWgpjMEf",
        "colab": {
          "base_uri": "https://localhost:8080/"
        },
        "outputId": "72722bbb-06c3-4007-f586-097d7b2d0bdf"
      },
      "execution_count": null,
      "outputs": [
        {
          "output_type": "stream",
          "name": "stdout",
          "text": [
            "Looking in indexes: https://pypi.org/simple, https://us-python.pkg.dev/colab-wheels/public/simple/\n",
            "Requirement already satisfied: pandas in /usr/local/lib/python3.8/dist-packages (1.3.5)\n",
            "Requirement already satisfied: pytz>=2017.3 in /usr/local/lib/python3.8/dist-packages (from pandas) (2022.6)\n",
            "Requirement already satisfied: numpy>=1.17.3 in /usr/local/lib/python3.8/dist-packages (from pandas) (1.21.6)\n",
            "Requirement already satisfied: python-dateutil>=2.7.3 in /usr/local/lib/python3.8/dist-packages (from pandas) (2.8.2)\n",
            "Requirement already satisfied: six>=1.5 in /usr/local/lib/python3.8/dist-packages (from python-dateutil>=2.7.3->pandas) (1.15.0)\n"
          ]
        }
      ]
    },
    {
      "cell_type": "markdown",
      "source": [
        "# Load data which are processed in preprocessing_data_7classes.ipynb file."
      ],
      "metadata": {
        "id": "4DAtS1Fr1ssF"
      }
    },
    {
      "cell_type": "code",
      "source": [
        "path = F\"/gdrive/MyDrive/7classes.sim/data_7classes.pt\"\n",
        "Data = torch.load(path)\n",
        "Data"
      ],
      "metadata": {
        "id": "9p-js3RgH1eK",
        "colab": {
          "base_uri": "https://localhost:8080/"
        },
        "outputId": "b0ba0589-052c-45fc-f93e-261411f108fb"
      },
      "execution_count": null,
      "outputs": [
        {
          "output_type": "execute_result",
          "data": {
            "text/plain": [
              "{'x': tensor([[-0.6680,  0.3545,  0.1382,  ...,  2.1196,  0.2813,  1.3384],\n",
              "         [ 0.0282,  1.6481,  1.9474,  ...,  0.8241,  0.9470,  1.9798],\n",
              "         [-0.4644,  0.5799,  0.0618,  ..., -0.5351, -0.2698,  0.9294],\n",
              "         ...,\n",
              "         [-0.2195, -0.8809,  0.0466,  ..., -0.5610,  2.1045, -0.2778],\n",
              "         [-0.7321,  0.0596,  1.4736,  ...,  0.7870,  0.7216, -1.5205],\n",
              "         [ 1.0196,  0.5744,  0.3943,  ...,  1.7039, -1.3692,  0.6619]]),\n",
              " 'edge_index': tensor([[ 0,  0,  0,  0,  0,  0,  1,  1,  1,  2,  2,  2,  2,  2,  2,  3,  3,  4,\n",
              "           4,  4,  4,  4,  4,  4,  4,  4,  5,  5,  6,  6,  6,  6,  6,  6,  6,  6,\n",
              "           6,  7,  8,  8,  8,  8,  8,  8,  8,  9,  9,  9,  9,  9,  9,  9,  9,  9,\n",
              "           9, 10, 10, 11, 11, 11, 12, 12, 13, 13, 14, 14, 14, 14, 15, 15, 16, 16,\n",
              "          17, 17, 17, 18, 18, 19, 19, 19, 20, 20, 20, 20, 20, 20, 20, 21, 21, 21,\n",
              "          21, 21, 22, 22, 22, 22, 23, 24, 24, 24, 24, 25, 25, 26, 26, 26, 26, 27,\n",
              "          27, 27, 28, 28, 29, 29, 29, 30, 30, 30, 31, 32, 32, 32, 32, 32, 32, 33,\n",
              "          33, 33, 34, 34, 34, 35, 35, 35, 36, 36, 36, 36, 37, 37, 37, 38, 38, 39,\n",
              "          39, 39, 40, 40, 40, 40, 40, 41, 41, 41, 41, 41, 41, 42, 42, 42, 43, 43,\n",
              "          43, 43, 43, 44, 44, 44, 44, 44, 44, 44, 45, 45, 45, 45, 45, 45, 45, 46,\n",
              "          46, 46, 46, 47, 47, 47, 48, 48, 48, 48, 49, 49, 50, 50, 50, 51, 51, 51,\n",
              "          51, 53, 53, 53, 53, 53, 53, 54, 54, 54, 54, 54, 54, 54, 54, 54, 55, 55,\n",
              "          56, 56, 56, 56, 56, 58, 58, 58, 59, 59, 60, 60, 60, 60, 61, 61, 61, 61,\n",
              "          61, 61, 61, 62, 62, 62, 62, 63, 63, 63, 64, 65, 65, 65, 66, 66, 66, 67,\n",
              "          67, 68, 68, 68, 68, 69, 69, 69],\n",
              "         [21, 22, 26, 36, 38, 65, 12, 19, 63,  3,  4, 19, 30, 42, 67,  2, 16,  2,\n",
              "          10, 16, 23, 31, 49, 51, 62, 67, 49, 60,  8,  9, 14, 20, 32, 41, 45, 53,\n",
              "          55, 22,  6,  9, 20, 32, 41, 45, 61,  6,  8, 14, 41, 42, 45, 46, 48, 53,\n",
              "          61,  4, 25, 17, 35, 47,  1, 15, 33, 58,  6,  9, 20, 61, 12, 62,  3,  4,\n",
              "          11, 22, 46, 43, 66,  1,  2, 59,  6,  8, 14, 32, 40, 41, 61,  0, 43, 44,\n",
              "          58, 63,  0,  7, 17, 47,  4, 40, 44, 54, 68, 10, 27,  0, 28, 56, 68, 25,\n",
              "          33, 60, 26, 68, 30, 35, 68,  2, 29, 35,  4,  6,  8, 20, 45, 53, 61, 13,\n",
              "          27, 50, 37, 43, 64, 11, 29, 30,  0, 43, 50, 54, 34, 51, 54,  0, 69, 43,\n",
              "          62, 66, 20, 24, 51, 54, 56,  6,  8,  9, 20, 45, 53,  2,  9, 69, 18, 21,\n",
              "          34, 36, 39, 21, 24, 46, 48, 54, 56, 65,  6,  8,  9, 32, 41, 53, 61,  9,\n",
              "          17, 44, 54, 11, 22, 50,  9, 44, 54, 56,  4,  5, 33, 36, 47,  4, 37, 40,\n",
              "          66,  6,  9, 32, 41, 45, 61, 24, 36, 37, 40, 44, 46, 48, 56, 65,  6, 60,\n",
              "          26, 40, 44, 48, 54, 13, 21, 69, 19, 60,  5, 27, 55, 59,  8,  9, 14, 20,\n",
              "          32, 45, 53,  4, 15, 39, 63,  1, 21, 62, 34,  0, 44, 54, 18, 39, 51,  2,\n",
              "           4, 24, 26, 28, 29, 38, 42, 58]]),\n",
              " 'y': tensor([0, 5, 6, 6, 6, 3, 1, 4, 1, 1, 6, 4, 5, 0, 1, 5, 6, 0, 5, 3, 1, 5, 4, 6,\n",
              "         2, 3, 4, 3, 4, 4, 6, 6, 1, 0, 3, 4, 2, 3, 0, 5, 2, 1, 0, 5, 2, 1, 2, 4,\n",
              "         2, 6, 0, 6, 4, 1, 2, 3, 2, 2, 0, 3, 3, 1, 5, 5, 3, 2, 5, 0, 4, 0]),\n",
              " 'train_mask': tensor([False, False,  True, False,  True, False, False, False, False,  True,\n",
              "         False,  True,  True,  True,  True,  True, False, False,  True, False,\n",
              "         False, False, False,  True, False, False, False, False, False,  True,\n",
              "         False, False,  True, False,  True, False,  True,  True, False, False,\n",
              "          True, False, False, False, False, False, False, False, False, False,\n",
              "         False, False,  True, False,  True, False, False, False,  True,  True,\n",
              "         False, False, False, False, False, False, False,  True, False, False]),\n",
              " 'val_mask': tensor([False, False, False, False, False, False, False, False,  True, False,\n",
              "          True, False, False, False, False, False, False, False, False, False,\n",
              "          True, False, False, False, False,  True, False, False, False, False,\n",
              "         False, False, False,  True, False, False, False, False, False, False,\n",
              "         False, False, False, False, False, False, False, False,  True, False,\n",
              "         False,  True, False, False, False, False, False, False, False, False,\n",
              "         False, False,  True, False, False,  True, False, False,  True, False]),\n",
              " 'test_mask': tensor([ True,  True, False,  True, False,  True,  True,  True, False, False,\n",
              "         False, False, False, False, False, False,  True,  True, False,  True,\n",
              "         False,  True,  True, False,  True, False,  True,  True,  True, False,\n",
              "          True,  True, False, False, False,  True, False, False,  True,  True,\n",
              "         False,  True,  True,  True,  True,  True,  True,  True, False,  True,\n",
              "          True, False, False,  True, False,  True,  True,  True, False, False,\n",
              "          True,  True, False,  True,  True, False,  True, False, False,  True])}"
            ]
          },
          "metadata": {},
          "execution_count": 3
        }
      ]
    },
    {
      "cell_type": "markdown",
      "source": [
        "# Gather some statistics about the graph."
      ],
      "metadata": {
        "id": "nQx2wcoO39Hp"
      }
    },
    {
      "cell_type": "code",
      "source": [
        "print(f'Number of nodes: {Data[\"x\"].size(0)}')\n",
        "print(f'Number of features: {Data[\"x\"].size(1)}')\n",
        "print(f'Number of classes: {torch.numel(torch.unique(Data[\"y\"],sorted=True))}')\n",
        "print(f'Number of edges: {Data[\"edge_index\"].size(1)}')\n",
        "print(f'Average node degree: {Data[\"edge_index\"].size(1) / Data[\"x\"].size(0):.2f}')\n",
        "print(f'Number of training nodes: {Data[\"train_mask\"].sum()}')\n",
        "print(f'Number of testing nodes: {Data[\"test_mask\"].sum()}')\n",
        "print(f'Training node label rate: {int(Data[\"train_mask\"].sum()) /  Data[\"x\"].size(0):.2f}')"
      ],
      "metadata": {
        "id": "6Ru1IVdY15nG",
        "colab": {
          "base_uri": "https://localhost:8080/"
        },
        "outputId": "4f6c2258-bfcb-4997-fbfb-3deb5f498b37"
      },
      "execution_count": null,
      "outputs": [
        {
          "output_type": "stream",
          "name": "stdout",
          "text": [
            "Number of nodes: 70\n",
            "Number of features: 500\n",
            "Number of classes: 7\n",
            "Number of edges: 260\n",
            "Average node degree: 3.71\n",
            "Number of training nodes: 21\n",
            "Number of testing nodes: 39\n",
            "Training node label rate: 0.30\n"
          ]
        }
      ]
    },
    {
      "cell_type": "markdown",
      "source": [
        "# Read p_link from gdrive to use it as the attention."
      ],
      "metadata": {
        "id": "qjeVY6RB4D-W"
      }
    },
    {
      "cell_type": "code",
      "source": [
        "path = F\"/gdrive/MyDrive/7classes.sim/p_links_7classes.pt\"\n",
        "p_link = torch.load(path)\n",
        "print(p_link.size())\n",
        "print(p_link.dtype)\n",
        "print(p_link.type())"
      ],
      "metadata": {
        "id": "q_Cysw6JH-Aq",
        "colab": {
          "base_uri": "https://localhost:8080/"
        },
        "outputId": "75dd4a80-fc12-4c08-d667-c4e5ce951f0a"
      },
      "execution_count": null,
      "outputs": [
        {
          "output_type": "stream",
          "name": "stdout",
          "text": [
            "torch.Size([70, 70])\n",
            "torch.float32\n",
            "torch.FloatTensor\n"
          ]
        }
      ]
    },
    {
      "cell_type": "markdown",
      "source": [
        "# Install torch_geometic"
      ],
      "metadata": {
        "id": "RK412ZmA4OAt"
      }
    },
    {
      "cell_type": "code",
      "source": [
        "import os\n",
        "os.environ['TORCH'] = torch.__version__\n",
        "print(torch.__version__)\n",
        "\n",
        "!pip install -q torch-scatter -f https://data.pyg.org/whl/torch-${TORCH}.html\n",
        "!pip install -q torch-sparse -f https://data.pyg.org/whl/torch-${TORCH}.html\n",
        "!pip install -q git+https://github.com/pyg-team/pytorch_geometric.git"
      ],
      "metadata": {
        "id": "GzvWqyyxH_4V",
        "colab": {
          "base_uri": "https://localhost:8080/"
        },
        "outputId": "d389b2a8-7eaa-4afc-8d93-c4409145aeda"
      },
      "execution_count": null,
      "outputs": [
        {
          "output_type": "stream",
          "name": "stdout",
          "text": [
            "1.13.0+cu116\n",
            "\u001b[K     |████████████████████████████████| 9.4 MB 6.6 MB/s \n",
            "\u001b[K     |████████████████████████████████| 4.6 MB 7.0 MB/s \n",
            "\u001b[K     |████████████████████████████████| 280 kB 6.4 MB/s \n",
            "\u001b[?25h  Building wheel for torch-geometric (setup.py) ... \u001b[?25l\u001b[?25hdone\n"
          ]
        }
      ]
    },
    {
      "cell_type": "markdown",
      "source": [
        "# Developing my own model (making our own message passing layers), which name is BGAT.\n",
        "\n",
        "**BGATConv**\n",
        "$$ X^\\prime _i = \\sum_{j \\in N(i)\\cup i} \\alpha_{ij}\\Theta X_j$$\n",
        "In which $\\alpha$s are computed via BDgraph (p_link) and $\\Theta$ is learnable parameter"
      ],
      "metadata": {
        "id": "IkWEHj7e4Svg"
      }
    },
    {
      "cell_type": "code",
      "source": [
        "from torch_geometric.nn import MessagePassing\n",
        "import torch_geometric.nn\n",
        "import torch.nn.functional as F\n",
        "from torch_geometric.utils import add_self_loops"
      ],
      "metadata": {
        "id": "046h0k_IIB35"
      },
      "execution_count": null,
      "outputs": []
    },
    {
      "cell_type": "markdown",
      "source": [
        "# Creating message passing network."
      ],
      "metadata": {
        "id": "Kau4CtSN4fAO"
      }
    },
    {
      "cell_type": "code",
      "source": [
        "class BGATConv(MessagePassing):\n",
        "    def __init__(\n",
        "        self,\n",
        "        in_channels,\n",
        "        out_channels,\n",
        "        **kwargs,\n",
        "    ):\n",
        "        kwargs.setdefault('aggr', 'add')\n",
        "        super().__init__(node_dim = 0, **kwargs)\n",
        "        self.in_channels = in_channels\n",
        "        self.out_channels = out_channels\n",
        "        self.lin = torch.nn.Linear(in_channels, out_channels)\n",
        "\n",
        "    def forward(self, x, edge_index):\n",
        "        edge_index, _ = add_self_loops(Data[\"edge_index\"], num_nodes = Data[\"x\"].size(0))\n",
        "        x = self.lin(x)\n",
        "        atten = p_link\n",
        "        return self.propagate(edge_index, x=x, atten = atten)\n",
        "\n",
        "    def message(self, x_j, atten, edge_index_i, edge_index_j):\n",
        "        return atten[edge_index_i, edge_index_j].reshape(-1,1) * x_j\n",
        "\n",
        "    def __repr__(self):\n",
        "        return '{}({}, {})'.format(self.__class__.__name__, self.in_channels, self.out_channels)"
      ],
      "metadata": {
        "id": "fSmNiDaPIEGZ"
      },
      "execution_count": null,
      "outputs": []
    },
    {
      "cell_type": "markdown",
      "source": [
        "# Make GNN layers with our own model, BGAT. We use three BGAT conv"
      ],
      "metadata": {
        "id": "dFWGda4Z4i1v"
      }
    },
    {
      "cell_type": "code",
      "source": [
        "class Myconv(torch.nn.Module):\n",
        "    def __init__(self):\n",
        "        super().__init__()\n",
        "        torch.manual_seed(2)\n",
        "        self.conv1 = BGATConv(in_channels = 500, out_channels = 15)\n",
        "        self.conv2 =  BGATConv(15, 10)\n",
        "        self.conv3 =  BGATConv(10, 7)\n",
        "        \n",
        "    def forward(self, x, edge_index):\n",
        "        h = self.conv1(x, edge_index)\n",
        "        h = F.torch.tanh(h)\n",
        "        h = self.conv2(h, edge_index)\n",
        "        h = F.torch.tanh(h)\n",
        "        h = self.conv3(h, edge_index)# Final GNN embedding space.\n",
        "        h = F.log_softmax(h)\n",
        "        return h\n",
        "        \n",
        "model = Myconv()\n",
        "print(model)\n",
        "print(model.forward(Data[\"x\"], Data[\"edge_index\"]))"
      ],
      "metadata": {
        "id": "DMIxOfQJIg2C",
        "colab": {
          "base_uri": "https://localhost:8080/"
        },
        "outputId": "0b8f6879-8825-4109-ac25-3afd9cf48a81"
      },
      "execution_count": null,
      "outputs": [
        {
          "output_type": "stream",
          "name": "stdout",
          "text": [
            "Myconv(\n",
            "  (conv1): BGATConv(500, 15)\n",
            "  (conv2): BGATConv(15, 10)\n",
            "  (conv3): BGATConv(10, 7)\n",
            ")\n",
            "tensor([[ -1.6038,  -3.5480,  -0.7512,  -1.4632,  -4.1339,  -3.0155,  -6.3295],\n",
            "        [ -1.8167,  -2.2806,  -2.1076,  -0.7447,  -3.9225,  -2.1941,  -4.8831],\n",
            "        [ -1.9168,  -2.9504,  -2.5775,  -0.3901,  -5.1676,  -3.2022,  -6.6732],\n",
            "        [ -1.7701,  -1.8791,  -1.9542,  -0.9096,  -3.5461,  -2.4490,  -4.0514],\n",
            "        [ -3.2950,  -2.7694,  -4.2013,  -0.1424,  -8.1786,  -4.0349, -10.3955],\n",
            "        [ -1.8265,  -2.6651,  -1.5127,  -1.7854,  -2.1845,  -1.6247,  -2.6327],\n",
            "        [ -1.9964,  -6.3456,  -8.2527,  -0.1534, -10.2619,  -5.4350, -17.6342],\n",
            "        [ -1.3819,  -2.4975,  -1.5486,  -1.5245,  -2.3928,  -2.1056,  -3.7649],\n",
            "        [ -1.8369,  -5.1594,  -7.4488,  -0.1958,  -8.7107,  -4.4240, -14.7349],\n",
            "        [ -1.3772,  -7.2671,  -8.1324,  -0.2954,  -9.9204,  -5.9984, -18.6348],\n",
            "        [ -1.7579,  -1.9779,  -1.7986,  -1.2895,  -2.9389,  -1.7297,  -4.0152],\n",
            "        [ -1.3286,  -2.8458,  -2.5069,  -0.9945,  -2.9923,  -1.7821,  -4.9385],\n",
            "        [ -1.6179,  -2.2537,  -1.9370,  -0.9566,  -3.2694,  -2.1448,  -4.3252],\n",
            "        [ -2.0413,  -3.0332,  -1.4666,  -0.8343,  -3.1194,  -2.2809,  -4.5347],\n",
            "        [ -1.4533,  -3.8429,  -4.9857,  -0.3564,  -5.9729,  -3.3494,  -9.9014],\n",
            "        [ -1.6717,  -2.2061,  -1.8361,  -0.9425,  -3.3719,  -2.2535,  -4.3052],\n",
            "        [ -1.9253,  -1.7694,  -2.0773,  -0.7827,  -4.1365,  -2.5703,  -4.7368],\n",
            "        [ -1.1448,  -2.8997,  -1.9701,  -1.1252,  -2.8680,  -2.3167,  -4.9327],\n",
            "        [ -1.4807,  -2.8264,  -1.7124,  -1.6298,  -2.2323,  -1.6243,  -3.4245],\n",
            "        [ -1.3060,  -2.7879,  -1.9878,  -1.1833,  -2.7368,  -1.9893,  -3.7856],\n",
            "        [ -2.4842,  -5.1157,  -6.7084,  -0.1063,  -9.0536,  -4.5950, -14.3814],\n",
            "        [ -2.0978,  -2.9993,  -1.6523,  -0.5494,  -5.2159,  -2.9648,  -6.4753],\n",
            "        [ -1.2924,  -3.2089,  -1.2647,  -1.1926,  -3.5439,  -2.6948,  -5.8953],\n",
            "        [ -1.9011,  -1.6156,  -2.1905,  -1.0560,  -3.1894,  -2.0869,  -3.6172],\n",
            "        [ -2.9185,  -2.6455,  -0.8620,  -0.9615,  -4.6779,  -2.8778,  -5.3275],\n",
            "        [ -1.8435,  -2.9619,  -1.1213,  -2.2711,  -2.0013,  -1.6750,  -3.2577],\n",
            "        [ -1.3834,  -2.7025,  -2.3954,  -0.9291,  -3.3032,  -1.8796,  -4.9954],\n",
            "        [ -1.8612,  -3.9022,  -0.8084,  -2.6177,  -2.0584,  -1.8979,  -3.5672],\n",
            "        [ -1.4406,  -2.5014,  -2.8307,  -1.0795,  -2.7460,  -1.5989,  -4.1229],\n",
            "        [ -1.6668,  -2.7741,  -2.5828,  -1.0732,  -2.6538,  -1.4135,  -4.0387],\n",
            "        [ -1.6283,  -2.6854,  -2.3709,  -0.8934,  -2.9766,  -1.7965,  -4.1324],\n",
            "        [ -1.7869,  -1.6578,  -2.0860,  -1.0747,  -3.2599,  -2.1568,  -3.8037],\n",
            "        [ -1.7870,  -4.9416,  -7.4840,  -0.2138,  -8.2750,  -4.0697, -13.9755],\n",
            "        [ -1.8731,  -3.4423,  -0.8125,  -1.5248,  -2.7649,  -2.5778,  -4.2680],\n",
            "        [ -1.6198,  -2.3216,  -2.9784,  -1.1123,  -2.7643,  -1.4033,  -4.1675],\n",
            "        [ -1.5603,  -2.9350,  -2.7888,  -1.0113,  -2.8771,  -1.4065,  -4.5806],\n",
            "        [ -1.9735,  -3.2781,  -0.5702,  -1.7704,  -3.7495,  -2.8536,  -5.0330],\n",
            "        [ -1.9377,  -2.0535,  -2.1419,  -1.0110,  -3.0088,  -1.7205,  -4.0133],\n",
            "        [ -2.1042,  -2.2275,  -1.2868,  -1.1681,  -3.4103,  -2.0397,  -3.9087],\n",
            "        [ -1.4393,  -2.6331,  -1.8407,  -1.2007,  -2.9226,  -1.8026,  -4.3655],\n",
            "        [ -3.0496,  -2.5458,  -1.2049,  -0.6623,  -5.2719,  -2.9603,  -6.2723],\n",
            "        [ -1.6085,  -4.8924,  -6.5262,  -0.2514,  -8.1169,  -4.3552, -14.0953],\n",
            "        [ -1.4657,  -2.8028,  -2.8830,  -0.6369,  -3.6089,  -2.3789,  -5.5673],\n",
            "        [ -0.7773,  -3.7583,  -2.5682,  -1.1438,  -3.3985,  -2.4436,  -6.5332],\n",
            "        [ -1.8613,  -3.9852,  -0.9026,  -0.9212,  -5.2803,  -4.0843,  -7.7240],\n",
            "        [ -1.3607,  -5.5228,  -7.6593,  -0.3185,  -8.3198,  -4.4600, -15.2622],\n",
            "        [ -1.5658,  -3.0897,  -1.3363,  -0.8769,  -4.0323,  -3.0785,  -5.8493],\n",
            "        [ -1.0712,  -3.1716,  -1.5207,  -1.3095,  -2.9694,  -2.6474,  -5.3476],\n",
            "        [ -1.5326,  -3.3265,  -1.1179,  -0.9841,  -4.2764,  -3.4490,  -6.3780],\n",
            "        [ -1.9321,  -1.8861,  -1.9088,  -1.0320,  -3.2191,  -2.0160,  -3.6584],\n",
            "        [ -1.3494,  -3.3667,  -0.9539,  -1.6013,  -2.8249,  -2.9543,  -4.8513],\n",
            "        [ -2.2780,  -2.0161,  -1.7277,  -0.9238,  -3.4905,  -1.9061,  -4.5570],\n",
            "        [ -1.7491,  -2.0335,  -1.8590,  -1.6914,  -2.0896,  -1.8924,  -2.5176],\n",
            "        [ -1.2946,  -5.2207,  -7.2079,  -0.3502,  -7.7845,  -4.2077, -14.3007],\n",
            "        [ -2.6476,  -5.9636,  -0.4053,  -1.3672,  -7.0811,  -5.4780, -11.5613],\n",
            "        [ -1.5830,  -2.6416,  -1.4846,  -1.6772,  -2.3483,  -1.7631,  -3.1501],\n",
            "        [ -1.9439,  -3.3653,  -0.9183,  -0.9649,  -4.6167,  -3.4871,  -6.4291],\n",
            "        [ -2.1351,  -1.9690,  -1.5963,  -2.0159,  -2.0620,  -1.7882,  -2.1905],\n",
            "        [ -1.9816,  -3.1107,  -2.4831,  -0.5013,  -3.7534,  -2.2881,  -5.6724],\n",
            "        [ -1.3460,  -3.2663,  -1.6683,  -1.8072,  -2.0982,  -1.7196,  -3.0557],\n",
            "        [ -1.9818,  -4.2484,  -0.6942,  -2.4681,  -2.4561,  -1.9247,  -3.4432],\n",
            "        [ -1.8601,  -5.7267,  -8.1357,  -0.1845,  -9.0650,  -4.6959, -15.4481],\n",
            "        [ -1.6893,  -2.4763,  -2.2446,  -0.5931,  -4.6691,  -2.7949,  -6.1122],\n",
            "        [ -1.6833,  -2.4185,  -2.5652,  -0.5826,  -4.5029,  -2.5726,  -6.0176],\n",
            "        [ -1.7815,  -1.9004,  -2.7247,  -1.2928,  -2.4638,  -1.5687,  -3.0242],\n",
            "        [ -2.8486,  -3.1134,  -0.3499,  -1.9319,  -4.6392,  -3.5031,  -4.7998],\n",
            "        [ -1.4719,  -2.7454,  -1.7647,  -1.3903,  -2.4030,  -1.7374,  -3.9309],\n",
            "        [ -1.8564,  -1.8266,  -1.7589,  -1.0306,  -3.3063,  -2.3950,  -3.6521],\n",
            "        [ -1.6585,  -3.0123,  -3.1728,  -0.7164,  -3.6098,  -1.6124,  -5.6492],\n",
            "        [ -2.0541,  -2.9838,  -2.4706,  -0.4776,  -4.0673,  -2.3390,  -5.8739]],\n",
            "       grad_fn=<LogSoftmaxBackward0>)\n"
          ]
        },
        {
          "output_type": "stream",
          "name": "stderr",
          "text": [
            "<ipython-input-9-ab3950bbcfdf>:15: UserWarning: Implicit dimension choice for log_softmax has been deprecated. Change the call to include dim=X as an argument.\n",
            "  h = F.log_softmax(h)\n"
          ]
        }
      ]
    },
    {
      "cell_type": "markdown",
      "source": [
        "# We take a look at the node embeddings produced by our GNN (before training)."
      ],
      "metadata": {
        "id": "vWjrz7vj4rJ1"
      }
    },
    {
      "cell_type": "code",
      "source": [
        "import matplotlib.pyplot as plt\n",
        "from sklearn.manifold import TSNE\n",
        "import seaborn as sns\n",
        "\n",
        "def visualize(h):\n",
        "    z = TSNE(n_components = 2, random_state = 0).fit_transform(h.detach().numpy())\n",
        "    plt.figure(figsize = (6,4),  dpi = 120)\n",
        "    sns.scatterplot(z[:, 0], z[:, 1], hue = Data[\"y\"], palette=sns.color_palette(\"bright\",7)).set(title = \"Second scenario data T-SNE projection before training (BGAT)\")"
      ],
      "metadata": {
        "id": "IVtBPrD7Ikh7"
      },
      "execution_count": null,
      "outputs": []
    },
    {
      "cell_type": "markdown",
      "source": [
        "Here, we pass in the initial node features x and the graph connectivity information edge_index to the model, and visualize its 2-dimensional embedding."
      ],
      "metadata": {
        "id": "A2kuI8wkmVu3"
      }
    },
    {
      "cell_type": "code",
      "source": [
        "model = Myconv()\n",
        "h = model(Data[\"x\"], Data[\"edge_index\"])\n",
        "\n",
        "print(f'Embedding shape: {list(h.shape)}')\n",
        "visualize(h)"
      ],
      "metadata": {
        "id": "xQhmk3d8IoPy",
        "colab": {
          "base_uri": "https://localhost:8080/",
          "height": 644
        },
        "outputId": "66460112-51d2-481d-e2d6-1433fa0058cd"
      },
      "execution_count": null,
      "outputs": [
        {
          "output_type": "stream",
          "name": "stderr",
          "text": [
            "<ipython-input-9-ab3950bbcfdf>:15: UserWarning: Implicit dimension choice for log_softmax has been deprecated. Change the call to include dim=X as an argument.\n",
            "  h = F.log_softmax(h)\n",
            "/usr/local/lib/python3.8/dist-packages/sklearn/manifold/_t_sne.py:780: FutureWarning: The default initialization in TSNE will change from 'random' to 'pca' in 1.2.\n",
            "  warnings.warn(\n",
            "/usr/local/lib/python3.8/dist-packages/sklearn/manifold/_t_sne.py:790: FutureWarning: The default learning rate in TSNE will change from 200.0 to 'auto' in 1.2.\n",
            "  warnings.warn(\n"
          ]
        },
        {
          "output_type": "stream",
          "name": "stdout",
          "text": [
            "Embedding shape: [70, 7]\n"
          ]
        },
        {
          "output_type": "stream",
          "name": "stderr",
          "text": [
            "/usr/local/lib/python3.8/dist-packages/seaborn/_decorators.py:36: FutureWarning: Pass the following variables as keyword args: x, y. From version 0.12, the only valid positional argument will be `data`, and passing other arguments without an explicit keyword will result in an error or misinterpretation.\n",
            "  warnings.warn(\n"
          ]
        },
        {
          "output_type": "display_data",
          "data": {
            "text/plain": [
              "<Figure size 720x480 with 1 Axes>"
            ],
            "image/png": "[encoded data removed]"
          },
          "metadata": {
            "needs_background": "light"
          }
        }
      ]
    },
    {
      "cell_type": "markdown",
      "source": [
        "# Start training the model. "
      ],
      "metadata": {
        "id": "POJzK3aOIl9w"
      }
    },
    {
      "cell_type": "code",
      "source": [
        "model = Myconv()\n",
        "criterion = torch.nn.CrossEntropyLoss()  # Define loss criterion.\n",
        "optimizer = torch.optim.Adam(model.parameters(),  lr = 0.005)  # Define optimizer, an object for updating parameters\n",
        "#loss = loss + weight decay parameter * L2 norm of the weights, 1) To prevent overfitting 2) To keep the weights small and avoid exploding gradient\n",
        "\n",
        "def train(Data):\n",
        "    model.train()\n",
        "    optimizer.zero_grad()  # Clear gradients.\n",
        "    out = model(Data[\"x\"], Data[\"edge_index\"])\n",
        "    train_loss = criterion(out[Data[\"train_mask\"]], Data[\"y\"][Data[\"train_mask\"]])  # Compute the loss solely based on the training nodes.\n",
        "    train_loss.backward()  # Derive gradients.\n",
        "    optimizer.step()  # Update parameters based on gradients.\n",
        "    return train_loss\n",
        "\n",
        "\n",
        "def val(Data):\n",
        "      model.eval()\n",
        "      with torch.no_grad():\n",
        "        out = model(Data[\"x\"], Data[\"edge_index\"])\n",
        "        val_loss = criterion(out[Data[\"val_mask\"]], Data[\"y\"][Data[\"val_mask\"]])\n",
        "        #pred = out.argmax(dim=1)\n",
        "        #test_correct = pred[Data[\"val_mask\"]] == Data[\"y\"][Data[\"val_mask\"]]  # Check against ground-truth labels.\n",
        "        #test_acc = int(test_correct.sum()) / int(Data[\"val_mask\"].sum())  # Derive ratio of correct predictions.\n",
        "        return val_loss"
      ],
      "metadata": {
        "id": "69Q_WAuoJuSp"
      },
      "execution_count": null,
      "outputs": []
    },
    {
      "cell_type": "code",
      "source": [
        "train_loss_ = []\n",
        "val_loss_ = []\n",
        "\n",
        "for epoch in range(1, 101):\n",
        "\n",
        "  epoch_train_loss = []\n",
        "  epoch_val_loss = []\n",
        "  train_loss = train(Data)\n",
        "  val_loss = val(Data)\n",
        "\n",
        "\n",
        "\n",
        "\n",
        "\n",
        "\n",
        "  epoch_train_loss.append(train_loss.item())\n",
        "  epoch_val_loss.append(val_loss.item())\n",
        "\n",
        "\n",
        "\n",
        "\n",
        "  \n",
        "\n",
        "  val_loss_.append(sum(epoch_val_loss)/len(epoch_val_loss))\n",
        "  train_loss_.append(sum(epoch_train_loss)/len(epoch_train_loss))\n",
        "  print(epoch,'Train Loss: %.3f | val Loss: %.3f'%( train_loss,val_loss))"
      ],
      "metadata": {
        "id": "b5qYgRCKJwy8",
        "colab": {
          "base_uri": "https://localhost:8080/"
        },
        "outputId": "94b4ce98-f503-4cd0-b746-667d5bc2dfe3"
      },
      "execution_count": null,
      "outputs": [
        {
          "output_type": "stream",
          "name": "stderr",
          "text": [
            "<ipython-input-9-ab3950bbcfdf>:15: UserWarning: Implicit dimension choice for log_softmax has been deprecated. Change the call to include dim=X as an argument.\n",
            "  h = F.log_softmax(h)\n"
          ]
        },
        {
          "output_type": "stream",
          "name": "stdout",
          "text": [
            "1 Train Loss: 2.976 | val Loss: 1.984\n",
            "2 Train Loss: 1.667 | val Loss: 1.412\n",
            "3 Train Loss: 1.232 | val Loss: 1.089\n",
            "4 Train Loss: 0.977 | val Loss: 0.827\n",
            "5 Train Loss: 0.773 | val Loss: 0.731\n",
            "6 Train Loss: 0.676 | val Loss: 0.691\n",
            "7 Train Loss: 0.624 | val Loss: 0.656\n",
            "8 Train Loss: 0.580 | val Loss: 0.626\n",
            "9 Train Loss: 0.542 | val Loss: 0.600\n",
            "10 Train Loss: 0.508 | val Loss: 0.578\n",
            "11 Train Loss: 0.478 | val Loss: 0.557\n",
            "12 Train Loss: 0.451 | val Loss: 0.538\n",
            "13 Train Loss: 0.426 | val Loss: 0.520\n",
            "14 Train Loss: 0.405 | val Loss: 0.502\n",
            "15 Train Loss: 0.385 | val Loss: 0.485\n",
            "16 Train Loss: 0.368 | val Loss: 0.469\n",
            "17 Train Loss: 0.352 | val Loss: 0.455\n",
            "18 Train Loss: 0.337 | val Loss: 0.441\n",
            "19 Train Loss: 0.323 | val Loss: 0.429\n",
            "20 Train Loss: 0.310 | val Loss: 0.418\n",
            "21 Train Loss: 0.298 | val Loss: 0.408\n",
            "22 Train Loss: 0.287 | val Loss: 0.399\n",
            "23 Train Loss: 0.277 | val Loss: 0.390\n",
            "24 Train Loss: 0.267 | val Loss: 0.382\n",
            "25 Train Loss: 0.258 | val Loss: 0.375\n",
            "26 Train Loss: 0.250 | val Loss: 0.369\n",
            "27 Train Loss: 0.241 | val Loss: 0.362\n",
            "28 Train Loss: 0.234 | val Loss: 0.357\n",
            "29 Train Loss: 0.227 | val Loss: 0.351\n",
            "30 Train Loss: 0.221 | val Loss: 0.345\n",
            "31 Train Loss: 0.215 | val Loss: 0.339\n",
            "32 Train Loss: 0.209 | val Loss: 0.331\n",
            "33 Train Loss: 0.204 | val Loss: 0.322\n",
            "34 Train Loss: 0.199 | val Loss: 0.311\n",
            "35 Train Loss: 0.194 | val Loss: 0.301\n",
            "36 Train Loss: 0.189 | val Loss: 0.293\n",
            "37 Train Loss: 0.185 | val Loss: 0.286\n",
            "38 Train Loss: 0.181 | val Loss: 0.280\n",
            "39 Train Loss: 0.177 | val Loss: 0.275\n",
            "40 Train Loss: 0.172 | val Loss: 0.272\n",
            "41 Train Loss: 0.168 | val Loss: 0.269\n",
            "42 Train Loss: 0.165 | val Loss: 0.265\n",
            "43 Train Loss: 0.161 | val Loss: 0.260\n",
            "44 Train Loss: 0.158 | val Loss: 0.254\n",
            "45 Train Loss: 0.155 | val Loss: 0.249\n",
            "46 Train Loss: 0.151 | val Loss: 0.243\n",
            "47 Train Loss: 0.148 | val Loss: 0.239\n",
            "48 Train Loss: 0.145 | val Loss: 0.235\n",
            "49 Train Loss: 0.143 | val Loss: 0.231\n",
            "50 Train Loss: 0.140 | val Loss: 0.227\n",
            "51 Train Loss: 0.137 | val Loss: 0.224\n",
            "52 Train Loss: 0.135 | val Loss: 0.220\n",
            "53 Train Loss: 0.132 | val Loss: 0.216\n",
            "54 Train Loss: 0.130 | val Loss: 0.212\n",
            "55 Train Loss: 0.127 | val Loss: 0.208\n",
            "56 Train Loss: 0.125 | val Loss: 0.204\n",
            "57 Train Loss: 0.123 | val Loss: 0.200\n",
            "58 Train Loss: 0.121 | val Loss: 0.197\n",
            "59 Train Loss: 0.118 | val Loss: 0.193\n",
            "60 Train Loss: 0.116 | val Loss: 0.190\n",
            "61 Train Loss: 0.114 | val Loss: 0.187\n",
            "62 Train Loss: 0.112 | val Loss: 0.184\n",
            "63 Train Loss: 0.110 | val Loss: 0.181\n",
            "64 Train Loss: 0.108 | val Loss: 0.178\n",
            "65 Train Loss: 0.106 | val Loss: 0.175\n",
            "66 Train Loss: 0.104 | val Loss: 0.172\n",
            "67 Train Loss: 0.103 | val Loss: 0.169\n",
            "68 Train Loss: 0.101 | val Loss: 0.166\n",
            "69 Train Loss: 0.099 | val Loss: 0.164\n",
            "70 Train Loss: 0.097 | val Loss: 0.162\n",
            "71 Train Loss: 0.096 | val Loss: 0.160\n",
            "72 Train Loss: 0.094 | val Loss: 0.158\n",
            "73 Train Loss: 0.093 | val Loss: 0.156\n",
            "74 Train Loss: 0.091 | val Loss: 0.154\n",
            "75 Train Loss: 0.090 | val Loss: 0.153\n",
            "76 Train Loss: 0.088 | val Loss: 0.151\n",
            "77 Train Loss: 0.087 | val Loss: 0.149\n",
            "78 Train Loss: 0.085 | val Loss: 0.146\n",
            "79 Train Loss: 0.084 | val Loss: 0.144\n",
            "80 Train Loss: 0.083 | val Loss: 0.142\n",
            "81 Train Loss: 0.081 | val Loss: 0.140\n",
            "82 Train Loss: 0.080 | val Loss: 0.138\n",
            "83 Train Loss: 0.079 | val Loss: 0.137\n",
            "84 Train Loss: 0.078 | val Loss: 0.135\n",
            "85 Train Loss: 0.076 | val Loss: 0.134\n",
            "86 Train Loss: 0.075 | val Loss: 0.133\n",
            "87 Train Loss: 0.074 | val Loss: 0.132\n",
            "88 Train Loss: 0.073 | val Loss: 0.131\n",
            "89 Train Loss: 0.071 | val Loss: 0.129\n",
            "90 Train Loss: 0.070 | val Loss: 0.127\n",
            "91 Train Loss: 0.069 | val Loss: 0.125\n",
            "92 Train Loss: 0.068 | val Loss: 0.124\n",
            "93 Train Loss: 0.067 | val Loss: 0.123\n",
            "94 Train Loss: 0.066 | val Loss: 0.122\n",
            "95 Train Loss: 0.065 | val Loss: 0.120\n",
            "96 Train Loss: 0.064 | val Loss: 0.118\n",
            "97 Train Loss: 0.063 | val Loss: 0.117\n",
            "98 Train Loss: 0.062 | val Loss: 0.115\n",
            "99 Train Loss: 0.061 | val Loss: 0.114\n",
            "100 Train Loss: 0.060 | val Loss: 0.112\n"
          ]
        }
      ]
    },
    {
      "cell_type": "markdown",
      "source": [
        "# Visualize train loss and val loss."
      ],
      "metadata": {
        "id": "29zlzkdyIp9_"
      }
    },
    {
      "cell_type": "code",
      "source": [
        "plt.plot(train_loss_, \"m\", linewidth = 3)\n",
        "plt.plot(val_loss_, \"k\", linewidth = 3)\n",
        "plt.xlabel('epoch')\n",
        "plt.ylabel('loss')\n",
        "plt.legend(['Train','Val'])\n",
        "plt.title('Train vs Val Loss for the second scenario (BGAT)')\n",
        "plt.grid()\n",
        "plt.show()"
      ],
      "metadata": {
        "id": "VkMWKS4WJy1C",
        "colab": {
          "base_uri": "https://localhost:8080/"
        },
        "outputId": "545a967f-7940-4945-f0f1-4b7d4e916ab8"
      },
      "execution_count": null,
      "outputs": [
        {
          "output_type": "display_data",
          "data": {
            "text/plain": [
              "<Figure size 432x288 with 1 Axes>"
            ],
            "image/png": "[encoded data removed]"
          },
          "metadata": {
            "needs_background": "light"
          }
        }
      ]
    },
    {
      "cell_type": "markdown",
      "source": [
        "# Compute the accuracy of the model."
      ],
      "metadata": {
        "id": "XkuGsrzXIs83"
      }
    },
    {
      "cell_type": "code",
      "source": [
        "def test(Data):\n",
        "      model.eval()\n",
        "      with torch.no_grad():\n",
        "        out = model(Data[\"x\"], Data[\"edge_index\"])\n",
        "        pred = out.argmax(dim=1)\n",
        "        test_correct = pred[Data[\"test_mask\"]] == Data[\"y\"][Data[\"test_mask\"]]  # Check against ground-truth labels.\n",
        "        test_acc = int(test_correct.sum()) / int(Data[\"test_mask\"].sum())  # Derive ratio of correct predictions.\n",
        "        return test_acc"
      ],
      "metadata": {
        "id": "SBbfBO5EOsDV"
      },
      "execution_count": null,
      "outputs": []
    },
    {
      "cell_type": "code",
      "source": [
        "test_acc = test(Data)\n",
        "print(f'Test Accuracy: {100*test_acc:.2f}')"
      ],
      "metadata": {
        "id": "Gh89C6dRJ2sb",
        "colab": {
          "base_uri": "https://localhost:8080/"
        },
        "outputId": "1a4d9153-ba67-4022-fd4e-873b8ff2b656"
      },
      "execution_count": null,
      "outputs": [
        {
          "output_type": "stream",
          "name": "stdout",
          "text": [
            "Test Accuracy: 84.62\n"
          ]
        },
        {
          "output_type": "stream",
          "name": "stderr",
          "text": [
            "<ipython-input-9-ab3950bbcfdf>:15: UserWarning: Implicit dimension choice for log_softmax has been deprecated. Change the call to include dim=X as an argument.\n",
            "  h = F.log_softmax(h)\n"
          ]
        }
      ]
    },
    {
      "cell_type": "markdown",
      "source": [
        "# We take a look at the node embeddings produced by our GNN (after training)."
      ],
      "metadata": {
        "id": "WVU773LQIwRX"
      }
    },
    {
      "cell_type": "code",
      "source": [
        "import matplotlib.pyplot as plt\n",
        "from sklearn.manifold import TSNE\n",
        "import seaborn as sns\n",
        "\n",
        "def visualize(h):\n",
        "    z = TSNE(n_components = 2, random_state = 0).fit_transform(h.detach().numpy())\n",
        "    plt.figure(figsize = (6,4),  dpi = 120)\n",
        "    sns.scatterplot(z[:, 0], z[:, 1], hue = Data[\"y\"], palette=sns.color_palette(\"bright\",7)).set(title = \"Second scenario data T-SNE projection after training (BGAT)\")"
      ],
      "metadata": {
        "id": "pVCxS6l45Fna"
      },
      "execution_count": null,
      "outputs": []
    },
    {
      "cell_type": "code",
      "source": [
        "model.eval()\n",
        "out = model(Data[\"x\"], Data[\"edge_index\"])\n",
        "visualize(out)"
      ],
      "metadata": {
        "id": "RhPNAmcZKeU6",
        "colab": {
          "base_uri": "https://localhost:8080/"
        },
        "outputId": "f013d693-a262-4986-ed7f-9cacab90f0dd"
      },
      "execution_count": null,
      "outputs": [
        {
          "output_type": "stream",
          "name": "stderr",
          "text": [
            "<ipython-input-9-ab3950bbcfdf>:15: UserWarning: Implicit dimension choice for log_softmax has been deprecated. Change the call to include dim=X as an argument.\n",
            "  h = F.log_softmax(h)\n",
            "/usr/local/lib/python3.8/dist-packages/sklearn/manifold/_t_sne.py:780: FutureWarning: The default initialization in TSNE will change from 'random' to 'pca' in 1.2.\n",
            "  warnings.warn(\n",
            "/usr/local/lib/python3.8/dist-packages/sklearn/manifold/_t_sne.py:790: FutureWarning: The default learning rate in TSNE will change from 200.0 to 'auto' in 1.2.\n",
            "  warnings.warn(\n",
            "/usr/local/lib/python3.8/dist-packages/seaborn/_decorators.py:36: FutureWarning: Pass the following variables as keyword args: x, y. From version 0.12, the only valid positional argument will be `data`, and passing other arguments without an explicit keyword will result in an error or misinterpretation.\n",
            "  warnings.warn(\n"
          ]
        },
        {
          "output_type": "display_data",
          "data": {
            "text/plain": [
              "<Figure size 720x480 with 1 Axes>"
            ],
            "image/png": "[encoded data removed]"
          },
          "metadata": {
            "needs_background": "light"
          }
        }
      ]
    },
    {
      "cell_type": "markdown",
      "source": [
        "# Confusion matrix."
      ],
      "metadata": {
        "id": "JfX0fs3yXazh"
      }
    },
    {
      "cell_type": "code",
      "source": [
        "pred = out.argmax(dim=1)\n",
        "pred"
      ],
      "metadata": {
        "id": "xbDyi9yZ8N9g",
        "colab": {
          "base_uri": "https://localhost:8080/"
        },
        "outputId": "a3d4beb5-0184-4f16-a51b-2e1ffd2fac80"
      },
      "execution_count": null,
      "outputs": [
        {
          "output_type": "execute_result",
          "data": {
            "text/plain": [
              "tensor([2, 5, 6, 6, 6, 3, 1, 4, 1, 1, 6, 4, 5, 0, 1, 5, 6, 4, 5, 3, 1, 0, 4, 6,\n",
              "        2, 3, 4, 3, 4, 4, 4, 6, 1, 0, 3, 4, 2, 3, 0, 5, 2, 1, 0, 5, 2, 1, 2, 4,\n",
              "        2, 6, 2, 6, 4, 1, 2, 3, 2, 4, 0, 3, 3, 1, 5, 5, 3, 2, 5, 0, 4, 0])"
            ]
          },
          "metadata": {},
          "execution_count": 19
        }
      ]
    },
    {
      "cell_type": "code",
      "source": [
        "pred = pred[Data[\"test_mask\"]] "
      ],
      "metadata": {
        "id": "92KLKFy_8QKm"
      },
      "execution_count": null,
      "outputs": []
    },
    {
      "cell_type": "code",
      "source": [
        "act = Data[\"y\"][Data[\"test_mask\"]]"
      ],
      "metadata": {
        "id": "sWO5l7I78R53"
      },
      "execution_count": null,
      "outputs": []
    },
    {
      "cell_type": "code",
      "source": [
        "data = {'y_Actual':    act,\n",
        "        'y_Predicted':pred\n",
        "        }\n",
        "\n",
        "df = pd.DataFrame(data, columns = ['y_Actual','y_Predicted'])\n",
        "df"
      ],
      "metadata": {
        "id": "NYrooAar8UDY",
        "colab": {
          "base_uri": "https://localhost:8080/",
          "height": 1000
        },
        "outputId": "c3a30f66-12a7-48f1-f2a2-c4ad60ab61ee"
      },
      "execution_count": null,
      "outputs": [
        {
          "output_type": "execute_result",
          "data": {
            "text/plain": [
              "    y_Actual  y_Predicted\n",
              "0          0            2\n",
              "1          5            5\n",
              "2          6            6\n",
              "3          3            3\n",
              "4          1            1\n",
              "5          4            4\n",
              "6          6            6\n",
              "7          0            4\n",
              "8          3            3\n",
              "9          5            0\n",
              "10         4            4\n",
              "11         2            2\n",
              "12         4            4\n",
              "13         3            3\n",
              "14         4            4\n",
              "15         6            4\n",
              "16         6            6\n",
              "17         4            4\n",
              "18         0            0\n",
              "19         5            5\n",
              "20         1            1\n",
              "21         0            0\n",
              "22         5            5\n",
              "23         2            2\n",
              "24         1            1\n",
              "25         2            2\n",
              "26         4            4\n",
              "27         6            6\n",
              "28         0            2\n",
              "29         1            1\n",
              "30         3            3\n",
              "31         2            2\n",
              "32         2            4\n",
              "33         3            3\n",
              "34         1            1\n",
              "35         5            5\n",
              "36         3            3\n",
              "37         5            5\n",
              "38         0            0"
            ],
            "text/html": [
              "\n",
              "  <div id=\"df-7ece7fc2-6693-4ffb-af47-ba3636320f84\">\n",
              "    <div class=\"colab-df-container\">\n",
              "      <div>\n",
              "<style scoped>\n",
              "    .dataframe tbody tr th:only-of-type {\n",
              "        vertical-align: middle;\n",
              "    }\n",
              "\n",
              "    .dataframe tbody tr th {\n",
              "        vertical-align: top;\n",
              "    }\n",
              "\n",
              "    .dataframe thead th {\n",
              "        text-align: right;\n",
              "    }\n",
              "</style>\n",
              "<table border=\"1\" class=\"dataframe\">\n",
              "  <thead>\n",
              "    <tr style=\"text-align: right;\">\n",
              "      <th></th>\n",
              "      <th>y_Actual</th>\n",
              "      <th>y_Predicted</th>\n",
              "    </tr>\n",
              "  </thead>\n",
              "  <tbody>\n",
              "    <tr>\n",
              "      <th>0</th>\n",
              "      <td>0</td>\n",
              "      <td>2</td>\n",
              "    </tr>\n",
              "    <tr>\n",
              "      <th>1</th>\n",
              "      <td>5</td>\n",
              "      <td>5</td>\n",
              "    </tr>\n",
              "    <tr>\n",
              "      <th>2</th>\n",
              "      <td>6</td>\n",
              "      <td>6</td>\n",
              "    </tr>\n",
              "    <tr>\n",
              "      <th>3</th>\n",
              "      <td>3</td>\n",
              "      <td>3</td>\n",
              "    </tr>\n",
              "    <tr>\n",
              "      <th>4</th>\n",
              "      <td>1</td>\n",
              "      <td>1</td>\n",
              "    </tr>\n",
              "    <tr>\n",
              "      <th>5</th>\n",
              "      <td>4</td>\n",
              "      <td>4</td>\n",
              "    </tr>\n",
              "    <tr>\n",
              "      <th>6</th>\n",
              "      <td>6</td>\n",
              "      <td>6</td>\n",
              "    </tr>\n",
              "    <tr>\n",
              "      <th>7</th>\n",
              "      <td>0</td>\n",
              "      <td>4</td>\n",
              "    </tr>\n",
              "    <tr>\n",
              "      <th>8</th>\n",
              "      <td>3</td>\n",
              "      <td>3</td>\n",
              "    </tr>\n",
              "    <tr>\n",
              "      <th>9</th>\n",
              "      <td>5</td>\n",
              "      <td>0</td>\n",
              "    </tr>\n",
              "    <tr>\n",
              "      <th>10</th>\n",
              "      <td>4</td>\n",
              "      <td>4</td>\n",
              "    </tr>\n",
              "    <tr>\n",
              "      <th>11</th>\n",
              "      <td>2</td>\n",
              "      <td>2</td>\n",
              "    </tr>\n",
              "    <tr>\n",
              "      <th>12</th>\n",
              "      <td>4</td>\n",
              "      <td>4</td>\n",
              "    </tr>\n",
              "    <tr>\n",
              "      <th>13</th>\n",
              "      <td>3</td>\n",
              "      <td>3</td>\n",
              "    </tr>\n",
              "    <tr>\n",
              "      <th>14</th>\n",
              "      <td>4</td>\n",
              "      <td>4</td>\n",
              "    </tr>\n",
              "    <tr>\n",
              "      <th>15</th>\n",
              "      <td>6</td>\n",
              "      <td>4</td>\n",
              "    </tr>\n",
              "    <tr>\n",
              "      <th>16</th>\n",
              "      <td>6</td>\n",
              "      <td>6</td>\n",
              "    </tr>\n",
              "    <tr>\n",
              "      <th>17</th>\n",
              "      <td>4</td>\n",
              "      <td>4</td>\n",
              "    </tr>\n",
              "    <tr>\n",
              "      <th>18</th>\n",
              "      <td>0</td>\n",
              "      <td>0</td>\n",
              "    </tr>\n",
              "    <tr>\n",
              "      <th>19</th>\n",
              "      <td>5</td>\n",
              "      <td>5</td>\n",
              "    </tr>\n",
              "    <tr>\n",
              "      <th>20</th>\n",
              "      <td>1</td>\n",
              "      <td>1</td>\n",
              "    </tr>\n",
              "    <tr>\n",
              "      <th>21</th>\n",
              "      <td>0</td>\n",
              "      <td>0</td>\n",
              "    </tr>\n",
              "    <tr>\n",
              "      <th>22</th>\n",
              "      <td>5</td>\n",
              "      <td>5</td>\n",
              "    </tr>\n",
              "    <tr>\n",
              "      <th>23</th>\n",
              "      <td>2</td>\n",
              "      <td>2</td>\n",
              "    </tr>\n",
              "    <tr>\n",
              "      <th>24</th>\n",
              "      <td>1</td>\n",
              "      <td>1</td>\n",
              "    </tr>\n",
              "    <tr>\n",
              "      <th>25</th>\n",
              "      <td>2</td>\n",
              "      <td>2</td>\n",
              "    </tr>\n",
              "    <tr>\n",
              "      <th>26</th>\n",
              "      <td>4</td>\n",
              "      <td>4</td>\n",
              "    </tr>\n",
              "    <tr>\n",
              "      <th>27</th>\n",
              "      <td>6</td>\n",
              "      <td>6</td>\n",
              "    </tr>\n",
              "    <tr>\n",
              "      <th>28</th>\n",
              "      <td>0</td>\n",
              "      <td>2</td>\n",
              "    </tr>\n",
              "    <tr>\n",
              "      <th>29</th>\n",
              "      <td>1</td>\n",
              "      <td>1</td>\n",
              "    </tr>\n",
              "    <tr>\n",
              "      <th>30</th>\n",
              "      <td>3</td>\n",
              "      <td>3</td>\n",
              "    </tr>\n",
              "    <tr>\n",
              "      <th>31</th>\n",
              "      <td>2</td>\n",
              "      <td>2</td>\n",
              "    </tr>\n",
              "    <tr>\n",
              "      <th>32</th>\n",
              "      <td>2</td>\n",
              "      <td>4</td>\n",
              "    </tr>\n",
              "    <tr>\n",
              "      <th>33</th>\n",
              "      <td>3</td>\n",
              "      <td>3</td>\n",
              "    </tr>\n",
              "    <tr>\n",
              "      <th>34</th>\n",
              "      <td>1</td>\n",
              "      <td>1</td>\n",
              "    </tr>\n",
              "    <tr>\n",
              "      <th>35</th>\n",
              "      <td>5</td>\n",
              "      <td>5</td>\n",
              "    </tr>\n",
              "    <tr>\n",
              "      <th>36</th>\n",
              "      <td>3</td>\n",
              "      <td>3</td>\n",
              "    </tr>\n",
              "    <tr>\n",
              "      <th>37</th>\n",
              "      <td>5</td>\n",
              "      <td>5</td>\n",
              "    </tr>\n",
              "    <tr>\n",
              "      <th>38</th>\n",
              "      <td>0</td>\n",
              "      <td>0</td>\n",
              "    </tr>\n",
              "  </tbody>\n",
              "</table>\n",
              "</div>\n",
              "      <button class=\"colab-df-convert\" onclick=\"convertToInteractive('df-7ece7fc2-6693-4ffb-af47-ba3636320f84')\"\n",
              "              title=\"Convert this dataframe to an interactive table.\"\n",
              "              style=\"display:none;\">\n",
              "        \n",
              "  <svg xmlns=\"http://www.w3.org/2000/svg\" height=\"24px\"viewBox=\"0 0 24 24\"\n",
              "       width=\"24px\">\n",
              "    <path d=\"M0 0h24v24H0V0z\" fill=\"none\"/>\n",
              "    <path d=\"M18.56 5.44l.94 2.06.94-2.06 2.06-.94-2.06-.94-.94-2.06-.94 2.06-2.06.94zm-11 1L8.5 8.5l.94-2.06 2.06-.94-2.06-.94L8.5 2.5l-.94 2.06-2.06.94zm10 10l.94 2.06.94-2.06 2.06-.94-2.06-.94-.94-2.06-.94 2.06-2.06.94z\"/><path d=\"M17.41 7.96l-1.37-1.37c-.4-.4-.92-.59-1.43-.59-.52 0-1.04.2-1.43.59L10.3 9.45l-7.72 7.72c-.78.78-.78 2.05 0 2.83L4 21.41c.39.39.9.59 1.41.59.51 0 1.02-.2 1.41-.59l7.78-7.78 2.81-2.81c.8-.78.8-2.07 0-2.86zM5.41 20L4 18.59l7.72-7.72 1.47 1.35L5.41 20z\"/>\n",
              "  </svg>\n",
              "      </button>\n",
              "      \n",
              "  <style>\n",
              "    .colab-df-container {\n",
              "      display:flex;\n",
              "      flex-wrap:wrap;\n",
              "      gap: 12px;\n",
              "    }\n",
              "\n",
              "    .colab-df-convert {\n",
              "      background-color: #E8F0FE;\n",
              "      border: none;\n",
              "      border-radius: 50%;\n",
              "      cursor: pointer;\n",
              "      display: none;\n",
              "      fill: #1967D2;\n",
              "      height: 32px;\n",
              "      padding: 0 0 0 0;\n",
              "      width: 32px;\n",
              "    }\n",
              "\n",
              "    .colab-df-convert:hover {\n",
              "      background-color: #E2EBFA;\n",
              "      box-shadow: 0px 1px 2px rgba(60, 64, 67, 0.3), 0px 1px 3px 1px rgba(60, 64, 67, 0.15);\n",
              "      fill: #174EA6;\n",
              "    }\n",
              "\n",
              "    [theme=dark] .colab-df-convert {\n",
              "      background-color: #3B4455;\n",
              "      fill: #D2E3FC;\n",
              "    }\n",
              "\n",
              "    [theme=dark] .colab-df-convert:hover {\n",
              "      background-color: #434B5C;\n",
              "      box-shadow: 0px 1px 3px 1px rgba(0, 0, 0, 0.15);\n",
              "      filter: drop-shadow(0px 1px 2px rgba(0, 0, 0, 0.3));\n",
              "      fill: #FFFFFF;\n",
              "    }\n",
              "  </style>\n",
              "\n",
              "      <script>\n",
              "        const buttonEl =\n",
              "          document.querySelector('#df-7ece7fc2-6693-4ffb-af47-ba3636320f84 button.colab-df-convert');\n",
              "        buttonEl.style.display =\n",
              "          google.colab.kernel.accessAllowed ? 'block' : 'none';\n",
              "\n",
              "        async function convertToInteractive(key) {\n",
              "          const element = document.querySelector('#df-7ece7fc2-6693-4ffb-af47-ba3636320f84');\n",
              "          const dataTable =\n",
              "            await google.colab.kernel.invokeFunction('convertToInteractive',\n",
              "                                                     [key], {});\n",
              "          if (!dataTable) return;\n",
              "\n",
              "          const docLinkHtml = 'Like what you see? Visit the ' +\n",
              "            '<a target=\"_blank\" href=https://colab.research.google.com/notebooks/data_table.ipynb>data table notebook</a>'\n",
              "            + ' to learn more about interactive tables.';\n",
              "          element.innerHTML = '';\n",
              "          dataTable['output_type'] = 'display_data';\n",
              "          await google.colab.output.renderOutput(dataTable, element);\n",
              "          const docLink = document.createElement('div');\n",
              "          docLink.innerHTML = docLinkHtml;\n",
              "          element.appendChild(docLink);\n",
              "        }\n",
              "      </script>\n",
              "    </div>\n",
              "  </div>\n",
              "  "
            ]
          },
          "metadata": {},
          "execution_count": 22
        }
      ]
    },
    {
      "cell_type": "code",
      "source": [
        "confusion_matrix = pd.crosstab(data['y_Actual'], data['y_Predicted'], rownames=['Actual'], colnames = ['Predicted'], margins = True)\n",
        "import seaborn as sn\n",
        "sn.heatmap(confusion_matrix, annot=True,  cmap=\"Blues\")\n",
        "ax = plt.axes()\n",
        "ax.set_title('Second scenario, confusion matrix (BGAT)')\n",
        "plt.show()"
      ],
      "metadata": {
        "id": "fnzC9PRG8WTU",
        "colab": {
          "base_uri": "https://localhost:8080/"
        },
        "outputId": "b72148d6-239f-4b21-e405-7dff1dc1add0"
      },
      "execution_count": null,
      "outputs": [
        {
          "output_type": "stream",
          "name": "stderr",
          "text": [
            "<ipython-input-23-2f9b0c455fc0>:4: MatplotlibDeprecationWarning: Adding an axes using the same arguments as a previous axes currently reuses the earlier instance.  In a future version, a new instance will always be created and returned.  Meanwhile, this warning can be suppressed, and the future behavior ensured, by passing a unique label to each axes instance.\n",
            "  ax = plt.axes()\n"
          ]
        },
        {
          "output_type": "display_data",
          "data": {
            "text/plain": [
              "<Figure size 432x288 with 2 Axes>"
            ],
            "image/png": "[encoded data removed]"
          },
          "metadata": {
            "needs_background": "light"
          }
        }
      ]
    }
  ]
}
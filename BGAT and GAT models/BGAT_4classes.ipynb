{
  "nbformat": 4,
  "nbformat_minor": 0,
  "metadata": {
    "colab": {
      "provenance": []
    },
    "kernelspec": {
      "name": "python3",
      "display_name": "Python 3"
    },
    "language_info": {
      "name": "python"
    },
    "gpuClass": "standard"
  },
  "cells": [
    {
      "cell_type": "markdown",
      "source": [
        "## Mount to gdrive to read data, adjacency matrix, p_link and labels. "
      ],
      "metadata": {
        "id": "jrGEPUR9kI6e"
      }
    },
    {
      "cell_type": "code",
      "metadata": {
        "id": "SpKfUqA-M-Eu",
        "colab": {
          "base_uri": "https://localhost:8080/"
        },
        "outputId": "a78d28f2-38d7-41ea-f7d9-581a10ea7133"
      },
      "source": [
        "from google.colab import drive\n",
        "drive.mount('/gdrive')"
      ],
      "execution_count": null,
      "outputs": [
        {
          "output_type": "stream",
          "name": "stdout",
          "text": [
            "Mounted at /gdrive\n"
          ]
        }
      ]
    },
    {
      "cell_type": "markdown",
      "source": [
        "# Install pandas to read csv files from gdrive. Install torch and numpy which are packages that are needed durind coding."
      ],
      "metadata": {
        "id": "GzLZuKFOkNgR"
      }
    },
    {
      "cell_type": "code",
      "source": [
        "!pip install pandas\n",
        "import pandas as pd\n",
        "import torch\n",
        "import numpy as np"
      ],
      "metadata": {
        "id": "CH2w3eLcUcR3",
        "colab": {
          "base_uri": "https://localhost:8080/"
        },
        "outputId": "b86ce3b0-a8dc-4a22-e36b-cf9172a16966"
      },
      "execution_count": null,
      "outputs": [
        {
          "output_type": "stream",
          "name": "stdout",
          "text": [
            "Looking in indexes: https://pypi.org/simple, https://us-python.pkg.dev/colab-wheels/public/simple/\n",
            "Requirement already satisfied: pandas in /usr/local/lib/python3.8/dist-packages (1.3.5)\n",
            "Requirement already satisfied: pytz>=2017.3 in /usr/local/lib/python3.8/dist-packages (from pandas) (2022.6)\n",
            "Requirement already satisfied: python-dateutil>=2.7.3 in /usr/local/lib/python3.8/dist-packages (from pandas) (2.8.2)\n",
            "Requirement already satisfied: numpy>=1.17.3 in /usr/local/lib/python3.8/dist-packages (from pandas) (1.21.6)\n",
            "Requirement already satisfied: six>=1.5 in /usr/local/lib/python3.8/dist-packages (from python-dateutil>=2.7.3->pandas) (1.15.0)\n"
          ]
        }
      ]
    },
    {
      "cell_type": "markdown",
      "source": [
        "# Load data which are processed in preprocessing_data_4classdes.ipynb file."
      ],
      "metadata": {
        "id": "hBnsNCxokoFR"
      }
    },
    {
      "cell_type": "code",
      "source": [
        "path = F\"/gdrive/MyDrive/4classes.sim/data.pt\"\n",
        "Data = torch.load(path)\n",
        "Data"
      ],
      "metadata": {
        "id": "h0XyRAHbUeJT",
        "colab": {
          "base_uri": "https://localhost:8080/"
        },
        "outputId": "da763afd-9e0d-4a46-a9dc-eba78b140b0a"
      },
      "execution_count": null,
      "outputs": [
        {
          "output_type": "execute_result",
          "data": {
            "text/plain": [
              "{'x': tensor([[-0.4530,  0.5955, -1.1069,  ...,  0.5985,  0.1790,  0.2985],\n",
              "         [ 0.2027,  0.6537,  0.6290,  ..., -0.1876, -1.2782,  0.5982],\n",
              "         [-0.2713,  0.4418,  1.5845,  ..., -1.1430, -2.2012,  0.7388],\n",
              "         ...,\n",
              "         [ 0.5176, -1.6871, -1.4386,  ..., -0.2084,  1.3068, -0.1615],\n",
              "         [ 0.0700, -1.4413, -0.2656,  ..., -0.3264,  1.0155,  0.4870],\n",
              "         [-0.2865,  1.4095,  1.7289,  ..., -0.3547, -1.7226,  0.7805]]),\n",
              " 'edge_index': tensor([[ 0,  0,  1,  1,  1,  2,  2,  2,  2,  4,  4,  4,  4,  5,  5,  6,  6,  6,\n",
              "           6,  6,  6,  7,  8,  8,  8,  8,  8,  8,  9,  9,  9,  9,  9,  9, 10, 10,\n",
              "          11, 11, 11, 11, 11, 12, 13, 13, 14, 14, 14, 14, 14, 14, 14, 14, 14, 14,\n",
              "          14, 16, 17, 17, 17, 18, 18, 18, 18, 19, 19, 19, 20, 20, 21, 21, 21, 21,\n",
              "          21, 21, 22, 23, 24, 24, 24, 24, 25, 25, 26, 26, 26, 26, 26, 26, 26, 26,\n",
              "          27, 28, 29, 29, 29, 29, 29, 29, 29, 30, 30, 30, 30, 30, 30, 30, 32, 32,\n",
              "          33, 34, 34, 34, 34, 34, 34, 35, 36, 37, 37, 37, 37, 37, 38, 38, 39, 39],\n",
              "         [17, 33, 18, 26, 37,  5, 10, 23, 25, 14, 21, 29, 30,  2, 16,  8,  9, 14,\n",
              "          29, 30, 34, 36,  6,  9, 14, 29, 30, 34,  6,  8, 21, 29, 30, 34,  2, 11,\n",
              "          10, 18, 26, 27, 37, 25, 20, 22,  4,  6,  8, 19, 21, 24, 29, 30, 34, 37,\n",
              "          39,  5,  0, 20, 39,  1, 11, 26, 32, 14, 26, 37, 13, 17,  4,  9, 14, 24,\n",
              "          29, 34, 13,  2, 14, 21, 30, 34,  2, 12,  1, 11, 18, 19, 28, 35, 37, 38,\n",
              "          11, 26,  4,  6,  8,  9, 14, 21, 30,  4,  6,  8,  9, 14, 24, 29, 18, 38,\n",
              "           0,  6,  8,  9, 14, 21, 24, 26,  7,  1, 11, 14, 19, 26, 26, 32, 14, 17]]),\n",
              " 'y': tensor([0, 2, 3, 0, 1, 3, 1, 3, 1, 1, 3, 2, 3, 0, 1, 3, 3, 0, 2, 2, 0, 1, 0, 3,\n",
              "         1, 3, 2, 2, 2, 1, 1, 0, 0, 0, 1, 2, 3, 2, 2, 0]),\n",
              " 'train_mask': tensor([ True, False, False, False, False,  True, False, False, False,  True,\n",
              "         False, False,  True, False,  True, False, False, False,  True, False,\n",
              "         False, False,  True, False, False, False, False,  True, False, False,\n",
              "         False, False, False, False, False, False, False, False, False, False]),\n",
              " 'val_mask': tensor([False, False, False, False, False, False, False,  True,  True, False,\n",
              "         False,  True, False, False, False,  True, False, False, False, False,\n",
              "          True,  True, False,  True, False, False, False, False,  True, False,\n",
              "         False,  True, False, False, False, False, False, False,  True, False]),\n",
              " 'test_mask': tensor([False,  True,  True,  True,  True, False,  True, False, False, False,\n",
              "          True, False, False,  True, False, False,  True,  True, False,  True,\n",
              "         False, False, False, False,  True,  True,  True, False, False,  True,\n",
              "          True, False,  True,  True,  True,  True,  True,  True, False,  True])}"
            ]
          },
          "metadata": {},
          "execution_count": 3
        }
      ]
    },
    {
      "cell_type": "markdown",
      "source": [
        "# Gather some statistics about the graph."
      ],
      "metadata": {
        "id": "LBWRPLDKlAri"
      }
    },
    {
      "cell_type": "code",
      "source": [
        "print(f'Number of nodes: {Data[\"x\"].size(0)}')\n",
        "print(f'Number of features: {Data[\"x\"].size(1)}')\n",
        "print(f'Number of classes: {torch.numel(torch.unique(Data[\"y\"],sorted=True))}')\n",
        "print(f'Number of edges: {Data[\"edge_index\"].size(1)}')\n",
        "print(f'Average node degree: {Data[\"edge_index\"].size(1) / Data[\"x\"].size(0):.2f}')\n",
        "print(f'Number of training nodes: {Data[\"train_mask\"].sum()}')\n",
        "print(f'Number of testing nodes: {Data[\"test_mask\"].sum()}')\n",
        "print(f'Training node label rate: {int(Data[\"train_mask\"].sum()) /  Data[\"x\"].size(0):.2f}')"
      ],
      "metadata": {
        "colab": {
          "base_uri": "https://localhost:8080/"
        },
        "id": "rDNqRQ7ZPYJU",
        "outputId": "fd017b44-4e35-427f-f678-3d91a31ea36a"
      },
      "execution_count": null,
      "outputs": [
        {
          "output_type": "stream",
          "name": "stdout",
          "text": [
            "Number of nodes: 40\n",
            "Number of features: 500\n",
            "Number of classes: 4\n",
            "Number of edges: 126\n",
            "Average node degree: 3.15\n",
            "Number of training nodes: 8\n",
            "Number of testing nodes: 22\n",
            "Training node label rate: 0.20\n"
          ]
        }
      ]
    },
    {
      "cell_type": "markdown",
      "source": [
        "# Read p_link from gdrive to use it as the attention."
      ],
      "metadata": {
        "id": "cRDsYn5ylINR"
      }
    },
    {
      "cell_type": "code",
      "source": [
        "path = F\"/gdrive/MyDrive/4classes.sim/p_link.pt\"\n",
        "p_link = torch.load(path)\n",
        "print(p_link)\n",
        "print(p_link.size())\n",
        "print(p_link.dtype)\n",
        "print(p_link.type())"
      ],
      "metadata": {
        "id": "Z9YyNJf8Up_O",
        "colab": {
          "base_uri": "https://localhost:8080/"
        },
        "outputId": "b6dfeee2-3eb8-486e-fcf1-18bb58574f1b"
      },
      "execution_count": null,
      "outputs": [
        {
          "output_type": "stream",
          "name": "stdout",
          "text": [
            "tensor([[1.0000, 0.0000, 0.0000,  ..., 0.0200, 0.0900, 0.0000],\n",
            "        [0.0000, 1.0000, 0.2000,  ..., 0.6900, 0.0200, 0.2100],\n",
            "        [0.0000, 0.2000, 1.0000,  ..., 0.0300, 0.0300, 0.0100],\n",
            "        ...,\n",
            "        [0.0200, 0.6900, 0.0300,  ..., 1.0000, 0.1600, 0.5800],\n",
            "        [0.0900, 0.0200, 0.0300,  ..., 0.1600, 1.0000, 0.2000],\n",
            "        [0.0000, 0.2100, 0.0100,  ..., 0.5800, 0.2000, 1.0000]])\n",
            "torch.Size([40, 40])\n",
            "torch.float32\n",
            "torch.FloatTensor\n"
          ]
        }
      ]
    },
    {
      "cell_type": "markdown",
      "source": [
        "# Install torch_geometic."
      ],
      "metadata": {
        "id": "mNMqwucplRVg"
      }
    },
    {
      "cell_type": "code",
      "source": [
        "import os\n",
        "os.environ['TORCH'] = torch.__version__\n",
        "print(torch.__version__)\n",
        "\n",
        "!pip install -q torch-scatter -f https://data.pyg.org/whl/torch-${TORCH}.html\n",
        "!pip install -q torch-sparse -f https://data.pyg.org/whl/torch-${TORCH}.html\n",
        "!pip install -q git+https://github.com/pyg-team/pytorch_geometric.git"
      ],
      "metadata": {
        "colab": {
          "base_uri": "https://localhost:8080/"
        },
        "id": "4mHYoMBWxnbg",
        "outputId": "b88d03bf-344e-4d4f-90e7-4af3d652570c"
      },
      "execution_count": null,
      "outputs": [
        {
          "output_type": "stream",
          "name": "stdout",
          "text": [
            "1.13.0+cu116\n",
            "\u001b[K     |████████████████████████████████| 9.4 MB 6.6 MB/s \n",
            "\u001b[K     |████████████████████████████████| 4.6 MB 9.3 MB/s \n",
            "\u001b[K     |████████████████████████████████| 280 kB 7.1 MB/s \n",
            "\u001b[?25h  Building wheel for torch-geometric (setup.py) ... \u001b[?25l\u001b[?25hdone\n"
          ]
        }
      ]
    },
    {
      "cell_type": "markdown",
      "source": [
        "# Developing our own model (making our own message passing layers)."
      ],
      "metadata": {
        "id": "hLp4FOoqUztO"
      }
    },
    {
      "cell_type": "markdown",
      "source": [
        "# BGATConv\n",
        "$$ X^\\prime _i = \\sum_{j \\in N(i)\\cup i} \\alpha_{ij}\\Theta X_j$$\n",
        "In which $\\alpha$s are computed via BDgraph(p_link) and $\\Theta$ is learnable parameter."
      ],
      "metadata": {
        "id": "U4nzD8K6U400"
      }
    },
    {
      "cell_type": "code",
      "source": [
        "import torch_geometric\n",
        "from torch_geometric.nn import MessagePassing\n",
        "import torch.nn.functional as F\n",
        "from torch_geometric.utils import add_self_loops"
      ],
      "metadata": {
        "id": "lzfBFX1uWDXq"
      },
      "execution_count": null,
      "outputs": []
    },
    {
      "cell_type": "markdown",
      "source": [
        "# Creating message passing network."
      ],
      "metadata": {
        "id": "20LEsO0ulv_y"
      }
    },
    {
      "cell_type": "code",
      "source": [
        "class BGATConv(MessagePassing):\n",
        "    def __init__(\n",
        "        self,\n",
        "        in_channels,\n",
        "        out_channels,\n",
        "        **kwargs,\n",
        "    ):\n",
        "        kwargs.setdefault('aggr', 'add')\n",
        "        super().__init__(node_dim = 0, **kwargs)\n",
        "        self.in_channels = in_channels\n",
        "        self.out_channels = out_channels\n",
        "        self.lin = torch.nn.Linear(in_channels, out_channels)\n",
        "\n",
        "    def forward(self, x, edge_index):\n",
        "        edge_index, _ = add_self_loops(Data[\"edge_index\"], num_nodes = Data[\"x\"].size(0))\n",
        "        x = self.lin(x)\n",
        "        atten = p_link\n",
        "        return self.propagate(edge_index, x = x, atten = atten)\n",
        "\n",
        "    def message(self, x_j, atten, edge_index_i, edge_index_j):\n",
        "        return atten[edge_index_i, edge_index_j].reshape(-1,1) * x_j\n",
        "\n",
        "    def __repr__(self):\n",
        "        return '{}({}, {})'.format(self.__class__.__name__, self.in_channels, self.out_channels)"
      ],
      "metadata": {
        "id": "Exf3Xj7eU8eq"
      },
      "execution_count": null,
      "outputs": []
    },
    {
      "cell_type": "markdown",
      "source": [
        "# Make GNN layers with our own model, BGAT. We use three BGAT conv."
      ],
      "metadata": {
        "id": "eBGuS1EcVAcG"
      }
    },
    {
      "cell_type": "code",
      "source": [
        "class Myconv(torch.nn.Module):\n",
        "    def __init__(self):\n",
        "        super().__init__()\n",
        "        torch.manual_seed(2)\n",
        "        self.conv1 = BGATConv(in_channels = 500, out_channels = 50)\n",
        "        self.conv2 =  BGATConv(50,10)\n",
        "        self.conv3 =  BGATConv(10, 4)\n",
        "        \n",
        "    def forward(self, x, edge_index):\n",
        "        h = self.conv1(x, edge_index)\n",
        "        h = F.torch.tanh(h)\n",
        "        h = self.conv2(h, edge_index)\n",
        "        h = F.torch.tanh(h)\n",
        "        h = self.conv3(h, edge_index)# Final GNN embedding space.\n",
        "        h = F.log_softmax(h)\n",
        "        return h\n",
        "        \n",
        "model = Myconv()\n",
        "print(model)\n",
        "print(model.forward(Data[\"x\"], Data[\"edge_index\"]))"
      ],
      "metadata": {
        "id": "EfyRg6XEVD2M",
        "colab": {
          "base_uri": "https://localhost:8080/"
        },
        "outputId": "9136de9e-21b1-426e-d4b1-067155dbfe45"
      },
      "execution_count": null,
      "outputs": [
        {
          "output_type": "stream",
          "name": "stdout",
          "text": [
            "Myconv(\n",
            "  (conv1): BGATConv(500, 50)\n",
            "  (conv2): BGATConv(50, 10)\n",
            "  (conv3): BGATConv(10, 4)\n",
            ")\n",
            "tensor([[ -2.8707,  -3.4974,  -0.1526,  -2.9075],\n",
            "        [ -1.0652,  -1.9093,  -1.5955,  -1.1896],\n",
            "        [ -2.1635,  -3.3861,  -0.3989,  -1.7140],\n",
            "        [ -1.3228,  -1.4786,  -1.5151,  -1.2521],\n",
            "        [ -2.0014,  -0.6609,  -1.0544,  -9.5835],\n",
            "        [ -2.0046,  -2.8759,  -0.6233,  -1.2992],\n",
            "        [ -2.8296,  -0.2859,  -1.6626, -12.7543],\n",
            "        [ -1.1789,  -1.5411,  -1.6864,  -1.2275],\n",
            "        [ -2.8913,  -0.2720,  -1.7003, -13.0820],\n",
            "        [ -2.4686,  -0.4631,  -1.2520, -11.6449],\n",
            "        [ -1.4750,  -1.7880,  -0.9600,  -1.5094],\n",
            "        [ -0.9170,  -1.2654,  -1.9920,  -1.7053],\n",
            "        [ -1.4784,  -2.0022,  -0.9031,  -1.4624],\n",
            "        [ -2.7180,  -2.9736,  -0.2210,  -2.5118],\n",
            "        [ -2.8403,  -0.2415,  -1.8570, -14.6291],\n",
            "        [ -1.3367,  -1.5211,  -1.3278,  -1.3714],\n",
            "        [ -1.6430,  -2.3355,  -0.8739,  -1.2291],\n",
            "        [ -3.4319,  -4.1346,  -0.0958,  -3.1470],\n",
            "        [ -1.1831,  -2.2075,  -1.4006,  -1.0869],\n",
            "        [ -0.9423,  -1.0722,  -1.9305,  -2.0961],\n",
            "        [ -2.9920,  -3.2575,  -0.1752,  -2.6303],\n",
            "        [ -2.0790,  -0.8455,  -0.8084, -10.1432],\n",
            "        [ -2.1252,  -2.2307,  -0.4491,  -2.0028],\n",
            "        [ -1.6865,  -2.1122,  -0.8501,  -1.3223],\n",
            "        [ -1.8387,  -0.7721,  -0.9707,  -9.2265],\n",
            "        [ -1.8138,  -2.5164,  -0.6264,  -1.5064],\n",
            "        [ -0.2137,  -2.4092,  -4.4890,  -2.3934],\n",
            "        [ -1.0846,  -0.9907,  -1.9579,  -1.9005],\n",
            "        [ -1.2152,  -1.7112,  -1.5653,  -1.1594],\n",
            "        [ -2.8401,  -0.3090,  -1.5732, -13.0521],\n",
            "        [ -3.2143,  -0.2485,  -1.7157, -14.8221],\n",
            "        [ -1.3428,  -1.4406,  -1.6031,  -1.2012],\n",
            "        [ -0.9815,  -2.1195,  -1.9237,  -1.0241],\n",
            "        [ -2.0548,  -2.5299,  -0.3743,  -2.2593],\n",
            "        [ -2.6582,  -0.4244,  -1.2882, -12.5098],\n",
            "        [ -1.2376,  -1.9160,  -1.3145,  -1.2238],\n",
            "        [ -1.1789,  -1.5411,  -1.6864,  -1.2275],\n",
            "        [ -0.7774,  -1.2649,  -2.2945,  -1.8493],\n",
            "        [ -1.1652,  -2.4666,  -1.7944,  -0.8278],\n",
            "        [ -2.0863,  -2.3084,  -0.4300,  -2.0723]],\n",
            "       grad_fn=<LogSoftmaxBackward0>)\n"
          ]
        },
        {
          "output_type": "stream",
          "name": "stderr",
          "text": [
            "<ipython-input-9-1380e3f952d9>:15: UserWarning: Implicit dimension choice for log_softmax has been deprecated. Change the call to include dim=X as an argument.\n",
            "  h = F.log_softmax(h)\n"
          ]
        }
      ]
    },
    {
      "cell_type": "markdown",
      "source": [
        "# We take a look at the node embeddings produced by our GNN (before training)."
      ],
      "metadata": {
        "id": "_E7E2mPtVIsj"
      }
    },
    {
      "cell_type": "code",
      "source": [
        "import matplotlib.pyplot as plt\n",
        "from sklearn.manifold import TSNE\n",
        "import seaborn as sns\n",
        "\n",
        "def visualize(h):\n",
        "    z = TSNE(n_components = 2, random_state = 0).fit_transform(h.detach().numpy())\n",
        "    plt.figure(figsize = (6,4),  dpi = 120)\n",
        "    sns.scatterplot(z[:, 0], z[:, 1], hue = Data[\"y\"], palette=sns.color_palette(\"bright\",4)).set(title = \"First scenario data T-SNE projection before training (BGAT)\")"
      ],
      "metadata": {
        "id": "qdb1iwBrVSOO"
      },
      "execution_count": null,
      "outputs": []
    },
    {
      "cell_type": "code",
      "source": [
        "model = Myconv()\n",
        "h = model(Data[\"x\"], Data[\"edge_index\"])\n",
        "\n",
        "print(f'Embedding shape: {list(h.shape)}')\n",
        "visualize(h)"
      ],
      "metadata": {
        "id": "vyxQxq4rVXuq",
        "colab": {
          "base_uri": "https://localhost:8080/",
          "height": 644
        },
        "outputId": "c991474d-2f1e-4538-ad63-ab1584deef5f"
      },
      "execution_count": null,
      "outputs": [
        {
          "output_type": "stream",
          "name": "stderr",
          "text": [
            "<ipython-input-9-1380e3f952d9>:15: UserWarning: Implicit dimension choice for log_softmax has been deprecated. Change the call to include dim=X as an argument.\n",
            "  h = F.log_softmax(h)\n",
            "/usr/local/lib/python3.8/dist-packages/sklearn/manifold/_t_sne.py:780: FutureWarning: The default initialization in TSNE will change from 'random' to 'pca' in 1.2.\n",
            "  warnings.warn(\n",
            "/usr/local/lib/python3.8/dist-packages/sklearn/manifold/_t_sne.py:790: FutureWarning: The default learning rate in TSNE will change from 200.0 to 'auto' in 1.2.\n",
            "  warnings.warn(\n",
            "/usr/local/lib/python3.8/dist-packages/seaborn/_decorators.py:36: FutureWarning: Pass the following variables as keyword args: x, y. From version 0.12, the only valid positional argument will be `data`, and passing other arguments without an explicit keyword will result in an error or misinterpretation.\n",
            "  warnings.warn(\n"
          ]
        },
        {
          "output_type": "stream",
          "name": "stdout",
          "text": [
            "Embedding shape: [40, 4]\n"
          ]
        },
        {
          "output_type": "display_data",
          "data": {
            "text/plain": [
              "<Figure size 720x480 with 1 Axes>"
            ],
            "image/png": "[encoded data removed]"
          },
          "metadata": {
            "needs_background": "light"
          }
        }
      ]
    },
    {
      "cell_type": "markdown",
      "source": [
        "# Start training the model. "
      ],
      "metadata": {
        "id": "UVd342dCBU4Z"
      }
    },
    {
      "cell_type": "code",
      "source": [
        "model = Myconv()\n",
        "criterion = torch.nn.CrossEntropyLoss()  # Define loss criterion.\n",
        "optimizer = torch.optim.Adam(model.parameters(),  lr = 0.0005)  # Define optimizer, an object for updating parameters\n",
        "#loss = loss + weight decay parameter * L2 norm of the weights, 1) To prevent overfitting 2) To keep the weights small and avoid exploding gradient\n",
        "\n",
        "def train(Data):\n",
        "    model.train()\n",
        "    optimizer.zero_grad()  # Clear gradients.\n",
        "    out = model(Data[\"x\"], Data[\"edge_index\"])\n",
        "    train_loss = criterion(out[Data[\"train_mask\"]], Data[\"y\"][Data[\"train_mask\"]])  # Compute the loss solely based on the training nodes.\n",
        "    train_loss.backward()  # Derive gradients.\n",
        "    optimizer.step()  # Update parameters based on gradients.\n",
        "    return train_loss\n",
        "\n",
        "\n",
        "def val(Data):\n",
        "      model.eval()\n",
        "      with torch.no_grad():\n",
        "        out = model(Data[\"x\"], Data[\"edge_index\"])\n",
        "        val_loss = criterion(out[Data[\"val_mask\"]], Data[\"y\"][Data[\"val_mask\"]])\n",
        "        #pred = out.argmax(dim=1)\n",
        "        #test_correct = pred[Data[\"val_mask\"]] == Data[\"y\"][Data[\"val_mask\"]]  # Check against ground-truth labels.\n",
        "        #test_acc = int(test_correct.sum()) / int(Data[\"val_mask\"].sum())  # Derive ratio of correct predictions.\n",
        "        return val_loss\n"
      ],
      "metadata": {
        "id": "7PVoyk5M2qbT"
      },
      "execution_count": null,
      "outputs": []
    },
    {
      "cell_type": "code",
      "source": [
        "train_loss_ = []\n",
        "val_loss_ = []\n",
        "\n",
        "for epoch in range(1, 201):\n",
        "\n",
        "  epoch_train_loss = []\n",
        "  epoch_val_loss = []\n",
        "  train_loss = train(Data)\n",
        "  val_loss = val(Data)\n",
        "\n",
        "\n",
        "\n",
        "\n",
        "\n",
        "\n",
        "  epoch_train_loss.append(train_loss.item())\n",
        "  epoch_val_loss.append(val_loss.item())\n",
        "\n",
        "\n",
        "\n",
        "\n",
        "  \n",
        "\n",
        "  val_loss_.append(sum(epoch_val_loss)/len(epoch_val_loss))\n",
        "  train_loss_.append(sum(epoch_train_loss)/len(epoch_train_loss))\n",
        "  print(epoch,'Train Loss: %.3f | val Loss: %.3f'%( train_loss,val_loss))"
      ],
      "metadata": {
        "id": "ntJ0Amdq3QJh",
        "colab": {
          "base_uri": "https://localhost:8080/"
        },
        "outputId": "2d23d4ef-fdfc-4950-e889-7c991f6dcb13"
      },
      "execution_count": null,
      "outputs": [
        {
          "output_type": "stream",
          "name": "stderr",
          "text": [
            "<ipython-input-9-1380e3f952d9>:15: UserWarning: Implicit dimension choice for log_softmax has been deprecated. Change the call to include dim=X as an argument.\n",
            "  h = F.log_softmax(h)\n"
          ]
        },
        {
          "output_type": "stream",
          "name": "stdout",
          "text": [
            "1 Train Loss: 1.478 | val Loss: 1.093\n",
            "2 Train Loss: 0.957 | val Loss: 0.872\n",
            "3 Train Loss: 0.624 | val Loss: 0.717\n",
            "4 Train Loss: 0.415 | val Loss: 0.609\n",
            "5 Train Loss: 0.288 | val Loss: 0.545\n",
            "6 Train Loss: 0.214 | val Loss: 0.509\n",
            "7 Train Loss: 0.169 | val Loss: 0.485\n",
            "8 Train Loss: 0.141 | val Loss: 0.469\n",
            "9 Train Loss: 0.121 | val Loss: 0.456\n",
            "10 Train Loss: 0.107 | val Loss: 0.446\n",
            "11 Train Loss: 0.096 | val Loss: 0.439\n",
            "12 Train Loss: 0.087 | val Loss: 0.432\n",
            "13 Train Loss: 0.080 | val Loss: 0.427\n",
            "14 Train Loss: 0.074 | val Loss: 0.423\n",
            "15 Train Loss: 0.069 | val Loss: 0.419\n",
            "16 Train Loss: 0.064 | val Loss: 0.416\n",
            "17 Train Loss: 0.060 | val Loss: 0.414\n",
            "18 Train Loss: 0.057 | val Loss: 0.412\n",
            "19 Train Loss: 0.054 | val Loss: 0.410\n",
            "20 Train Loss: 0.051 | val Loss: 0.409\n",
            "21 Train Loss: 0.049 | val Loss: 0.407\n",
            "22 Train Loss: 0.047 | val Loss: 0.406\n",
            "23 Train Loss: 0.045 | val Loss: 0.405\n",
            "24 Train Loss: 0.044 | val Loss: 0.404\n",
            "25 Train Loss: 0.043 | val Loss: 0.403\n",
            "26 Train Loss: 0.042 | val Loss: 0.403\n",
            "27 Train Loss: 0.041 | val Loss: 0.402\n",
            "28 Train Loss: 0.040 | val Loss: 0.401\n",
            "29 Train Loss: 0.039 | val Loss: 0.401\n",
            "30 Train Loss: 0.038 | val Loss: 0.400\n",
            "31 Train Loss: 0.038 | val Loss: 0.400\n",
            "32 Train Loss: 0.037 | val Loss: 0.399\n",
            "33 Train Loss: 0.037 | val Loss: 0.399\n",
            "34 Train Loss: 0.036 | val Loss: 0.399\n",
            "35 Train Loss: 0.036 | val Loss: 0.398\n",
            "36 Train Loss: 0.035 | val Loss: 0.398\n",
            "37 Train Loss: 0.035 | val Loss: 0.397\n",
            "38 Train Loss: 0.035 | val Loss: 0.397\n",
            "39 Train Loss: 0.034 | val Loss: 0.397\n",
            "40 Train Loss: 0.034 | val Loss: 0.396\n",
            "41 Train Loss: 0.034 | val Loss: 0.396\n",
            "42 Train Loss: 0.033 | val Loss: 0.396\n",
            "43 Train Loss: 0.033 | val Loss: 0.396\n",
            "44 Train Loss: 0.033 | val Loss: 0.395\n",
            "45 Train Loss: 0.032 | val Loss: 0.395\n",
            "46 Train Loss: 0.032 | val Loss: 0.395\n",
            "47 Train Loss: 0.032 | val Loss: 0.395\n",
            "48 Train Loss: 0.032 | val Loss: 0.394\n",
            "49 Train Loss: 0.032 | val Loss: 0.394\n",
            "50 Train Loss: 0.031 | val Loss: 0.394\n",
            "51 Train Loss: 0.031 | val Loss: 0.394\n",
            "52 Train Loss: 0.031 | val Loss: 0.393\n",
            "53 Train Loss: 0.031 | val Loss: 0.393\n",
            "54 Train Loss: 0.030 | val Loss: 0.393\n",
            "55 Train Loss: 0.030 | val Loss: 0.393\n",
            "56 Train Loss: 0.030 | val Loss: 0.393\n",
            "57 Train Loss: 0.030 | val Loss: 0.392\n",
            "58 Train Loss: 0.030 | val Loss: 0.392\n",
            "59 Train Loss: 0.030 | val Loss: 0.392\n",
            "60 Train Loss: 0.029 | val Loss: 0.392\n",
            "61 Train Loss: 0.029 | val Loss: 0.392\n",
            "62 Train Loss: 0.029 | val Loss: 0.391\n",
            "63 Train Loss: 0.029 | val Loss: 0.391\n",
            "64 Train Loss: 0.029 | val Loss: 0.391\n",
            "65 Train Loss: 0.029 | val Loss: 0.391\n",
            "66 Train Loss: 0.028 | val Loss: 0.391\n",
            "67 Train Loss: 0.028 | val Loss: 0.390\n",
            "68 Train Loss: 0.028 | val Loss: 0.390\n",
            "69 Train Loss: 0.028 | val Loss: 0.390\n",
            "70 Train Loss: 0.028 | val Loss: 0.390\n",
            "71 Train Loss: 0.028 | val Loss: 0.390\n",
            "72 Train Loss: 0.027 | val Loss: 0.390\n",
            "73 Train Loss: 0.027 | val Loss: 0.389\n",
            "74 Train Loss: 0.027 | val Loss: 0.389\n",
            "75 Train Loss: 0.027 | val Loss: 0.389\n",
            "76 Train Loss: 0.027 | val Loss: 0.389\n",
            "77 Train Loss: 0.027 | val Loss: 0.389\n",
            "78 Train Loss: 0.027 | val Loss: 0.389\n",
            "79 Train Loss: 0.026 | val Loss: 0.388\n",
            "80 Train Loss: 0.026 | val Loss: 0.388\n",
            "81 Train Loss: 0.026 | val Loss: 0.388\n",
            "82 Train Loss: 0.026 | val Loss: 0.388\n",
            "83 Train Loss: 0.026 | val Loss: 0.388\n",
            "84 Train Loss: 0.026 | val Loss: 0.388\n",
            "85 Train Loss: 0.026 | val Loss: 0.388\n",
            "86 Train Loss: 0.026 | val Loss: 0.387\n",
            "87 Train Loss: 0.025 | val Loss: 0.387\n",
            "88 Train Loss: 0.025 | val Loss: 0.387\n",
            "89 Train Loss: 0.025 | val Loss: 0.387\n",
            "90 Train Loss: 0.025 | val Loss: 0.387\n",
            "91 Train Loss: 0.025 | val Loss: 0.387\n",
            "92 Train Loss: 0.025 | val Loss: 0.387\n",
            "93 Train Loss: 0.025 | val Loss: 0.386\n",
            "94 Train Loss: 0.025 | val Loss: 0.386\n",
            "95 Train Loss: 0.024 | val Loss: 0.386\n",
            "96 Train Loss: 0.024 | val Loss: 0.386\n",
            "97 Train Loss: 0.024 | val Loss: 0.386\n",
            "98 Train Loss: 0.024 | val Loss: 0.386\n",
            "99 Train Loss: 0.024 | val Loss: 0.386\n",
            "100 Train Loss: 0.024 | val Loss: 0.386\n",
            "101 Train Loss: 0.024 | val Loss: 0.385\n",
            "102 Train Loss: 0.024 | val Loss: 0.385\n",
            "103 Train Loss: 0.023 | val Loss: 0.385\n",
            "104 Train Loss: 0.023 | val Loss: 0.385\n",
            "105 Train Loss: 0.023 | val Loss: 0.385\n",
            "106 Train Loss: 0.023 | val Loss: 0.385\n",
            "107 Train Loss: 0.023 | val Loss: 0.385\n",
            "108 Train Loss: 0.023 | val Loss: 0.385\n",
            "109 Train Loss: 0.023 | val Loss: 0.384\n",
            "110 Train Loss: 0.023 | val Loss: 0.384\n",
            "111 Train Loss: 0.023 | val Loss: 0.384\n",
            "112 Train Loss: 0.022 | val Loss: 0.384\n",
            "113 Train Loss: 0.022 | val Loss: 0.384\n",
            "114 Train Loss: 0.022 | val Loss: 0.384\n",
            "115 Train Loss: 0.022 | val Loss: 0.384\n",
            "116 Train Loss: 0.022 | val Loss: 0.384\n",
            "117 Train Loss: 0.022 | val Loss: 0.384\n",
            "118 Train Loss: 0.022 | val Loss: 0.383\n",
            "119 Train Loss: 0.022 | val Loss: 0.383\n",
            "120 Train Loss: 0.022 | val Loss: 0.383\n",
            "121 Train Loss: 0.022 | val Loss: 0.383\n",
            "122 Train Loss: 0.021 | val Loss: 0.383\n",
            "123 Train Loss: 0.021 | val Loss: 0.383\n",
            "124 Train Loss: 0.021 | val Loss: 0.383\n",
            "125 Train Loss: 0.021 | val Loss: 0.383\n",
            "126 Train Loss: 0.021 | val Loss: 0.383\n",
            "127 Train Loss: 0.021 | val Loss: 0.382\n",
            "128 Train Loss: 0.021 | val Loss: 0.382\n",
            "129 Train Loss: 0.021 | val Loss: 0.382\n",
            "130 Train Loss: 0.021 | val Loss: 0.382\n",
            "131 Train Loss: 0.021 | val Loss: 0.382\n",
            "132 Train Loss: 0.020 | val Loss: 0.382\n",
            "133 Train Loss: 0.020 | val Loss: 0.382\n",
            "134 Train Loss: 0.020 | val Loss: 0.382\n",
            "135 Train Loss: 0.020 | val Loss: 0.382\n",
            "136 Train Loss: 0.020 | val Loss: 0.382\n",
            "137 Train Loss: 0.020 | val Loss: 0.381\n",
            "138 Train Loss: 0.020 | val Loss: 0.381\n",
            "139 Train Loss: 0.020 | val Loss: 0.381\n",
            "140 Train Loss: 0.020 | val Loss: 0.381\n",
            "141 Train Loss: 0.020 | val Loss: 0.381\n",
            "142 Train Loss: 0.020 | val Loss: 0.381\n",
            "143 Train Loss: 0.019 | val Loss: 0.381\n",
            "144 Train Loss: 0.019 | val Loss: 0.381\n",
            "145 Train Loss: 0.019 | val Loss: 0.381\n",
            "146 Train Loss: 0.019 | val Loss: 0.381\n",
            "147 Train Loss: 0.019 | val Loss: 0.381\n",
            "148 Train Loss: 0.019 | val Loss: 0.380\n",
            "149 Train Loss: 0.019 | val Loss: 0.380\n",
            "150 Train Loss: 0.019 | val Loss: 0.380\n",
            "151 Train Loss: 0.019 | val Loss: 0.380\n",
            "152 Train Loss: 0.019 | val Loss: 0.380\n",
            "153 Train Loss: 0.019 | val Loss: 0.380\n",
            "154 Train Loss: 0.019 | val Loss: 0.380\n",
            "155 Train Loss: 0.018 | val Loss: 0.380\n",
            "156 Train Loss: 0.018 | val Loss: 0.380\n",
            "157 Train Loss: 0.018 | val Loss: 0.380\n",
            "158 Train Loss: 0.018 | val Loss: 0.380\n",
            "159 Train Loss: 0.018 | val Loss: 0.379\n",
            "160 Train Loss: 0.018 | val Loss: 0.379\n",
            "161 Train Loss: 0.018 | val Loss: 0.379\n",
            "162 Train Loss: 0.018 | val Loss: 0.379\n",
            "163 Train Loss: 0.018 | val Loss: 0.379\n",
            "164 Train Loss: 0.018 | val Loss: 0.379\n",
            "165 Train Loss: 0.018 | val Loss: 0.379\n",
            "166 Train Loss: 0.018 | val Loss: 0.379\n",
            "167 Train Loss: 0.018 | val Loss: 0.379\n",
            "168 Train Loss: 0.017 | val Loss: 0.379\n",
            "169 Train Loss: 0.017 | val Loss: 0.379\n",
            "170 Train Loss: 0.017 | val Loss: 0.379\n",
            "171 Train Loss: 0.017 | val Loss: 0.379\n",
            "172 Train Loss: 0.017 | val Loss: 0.378\n",
            "173 Train Loss: 0.017 | val Loss: 0.378\n",
            "174 Train Loss: 0.017 | val Loss: 0.378\n",
            "175 Train Loss: 0.017 | val Loss: 0.378\n",
            "176 Train Loss: 0.017 | val Loss: 0.378\n",
            "177 Train Loss: 0.017 | val Loss: 0.378\n",
            "178 Train Loss: 0.017 | val Loss: 0.378\n",
            "179 Train Loss: 0.017 | val Loss: 0.378\n",
            "180 Train Loss: 0.017 | val Loss: 0.378\n",
            "181 Train Loss: 0.017 | val Loss: 0.378\n",
            "182 Train Loss: 0.017 | val Loss: 0.378\n",
            "183 Train Loss: 0.016 | val Loss: 0.378\n",
            "184 Train Loss: 0.016 | val Loss: 0.378\n",
            "185 Train Loss: 0.016 | val Loss: 0.377\n",
            "186 Train Loss: 0.016 | val Loss: 0.377\n",
            "187 Train Loss: 0.016 | val Loss: 0.377\n",
            "188 Train Loss: 0.016 | val Loss: 0.377\n",
            "189 Train Loss: 0.016 | val Loss: 0.377\n",
            "190 Train Loss: 0.016 | val Loss: 0.377\n",
            "191 Train Loss: 0.016 | val Loss: 0.377\n",
            "192 Train Loss: 0.016 | val Loss: 0.377\n",
            "193 Train Loss: 0.016 | val Loss: 0.377\n",
            "194 Train Loss: 0.016 | val Loss: 0.377\n",
            "195 Train Loss: 0.016 | val Loss: 0.377\n",
            "196 Train Loss: 0.016 | val Loss: 0.377\n",
            "197 Train Loss: 0.016 | val Loss: 0.377\n",
            "198 Train Loss: 0.015 | val Loss: 0.377\n",
            "199 Train Loss: 0.015 | val Loss: 0.377\n",
            "200 Train Loss: 0.015 | val Loss: 0.376\n"
          ]
        }
      ]
    },
    {
      "cell_type": "markdown",
      "source": [
        "# Visualize train loss and val loss.\n"
      ],
      "metadata": {
        "id": "kqljLfZRBdLI"
      }
    },
    {
      "cell_type": "code",
      "source": [
        "plt.plot(train_loss_, \"m\", linewidth = 3)\n",
        "plt.plot(val_loss_, \"k\", linewidth = 3)\n",
        "plt.xlabel('epoch')\n",
        "plt.ylabel('loss')\n",
        "plt.legend(['Train','Val'])\n",
        "plt.title('Train vs Val Loss for the first scenario (BGAT)')\n",
        "plt.grid()\n",
        "plt.show()"
      ],
      "metadata": {
        "id": "vLTAwmyd4xu5",
        "colab": {
          "base_uri": "https://localhost:8080/",
          "height": 295
        },
        "outputId": "dcd208f3-fd10-47f4-94af-573c997980cf"
      },
      "execution_count": null,
      "outputs": [
        {
          "output_type": "display_data",
          "data": {
            "text/plain": [
              "<Figure size 432x288 with 1 Axes>"
            ],
            "image/png": "[encoded data removed]"
          },
          "metadata": {
            "needs_background": "light"
          }
        }
      ]
    },
    {
      "cell_type": "markdown",
      "source": [
        "# Compute the accuracy of the model."
      ],
      "metadata": {
        "id": "Lt0WLgBhBuUc"
      }
    },
    {
      "cell_type": "code",
      "source": [
        "def test(Data):\n",
        "      model.eval()\n",
        "      with torch.no_grad():\n",
        "        out = model(Data[\"x\"], Data[\"edge_index\"])\n",
        "        pred = out.argmax(dim = 1)\n",
        "        test_correct = pred[Data[\"test_mask\"]] == Data[\"y\"][Data[\"test_mask\"]]  # Check against ground-truth labels.\n",
        "        test_acc = int(test_correct.sum()) / int(Data[\"test_mask\"].sum())  # Derive ratio of correct predictions.\n",
        "        return test_acc\n"
      ],
      "metadata": {
        "id": "zLWgoMmAcb2g"
      },
      "execution_count": null,
      "outputs": []
    },
    {
      "cell_type": "code",
      "source": [
        "test_acc = test(Data)\n",
        "print(f'Test Accuracy: {100*test_acc:.2f}')"
      ],
      "metadata": {
        "id": "U0TR8W314__T",
        "colab": {
          "base_uri": "https://localhost:8080/"
        },
        "outputId": "ce51dd88-ccbb-4cc0-c970-1c701aca049e"
      },
      "execution_count": null,
      "outputs": [
        {
          "output_type": "stream",
          "name": "stdout",
          "text": [
            "Test Accuracy: 90.91\n"
          ]
        },
        {
          "output_type": "stream",
          "name": "stderr",
          "text": [
            "<ipython-input-9-1380e3f952d9>:15: UserWarning: Implicit dimension choice for log_softmax has been deprecated. Change the call to include dim=X as an argument.\n",
            "  h = F.log_softmax(h)\n"
          ]
        }
      ]
    },
    {
      "cell_type": "markdown",
      "source": [
        "# We take a look at the node embeddings produced by our GNN (after training)."
      ],
      "metadata": {
        "id": "pmigbk_nCP2B"
      }
    },
    {
      "cell_type": "code",
      "source": [
        "import matplotlib.pyplot as plt\n",
        "from sklearn.manifold import TSNE\n",
        "import seaborn as sns\n",
        "\n",
        "def visualize(h):\n",
        "    z = TSNE(n_components = 2, random_state = 0).fit_transform(h.detach().numpy())\n",
        "    plt.figure(figsize = (6,4),  dpi = 120)\n",
        "    sns.scatterplot(z[:, 0], z[:, 1], hue = Data[\"y\"], palette=sns.color_palette(\"bright\",4)).set(title = \"First scenario data T-SNE projection after training (BGAT)\")"
      ],
      "metadata": {
        "id": "GLm06H4k5xMK"
      },
      "execution_count": null,
      "outputs": []
    },
    {
      "cell_type": "code",
      "source": [
        "model.eval()\n",
        "out = model(Data[\"x\"], Data[\"edge_index\"])\n",
        "visualize(out)"
      ],
      "metadata": {
        "id": "ZNAPyuvzErlU",
        "outputId": "4995bc5a-4305-4f0d-fa1b-346f32263e17",
        "colab": {
          "base_uri": "https://localhost:8080/",
          "height": 626
        }
      },
      "execution_count": null,
      "outputs": [
        {
          "output_type": "stream",
          "name": "stderr",
          "text": [
            "<ipython-input-9-1380e3f952d9>:15: UserWarning: Implicit dimension choice for log_softmax has been deprecated. Change the call to include dim=X as an argument.\n",
            "  h = F.log_softmax(h)\n",
            "/usr/local/lib/python3.8/dist-packages/sklearn/manifold/_t_sne.py:780: FutureWarning: The default initialization in TSNE will change from 'random' to 'pca' in 1.2.\n",
            "  warnings.warn(\n",
            "/usr/local/lib/python3.8/dist-packages/sklearn/manifold/_t_sne.py:790: FutureWarning: The default learning rate in TSNE will change from 200.0 to 'auto' in 1.2.\n",
            "  warnings.warn(\n",
            "/usr/local/lib/python3.8/dist-packages/seaborn/_decorators.py:36: FutureWarning: Pass the following variables as keyword args: x, y. From version 0.12, the only valid positional argument will be `data`, and passing other arguments without an explicit keyword will result in an error or misinterpretation.\n",
            "  warnings.warn(\n"
          ]
        },
        {
          "output_type": "display_data",
          "data": {
            "text/plain": [
              "<Figure size 720x480 with 1 Axes>"
            ],
            "image/png": "[encoded data removed]"
          },
          "metadata": {
            "needs_background": "light"
          }
        }
      ]
    },
    {
      "cell_type": "markdown",
      "source": [
        "# Confusion matrix."
      ],
      "metadata": {
        "id": "x9ZgR6qQCUxQ"
      }
    },
    {
      "cell_type": "code",
      "source": [
        "pred = out.argmax(dim=1)\n",
        "pred"
      ],
      "metadata": {
        "id": "G6jMRQaQEy0e",
        "colab": {
          "base_uri": "https://localhost:8080/"
        },
        "outputId": "8e76da8a-7959-4a49-aae9-0607cd7c83fc"
      },
      "execution_count": null,
      "outputs": [
        {
          "output_type": "execute_result",
          "data": {
            "text/plain": [
              "tensor([0, 2, 3, 3, 1, 3, 1, 3, 1, 1, 3, 2, 3, 0, 1, 2, 3, 0, 2, 2, 0, 1, 0, 3,\n",
              "        1, 3, 2, 2, 2, 1, 1, 3, 2, 0, 1, 2, 3, 2, 2, 0])"
            ]
          },
          "metadata": {},
          "execution_count": 19
        }
      ]
    },
    {
      "cell_type": "code",
      "source": [
        "pred = pred[Data[\"test_mask\"]] "
      ],
      "metadata": {
        "id": "7tVzWotAE1qc"
      },
      "execution_count": null,
      "outputs": []
    },
    {
      "cell_type": "code",
      "source": [
        "act = Data[\"y\"][Data[\"test_mask\"]]"
      ],
      "metadata": {
        "id": "6F6wVO-qE3YY"
      },
      "execution_count": null,
      "outputs": []
    },
    {
      "cell_type": "code",
      "source": [
        "data = {'y_Actual':    act,\n",
        "        'y_Predicted': pred\n",
        "        }\n",
        "\n",
        "df = pd.DataFrame(data, columns = ['y_Actual','y_Predicted'])\n",
        "df"
      ],
      "metadata": {
        "id": "QrGKZ4PuE5O8",
        "colab": {
          "base_uri": "https://localhost:8080/",
          "height": 739
        },
        "outputId": "0ed38cb7-b473-403b-93a4-adb616d29ef0"
      },
      "execution_count": null,
      "outputs": [
        {
          "output_type": "execute_result",
          "data": {
            "text/plain": [
              "    y_Actual  y_Predicted\n",
              "0          2            2\n",
              "1          3            3\n",
              "2          0            3\n",
              "3          1            1\n",
              "4          1            1\n",
              "5          3            3\n",
              "6          0            0\n",
              "7          3            3\n",
              "8          0            0\n",
              "9          2            2\n",
              "10         1            1\n",
              "11         3            3\n",
              "12         2            2\n",
              "13         1            1\n",
              "14         1            1\n",
              "15         0            2\n",
              "16         0            0\n",
              "17         1            1\n",
              "18         2            2\n",
              "19         3            3\n",
              "20         2            2\n",
              "21         0            0"
            ],
            "text/html": [
              "\n",
              "  <div id=\"df-abb9a8e9-2ce6-4e6f-ac74-d16c65c85b10\">\n",
              "    <div class=\"colab-df-container\">\n",
              "      <div>\n",
              "<style scoped>\n",
              "    .dataframe tbody tr th:only-of-type {\n",
              "        vertical-align: middle;\n",
              "    }\n",
              "\n",
              "    .dataframe tbody tr th {\n",
              "        vertical-align: top;\n",
              "    }\n",
              "\n",
              "    .dataframe thead th {\n",
              "        text-align: right;\n",
              "    }\n",
              "</style>\n",
              "<table border=\"1\" class=\"dataframe\">\n",
              "  <thead>\n",
              "    <tr style=\"text-align: right;\">\n",
              "      <th></th>\n",
              "      <th>y_Actual</th>\n",
              "      <th>y_Predicted</th>\n",
              "    </tr>\n",
              "  </thead>\n",
              "  <tbody>\n",
              "    <tr>\n",
              "      <th>0</th>\n",
              "      <td>2</td>\n",
              "      <td>2</td>\n",
              "    </tr>\n",
              "    <tr>\n",
              "      <th>1</th>\n",
              "      <td>3</td>\n",
              "      <td>3</td>\n",
              "    </tr>\n",
              "    <tr>\n",
              "      <th>2</th>\n",
              "      <td>0</td>\n",
              "      <td>3</td>\n",
              "    </tr>\n",
              "    <tr>\n",
              "      <th>3</th>\n",
              "      <td>1</td>\n",
              "      <td>1</td>\n",
              "    </tr>\n",
              "    <tr>\n",
              "      <th>4</th>\n",
              "      <td>1</td>\n",
              "      <td>1</td>\n",
              "    </tr>\n",
              "    <tr>\n",
              "      <th>5</th>\n",
              "      <td>3</td>\n",
              "      <td>3</td>\n",
              "    </tr>\n",
              "    <tr>\n",
              "      <th>6</th>\n",
              "      <td>0</td>\n",
              "      <td>0</td>\n",
              "    </tr>\n",
              "    <tr>\n",
              "      <th>7</th>\n",
              "      <td>3</td>\n",
              "      <td>3</td>\n",
              "    </tr>\n",
              "    <tr>\n",
              "      <th>8</th>\n",
              "      <td>0</td>\n",
              "      <td>0</td>\n",
              "    </tr>\n",
              "    <tr>\n",
              "      <th>9</th>\n",
              "      <td>2</td>\n",
              "      <td>2</td>\n",
              "    </tr>\n",
              "    <tr>\n",
              "      <th>10</th>\n",
              "      <td>1</td>\n",
              "      <td>1</td>\n",
              "    </tr>\n",
              "    <tr>\n",
              "      <th>11</th>\n",
              "      <td>3</td>\n",
              "      <td>3</td>\n",
              "    </tr>\n",
              "    <tr>\n",
              "      <th>12</th>\n",
              "      <td>2</td>\n",
              "      <td>2</td>\n",
              "    </tr>\n",
              "    <tr>\n",
              "      <th>13</th>\n",
              "      <td>1</td>\n",
              "      <td>1</td>\n",
              "    </tr>\n",
              "    <tr>\n",
              "      <th>14</th>\n",
              "      <td>1</td>\n",
              "      <td>1</td>\n",
              "    </tr>\n",
              "    <tr>\n",
              "      <th>15</th>\n",
              "      <td>0</td>\n",
              "      <td>2</td>\n",
              "    </tr>\n",
              "    <tr>\n",
              "      <th>16</th>\n",
              "      <td>0</td>\n",
              "      <td>0</td>\n",
              "    </tr>\n",
              "    <tr>\n",
              "      <th>17</th>\n",
              "      <td>1</td>\n",
              "      <td>1</td>\n",
              "    </tr>\n",
              "    <tr>\n",
              "      <th>18</th>\n",
              "      <td>2</td>\n",
              "      <td>2</td>\n",
              "    </tr>\n",
              "    <tr>\n",
              "      <th>19</th>\n",
              "      <td>3</td>\n",
              "      <td>3</td>\n",
              "    </tr>\n",
              "    <tr>\n",
              "      <th>20</th>\n",
              "      <td>2</td>\n",
              "      <td>2</td>\n",
              "    </tr>\n",
              "    <tr>\n",
              "      <th>21</th>\n",
              "      <td>0</td>\n",
              "      <td>0</td>\n",
              "    </tr>\n",
              "  </tbody>\n",
              "</table>\n",
              "</div>\n",
              "      <button class=\"colab-df-convert\" onclick=\"convertToInteractive('df-abb9a8e9-2ce6-4e6f-ac74-d16c65c85b10')\"\n",
              "              title=\"Convert this dataframe to an interactive table.\"\n",
              "              style=\"display:none;\">\n",
              "        \n",
              "  <svg xmlns=\"http://www.w3.org/2000/svg\" height=\"24px\"viewBox=\"0 0 24 24\"\n",
              "       width=\"24px\">\n",
              "    <path d=\"M0 0h24v24H0V0z\" fill=\"none\"/>\n",
              "    <path d=\"M18.56 5.44l.94 2.06.94-2.06 2.06-.94-2.06-.94-.94-2.06-.94 2.06-2.06.94zm-11 1L8.5 8.5l.94-2.06 2.06-.94-2.06-.94L8.5 2.5l-.94 2.06-2.06.94zm10 10l.94 2.06.94-2.06 2.06-.94-2.06-.94-.94-2.06-.94 2.06-2.06.94z\"/><path d=\"M17.41 7.96l-1.37-1.37c-.4-.4-.92-.59-1.43-.59-.52 0-1.04.2-1.43.59L10.3 9.45l-7.72 7.72c-.78.78-.78 2.05 0 2.83L4 21.41c.39.39.9.59 1.41.59.51 0 1.02-.2 1.41-.59l7.78-7.78 2.81-2.81c.8-.78.8-2.07 0-2.86zM5.41 20L4 18.59l7.72-7.72 1.47 1.35L5.41 20z\"/>\n",
              "  </svg>\n",
              "      </button>\n",
              "      \n",
              "  <style>\n",
              "    .colab-df-container {\n",
              "      display:flex;\n",
              "      flex-wrap:wrap;\n",
              "      gap: 12px;\n",
              "    }\n",
              "\n",
              "    .colab-df-convert {\n",
              "      background-color: #E8F0FE;\n",
              "      border: none;\n",
              "      border-radius: 50%;\n",
              "      cursor: pointer;\n",
              "      display: none;\n",
              "      fill: #1967D2;\n",
              "      height: 32px;\n",
              "      padding: 0 0 0 0;\n",
              "      width: 32px;\n",
              "    }\n",
              "\n",
              "    .colab-df-convert:hover {\n",
              "      background-color: #E2EBFA;\n",
              "      box-shadow: 0px 1px 2px rgba(60, 64, 67, 0.3), 0px 1px 3px 1px rgba(60, 64, 67, 0.15);\n",
              "      fill: #174EA6;\n",
              "    }\n",
              "\n",
              "    [theme=dark] .colab-df-convert {\n",
              "      background-color: #3B4455;\n",
              "      fill: #D2E3FC;\n",
              "    }\n",
              "\n",
              "    [theme=dark] .colab-df-convert:hover {\n",
              "      background-color: #434B5C;\n",
              "      box-shadow: 0px 1px 3px 1px rgba(0, 0, 0, 0.15);\n",
              "      filter: drop-shadow(0px 1px 2px rgba(0, 0, 0, 0.3));\n",
              "      fill: #FFFFFF;\n",
              "    }\n",
              "  </style>\n",
              "\n",
              "      <script>\n",
              "        const buttonEl =\n",
              "          document.querySelector('#df-abb9a8e9-2ce6-4e6f-ac74-d16c65c85b10 button.colab-df-convert');\n",
              "        buttonEl.style.display =\n",
              "          google.colab.kernel.accessAllowed ? 'block' : 'none';\n",
              "\n",
              "        async function convertToInteractive(key) {\n",
              "          const element = document.querySelector('#df-abb9a8e9-2ce6-4e6f-ac74-d16c65c85b10');\n",
              "          const dataTable =\n",
              "            await google.colab.kernel.invokeFunction('convertToInteractive',\n",
              "                                                     [key], {});\n",
              "          if (!dataTable) return;\n",
              "\n",
              "          const docLinkHtml = 'Like what you see? Visit the ' +\n",
              "            '<a target=\"_blank\" href=https://colab.research.google.com/notebooks/data_table.ipynb>data table notebook</a>'\n",
              "            + ' to learn more about interactive tables.';\n",
              "          element.innerHTML = '';\n",
              "          dataTable['output_type'] = 'display_data';\n",
              "          await google.colab.output.renderOutput(dataTable, element);\n",
              "          const docLink = document.createElement('div');\n",
              "          docLink.innerHTML = docLinkHtml;\n",
              "          element.appendChild(docLink);\n",
              "        }\n",
              "      </script>\n",
              "    </div>\n",
              "  </div>\n",
              "  "
            ]
          },
          "metadata": {},
          "execution_count": 22
        }
      ]
    },
    {
      "cell_type": "code",
      "source": [
        "confusion_matrix = pd.crosstab(data['y_Actual'], data['y_Predicted'], rownames=['Actual'], colnames = ['Predicted'], margins = True)\n",
        "import seaborn as sn\n",
        "sn.heatmap(confusion_matrix, annot=True,  cmap=\"Blues\")\n",
        "ax = plt.axes()\n",
        "ax.set_title('First scenario, confusion matrix (BGAT)')\n",
        "plt.show()"
      ],
      "metadata": {
        "id": "8fKv6KpVE8km",
        "colab": {
          "base_uri": "https://localhost:8080/",
          "height": 352
        },
        "outputId": "7092c3e5-545a-46b0-f41b-c91707b05fa8"
      },
      "execution_count": null,
      "outputs": [
        {
          "output_type": "stream",
          "name": "stderr",
          "text": [
            "<ipython-input-23-0008894d1f6a>:4: MatplotlibDeprecationWarning: Adding an axes using the same arguments as a previous axes currently reuses the earlier instance.  In a future version, a new instance will always be created and returned.  Meanwhile, this warning can be suppressed, and the future behavior ensured, by passing a unique label to each axes instance.\n",
            "  ax = plt.axes()\n"
          ]
        },
        {
          "output_type": "display_data",
          "data": {
            "text/plain": [
              "<Figure size 432x288 with 2 Axes>"
            ],
            "image/png": "[encoded data removed]"
          },
          "metadata": {
            "needs_background": "light"
          }
        }
      ]
    }
  ]
}
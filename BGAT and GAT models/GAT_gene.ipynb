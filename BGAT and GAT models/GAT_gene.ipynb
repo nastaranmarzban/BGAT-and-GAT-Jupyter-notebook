{
  "nbformat": 4,
  "nbformat_minor": 0,
  "metadata": {
    "colab": {
      "provenance": []
    },
    "kernelspec": {
      "name": "python3",
      "display_name": "Python 3"
    },
    "language_info": {
      "name": "python"
    }
  },
  "cells": [
    {
      "cell_type": "markdown",
      "source": [
        "## Mount to gdrive to read data, adjacency matrix, p_link and labels. "
      ],
      "metadata": {
        "id": "Fo8qxx6jEGGX"
      }
    },
    {
      "cell_type": "code",
      "execution_count": null,
      "metadata": {
        "colab": {
          "base_uri": "https://localhost:8080/"
        },
        "id": "ikjnn3KwfQ_P",
        "outputId": "81275b64-56e4-471d-b81b-cfd0d6f41115"
      },
      "outputs": [
        {
          "output_type": "stream",
          "name": "stdout",
          "text": [
            "Drive already mounted at /gdrive; to attempt to forcibly remount, call drive.mount(\"/gdrive\", force_remount=True).\n"
          ]
        }
      ],
      "source": [
        "from google.colab import drive\n",
        "drive.mount('/gdrive')"
      ]
    },
    {
      "cell_type": "markdown",
      "source": [
        "# Install pandas to read csv files from gdrive. Install torch and numpy which are packages that are needed durind coding."
      ],
      "metadata": {
        "id": "kwhLS9aWEKVn"
      }
    },
    {
      "cell_type": "code",
      "source": [
        "!pip install pandas\n",
        "import pandas as pd\n",
        "import torch\n",
        "import numpy as np"
      ],
      "metadata": {
        "colab": {
          "base_uri": "https://localhost:8080/"
        },
        "id": "WB6o2TI-fZFK",
        "outputId": "6bfa87fa-ff3a-4d7f-e4ef-9d4a800567b7"
      },
      "execution_count": null,
      "outputs": [
        {
          "output_type": "stream",
          "name": "stdout",
          "text": [
            "Looking in indexes: https://pypi.org/simple, https://us-python.pkg.dev/colab-wheels/public/simple/\n",
            "Requirement already satisfied: pandas in /usr/local/lib/python3.8/dist-packages (1.3.5)\n",
            "Requirement already satisfied: pytz>=2017.3 in /usr/local/lib/python3.8/dist-packages (from pandas) (2022.6)\n",
            "Requirement already satisfied: python-dateutil>=2.7.3 in /usr/local/lib/python3.8/dist-packages (from pandas) (2.8.2)\n",
            "Requirement already satisfied: numpy>=1.17.3 in /usr/local/lib/python3.8/dist-packages (from pandas) (1.21.6)\n",
            "Requirement already satisfied: six>=1.5 in /usr/local/lib/python3.8/dist-packages (from python-dateutil>=2.7.3->pandas) (1.15.0)\n"
          ]
        }
      ]
    },
    {
      "cell_type": "markdown",
      "source": [
        "# Load data which are processed in preprocessing_gene.ipynb file."
      ],
      "metadata": {
        "id": "6muNDfAxERQ3"
      }
    },
    {
      "cell_type": "code",
      "source": [
        "path = F\"/gdrive/MyDrive/Gene/gene.pt\"\n",
        "Data = torch.load(path)\n",
        "Data"
      ],
      "metadata": {
        "colab": {
          "base_uri": "https://localhost:8080/"
        },
        "id": "DutuZSEOfblW",
        "outputId": "ba2d8979-8221-42b7-84df-7c8ad9f6da82"
      },
      "execution_count": null,
      "outputs": [
        {
          "output_type": "execute_result",
          "data": {
            "text/plain": [
              "{'x': tensor([[12.2066,  8.5495, 10.7969,  ...,  8.4967,  8.5979,  8.8691],\n",
              "         [ 9.6155,  8.9314,  9.5201,  ...,  9.6052, 11.1579, 10.5243],\n",
              "         [ 6.2624, 10.6610,  8.8817,  ...,  6.8272,  6.2315,  6.5671],\n",
              "         ...,\n",
              "         [ 6.0040, 11.8118, 10.3843,  ...,  7.5903, 12.6739, 12.8235],\n",
              "         [ 8.8085, 12.8148, 15.4529,  ...,  9.6657, 13.1217, 10.3099],\n",
              "         [ 7.3143, 13.6116, 12.9968,  ...,  8.7592,  9.8862,  9.2184]]),\n",
              " 'edge_index': tensor([[ 0,  0,  0,  0,  0,  0,  1,  2,  2,  2,  2,  2,  3,  3,  4,  4,  4,  4,\n",
              "           4,  5,  5,  5,  5,  5,  5,  6,  6,  6,  7,  7,  7,  7,  7,  7,  7,  7,\n",
              "           8,  8,  8,  8,  8,  8,  8,  9,  9,  9,  9,  9,  9,  9,  9,  9, 10, 10,\n",
              "          10, 10, 11, 11, 11, 11, 11, 11, 12, 12, 12, 13, 13, 13, 13, 14, 14, 14,\n",
              "          14, 15, 15, 15, 15, 15, 15, 15, 15, 16, 16, 16, 16, 16, 16, 16, 17, 17,\n",
              "          17, 17, 17, 17, 17, 17, 17, 17, 18, 18, 18, 18, 18, 18, 18, 19, 19, 19,\n",
              "          19, 19, 19, 20, 20, 20, 20, 20, 20, 20, 21, 21, 21, 21, 21, 21, 21, 21,\n",
              "          21, 21, 22, 22, 22, 23, 23, 23, 23, 24, 24, 24, 24, 24, 25, 25, 25, 25,\n",
              "          25, 26, 26, 26, 26, 26, 27, 27, 28, 28, 28, 29, 29, 29, 29, 29, 29, 30,\n",
              "          30, 30, 30, 30, 31, 31, 31, 31, 31, 32, 32, 32, 33, 33, 33, 33, 33, 33,\n",
              "          34, 34, 34, 34, 34, 35, 35, 35, 35, 36, 36, 36, 36, 36, 36, 36, 36, 36,\n",
              "          36, 37, 37, 37, 38, 38, 38, 38, 39, 40, 40, 41, 41, 42, 42, 42, 43, 43,\n",
              "          43, 44, 44, 44, 45, 45, 46, 46, 47, 48, 48, 48, 49, 50, 50, 50, 51, 52,\n",
              "          52, 52, 53, 53, 53, 53, 54, 54, 55, 55, 56, 56, 56, 57, 57, 57, 57, 57,\n",
              "          58, 58, 59, 59, 60, 60, 61, 62, 62, 62, 63, 64, 64, 64],\n",
              "         [ 5,  8,  9, 12, 21, 32, 36, 10, 13, 16, 40, 62, 17, 25,  7, 15, 18, 19,\n",
              "          38,  0,  7,  9, 11, 21, 33,  7, 19, 39,  4,  5,  6, 17, 18, 19, 24, 31,\n",
              "           0, 18, 21, 29, 38, 41, 57,  0,  5, 15, 18, 21, 24, 26, 33, 36,  2, 21,\n",
              "          36, 44,  5, 24, 26, 29, 35, 50,  0, 15, 37,  2, 14, 17, 60, 13, 17, 19,\n",
              "          47,  4,  9, 12, 16, 17, 21, 36, 56,  2, 15, 19, 26, 36, 51, 52,  3,  7,\n",
              "          13, 14, 15, 20, 26, 27, 33, 40,  4,  7,  8,  9, 36, 37, 64,  4,  6,  7,\n",
              "          14, 16, 36, 17, 21, 24, 26, 31, 38, 52,  0,  5,  8,  9, 10, 15, 20, 33,\n",
              "          37, 58, 24, 31, 36, 25, 35, 41, 57,  7,  9, 11, 20, 22,  3, 23, 30, 46,\n",
              "          57,  9, 11, 16, 17, 20, 17, 53, 29, 34, 52,  8, 11, 28, 31, 34, 50, 25,\n",
              "          31, 32, 33, 43,  7, 20, 22, 29, 30,  0, 30, 34,  5,  9, 17, 21, 30, 34,\n",
              "          28, 29, 32, 33, 63, 11, 23, 43, 61,  1,  9, 10, 15, 16, 18, 19, 22, 48,\n",
              "          55, 12, 18, 21,  4,  8, 20, 57,  6,  2, 17,  8, 23, 44, 45, 56, 30, 35,\n",
              "          53, 10, 42, 60, 42, 53, 25, 55, 14, 36, 53, 62, 50, 11, 29, 49, 16, 16,\n",
              "          20, 28, 27, 43, 45, 48, 57, 59, 36, 46, 15, 42, 64,  8, 23, 25, 38, 54,\n",
              "          21, 59, 54, 58, 13, 44, 35,  2, 48, 64, 34, 18, 56, 62]]),\n",
              " 'y': tensor([0, 0, 0, 0, 0, 0, 0, 0, 0, 0, 0, 0, 0, 0, 0, 0, 0, 0, 0, 0, 0, 0, 1, 1,\n",
              "         1, 1, 1, 1, 2, 2, 2, 2, 2, 2, 2, 2, 2, 2, 2, 1, 1, 1, 1, 1, 1, 1, 1, 1,\n",
              "         1, 1, 1, 1, 1, 1, 2, 2, 2, 2, 2, 2, 2, 2, 2, 2, 2]),\n",
              " 'train_mask': tensor([False,  True,  True, False,  True,  True, False, False, False, False,\n",
              "          True,  True,  True,  True,  True, False,  True, False,  True, False,\n",
              "          True,  True, False,  True,  True,  True,  True, False, False, False,\n",
              "         False, False,  True,  True,  True,  True,  True, False, False,  True,\n",
              "          True, False, False,  True, False,  True, False,  True, False, False,\n",
              "          True,  True,  True,  True, False, False,  True,  True,  True,  True,\n",
              "          True,  True,  True,  True,  True]),\n",
              " 'val_mask': tensor([False, False, False, False, False, False,  True, False,  True,  True,\n",
              "         False, False, False, False, False, False, False,  True, False, False,\n",
              "         False, False,  True, False, False, False, False, False, False,  True,\n",
              "         False, False, False, False, False, False, False,  True, False, False,\n",
              "         False, False, False, False,  True, False, False, False,  True, False,\n",
              "         False, False, False, False, False,  True, False, False, False, False,\n",
              "         False, False, False, False, False]),\n",
              " 'test_mask': tensor([ True, False, False,  True, False, False, False,  True, False, False,\n",
              "         False, False, False, False, False,  True, False, False, False,  True,\n",
              "         False, False, False, False, False, False, False,  True,  True, False,\n",
              "          True,  True, False, False, False, False, False, False,  True, False,\n",
              "         False,  True,  True, False, False, False,  True, False, False,  True,\n",
              "         False, False, False, False,  True, False, False, False, False, False,\n",
              "         False, False, False, False, False])}"
            ]
          },
          "metadata": {},
          "execution_count": 3
        }
      ]
    },
    {
      "cell_type": "markdown",
      "source": [
        "# Gather some statistics about the graph."
      ],
      "metadata": {
        "id": "STOd-l2fEU3K"
      }
    },
    {
      "cell_type": "code",
      "source": [
        "print(f'Number of nodes: {Data[\"x\"].size(0)}')\n",
        "print(f'Number of features: {Data[\"x\"].size(1)}')\n",
        "print(f'Number of classes: {torch.numel(torch.unique(Data[\"y\"],sorted=True))}')\n",
        "print(f'Number of edges: {Data[\"edge_index\"].size(1)}')\n",
        "print(f'Average node degree: {Data[\"edge_index\"].size(1) / Data[\"x\"].size(0):.2f}')\n",
        "print(f'Number of training nodes: {Data[\"train_mask\"].sum()}')\n",
        "print(f'Number of testing nodes: {Data[\"test_mask\"].sum()}')\n",
        "print(f'Training node label rate: {int(Data[\"train_mask\"].sum()) /  Data[\"x\"].size(0):.2f}')"
      ],
      "metadata": {
        "colab": {
          "base_uri": "https://localhost:8080/"
        },
        "id": "mlkPwrXRfdYv",
        "outputId": "c4595d0f-8332-4e45-90f5-9ee318921d51"
      },
      "execution_count": null,
      "outputs": [
        {
          "output_type": "stream",
          "name": "stdout",
          "text": [
            "Number of nodes: 65\n",
            "Number of features: 60\n",
            "Number of classes: 3\n",
            "Number of edges: 266\n",
            "Average node degree: 4.09\n",
            "Number of training nodes: 40\n",
            "Number of testing nodes: 15\n",
            "Training node label rate: 0.62\n"
          ]
        }
      ]
    },
    {
      "cell_type": "code",
      "source": [
        "path = F\"/gdrive/MyDrive/Gene/p_links_gene.pt\"\n",
        "p_link = torch.load(path)\n",
        "print(p_link.size())\n",
        "print(p_link.dtype)\n",
        "print(p_link.type())"
      ],
      "metadata": {
        "colab": {
          "base_uri": "https://localhost:8080/"
        },
        "id": "L6itEy6bffqE",
        "outputId": "76d302c8-788c-46c4-827a-11994129d96d"
      },
      "execution_count": null,
      "outputs": [
        {
          "output_type": "stream",
          "name": "stdout",
          "text": [
            "torch.Size([65, 65])\n",
            "torch.float32\n",
            "torch.FloatTensor\n"
          ]
        }
      ]
    },
    {
      "cell_type": "markdown",
      "source": [
        "# Install torch_geometic."
      ],
      "metadata": {
        "id": "ID_hEi3QEfoY"
      }
    },
    {
      "cell_type": "code",
      "source": [
        "import os\n",
        "os.environ['TORCH'] = torch.__version__\n",
        "print(torch.__version__)\n",
        "\n",
        "!pip install -q torch-scatter -f https://data.pyg.org/whl/torch-${TORCH}.html\n",
        "!pip install -q torch-sparse -f https://data.pyg.org/whl/torch-${TORCH}.html\n",
        "!pip install -q git+https://github.com/pyg-team/pytorch_geometric.git"
      ],
      "metadata": {
        "colab": {
          "base_uri": "https://localhost:8080/"
        },
        "id": "sTBwFvM9fhly",
        "outputId": "334854e6-9976-4ad0-95c4-95fd72f6d79d"
      },
      "execution_count": null,
      "outputs": [
        {
          "output_type": "stream",
          "name": "stdout",
          "text": [
            "1.13.0+cu116\n"
          ]
        }
      ]
    },
    {
      "cell_type": "code",
      "source": [
        "from torch_geometric.nn import MessagePassing\n",
        "import torch_geometric.nn\n",
        "import torch.nn.functional as F\n",
        "from torch_geometric.nn import GATConv"
      ],
      "metadata": {
        "id": "kf1cSj8IfkD2"
      },
      "execution_count": null,
      "outputs": []
    },
    {
      "cell_type": "markdown",
      "source": [
        "# Creating message passing network."
      ],
      "metadata": {
        "id": "-uzl1yZEEi1P"
      }
    },
    {
      "cell_type": "code",
      "source": [
        "class Myconv(torch.nn.Module):\n",
        "    def __init__(self):\n",
        "        super().__init__()\n",
        "        torch.manual_seed(2)\n",
        "        self.conv1 = GATConv(in_channels = 60, out_channels = 10)\n",
        "        self.conv2 =  GATConv(10, 3)\n",
        "\n",
        "     \n",
        "        \n",
        "\n",
        "    def forward(self, x, edge_index):\n",
        "        h = self.conv1(x, edge_index)\n",
        "        h = F.torch.tanh(h)\n",
        "        h = self.conv2(h, edge_index)\n",
        "        #h = F.torch.tanh(h)\n",
        "        return h\n",
        "        \n",
        "\n",
        "model = Myconv()\n",
        "print(model)\n",
        "print(model.forward(Data[\"x\"], Data[\"edge_index\"]))"
      ],
      "metadata": {
        "colab": {
          "base_uri": "https://localhost:8080/"
        },
        "id": "EnHTOZ5BflSz",
        "outputId": "ef3c50a5-4add-4f0f-fcbb-bdbd7c3b1e72"
      },
      "execution_count": null,
      "outputs": [
        {
          "output_type": "stream",
          "name": "stdout",
          "text": [
            "Myconv(\n",
            "  (conv1): GATConv(60, 10, heads=1)\n",
            "  (conv2): GATConv(10, 3, heads=1)\n",
            ")\n",
            "tensor([[ 1.7077, -2.8579, -0.3531],\n",
            "        [ 1.6999, -2.8558, -0.3407],\n",
            "        [ 1.6537, -3.3411, -0.2134],\n",
            "        [ 1.6917, -2.8759, -0.3420],\n",
            "        [ 1.8488, -3.1064, -0.5210],\n",
            "        [ 1.6954, -2.9245, -0.3431],\n",
            "        [ 1.7001, -2.8388, -0.3461],\n",
            "        [ 1.6978, -2.8592, -0.3389],\n",
            "        [ 1.7704, -3.1961, -0.3825],\n",
            "        [ 1.7710, -3.0035, -0.4226],\n",
            "        [ 1.6791, -3.0566, -0.2926],\n",
            "        [ 1.6856, -2.8323, -0.3613],\n",
            "        [ 1.8819, -3.0832, -0.5854],\n",
            "        [ 1.6427, -3.3952, -0.2129],\n",
            "        [ 1.6848, -2.9814, -0.3127],\n",
            "        [ 1.7716, -2.9842, -0.4322],\n",
            "        [ 1.7728, -2.9661, -0.4546],\n",
            "        [ 1.7567, -2.9777, -0.4181],\n",
            "        [ 1.6984, -2.8558, -0.3359],\n",
            "        [ 1.7053, -2.7754, -0.3629],\n",
            "        [ 1.7138, -2.9018, -0.3723],\n",
            "        [ 1.7634, -2.9814, -0.4187],\n",
            "        [ 1.7095, -2.7216, -0.3771],\n",
            "        [ 1.7563, -2.9572, -0.4077],\n",
            "        [ 1.6966, -2.7790, -0.3693],\n",
            "        [ 1.7034, -2.7903, -0.3597],\n",
            "        [ 1.6810, -2.9354, -0.3312],\n",
            "        [ 1.6905, -2.8511, -0.3706],\n",
            "        [ 1.6866, -2.7483, -0.3904],\n",
            "        [ 1.6818, -2.7981, -0.3767],\n",
            "        [ 1.7071, -2.7324, -0.3887],\n",
            "        [ 1.7095, -2.7216, -0.3771],\n",
            "        [ 1.7136, -2.8874, -0.3548],\n",
            "        [ 1.6947, -2.9011, -0.3304],\n",
            "        [ 1.6929, -2.8403, -0.3528],\n",
            "        [ 1.6957, -2.7493, -0.3962],\n",
            "        [ 1.7490, -3.0218, -0.4112],\n",
            "        [ 1.6955, -2.8850, -0.3286],\n",
            "        [ 1.7351, -2.9528, -0.3773],\n",
            "        [ 1.6950, -2.8932, -0.3321],\n",
            "        [ 1.5901, -3.8746, -0.1012],\n",
            "        [ 1.7909, -2.9376, -0.4609],\n",
            "        [ 1.9020, -3.3016, -0.5794],\n",
            "        [ 1.7068, -2.6956, -0.4181],\n",
            "        [ 1.9154, -3.4820, -0.5900],\n",
            "        [ 1.8907, -2.9530, -0.6423],\n",
            "        [ 1.7025, -2.8062, -0.3551],\n",
            "        [ 1.7069, -2.7508, -0.3697],\n",
            "        [ 1.6592, -2.9603, -0.3567],\n",
            "        [ 1.6136, -3.0636, -0.3431],\n",
            "        [ 1.6473, -2.9336, -0.3594],\n",
            "        [ 1.6996, -2.8556, -0.3410],\n",
            "        [ 1.6866, -2.7476, -0.3906],\n",
            "        [ 1.6846, -2.7730, -0.4125],\n",
            "        [ 1.6232, -3.8869, -0.0647],\n",
            "        [ 1.7034, -2.8065, -0.3541],\n",
            "        [ 2.1579, -3.6688, -0.8950],\n",
            "        [ 1.7263, -3.0152, -0.3563],\n",
            "        [ 1.6672, -3.3070, -0.2190],\n",
            "        [ 1.6244, -3.8876, -0.0632],\n",
            "        [ 1.5994, -3.8616, -0.0960],\n",
            "        [ 1.7093, -2.7233, -0.3768],\n",
            "        [ 1.5584, -3.8283, -0.1210],\n",
            "        [ 1.6804, -3.1326, -0.2654],\n",
            "        [ 1.6259, -3.8359, -0.0143]], grad_fn=<AddBackward0>)\n"
          ]
        }
      ]
    },
    {
      "cell_type": "markdown",
      "source": [
        "# We take a look at the node embeddings produced by GAT (before training)."
      ],
      "metadata": {
        "id": "_SpHKhruEmYI"
      }
    },
    {
      "cell_type": "code",
      "source": [
        "import matplotlib.pyplot as plt\n",
        "from sklearn.manifold import TSNE\n",
        "import seaborn as sns\n",
        "\n",
        "def visualize(h):\n",
        "    z = TSNE(n_components = 2, random_state = 0).fit_transform(h.detach().numpy())\n",
        "    plt.figure(figsize = (6,4),  dpi = 120)\n",
        "    sns.scatterplot(z[:, 0], z[:, 1], hue = Data[\"y\"], palette=sns.color_palette(\"bright\",3)).set(title = \"Gene expression data T-SNE projection before training (GAT)\")"
      ],
      "metadata": {
        "id": "kTBojqJ_gFiB"
      },
      "execution_count": null,
      "outputs": []
    },
    {
      "cell_type": "code",
      "source": [
        "model = Myconv()\n",
        "h = model(Data[\"x\"], Data[\"edge_index\"])\n",
        "\n",
        "print(f'Embedding shape: {list(h.shape)}')\n",
        "visualize(h)"
      ],
      "metadata": {
        "colab": {
          "base_uri": "https://localhost:8080/"
        },
        "id": "oWkXa8LqgICw",
        "outputId": "1b44a8e2-846b-4d4d-c13c-03cb65425a33"
      },
      "execution_count": null,
      "outputs": [
        {
          "output_type": "stream",
          "name": "stdout",
          "text": [
            "Embedding shape: [65, 3]\n"
          ]
        },
        {
          "output_type": "stream",
          "name": "stderr",
          "text": [
            "/usr/local/lib/python3.8/dist-packages/sklearn/manifold/_t_sne.py:780: FutureWarning: The default initialization in TSNE will change from 'random' to 'pca' in 1.2.\n",
            "  warnings.warn(\n",
            "/usr/local/lib/python3.8/dist-packages/sklearn/manifold/_t_sne.py:790: FutureWarning: The default learning rate in TSNE will change from 200.0 to 'auto' in 1.2.\n",
            "  warnings.warn(\n",
            "/usr/local/lib/python3.8/dist-packages/seaborn/_decorators.py:36: FutureWarning: Pass the following variables as keyword args: x, y. From version 0.12, the only valid positional argument will be `data`, and passing other arguments without an explicit keyword will result in an error or misinterpretation.\n",
            "  warnings.warn(\n"
          ]
        },
        {
          "output_type": "display_data",
          "data": {
            "text/plain": [
              "<Figure size 720x480 with 1 Axes>"
            ],
            "image/png": "[encoded data removed]"
          },
          "metadata": {
            "needs_background": "light"
          }
        }
      ]
    },
    {
      "cell_type": "markdown",
      "source": [
        "# Start training the model. "
      ],
      "metadata": {
        "id": "U_WSqxaHEqQv"
      }
    },
    {
      "cell_type": "code",
      "source": [
        "model = Myconv()\n",
        "criterion = torch.nn.CrossEntropyLoss()  # Define loss criterion.\n",
        "optimizer = torch.optim.Adam(model.parameters(),  lr = 0.005, weight_decay = 1e-4)  # Define optimizer, an object for updating parameters\n",
        "#loss = loss + weight decay parameter * L2 norm of the weights, 1) To prevent overfitting 2) To keep the weights small and avoid exploding gradient\n",
        "\n",
        "def train(Data):\n",
        "    model.train()\n",
        "    optimizer.zero_grad()  # Clear gradients.\n",
        "    out = model(Data[\"x\"], Data[\"edge_index\"])\n",
        "    train_loss = criterion(out[Data[\"train_mask\"]], Data[\"y\"][Data[\"train_mask\"]])  # Compute the loss solely based on the training nodes.\n",
        "    train_loss.backward()  # Derive gradients.\n",
        "    optimizer.step()  # Update parameters based on gradients.\n",
        "    return train_loss\n",
        "\n",
        "\n",
        "def val(Data):\n",
        "      model.eval()\n",
        "      with torch.no_grad():\n",
        "        out = model(Data[\"x\"], Data[\"edge_index\"])\n",
        "        val_loss = criterion(out[Data[\"val_mask\"]], Data[\"y\"][Data[\"val_mask\"]])\n",
        "        #pred = out.argmax(dim=1)\n",
        "        #test_correct = pred[Data[\"val_mask\"]] == Data[\"y\"][Data[\"val_mask\"]]  # Check against ground-truth labels.\n",
        "        #test_acc = int(test_correct.sum()) / int(Data[\"val_mask\"].sum())  # Derive ratio of correct predictions.\n",
        "        return val_loss"
      ],
      "metadata": {
        "id": "eTkrEgFqgLfD"
      },
      "execution_count": null,
      "outputs": []
    },
    {
      "cell_type": "code",
      "source": [
        "train_loss_ = []\n",
        "val_loss_ = []\n",
        "\n",
        "for epoch in range(1,101):\n",
        "  epoch_train_loss = []\n",
        "  epoch_val_loss = []\n",
        "  train_loss = train(Data)\n",
        "  val_loss = val(Data)\n",
        "\n",
        "\n",
        "\n",
        "\n",
        "\n",
        "\n",
        "  epoch_train_loss.append(train_loss.item())\n",
        "  epoch_val_loss.append(val_loss.item())\n",
        "\n",
        "\n",
        "\n",
        "\n",
        "  \n",
        "\n",
        "  val_loss_.append(sum(epoch_val_loss)/len(epoch_val_loss))\n",
        "  train_loss_.append(sum(epoch_train_loss)/len(epoch_train_loss))\n",
        "  print(epoch,'Train Loss: %.3f | val Loss: %.3f'%( train_loss,val_loss))"
      ],
      "metadata": {
        "colab": {
          "base_uri": "https://localhost:8080/"
        },
        "id": "qfBNg3ZBgMQh",
        "outputId": "e3afe727-bd1d-4947-d0d3-0fe3cf320a03"
      },
      "execution_count": null,
      "outputs": [
        {
          "output_type": "stream",
          "name": "stdout",
          "text": [
            "1 Train Loss: 2.337 | val Loss: 1.881\n",
            "2 Train Loss: 2.016 | val Loss: 1.583\n",
            "3 Train Loss: 1.644 | val Loss: 1.345\n",
            "4 Train Loss: 1.472 | val Loss: 1.308\n",
            "5 Train Loss: 1.440 | val Loss: 1.286\n",
            "6 Train Loss: 1.408 | val Loss: 1.264\n",
            "7 Train Loss: 1.374 | val Loss: 1.264\n",
            "8 Train Loss: 1.339 | val Loss: 1.270\n",
            "9 Train Loss: 1.314 | val Loss: 1.253\n",
            "10 Train Loss: 1.288 | val Loss: 1.233\n",
            "11 Train Loss: 1.263 | val Loss: 1.201\n",
            "12 Train Loss: 1.238 | val Loss: 1.141\n",
            "13 Train Loss: 1.220 | val Loss: 1.144\n",
            "14 Train Loss: 1.198 | val Loss: 1.156\n",
            "15 Train Loss: 1.182 | val Loss: 1.156\n",
            "16 Train Loss: 1.169 | val Loss: 1.151\n",
            "17 Train Loss: 1.157 | val Loss: 1.144\n",
            "18 Train Loss: 1.146 | val Loss: 1.139\n",
            "19 Train Loss: 1.137 | val Loss: 1.135\n",
            "20 Train Loss: 1.131 | val Loss: 1.133\n",
            "21 Train Loss: 1.126 | val Loss: 1.135\n",
            "22 Train Loss: 1.122 | val Loss: 1.139\n",
            "23 Train Loss: 1.117 | val Loss: 1.134\n",
            "24 Train Loss: 1.093 | val Loss: 1.165\n",
            "25 Train Loss: 1.066 | val Loss: 1.286\n",
            "26 Train Loss: 1.147 | val Loss: 1.227\n",
            "27 Train Loss: 1.072 | val Loss: 1.171\n",
            "28 Train Loss: 1.066 | val Loss: 1.111\n",
            "29 Train Loss: 1.067 | val Loss: 1.097\n",
            "30 Train Loss: 1.073 | val Loss: 1.104\n",
            "31 Train Loss: 1.082 | val Loss: 1.106\n",
            "32 Train Loss: 1.084 | val Loss: 1.107\n",
            "33 Train Loss: 1.083 | val Loss: 1.108\n",
            "34 Train Loss: 1.076 | val Loss: 1.110\n",
            "35 Train Loss: 1.066 | val Loss: 1.119\n",
            "36 Train Loss: 1.058 | val Loss: 1.141\n",
            "37 Train Loss: 1.050 | val Loss: 1.174\n",
            "38 Train Loss: 1.046 | val Loss: 1.209\n",
            "39 Train Loss: 1.054 | val Loss: 1.221\n",
            "40 Train Loss: 1.057 | val Loss: 1.197\n",
            "41 Train Loss: 1.042 | val Loss: 1.164\n",
            "42 Train Loss: 1.035 | val Loss: 1.141\n",
            "43 Train Loss: 1.033 | val Loss: 1.130\n",
            "44 Train Loss: 1.033 | val Loss: 1.126\n",
            "45 Train Loss: 1.032 | val Loss: 1.126\n",
            "46 Train Loss: 1.031 | val Loss: 1.127\n",
            "47 Train Loss: 1.027 | val Loss: 1.130\n",
            "48 Train Loss: 1.022 | val Loss: 1.139\n",
            "49 Train Loss: 1.016 | val Loss: 1.156\n",
            "50 Train Loss: 1.010 | val Loss: 1.174\n",
            "51 Train Loss: 1.009 | val Loss: 1.180\n",
            "52 Train Loss: 1.010 | val Loss: 1.175\n",
            "53 Train Loss: 1.004 | val Loss: 1.163\n",
            "54 Train Loss: 0.999 | val Loss: 1.151\n",
            "55 Train Loss: 0.998 | val Loss: 1.146\n",
            "56 Train Loss: 0.996 | val Loss: 1.150\n",
            "57 Train Loss: 0.992 | val Loss: 1.164\n",
            "58 Train Loss: 0.985 | val Loss: 1.187\n",
            "59 Train Loss: 0.993 | val Loss: 1.166\n",
            "60 Train Loss: 0.983 | val Loss: 1.161\n",
            "61 Train Loss: 0.983 | val Loss: 1.154\n",
            "62 Train Loss: 0.983 | val Loss: 1.147\n",
            "63 Train Loss: 0.984 | val Loss: 1.145\n",
            "64 Train Loss: 0.985 | val Loss: 1.143\n",
            "65 Train Loss: 0.984 | val Loss: 1.144\n",
            "66 Train Loss: 0.981 | val Loss: 1.145\n",
            "67 Train Loss: 0.978 | val Loss: 1.151\n",
            "68 Train Loss: 0.973 | val Loss: 1.161\n",
            "69 Train Loss: 0.968 | val Loss: 1.166\n",
            "70 Train Loss: 0.966 | val Loss: 1.166\n",
            "71 Train Loss: 0.965 | val Loss: 1.165\n",
            "72 Train Loss: 0.963 | val Loss: 1.161\n",
            "73 Train Loss: 0.960 | val Loss: 1.153\n",
            "74 Train Loss: 0.951 | val Loss: 1.148\n",
            "75 Train Loss: 0.952 | val Loss: 1.142\n",
            "76 Train Loss: 0.940 | val Loss: 1.138\n",
            "77 Train Loss: 0.942 | val Loss: 1.138\n",
            "78 Train Loss: 0.935 | val Loss: 1.140\n",
            "79 Train Loss: 0.932 | val Loss: 1.141\n",
            "80 Train Loss: 0.924 | val Loss: 1.141\n",
            "81 Train Loss: 0.922 | val Loss: 1.143\n",
            "82 Train Loss: 0.917 | val Loss: 1.146\n",
            "83 Train Loss: 0.914 | val Loss: 1.148\n",
            "84 Train Loss: 0.911 | val Loss: 1.146\n",
            "85 Train Loss: 0.908 | val Loss: 1.145\n",
            "86 Train Loss: 0.904 | val Loss: 1.149\n",
            "87 Train Loss: 0.903 | val Loss: 1.149\n",
            "88 Train Loss: 0.897 | val Loss: 1.147\n",
            "89 Train Loss: 0.896 | val Loss: 1.147\n",
            "90 Train Loss: 0.891 | val Loss: 1.146\n",
            "91 Train Loss: 0.888 | val Loss: 1.143\n",
            "92 Train Loss: 0.884 | val Loss: 1.143\n",
            "93 Train Loss: 0.882 | val Loss: 1.145\n",
            "94 Train Loss: 0.879 | val Loss: 1.147\n",
            "95 Train Loss: 0.877 | val Loss: 1.147\n",
            "96 Train Loss: 0.874 | val Loss: 1.145\n",
            "97 Train Loss: 0.871 | val Loss: 1.145\n",
            "98 Train Loss: 0.869 | val Loss: 1.146\n",
            "99 Train Loss: 0.866 | val Loss: 1.149\n",
            "100 Train Loss: 0.863 | val Loss: 1.150\n"
          ]
        }
      ]
    },
    {
      "cell_type": "markdown",
      "source": [
        "# Visualize train loss and val loss."
      ],
      "metadata": {
        "id": "Q9W5LJraExDB"
      }
    },
    {
      "cell_type": "code",
      "source": [
        "plt.plot(train_loss_, \"c\", linewidth = 3)\n",
        "plt.plot(val_loss_, \"k\", linewidth = 3)\n",
        "plt.xlabel('epoch')\n",
        "plt.ylabel('loss')\n",
        "plt.legend(['Train','Val'])\n",
        "plt.title('Train vs Val Loss for the gene expression (GAT)')\n",
        "plt.grid()\n",
        "plt.show()"
      ],
      "metadata": {
        "colab": {
          "base_uri": "https://localhost:8080/",
          "height": 295
        },
        "id": "UYAwKDjXgPRp",
        "outputId": "77876ddc-852f-4e45-b204-41afd27e43d6"
      },
      "execution_count": null,
      "outputs": [
        {
          "output_type": "display_data",
          "data": {
            "text/plain": [
              "<Figure size 432x288 with 1 Axes>"
            ],
            "image/png": "[encoded data removed]"
          },
          "metadata": {
            "needs_background": "light"
          }
        }
      ]
    },
    {
      "cell_type": "markdown",
      "source": [
        "# Compute the accuracy of the model."
      ],
      "metadata": {
        "id": "5WBS2RuPEz2Q"
      }
    },
    {
      "cell_type": "code",
      "source": [
        "def test(Data):\n",
        "      model.eval()\n",
        "      with torch.no_grad():\n",
        "        out = model(Data[\"x\"], Data[\"edge_index\"])\n",
        "        pred = out.argmax(dim=1)\n",
        "        test_correct = pred[Data[\"test_mask\"]] == Data[\"y\"][Data[\"test_mask\"]]  # Check against ground-truth labels.\n",
        "        test_acc = int(test_correct.sum()) / int(Data[\"test_mask\"].sum())  # Derive ratio of correct predictions.\n",
        "        return test_acc"
      ],
      "metadata": {
        "id": "YWDeoWlugRdR"
      },
      "execution_count": null,
      "outputs": []
    },
    {
      "cell_type": "code",
      "source": [
        "test_acc = test(Data)\n",
        "print(f'Test Accuracy: {100*test_acc:.2f}')"
      ],
      "metadata": {
        "colab": {
          "base_uri": "https://localhost:8080/"
        },
        "id": "5wUc8loGgTbI",
        "outputId": "15bdf531-db0c-4955-d9b6-181127505492"
      },
      "execution_count": null,
      "outputs": [
        {
          "output_type": "stream",
          "name": "stdout",
          "text": [
            "Test Accuracy: 73.33\n"
          ]
        }
      ]
    },
    {
      "cell_type": "markdown",
      "source": [
        "# We take a look at the node embeddings produced by GAT (after training)."
      ],
      "metadata": {
        "id": "ZfFNIzXeE2ou"
      }
    },
    {
      "cell_type": "code",
      "source": [
        "import matplotlib.pyplot as plt\n",
        "from sklearn.manifold import TSNE\n",
        "import seaborn as sns\n",
        "\n",
        "def visualize(h):\n",
        "    z = TSNE(n_components = 2, random_state = 0).fit_transform(h.detach().numpy())\n",
        "    plt.figure(figsize = (6,4),  dpi = 120)\n",
        "    sns.scatterplot(z[:, 0], z[:, 1], hue = Data[\"y\"], palette=sns.color_palette(\"bright\",3)).set(title = \"Gene expression data T-SNE projection after training (GAT)\")"
      ],
      "metadata": {
        "id": "AihvU6E4VbRB"
      },
      "execution_count": null,
      "outputs": []
    },
    {
      "cell_type": "code",
      "source": [
        "model.eval()\n",
        "out = model(Data[\"x\"], Data[\"edge_index\"])\n",
        "visualize(out)"
      ],
      "metadata": {
        "colab": {
          "base_uri": "https://localhost:8080/"
        },
        "id": "cf6qS5FlgVLZ",
        "outputId": "a2505b2d-423c-48e6-9c5b-33725e01c48d"
      },
      "execution_count": null,
      "outputs": [
        {
          "output_type": "stream",
          "name": "stderr",
          "text": [
            "/usr/local/lib/python3.8/dist-packages/sklearn/manifold/_t_sne.py:780: FutureWarning: The default initialization in TSNE will change from 'random' to 'pca' in 1.2.\n",
            "  warnings.warn(\n",
            "/usr/local/lib/python3.8/dist-packages/sklearn/manifold/_t_sne.py:790: FutureWarning: The default learning rate in TSNE will change from 200.0 to 'auto' in 1.2.\n",
            "  warnings.warn(\n",
            "/usr/local/lib/python3.8/dist-packages/seaborn/_decorators.py:36: FutureWarning: Pass the following variables as keyword args: x, y. From version 0.12, the only valid positional argument will be `data`, and passing other arguments without an explicit keyword will result in an error or misinterpretation.\n",
            "  warnings.warn(\n"
          ]
        },
        {
          "output_type": "display_data",
          "data": {
            "text/plain": [
              "<Figure size 720x480 with 1 Axes>"
            ],
            "image/png": "[encoded data removed]"
          },
          "metadata": {
            "needs_background": "light"
          }
        }
      ]
    },
    {
      "cell_type": "markdown",
      "source": [
        "# Confusion matrix."
      ],
      "metadata": {
        "id": "rl8knYKWE53P"
      }
    },
    {
      "cell_type": "code",
      "source": [
        "pred = out.argmax(dim=1)\n",
        "pred"
      ],
      "metadata": {
        "colab": {
          "base_uri": "https://localhost:8080/"
        },
        "id": "aRDeaWAhgWzp",
        "outputId": "caecd585-2e0f-40f8-b177-c109a248b6f6"
      },
      "execution_count": null,
      "outputs": [
        {
          "output_type": "execute_result",
          "data": {
            "text/plain": [
              "tensor([0, 0, 0, 1, 0, 0, 2, 0, 2, 0, 0, 2, 0, 0, 2, 0, 0, 2, 0, 0, 0, 0, 0, 1,\n",
              "        2, 1, 2, 1, 2, 1, 1, 1, 1, 1, 2, 1, 0, 0, 2, 1, 0, 1, 1, 1, 0, 1, 1, 1,\n",
              "        1, 1, 1, 1, 1, 1, 0, 1, 0, 2, 0, 0, 0, 2, 0, 2, 0])"
            ]
          },
          "metadata": {},
          "execution_count": 18
        }
      ]
    },
    {
      "cell_type": "code",
      "source": [
        "pred = pred[Data[\"test_mask\"]] "
      ],
      "metadata": {
        "id": "fTJAUb3FgZqv"
      },
      "execution_count": null,
      "outputs": []
    },
    {
      "cell_type": "code",
      "source": [
        "act = Data[\"y\"][Data[\"test_mask\"]]"
      ],
      "metadata": {
        "id": "yD7XfTDpgcrB"
      },
      "execution_count": null,
      "outputs": []
    },
    {
      "cell_type": "code",
      "source": [
        "data = {'y_Actual':    act,\n",
        "        'y_Predicted':pred\n",
        "        }\n",
        "\n",
        "df = pd.DataFrame(data, columns = ['y_Actual','y_Predicted'])\n",
        "df"
      ],
      "metadata": {
        "colab": {
          "base_uri": "https://localhost:8080/"
        },
        "id": "d5HT5S4cgedQ",
        "outputId": "537a71c5-7474-44f9-9d57-9c6f124415d8"
      },
      "execution_count": null,
      "outputs": [
        {
          "output_type": "execute_result",
          "data": {
            "text/plain": [
              "    y_Actual  y_Predicted\n",
              "0          0            0\n",
              "1          0            1\n",
              "2          0            0\n",
              "3          0            0\n",
              "4          0            0\n",
              "5          1            1\n",
              "6          2            2\n",
              "7          2            1\n",
              "8          2            1\n",
              "9          2            2\n",
              "10         1            1\n",
              "11         1            1\n",
              "12         1            1\n",
              "13         1            1\n",
              "14         2            0"
            ],
            "text/html": [
              "\n",
              "  <div id=\"df-faebc4e9-f7db-4a5e-b8d3-70f94ae64e08\">\n",
              "    <div class=\"colab-df-container\">\n",
              "      <div>\n",
              "<style scoped>\n",
              "    .dataframe tbody tr th:only-of-type {\n",
              "        vertical-align: middle;\n",
              "    }\n",
              "\n",
              "    .dataframe tbody tr th {\n",
              "        vertical-align: top;\n",
              "    }\n",
              "\n",
              "    .dataframe thead th {\n",
              "        text-align: right;\n",
              "    }\n",
              "</style>\n",
              "<table border=\"1\" class=\"dataframe\">\n",
              "  <thead>\n",
              "    <tr style=\"text-align: right;\">\n",
              "      <th></th>\n",
              "      <th>y_Actual</th>\n",
              "      <th>y_Predicted</th>\n",
              "    </tr>\n",
              "  </thead>\n",
              "  <tbody>\n",
              "    <tr>\n",
              "      <th>0</th>\n",
              "      <td>0</td>\n",
              "      <td>0</td>\n",
              "    </tr>\n",
              "    <tr>\n",
              "      <th>1</th>\n",
              "      <td>0</td>\n",
              "      <td>1</td>\n",
              "    </tr>\n",
              "    <tr>\n",
              "      <th>2</th>\n",
              "      <td>0</td>\n",
              "      <td>0</td>\n",
              "    </tr>\n",
              "    <tr>\n",
              "      <th>3</th>\n",
              "      <td>0</td>\n",
              "      <td>0</td>\n",
              "    </tr>\n",
              "    <tr>\n",
              "      <th>4</th>\n",
              "      <td>0</td>\n",
              "      <td>0</td>\n",
              "    </tr>\n",
              "    <tr>\n",
              "      <th>5</th>\n",
              "      <td>1</td>\n",
              "      <td>1</td>\n",
              "    </tr>\n",
              "    <tr>\n",
              "      <th>6</th>\n",
              "      <td>2</td>\n",
              "      <td>2</td>\n",
              "    </tr>\n",
              "    <tr>\n",
              "      <th>7</th>\n",
              "      <td>2</td>\n",
              "      <td>1</td>\n",
              "    </tr>\n",
              "    <tr>\n",
              "      <th>8</th>\n",
              "      <td>2</td>\n",
              "      <td>1</td>\n",
              "    </tr>\n",
              "    <tr>\n",
              "      <th>9</th>\n",
              "      <td>2</td>\n",
              "      <td>2</td>\n",
              "    </tr>\n",
              "    <tr>\n",
              "      <th>10</th>\n",
              "      <td>1</td>\n",
              "      <td>1</td>\n",
              "    </tr>\n",
              "    <tr>\n",
              "      <th>11</th>\n",
              "      <td>1</td>\n",
              "      <td>1</td>\n",
              "    </tr>\n",
              "    <tr>\n",
              "      <th>12</th>\n",
              "      <td>1</td>\n",
              "      <td>1</td>\n",
              "    </tr>\n",
              "    <tr>\n",
              "      <th>13</th>\n",
              "      <td>1</td>\n",
              "      <td>1</td>\n",
              "    </tr>\n",
              "    <tr>\n",
              "      <th>14</th>\n",
              "      <td>2</td>\n",
              "      <td>0</td>\n",
              "    </tr>\n",
              "  </tbody>\n",
              "</table>\n",
              "</div>\n",
              "      <button class=\"colab-df-convert\" onclick=\"convertToInteractive('df-faebc4e9-f7db-4a5e-b8d3-70f94ae64e08')\"\n",
              "              title=\"Convert this dataframe to an interactive table.\"\n",
              "              style=\"display:none;\">\n",
              "        \n",
              "  <svg xmlns=\"http://www.w3.org/2000/svg\" height=\"24px\"viewBox=\"0 0 24 24\"\n",
              "       width=\"24px\">\n",
              "    <path d=\"M0 0h24v24H0V0z\" fill=\"none\"/>\n",
              "    <path d=\"M18.56 5.44l.94 2.06.94-2.06 2.06-.94-2.06-.94-.94-2.06-.94 2.06-2.06.94zm-11 1L8.5 8.5l.94-2.06 2.06-.94-2.06-.94L8.5 2.5l-.94 2.06-2.06.94zm10 10l.94 2.06.94-2.06 2.06-.94-2.06-.94-.94-2.06-.94 2.06-2.06.94z\"/><path d=\"M17.41 7.96l-1.37-1.37c-.4-.4-.92-.59-1.43-.59-.52 0-1.04.2-1.43.59L10.3 9.45l-7.72 7.72c-.78.78-.78 2.05 0 2.83L4 21.41c.39.39.9.59 1.41.59.51 0 1.02-.2 1.41-.59l7.78-7.78 2.81-2.81c.8-.78.8-2.07 0-2.86zM5.41 20L4 18.59l7.72-7.72 1.47 1.35L5.41 20z\"/>\n",
              "  </svg>\n",
              "      </button>\n",
              "      \n",
              "  <style>\n",
              "    .colab-df-container {\n",
              "      display:flex;\n",
              "      flex-wrap:wrap;\n",
              "      gap: 12px;\n",
              "    }\n",
              "\n",
              "    .colab-df-convert {\n",
              "      background-color: #E8F0FE;\n",
              "      border: none;\n",
              "      border-radius: 50%;\n",
              "      cursor: pointer;\n",
              "      display: none;\n",
              "      fill: #1967D2;\n",
              "      height: 32px;\n",
              "      padding: 0 0 0 0;\n",
              "      width: 32px;\n",
              "    }\n",
              "\n",
              "    .colab-df-convert:hover {\n",
              "      background-color: #E2EBFA;\n",
              "      box-shadow: 0px 1px 2px rgba(60, 64, 67, 0.3), 0px 1px 3px 1px rgba(60, 64, 67, 0.15);\n",
              "      fill: #174EA6;\n",
              "    }\n",
              "\n",
              "    [theme=dark] .colab-df-convert {\n",
              "      background-color: #3B4455;\n",
              "      fill: #D2E3FC;\n",
              "    }\n",
              "\n",
              "    [theme=dark] .colab-df-convert:hover {\n",
              "      background-color: #434B5C;\n",
              "      box-shadow: 0px 1px 3px 1px rgba(0, 0, 0, 0.15);\n",
              "      filter: drop-shadow(0px 1px 2px rgba(0, 0, 0, 0.3));\n",
              "      fill: #FFFFFF;\n",
              "    }\n",
              "  </style>\n",
              "\n",
              "      <script>\n",
              "        const buttonEl =\n",
              "          document.querySelector('#df-faebc4e9-f7db-4a5e-b8d3-70f94ae64e08 button.colab-df-convert');\n",
              "        buttonEl.style.display =\n",
              "          google.colab.kernel.accessAllowed ? 'block' : 'none';\n",
              "\n",
              "        async function convertToInteractive(key) {\n",
              "          const element = document.querySelector('#df-faebc4e9-f7db-4a5e-b8d3-70f94ae64e08');\n",
              "          const dataTable =\n",
              "            await google.colab.kernel.invokeFunction('convertToInteractive',\n",
              "                                                     [key], {});\n",
              "          if (!dataTable) return;\n",
              "\n",
              "          const docLinkHtml = 'Like what you see? Visit the ' +\n",
              "            '<a target=\"_blank\" href=https://colab.research.google.com/notebooks/data_table.ipynb>data table notebook</a>'\n",
              "            + ' to learn more about interactive tables.';\n",
              "          element.innerHTML = '';\n",
              "          dataTable['output_type'] = 'display_data';\n",
              "          await google.colab.output.renderOutput(dataTable, element);\n",
              "          const docLink = document.createElement('div');\n",
              "          docLink.innerHTML = docLinkHtml;\n",
              "          element.appendChild(docLink);\n",
              "        }\n",
              "      </script>\n",
              "    </div>\n",
              "  </div>\n",
              "  "
            ]
          },
          "metadata": {},
          "execution_count": 21
        }
      ]
    },
    {
      "cell_type": "code",
      "source": [
        "confusion_matrix = pd.crosstab(data['y_Actual'], data['y_Predicted'], rownames=['Actual'], colnames = ['Predicted'], margins = True)\n",
        "import seaborn as sn\n",
        "sn.heatmap(confusion_matrix, annot=True,  cmap=\"Blues\")\n",
        "ax = plt.axes()\n",
        "ax.set_title('Gene expression, confusion matrix (GAT)')\n",
        "plt.show()"
      ],
      "metadata": {
        "colab": {
          "base_uri": "https://localhost:8080/"
        },
        "id": "-VceLffqVwHE",
        "outputId": "56441f7f-85a9-4eca-e966-7a9f82a2a982"
      },
      "execution_count": null,
      "outputs": [
        {
          "output_type": "stream",
          "name": "stderr",
          "text": [
            "<ipython-input-22-349c15d427d1>:4: MatplotlibDeprecationWarning: Adding an axes using the same arguments as a previous axes currently reuses the earlier instance.  In a future version, a new instance will always be created and returned.  Meanwhile, this warning can be suppressed, and the future behavior ensured, by passing a unique label to each axes instance.\n",
            "  ax = plt.axes()\n"
          ]
        },
        {
          "output_type": "display_data",
          "data": {
            "text/plain": [
              "<Figure size 432x288 with 2 Axes>"
            ],
            "image/png": "[encoded data removed]"
          },
          "metadata": {
            "needs_background": "light"
          }
        }
      ]
    }
  ]
}
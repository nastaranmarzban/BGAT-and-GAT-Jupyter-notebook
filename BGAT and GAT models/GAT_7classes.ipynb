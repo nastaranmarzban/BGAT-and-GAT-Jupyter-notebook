{
  "nbformat": 4,
  "nbformat_minor": 0,
  "metadata": {
    "colab": {
      "provenance": []
    },
    "kernelspec": {
      "name": "python3",
      "display_name": "Python 3"
    },
    "language_info": {
      "name": "python"
    },
    "gpuClass": "standard"
  },
  "cells": [
    {
      "cell_type": "markdown",
      "source": [
        "## Mount to gdrive to read data, adjacency matrix, p_link and labels. "
      ],
      "metadata": {
        "id": "3HWiBHlx-pKr"
      }
    },
    {
      "cell_type": "code",
      "source": [
        "from google.colab import drive\n",
        "drive.mount('/gdrive')"
      ],
      "metadata": {
        "id": "ADszidBn-tIz",
        "outputId": "cfab5188-153b-49c8-8231-844d3e286dca",
        "colab": {
          "base_uri": "https://localhost:8080/"
        }
      },
      "execution_count": null,
      "outputs": [
        {
          "output_type": "stream",
          "name": "stdout",
          "text": [
            "Mounted at /gdrive\n"
          ]
        }
      ]
    },
    {
      "cell_type": "markdown",
      "source": [
        "# Install pandas to read csv files from gdrive. Install torch and numpy which are packages that are needed durind coding."
      ],
      "metadata": {
        "id": "OcfNPtdnFqjs"
      }
    },
    {
      "cell_type": "code",
      "source": [
        "!pip install pandas\n",
        "import pandas as pd\n",
        "import torch\n",
        "import numpy as np"
      ],
      "metadata": {
        "colab": {
          "base_uri": "https://localhost:8080/"
        },
        "id": "fNMYIINrFzbF",
        "outputId": "4ced82bd-9251-41e8-b451-f33d0202e080"
      },
      "execution_count": null,
      "outputs": [
        {
          "output_type": "stream",
          "name": "stdout",
          "text": [
            "Looking in indexes: https://pypi.org/simple, https://us-python.pkg.dev/colab-wheels/public/simple/\n",
            "Requirement already satisfied: pandas in /usr/local/lib/python3.8/dist-packages (1.3.5)\n",
            "Requirement already satisfied: python-dateutil>=2.7.3 in /usr/local/lib/python3.8/dist-packages (from pandas) (2.8.2)\n",
            "Requirement already satisfied: pytz>=2017.3 in /usr/local/lib/python3.8/dist-packages (from pandas) (2022.6)\n",
            "Requirement already satisfied: numpy>=1.17.3 in /usr/local/lib/python3.8/dist-packages (from pandas) (1.21.6)\n",
            "Requirement already satisfied: six>=1.5 in /usr/local/lib/python3.8/dist-packages (from python-dateutil>=2.7.3->pandas) (1.15.0)\n"
          ]
        }
      ]
    },
    {
      "cell_type": "markdown",
      "source": [
        "# Load data which are processed in preprocessing_data_7classes.ipynb file."
      ],
      "metadata": {
        "id": "w3LfNBi6kl0p"
      }
    },
    {
      "cell_type": "code",
      "source": [
        "path = F\"/gdrive/MyDrive/7classes.sim/data_7classes.pt\"\n",
        "Data = torch.load(path)\n",
        "Data"
      ],
      "metadata": {
        "colab": {
          "base_uri": "https://localhost:8080/"
        },
        "id": "DOlJIA8eF139",
        "outputId": "7a148c4e-9916-49e6-edeb-c006d57c04a9"
      },
      "execution_count": null,
      "outputs": [
        {
          "output_type": "execute_result",
          "data": {
            "text/plain": [
              "{'x': tensor([[-0.6680,  0.3545,  0.1382,  ...,  2.1196,  0.2813,  1.3384],\n",
              "         [ 0.0282,  1.6481,  1.9474,  ...,  0.8241,  0.9470,  1.9798],\n",
              "         [-0.4644,  0.5799,  0.0618,  ..., -0.5351, -0.2698,  0.9294],\n",
              "         ...,\n",
              "         [-0.2195, -0.8809,  0.0466,  ..., -0.5610,  2.1045, -0.2778],\n",
              "         [-0.7321,  0.0596,  1.4736,  ...,  0.7870,  0.7216, -1.5205],\n",
              "         [ 1.0196,  0.5744,  0.3943,  ...,  1.7039, -1.3692,  0.6619]]),\n",
              " 'edge_index': tensor([[ 0,  0,  0,  0,  0,  0,  1,  1,  1,  2,  2,  2,  2,  2,  2,  3,  3,  4,\n",
              "           4,  4,  4,  4,  4,  4,  4,  4,  5,  5,  6,  6,  6,  6,  6,  6,  6,  6,\n",
              "           6,  7,  8,  8,  8,  8,  8,  8,  8,  9,  9,  9,  9,  9,  9,  9,  9,  9,\n",
              "           9, 10, 10, 11, 11, 11, 12, 12, 13, 13, 14, 14, 14, 14, 15, 15, 16, 16,\n",
              "          17, 17, 17, 18, 18, 19, 19, 19, 20, 20, 20, 20, 20, 20, 20, 21, 21, 21,\n",
              "          21, 21, 22, 22, 22, 22, 23, 24, 24, 24, 24, 25, 25, 26, 26, 26, 26, 27,\n",
              "          27, 27, 28, 28, 29, 29, 29, 30, 30, 30, 31, 32, 32, 32, 32, 32, 32, 33,\n",
              "          33, 33, 34, 34, 34, 35, 35, 35, 36, 36, 36, 36, 37, 37, 37, 38, 38, 39,\n",
              "          39, 39, 40, 40, 40, 40, 40, 41, 41, 41, 41, 41, 41, 42, 42, 42, 43, 43,\n",
              "          43, 43, 43, 44, 44, 44, 44, 44, 44, 44, 45, 45, 45, 45, 45, 45, 45, 46,\n",
              "          46, 46, 46, 47, 47, 47, 48, 48, 48, 48, 49, 49, 50, 50, 50, 51, 51, 51,\n",
              "          51, 53, 53, 53, 53, 53, 53, 54, 54, 54, 54, 54, 54, 54, 54, 54, 55, 55,\n",
              "          56, 56, 56, 56, 56, 58, 58, 58, 59, 59, 60, 60, 60, 60, 61, 61, 61, 61,\n",
              "          61, 61, 61, 62, 62, 62, 62, 63, 63, 63, 64, 65, 65, 65, 66, 66, 66, 67,\n",
              "          67, 68, 68, 68, 68, 69, 69, 69],\n",
              "         [21, 22, 26, 36, 38, 65, 12, 19, 63,  3,  4, 19, 30, 42, 67,  2, 16,  2,\n",
              "          10, 16, 23, 31, 49, 51, 62, 67, 49, 60,  8,  9, 14, 20, 32, 41, 45, 53,\n",
              "          55, 22,  6,  9, 20, 32, 41, 45, 61,  6,  8, 14, 41, 42, 45, 46, 48, 53,\n",
              "          61,  4, 25, 17, 35, 47,  1, 15, 33, 58,  6,  9, 20, 61, 12, 62,  3,  4,\n",
              "          11, 22, 46, 43, 66,  1,  2, 59,  6,  8, 14, 32, 40, 41, 61,  0, 43, 44,\n",
              "          58, 63,  0,  7, 17, 47,  4, 40, 44, 54, 68, 10, 27,  0, 28, 56, 68, 25,\n",
              "          33, 60, 26, 68, 30, 35, 68,  2, 29, 35,  4,  6,  8, 20, 45, 53, 61, 13,\n",
              "          27, 50, 37, 43, 64, 11, 29, 30,  0, 43, 50, 54, 34, 51, 54,  0, 69, 43,\n",
              "          62, 66, 20, 24, 51, 54, 56,  6,  8,  9, 20, 45, 53,  2,  9, 69, 18, 21,\n",
              "          34, 36, 39, 21, 24, 46, 48, 54, 56, 65,  6,  8,  9, 32, 41, 53, 61,  9,\n",
              "          17, 44, 54, 11, 22, 50,  9, 44, 54, 56,  4,  5, 33, 36, 47,  4, 37, 40,\n",
              "          66,  6,  9, 32, 41, 45, 61, 24, 36, 37, 40, 44, 46, 48, 56, 65,  6, 60,\n",
              "          26, 40, 44, 48, 54, 13, 21, 69, 19, 60,  5, 27, 55, 59,  8,  9, 14, 20,\n",
              "          32, 45, 53,  4, 15, 39, 63,  1, 21, 62, 34,  0, 44, 54, 18, 39, 51,  2,\n",
              "           4, 24, 26, 28, 29, 38, 42, 58]]),\n",
              " 'y': tensor([0, 5, 6, 6, 6, 3, 1, 4, 1, 1, 6, 4, 5, 0, 1, 5, 6, 0, 5, 3, 1, 5, 4, 6,\n",
              "         2, 3, 4, 3, 4, 4, 6, 6, 1, 0, 3, 4, 2, 3, 0, 5, 2, 1, 0, 5, 2, 1, 2, 4,\n",
              "         2, 6, 0, 6, 4, 1, 2, 3, 2, 2, 0, 3, 3, 1, 5, 5, 3, 2, 5, 0, 4, 0]),\n",
              " 'train_mask': tensor([False, False,  True, False,  True, False, False, False, False,  True,\n",
              "         False,  True,  True,  True,  True,  True, False, False,  True, False,\n",
              "         False, False, False,  True, False, False, False, False, False,  True,\n",
              "         False, False,  True, False,  True, False,  True,  True, False, False,\n",
              "          True, False, False, False, False, False, False, False, False, False,\n",
              "         False, False,  True, False,  True, False, False, False,  True,  True,\n",
              "         False, False, False, False, False, False, False,  True, False, False]),\n",
              " 'val_mask': tensor([False, False, False, False, False, False, False, False,  True, False,\n",
              "          True, False, False, False, False, False, False, False, False, False,\n",
              "          True, False, False, False, False,  True, False, False, False, False,\n",
              "         False, False, False,  True, False, False, False, False, False, False,\n",
              "         False, False, False, False, False, False, False, False,  True, False,\n",
              "         False,  True, False, False, False, False, False, False, False, False,\n",
              "         False, False,  True, False, False,  True, False, False,  True, False]),\n",
              " 'test_mask': tensor([ True,  True, False,  True, False,  True,  True,  True, False, False,\n",
              "         False, False, False, False, False, False,  True,  True, False,  True,\n",
              "         False,  True,  True, False,  True, False,  True,  True,  True, False,\n",
              "          True,  True, False, False, False,  True, False, False,  True,  True,\n",
              "         False,  True,  True,  True,  True,  True,  True,  True, False,  True,\n",
              "          True, False, False,  True, False,  True,  True,  True, False, False,\n",
              "          True,  True, False,  True,  True, False,  True, False, False,  True])}"
            ]
          },
          "metadata": {},
          "execution_count": 3
        }
      ]
    },
    {
      "cell_type": "markdown",
      "source": [
        "# Gather some statistics about the graph."
      ],
      "metadata": {
        "id": "c0k8nvVflDnY"
      }
    },
    {
      "cell_type": "code",
      "source": [
        "print(f'Number of nodes: {Data[\"x\"].size(0)}')\n",
        "print(f'Number of features: {Data[\"x\"].size(1)}')\n",
        "print(f'Number of classes: {torch.numel(torch.unique(Data[\"y\"],sorted=True))}')\n",
        "print(f'Number of edges: {Data[\"edge_index\"].size(1)}')\n",
        "print(f'Average node degree: {Data[\"edge_index\"].size(1) / Data[\"x\"].size(0):.2f}')\n",
        "print(f'Number of training nodes: {Data[\"train_mask\"].sum()}')\n",
        "print(f'Number of testing nodes: {Data[\"test_mask\"].sum()}')\n",
        "print(f'Training node label rate: {int(Data[\"train_mask\"].sum()) /  Data[\"x\"].size(0):.2f}')"
      ],
      "metadata": {
        "colab": {
          "base_uri": "https://localhost:8080/"
        },
        "id": "_zcmo9iHuMWs",
        "outputId": "c950ca98-67c8-4c86-adce-40e8a66310fc"
      },
      "execution_count": null,
      "outputs": [
        {
          "output_type": "stream",
          "name": "stdout",
          "text": [
            "Number of nodes: 70\n",
            "Number of features: 500\n",
            "Number of classes: 7\n",
            "Number of edges: 260\n",
            "Average node degree: 3.71\n",
            "Number of training nodes: 21\n",
            "Number of testing nodes: 39\n",
            "Training node label rate: 0.30\n"
          ]
        }
      ]
    },
    {
      "cell_type": "markdown",
      "source": [
        "# Install torch_geometic"
      ],
      "metadata": {
        "id": "ukW4AUUZlNKq"
      }
    },
    {
      "cell_type": "code",
      "source": [
        "import os\n",
        "os.environ['TORCH'] = torch.__version__\n",
        "print(torch.__version__)\n",
        "\n",
        "!pip install -q torch-scatter -f https://data.pyg.org/whl/torch-${TORCH}.html\n",
        "!pip install -q torch-sparse -f https://data.pyg.org/whl/torch-${TORCH}.html\n",
        "!pip install -q git+https://github.com/pyg-team/pytorch_geometric.git"
      ],
      "metadata": {
        "id": "zjGetSUSF87e",
        "colab": {
          "base_uri": "https://localhost:8080/"
        },
        "outputId": "54206301-b4e5-49f7-e79d-44203503d52f"
      },
      "execution_count": null,
      "outputs": [
        {
          "output_type": "stream",
          "name": "stdout",
          "text": [
            "1.13.0+cu116\n",
            "\u001b[K     |████████████████████████████████| 9.4 MB 2.7 MB/s \n",
            "\u001b[K     |████████████████████████████████| 4.6 MB 2.8 MB/s \n",
            "\u001b[K     |████████████████████████████████| 280 kB 4.6 MB/s \n",
            "\u001b[?25h  Building wheel for torch-geometric (setup.py) ... \u001b[?25l\u001b[?25hdone\n"
          ]
        }
      ]
    },
    {
      "cell_type": "code",
      "source": [
        "from torch_geometric.nn import MessagePassing\n",
        "import torch_geometric.nn\n",
        "import torch.nn.functional as F\n",
        "from torch_geometric.nn import GATConv"
      ],
      "metadata": {
        "id": "3QBk-q4pF_Bs"
      },
      "execution_count": null,
      "outputs": []
    },
    {
      "cell_type": "code",
      "source": [
        "class Myconv(torch.nn.Module):\n",
        "    def __init__(self):\n",
        "        super().__init__()\n",
        "        torch.manual_seed(2)\n",
        "        self.conv1 = GATConv(in_channels = 500, out_channels = 50)\n",
        "        self.conv2 =  GATConv(50, 10)\n",
        "        self.conv3 =  GATConv(10, 7)\n",
        "        \n",
        "\n",
        "    def forward(self, x, edge_index):\n",
        "        h = self.conv1(x, edge_index)\n",
        "        h = F.torch.tanh(h)\n",
        "        h = self.conv2(h, edge_index)\n",
        "        h = F.torch.tanh(h)\n",
        "        h = self.conv3(h, edge_index)# Final GNN embedding space.\n",
        "        h = F.log_softmax(h)\n",
        "        return h\n",
        "        \n",
        "\n",
        "model = Myconv()\n",
        "print(model)\n",
        "print(model.forward(Data[\"x\"], Data[\"edge_index\"]))"
      ],
      "metadata": {
        "id": "cCBIcn4CGFNG",
        "colab": {
          "base_uri": "https://localhost:8080/"
        },
        "outputId": "ab97ba38-0b13-427f-eaa0-06354c954756"
      },
      "execution_count": null,
      "outputs": [
        {
          "output_type": "stream",
          "name": "stdout",
          "text": [
            "Myconv(\n",
            "  (conv1): GATConv(500, 50, heads=1)\n",
            "  (conv2): GATConv(50, 10, heads=1)\n",
            "  (conv3): GATConv(10, 7, heads=1)\n",
            ")\n",
            "tensor([[-2.4665, -2.1269, -2.5751, -1.0695, -1.9733, -1.8291, -2.5636],\n",
            "        [-1.8347, -2.6898, -2.3343, -2.1443, -1.2235, -2.2313, -1.8525],\n",
            "        [-1.7384, -2.0836, -2.0600, -1.8335, -1.9923, -1.9708, -1.9902],\n",
            "        [-1.6594, -2.1520, -1.9603, -1.3046, -2.4086, -2.3315, -2.3610],\n",
            "        [-1.9883, -2.0943, -2.3361, -1.6303, -1.9120, -1.7473, -2.0770],\n",
            "        [-1.6118, -2.5256, -2.4606, -1.6407, -1.6896, -1.9180, -2.2097],\n",
            "        [-1.8169, -1.7161, -2.2494, -2.0461, -2.2622, -1.8042, -1.8689],\n",
            "        [-2.1201, -2.3137, -1.9353, -1.6325, -1.7257, -1.7829, -2.3532],\n",
            "        [-1.8635, -1.6950, -2.2745, -2.0713, -2.2583, -1.7564, -1.8630],\n",
            "        [-2.0157, -1.7854, -2.4848, -1.8401, -2.0994, -1.6568, -1.9406],\n",
            "        [-2.0922, -2.0198, -2.5697, -1.3342, -2.1416, -1.8899, -1.9993],\n",
            "        [-1.9327, -2.5701, -2.1212, -1.4091, -1.7320, -1.9227, -2.3935],\n",
            "        [-1.8124, -2.6790, -2.1098, -2.0240, -1.3009, -2.2758, -1.9683],\n",
            "        [-2.0198, -2.0620, -2.1830, -0.8652, -2.9067, -2.4283, -2.7552],\n",
            "        [-1.9365, -1.6719, -2.3347, -1.9693, -2.3006, -1.7046, -1.9006],\n",
            "        [-1.8643, -2.5881, -2.0540, -2.0721, -1.3345, -2.2315, -1.9308],\n",
            "        [-1.7107, -2.1997, -2.0286, -1.2490, -2.3400, -2.3074, -2.3616],\n",
            "        [-2.1736, -2.4114, -2.3668, -1.3821, -1.6953, -1.7753, -2.3154],\n",
            "        [-2.3504, -2.2895, -2.7553, -2.4199, -1.2242, -1.7771, -1.6728],\n",
            "        [-1.7447, -2.5712, -2.3711, -2.1689, -1.3456, -2.1259, -1.8234],\n",
            "        [-1.9896, -1.6576, -2.3036, -1.9400, -2.2829, -1.6958, -1.9406],\n",
            "        [-2.3089, -2.1029, -2.5616, -1.4511, -1.7036, -1.8090, -2.1104],\n",
            "        [-2.1007, -2.3746, -2.1093, -1.3720, -1.7788, -1.8661, -2.4523],\n",
            "        [-2.0091, -2.1212, -2.3243, -1.8695, -1.7496, -1.6989, -1.9861],\n",
            "        [-2.5758, -2.0410, -2.8003, -1.2538, -1.8820, -1.5948, -2.3795],\n",
            "        [-2.0960, -2.0142, -2.6353, -1.0870, -2.3869, -2.0536, -2.1669],\n",
            "        [-2.6472, -1.9433, -2.4022, -1.0501, -2.2237, -1.7744, -2.6930],\n",
            "        [-1.7385, -2.4269, -2.3657, -0.9334, -2.3617, -2.5547, -2.5661],\n",
            "        [-2.7159, -1.8272, -2.0038, -1.0770, -2.4724, -1.8683, -2.8337],\n",
            "        [-2.1875, -2.0447, -2.0271, -1.3076, -2.0941, -1.9781, -2.3572],\n",
            "        [-1.9349, -2.1509, -2.1070, -1.4672, -1.9780, -2.0166, -2.1580],\n",
            "        [-1.8192, -2.3919, -2.2336, -1.4391, -1.8312, -1.9511, -2.3049],\n",
            "        [-1.8391, -1.6511, -2.2180, -2.1549, -2.3222, -1.7849, -1.8415],\n",
            "        [-1.8008, -2.4150, -2.2020, -0.8567, -2.5865, -2.5963, -2.8050],\n",
            "        [-1.9769, -2.3496, -2.4766, -1.9683, -1.3778, -1.8947, -1.9670],\n",
            "        [-1.9956, -2.2521, -2.1381, -1.3695, -1.9356, -1.9842, -2.2544],\n",
            "        [-2.2810, -2.2826, -2.6888, -1.3814, -1.5674, -1.8261, -2.2349],\n",
            "        [-2.2747, -2.1896, -2.7885, -1.5754, -1.6224, -1.6129, -2.1202],\n",
            "        [-2.2618, -2.1471, -2.3548, -0.8548, -2.4705, -2.1336, -2.8868],\n",
            "        [-2.2081, -2.3368, -2.5255, -2.3272, -1.2631, -1.8820, -1.7103],\n",
            "        [-2.4808, -1.9863, -2.8542, -1.3391, -1.9363, -1.5422, -2.2898],\n",
            "        [-1.8304, -1.7323, -2.2750, -2.0458, -2.2255, -1.7772, -1.8735],\n",
            "        [-1.8738, -1.8834, -2.2398, -1.5132, -2.3147, -1.8419, -2.2035],\n",
            "        [-2.3082, -2.2838, -2.6425, -1.9484, -1.2959, -1.8583, -1.8617],\n",
            "        [-2.6306, -2.1421, -3.1513, -1.2352, -1.7637, -1.5692, -2.3293],\n",
            "        [-1.8375, -1.7136, -2.2759, -2.0920, -2.2303, -1.7723, -1.8515],\n",
            "        [-2.3934, -2.2309, -2.9219, -1.3988, -1.6678, -1.6204, -2.1710],\n",
            "        [-1.8809, -2.5905, -2.0589, -1.3639, -1.7556, -1.9861, -2.5349],\n",
            "        [-2.5960, -2.1332, -3.2005, -1.2955, -1.7405, -1.5370, -2.2824],\n",
            "        [-1.7025, -2.4452, -2.4326, -1.6606, -1.7170, -1.8339, -2.1731],\n",
            "        [-1.8733, -2.5343, -2.3153, -1.1367, -1.8448, -2.1874, -2.5612],\n",
            "        [-2.2576, -2.0997, -2.6481, -1.5637, -1.7691, -1.5888, -2.1361],\n",
            "        [-1.8886, -1.7783, -1.5397, -2.1898, -2.5464, -2.7028, -1.5701],\n",
            "        [-1.8413, -1.7225, -2.2858, -2.0803, -2.2165, -1.7677, -1.8549],\n",
            "        [-2.5781, -2.1483, -3.1072, -1.2488, -1.7649, -1.5710, -2.3353],\n",
            "        [-1.6060, -2.0353, -2.1184, -1.8628, -2.0608, -2.0724, -1.9663],\n",
            "        [-2.6911, -2.0680, -3.0383, -1.1908, -1.8701, -1.5573, -2.4186],\n",
            "        [-1.4228, -2.3401, -1.9385, -1.2012, -2.8321, -2.5378, -2.5261],\n",
            "        [-2.2244, -1.9286, -2.3292, -0.9694, -2.6483, -2.0914, -2.5830],\n",
            "        [-1.6731, -2.7065, -2.5033, -2.1306, -1.2765, -2.2016, -1.8621],\n",
            "        [-1.5528, -2.4229, -2.2912, -1.5773, -1.8101, -2.2092, -2.1324],\n",
            "        [-1.8769, -1.6754, -2.3050, -2.0687, -2.2794, -1.7431, -1.8562],\n",
            "        [-1.9717, -2.4645, -2.2138, -2.1068, -1.3552, -2.0710, -1.8273],\n",
            "        [-2.1482, -2.3337, -2.4339, -1.7834, -1.4181, -1.9544, -1.9188],\n",
            "        [-1.6238, -2.5484, -1.8386, -2.2820, -1.4090, -2.4118, -2.0444],\n",
            "        [-2.5824, -2.1687, -3.0767, -1.1985, -1.7529, -1.6356, -2.3620],\n",
            "        [-2.3188, -2.1802, -2.6514, -2.0974, -1.4307, -1.6533, -1.8036],\n",
            "        [-1.8240, -2.1593, -2.0185, -1.8799, -1.8625, -1.8916, -2.0277],\n",
            "        [-2.5827, -1.8873, -2.2024, -1.1038, -2.3074, -1.8207, -2.6682],\n",
            "        [-2.0624, -1.8878, -2.1840, -1.0981, -2.6531, -2.0228, -2.6221]],\n",
            "       grad_fn=<LogSoftmaxBackward0>)\n"
          ]
        },
        {
          "output_type": "stream",
          "name": "stderr",
          "text": [
            "<ipython-input-7-92bb1eef0b9a>:16: UserWarning: Implicit dimension choice for log_softmax has been deprecated. Change the call to include dim=X as an argument.\n",
            "  h = F.log_softmax(h)\n"
          ]
        }
      ]
    },
    {
      "cell_type": "markdown",
      "source": [
        "# We take a look at the node embeddings produced by GAT (before training)."
      ],
      "metadata": {
        "id": "0UtN0yX3Fa9w"
      }
    },
    {
      "cell_type": "code",
      "source": [
        "import matplotlib.pyplot as plt\n",
        "from sklearn.manifold import TSNE\n",
        "import seaborn as sns\n",
        "\n",
        "def visualize(h):\n",
        "    z = TSNE(n_components = 2, random_state = 0).fit_transform(h.detach().numpy())\n",
        "    plt.figure(figsize = (6,4),  dpi = 150)\n",
        "    sns.scatterplot(z[:, 0], z[:, 1], hue = Data[\"y\"], palette=sns.color_palette(\"bright\",7)).set(title = \"Second scenario data T-SNE projection before training (GAT)\")"
      ],
      "metadata": {
        "id": "o7PV6mcyGNVa"
      },
      "execution_count": null,
      "outputs": []
    },
    {
      "cell_type": "code",
      "source": [
        "model = Myconv()\n",
        "h = model(Data[\"x\"], Data[\"edge_index\"])\n",
        "\n",
        "print(f'Embedding shape: {list(h.shape)}')\n",
        "visualize(h)"
      ],
      "metadata": {
        "id": "4gHNJVXQGSFl",
        "colab": {
          "base_uri": "https://localhost:8080/",
          "height": 752
        },
        "outputId": "bbc30070-9dab-4763-b4a3-3da3777a3314"
      },
      "execution_count": null,
      "outputs": [
        {
          "output_type": "stream",
          "name": "stderr",
          "text": [
            "<ipython-input-7-92bb1eef0b9a>:16: UserWarning: Implicit dimension choice for log_softmax has been deprecated. Change the call to include dim=X as an argument.\n",
            "  h = F.log_softmax(h)\n",
            "/usr/local/lib/python3.8/dist-packages/sklearn/manifold/_t_sne.py:780: FutureWarning: The default initialization in TSNE will change from 'random' to 'pca' in 1.2.\n",
            "  warnings.warn(\n",
            "/usr/local/lib/python3.8/dist-packages/sklearn/manifold/_t_sne.py:790: FutureWarning: The default learning rate in TSNE will change from 200.0 to 'auto' in 1.2.\n",
            "  warnings.warn(\n"
          ]
        },
        {
          "output_type": "stream",
          "name": "stdout",
          "text": [
            "Embedding shape: [70, 7]\n"
          ]
        },
        {
          "output_type": "stream",
          "name": "stderr",
          "text": [
            "/usr/local/lib/python3.8/dist-packages/seaborn/_decorators.py:36: FutureWarning: Pass the following variables as keyword args: x, y. From version 0.12, the only valid positional argument will be `data`, and passing other arguments without an explicit keyword will result in an error or misinterpretation.\n",
            "  warnings.warn(\n"
          ]
        },
        {
          "output_type": "display_data",
          "data": {
            "text/plain": [
              "<Figure size 900x600 with 1 Axes>"
            ],
            "image/png": "[encoded data removed]"
          },
          "metadata": {
            "needs_background": "light"
          }
        }
      ]
    },
    {
      "cell_type": "markdown",
      "source": [
        "# Start training the model. "
      ],
      "metadata": {
        "id": "Mpy5roOSFeiM"
      }
    },
    {
      "cell_type": "code",
      "source": [
        "model = Myconv()\n",
        "criterion = torch.nn.CrossEntropyLoss()  # Define loss criterion.\n",
        "optimizer = torch.optim.Adam(model.parameters(),  lr = 0.0005)  # Define optimizer, an object for updating parameters\n",
        "#loss = loss + weight decay parameter * L2 norm of the weights, 1) To prevent overfitting 2) To keep the weights small and avoid exploding gradient\n",
        "\n",
        "def train(Data):\n",
        "    model.train()\n",
        "    optimizer.zero_grad()  # Clear gradients.\n",
        "    out = model(Data[\"x\"], Data[\"edge_index\"])\n",
        "    train_loss = criterion(out[Data[\"train_mask\"]], Data[\"y\"][Data[\"train_mask\"]])  # Compute the loss solely based on the training nodes.\n",
        "    train_loss.backward()  # Derive gradients.\n",
        "    optimizer.step()  # Update parameters based on gradients.\n",
        "    return train_loss\n",
        "\n",
        "\n",
        "def val(Data):\n",
        "      model.eval()\n",
        "      with torch.no_grad():\n",
        "        out = model(Data[\"x\"], Data[\"edge_index\"])\n",
        "        val_loss = criterion(out[Data[\"val_mask\"]], Data[\"y\"][Data[\"val_mask\"]])\n",
        "        #pred = out.argmax(dim=1)\n",
        "        #test_correct = pred[Data[\"val_mask\"]] == Data[\"y\"][Data[\"val_mask\"]]  # Check against ground-truth labels.\n",
        "        #test_acc = int(test_correct.sum()) / int(Data[\"val_mask\"].sum())  # Derive ratio of correct predictions.\n",
        "        return val_loss"
      ],
      "metadata": {
        "id": "NYev_8IASc1G"
      },
      "execution_count": null,
      "outputs": []
    },
    {
      "cell_type": "code",
      "source": [
        "train_loss_ = []\n",
        "val_loss_ = []\n",
        "\n",
        "for epoch in range(1, 101):\n",
        "\n",
        "  epoch_train_loss = []\n",
        "  epoch_val_loss = []\n",
        "  train_loss = train(Data)\n",
        "  val_loss = val(Data)\n",
        "\n",
        "\n",
        "\n",
        "\n",
        "\n",
        "\n",
        "  epoch_train_loss.append(train_loss.item())\n",
        "  epoch_val_loss.append(val_loss.item())\n",
        "\n",
        "\n",
        "\n",
        "\n",
        "  \n",
        "\n",
        "  val_loss_.append(sum(epoch_val_loss)/len(epoch_val_loss))\n",
        "  train_loss_.append(sum(epoch_train_loss)/len(epoch_train_loss))\n",
        "  print(epoch,'Train Loss: %.3f | val Loss: %.3f'%( train_loss,val_loss))"
      ],
      "metadata": {
        "id": "h6aY9b5qSfio",
        "colab": {
          "base_uri": "https://localhost:8080/"
        },
        "outputId": "efc09945-01b2-4c01-aee1-a4844f2f4637"
      },
      "execution_count": null,
      "outputs": [
        {
          "output_type": "stream",
          "name": "stderr",
          "text": [
            "<ipython-input-7-92bb1eef0b9a>:16: UserWarning: Implicit dimension choice for log_softmax has been deprecated. Change the call to include dim=X as an argument.\n",
            "  h = F.log_softmax(h)\n"
          ]
        },
        {
          "output_type": "stream",
          "name": "stdout",
          "text": [
            "1 Train Loss: 2.105 | val Loss: 1.849\n",
            "2 Train Loss: 1.922 | val Loss: 1.664\n",
            "3 Train Loss: 1.786 | val Loss: 1.595\n",
            "4 Train Loss: 1.701 | val Loss: 1.544\n",
            "5 Train Loss: 1.632 | val Loss: 1.500\n",
            "6 Train Loss: 1.566 | val Loss: 1.462\n",
            "7 Train Loss: 1.501 | val Loss: 1.436\n",
            "8 Train Loss: 1.447 | val Loss: 1.415\n",
            "9 Train Loss: 1.397 | val Loss: 1.392\n",
            "10 Train Loss: 1.350 | val Loss: 1.369\n",
            "11 Train Loss: 1.307 | val Loss: 1.349\n",
            "12 Train Loss: 1.264 | val Loss: 1.331\n",
            "13 Train Loss: 1.223 | val Loss: 1.316\n",
            "14 Train Loss: 1.185 | val Loss: 1.303\n",
            "15 Train Loss: 1.151 | val Loss: 1.292\n",
            "16 Train Loss: 1.122 | val Loss: 1.282\n",
            "17 Train Loss: 1.097 | val Loss: 1.274\n",
            "18 Train Loss: 1.074 | val Loss: 1.266\n",
            "19 Train Loss: 1.052 | val Loss: 1.258\n",
            "20 Train Loss: 1.031 | val Loss: 1.248\n",
            "21 Train Loss: 1.010 | val Loss: 1.238\n",
            "22 Train Loss: 0.989 | val Loss: 1.227\n",
            "23 Train Loss: 0.969 | val Loss: 1.215\n",
            "24 Train Loss: 0.949 | val Loss: 1.203\n",
            "25 Train Loss: 0.930 | val Loss: 1.192\n",
            "26 Train Loss: 0.912 | val Loss: 1.183\n",
            "27 Train Loss: 0.895 | val Loss: 1.175\n",
            "28 Train Loss: 0.880 | val Loss: 1.169\n",
            "29 Train Loss: 0.867 | val Loss: 1.163\n",
            "30 Train Loss: 0.855 | val Loss: 1.159\n",
            "31 Train Loss: 0.843 | val Loss: 1.155\n",
            "32 Train Loss: 0.831 | val Loss: 1.154\n",
            "33 Train Loss: 0.819 | val Loss: 1.153\n",
            "34 Train Loss: 0.808 | val Loss: 1.153\n",
            "35 Train Loss: 0.797 | val Loss: 1.155\n",
            "36 Train Loss: 0.787 | val Loss: 1.155\n",
            "37 Train Loss: 0.777 | val Loss: 1.153\n",
            "38 Train Loss: 0.769 | val Loss: 1.150\n",
            "39 Train Loss: 0.760 | val Loss: 1.146\n",
            "40 Train Loss: 0.752 | val Loss: 1.142\n",
            "41 Train Loss: 0.744 | val Loss: 1.137\n",
            "42 Train Loss: 0.737 | val Loss: 1.132\n",
            "43 Train Loss: 0.730 | val Loss: 1.127\n",
            "44 Train Loss: 0.724 | val Loss: 1.122\n",
            "45 Train Loss: 0.718 | val Loss: 1.117\n",
            "46 Train Loss: 0.712 | val Loss: 1.113\n",
            "47 Train Loss: 0.706 | val Loss: 1.109\n",
            "48 Train Loss: 0.700 | val Loss: 1.106\n",
            "49 Train Loss: 0.695 | val Loss: 1.103\n",
            "50 Train Loss: 0.690 | val Loss: 1.101\n",
            "51 Train Loss: 0.685 | val Loss: 1.099\n",
            "52 Train Loss: 0.680 | val Loss: 1.098\n",
            "53 Train Loss: 0.675 | val Loss: 1.096\n",
            "54 Train Loss: 0.670 | val Loss: 1.095\n",
            "55 Train Loss: 0.665 | val Loss: 1.095\n",
            "56 Train Loss: 0.660 | val Loss: 1.095\n",
            "57 Train Loss: 0.656 | val Loss: 1.094\n",
            "58 Train Loss: 0.651 | val Loss: 1.094\n",
            "59 Train Loss: 0.647 | val Loss: 1.094\n",
            "60 Train Loss: 0.643 | val Loss: 1.094\n",
            "61 Train Loss: 0.639 | val Loss: 1.094\n",
            "62 Train Loss: 0.635 | val Loss: 1.094\n",
            "63 Train Loss: 0.631 | val Loss: 1.094\n",
            "64 Train Loss: 0.627 | val Loss: 1.094\n",
            "65 Train Loss: 0.623 | val Loss: 1.094\n",
            "66 Train Loss: 0.619 | val Loss: 1.094\n",
            "67 Train Loss: 0.616 | val Loss: 1.093\n",
            "68 Train Loss: 0.612 | val Loss: 1.093\n",
            "69 Train Loss: 0.608 | val Loss: 1.092\n",
            "70 Train Loss: 0.605 | val Loss: 1.092\n",
            "71 Train Loss: 0.601 | val Loss: 1.091\n",
            "72 Train Loss: 0.598 | val Loss: 1.090\n",
            "73 Train Loss: 0.594 | val Loss: 1.089\n",
            "74 Train Loss: 0.591 | val Loss: 1.088\n",
            "75 Train Loss: 0.588 | val Loss: 1.086\n",
            "76 Train Loss: 0.585 | val Loss: 1.085\n",
            "77 Train Loss: 0.581 | val Loss: 1.083\n",
            "78 Train Loss: 0.578 | val Loss: 1.081\n",
            "79 Train Loss: 0.575 | val Loss: 1.079\n",
            "80 Train Loss: 0.572 | val Loss: 1.078\n",
            "81 Train Loss: 0.569 | val Loss: 1.077\n",
            "82 Train Loss: 0.566 | val Loss: 1.076\n",
            "83 Train Loss: 0.563 | val Loss: 1.075\n",
            "84 Train Loss: 0.559 | val Loss: 1.074\n",
            "85 Train Loss: 0.557 | val Loss: 1.073\n",
            "86 Train Loss: 0.554 | val Loss: 1.072\n",
            "87 Train Loss: 0.551 | val Loss: 1.071\n",
            "88 Train Loss: 0.548 | val Loss: 1.069\n",
            "89 Train Loss: 0.545 | val Loss: 1.067\n",
            "90 Train Loss: 0.542 | val Loss: 1.065\n",
            "91 Train Loss: 0.539 | val Loss: 1.064\n",
            "92 Train Loss: 0.536 | val Loss: 1.062\n",
            "93 Train Loss: 0.534 | val Loss: 1.061\n",
            "94 Train Loss: 0.531 | val Loss: 1.060\n",
            "95 Train Loss: 0.528 | val Loss: 1.058\n",
            "96 Train Loss: 0.526 | val Loss: 1.057\n",
            "97 Train Loss: 0.523 | val Loss: 1.056\n",
            "98 Train Loss: 0.520 | val Loss: 1.055\n",
            "99 Train Loss: 0.518 | val Loss: 1.054\n",
            "100 Train Loss: 0.515 | val Loss: 1.053\n"
          ]
        }
      ]
    },
    {
      "cell_type": "markdown",
      "source": [
        "# Visualize train loss and val loss."
      ],
      "metadata": {
        "id": "POTYN5TuFiQB"
      }
    },
    {
      "cell_type": "code",
      "source": [
        "plt.plot(train_loss_, \"c\", linewidth = 3)\n",
        "plt.plot(val_loss_, \"k\", linewidth = 3)\n",
        "plt.xlabel('epoch')\n",
        "plt.ylabel('loss')\n",
        "plt.legend(['Train','Val'])\n",
        "plt.title('Train vs Val Loss for the second scenario (GAT)')\n",
        "plt.grid()\n",
        "plt.show()"
      ],
      "metadata": {
        "id": "TUTOgWmlSheU",
        "colab": {
          "base_uri": "https://localhost:8080/",
          "height": 295
        },
        "outputId": "7711e79a-0ea5-499e-bdab-e055e47d4f48"
      },
      "execution_count": null,
      "outputs": [
        {
          "output_type": "display_data",
          "data": {
            "text/plain": [
              "<Figure size 432x288 with 1 Axes>"
            ],
            "image/png": "[encoded data removed]"
          },
          "metadata": {
            "needs_background": "light"
          }
        }
      ]
    },
    {
      "cell_type": "markdown",
      "source": [
        "# Compute the accuracy of the model."
      ],
      "metadata": {
        "id": "8mPzoTnZFlKI"
      }
    },
    {
      "cell_type": "code",
      "source": [
        "def test(Data):\n",
        "      model.eval()\n",
        "      with torch.no_grad():\n",
        "        out= model(Data[\"x\"], Data[\"edge_index\"])\n",
        "        pred = out.argmax(dim=1)\n",
        "        test_correct = pred[Data[\"test_mask\"]] == Data[\"y\"][Data[\"test_mask\"]]  # Check against ground-truth labels.\n",
        "        test_acc = int(test_correct.sum()) / int(Data[\"test_mask\"].sum())  # Derive ratio of correct predictions.\n",
        "        return test_acc"
      ],
      "metadata": {
        "id": "Q7z9HWosZyRL"
      },
      "execution_count": null,
      "outputs": []
    },
    {
      "cell_type": "code",
      "source": [
        "test_acc = test(Data)\n",
        "print(f'Test Accuracy: {100*test_acc:.2f}')"
      ],
      "metadata": {
        "id": "61lJyPPkSlaS",
        "colab": {
          "base_uri": "https://localhost:8080/"
        },
        "outputId": "188d5ea5-2a1f-435e-e360-a9915f3836f2"
      },
      "execution_count": null,
      "outputs": [
        {
          "output_type": "stream",
          "name": "stdout",
          "text": [
            "Test Accuracy: 74.36\n"
          ]
        },
        {
          "output_type": "stream",
          "name": "stderr",
          "text": [
            "<ipython-input-7-92bb1eef0b9a>:16: UserWarning: Implicit dimension choice for log_softmax has been deprecated. Change the call to include dim=X as an argument.\n",
            "  h = F.log_softmax(h)\n"
          ]
        }
      ]
    },
    {
      "cell_type": "markdown",
      "source": [
        "# We take a look at the node embeddings produced by GAT (after training)."
      ],
      "metadata": {
        "id": "It9pH2kzFn4B"
      }
    },
    {
      "cell_type": "code",
      "source": [
        "import matplotlib.pyplot as plt\n",
        "from sklearn.manifold import TSNE\n",
        "import seaborn as sns\n",
        "\n",
        "def visualize(h):\n",
        "    z = TSNE(n_components = 2, random_state = 0).fit_transform(h.detach().numpy())\n",
        "    plt.figure(figsize = (6,4),  dpi = 150)\n",
        "    sns.scatterplot(z[:, 0], z[:, 1], hue = Data[\"y\"], palette=sns.color_palette(\"bright\",7)).set(title = \"Second scenario data T-SNE projection after training (GAT)\")"
      ],
      "metadata": {
        "id": "wnFlaOKxC5uz"
      },
      "execution_count": null,
      "outputs": []
    },
    {
      "cell_type": "code",
      "source": [
        "model.eval()\n",
        "out = model(Data[\"x\"], Data[\"edge_index\"])\n",
        "visualize(out)"
      ],
      "metadata": {
        "id": "DJw0xX9ASocW",
        "colab": {
          "base_uri": "https://localhost:8080/",
          "height": 734
        },
        "outputId": "c78d65ef-f0a4-4821-ccbe-a53a320b7222"
      },
      "execution_count": null,
      "outputs": [
        {
          "output_type": "stream",
          "name": "stderr",
          "text": [
            "<ipython-input-7-92bb1eef0b9a>:16: UserWarning: Implicit dimension choice for log_softmax has been deprecated. Change the call to include dim=X as an argument.\n",
            "  h = F.log_softmax(h)\n",
            "/usr/local/lib/python3.8/dist-packages/sklearn/manifold/_t_sne.py:780: FutureWarning: The default initialization in TSNE will change from 'random' to 'pca' in 1.2.\n",
            "  warnings.warn(\n",
            "/usr/local/lib/python3.8/dist-packages/sklearn/manifold/_t_sne.py:790: FutureWarning: The default learning rate in TSNE will change from 200.0 to 'auto' in 1.2.\n",
            "  warnings.warn(\n",
            "/usr/local/lib/python3.8/dist-packages/seaborn/_decorators.py:36: FutureWarning: Pass the following variables as keyword args: x, y. From version 0.12, the only valid positional argument will be `data`, and passing other arguments without an explicit keyword will result in an error or misinterpretation.\n",
            "  warnings.warn(\n"
          ]
        },
        {
          "output_type": "display_data",
          "data": {
            "text/plain": [
              "<Figure size 900x600 with 1 Axes>"
            ],
            "image/png": "[encoded data removed]"
          },
          "metadata": {
            "needs_background": "light"
          }
        }
      ]
    },
    {
      "cell_type": "markdown",
      "source": [
        "# Confusion matrix."
      ],
      "metadata": {
        "id": "hm_ypt9wFrQy"
      }
    },
    {
      "cell_type": "code",
      "source": [
        "pred = out.argmax(dim=1)\n",
        "pred"
      ],
      "metadata": {
        "id": "VVz9OSUrZ3XG",
        "colab": {
          "base_uri": "https://localhost:8080/"
        },
        "outputId": "de293eec-7666-48a5-adf8-6fcafff8fd2d"
      },
      "execution_count": null,
      "outputs": [
        {
          "output_type": "execute_result",
          "data": {
            "text/plain": [
              "tensor([2, 5, 6, 6, 6, 6, 1, 4, 1, 1, 6, 4, 5, 0, 1, 5, 6, 4, 5, 5, 1, 5, 4, 6,\n",
              "        2, 0, 2, 3, 2, 4, 4, 6, 1, 0, 3, 4, 2, 3, 0, 5, 2, 1, 0, 5, 2, 1, 2, 4,\n",
              "        2, 6, 4, 5, 4, 1, 2, 1, 2, 0, 0, 3, 3, 1, 5, 5, 3, 2, 5, 6, 2, 0])"
            ]
          },
          "metadata": {},
          "execution_count": 17
        }
      ]
    },
    {
      "cell_type": "code",
      "source": [
        "pred = pred[Data[\"test_mask\"]] "
      ],
      "metadata": {
        "id": "TpNOLdw6Z5Sv"
      },
      "execution_count": null,
      "outputs": []
    },
    {
      "cell_type": "code",
      "source": [
        "act = Data[\"y\"][Data[\"test_mask\"]]"
      ],
      "metadata": {
        "id": "_bTovt5oZ664"
      },
      "execution_count": null,
      "outputs": []
    },
    {
      "cell_type": "code",
      "source": [
        "data = {'y_Actual':    act,\n",
        "        'y_Predicted':pred\n",
        "        }\n",
        "\n",
        "df = pd.DataFrame(data, columns = ['y_Actual','y_Predicted'])\n",
        "df"
      ],
      "metadata": {
        "id": "Yo1f0FKNZ9DN",
        "colab": {
          "base_uri": "https://localhost:8080/",
          "height": 1000
        },
        "outputId": "05c24e83-5201-4786-a769-62f116937a8d"
      },
      "execution_count": null,
      "outputs": [
        {
          "output_type": "execute_result",
          "data": {
            "text/plain": [
              "    y_Actual  y_Predicted\n",
              "0          0            2\n",
              "1          5            5\n",
              "2          6            6\n",
              "3          3            6\n",
              "4          1            1\n",
              "5          4            4\n",
              "6          6            6\n",
              "7          0            4\n",
              "8          3            5\n",
              "9          5            5\n",
              "10         4            4\n",
              "11         2            2\n",
              "12         4            2\n",
              "13         3            3\n",
              "14         4            2\n",
              "15         6            4\n",
              "16         6            6\n",
              "17         4            4\n",
              "18         0            0\n",
              "19         5            5\n",
              "20         1            1\n",
              "21         0            0\n",
              "22         5            5\n",
              "23         2            2\n",
              "24         1            1\n",
              "25         2            2\n",
              "26         4            4\n",
              "27         6            6\n",
              "28         0            4\n",
              "29         1            1\n",
              "30         3            1\n",
              "31         2            2\n",
              "32         2            0\n",
              "33         3            3\n",
              "34         1            1\n",
              "35         5            5\n",
              "36         3            3\n",
              "37         5            5\n",
              "38         0            0"
            ],
            "text/html": [
              "\n",
              "  <div id=\"df-0f526881-8e97-4416-bbdd-c92ee41ec35c\">\n",
              "    <div class=\"colab-df-container\">\n",
              "      <div>\n",
              "<style scoped>\n",
              "    .dataframe tbody tr th:only-of-type {\n",
              "        vertical-align: middle;\n",
              "    }\n",
              "\n",
              "    .dataframe tbody tr th {\n",
              "        vertical-align: top;\n",
              "    }\n",
              "\n",
              "    .dataframe thead th {\n",
              "        text-align: right;\n",
              "    }\n",
              "</style>\n",
              "<table border=\"1\" class=\"dataframe\">\n",
              "  <thead>\n",
              "    <tr style=\"text-align: right;\">\n",
              "      <th></th>\n",
              "      <th>y_Actual</th>\n",
              "      <th>y_Predicted</th>\n",
              "    </tr>\n",
              "  </thead>\n",
              "  <tbody>\n",
              "    <tr>\n",
              "      <th>0</th>\n",
              "      <td>0</td>\n",
              "      <td>2</td>\n",
              "    </tr>\n",
              "    <tr>\n",
              "      <th>1</th>\n",
              "      <td>5</td>\n",
              "      <td>5</td>\n",
              "    </tr>\n",
              "    <tr>\n",
              "      <th>2</th>\n",
              "      <td>6</td>\n",
              "      <td>6</td>\n",
              "    </tr>\n",
              "    <tr>\n",
              "      <th>3</th>\n",
              "      <td>3</td>\n",
              "      <td>6</td>\n",
              "    </tr>\n",
              "    <tr>\n",
              "      <th>4</th>\n",
              "      <td>1</td>\n",
              "      <td>1</td>\n",
              "    </tr>\n",
              "    <tr>\n",
              "      <th>5</th>\n",
              "      <td>4</td>\n",
              "      <td>4</td>\n",
              "    </tr>\n",
              "    <tr>\n",
              "      <th>6</th>\n",
              "      <td>6</td>\n",
              "      <td>6</td>\n",
              "    </tr>\n",
              "    <tr>\n",
              "      <th>7</th>\n",
              "      <td>0</td>\n",
              "      <td>4</td>\n",
              "    </tr>\n",
              "    <tr>\n",
              "      <th>8</th>\n",
              "      <td>3</td>\n",
              "      <td>5</td>\n",
              "    </tr>\n",
              "    <tr>\n",
              "      <th>9</th>\n",
              "      <td>5</td>\n",
              "      <td>5</td>\n",
              "    </tr>\n",
              "    <tr>\n",
              "      <th>10</th>\n",
              "      <td>4</td>\n",
              "      <td>4</td>\n",
              "    </tr>\n",
              "    <tr>\n",
              "      <th>11</th>\n",
              "      <td>2</td>\n",
              "      <td>2</td>\n",
              "    </tr>\n",
              "    <tr>\n",
              "      <th>12</th>\n",
              "      <td>4</td>\n",
              "      <td>2</td>\n",
              "    </tr>\n",
              "    <tr>\n",
              "      <th>13</th>\n",
              "      <td>3</td>\n",
              "      <td>3</td>\n",
              "    </tr>\n",
              "    <tr>\n",
              "      <th>14</th>\n",
              "      <td>4</td>\n",
              "      <td>2</td>\n",
              "    </tr>\n",
              "    <tr>\n",
              "      <th>15</th>\n",
              "      <td>6</td>\n",
              "      <td>4</td>\n",
              "    </tr>\n",
              "    <tr>\n",
              "      <th>16</th>\n",
              "      <td>6</td>\n",
              "      <td>6</td>\n",
              "    </tr>\n",
              "    <tr>\n",
              "      <th>17</th>\n",
              "      <td>4</td>\n",
              "      <td>4</td>\n",
              "    </tr>\n",
              "    <tr>\n",
              "      <th>18</th>\n",
              "      <td>0</td>\n",
              "      <td>0</td>\n",
              "    </tr>\n",
              "    <tr>\n",
              "      <th>19</th>\n",
              "      <td>5</td>\n",
              "      <td>5</td>\n",
              "    </tr>\n",
              "    <tr>\n",
              "      <th>20</th>\n",
              "      <td>1</td>\n",
              "      <td>1</td>\n",
              "    </tr>\n",
              "    <tr>\n",
              "      <th>21</th>\n",
              "      <td>0</td>\n",
              "      <td>0</td>\n",
              "    </tr>\n",
              "    <tr>\n",
              "      <th>22</th>\n",
              "      <td>5</td>\n",
              "      <td>5</td>\n",
              "    </tr>\n",
              "    <tr>\n",
              "      <th>23</th>\n",
              "      <td>2</td>\n",
              "      <td>2</td>\n",
              "    </tr>\n",
              "    <tr>\n",
              "      <th>24</th>\n",
              "      <td>1</td>\n",
              "      <td>1</td>\n",
              "    </tr>\n",
              "    <tr>\n",
              "      <th>25</th>\n",
              "      <td>2</td>\n",
              "      <td>2</td>\n",
              "    </tr>\n",
              "    <tr>\n",
              "      <th>26</th>\n",
              "      <td>4</td>\n",
              "      <td>4</td>\n",
              "    </tr>\n",
              "    <tr>\n",
              "      <th>27</th>\n",
              "      <td>6</td>\n",
              "      <td>6</td>\n",
              "    </tr>\n",
              "    <tr>\n",
              "      <th>28</th>\n",
              "      <td>0</td>\n",
              "      <td>4</td>\n",
              "    </tr>\n",
              "    <tr>\n",
              "      <th>29</th>\n",
              "      <td>1</td>\n",
              "      <td>1</td>\n",
              "    </tr>\n",
              "    <tr>\n",
              "      <th>30</th>\n",
              "      <td>3</td>\n",
              "      <td>1</td>\n",
              "    </tr>\n",
              "    <tr>\n",
              "      <th>31</th>\n",
              "      <td>2</td>\n",
              "      <td>2</td>\n",
              "    </tr>\n",
              "    <tr>\n",
              "      <th>32</th>\n",
              "      <td>2</td>\n",
              "      <td>0</td>\n",
              "    </tr>\n",
              "    <tr>\n",
              "      <th>33</th>\n",
              "      <td>3</td>\n",
              "      <td>3</td>\n",
              "    </tr>\n",
              "    <tr>\n",
              "      <th>34</th>\n",
              "      <td>1</td>\n",
              "      <td>1</td>\n",
              "    </tr>\n",
              "    <tr>\n",
              "      <th>35</th>\n",
              "      <td>5</td>\n",
              "      <td>5</td>\n",
              "    </tr>\n",
              "    <tr>\n",
              "      <th>36</th>\n",
              "      <td>3</td>\n",
              "      <td>3</td>\n",
              "    </tr>\n",
              "    <tr>\n",
              "      <th>37</th>\n",
              "      <td>5</td>\n",
              "      <td>5</td>\n",
              "    </tr>\n",
              "    <tr>\n",
              "      <th>38</th>\n",
              "      <td>0</td>\n",
              "      <td>0</td>\n",
              "    </tr>\n",
              "  </tbody>\n",
              "</table>\n",
              "</div>\n",
              "      <button class=\"colab-df-convert\" onclick=\"convertToInteractive('df-0f526881-8e97-4416-bbdd-c92ee41ec35c')\"\n",
              "              title=\"Convert this dataframe to an interactive table.\"\n",
              "              style=\"display:none;\">\n",
              "        \n",
              "  <svg xmlns=\"http://www.w3.org/2000/svg\" height=\"24px\"viewBox=\"0 0 24 24\"\n",
              "       width=\"24px\">\n",
              "    <path d=\"M0 0h24v24H0V0z\" fill=\"none\"/>\n",
              "    <path d=\"M18.56 5.44l.94 2.06.94-2.06 2.06-.94-2.06-.94-.94-2.06-.94 2.06-2.06.94zm-11 1L8.5 8.5l.94-2.06 2.06-.94-2.06-.94L8.5 2.5l-.94 2.06-2.06.94zm10 10l.94 2.06.94-2.06 2.06-.94-2.06-.94-.94-2.06-.94 2.06-2.06.94z\"/><path d=\"M17.41 7.96l-1.37-1.37c-.4-.4-.92-.59-1.43-.59-.52 0-1.04.2-1.43.59L10.3 9.45l-7.72 7.72c-.78.78-.78 2.05 0 2.83L4 21.41c.39.39.9.59 1.41.59.51 0 1.02-.2 1.41-.59l7.78-7.78 2.81-2.81c.8-.78.8-2.07 0-2.86zM5.41 20L4 18.59l7.72-7.72 1.47 1.35L5.41 20z\"/>\n",
              "  </svg>\n",
              "      </button>\n",
              "      \n",
              "  <style>\n",
              "    .colab-df-container {\n",
              "      display:flex;\n",
              "      flex-wrap:wrap;\n",
              "      gap: 12px;\n",
              "    }\n",
              "\n",
              "    .colab-df-convert {\n",
              "      background-color: #E8F0FE;\n",
              "      border: none;\n",
              "      border-radius: 50%;\n",
              "      cursor: pointer;\n",
              "      display: none;\n",
              "      fill: #1967D2;\n",
              "      height: 32px;\n",
              "      padding: 0 0 0 0;\n",
              "      width: 32px;\n",
              "    }\n",
              "\n",
              "    .colab-df-convert:hover {\n",
              "      background-color: #E2EBFA;\n",
              "      box-shadow: 0px 1px 2px rgba(60, 64, 67, 0.3), 0px 1px 3px 1px rgba(60, 64, 67, 0.15);\n",
              "      fill: #174EA6;\n",
              "    }\n",
              "\n",
              "    [theme=dark] .colab-df-convert {\n",
              "      background-color: #3B4455;\n",
              "      fill: #D2E3FC;\n",
              "    }\n",
              "\n",
              "    [theme=dark] .colab-df-convert:hover {\n",
              "      background-color: #434B5C;\n",
              "      box-shadow: 0px 1px 3px 1px rgba(0, 0, 0, 0.15);\n",
              "      filter: drop-shadow(0px 1px 2px rgba(0, 0, 0, 0.3));\n",
              "      fill: #FFFFFF;\n",
              "    }\n",
              "  </style>\n",
              "\n",
              "      <script>\n",
              "        const buttonEl =\n",
              "          document.querySelector('#df-0f526881-8e97-4416-bbdd-c92ee41ec35c button.colab-df-convert');\n",
              "        buttonEl.style.display =\n",
              "          google.colab.kernel.accessAllowed ? 'block' : 'none';\n",
              "\n",
              "        async function convertToInteractive(key) {\n",
              "          const element = document.querySelector('#df-0f526881-8e97-4416-bbdd-c92ee41ec35c');\n",
              "          const dataTable =\n",
              "            await google.colab.kernel.invokeFunction('convertToInteractive',\n",
              "                                                     [key], {});\n",
              "          if (!dataTable) return;\n",
              "\n",
              "          const docLinkHtml = 'Like what you see? Visit the ' +\n",
              "            '<a target=\"_blank\" href=https://colab.research.google.com/notebooks/data_table.ipynb>data table notebook</a>'\n",
              "            + ' to learn more about interactive tables.';\n",
              "          element.innerHTML = '';\n",
              "          dataTable['output_type'] = 'display_data';\n",
              "          await google.colab.output.renderOutput(dataTable, element);\n",
              "          const docLink = document.createElement('div');\n",
              "          docLink.innerHTML = docLinkHtml;\n",
              "          element.appendChild(docLink);\n",
              "        }\n",
              "      </script>\n",
              "    </div>\n",
              "  </div>\n",
              "  "
            ]
          },
          "metadata": {},
          "execution_count": 20
        }
      ]
    },
    {
      "cell_type": "code",
      "source": [
        "confusion_matrix = pd.crosstab(data['y_Actual'], data['y_Predicted'], rownames=['Actual'], colnames = ['Predicted'], margins = True)\n",
        "import seaborn as sn\n",
        "sn.heatmap(confusion_matrix, annot=True,  cmap=\"Blues\")\n",
        "ax = plt.axes()\n",
        "ax.set_title('Second scenario, confusion matrix (GAT)')\n",
        "plt.show()"
      ],
      "metadata": {
        "id": "9Q7E41dBZ_GM",
        "colab": {
          "base_uri": "https://localhost:8080/",
          "height": 352
        },
        "outputId": "35ca63dc-c57a-4c5d-9423-872ce42ce261"
      },
      "execution_count": null,
      "outputs": [
        {
          "output_type": "stream",
          "name": "stderr",
          "text": [
            "<ipython-input-21-e98e59ef199f>:4: MatplotlibDeprecationWarning: Adding an axes using the same arguments as a previous axes currently reuses the earlier instance.  In a future version, a new instance will always be created and returned.  Meanwhile, this warning can be suppressed, and the future behavior ensured, by passing a unique label to each axes instance.\n",
            "  ax = plt.axes()\n"
          ]
        },
        {
          "output_type": "display_data",
          "data": {
            "text/plain": [
              "<Figure size 432x288 with 2 Axes>"
            ],
            "image/png": "[encoded data removed]"
          },
          "metadata": {
            "needs_background": "light"
          }
        }
      ]
    }
  ]
}
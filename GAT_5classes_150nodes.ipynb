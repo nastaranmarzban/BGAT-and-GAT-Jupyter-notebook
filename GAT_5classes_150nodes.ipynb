{
  "cells": [
    {
      "cell_type": "markdown",
      "metadata": {
        "id": "view-in-github",
        "colab_type": "text"
      },
      "source": [
        "<a href=\"https://colab.research.google.com/github/nastaranmarzban/BGAT-and-GAT-Jupyter-notebook/blob/main/GAT_5classes_150nodes.ipynb\" target=\"_parent\"><img src=\"https://colab.research.google.com/assets/colab-badge.svg\" alt=\"Open In Colab\"/></a>"
      ]
    },
    {
      "cell_type": "markdown",
      "metadata": {
        "id": "jrGEPUR9kI6e"
      },
      "source": [
        "## Mount to gdrive to read data, adjacency matrix, p_link and labels."
      ]
    },
    {
      "cell_type": "code",
      "execution_count": null,
      "metadata": {
        "id": "SpKfUqA-M-Eu",
        "colab": {
          "base_uri": "https://localhost:8080/"
        },
        "outputId": "6a803320-950c-44ba-ea51-bcf5cdcf64db"
      },
      "outputs": [
        {
          "output_type": "stream",
          "name": "stdout",
          "text": [
            "Mounted at /gdrive\n"
          ]
        }
      ],
      "source": [
        "from google.colab import drive\n",
        "drive.mount('/gdrive')"
      ]
    },
    {
      "cell_type": "markdown",
      "metadata": {
        "id": "GzLZuKFOkNgR"
      },
      "source": [
        "# Install pandas to read csv files from gdrive. Install torch and numpy which are packages that are needed durind coding."
      ]
    },
    {
      "cell_type": "code",
      "execution_count": null,
      "metadata": {
        "id": "CH2w3eLcUcR3",
        "colab": {
          "base_uri": "https://localhost:8080/"
        },
        "outputId": "7949b8c7-8470-403b-e119-e9a11730ae3f"
      },
      "outputs": [
        {
          "output_type": "stream",
          "name": "stdout",
          "text": [
            "Requirement already satisfied: pandas in /usr/local/lib/python3.10/dist-packages (1.5.3)\n",
            "Requirement already satisfied: python-dateutil>=2.8.1 in /usr/local/lib/python3.10/dist-packages (from pandas) (2.8.2)\n",
            "Requirement already satisfied: pytz>=2020.1 in /usr/local/lib/python3.10/dist-packages (from pandas) (2023.4)\n",
            "Requirement already satisfied: numpy>=1.21.0 in /usr/local/lib/python3.10/dist-packages (from pandas) (1.23.5)\n",
            "Requirement already satisfied: six>=1.5 in /usr/local/lib/python3.10/dist-packages (from python-dateutil>=2.8.1->pandas) (1.16.0)\n"
          ]
        }
      ],
      "source": [
        "!pip install pandas\n",
        "import pandas as pd\n",
        "import torch\n",
        "import numpy as np"
      ]
    },
    {
      "cell_type": "markdown",
      "metadata": {
        "id": "hBnsNCxokoFR"
      },
      "source": [
        "# Load data which are processed in preprocessing data_5classdes_150nodes.ipynb file."
      ]
    },
    {
      "cell_type": "code",
      "execution_count": null,
      "metadata": {
        "id": "h0XyRAHbUeJT",
        "colab": {
          "base_uri": "https://localhost:8080/"
        },
        "outputId": "ace80a6d-46d7-46fa-8dbc-50987159f05d"
      },
      "outputs": [
        {
          "output_type": "execute_result",
          "data": {
            "text/plain": [
              "{'x': tensor([[-1.1996, -0.5363, -1.0551,  ...,  1.0784, -0.1099,  0.6258],\n",
              "         [ 1.9717,  1.5424,  1.0104,  ..., -0.6536,  2.3499, -0.1438],\n",
              "         [-0.3870,  0.3711, -1.0519,  ..., -0.6554,  2.1013, -0.8379],\n",
              "         ...,\n",
              "         [-1.4236, -1.3652, -1.1248,  ..., -1.0004,  0.0174,  1.6165],\n",
              "         [-0.5597, -2.0122,  0.3641,  ...,  0.2956, -0.0478, -0.5333],\n",
              "         [ 0.5681, -0.7714,  0.7749,  ..., -0.5489, -1.6281,  1.2040]]),\n",
              " 'edge_index': tensor([[  0,   0,   0,  ..., 149, 149, 149],\n",
              "         [ 21,  57,  97,  ..., 109, 128, 141]]),\n",
              " 'y': tensor([2, 1, 3, 4, 4, 1, 0, 4, 4, 2, 4, 3, 1, 0, 2, 4, 2, 1, 3, 0, 0, 1, 2, 1,\n",
              "         1, 2, 3, 0, 2, 4, 2, 1, 0, 0, 0, 3, 0, 0, 1, 1, 3, 0, 0, 1, 1, 4, 4, 1,\n",
              "         3, 4, 0, 4, 3, 3, 3, 3, 4, 2, 2, 2, 4, 4, 3, 2, 1, 3, 3, 0, 3, 0, 4, 4,\n",
              "         0, 0, 1, 2, 4, 1, 0, 4, 1, 3, 2, 0, 0, 4, 1, 3, 0, 4, 2, 2, 3, 2, 4, 3,\n",
              "         3, 2, 1, 4, 4, 2, 4, 2, 0, 0, 4, 2, 3, 0, 0, 3, 1, 4, 3, 1, 1, 1, 1, 3,\n",
              "         2, 1, 2, 4, 1, 0, 1, 3, 0, 2, 1, 3, 3, 2, 2, 4, 3, 4, 2, 3, 0, 0, 2, 3,\n",
              "         1, 1, 2, 2, 4, 0]),\n",
              " 'train_mask': tensor([ True, False,  True,  True,  True,  True, False,  True, False,  True,\n",
              "          True, False,  True,  True,  True,  True,  True,  True,  True,  True,\n",
              "         False,  True,  True,  True,  True, False,  True,  True, False,  True,\n",
              "          True,  True,  True,  True,  True, False,  True,  True,  True,  True,\n",
              "          True,  True,  True,  True, False, False,  True,  True,  True,  True,\n",
              "         False,  True,  True,  True,  True,  True,  True, False,  True,  True,\n",
              "          True, False,  True,  True,  True,  True,  True,  True,  True,  True,\n",
              "          True,  True, False,  True,  True,  True, False, False,  True,  True,\n",
              "          True, False,  True, False,  True,  True,  True,  True,  True,  True,\n",
              "          True,  True, False,  True,  True,  True,  True,  True,  True,  True,\n",
              "          True,  True,  True,  True, False,  True,  True, False, False,  True,\n",
              "          True, False,  True, False,  True, False,  True,  True,  True,  True,\n",
              "          True,  True,  True,  True,  True,  True,  True,  True,  True,  True,\n",
              "         False,  True,  True,  True,  True,  True,  True,  True, False,  True,\n",
              "          True,  True, False,  True,  True, False,  True,  True, False,  True]),\n",
              " 'val_mask': tensor([False, False, False, False, False, False,  True, False,  True, False,\n",
              "         False,  True, False, False, False, False, False, False, False, False,\n",
              "          True, False, False, False, False, False, False, False, False, False,\n",
              "         False, False, False, False, False, False, False, False, False, False,\n",
              "         False, False, False, False,  True, False, False, False, False, False,\n",
              "         False, False, False, False, False, False, False, False, False, False,\n",
              "         False, False, False, False, False, False, False, False, False, False,\n",
              "         False, False, False, False, False, False, False, False, False, False,\n",
              "         False, False, False,  True, False, False, False, False, False, False,\n",
              "         False, False,  True, False, False, False, False, False, False, False,\n",
              "         False, False, False, False, False, False, False,  True, False, False,\n",
              "         False,  True, False,  True, False,  True, False, False, False, False,\n",
              "         False, False, False, False, False, False, False, False, False, False,\n",
              "          True, False, False, False, False, False, False, False,  True, False,\n",
              "         False, False,  True, False, False, False, False, False,  True, False]),\n",
              " 'test_mask': tensor([False,  True, False, False, False, False, False, False, False, False,\n",
              "         False, False, False, False, False, False, False, False, False, False,\n",
              "         False, False, False, False, False,  True, False, False,  True, False,\n",
              "         False, False, False, False, False,  True, False, False, False, False,\n",
              "         False, False, False, False, False,  True, False, False, False, False,\n",
              "          True, False, False, False, False, False, False,  True, False, False,\n",
              "         False,  True, False, False, False, False, False, False, False, False,\n",
              "         False, False,  True, False, False, False,  True,  True, False, False,\n",
              "         False,  True, False, False, False, False, False, False, False, False,\n",
              "         False, False, False, False, False, False, False, False, False, False,\n",
              "         False, False, False, False,  True, False, False, False,  True, False,\n",
              "         False, False, False, False, False, False, False, False, False, False,\n",
              "         False, False, False, False, False, False, False, False, False, False,\n",
              "         False, False, False, False, False, False, False, False, False, False,\n",
              "         False, False, False, False, False,  True, False, False, False, False])}"
            ]
          },
          "metadata": {},
          "execution_count": 3
        }
      ],
      "source": [
        "path = F\"/gdrive/MyDrive/5classes_150.sim/data.pt\"\n",
        "Data = torch.load(path)\n",
        "Data"
      ]
    },
    {
      "cell_type": "markdown",
      "metadata": {
        "id": "LBWRPLDKlAri"
      },
      "source": [
        "# Gather some statistics about the graph."
      ]
    },
    {
      "cell_type": "code",
      "execution_count": null,
      "metadata": {
        "id": "rDNqRQ7ZPYJU",
        "colab": {
          "base_uri": "https://localhost:8080/"
        },
        "outputId": "0da16594-ea6b-4a9f-a94f-29ac75651925"
      },
      "outputs": [
        {
          "output_type": "stream",
          "name": "stdout",
          "text": [
            "Number of nodes: 150\n",
            "Number of features: 500\n",
            "Number of classes: 5\n",
            "Number of edges: 954\n",
            "Average node degree: 6.36\n",
            "Number of training nodes: 120\n",
            "Number of testing nodes: 15\n",
            "Training node label rate: 0.80\n"
          ]
        }
      ],
      "source": [
        "print(f'Number of nodes: {Data[\"x\"].size(0)}')\n",
        "print(f'Number of features: {Data[\"x\"].size(1)}')\n",
        "print(f'Number of classes: {torch.numel(torch.unique(Data[\"y\"],sorted=True))}')\n",
        "print(f'Number of edges: {Data[\"edge_index\"].size(1)}')\n",
        "print(f'Average node degree: {Data[\"edge_index\"].size(1) / Data[\"x\"].size(0):.2f}')\n",
        "print(f'Number of training nodes: {Data[\"train_mask\"].sum()}')\n",
        "print(f'Number of testing nodes: {Data[\"test_mask\"].sum()}')\n",
        "print(f'Training node label rate: {int(Data[\"train_mask\"].sum()) /  Data[\"x\"].size(0):.2f}')"
      ]
    },
    {
      "cell_type": "markdown",
      "metadata": {
        "id": "mNMqwucplRVg"
      },
      "source": [
        "# Install torch_geometic."
      ]
    },
    {
      "cell_type": "code",
      "execution_count": null,
      "metadata": {
        "id": "4mHYoMBWxnbg",
        "colab": {
          "base_uri": "https://localhost:8080/"
        },
        "outputId": "d3b8837a-063a-4906-c85c-6d4ce8475bb7"
      },
      "outputs": [
        {
          "output_type": "stream",
          "name": "stdout",
          "text": [
            "2.1.0+cu121\n",
            "\u001b[2K     \u001b[90m━━━━━━━━━━━━━━━━━━━━━━━━━━━━━━━━━━━━━━━━\u001b[0m \u001b[32m10.8/10.8 MB\u001b[0m \u001b[31m53.0 MB/s\u001b[0m eta \u001b[36m0:00:00\u001b[0m\n",
            "\u001b[2K     \u001b[90m━━━━━━━━━━━━━━━━━━━━━━━━━━━━━━━━━━━━━━━━\u001b[0m \u001b[32m5.0/5.0 MB\u001b[0m \u001b[31m19.0 MB/s\u001b[0m eta \u001b[36m0:00:00\u001b[0m\n",
            "\u001b[?25h  Installing build dependencies ... \u001b[?25l\u001b[?25hdone\n",
            "  Getting requirements to build wheel ... \u001b[?25l\u001b[?25hdone\n",
            "  Preparing metadata (pyproject.toml) ... \u001b[?25l\u001b[?25hdone\n",
            "  Building wheel for torch_geometric (pyproject.toml) ... \u001b[?25l\u001b[?25hdone\n"
          ]
        }
      ],
      "source": [
        "import os\n",
        "os.environ['TORCH'] = torch.__version__\n",
        "print(torch.__version__)\n",
        "\n",
        "!pip install -q torch-scatter -f https://data.pyg.org/whl/torch-${TORCH}.html\n",
        "!pip install -q torch-sparse -f https://data.pyg.org/whl/torch-${TORCH}.html\n",
        "!pip install -q git+https://github.com/pyg-team/pytorch_geometric.git"
      ]
    },
    {
      "cell_type": "code",
      "execution_count": null,
      "metadata": {
        "id": "lzfBFX1uWDXq"
      },
      "outputs": [],
      "source": [
        "import torch_geometric\n",
        "from torch_geometric.nn import MessagePassing\n",
        "import torch.nn.functional as F\n",
        "from torch_geometric.utils import add_self_loops\n",
        "from torch_geometric.nn import GATConv"
      ]
    },
    {
      "cell_type": "markdown",
      "metadata": {
        "id": "20LEsO0ulv_y"
      },
      "source": [
        "# Creating message passing network."
      ]
    },
    {
      "cell_type": "code",
      "execution_count": null,
      "metadata": {
        "id": "Exf3Xj7eU8eq",
        "colab": {
          "base_uri": "https://localhost:8080/"
        },
        "outputId": "5ab77e40-3410-4c83-c48a-0d007ec70e16"
      },
      "outputs": [
        {
          "output_type": "stream",
          "name": "stdout",
          "text": [
            "Myconv(\n",
            "  (conv1): GATConv(500, 8, heads=1)\n",
            "  (dropout1): Dropout(p=0.5, inplace=False)\n",
            "  (conv2): GATConv(8, 6, heads=1)\n",
            "  (dropout2): Dropout(p=0.5, inplace=False)\n",
            "  (conv3): GATConv(6, 5, heads=1)\n",
            ")\n"
          ]
        }
      ],
      "source": [
        "class Myconv(torch.nn.Module):\n",
        "    def __init__(self, dropout_rate=0.5):\n",
        "        super().__init__()\n",
        "        torch.manual_seed(2)\n",
        "        self.conv1 = GATConv(in_channels=500, out_channels=8)\n",
        "        self.dropout1 = torch.nn.Dropout(dropout_rate)\n",
        "        self.conv2 = GATConv(8, 6)\n",
        "        self.dropout2 = torch.nn.Dropout(dropout_rate)\n",
        "        self.conv3 = GATConv(6, 5)\n",
        "\n",
        "    def forward(self, x, edge_index):\n",
        "        h = self.conv1(x, edge_index)\n",
        "        h = F.tanh(h)\n",
        "        h = self.dropout1(h)\n",
        "        h = self.conv2(h, edge_index)\n",
        "        h = F.tanh(h)\n",
        "        h = self.dropout2(h)\n",
        "        h = self.conv3(h, edge_index)\n",
        "        return h\n",
        "\n",
        "# Create an instance of the model\n",
        "model = Myconv(dropout_rate=0.5)\n",
        "print(model)"
      ]
    },
    {
      "cell_type": "markdown",
      "metadata": {
        "id": "_E7E2mPtVIsj"
      },
      "source": [
        "# We take a look at the node embeddings produced by our GNN (before training)."
      ]
    },
    {
      "cell_type": "code",
      "execution_count": null,
      "metadata": {
        "id": "qdb1iwBrVSOO"
      },
      "outputs": [],
      "source": [
        "import matplotlib.pyplot as plt\n",
        "from sklearn.manifold import TSNE\n",
        "import seaborn as sns\n",
        "\n",
        "def visualize(h):\n",
        "    z = TSNE(n_components = 2, random_state = 0).fit_transform(h.detach().numpy())\n",
        "    plt.figure(figsize = (6,4),  dpi = 120)\n",
        "    sns.scatterplot(x = z[:, 0], y = z[:, 1], hue = Data[\"y\"], palette=sns.color_palette(\"bright\",5)).set(title = \"First scenario data T-SNE projection before training (GAT)\")"
      ]
    },
    {
      "cell_type": "code",
      "execution_count": null,
      "metadata": {
        "id": "vyxQxq4rVXuq",
        "colab": {
          "base_uri": "https://localhost:8080/",
          "height": 482
        },
        "outputId": "45ae49cb-e0f0-40d5-f8d0-e87dab98091e"
      },
      "outputs": [
        {
          "output_type": "stream",
          "name": "stdout",
          "text": [
            "Embedding shape: [150, 5]\n"
          ]
        },
        {
          "output_type": "display_data",
          "data": {
            "text/plain": [
              "<Figure size 720x480 with 1 Axes>"
            ],
            "image/png": "[encoded data removed]"
          },
          "metadata": {}
        }
      ],
      "source": [
        "model = Myconv()\n",
        "h = model(Data[\"x\"], Data[\"edge_index\"])\n",
        "\n",
        "print(f'Embedding shape: {list(h.shape)}')\n",
        "visualize(h)"
      ]
    },
    {
      "cell_type": "markdown",
      "metadata": {
        "id": "UVd342dCBU4Z"
      },
      "source": [
        "# Start training the model."
      ]
    },
    {
      "cell_type": "code",
      "execution_count": null,
      "metadata": {
        "id": "7PVoyk5M2qbT"
      },
      "outputs": [],
      "source": [
        "model = Myconv()\n",
        "criterion = torch.nn.CrossEntropyLoss()  # Define loss criterion.\n",
        "optimizer = torch.optim.Adam(model.parameters(),  lr = 0.005)  # Define optimizer, an object for updating parameters\n",
        "#loss = loss + weight decay parameter * L2 norm of the weights, 1) To prevent overfitting 2) To keep the weights small and avoid exploding gradient\n",
        "\n",
        "def train(Data):\n",
        "    model.train()\n",
        "    optimizer.zero_grad()  # Clear gradients.\n",
        "    out = model(Data[\"x\"], Data[\"edge_index\"])\n",
        "    train_loss = criterion(out[Data[\"train_mask\"]], Data[\"y\"][Data[\"train_mask\"]])  # Compute the loss solely based on the training nodes.\n",
        "    train_loss.backward()  # Derive gradients.\n",
        "    optimizer.step()  # Update parameters based on gradients.\n",
        "    return train_loss\n",
        "\n",
        "\n",
        "def val(Data):\n",
        "      model.eval()\n",
        "      with torch.no_grad():\n",
        "        out = model(Data[\"x\"], Data[\"edge_index\"])\n",
        "        val_loss = criterion(out[Data[\"val_mask\"]], Data[\"y\"][Data[\"val_mask\"]])\n",
        "        #pred = out.argmax(dim=1)\n",
        "        #test_correct = pred[Data[\"val_mask\"]] == Data[\"y\"][Data[\"val_mask\"]]  # Check against ground-truth labels.\n",
        "        #test_acc = int(test_correct.sum()) / int(Data[\"val_mask\"].sum())  # Derive ratio of correct predictions.\n",
        "        return val_loss\n"
      ]
    },
    {
      "cell_type": "code",
      "execution_count": null,
      "metadata": {
        "id": "ntJ0Amdq3QJh",
        "colab": {
          "base_uri": "https://localhost:8080/"
        },
        "outputId": "e8b0f266-fad4-49a7-d3d1-3bf093152acf"
      },
      "outputs": [
        {
          "output_type": "stream",
          "name": "stdout",
          "text": [
            "1 Train Loss: 1.657 | val Loss: 1.381\n",
            "2 Train Loss: 1.536 | val Loss: 1.283\n",
            "3 Train Loss: 1.450 | val Loss: 1.219\n",
            "4 Train Loss: 1.390 | val Loss: 1.200\n",
            "5 Train Loss: 1.323 | val Loss: 1.198\n",
            "6 Train Loss: 1.295 | val Loss: 1.193\n",
            "7 Train Loss: 1.450 | val Loss: 1.171\n",
            "8 Train Loss: 1.326 | val Loss: 1.155\n",
            "9 Train Loss: 1.349 | val Loss: 1.133\n",
            "10 Train Loss: 1.345 | val Loss: 1.110\n",
            "11 Train Loss: 1.331 | val Loss: 1.096\n",
            "12 Train Loss: 1.187 | val Loss: 1.085\n",
            "13 Train Loss: 1.264 | val Loss: 1.080\n",
            "14 Train Loss: 1.137 | val Loss: 1.077\n",
            "15 Train Loss: 1.174 | val Loss: 1.071\n",
            "16 Train Loss: 1.204 | val Loss: 1.063\n",
            "17 Train Loss: 1.063 | val Loss: 1.054\n",
            "18 Train Loss: 1.064 | val Loss: 1.048\n",
            "19 Train Loss: 1.158 | val Loss: 1.043\n",
            "20 Train Loss: 1.088 | val Loss: 1.033\n",
            "21 Train Loss: 1.209 | val Loss: 1.017\n",
            "22 Train Loss: 1.027 | val Loss: 1.002\n",
            "23 Train Loss: 1.102 | val Loss: 0.985\n",
            "24 Train Loss: 1.011 | val Loss: 0.969\n",
            "25 Train Loss: 0.995 | val Loss: 0.959\n",
            "26 Train Loss: 1.160 | val Loss: 0.950\n",
            "27 Train Loss: 1.133 | val Loss: 0.940\n",
            "28 Train Loss: 0.958 | val Loss: 0.938\n",
            "29 Train Loss: 1.100 | val Loss: 0.947\n",
            "30 Train Loss: 1.014 | val Loss: 0.944\n",
            "31 Train Loss: 0.917 | val Loss: 0.916\n",
            "32 Train Loss: 1.050 | val Loss: 0.891\n",
            "33 Train Loss: 0.978 | val Loss: 0.866\n",
            "34 Train Loss: 0.986 | val Loss: 0.859\n",
            "35 Train Loss: 1.198 | val Loss: 0.852\n",
            "36 Train Loss: 0.848 | val Loss: 0.843\n",
            "37 Train Loss: 0.948 | val Loss: 0.839\n",
            "38 Train Loss: 0.921 | val Loss: 0.830\n",
            "39 Train Loss: 0.865 | val Loss: 0.814\n",
            "40 Train Loss: 0.939 | val Loss: 0.797\n",
            "41 Train Loss: 0.896 | val Loss: 0.784\n",
            "42 Train Loss: 0.903 | val Loss: 0.770\n",
            "43 Train Loss: 0.825 | val Loss: 0.760\n",
            "44 Train Loss: 0.823 | val Loss: 0.750\n",
            "45 Train Loss: 0.873 | val Loss: 0.738\n",
            "46 Train Loss: 0.887 | val Loss: 0.722\n",
            "47 Train Loss: 0.802 | val Loss: 0.713\n",
            "48 Train Loss: 0.852 | val Loss: 0.707\n",
            "49 Train Loss: 0.870 | val Loss: 0.691\n",
            "50 Train Loss: 0.766 | val Loss: 0.666\n",
            "51 Train Loss: 0.754 | val Loss: 0.648\n",
            "52 Train Loss: 0.812 | val Loss: 0.632\n",
            "53 Train Loss: 0.727 | val Loss: 0.627\n",
            "54 Train Loss: 0.749 | val Loss: 0.630\n",
            "55 Train Loss: 0.722 | val Loss: 0.629\n",
            "56 Train Loss: 0.791 | val Loss: 0.630\n",
            "57 Train Loss: 0.685 | val Loss: 0.624\n",
            "58 Train Loss: 0.734 | val Loss: 0.615\n",
            "59 Train Loss: 0.856 | val Loss: 0.612\n",
            "60 Train Loss: 0.753 | val Loss: 0.612\n",
            "61 Train Loss: 0.696 | val Loss: 0.612\n",
            "62 Train Loss: 0.692 | val Loss: 0.612\n",
            "63 Train Loss: 0.726 | val Loss: 0.611\n",
            "64 Train Loss: 0.692 | val Loss: 0.606\n",
            "65 Train Loss: 0.781 | val Loss: 0.601\n",
            "66 Train Loss: 0.714 | val Loss: 0.594\n",
            "67 Train Loss: 0.602 | val Loss: 0.585\n",
            "68 Train Loss: 0.649 | val Loss: 0.569\n",
            "69 Train Loss: 0.595 | val Loss: 0.560\n",
            "70 Train Loss: 0.721 | val Loss: 0.552\n",
            "71 Train Loss: 0.620 | val Loss: 0.541\n",
            "72 Train Loss: 0.757 | val Loss: 0.534\n",
            "73 Train Loss: 0.591 | val Loss: 0.531\n",
            "74 Train Loss: 0.757 | val Loss: 0.528\n",
            "75 Train Loss: 0.627 | val Loss: 0.526\n",
            "76 Train Loss: 0.573 | val Loss: 0.521\n",
            "77 Train Loss: 0.685 | val Loss: 0.517\n",
            "78 Train Loss: 0.620 | val Loss: 0.502\n",
            "79 Train Loss: 0.619 | val Loss: 0.493\n",
            "80 Train Loss: 0.609 | val Loss: 0.488\n",
            "81 Train Loss: 0.622 | val Loss: 0.491\n",
            "82 Train Loss: 0.634 | val Loss: 0.500\n",
            "83 Train Loss: 0.585 | val Loss: 0.514\n",
            "84 Train Loss: 0.682 | val Loss: 0.526\n",
            "85 Train Loss: 0.683 | val Loss: 0.530\n",
            "86 Train Loss: 0.631 | val Loss: 0.526\n",
            "87 Train Loss: 0.612 | val Loss: 0.518\n",
            "88 Train Loss: 0.547 | val Loss: 0.525\n",
            "89 Train Loss: 0.656 | val Loss: 0.522\n",
            "90 Train Loss: 0.613 | val Loss: 0.515\n",
            "91 Train Loss: 0.673 | val Loss: 0.504\n",
            "92 Train Loss: 0.557 | val Loss: 0.490\n",
            "93 Train Loss: 0.456 | val Loss: 0.475\n",
            "94 Train Loss: 0.630 | val Loss: 0.460\n",
            "95 Train Loss: 0.600 | val Loss: 0.443\n",
            "96 Train Loss: 0.531 | val Loss: 0.431\n",
            "97 Train Loss: 0.458 | val Loss: 0.424\n",
            "98 Train Loss: 0.444 | val Loss: 0.418\n",
            "99 Train Loss: 0.521 | val Loss: 0.405\n",
            "100 Train Loss: 0.499 | val Loss: 0.384\n",
            "101 Train Loss: 0.603 | val Loss: 0.354\n",
            "102 Train Loss: 0.512 | val Loss: 0.361\n",
            "103 Train Loss: 0.513 | val Loss: 0.386\n",
            "104 Train Loss: 0.506 | val Loss: 0.392\n",
            "105 Train Loss: 0.476 | val Loss: 0.393\n",
            "106 Train Loss: 0.449 | val Loss: 0.391\n",
            "107 Train Loss: 0.425 | val Loss: 0.388\n",
            "108 Train Loss: 0.445 | val Loss: 0.386\n",
            "109 Train Loss: 0.491 | val Loss: 0.384\n",
            "110 Train Loss: 0.463 | val Loss: 0.382\n",
            "111 Train Loss: 0.511 | val Loss: 0.379\n",
            "112 Train Loss: 0.456 | val Loss: 0.377\n",
            "113 Train Loss: 0.415 | val Loss: 0.376\n",
            "114 Train Loss: 0.411 | val Loss: 0.374\n",
            "115 Train Loss: 0.497 | val Loss: 0.372\n",
            "116 Train Loss: 0.483 | val Loss: 0.370\n",
            "117 Train Loss: 0.383 | val Loss: 0.370\n",
            "118 Train Loss: 0.375 | val Loss: 0.369\n",
            "119 Train Loss: 0.406 | val Loss: 0.370\n",
            "120 Train Loss: 0.561 | val Loss: 0.371\n",
            "121 Train Loss: 0.502 | val Loss: 0.373\n",
            "122 Train Loss: 0.457 | val Loss: 0.376\n",
            "123 Train Loss: 0.471 | val Loss: 0.380\n",
            "124 Train Loss: 0.404 | val Loss: 0.381\n",
            "125 Train Loss: 0.453 | val Loss: 0.382\n",
            "126 Train Loss: 0.490 | val Loss: 0.378\n",
            "127 Train Loss: 0.342 | val Loss: 0.375\n",
            "128 Train Loss: 0.360 | val Loss: 0.373\n",
            "129 Train Loss: 0.473 | val Loss: 0.373\n",
            "130 Train Loss: 0.513 | val Loss: 0.372\n",
            "131 Train Loss: 0.429 | val Loss: 0.370\n",
            "132 Train Loss: 0.440 | val Loss: 0.368\n",
            "133 Train Loss: 0.451 | val Loss: 0.365\n",
            "134 Train Loss: 0.553 | val Loss: 0.362\n",
            "135 Train Loss: 0.358 | val Loss: 0.360\n",
            "136 Train Loss: 0.419 | val Loss: 0.358\n",
            "137 Train Loss: 0.405 | val Loss: 0.357\n",
            "138 Train Loss: 0.382 | val Loss: 0.356\n",
            "139 Train Loss: 0.453 | val Loss: 0.352\n",
            "140 Train Loss: 0.332 | val Loss: 0.347\n",
            "141 Train Loss: 0.342 | val Loss: 0.345\n",
            "142 Train Loss: 0.581 | val Loss: 0.342\n",
            "143 Train Loss: 0.412 | val Loss: 0.340\n",
            "144 Train Loss: 0.384 | val Loss: 0.339\n",
            "145 Train Loss: 0.406 | val Loss: 0.340\n",
            "146 Train Loss: 0.366 | val Loss: 0.341\n",
            "147 Train Loss: 0.347 | val Loss: 0.340\n",
            "148 Train Loss: 0.401 | val Loss: 0.339\n",
            "149 Train Loss: 0.330 | val Loss: 0.338\n",
            "150 Train Loss: 0.366 | val Loss: 0.336\n",
            "151 Train Loss: 0.277 | val Loss: 0.337\n",
            "152 Train Loss: 0.282 | val Loss: 0.338\n",
            "153 Train Loss: 0.318 | val Loss: 0.339\n",
            "154 Train Loss: 0.380 | val Loss: 0.340\n",
            "155 Train Loss: 0.347 | val Loss: 0.344\n",
            "156 Train Loss: 0.423 | val Loss: 0.349\n",
            "157 Train Loss: 0.335 | val Loss: 0.354\n",
            "158 Train Loss: 0.390 | val Loss: 0.360\n",
            "159 Train Loss: 0.371 | val Loss: 0.367\n",
            "160 Train Loss: 0.335 | val Loss: 0.375\n",
            "161 Train Loss: 0.335 | val Loss: 0.381\n",
            "162 Train Loss: 0.386 | val Loss: 0.385\n",
            "163 Train Loss: 0.406 | val Loss: 0.387\n",
            "164 Train Loss: 0.363 | val Loss: 0.387\n",
            "165 Train Loss: 0.275 | val Loss: 0.386\n",
            "166 Train Loss: 0.361 | val Loss: 0.384\n",
            "167 Train Loss: 0.356 | val Loss: 0.382\n",
            "168 Train Loss: 0.405 | val Loss: 0.379\n",
            "169 Train Loss: 0.369 | val Loss: 0.377\n",
            "170 Train Loss: 0.416 | val Loss: 0.373\n",
            "171 Train Loss: 0.403 | val Loss: 0.370\n",
            "172 Train Loss: 0.317 | val Loss: 0.370\n",
            "173 Train Loss: 0.328 | val Loss: 0.370\n",
            "174 Train Loss: 0.264 | val Loss: 0.370\n",
            "175 Train Loss: 0.273 | val Loss: 0.370\n",
            "176 Train Loss: 0.355 | val Loss: 0.372\n",
            "177 Train Loss: 0.306 | val Loss: 0.375\n",
            "178 Train Loss: 0.263 | val Loss: 0.379\n",
            "179 Train Loss: 0.320 | val Loss: 0.383\n",
            "180 Train Loss: 0.400 | val Loss: 0.386\n",
            "181 Train Loss: 0.240 | val Loss: 0.388\n",
            "182 Train Loss: 0.248 | val Loss: 0.392\n",
            "183 Train Loss: 0.319 | val Loss: 0.396\n",
            "184 Train Loss: 0.347 | val Loss: 0.399\n",
            "185 Train Loss: 0.292 | val Loss: 0.403\n",
            "186 Train Loss: 0.377 | val Loss: 0.404\n",
            "187 Train Loss: 0.317 | val Loss: 0.406\n",
            "188 Train Loss: 0.260 | val Loss: 0.407\n",
            "189 Train Loss: 0.347 | val Loss: 0.408\n",
            "190 Train Loss: 0.315 | val Loss: 0.409\n",
            "191 Train Loss: 0.273 | val Loss: 0.410\n",
            "192 Train Loss: 0.289 | val Loss: 0.406\n",
            "193 Train Loss: 0.263 | val Loss: 0.403\n",
            "194 Train Loss: 0.346 | val Loss: 0.401\n",
            "195 Train Loss: 0.404 | val Loss: 0.398\n",
            "196 Train Loss: 0.301 | val Loss: 0.397\n",
            "197 Train Loss: 0.333 | val Loss: 0.397\n",
            "198 Train Loss: 0.292 | val Loss: 0.394\n",
            "199 Train Loss: 0.267 | val Loss: 0.384\n",
            "200 Train Loss: 0.302 | val Loss: 0.370\n",
            "201 Train Loss: 0.243 | val Loss: 0.366\n",
            "202 Train Loss: 0.286 | val Loss: 0.361\n",
            "203 Train Loss: 0.234 | val Loss: 0.361\n",
            "204 Train Loss: 0.298 | val Loss: 0.362\n",
            "205 Train Loss: 0.295 | val Loss: 0.360\n",
            "206 Train Loss: 0.422 | val Loss: 0.360\n",
            "207 Train Loss: 0.213 | val Loss: 0.361\n",
            "208 Train Loss: 0.378 | val Loss: 0.363\n",
            "209 Train Loss: 0.343 | val Loss: 0.365\n",
            "210 Train Loss: 0.250 | val Loss: 0.420\n",
            "211 Train Loss: 0.295 | val Loss: 0.430\n",
            "212 Train Loss: 0.289 | val Loss: 0.433\n",
            "213 Train Loss: 0.193 | val Loss: 0.433\n",
            "214 Train Loss: 0.302 | val Loss: 0.429\n",
            "215 Train Loss: 0.272 | val Loss: 0.416\n",
            "216 Train Loss: 0.314 | val Loss: 0.410\n",
            "217 Train Loss: 0.435 | val Loss: 0.399\n",
            "218 Train Loss: 0.308 | val Loss: 0.392\n",
            "219 Train Loss: 0.322 | val Loss: 0.382\n",
            "220 Train Loss: 0.226 | val Loss: 0.373\n",
            "221 Train Loss: 0.283 | val Loss: 0.367\n",
            "222 Train Loss: 0.320 | val Loss: 0.363\n",
            "223 Train Loss: 0.219 | val Loss: 0.365\n",
            "224 Train Loss: 0.372 | val Loss: 0.368\n",
            "225 Train Loss: 0.268 | val Loss: 0.370\n",
            "226 Train Loss: 0.296 | val Loss: 0.370\n",
            "227 Train Loss: 0.187 | val Loss: 0.370\n",
            "228 Train Loss: 0.271 | val Loss: 0.369\n",
            "229 Train Loss: 0.229 | val Loss: 0.366\n",
            "230 Train Loss: 0.381 | val Loss: 0.363\n",
            "231 Train Loss: 0.297 | val Loss: 0.359\n",
            "232 Train Loss: 0.231 | val Loss: 0.356\n",
            "233 Train Loss: 0.255 | val Loss: 0.352\n",
            "234 Train Loss: 0.263 | val Loss: 0.349\n",
            "235 Train Loss: 0.268 | val Loss: 0.346\n",
            "236 Train Loss: 0.260 | val Loss: 0.344\n",
            "237 Train Loss: 0.181 | val Loss: 0.340\n",
            "238 Train Loss: 0.275 | val Loss: 0.336\n",
            "239 Train Loss: 0.268 | val Loss: 0.334\n",
            "240 Train Loss: 0.295 | val Loss: 0.329\n",
            "241 Train Loss: 0.204 | val Loss: 0.325\n",
            "242 Train Loss: 0.269 | val Loss: 0.321\n",
            "243 Train Loss: 0.196 | val Loss: 0.320\n",
            "244 Train Loss: 0.221 | val Loss: 0.318\n",
            "245 Train Loss: 0.216 | val Loss: 0.318\n",
            "246 Train Loss: 0.212 | val Loss: 0.317\n",
            "247 Train Loss: 0.243 | val Loss: 0.316\n",
            "248 Train Loss: 0.288 | val Loss: 0.315\n",
            "249 Train Loss: 0.175 | val Loss: 0.314\n",
            "250 Train Loss: 0.249 | val Loss: 0.317\n",
            "251 Train Loss: 0.298 | val Loss: 0.319\n",
            "252 Train Loss: 0.227 | val Loss: 0.319\n",
            "253 Train Loss: 0.338 | val Loss: 0.318\n",
            "254 Train Loss: 0.206 | val Loss: 0.318\n",
            "255 Train Loss: 0.225 | val Loss: 0.318\n",
            "256 Train Loss: 0.275 | val Loss: 0.318\n",
            "257 Train Loss: 0.282 | val Loss: 0.320\n",
            "258 Train Loss: 0.294 | val Loss: 0.322\n",
            "259 Train Loss: 0.362 | val Loss: 0.324\n",
            "260 Train Loss: 0.222 | val Loss: 0.324\n",
            "261 Train Loss: 0.270 | val Loss: 0.323\n",
            "262 Train Loss: 0.259 | val Loss: 0.324\n",
            "263 Train Loss: 0.308 | val Loss: 0.325\n",
            "264 Train Loss: 0.310 | val Loss: 0.327\n",
            "265 Train Loss: 0.189 | val Loss: 0.328\n",
            "266 Train Loss: 0.249 | val Loss: 0.330\n",
            "267 Train Loss: 0.199 | val Loss: 0.332\n",
            "268 Train Loss: 0.228 | val Loss: 0.334\n",
            "269 Train Loss: 0.264 | val Loss: 0.339\n",
            "270 Train Loss: 0.248 | val Loss: 0.346\n",
            "271 Train Loss: 0.251 | val Loss: 0.352\n",
            "272 Train Loss: 0.219 | val Loss: 0.358\n",
            "273 Train Loss: 0.263 | val Loss: 0.363\n",
            "274 Train Loss: 0.242 | val Loss: 0.369\n",
            "275 Train Loss: 0.205 | val Loss: 0.383\n",
            "276 Train Loss: 0.304 | val Loss: 0.392\n",
            "277 Train Loss: 0.184 | val Loss: 0.398\n",
            "278 Train Loss: 0.215 | val Loss: 0.404\n",
            "279 Train Loss: 0.330 | val Loss: 0.405\n",
            "280 Train Loss: 0.243 | val Loss: 0.407\n",
            "281 Train Loss: 0.233 | val Loss: 0.410\n",
            "282 Train Loss: 0.189 | val Loss: 0.412\n",
            "283 Train Loss: 0.274 | val Loss: 0.416\n",
            "284 Train Loss: 0.268 | val Loss: 0.421\n",
            "285 Train Loss: 0.241 | val Loss: 0.426\n",
            "286 Train Loss: 0.219 | val Loss: 0.431\n",
            "287 Train Loss: 0.192 | val Loss: 0.435\n",
            "288 Train Loss: 0.245 | val Loss: 0.440\n",
            "289 Train Loss: 0.239 | val Loss: 0.444\n",
            "290 Train Loss: 0.298 | val Loss: 0.448\n",
            "291 Train Loss: 0.212 | val Loss: 0.452\n",
            "292 Train Loss: 0.208 | val Loss: 0.453\n",
            "293 Train Loss: 0.276 | val Loss: 0.454\n",
            "294 Train Loss: 0.187 | val Loss: 0.452\n",
            "295 Train Loss: 0.216 | val Loss: 0.451\n",
            "296 Train Loss: 0.364 | val Loss: 0.451\n",
            "297 Train Loss: 0.236 | val Loss: 0.450\n",
            "298 Train Loss: 0.243 | val Loss: 0.449\n",
            "299 Train Loss: 0.277 | val Loss: 0.447\n",
            "300 Train Loss: 0.190 | val Loss: 0.446\n",
            "301 Train Loss: 0.277 | val Loss: 0.444\n",
            "302 Train Loss: 0.199 | val Loss: 0.438\n",
            "303 Train Loss: 0.213 | val Loss: 0.428\n",
            "304 Train Loss: 0.213 | val Loss: 0.420\n",
            "305 Train Loss: 0.173 | val Loss: 0.414\n",
            "306 Train Loss: 0.226 | val Loss: 0.409\n",
            "307 Train Loss: 0.251 | val Loss: 0.405\n",
            "308 Train Loss: 0.262 | val Loss: 0.404\n",
            "309 Train Loss: 0.284 | val Loss: 0.405\n",
            "310 Train Loss: 0.254 | val Loss: 0.404\n",
            "311 Train Loss: 0.278 | val Loss: 0.406\n",
            "312 Train Loss: 0.203 | val Loss: 0.406\n",
            "313 Train Loss: 0.213 | val Loss: 0.406\n",
            "314 Train Loss: 0.203 | val Loss: 0.406\n",
            "315 Train Loss: 0.269 | val Loss: 0.406\n",
            "316 Train Loss: 0.230 | val Loss: 0.406\n",
            "317 Train Loss: 0.252 | val Loss: 0.406\n",
            "318 Train Loss: 0.193 | val Loss: 0.405\n",
            "319 Train Loss: 0.264 | val Loss: 0.402\n",
            "320 Train Loss: 0.259 | val Loss: 0.399\n",
            "321 Train Loss: 0.278 | val Loss: 0.396\n",
            "322 Train Loss: 0.196 | val Loss: 0.392\n",
            "323 Train Loss: 0.324 | val Loss: 0.389\n",
            "324 Train Loss: 0.306 | val Loss: 0.387\n",
            "325 Train Loss: 0.320 | val Loss: 0.390\n",
            "326 Train Loss: 0.180 | val Loss: 0.392\n",
            "327 Train Loss: 0.218 | val Loss: 0.392\n",
            "328 Train Loss: 0.209 | val Loss: 0.390\n",
            "329 Train Loss: 0.260 | val Loss: 0.387\n",
            "330 Train Loss: 0.277 | val Loss: 0.384\n",
            "331 Train Loss: 0.276 | val Loss: 0.381\n",
            "332 Train Loss: 0.269 | val Loss: 0.378\n",
            "333 Train Loss: 0.253 | val Loss: 0.374\n",
            "334 Train Loss: 0.180 | val Loss: 0.371\n",
            "335 Train Loss: 0.280 | val Loss: 0.368\n",
            "336 Train Loss: 0.274 | val Loss: 0.366\n",
            "337 Train Loss: 0.207 | val Loss: 0.373\n",
            "338 Train Loss: 0.225 | val Loss: 0.372\n",
            "339 Train Loss: 0.370 | val Loss: 0.366\n",
            "340 Train Loss: 0.275 | val Loss: 0.367\n",
            "341 Train Loss: 0.298 | val Loss: 0.372\n",
            "342 Train Loss: 0.192 | val Loss: 0.366\n",
            "343 Train Loss: 0.266 | val Loss: 0.343\n",
            "344 Train Loss: 0.368 | val Loss: 0.341\n",
            "345 Train Loss: 0.139 | val Loss: 0.339\n",
            "346 Train Loss: 0.208 | val Loss: 0.338\n",
            "347 Train Loss: 0.276 | val Loss: 0.335\n",
            "348 Train Loss: 0.237 | val Loss: 0.334\n",
            "349 Train Loss: 0.221 | val Loss: 0.334\n",
            "350 Train Loss: 0.229 | val Loss: 0.335\n",
            "351 Train Loss: 0.184 | val Loss: 0.335\n",
            "352 Train Loss: 0.287 | val Loss: 0.334\n",
            "353 Train Loss: 0.259 | val Loss: 0.332\n",
            "354 Train Loss: 0.156 | val Loss: 0.330\n",
            "355 Train Loss: 0.191 | val Loss: 0.329\n",
            "356 Train Loss: 0.256 | val Loss: 0.328\n",
            "357 Train Loss: 0.263 | val Loss: 0.327\n",
            "358 Train Loss: 0.181 | val Loss: 0.326\n",
            "359 Train Loss: 0.233 | val Loss: 0.324\n",
            "360 Train Loss: 0.236 | val Loss: 0.324\n",
            "361 Train Loss: 0.186 | val Loss: 0.323\n",
            "362 Train Loss: 0.250 | val Loss: 0.322\n",
            "363 Train Loss: 0.261 | val Loss: 0.323\n",
            "364 Train Loss: 0.255 | val Loss: 0.322\n",
            "365 Train Loss: 0.269 | val Loss: 0.322\n",
            "366 Train Loss: 0.233 | val Loss: 0.322\n",
            "367 Train Loss: 0.192 | val Loss: 0.322\n",
            "368 Train Loss: 0.250 | val Loss: 0.321\n",
            "369 Train Loss: 0.256 | val Loss: 0.322\n",
            "370 Train Loss: 0.363 | val Loss: 0.323\n",
            "371 Train Loss: 0.159 | val Loss: 0.325\n",
            "372 Train Loss: 0.135 | val Loss: 0.326\n",
            "373 Train Loss: 0.148 | val Loss: 0.328\n",
            "374 Train Loss: 0.228 | val Loss: 0.335\n",
            "375 Train Loss: 0.255 | val Loss: 0.339\n",
            "376 Train Loss: 0.209 | val Loss: 0.340\n",
            "377 Train Loss: 0.281 | val Loss: 0.343\n",
            "378 Train Loss: 0.292 | val Loss: 0.333\n",
            "379 Train Loss: 0.259 | val Loss: 0.323\n",
            "380 Train Loss: 0.246 | val Loss: 0.321\n",
            "381 Train Loss: 0.159 | val Loss: 0.319\n",
            "382 Train Loss: 0.289 | val Loss: 0.315\n",
            "383 Train Loss: 0.158 | val Loss: 0.313\n",
            "384 Train Loss: 0.220 | val Loss: 0.311\n",
            "385 Train Loss: 0.266 | val Loss: 0.309\n",
            "386 Train Loss: 0.239 | val Loss: 0.308\n",
            "387 Train Loss: 0.224 | val Loss: 0.307\n",
            "388 Train Loss: 0.168 | val Loss: 0.304\n",
            "389 Train Loss: 0.248 | val Loss: 0.301\n",
            "390 Train Loss: 0.222 | val Loss: 0.298\n",
            "391 Train Loss: 0.190 | val Loss: 0.295\n",
            "392 Train Loss: 0.171 | val Loss: 0.292\n",
            "393 Train Loss: 0.203 | val Loss: 0.289\n",
            "394 Train Loss: 0.244 | val Loss: 0.285\n",
            "395 Train Loss: 0.260 | val Loss: 0.283\n",
            "396 Train Loss: 0.201 | val Loss: 0.281\n",
            "397 Train Loss: 0.227 | val Loss: 0.279\n",
            "398 Train Loss: 0.189 | val Loss: 0.277\n",
            "399 Train Loss: 0.205 | val Loss: 0.276\n",
            "400 Train Loss: 0.182 | val Loss: 0.273\n",
            "401 Train Loss: 0.183 | val Loss: 0.269\n",
            "402 Train Loss: 0.172 | val Loss: 0.266\n",
            "403 Train Loss: 0.146 | val Loss: 0.262\n",
            "404 Train Loss: 0.276 | val Loss: 0.259\n",
            "405 Train Loss: 0.262 | val Loss: 0.256\n",
            "406 Train Loss: 0.173 | val Loss: 0.255\n",
            "407 Train Loss: 0.210 | val Loss: 0.254\n",
            "408 Train Loss: 0.150 | val Loss: 0.253\n",
            "409 Train Loss: 0.245 | val Loss: 0.253\n",
            "410 Train Loss: 0.155 | val Loss: 0.254\n",
            "411 Train Loss: 0.287 | val Loss: 0.255\n",
            "412 Train Loss: 0.253 | val Loss: 0.258\n",
            "413 Train Loss: 0.224 | val Loss: 0.261\n",
            "414 Train Loss: 0.279 | val Loss: 0.263\n",
            "415 Train Loss: 0.206 | val Loss: 0.263\n",
            "416 Train Loss: 0.208 | val Loss: 0.263\n",
            "417 Train Loss: 0.352 | val Loss: 0.261\n",
            "418 Train Loss: 0.232 | val Loss: 0.260\n",
            "419 Train Loss: 0.237 | val Loss: 0.258\n",
            "420 Train Loss: 0.197 | val Loss: 0.257\n",
            "421 Train Loss: 0.182 | val Loss: 0.254\n",
            "422 Train Loss: 0.368 | val Loss: 0.248\n",
            "423 Train Loss: 0.315 | val Loss: 0.243\n",
            "424 Train Loss: 0.189 | val Loss: 0.238\n",
            "425 Train Loss: 0.195 | val Loss: 0.235\n",
            "426 Train Loss: 0.225 | val Loss: 0.233\n",
            "427 Train Loss: 0.206 | val Loss: 0.230\n",
            "428 Train Loss: 0.289 | val Loss: 0.227\n",
            "429 Train Loss: 0.198 | val Loss: 0.226\n",
            "430 Train Loss: 0.166 | val Loss: 0.225\n",
            "431 Train Loss: 0.295 | val Loss: 0.225\n",
            "432 Train Loss: 0.270 | val Loss: 0.226\n",
            "433 Train Loss: 0.155 | val Loss: 0.228\n",
            "434 Train Loss: 0.197 | val Loss: 0.231\n",
            "435 Train Loss: 0.230 | val Loss: 0.233\n",
            "436 Train Loss: 0.172 | val Loss: 0.234\n",
            "437 Train Loss: 0.195 | val Loss: 0.234\n",
            "438 Train Loss: 0.211 | val Loss: 0.236\n",
            "439 Train Loss: 0.237 | val Loss: 0.237\n",
            "440 Train Loss: 0.169 | val Loss: 0.240\n",
            "441 Train Loss: 0.232 | val Loss: 0.243\n",
            "442 Train Loss: 0.256 | val Loss: 0.246\n",
            "443 Train Loss: 0.216 | val Loss: 0.249\n",
            "444 Train Loss: 0.150 | val Loss: 0.252\n",
            "445 Train Loss: 0.121 | val Loss: 0.254\n",
            "446 Train Loss: 0.328 | val Loss: 0.257\n",
            "447 Train Loss: 0.154 | val Loss: 0.262\n",
            "448 Train Loss: 0.160 | val Loss: 0.263\n",
            "449 Train Loss: 0.164 | val Loss: 0.263\n",
            "450 Train Loss: 0.186 | val Loss: 0.263\n",
            "451 Train Loss: 0.291 | val Loss: 0.263\n",
            "452 Train Loss: 0.208 | val Loss: 0.263\n",
            "453 Train Loss: 0.216 | val Loss: 0.262\n",
            "454 Train Loss: 0.199 | val Loss: 0.259\n",
            "455 Train Loss: 0.293 | val Loss: 0.257\n",
            "456 Train Loss: 0.230 | val Loss: 0.256\n",
            "457 Train Loss: 0.207 | val Loss: 0.254\n",
            "458 Train Loss: 0.317 | val Loss: 0.250\n",
            "459 Train Loss: 0.191 | val Loss: 0.247\n",
            "460 Train Loss: 0.218 | val Loss: 0.245\n",
            "461 Train Loss: 0.176 | val Loss: 0.243\n",
            "462 Train Loss: 0.190 | val Loss: 0.241\n",
            "463 Train Loss: 0.320 | val Loss: 0.241\n",
            "464 Train Loss: 0.183 | val Loss: 0.240\n",
            "465 Train Loss: 0.208 | val Loss: 0.241\n",
            "466 Train Loss: 0.178 | val Loss: 0.241\n",
            "467 Train Loss: 0.136 | val Loss: 0.240\n",
            "468 Train Loss: 0.292 | val Loss: 0.239\n",
            "469 Train Loss: 0.221 | val Loss: 0.237\n",
            "470 Train Loss: 0.171 | val Loss: 0.235\n",
            "471 Train Loss: 0.234 | val Loss: 0.234\n",
            "472 Train Loss: 0.183 | val Loss: 0.232\n",
            "473 Train Loss: 0.193 | val Loss: 0.232\n",
            "474 Train Loss: 0.248 | val Loss: 0.231\n",
            "475 Train Loss: 0.199 | val Loss: 0.231\n",
            "476 Train Loss: 0.243 | val Loss: 0.231\n",
            "477 Train Loss: 0.358 | val Loss: 0.231\n",
            "478 Train Loss: 0.175 | val Loss: 0.230\n",
            "479 Train Loss: 0.237 | val Loss: 0.232\n",
            "480 Train Loss: 0.190 | val Loss: 0.233\n",
            "481 Train Loss: 0.169 | val Loss: 0.234\n",
            "482 Train Loss: 0.236 | val Loss: 0.236\n",
            "483 Train Loss: 0.277 | val Loss: 0.237\n",
            "484 Train Loss: 0.205 | val Loss: 0.237\n",
            "485 Train Loss: 0.199 | val Loss: 0.238\n",
            "486 Train Loss: 0.195 | val Loss: 0.238\n",
            "487 Train Loss: 0.208 | val Loss: 0.238\n",
            "488 Train Loss: 0.139 | val Loss: 0.237\n",
            "489 Train Loss: 0.160 | val Loss: 0.236\n",
            "490 Train Loss: 0.163 | val Loss: 0.235\n",
            "491 Train Loss: 0.292 | val Loss: 0.236\n",
            "492 Train Loss: 0.188 | val Loss: 0.237\n",
            "493 Train Loss: 0.191 | val Loss: 0.237\n",
            "494 Train Loss: 0.299 | val Loss: 0.237\n",
            "495 Train Loss: 0.207 | val Loss: 0.236\n",
            "496 Train Loss: 0.159 | val Loss: 0.236\n",
            "497 Train Loss: 0.179 | val Loss: 0.235\n",
            "498 Train Loss: 0.217 | val Loss: 0.235\n",
            "499 Train Loss: 0.221 | val Loss: 0.234\n",
            "500 Train Loss: 0.131 | val Loss: 0.234\n",
            "501 Train Loss: 0.269 | val Loss: 0.236\n",
            "502 Train Loss: 0.191 | val Loss: 0.237\n",
            "503 Train Loss: 0.185 | val Loss: 0.239\n",
            "504 Train Loss: 0.210 | val Loss: 0.241\n",
            "505 Train Loss: 0.248 | val Loss: 0.243\n",
            "506 Train Loss: 0.212 | val Loss: 0.244\n",
            "507 Train Loss: 0.223 | val Loss: 0.245\n",
            "508 Train Loss: 0.210 | val Loss: 0.247\n",
            "509 Train Loss: 0.216 | val Loss: 0.247\n",
            "510 Train Loss: 0.183 | val Loss: 0.246\n",
            "511 Train Loss: 0.189 | val Loss: 0.245\n",
            "512 Train Loss: 0.253 | val Loss: 0.243\n",
            "513 Train Loss: 0.203 | val Loss: 0.240\n",
            "514 Train Loss: 0.216 | val Loss: 0.238\n",
            "515 Train Loss: 0.144 | val Loss: 0.236\n",
            "516 Train Loss: 0.209 | val Loss: 0.234\n",
            "517 Train Loss: 0.227 | val Loss: 0.232\n",
            "518 Train Loss: 0.166 | val Loss: 0.231\n",
            "519 Train Loss: 0.316 | val Loss: 0.231\n",
            "520 Train Loss: 0.187 | val Loss: 0.230\n",
            "521 Train Loss: 0.213 | val Loss: 0.230\n",
            "522 Train Loss: 0.233 | val Loss: 0.230\n",
            "523 Train Loss: 0.202 | val Loss: 0.229\n",
            "524 Train Loss: 0.158 | val Loss: 0.228\n",
            "525 Train Loss: 0.151 | val Loss: 0.227\n",
            "526 Train Loss: 0.195 | val Loss: 0.226\n",
            "527 Train Loss: 0.223 | val Loss: 0.224\n",
            "528 Train Loss: 0.136 | val Loss: 0.223\n",
            "529 Train Loss: 0.153 | val Loss: 0.221\n",
            "530 Train Loss: 0.168 | val Loss: 0.220\n",
            "531 Train Loss: 0.126 | val Loss: 0.218\n",
            "532 Train Loss: 0.149 | val Loss: 0.216\n",
            "533 Train Loss: 0.235 | val Loss: 0.215\n",
            "534 Train Loss: 0.183 | val Loss: 0.215\n",
            "535 Train Loss: 0.138 | val Loss: 0.215\n",
            "536 Train Loss: 0.214 | val Loss: 0.215\n",
            "537 Train Loss: 0.160 | val Loss: 0.215\n",
            "538 Train Loss: 0.161 | val Loss: 0.216\n",
            "539 Train Loss: 0.184 | val Loss: 0.217\n",
            "540 Train Loss: 0.155 | val Loss: 0.218\n",
            "541 Train Loss: 0.296 | val Loss: 0.218\n",
            "542 Train Loss: 0.242 | val Loss: 0.219\n",
            "543 Train Loss: 0.156 | val Loss: 0.220\n",
            "544 Train Loss: 0.203 | val Loss: 0.221\n",
            "545 Train Loss: 0.166 | val Loss: 0.224\n",
            "546 Train Loss: 0.178 | val Loss: 0.226\n",
            "547 Train Loss: 0.224 | val Loss: 0.227\n",
            "548 Train Loss: 0.141 | val Loss: 0.229\n",
            "549 Train Loss: 0.150 | val Loss: 0.231\n",
            "550 Train Loss: 0.215 | val Loss: 0.234\n",
            "551 Train Loss: 0.174 | val Loss: 0.236\n",
            "552 Train Loss: 0.182 | val Loss: 0.238\n",
            "553 Train Loss: 0.120 | val Loss: 0.239\n",
            "554 Train Loss: 0.217 | val Loss: 0.240\n",
            "555 Train Loss: 0.181 | val Loss: 0.241\n",
            "556 Train Loss: 0.198 | val Loss: 0.241\n",
            "557 Train Loss: 0.200 | val Loss: 0.241\n",
            "558 Train Loss: 0.142 | val Loss: 0.241\n",
            "559 Train Loss: 0.138 | val Loss: 0.240\n",
            "560 Train Loss: 0.202 | val Loss: 0.240\n",
            "561 Train Loss: 0.165 | val Loss: 0.239\n",
            "562 Train Loss: 0.236 | val Loss: 0.237\n",
            "563 Train Loss: 0.127 | val Loss: 0.235\n",
            "564 Train Loss: 0.192 | val Loss: 0.235\n",
            "565 Train Loss: 0.178 | val Loss: 0.234\n",
            "566 Train Loss: 0.143 | val Loss: 0.234\n",
            "567 Train Loss: 0.198 | val Loss: 0.234\n",
            "568 Train Loss: 0.212 | val Loss: 0.234\n",
            "569 Train Loss: 0.140 | val Loss: 0.235\n",
            "570 Train Loss: 0.215 | val Loss: 0.236\n",
            "571 Train Loss: 0.108 | val Loss: 0.237\n",
            "572 Train Loss: 0.226 | val Loss: 0.238\n",
            "573 Train Loss: 0.168 | val Loss: 0.240\n",
            "574 Train Loss: 0.189 | val Loss: 0.242\n",
            "575 Train Loss: 0.158 | val Loss: 0.242\n",
            "576 Train Loss: 0.133 | val Loss: 0.243\n",
            "577 Train Loss: 0.168 | val Loss: 0.242\n",
            "578 Train Loss: 0.223 | val Loss: 0.241\n",
            "579 Train Loss: 0.253 | val Loss: 0.239\n",
            "580 Train Loss: 0.197 | val Loss: 0.237\n",
            "581 Train Loss: 0.171 | val Loss: 0.236\n",
            "582 Train Loss: 0.195 | val Loss: 0.235\n",
            "583 Train Loss: 0.157 | val Loss: 0.233\n",
            "584 Train Loss: 0.174 | val Loss: 0.231\n",
            "585 Train Loss: 0.258 | val Loss: 0.230\n",
            "586 Train Loss: 0.214 | val Loss: 0.228\n",
            "587 Train Loss: 0.305 | val Loss: 0.229\n",
            "588 Train Loss: 0.098 | val Loss: 0.229\n",
            "589 Train Loss: 0.262 | val Loss: 0.229\n",
            "590 Train Loss: 0.168 | val Loss: 0.230\n",
            "591 Train Loss: 0.150 | val Loss: 0.231\n",
            "592 Train Loss: 0.169 | val Loss: 0.232\n",
            "593 Train Loss: 0.181 | val Loss: 0.234\n",
            "594 Train Loss: 0.243 | val Loss: 0.235\n",
            "595 Train Loss: 0.332 | val Loss: 0.235\n",
            "596 Train Loss: 0.265 | val Loss: 0.234\n",
            "597 Train Loss: 0.229 | val Loss: 0.233\n",
            "598 Train Loss: 0.148 | val Loss: 0.232\n",
            "599 Train Loss: 0.165 | val Loss: 0.231\n",
            "600 Train Loss: 0.138 | val Loss: 0.231\n",
            "601 Train Loss: 0.213 | val Loss: 0.230\n",
            "602 Train Loss: 0.116 | val Loss: 0.229\n",
            "603 Train Loss: 0.185 | val Loss: 0.227\n",
            "604 Train Loss: 0.186 | val Loss: 0.224\n",
            "605 Train Loss: 0.159 | val Loss: 0.222\n",
            "606 Train Loss: 0.185 | val Loss: 0.221\n",
            "607 Train Loss: 0.166 | val Loss: 0.220\n",
            "608 Train Loss: 0.172 | val Loss: 0.219\n",
            "609 Train Loss: 0.174 | val Loss: 0.219\n",
            "610 Train Loss: 0.140 | val Loss: 0.220\n",
            "611 Train Loss: 0.124 | val Loss: 0.220\n",
            "612 Train Loss: 0.203 | val Loss: 0.218\n",
            "613 Train Loss: 0.109 | val Loss: 0.216\n",
            "614 Train Loss: 0.226 | val Loss: 0.216\n",
            "615 Train Loss: 0.090 | val Loss: 0.217\n",
            "616 Train Loss: 0.135 | val Loss: 0.217\n",
            "617 Train Loss: 0.161 | val Loss: 0.217\n",
            "618 Train Loss: 0.220 | val Loss: 0.216\n",
            "619 Train Loss: 0.153 | val Loss: 0.214\n",
            "620 Train Loss: 0.165 | val Loss: 0.214\n",
            "621 Train Loss: 0.118 | val Loss: 0.215\n",
            "622 Train Loss: 0.204 | val Loss: 0.214\n",
            "623 Train Loss: 0.231 | val Loss: 0.212\n",
            "624 Train Loss: 0.155 | val Loss: 0.211\n",
            "625 Train Loss: 0.225 | val Loss: 0.209\n",
            "626 Train Loss: 0.212 | val Loss: 0.207\n",
            "627 Train Loss: 0.171 | val Loss: 0.206\n",
            "628 Train Loss: 0.135 | val Loss: 0.205\n",
            "629 Train Loss: 0.218 | val Loss: 0.204\n",
            "630 Train Loss: 0.153 | val Loss: 0.205\n",
            "631 Train Loss: 0.198 | val Loss: 0.205\n",
            "632 Train Loss: 0.200 | val Loss: 0.204\n",
            "633 Train Loss: 0.165 | val Loss: 0.203\n",
            "634 Train Loss: 0.137 | val Loss: 0.203\n",
            "635 Train Loss: 0.165 | val Loss: 0.206\n",
            "636 Train Loss: 0.094 | val Loss: 0.208\n",
            "637 Train Loss: 0.218 | val Loss: 0.210\n",
            "638 Train Loss: 0.247 | val Loss: 0.211\n",
            "639 Train Loss: 0.158 | val Loss: 0.210\n",
            "640 Train Loss: 0.224 | val Loss: 0.210\n",
            "641 Train Loss: 0.167 | val Loss: 0.211\n",
            "642 Train Loss: 0.161 | val Loss: 0.211\n",
            "643 Train Loss: 0.109 | val Loss: 0.212\n",
            "644 Train Loss: 0.203 | val Loss: 0.213\n",
            "645 Train Loss: 0.182 | val Loss: 0.214\n",
            "646 Train Loss: 0.194 | val Loss: 0.216\n",
            "647 Train Loss: 0.146 | val Loss: 0.217\n",
            "648 Train Loss: 0.152 | val Loss: 0.219\n",
            "649 Train Loss: 0.191 | val Loss: 0.219\n",
            "650 Train Loss: 0.173 | val Loss: 0.217\n"
          ]
        }
      ],
      "source": [
        "train_loss_ = []\n",
        "val_loss_ = []\n",
        "\n",
        "for epoch in range(1, 651):\n",
        "\n",
        "  epoch_train_loss = []\n",
        "  epoch_val_loss = []\n",
        "  train_loss = train(Data)\n",
        "  val_loss = val(Data)\n",
        "\n",
        "\n",
        "\n",
        "\n",
        "\n",
        "\n",
        "  epoch_train_loss.append(train_loss.item())\n",
        "  epoch_val_loss.append(val_loss.item())\n",
        "\n",
        "\n",
        "\n",
        "\n",
        "\n",
        "\n",
        "  val_loss_.append(sum(epoch_val_loss)/len(epoch_val_loss))\n",
        "  train_loss_.append(sum(epoch_train_loss)/len(epoch_train_loss))\n",
        "  print(epoch,'Train Loss: %.3f | val Loss: %.3f'%( train_loss,val_loss))"
      ]
    },
    {
      "cell_type": "markdown",
      "metadata": {
        "id": "kqljLfZRBdLI"
      },
      "source": [
        "# Visualize train loss and val loss.\n"
      ]
    },
    {
      "cell_type": "code",
      "execution_count": null,
      "metadata": {
        "id": "vLTAwmyd4xu5",
        "colab": {
          "base_uri": "https://localhost:8080/",
          "height": 472
        },
        "outputId": "ba05fb3b-3a4b-4858-b025-8467f443766d"
      },
      "outputs": [
        {
          "output_type": "display_data",
          "data": {
            "text/plain": [
              "<Figure size 640x480 with 1 Axes>"
            ],
            "image/png": "[encoded data removed]"
          },
          "metadata": {}
        }
      ],
      "source": [
        "plt.plot(train_loss_, \"c\", linewidth = 1)\n",
        "plt.plot(val_loss_, \"k\", linewidth = 2)\n",
        "plt.xlabel('epoch')\n",
        "plt.ylabel('loss')\n",
        "plt.legend(['Train','Val'])\n",
        "plt.title('Train vs Val Loss for the first scenario (GAT)')\n",
        "plt.grid()\n",
        "plt.show()"
      ]
    },
    {
      "cell_type": "markdown",
      "metadata": {
        "id": "Lt0WLgBhBuUc"
      },
      "source": [
        "# Compute the accuracy of the model."
      ]
    },
    {
      "cell_type": "code",
      "execution_count": null,
      "metadata": {
        "id": "zLWgoMmAcb2g"
      },
      "outputs": [],
      "source": [
        "def test(Data):\n",
        "      model.eval()\n",
        "      with torch.no_grad():\n",
        "        out = model(Data[\"x\"], Data[\"edge_index\"])\n",
        "        pred = out.argmax(dim = 1)\n",
        "        test_correct = pred[Data[\"test_mask\"]] == Data[\"y\"][Data[\"test_mask\"]]  # Check against ground-truth labels.\n",
        "        test_acc = int(test_correct.sum()) / int(Data[\"test_mask\"].sum())  # Derive ratio of correct predictions.\n",
        "        return test_acc\n"
      ]
    },
    {
      "cell_type": "code",
      "execution_count": null,
      "metadata": {
        "id": "U0TR8W314__T",
        "colab": {
          "base_uri": "https://localhost:8080/"
        },
        "outputId": "8a3e3033-673c-4694-9b38-1dd9fbf78591"
      },
      "outputs": [
        {
          "output_type": "stream",
          "name": "stdout",
          "text": [
            "Test Accuracy: 86.67\n"
          ]
        }
      ],
      "source": [
        "test_acc = test(Data)\n",
        "print(f'Test Accuracy: {100*test_acc:.2f}')"
      ]
    },
    {
      "cell_type": "markdown",
      "metadata": {
        "id": "pmigbk_nCP2B"
      },
      "source": [
        "# We take a look at the node embeddings produced by our GNN (after training)."
      ]
    },
    {
      "cell_type": "code",
      "execution_count": null,
      "metadata": {
        "id": "GLm06H4k5xMK"
      },
      "outputs": [],
      "source": [
        "import matplotlib.pyplot as plt\n",
        "from sklearn.manifold import TSNE\n",
        "import seaborn as sns\n",
        "\n",
        "def visualize(h):\n",
        "    z = TSNE(n_components = 2, random_state = 0).fit_transform(h.detach().numpy())\n",
        "    plt.figure(figsize = (6,4),  dpi = 120)\n",
        "    sns.scatterplot(x = z[:, 0], y = z[:, 1], hue = Data[\"y\"], palette=sns.color_palette(\"bright\",5)).set(title = \"First scenario data T-SNE projection after training (GAT)\")"
      ]
    },
    {
      "cell_type": "code",
      "execution_count": null,
      "metadata": {
        "id": "ZNAPyuvzErlU",
        "colab": {
          "base_uri": "https://localhost:8080/",
          "height": 465
        },
        "outputId": "59a86d9a-012f-456a-a333-62261eff120c"
      },
      "outputs": [
        {
          "output_type": "display_data",
          "data": {
            "text/plain": [
              "<Figure size 720x480 with 1 Axes>"
            ],
            "image/png": "[encoded data removed]"
          },
          "metadata": {}
        }
      ],
      "source": [
        "model.eval()\n",
        "out = model(Data[\"x\"], Data[\"edge_index\"])\n",
        "visualize(out)"
      ]
    },
    {
      "cell_type": "markdown",
      "metadata": {
        "id": "x9ZgR6qQCUxQ"
      },
      "source": [
        "# Confusion matrix."
      ]
    },
    {
      "cell_type": "code",
      "execution_count": null,
      "metadata": {
        "id": "G6jMRQaQEy0e",
        "colab": {
          "base_uri": "https://localhost:8080/"
        },
        "outputId": "eea39e7f-c870-46ca-cf7f-463caceb6e66"
      },
      "outputs": [
        {
          "output_type": "execute_result",
          "data": {
            "text/plain": [
              "tensor([2, 1, 3, 4, 4, 1, 0, 4, 4, 3, 4, 3, 1, 0, 2, 4, 2, 1, 3, 0, 0, 1, 2, 1,\n",
              "        1, 2, 3, 0, 2, 4, 2, 1, 0, 0, 0, 4, 0, 0, 1, 1, 3, 0, 0, 1, 1, 4, 4, 1,\n",
              "        3, 4, 0, 4, 3, 3, 3, 3, 4, 2, 2, 2, 4, 4, 3, 2, 1, 3, 3, 0, 3, 0, 4, 4,\n",
              "        0, 0, 1, 2, 4, 1, 0, 4, 1, 3, 2, 0, 0, 4, 1, 3, 0, 4, 2, 2, 3, 2, 4, 0,\n",
              "        3, 2, 1, 4, 4, 2, 4, 2, 0, 0, 4, 2, 4, 0, 0, 3, 1, 3, 3, 1, 1, 1, 1, 3,\n",
              "        2, 1, 2, 4, 1, 0, 1, 2, 0, 2, 1, 3, 3, 2, 2, 4, 3, 4, 2, 3, 0, 0, 2, 3,\n",
              "        1, 1, 2, 2, 4, 0])"
            ]
          },
          "metadata": {},
          "execution_count": 18
        }
      ],
      "source": [
        "pred_t = out.argmax(dim=1)\n",
        "pred_t"
      ]
    },
    {
      "cell_type": "code",
      "execution_count": null,
      "metadata": {
        "id": "7tVzWotAE1qc",
        "colab": {
          "base_uri": "https://localhost:8080/"
        },
        "outputId": "41ccf57d-8dfb-4b62-8fa6-807abc1b9a4c"
      },
      "outputs": [
        {
          "output_type": "execute_result",
          "data": {
            "text/plain": [
              "tensor([2, 1, 3, 4, 4, 1, 0, 4, 4, 2, 4, 3, 1, 0, 2, 4, 2, 1, 3, 0, 0, 1, 2, 1,\n",
              "        1, 2, 3, 0, 2, 4, 2, 1, 0, 0, 0, 3, 0, 0, 1, 1, 3, 0, 0, 1, 1, 4, 4, 1,\n",
              "        3, 4, 0, 4, 3, 3, 3, 3, 4, 2, 2, 2, 4, 4, 3, 2, 1, 3, 3, 0, 3, 0, 4, 4,\n",
              "        0, 0, 1, 2, 4, 1, 0, 4, 1, 3, 2, 0, 0, 4, 1, 3, 0, 4, 2, 2, 3, 2, 4, 3,\n",
              "        3, 2, 1, 4, 4, 2, 4, 2, 0, 0, 4, 2, 3, 0, 0, 3, 1, 4, 3, 1, 1, 1, 1, 3,\n",
              "        2, 1, 2, 4, 1, 0, 1, 3, 0, 2, 1, 3, 3, 2, 2, 4, 3, 4, 2, 3, 0, 0, 2, 3,\n",
              "        1, 1, 2, 2, 4, 0])"
            ]
          },
          "metadata": {},
          "execution_count": 19
        }
      ],
      "source": [
        "Data[\"y\"]"
      ]
    },
    {
      "cell_type": "code",
      "execution_count": null,
      "metadata": {
        "id": "6F6wVO-qE3YY",
        "colab": {
          "base_uri": "https://localhost:8080/",
          "height": 564
        },
        "outputId": "345de38e-2dac-4aa1-8ee5-e4310d603871"
      },
      "outputs": [
        {
          "output_type": "display_data",
          "data": {
            "text/plain": [
              "<Figure size 800x600 with 2 Axes>"
            ],
            "image/png": "[encoded data removed]"
          },
          "metadata": {}
        }
      ],
      "source": [
        "import seaborn as sn\n",
        "confusion_matrix = pd.crosstab(Data['y'], pred_t, rownames=['Actual'], colnames = ['Predicted'], margins = True)\n",
        "plt.figure(figsize=(8, 6))\n",
        "sn.heatmap(confusion_matrix, annot=True,  cmap=\"Blues\", fmt='g')\n",
        "plt.title('First scenario, confusion matrix (GAT) for the whole data')\n",
        "plt.show()"
      ]
    },
    {
      "cell_type": "code",
      "execution_count": null,
      "metadata": {
        "id": "QrGKZ4PuE5O8"
      },
      "outputs": [],
      "source": [
        "pred = pred_t[Data[\"test_mask\"]]"
      ]
    },
    {
      "cell_type": "code",
      "execution_count": null,
      "metadata": {
        "id": "6t78lZFXNGL4"
      },
      "outputs": [],
      "source": [
        "act = Data[\"y\"][Data[\"test_mask\"]]"
      ]
    },
    {
      "cell_type": "code",
      "execution_count": null,
      "metadata": {
        "id": "8fKv6KpVE8km",
        "colab": {
          "base_uri": "https://localhost:8080/",
          "height": 519
        },
        "outputId": "4c436c80-4b96-482c-c939-d3af793c8ed3"
      },
      "outputs": [
        {
          "output_type": "execute_result",
          "data": {
            "text/plain": [
              "    y_Actual  y_Predicted\n",
              "0          1            1\n",
              "1          2            2\n",
              "2          2            2\n",
              "3          3            4\n",
              "4          4            4\n",
              "5          0            0\n",
              "6          2            2\n",
              "7          4            4\n",
              "8          0            0\n",
              "9          4            4\n",
              "10         1            1\n",
              "11         3            3\n",
              "12         0            0\n",
              "13         3            4\n",
              "14         1            1"
            ],
            "text/html": [
              "\n",
              "  <div id=\"df-4c617ceb-f46d-4836-8f2f-c9bc0769f7f1\" class=\"colab-df-container\">\n",
              "    <div>\n",
              "<style scoped>\n",
              "    .dataframe tbody tr th:only-of-type {\n",
              "        vertical-align: middle;\n",
              "    }\n",
              "\n",
              "    .dataframe tbody tr th {\n",
              "        vertical-align: top;\n",
              "    }\n",
              "\n",
              "    .dataframe thead th {\n",
              "        text-align: right;\n",
              "    }\n",
              "</style>\n",
              "<table border=\"1\" class=\"dataframe\">\n",
              "  <thead>\n",
              "    <tr style=\"text-align: right;\">\n",
              "      <th></th>\n",
              "      <th>y_Actual</th>\n",
              "      <th>y_Predicted</th>\n",
              "    </tr>\n",
              "  </thead>\n",
              "  <tbody>\n",
              "    <tr>\n",
              "      <th>0</th>\n",
              "      <td>1</td>\n",
              "      <td>1</td>\n",
              "    </tr>\n",
              "    <tr>\n",
              "      <th>1</th>\n",
              "      <td>2</td>\n",
              "      <td>2</td>\n",
              "    </tr>\n",
              "    <tr>\n",
              "      <th>2</th>\n",
              "      <td>2</td>\n",
              "      <td>2</td>\n",
              "    </tr>\n",
              "    <tr>\n",
              "      <th>3</th>\n",
              "      <td>3</td>\n",
              "      <td>4</td>\n",
              "    </tr>\n",
              "    <tr>\n",
              "      <th>4</th>\n",
              "      <td>4</td>\n",
              "      <td>4</td>\n",
              "    </tr>\n",
              "    <tr>\n",
              "      <th>5</th>\n",
              "      <td>0</td>\n",
              "      <td>0</td>\n",
              "    </tr>\n",
              "    <tr>\n",
              "      <th>6</th>\n",
              "      <td>2</td>\n",
              "      <td>2</td>\n",
              "    </tr>\n",
              "    <tr>\n",
              "      <th>7</th>\n",
              "      <td>4</td>\n",
              "      <td>4</td>\n",
              "    </tr>\n",
              "    <tr>\n",
              "      <th>8</th>\n",
              "      <td>0</td>\n",
              "      <td>0</td>\n",
              "    </tr>\n",
              "    <tr>\n",
              "      <th>9</th>\n",
              "      <td>4</td>\n",
              "      <td>4</td>\n",
              "    </tr>\n",
              "    <tr>\n",
              "      <th>10</th>\n",
              "      <td>1</td>\n",
              "      <td>1</td>\n",
              "    </tr>\n",
              "    <tr>\n",
              "      <th>11</th>\n",
              "      <td>3</td>\n",
              "      <td>3</td>\n",
              "    </tr>\n",
              "    <tr>\n",
              "      <th>12</th>\n",
              "      <td>0</td>\n",
              "      <td>0</td>\n",
              "    </tr>\n",
              "    <tr>\n",
              "      <th>13</th>\n",
              "      <td>3</td>\n",
              "      <td>4</td>\n",
              "    </tr>\n",
              "    <tr>\n",
              "      <th>14</th>\n",
              "      <td>1</td>\n",
              "      <td>1</td>\n",
              "    </tr>\n",
              "  </tbody>\n",
              "</table>\n",
              "</div>\n",
              "    <div class=\"colab-df-buttons\">\n",
              "\n",
              "  <div class=\"colab-df-container\">\n",
              "    <button class=\"colab-df-convert\" onclick=\"convertToInteractive('df-4c617ceb-f46d-4836-8f2f-c9bc0769f7f1')\"\n",
              "            title=\"Convert this dataframe to an interactive table.\"\n",
              "            style=\"display:none;\">\n",
              "\n",
              "  <svg xmlns=\"http://www.w3.org/2000/svg\" height=\"24px\" viewBox=\"0 -960 960 960\">\n",
              "    <path d=\"M120-120v-720h720v720H120Zm60-500h600v-160H180v160Zm220 220h160v-160H400v160Zm0 220h160v-160H400v160ZM180-400h160v-160H180v160Zm440 0h160v-160H620v160ZM180-180h160v-160H180v160Zm440 0h160v-160H620v160Z\"/>\n",
              "  </svg>\n",
              "    </button>\n",
              "\n",
              "  <style>\n",
              "    .colab-df-container {\n",
              "      display:flex;\n",
              "      gap: 12px;\n",
              "    }\n",
              "\n",
              "    .colab-df-convert {\n",
              "      background-color: #E8F0FE;\n",
              "      border: none;\n",
              "      border-radius: 50%;\n",
              "      cursor: pointer;\n",
              "      display: none;\n",
              "      fill: #1967D2;\n",
              "      height: 32px;\n",
              "      padding: 0 0 0 0;\n",
              "      width: 32px;\n",
              "    }\n",
              "\n",
              "    .colab-df-convert:hover {\n",
              "      background-color: #E2EBFA;\n",
              "      box-shadow: 0px 1px 2px rgba(60, 64, 67, 0.3), 0px 1px 3px 1px rgba(60, 64, 67, 0.15);\n",
              "      fill: #174EA6;\n",
              "    }\n",
              "\n",
              "    .colab-df-buttons div {\n",
              "      margin-bottom: 4px;\n",
              "    }\n",
              "\n",
              "    [theme=dark] .colab-df-convert {\n",
              "      background-color: #3B4455;\n",
              "      fill: #D2E3FC;\n",
              "    }\n",
              "\n",
              "    [theme=dark] .colab-df-convert:hover {\n",
              "      background-color: #434B5C;\n",
              "      box-shadow: 0px 1px 3px 1px rgba(0, 0, 0, 0.15);\n",
              "      filter: drop-shadow(0px 1px 2px rgba(0, 0, 0, 0.3));\n",
              "      fill: #FFFFFF;\n",
              "    }\n",
              "  </style>\n",
              "\n",
              "    <script>\n",
              "      const buttonEl =\n",
              "        document.querySelector('#df-4c617ceb-f46d-4836-8f2f-c9bc0769f7f1 button.colab-df-convert');\n",
              "      buttonEl.style.display =\n",
              "        google.colab.kernel.accessAllowed ? 'block' : 'none';\n",
              "\n",
              "      async function convertToInteractive(key) {\n",
              "        const element = document.querySelector('#df-4c617ceb-f46d-4836-8f2f-c9bc0769f7f1');\n",
              "        const dataTable =\n",
              "          await google.colab.kernel.invokeFunction('convertToInteractive',\n",
              "                                                    [key], {});\n",
              "        if (!dataTable) return;\n",
              "\n",
              "        const docLinkHtml = 'Like what you see? Visit the ' +\n",
              "          '<a target=\"_blank\" href=https://colab.research.google.com/notebooks/data_table.ipynb>data table notebook</a>'\n",
              "          + ' to learn more about interactive tables.';\n",
              "        element.innerHTML = '';\n",
              "        dataTable['output_type'] = 'display_data';\n",
              "        await google.colab.output.renderOutput(dataTable, element);\n",
              "        const docLink = document.createElement('div');\n",
              "        docLink.innerHTML = docLinkHtml;\n",
              "        element.appendChild(docLink);\n",
              "      }\n",
              "    </script>\n",
              "  </div>\n",
              "\n",
              "\n",
              "<div id=\"df-ebbf4895-fda1-4bd4-b612-dd10aa88f57e\">\n",
              "  <button class=\"colab-df-quickchart\" onclick=\"quickchart('df-ebbf4895-fda1-4bd4-b612-dd10aa88f57e')\"\n",
              "            title=\"Suggest charts\"\n",
              "            style=\"display:none;\">\n",
              "\n",
              "<svg xmlns=\"http://www.w3.org/2000/svg\" height=\"24px\"viewBox=\"0 0 24 24\"\n",
              "     width=\"24px\">\n",
              "    <g>\n",
              "        <path d=\"M19 3H5c-1.1 0-2 .9-2 2v14c0 1.1.9 2 2 2h14c1.1 0 2-.9 2-2V5c0-1.1-.9-2-2-2zM9 17H7v-7h2v7zm4 0h-2V7h2v10zm4 0h-2v-4h2v4z\"/>\n",
              "    </g>\n",
              "</svg>\n",
              "  </button>\n",
              "\n",
              "<style>\n",
              "  .colab-df-quickchart {\n",
              "      --bg-color: #E8F0FE;\n",
              "      --fill-color: #1967D2;\n",
              "      --hover-bg-color: #E2EBFA;\n",
              "      --hover-fill-color: #174EA6;\n",
              "      --disabled-fill-color: #AAA;\n",
              "      --disabled-bg-color: #DDD;\n",
              "  }\n",
              "\n",
              "  [theme=dark] .colab-df-quickchart {\n",
              "      --bg-color: #3B4455;\n",
              "      --fill-color: #D2E3FC;\n",
              "      --hover-bg-color: #434B5C;\n",
              "      --hover-fill-color: #FFFFFF;\n",
              "      --disabled-bg-color: #3B4455;\n",
              "      --disabled-fill-color: #666;\n",
              "  }\n",
              "\n",
              "  .colab-df-quickchart {\n",
              "    background-color: var(--bg-color);\n",
              "    border: none;\n",
              "    border-radius: 50%;\n",
              "    cursor: pointer;\n",
              "    display: none;\n",
              "    fill: var(--fill-color);\n",
              "    height: 32px;\n",
              "    padding: 0;\n",
              "    width: 32px;\n",
              "  }\n",
              "\n",
              "  .colab-df-quickchart:hover {\n",
              "    background-color: var(--hover-bg-color);\n",
              "    box-shadow: 0 1px 2px rgba(60, 64, 67, 0.3), 0 1px 3px 1px rgba(60, 64, 67, 0.15);\n",
              "    fill: var(--button-hover-fill-color);\n",
              "  }\n",
              "\n",
              "  .colab-df-quickchart-complete:disabled,\n",
              "  .colab-df-quickchart-complete:disabled:hover {\n",
              "    background-color: var(--disabled-bg-color);\n",
              "    fill: var(--disabled-fill-color);\n",
              "    box-shadow: none;\n",
              "  }\n",
              "\n",
              "  .colab-df-spinner {\n",
              "    border: 2px solid var(--fill-color);\n",
              "    border-color: transparent;\n",
              "    border-bottom-color: var(--fill-color);\n",
              "    animation:\n",
              "      spin 1s steps(1) infinite;\n",
              "  }\n",
              "\n",
              "  @keyframes spin {\n",
              "    0% {\n",
              "      border-color: transparent;\n",
              "      border-bottom-color: var(--fill-color);\n",
              "      border-left-color: var(--fill-color);\n",
              "    }\n",
              "    20% {\n",
              "      border-color: transparent;\n",
              "      border-left-color: var(--fill-color);\n",
              "      border-top-color: var(--fill-color);\n",
              "    }\n",
              "    30% {\n",
              "      border-color: transparent;\n",
              "      border-left-color: var(--fill-color);\n",
              "      border-top-color: var(--fill-color);\n",
              "      border-right-color: var(--fill-color);\n",
              "    }\n",
              "    40% {\n",
              "      border-color: transparent;\n",
              "      border-right-color: var(--fill-color);\n",
              "      border-top-color: var(--fill-color);\n",
              "    }\n",
              "    60% {\n",
              "      border-color: transparent;\n",
              "      border-right-color: var(--fill-color);\n",
              "    }\n",
              "    80% {\n",
              "      border-color: transparent;\n",
              "      border-right-color: var(--fill-color);\n",
              "      border-bottom-color: var(--fill-color);\n",
              "    }\n",
              "    90% {\n",
              "      border-color: transparent;\n",
              "      border-bottom-color: var(--fill-color);\n",
              "    }\n",
              "  }\n",
              "</style>\n",
              "\n",
              "  <script>\n",
              "    async function quickchart(key) {\n",
              "      const quickchartButtonEl =\n",
              "        document.querySelector('#' + key + ' button');\n",
              "      quickchartButtonEl.disabled = true;  // To prevent multiple clicks.\n",
              "      quickchartButtonEl.classList.add('colab-df-spinner');\n",
              "      try {\n",
              "        const charts = await google.colab.kernel.invokeFunction(\n",
              "            'suggestCharts', [key], {});\n",
              "      } catch (error) {\n",
              "        console.error('Error during call to suggestCharts:', error);\n",
              "      }\n",
              "      quickchartButtonEl.classList.remove('colab-df-spinner');\n",
              "      quickchartButtonEl.classList.add('colab-df-quickchart-complete');\n",
              "    }\n",
              "    (() => {\n",
              "      let quickchartButtonEl =\n",
              "        document.querySelector('#df-ebbf4895-fda1-4bd4-b612-dd10aa88f57e button');\n",
              "      quickchartButtonEl.style.display =\n",
              "        google.colab.kernel.accessAllowed ? 'block' : 'none';\n",
              "    })();\n",
              "  </script>\n",
              "</div>\n",
              "\n",
              "  <div id=\"id_bb8ad4a2-fe8a-491a-abf8-7d13b55d1164\">\n",
              "    <style>\n",
              "      .colab-df-generate {\n",
              "        background-color: #E8F0FE;\n",
              "        border: none;\n",
              "        border-radius: 50%;\n",
              "        cursor: pointer;\n",
              "        display: none;\n",
              "        fill: #1967D2;\n",
              "        height: 32px;\n",
              "        padding: 0 0 0 0;\n",
              "        width: 32px;\n",
              "      }\n",
              "\n",
              "      .colab-df-generate:hover {\n",
              "        background-color: #E2EBFA;\n",
              "        box-shadow: 0px 1px 2px rgba(60, 64, 67, 0.3), 0px 1px 3px 1px rgba(60, 64, 67, 0.15);\n",
              "        fill: #174EA6;\n",
              "      }\n",
              "\n",
              "      [theme=dark] .colab-df-generate {\n",
              "        background-color: #3B4455;\n",
              "        fill: #D2E3FC;\n",
              "      }\n",
              "\n",
              "      [theme=dark] .colab-df-generate:hover {\n",
              "        background-color: #434B5C;\n",
              "        box-shadow: 0px 1px 3px 1px rgba(0, 0, 0, 0.15);\n",
              "        filter: drop-shadow(0px 1px 2px rgba(0, 0, 0, 0.3));\n",
              "        fill: #FFFFFF;\n",
              "      }\n",
              "    </style>\n",
              "    <button class=\"colab-df-generate\" onclick=\"generateWithVariable('df')\"\n",
              "            title=\"Generate code using this dataframe.\"\n",
              "            style=\"display:none;\">\n",
              "\n",
              "  <svg xmlns=\"http://www.w3.org/2000/svg\" height=\"24px\"viewBox=\"0 0 24 24\"\n",
              "       width=\"24px\">\n",
              "    <path d=\"M7,19H8.4L18.45,9,17,7.55,7,17.6ZM5,21V16.75L18.45,3.32a2,2,0,0,1,2.83,0l1.4,1.43a1.91,1.91,0,0,1,.58,1.4,1.91,1.91,0,0,1-.58,1.4L9.25,21ZM18.45,9,17,7.55Zm-12,3A5.31,5.31,0,0,0,4.9,8.1,5.31,5.31,0,0,0,1,6.5,5.31,5.31,0,0,0,4.9,4.9,5.31,5.31,0,0,0,6.5,1,5.31,5.31,0,0,0,8.1,4.9,5.31,5.31,0,0,0,12,6.5,5.46,5.46,0,0,0,6.5,12Z\"/>\n",
              "  </svg>\n",
              "    </button>\n",
              "    <script>\n",
              "      (() => {\n",
              "      const buttonEl =\n",
              "        document.querySelector('#id_bb8ad4a2-fe8a-491a-abf8-7d13b55d1164 button.colab-df-generate');\n",
              "      buttonEl.style.display =\n",
              "        google.colab.kernel.accessAllowed ? 'block' : 'none';\n",
              "\n",
              "      buttonEl.onclick = () => {\n",
              "        google.colab.notebook.generateWithVariable('df');\n",
              "      }\n",
              "      })();\n",
              "    </script>\n",
              "  </div>\n",
              "\n",
              "    </div>\n",
              "  </div>\n"
            ]
          },
          "metadata": {},
          "execution_count": 23
        }
      ],
      "source": [
        "data = {'y_Actual':    act,\n",
        "        'y_Predicted':pred\n",
        "        }\n",
        "\n",
        "df = pd.DataFrame(data, columns = ['y_Actual','y_Predicted'])\n",
        "df"
      ]
    },
    {
      "cell_type": "code",
      "execution_count": null,
      "metadata": {
        "id": "DH36CP2mNKGh",
        "colab": {
          "base_uri": "https://localhost:8080/",
          "height": 564
        },
        "outputId": "b9b8cb69-cd99-4ff7-f033-9cf288955349"
      },
      "outputs": [
        {
          "output_type": "display_data",
          "data": {
            "text/plain": [
              "<Figure size 800x600 with 2 Axes>"
            ],
            "image/png": "[encoded data removed]"
          },
          "metadata": {}
        }
      ],
      "source": [
        "import seaborn as sn\n",
        "confusion_matrix = pd.crosstab(act, pred, rownames=['Actual'], colnames = ['Predicted'], margins = True)\n",
        "plt.figure(figsize=(8, 6))\n",
        "sn.heatmap(confusion_matrix, annot=True,  cmap=\"Blues\", fmt='g')\n",
        "plt.title('First scenario, confusion matrix (GAT) for the test data')\n",
        "plt.show()"
      ]
    },
    {
      "cell_type": "code",
      "source": [
        "from sklearn.metrics import roc_auc_score, f1_score, recall_score\n",
        "# Assuming these are your predicted and true labels in PyTorch tensors\n",
        "out = model(Data[\"x\"], Data[\"edge_index\"])\n",
        "pred = out.argmax(dim = 1)\n",
        "y_pred_np = pred[Data[\"test_mask\"]]\n",
        "\n",
        "y_true_np = Data[\"y\"][Data[\"test_mask\"]]\n",
        "# Calculate F-score and recall per class\n",
        "f_score = f1_score(y_true_np, y_pred_np, average='macro')\n",
        "recall = recall_score(y_true_np, y_pred_np, average='macro')\n",
        "\n",
        "print(f'F-score: {f_score:.3f}')\n",
        "print(f'Recall: {recall:.3f}')\n"
      ],
      "metadata": {
        "id": "gwJbFmRv7DJA",
        "colab": {
          "base_uri": "https://localhost:8080/"
        },
        "outputId": "80faf19b-7904-45bc-e0e6-9d162e1e5a48"
      },
      "execution_count": null,
      "outputs": [
        {
          "output_type": "stream",
          "name": "stdout",
          "text": [
            "F-score: 0.850\n",
            "Recall: 0.867\n"
          ]
        }
      ]
    },
    {
      "cell_type": "code",
      "source": [
        "from sklearn.metrics import cohen_kappa_score\n",
        "\n",
        "# Calculate Cohen's Kappa\n",
        "kappa = cohen_kappa_score(y_true_np, y_pred_np)\n",
        "\n",
        "print(f'Cohen\\'s Kappa: {kappa:.3f}')"
      ],
      "metadata": {
        "colab": {
          "base_uri": "https://localhost:8080/"
        },
        "id": "uVOHcoq5_-w9",
        "outputId": "e0424c01-1002-4ade-cfd1-07bc4b83bf19"
      },
      "execution_count": null,
      "outputs": [
        {
          "output_type": "stream",
          "name": "stdout",
          "text": [
            "Cohen's Kappa: 0.833\n"
          ]
        }
      ]
    },
    {
      "cell_type": "code",
      "source": [
        "from sklearn.metrics import precision_score\n",
        "average_precision = precision_score(y_true_np, y_pred_np, average='macro')\n",
        "print(f'Average Precision: {average_precision:.3f}')"
      ],
      "metadata": {
        "colab": {
          "base_uri": "https://localhost:8080/"
        },
        "id": "2HzKzP2iZ9Kr",
        "outputId": "8e2d2a2b-67d4-4056-8261-c5941929e2a5"
      },
      "execution_count": null,
      "outputs": [
        {
          "output_type": "stream",
          "name": "stdout",
          "text": [
            "Average Precision: 0.920\n"
          ]
        }
      ]
    }
  ],
  "metadata": {
    "colab": {
      "provenance": [],
      "authorship_tag": "ABX9TyMfwsEFsGSwIgvdNCTY/CZG",
      "include_colab_link": true
    },
    "gpuClass": "standard",
    "kernelspec": {
      "display_name": "Python 3",
      "name": "python3"
    },
    "language_info": {
      "name": "python"
    }
  },
  "nbformat": 4,
  "nbformat_minor": 0
}
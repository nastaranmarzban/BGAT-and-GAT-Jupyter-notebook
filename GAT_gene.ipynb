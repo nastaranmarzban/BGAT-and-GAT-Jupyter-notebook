{
  "cells": [
    {
      "cell_type": "markdown",
      "metadata": {
        "id": "view-in-github",
        "colab_type": "text"
      },
      "source": [
        "<a href=\"https://colab.research.google.com/github/nastaranmarzban/BGAT-and-GAT-Jupyter-notebook/blob/main/GAT_gene.ipynb\" target=\"_parent\"><img src=\"https://colab.research.google.com/assets/colab-badge.svg\" alt=\"Open In Colab\"/></a>"
      ]
    },
    {
      "cell_type": "code",
      "execution_count": 2,
      "metadata": {
        "colab": {
          "base_uri": "https://localhost:8080/"
        },
        "id": "J9E0wUjmwDzO",
        "outputId": "f2858469-c0f4-45f3-c8f9-bfdd1c833c69"
      },
      "outputs": [
        {
          "output_type": "stream",
          "name": "stdout",
          "text": [
            "Mounted at /gdrive\n"
          ]
        }
      ],
      "source": [
        "from google.colab import drive\n",
        "drive.mount('/gdrive')"
      ]
    },
    {
      "cell_type": "code",
      "execution_count": 3,
      "metadata": {
        "colab": {
          "base_uri": "https://localhost:8080/"
        },
        "id": "l_G5PHR2wKr9",
        "outputId": "8409015f-de5a-4b3a-ca44-d8251cd0447b"
      },
      "outputs": [
        {
          "output_type": "stream",
          "name": "stdout",
          "text": [
            "Requirement already satisfied: pandas in /usr/local/lib/python3.10/dist-packages (1.5.3)\n",
            "Requirement already satisfied: python-dateutil>=2.8.1 in /usr/local/lib/python3.10/dist-packages (from pandas) (2.8.2)\n",
            "Requirement already satisfied: pytz>=2020.1 in /usr/local/lib/python3.10/dist-packages (from pandas) (2023.4)\n",
            "Requirement already satisfied: numpy>=1.21.0 in /usr/local/lib/python3.10/dist-packages (from pandas) (1.23.5)\n",
            "Requirement already satisfied: six>=1.5 in /usr/local/lib/python3.10/dist-packages (from python-dateutil>=2.8.1->pandas) (1.16.0)\n"
          ]
        }
      ],
      "source": [
        "!pip install pandas\n",
        "import pandas as pd\n",
        "import torch\n",
        "import numpy as np"
      ]
    },
    {
      "cell_type": "code",
      "execution_count": 4,
      "metadata": {
        "colab": {
          "base_uri": "https://localhost:8080/"
        },
        "id": "EvtXnLMWmQUs",
        "outputId": "6a90bc04-fcbc-448f-98ac-67acb8ccf688"
      },
      "outputs": [
        {
          "output_type": "execute_result",
          "data": {
            "text/plain": [
              "{'x': tensor([[ 6.4493,  6.0844,  7.3716,  ...,  8.6918, 10.8691, 11.2004],\n",
              "         [12.4170, 11.6782, 13.3738,  ...,  9.0700, 10.2089, 10.4571],\n",
              "         [ 8.1833,  6.4246, 10.5602,  ...,  7.3575,  6.6114,  7.7576],\n",
              "         ...,\n",
              "         [ 6.6002,  7.4879,  8.0421,  ...,  9.6510,  8.9851,  9.4696],\n",
              "         [ 6.6107,  7.4934,  8.0498,  ...,  9.6591,  8.9828,  9.4788],\n",
              "         [ 6.6001,  7.4911,  8.0561,  ...,  9.6553,  8.9820,  9.4658]]),\n",
              " 'edge_index': tensor([[ 0,  0,  0,  ..., 89, 89, 89],\n",
              "         [ 8, 10, 57,  ..., 85, 86, 87]]),\n",
              " 'y': tensor([0, 0, 0, 0, 0, 0, 0, 0, 0, 0, 0, 0, 0, 0, 0, 0, 0, 0, 0, 0, 0, 0, 0, 0,\n",
              "         0, 0, 0, 0, 0, 0, 1, 1, 1, 1, 1, 1, 1, 1, 1, 1, 1, 1, 1, 1, 1, 1, 1, 1,\n",
              "         1, 1, 1, 1, 1, 1, 1, 1, 1, 1, 1, 1, 2, 2, 2, 2, 2, 2, 2, 2, 2, 2, 2, 2,\n",
              "         2, 2, 2, 2, 2, 2, 2, 2, 2, 2, 2, 2, 2, 2, 2, 2, 2, 2]),\n",
              " 'train_mask': tensor([False, False, False, False,  True,  True,  True,  True,  True,  True,\n",
              "          True,  True,  True,  True,  True,  True,  True,  True,  True,  True,\n",
              "          True,  True,  True,  True,  True,  True,  True,  True,  True,  True,\n",
              "          True, False, False, False, False,  True,  True,  True,  True,  True,\n",
              "          True,  True,  True,  True,  True,  True,  True,  True,  True,  True,\n",
              "          True,  True,  True,  True,  True,  True,  True,  True,  True,  True,\n",
              "         False, False, False, False,  True,  True,  True,  True,  True,  True,\n",
              "          True,  True,  True,  True,  True,  True,  True,  True,  True,  True,\n",
              "          True,  True,  True,  True,  True,  True,  True,  True,  True,  True]),\n",
              " 'val_mask': tensor([False, False,  True,  True, False, False, False, False, False, False,\n",
              "         False, False, False, False, False, False, False, False, False, False,\n",
              "         False, False, False, False, False, False, False, False, False, False,\n",
              "         False, False, False,  True,  True, False, False, False, False, False,\n",
              "         False, False, False, False, False, False, False, False, False, False,\n",
              "         False, False, False, False, False, False, False, False, False, False,\n",
              "         False, False,  True,  True, False, False, False, False, False, False,\n",
              "         False, False, False, False, False, False, False, False, False, False,\n",
              "         False, False, False, False, False, False, False, False, False, False]),\n",
              " 'test_mask': tensor([ True,  True, False, False, False, False, False, False, False, False,\n",
              "         False, False, False, False, False, False, False, False, False, False,\n",
              "         False, False, False, False, False, False, False, False, False, False,\n",
              "         False,  True,  True, False, False, False, False, False, False, False,\n",
              "         False, False, False, False, False, False, False, False, False, False,\n",
              "         False, False, False, False, False, False, False, False, False, False,\n",
              "          True,  True, False, False, False, False, False, False, False, False,\n",
              "         False, False, False, False, False, False, False, False, False, False,\n",
              "         False, False, False, False, False, False, False, False, False, False])}"
            ]
          },
          "metadata": {},
          "execution_count": 4
        }
      ],
      "source": [
        "path = F\"/gdrive/MyDrive/gene_better/gene.pt\"\n",
        "Data = torch.load(path)\n",
        "Data"
      ]
    },
    {
      "cell_type": "code",
      "execution_count": 5,
      "metadata": {
        "colab": {
          "base_uri": "https://localhost:8080/"
        },
        "id": "4k88N5hjmWk4",
        "outputId": "248ddcc3-1e3c-41dd-d705-9452db67fe9d"
      },
      "outputs": [
        {
          "output_type": "stream",
          "name": "stdout",
          "text": [
            "Number of nodes: 90\n",
            "Number of features: 60\n",
            "Number of classes: 3\n",
            "Number of edges: 1650\n",
            "Average node degree: 18.33\n",
            "Number of training nodes: 78\n",
            "Number of testing nodes: 6\n",
            "Training node label rate: 0.87\n"
          ]
        }
      ],
      "source": [
        "print(f'Number of nodes: {Data[\"x\"].size(0)}')\n",
        "print(f'Number of features: {Data[\"x\"].size(1)}')\n",
        "print(f'Number of classes: {torch.numel(torch.unique(Data[\"y\"],sorted=True))}')\n",
        "print(f'Number of edges: {Data[\"edge_index\"].size(1)}')\n",
        "print(f'Average node degree: {Data[\"edge_index\"].size(1) / Data[\"x\"].size(0):.2f}')\n",
        "print(f'Number of training nodes: {Data[\"train_mask\"].sum()}')\n",
        "print(f'Number of testing nodes: {Data[\"test_mask\"].sum()}')\n",
        "print(f'Training node label rate: {int(Data[\"train_mask\"].sum()) /  Data[\"x\"].size(0):.2f}')"
      ]
    },
    {
      "cell_type": "code",
      "execution_count": 6,
      "metadata": {
        "colab": {
          "base_uri": "https://localhost:8080/"
        },
        "id": "3j1jkPQXwPzF",
        "outputId": "17e1e223-16cb-40d6-c5c5-365a31e3ea61"
      },
      "outputs": [
        {
          "output_type": "stream",
          "name": "stdout",
          "text": [
            "torch.Size([90, 90])\n",
            "torch.float32\n",
            "torch.FloatTensor\n"
          ]
        }
      ],
      "source": [
        "path = F\"/gdrive/MyDrive/gene_better/p_links_gene.pt\"\n",
        "p_link = torch.load(path)\n",
        "print(p_link.size())\n",
        "print(p_link.dtype)\n",
        "print(p_link.type())"
      ]
    },
    {
      "cell_type": "code",
      "execution_count": 7,
      "metadata": {
        "colab": {
          "base_uri": "https://localhost:8080/"
        },
        "id": "fn1PEgelwRd7",
        "outputId": "0e10a5cc-b8e5-4c02-b55a-973e677e318f"
      },
      "outputs": [
        {
          "output_type": "stream",
          "name": "stdout",
          "text": [
            "2.1.0+cu121\n",
            "\u001b[2K     \u001b[90m━━━━━━━━━━━━━━━━━━━━━━━━━━━━━━━━━━━━━━━━\u001b[0m \u001b[32m10.8/10.8 MB\u001b[0m \u001b[31m36.9 MB/s\u001b[0m eta \u001b[36m0:00:00\u001b[0m\n",
            "\u001b[2K     \u001b[90m━━━━━━━━━━━━━━━━━━━━━━━━━━━━━━━━━━━━━━━━\u001b[0m \u001b[32m5.0/5.0 MB\u001b[0m \u001b[31m26.1 MB/s\u001b[0m eta \u001b[36m0:00:00\u001b[0m\n",
            "\u001b[?25h  Installing build dependencies ... \u001b[?25l\u001b[?25hdone\n",
            "  Getting requirements to build wheel ... \u001b[?25l\u001b[?25hdone\n",
            "  Preparing metadata (pyproject.toml) ... \u001b[?25l\u001b[?25hdone\n",
            "  Building wheel for torch_geometric (pyproject.toml) ... \u001b[?25l\u001b[?25hdone\n"
          ]
        }
      ],
      "source": [
        "import os\n",
        "os.environ['TORCH'] = torch.__version__\n",
        "print(torch.__version__)\n",
        "\n",
        "!pip install -q torch-scatter -f https://data.pyg.org/whl/torch-${TORCH}.html\n",
        "!pip install -q torch-sparse -f https://data.pyg.org/whl/torch-${TORCH}.html\n",
        "!pip install -q git+https://github.com/pyg-team/pytorch_geometric.git"
      ]
    },
    {
      "cell_type": "code",
      "execution_count": 8,
      "metadata": {
        "id": "NVVqmWIMwTL6"
      },
      "outputs": [],
      "source": [
        "from torch_geometric.nn import MessagePassing\n",
        "import torch_geometric.nn\n",
        "import torch.nn.functional as F\n",
        "from torch_geometric.nn import GATConv"
      ]
    },
    {
      "cell_type": "code",
      "execution_count": 9,
      "metadata": {
        "colab": {
          "base_uri": "https://localhost:8080/"
        },
        "id": "LXiu76Rjwncc",
        "outputId": "c72948d3-68ac-4c11-9080-3bd8cf8d4e0b"
      },
      "outputs": [
        {
          "output_type": "stream",
          "name": "stdout",
          "text": [
            "Myconv(\n",
            "  (conv1): GATConv(60, 45, heads=1)\n",
            "  (conv2): GATConv(45, 15, heads=1)\n",
            "  (conv3): GATConv(15, 3, heads=1)\n",
            ")\n",
            "tensor([[ 0.3708,  0.7949, -0.7915],\n",
            "        [ 0.3467,  0.7738, -0.8087],\n",
            "        [ 0.3427,  0.7743, -0.7997],\n",
            "        [ 0.3931,  0.8057, -0.7911],\n",
            "        [ 0.3624,  0.7851, -0.8080],\n",
            "        [ 0.3943,  0.8065, -0.7936],\n",
            "        [ 0.4098,  0.8151, -0.7897],\n",
            "        [ 0.3671,  0.7921, -0.7940],\n",
            "        [ 0.3859,  0.8027, -0.7916],\n",
            "        [ 0.3694,  0.7966, -0.7938],\n",
            "        [ 0.3363,  0.7766, -0.7947],\n",
            "        [ 0.3628,  0.7922, -0.7949],\n",
            "        [ 0.3917,  0.8042, -0.7989],\n",
            "        [ 0.3911,  0.8060, -0.7933],\n",
            "        [ 0.3885,  0.8036, -0.7928],\n",
            "        [ 0.3840,  0.8014, -0.7972],\n",
            "        [ 0.3898,  0.8035, -0.7949],\n",
            "        [ 0.3816,  0.7972, -0.7985],\n",
            "        [ 0.3847,  0.8009, -0.7929],\n",
            "        [ 0.3792,  0.7984, -0.7981],\n",
            "        [ 0.4098,  0.8132, -0.8047],\n",
            "        [ 0.3850,  0.8003, -0.7931],\n",
            "        [ 0.3798,  0.8022, -0.7902],\n",
            "        [ 0.3710,  0.7979, -0.7989],\n",
            "        [ 0.3599,  0.7858, -0.7976],\n",
            "        [ 0.3936,  0.8060, -0.7919],\n",
            "        [ 0.3965,  0.8076, -0.7945],\n",
            "        [ 0.3813,  0.7981, -0.7985],\n",
            "        [ 0.3947,  0.8080, -0.7941],\n",
            "        [ 0.3866,  0.8013, -0.7965],\n",
            "        [ 0.3212,  0.7592, -0.8125],\n",
            "        [ 0.3755,  0.8053, -0.7911],\n",
            "        [ 0.4102,  0.8126, -0.8140],\n",
            "        [ 0.3554,  0.7992, -0.7930],\n",
            "        [ 0.3781,  0.7983, -0.7953],\n",
            "        [ 0.3743,  0.7995, -0.7944],\n",
            "        [ 0.3652,  0.7932, -0.8119],\n",
            "        [ 0.3724,  0.7960, -0.8069],\n",
            "        [ 0.3829,  0.8076, -0.7906],\n",
            "        [ 0.3903,  0.8081, -0.7916],\n",
            "        [ 0.3957,  0.8079, -0.7927],\n",
            "        [ 0.3993,  0.8091, -0.7933],\n",
            "        [ 0.3894,  0.8042, -0.7946],\n",
            "        [ 0.3888,  0.8039, -0.7958],\n",
            "        [ 0.3949,  0.8074, -0.7943],\n",
            "        [ 0.3954,  0.8069, -0.7952],\n",
            "        [ 0.3998,  0.8100, -0.7935],\n",
            "        [ 0.3972,  0.8089, -0.7924],\n",
            "        [ 0.3860,  0.8030, -0.7951],\n",
            "        [ 0.3965,  0.8073, -0.7936],\n",
            "        [ 0.4009,  0.8101, -0.7954],\n",
            "        [ 0.3980,  0.8103, -0.7922],\n",
            "        [ 0.3970,  0.8078, -0.7945],\n",
            "        [ 0.3936,  0.8064, -0.7953],\n",
            "        [ 0.3965,  0.8098, -0.7910],\n",
            "        [ 0.3921,  0.8069, -0.7934],\n",
            "        [ 0.3981,  0.8090, -0.7927],\n",
            "        [ 0.3924,  0.8059, -0.7922],\n",
            "        [ 0.3955,  0.8080, -0.7922],\n",
            "        [ 0.4011,  0.8102, -0.7953],\n",
            "        [ 0.3892,  0.8039, -0.7977],\n",
            "        [ 0.3872,  0.8020, -0.7984],\n",
            "        [ 0.3898,  0.8065, -0.7962],\n",
            "        [ 0.3845,  0.8012, -0.7971],\n",
            "        [ 0.3679,  0.7932, -0.8016],\n",
            "        [ 0.3737,  0.7916, -0.8050],\n",
            "        [ 0.3887,  0.8039, -0.7960],\n",
            "        [ 0.3820,  0.8002, -0.8010],\n",
            "        [ 0.3909,  0.8039, -0.7974],\n",
            "        [ 0.3888,  0.8042, -0.7952],\n",
            "        [ 0.3878,  0.8048, -0.7974],\n",
            "        [ 0.3895,  0.8042, -0.7978],\n",
            "        [ 0.3955,  0.8068, -0.7965],\n",
            "        [ 0.3824,  0.8020, -0.7978],\n",
            "        [ 0.3895,  0.8038, -0.7961],\n",
            "        [ 0.3890,  0.8046, -0.7966],\n",
            "        [ 0.3839,  0.8013, -0.7968],\n",
            "        [ 0.3889,  0.8031, -0.7984],\n",
            "        [ 0.3714,  0.7941, -0.7976],\n",
            "        [ 0.3874,  0.8033, -0.7992],\n",
            "        [ 0.3847,  0.8022, -0.7959],\n",
            "        [ 0.3964,  0.8073, -0.7966],\n",
            "        [ 0.3844,  0.8012, -0.7974],\n",
            "        [ 0.3854,  0.8025, -0.7983],\n",
            "        [ 0.3866,  0.8024, -0.7951],\n",
            "        [ 0.3867,  0.8024, -0.7987],\n",
            "        [ 0.3841,  0.8009, -0.8053],\n",
            "        [ 0.3859,  0.8047, -0.7946],\n",
            "        [ 0.3889,  0.8049, -0.7992],\n",
            "        [ 0.3866,  0.8045, -0.7972]], grad_fn=<AddBackward0>)\n"
          ]
        }
      ],
      "source": [
        "class Myconv(torch.nn.Module):\n",
        "    def __init__(self):\n",
        "        super().__init__()\n",
        "        torch.manual_seed(2)\n",
        "        self.conv1 = GATConv(in_channels=60, out_channels = 45)\n",
        "        self.conv2 =  GATConv(45, 15)\n",
        "        self.conv3 =  GATConv(15,3)\n",
        "\n",
        "\n",
        "\n",
        "    def forward(self, x, edge_index):\n",
        "        h = self.conv1(x, edge_index)\n",
        "        h = F.tanh(h)\n",
        "        h = self.conv2(h, edge_index)\n",
        "        h = F.tanh(h)\n",
        "        h = self.conv3(h, edge_index)\n",
        "        #h = F.log_softmax(h)\n",
        "        return h\n",
        "\n",
        "\n",
        "model = Myconv()\n",
        "print(model)\n",
        "print(model.forward(Data[\"x\"], Data[\"edge_index\"]))"
      ]
    },
    {
      "cell_type": "code",
      "execution_count": 10,
      "metadata": {
        "id": "J86-gatlwsRj"
      },
      "outputs": [],
      "source": [
        "import matplotlib.pyplot as plt\n",
        "from sklearn.manifold import TSNE\n",
        "import seaborn as sns\n",
        "\n",
        "def visualize(h):\n",
        "    z = TSNE(n_components = 2, random_state = 0).fit_transform(h.detach().numpy())\n",
        "    plt.figure(figsize = (6,4),  dpi = 120)\n",
        "    sns.scatterplot(x = z[:, 0], y = z[:, 1], hue = Data[\"y\"], palette=sns.color_palette(\"bright\",3)).set(title = \"Gene expression data T-SNE projection before training (GAT)\")"
      ]
    },
    {
      "cell_type": "code",
      "execution_count": 11,
      "metadata": {
        "colab": {
          "base_uri": "https://localhost:8080/",
          "height": 482
        },
        "id": "RRfkU0oswuWr",
        "outputId": "a41f9f25-e97e-4761-9390-8a83a531952b"
      },
      "outputs": [
        {
          "output_type": "stream",
          "name": "stdout",
          "text": [
            "Embedding shape: [90, 3]\n"
          ]
        },
        {
          "output_type": "display_data",
          "data": {
            "text/plain": [
              "<Figure size 720x480 with 1 Axes>"
            ],
            "image/png": "[encoded data removed]"
          },
          "metadata": {}
        }
      ],
      "source": [
        "model = Myconv()\n",
        "h = model(Data[\"x\"], Data[\"edge_index\"])\n",
        "\n",
        "print(f'Embedding shape: {list(h.shape)}')\n",
        "visualize(h)"
      ]
    },
    {
      "cell_type": "code",
      "execution_count": 12,
      "metadata": {
        "id": "Ii1FBHEqww-T"
      },
      "outputs": [],
      "source": [
        "model = Myconv()\n",
        "criterion = torch.nn.CrossEntropyLoss()  # Define loss criterion.\n",
        "optimizer = torch.optim.Adam(model.parameters(), lr = 0.0001) # Define optimizer, an object for updating parameters\n",
        "#loss = loss + weight decay parameter * L2 norm of the weights, 1) To prevent overfitting 2) To keep the weights small and avoid exploding gradient\n",
        "\n",
        "def train(Data):\n",
        "    model.train()\n",
        "    optimizer.zero_grad()  # Clear gradients.\n",
        "    out= model(Data[\"x\"], Data[\"edge_index\"])\n",
        "    train_loss = criterion(out[Data[\"train_mask\"]], Data[\"y\"][Data[\"train_mask\"]])  # Compute the loss solely based on the training nodes.\n",
        "    train_loss.backward()  # Derive gradients.\n",
        "    optimizer.step()  # Update parameters based on gradients.\n",
        "    return train_loss\n",
        "\n",
        "\n",
        "def val(Data):\n",
        "      model.eval()\n",
        "      with torch.no_grad():\n",
        "        out= model(Data[\"x\"], Data[\"edge_index\"])\n",
        "        val_loss = criterion(out[Data[\"val_mask\"]], Data[\"y\"][Data[\"val_mask\"]])\n",
        "        return val_loss"
      ]
    },
    {
      "cell_type": "code",
      "execution_count": 13,
      "metadata": {
        "colab": {
          "base_uri": "https://localhost:8080/"
        },
        "id": "qWlpAmqVw0Br",
        "outputId": "abc3cace-4d53-473a-ea12-fd06fc29bc03"
      },
      "outputs": [
        {
          "output_type": "stream",
          "name": "stdout",
          "text": [
            "1 Train Loss: 1.294 | val Loss: 1.288\n",
            "2 Train Loss: 1.289 | val Loss: 1.283\n",
            "3 Train Loss: 1.283 | val Loss: 1.277\n",
            "4 Train Loss: 1.277 | val Loss: 1.272\n",
            "5 Train Loss: 1.271 | val Loss: 1.266\n",
            "6 Train Loss: 1.265 | val Loss: 1.260\n",
            "7 Train Loss: 1.259 | val Loss: 1.254\n",
            "8 Train Loss: 1.253 | val Loss: 1.248\n",
            "9 Train Loss: 1.247 | val Loss: 1.242\n",
            "10 Train Loss: 1.240 | val Loss: 1.236\n",
            "11 Train Loss: 1.234 | val Loss: 1.230\n",
            "12 Train Loss: 1.228 | val Loss: 1.224\n",
            "13 Train Loss: 1.221 | val Loss: 1.218\n",
            "14 Train Loss: 1.215 | val Loss: 1.212\n",
            "15 Train Loss: 1.209 | val Loss: 1.206\n",
            "16 Train Loss: 1.203 | val Loss: 1.200\n",
            "17 Train Loss: 1.197 | val Loss: 1.194\n",
            "18 Train Loss: 1.191 | val Loss: 1.189\n",
            "19 Train Loss: 1.185 | val Loss: 1.183\n",
            "20 Train Loss: 1.179 | val Loss: 1.178\n",
            "21 Train Loss: 1.174 | val Loss: 1.173\n",
            "22 Train Loss: 1.168 | val Loss: 1.168\n",
            "23 Train Loss: 1.163 | val Loss: 1.163\n",
            "24 Train Loss: 1.159 | val Loss: 1.159\n",
            "25 Train Loss: 1.154 | val Loss: 1.154\n",
            "26 Train Loss: 1.150 | val Loss: 1.150\n",
            "27 Train Loss: 1.145 | val Loss: 1.147\n",
            "28 Train Loss: 1.142 | val Loss: 1.143\n",
            "29 Train Loss: 1.138 | val Loss: 1.140\n",
            "30 Train Loss: 1.135 | val Loss: 1.137\n",
            "31 Train Loss: 1.132 | val Loss: 1.134\n",
            "32 Train Loss: 1.129 | val Loss: 1.132\n",
            "33 Train Loss: 1.126 | val Loss: 1.129\n",
            "34 Train Loss: 1.124 | val Loss: 1.127\n",
            "35 Train Loss: 1.122 | val Loss: 1.125\n",
            "36 Train Loss: 1.120 | val Loss: 1.123\n",
            "37 Train Loss: 1.118 | val Loss: 1.122\n",
            "38 Train Loss: 1.117 | val Loss: 1.120\n",
            "39 Train Loss: 1.115 | val Loss: 1.119\n",
            "40 Train Loss: 1.114 | val Loss: 1.118\n",
            "41 Train Loss: 1.113 | val Loss: 1.117\n",
            "42 Train Loss: 1.112 | val Loss: 1.116\n",
            "43 Train Loss: 1.110 | val Loss: 1.115\n",
            "44 Train Loss: 1.109 | val Loss: 1.114\n",
            "45 Train Loss: 1.108 | val Loss: 1.113\n",
            "46 Train Loss: 1.108 | val Loss: 1.112\n",
            "47 Train Loss: 1.107 | val Loss: 1.111\n",
            "48 Train Loss: 1.106 | val Loss: 1.110\n",
            "49 Train Loss: 1.105 | val Loss: 1.109\n",
            "50 Train Loss: 1.104 | val Loss: 1.109\n",
            "51 Train Loss: 1.103 | val Loss: 1.108\n",
            "52 Train Loss: 1.103 | val Loss: 1.107\n",
            "53 Train Loss: 1.102 | val Loss: 1.107\n",
            "54 Train Loss: 1.101 | val Loss: 1.106\n",
            "55 Train Loss: 1.101 | val Loss: 1.106\n",
            "56 Train Loss: 1.100 | val Loss: 1.105\n",
            "57 Train Loss: 1.100 | val Loss: 1.105\n",
            "58 Train Loss: 1.099 | val Loss: 1.104\n",
            "59 Train Loss: 1.099 | val Loss: 1.104\n",
            "60 Train Loss: 1.099 | val Loss: 1.104\n",
            "61 Train Loss: 1.098 | val Loss: 1.103\n",
            "62 Train Loss: 1.098 | val Loss: 1.103\n",
            "63 Train Loss: 1.098 | val Loss: 1.103\n",
            "64 Train Loss: 1.097 | val Loss: 1.102\n",
            "65 Train Loss: 1.097 | val Loss: 1.102\n",
            "66 Train Loss: 1.097 | val Loss: 1.102\n",
            "67 Train Loss: 1.097 | val Loss: 1.101\n",
            "68 Train Loss: 1.097 | val Loss: 1.101\n",
            "69 Train Loss: 1.096 | val Loss: 1.101\n",
            "70 Train Loss: 1.096 | val Loss: 1.100\n",
            "71 Train Loss: 1.096 | val Loss: 1.100\n",
            "72 Train Loss: 1.096 | val Loss: 1.099\n",
            "73 Train Loss: 1.096 | val Loss: 1.099\n",
            "74 Train Loss: 1.095 | val Loss: 1.098\n",
            "75 Train Loss: 1.095 | val Loss: 1.098\n",
            "76 Train Loss: 1.095 | val Loss: 1.097\n",
            "77 Train Loss: 1.095 | val Loss: 1.097\n",
            "78 Train Loss: 1.095 | val Loss: 1.097\n",
            "79 Train Loss: 1.095 | val Loss: 1.097\n",
            "80 Train Loss: 1.095 | val Loss: 1.096\n",
            "81 Train Loss: 1.095 | val Loss: 1.096\n",
            "82 Train Loss: 1.095 | val Loss: 1.096\n",
            "83 Train Loss: 1.095 | val Loss: 1.096\n",
            "84 Train Loss: 1.094 | val Loss: 1.095\n",
            "85 Train Loss: 1.094 | val Loss: 1.095\n",
            "86 Train Loss: 1.094 | val Loss: 1.095\n",
            "87 Train Loss: 1.094 | val Loss: 1.095\n",
            "88 Train Loss: 1.094 | val Loss: 1.095\n",
            "89 Train Loss: 1.094 | val Loss: 1.094\n",
            "90 Train Loss: 1.094 | val Loss: 1.094\n",
            "91 Train Loss: 1.094 | val Loss: 1.094\n",
            "92 Train Loss: 1.094 | val Loss: 1.094\n",
            "93 Train Loss: 1.094 | val Loss: 1.094\n",
            "94 Train Loss: 1.093 | val Loss: 1.094\n",
            "95 Train Loss: 1.093 | val Loss: 1.094\n",
            "96 Train Loss: 1.093 | val Loss: 1.093\n",
            "97 Train Loss: 1.093 | val Loss: 1.093\n",
            "98 Train Loss: 1.093 | val Loss: 1.093\n",
            "99 Train Loss: 1.093 | val Loss: 1.093\n",
            "100 Train Loss: 1.093 | val Loss: 1.093\n"
          ]
        }
      ],
      "source": [
        "train_loss_ = []\n",
        "val_loss_ = []\n",
        "\n",
        "for epoch in range(1, 101):\n",
        "\n",
        "  epoch_train_loss= []\n",
        "  epoch_val_loss= []\n",
        "  train_loss = train(Data)\n",
        "  val_loss = val(Data)\n",
        "\n",
        "\n",
        "\n",
        "\n",
        "\n",
        "\n",
        "  epoch_train_loss.append(train_loss.item())\n",
        "  epoch_val_loss.append(val_loss.item())\n",
        "\n",
        "\n",
        "\n",
        "\n",
        "\n",
        "\n",
        "  val_loss_.append(sum(epoch_val_loss)/len(epoch_val_loss))\n",
        "  train_loss_.append(sum(epoch_train_loss)/len(epoch_train_loss))\n",
        "  print(epoch,'Train Loss: %.3f | val Loss: %.3f'%( train_loss,val_loss))"
      ]
    },
    {
      "cell_type": "code",
      "execution_count": 14,
      "metadata": {
        "id": "NCPr9WD8w2TF",
        "colab": {
          "base_uri": "https://localhost:8080/",
          "height": 472
        },
        "outputId": "c84c17f6-9c6e-4dae-8a78-3dfc275e053d"
      },
      "outputs": [
        {
          "output_type": "display_data",
          "data": {
            "text/plain": [
              "<Figure size 640x480 with 1 Axes>"
            ],
            "image/png": "[encoded data removed]"
          },
          "metadata": {}
        }
      ],
      "source": [
        "plt.plot(train_loss_, \"c\", linewidth = 3)\n",
        "plt.plot(val_loss_, \"k\", linewidth = 3)\n",
        "plt.xlabel('epoch')\n",
        "plt.ylabel('loss')\n",
        "plt.legend(['Train','Val'])\n",
        "plt.title('Train vs Val Loss for the gene expression (GAT)')\n",
        "plt.grid()\n",
        "plt.show()"
      ]
    },
    {
      "cell_type": "code",
      "execution_count": 15,
      "metadata": {
        "id": "WRxlJgM-ZpVT"
      },
      "outputs": [],
      "source": [
        "def valid(Data):\n",
        "      model.eval()\n",
        "      with torch.no_grad():\n",
        "        out = model(Data[\"x\"], Data[\"edge_index\"])\n",
        "        pred = out.argmax(dim=1)\n",
        "        test_correct = pred[Data[\"val_mask\"]] == Data[\"y\"][Data[\"val_mask\"]]  # Check against ground-truth labels.\n",
        "        valid_acc = int(test_correct.sum()) / int(Data[\"val_mask\"].sum())  # Derive ratio of correct predictions.\n",
        "        return valid_acc"
      ]
    },
    {
      "cell_type": "code",
      "execution_count": 16,
      "metadata": {
        "id": "SMuQ4YjYZrTD",
        "colab": {
          "base_uri": "https://localhost:8080/"
        },
        "outputId": "06169ac4-32e5-472c-b657-501b361590d9"
      },
      "outputs": [
        {
          "output_type": "stream",
          "name": "stdout",
          "text": [
            "Valid Accuracy: 33.33\n"
          ]
        }
      ],
      "source": [
        "valid_acc = valid(Data)\n",
        "print(f'Valid Accuracy: {100*valid_acc:.2f}')"
      ]
    },
    {
      "cell_type": "code",
      "execution_count": 17,
      "metadata": {
        "id": "ej4c8Y-Yw4CD"
      },
      "outputs": [],
      "source": [
        "def test(Data):\n",
        "      model.eval()\n",
        "      with torch.no_grad():\n",
        "        out= model(Data[\"x\"], Data[\"edge_index\"])\n",
        "        pred = out.argmax(dim=1)\n",
        "        test_correct = pred[Data[\"test_mask\"]] == Data[\"y\"][Data[\"test_mask\"]]  # Check against ground-truth labels.\n",
        "        test_acc = int(test_correct.sum()) / int(Data[\"test_mask\"].sum())  # Derive ratio of correct predictions.\n",
        "        return test_acc"
      ]
    },
    {
      "cell_type": "code",
      "execution_count": 18,
      "metadata": {
        "id": "xgcZ4iz5w5jG",
        "colab": {
          "base_uri": "https://localhost:8080/"
        },
        "outputId": "bc8025b7-72b3-4f6d-c1d5-0ffcb707e9c3"
      },
      "outputs": [
        {
          "output_type": "stream",
          "name": "stdout",
          "text": [
            "Test Accuracy: 66.67\n"
          ]
        }
      ],
      "source": [
        "test_acc = test(Data)\n",
        "print(f'Test Accuracy: {100*test_acc:.2f}')"
      ]
    },
    {
      "cell_type": "code",
      "execution_count": 19,
      "metadata": {
        "id": "DUp9mnjnclwL"
      },
      "outputs": [],
      "source": [
        "import matplotlib.pyplot as plt\n",
        "from sklearn.manifold import TSNE\n",
        "import seaborn as sns\n",
        "\n",
        "def visualize(h):\n",
        "    z = TSNE(n_components = 2, random_state = 0).fit_transform(h.detach().numpy())\n",
        "    plt.figure(figsize = (6,4),  dpi = 120)\n",
        "    sns.scatterplot(x = z[:, 0], y = z[:, 1], hue = Data[\"y\"], palette=sns.color_palette(\"bright\",3)).set(title = \"Gene expression data T-SNE projection after training (GAT)\")"
      ]
    },
    {
      "cell_type": "code",
      "execution_count": 20,
      "metadata": {
        "id": "c-6tE1ZDw7PL",
        "colab": {
          "base_uri": "https://localhost:8080/",
          "height": 465
        },
        "outputId": "0e66cf4f-c963-4558-9c4b-d59693492089"
      },
      "outputs": [
        {
          "output_type": "display_data",
          "data": {
            "text/plain": [
              "<Figure size 720x480 with 1 Axes>"
            ],
            "image/png": "[encoded data removed]"
          },
          "metadata": {}
        }
      ],
      "source": [
        "model.eval()\n",
        "out = model(Data[\"x\"], Data[\"edge_index\"])\n",
        "visualize(out)"
      ]
    },
    {
      "cell_type": "code",
      "execution_count": 21,
      "metadata": {
        "id": "E2Lw2rNaE4Yf",
        "colab": {
          "base_uri": "https://localhost:8080/"
        },
        "outputId": "6f0db91a-e8d9-4cf0-cc8b-f125b1f6b4e3"
      },
      "outputs": [
        {
          "output_type": "execute_result",
          "data": {
            "text/plain": [
              "tensor([0, 2, 2, 0, 2, 0, 0, 0, 0, 1, 2, 1, 0, 0, 0, 0, 0, 0, 0, 1, 0, 0, 0, 2,\n",
              "        0, 0, 0, 1, 0, 0, 2, 1, 1, 1, 0, 1, 2, 2, 1, 0, 0, 0, 0, 0, 0, 0, 0, 0,\n",
              "        0, 0, 0, 0, 0, 1, 0, 0, 0, 0, 0, 0, 0, 2, 1, 0, 2, 2, 0, 2, 0, 0, 1, 1,\n",
              "        0, 1, 0, 1, 0, 0, 1, 2, 0, 0, 0, 0, 0, 1, 2, 0, 1, 1])"
            ]
          },
          "metadata": {},
          "execution_count": 21
        }
      ],
      "source": [
        "pred_t = out.argmax(dim=1)\n",
        "pred_t"
      ]
    },
    {
      "cell_type": "code",
      "execution_count": 22,
      "metadata": {
        "id": "ikO-FWqhbit_",
        "colab": {
          "base_uri": "https://localhost:8080/"
        },
        "outputId": "7c35044e-451f-440e-caaf-90fb4fc425c4"
      },
      "outputs": [
        {
          "output_type": "execute_result",
          "data": {
            "text/plain": [
              "tensor([0, 0, 0, 0, 0, 0, 0, 0, 0, 0, 0, 0, 0, 0, 0, 0, 0, 0, 0, 0, 0, 0, 0, 0,\n",
              "        0, 0, 0, 0, 0, 0, 1, 1, 1, 1, 1, 1, 1, 1, 1, 1, 1, 1, 1, 1, 1, 1, 1, 1,\n",
              "        1, 1, 1, 1, 1, 1, 1, 1, 1, 1, 1, 1, 2, 2, 2, 2, 2, 2, 2, 2, 2, 2, 2, 2,\n",
              "        2, 2, 2, 2, 2, 2, 2, 2, 2, 2, 2, 2, 2, 2, 2, 2, 2, 2])"
            ]
          },
          "metadata": {},
          "execution_count": 22
        }
      ],
      "source": [
        "Data[\"y\"]"
      ]
    },
    {
      "cell_type": "code",
      "execution_count": 23,
      "metadata": {
        "id": "t8y4aOMz2htx",
        "colab": {
          "base_uri": "https://localhost:8080/",
          "height": 564
        },
        "outputId": "25549226-2101-402d-c8a8-7e7dbd9a7459"
      },
      "outputs": [
        {
          "output_type": "display_data",
          "data": {
            "text/plain": [
              "<Figure size 800x600 with 2 Axes>"
            ],
            "image/png": "[encoded data removed]"
          },
          "metadata": {}
        }
      ],
      "source": [
        "import seaborn as sn\n",
        "confusion_matrix = pd.crosstab(Data['y'], pred_t, rownames=['Actual'], colnames = ['Predicted'], margins = True)\n",
        "plt.figure(figsize=(8, 6))\n",
        "sn.heatmap(confusion_matrix, annot=True,  cmap=\"Blues\", fmt='g')\n",
        "plt.title('Gene Expression, confusion matrix (GAT) for the whole data')\n",
        "plt.show()"
      ]
    },
    {
      "cell_type": "code",
      "execution_count": 24,
      "metadata": {
        "id": "qTanjlHuXDyw"
      },
      "outputs": [],
      "source": [
        "pred = pred_t[Data[\"test_mask\"]]"
      ]
    },
    {
      "cell_type": "code",
      "execution_count": 25,
      "metadata": {
        "id": "9KeOk7Z4XFdX"
      },
      "outputs": [],
      "source": [
        "act = Data[\"y\"][Data[\"test_mask\"]]"
      ]
    },
    {
      "cell_type": "code",
      "execution_count": 26,
      "metadata": {
        "id": "m69sovRQXHeW",
        "colab": {
          "base_uri": "https://localhost:8080/",
          "height": 237
        },
        "outputId": "22b15fdc-cdac-4caf-f5a0-607f396c4918"
      },
      "outputs": [
        {
          "output_type": "execute_result",
          "data": {
            "text/plain": [
              "   y_Actual  y_Predicted\n",
              "0         0            0\n",
              "1         0            2\n",
              "2         1            1\n",
              "3         1            1\n",
              "4         2            0\n",
              "5         2            2"
            ],
            "text/html": [
              "\n",
              "  <div id=\"df-32c44b9e-d0b6-460f-b038-bc2a15b195e1\" class=\"colab-df-container\">\n",
              "    <div>\n",
              "<style scoped>\n",
              "    .dataframe tbody tr th:only-of-type {\n",
              "        vertical-align: middle;\n",
              "    }\n",
              "\n",
              "    .dataframe tbody tr th {\n",
              "        vertical-align: top;\n",
              "    }\n",
              "\n",
              "    .dataframe thead th {\n",
              "        text-align: right;\n",
              "    }\n",
              "</style>\n",
              "<table border=\"1\" class=\"dataframe\">\n",
              "  <thead>\n",
              "    <tr style=\"text-align: right;\">\n",
              "      <th></th>\n",
              "      <th>y_Actual</th>\n",
              "      <th>y_Predicted</th>\n",
              "    </tr>\n",
              "  </thead>\n",
              "  <tbody>\n",
              "    <tr>\n",
              "      <th>0</th>\n",
              "      <td>0</td>\n",
              "      <td>0</td>\n",
              "    </tr>\n",
              "    <tr>\n",
              "      <th>1</th>\n",
              "      <td>0</td>\n",
              "      <td>2</td>\n",
              "    </tr>\n",
              "    <tr>\n",
              "      <th>2</th>\n",
              "      <td>1</td>\n",
              "      <td>1</td>\n",
              "    </tr>\n",
              "    <tr>\n",
              "      <th>3</th>\n",
              "      <td>1</td>\n",
              "      <td>1</td>\n",
              "    </tr>\n",
              "    <tr>\n",
              "      <th>4</th>\n",
              "      <td>2</td>\n",
              "      <td>0</td>\n",
              "    </tr>\n",
              "    <tr>\n",
              "      <th>5</th>\n",
              "      <td>2</td>\n",
              "      <td>2</td>\n",
              "    </tr>\n",
              "  </tbody>\n",
              "</table>\n",
              "</div>\n",
              "    <div class=\"colab-df-buttons\">\n",
              "\n",
              "  <div class=\"colab-df-container\">\n",
              "    <button class=\"colab-df-convert\" onclick=\"convertToInteractive('df-32c44b9e-d0b6-460f-b038-bc2a15b195e1')\"\n",
              "            title=\"Convert this dataframe to an interactive table.\"\n",
              "            style=\"display:none;\">\n",
              "\n",
              "  <svg xmlns=\"http://www.w3.org/2000/svg\" height=\"24px\" viewBox=\"0 -960 960 960\">\n",
              "    <path d=\"M120-120v-720h720v720H120Zm60-500h600v-160H180v160Zm220 220h160v-160H400v160Zm0 220h160v-160H400v160ZM180-400h160v-160H180v160Zm440 0h160v-160H620v160ZM180-180h160v-160H180v160Zm440 0h160v-160H620v160Z\"/>\n",
              "  </svg>\n",
              "    </button>\n",
              "\n",
              "  <style>\n",
              "    .colab-df-container {\n",
              "      display:flex;\n",
              "      gap: 12px;\n",
              "    }\n",
              "\n",
              "    .colab-df-convert {\n",
              "      background-color: #E8F0FE;\n",
              "      border: none;\n",
              "      border-radius: 50%;\n",
              "      cursor: pointer;\n",
              "      display: none;\n",
              "      fill: #1967D2;\n",
              "      height: 32px;\n",
              "      padding: 0 0 0 0;\n",
              "      width: 32px;\n",
              "    }\n",
              "\n",
              "    .colab-df-convert:hover {\n",
              "      background-color: #E2EBFA;\n",
              "      box-shadow: 0px 1px 2px rgba(60, 64, 67, 0.3), 0px 1px 3px 1px rgba(60, 64, 67, 0.15);\n",
              "      fill: #174EA6;\n",
              "    }\n",
              "\n",
              "    .colab-df-buttons div {\n",
              "      margin-bottom: 4px;\n",
              "    }\n",
              "\n",
              "    [theme=dark] .colab-df-convert {\n",
              "      background-color: #3B4455;\n",
              "      fill: #D2E3FC;\n",
              "    }\n",
              "\n",
              "    [theme=dark] .colab-df-convert:hover {\n",
              "      background-color: #434B5C;\n",
              "      box-shadow: 0px 1px 3px 1px rgba(0, 0, 0, 0.15);\n",
              "      filter: drop-shadow(0px 1px 2px rgba(0, 0, 0, 0.3));\n",
              "      fill: #FFFFFF;\n",
              "    }\n",
              "  </style>\n",
              "\n",
              "    <script>\n",
              "      const buttonEl =\n",
              "        document.querySelector('#df-32c44b9e-d0b6-460f-b038-bc2a15b195e1 button.colab-df-convert');\n",
              "      buttonEl.style.display =\n",
              "        google.colab.kernel.accessAllowed ? 'block' : 'none';\n",
              "\n",
              "      async function convertToInteractive(key) {\n",
              "        const element = document.querySelector('#df-32c44b9e-d0b6-460f-b038-bc2a15b195e1');\n",
              "        const dataTable =\n",
              "          await google.colab.kernel.invokeFunction('convertToInteractive',\n",
              "                                                    [key], {});\n",
              "        if (!dataTable) return;\n",
              "\n",
              "        const docLinkHtml = 'Like what you see? Visit the ' +\n",
              "          '<a target=\"_blank\" href=https://colab.research.google.com/notebooks/data_table.ipynb>data table notebook</a>'\n",
              "          + ' to learn more about interactive tables.';\n",
              "        element.innerHTML = '';\n",
              "        dataTable['output_type'] = 'display_data';\n",
              "        await google.colab.output.renderOutput(dataTable, element);\n",
              "        const docLink = document.createElement('div');\n",
              "        docLink.innerHTML = docLinkHtml;\n",
              "        element.appendChild(docLink);\n",
              "      }\n",
              "    </script>\n",
              "  </div>\n",
              "\n",
              "\n",
              "<div id=\"df-fadb67fa-35dc-4227-90e7-ebdd62366470\">\n",
              "  <button class=\"colab-df-quickchart\" onclick=\"quickchart('df-fadb67fa-35dc-4227-90e7-ebdd62366470')\"\n",
              "            title=\"Suggest charts\"\n",
              "            style=\"display:none;\">\n",
              "\n",
              "<svg xmlns=\"http://www.w3.org/2000/svg\" height=\"24px\"viewBox=\"0 0 24 24\"\n",
              "     width=\"24px\">\n",
              "    <g>\n",
              "        <path d=\"M19 3H5c-1.1 0-2 .9-2 2v14c0 1.1.9 2 2 2h14c1.1 0 2-.9 2-2V5c0-1.1-.9-2-2-2zM9 17H7v-7h2v7zm4 0h-2V7h2v10zm4 0h-2v-4h2v4z\"/>\n",
              "    </g>\n",
              "</svg>\n",
              "  </button>\n",
              "\n",
              "<style>\n",
              "  .colab-df-quickchart {\n",
              "      --bg-color: #E8F0FE;\n",
              "      --fill-color: #1967D2;\n",
              "      --hover-bg-color: #E2EBFA;\n",
              "      --hover-fill-color: #174EA6;\n",
              "      --disabled-fill-color: #AAA;\n",
              "      --disabled-bg-color: #DDD;\n",
              "  }\n",
              "\n",
              "  [theme=dark] .colab-df-quickchart {\n",
              "      --bg-color: #3B4455;\n",
              "      --fill-color: #D2E3FC;\n",
              "      --hover-bg-color: #434B5C;\n",
              "      --hover-fill-color: #FFFFFF;\n",
              "      --disabled-bg-color: #3B4455;\n",
              "      --disabled-fill-color: #666;\n",
              "  }\n",
              "\n",
              "  .colab-df-quickchart {\n",
              "    background-color: var(--bg-color);\n",
              "    border: none;\n",
              "    border-radius: 50%;\n",
              "    cursor: pointer;\n",
              "    display: none;\n",
              "    fill: var(--fill-color);\n",
              "    height: 32px;\n",
              "    padding: 0;\n",
              "    width: 32px;\n",
              "  }\n",
              "\n",
              "  .colab-df-quickchart:hover {\n",
              "    background-color: var(--hover-bg-color);\n",
              "    box-shadow: 0 1px 2px rgba(60, 64, 67, 0.3), 0 1px 3px 1px rgba(60, 64, 67, 0.15);\n",
              "    fill: var(--button-hover-fill-color);\n",
              "  }\n",
              "\n",
              "  .colab-df-quickchart-complete:disabled,\n",
              "  .colab-df-quickchart-complete:disabled:hover {\n",
              "    background-color: var(--disabled-bg-color);\n",
              "    fill: var(--disabled-fill-color);\n",
              "    box-shadow: none;\n",
              "  }\n",
              "\n",
              "  .colab-df-spinner {\n",
              "    border: 2px solid var(--fill-color);\n",
              "    border-color: transparent;\n",
              "    border-bottom-color: var(--fill-color);\n",
              "    animation:\n",
              "      spin 1s steps(1) infinite;\n",
              "  }\n",
              "\n",
              "  @keyframes spin {\n",
              "    0% {\n",
              "      border-color: transparent;\n",
              "      border-bottom-color: var(--fill-color);\n",
              "      border-left-color: var(--fill-color);\n",
              "    }\n",
              "    20% {\n",
              "      border-color: transparent;\n",
              "      border-left-color: var(--fill-color);\n",
              "      border-top-color: var(--fill-color);\n",
              "    }\n",
              "    30% {\n",
              "      border-color: transparent;\n",
              "      border-left-color: var(--fill-color);\n",
              "      border-top-color: var(--fill-color);\n",
              "      border-right-color: var(--fill-color);\n",
              "    }\n",
              "    40% {\n",
              "      border-color: transparent;\n",
              "      border-right-color: var(--fill-color);\n",
              "      border-top-color: var(--fill-color);\n",
              "    }\n",
              "    60% {\n",
              "      border-color: transparent;\n",
              "      border-right-color: var(--fill-color);\n",
              "    }\n",
              "    80% {\n",
              "      border-color: transparent;\n",
              "      border-right-color: var(--fill-color);\n",
              "      border-bottom-color: var(--fill-color);\n",
              "    }\n",
              "    90% {\n",
              "      border-color: transparent;\n",
              "      border-bottom-color: var(--fill-color);\n",
              "    }\n",
              "  }\n",
              "</style>\n",
              "\n",
              "  <script>\n",
              "    async function quickchart(key) {\n",
              "      const quickchartButtonEl =\n",
              "        document.querySelector('#' + key + ' button');\n",
              "      quickchartButtonEl.disabled = true;  // To prevent multiple clicks.\n",
              "      quickchartButtonEl.classList.add('colab-df-spinner');\n",
              "      try {\n",
              "        const charts = await google.colab.kernel.invokeFunction(\n",
              "            'suggestCharts', [key], {});\n",
              "      } catch (error) {\n",
              "        console.error('Error during call to suggestCharts:', error);\n",
              "      }\n",
              "      quickchartButtonEl.classList.remove('colab-df-spinner');\n",
              "      quickchartButtonEl.classList.add('colab-df-quickchart-complete');\n",
              "    }\n",
              "    (() => {\n",
              "      let quickchartButtonEl =\n",
              "        document.querySelector('#df-fadb67fa-35dc-4227-90e7-ebdd62366470 button');\n",
              "      quickchartButtonEl.style.display =\n",
              "        google.colab.kernel.accessAllowed ? 'block' : 'none';\n",
              "    })();\n",
              "  </script>\n",
              "</div>\n",
              "\n",
              "  <div id=\"id_be78c0f1-fe60-4424-8006-05453b715713\">\n",
              "    <style>\n",
              "      .colab-df-generate {\n",
              "        background-color: #E8F0FE;\n",
              "        border: none;\n",
              "        border-radius: 50%;\n",
              "        cursor: pointer;\n",
              "        display: none;\n",
              "        fill: #1967D2;\n",
              "        height: 32px;\n",
              "        padding: 0 0 0 0;\n",
              "        width: 32px;\n",
              "      }\n",
              "\n",
              "      .colab-df-generate:hover {\n",
              "        background-color: #E2EBFA;\n",
              "        box-shadow: 0px 1px 2px rgba(60, 64, 67, 0.3), 0px 1px 3px 1px rgba(60, 64, 67, 0.15);\n",
              "        fill: #174EA6;\n",
              "      }\n",
              "\n",
              "      [theme=dark] .colab-df-generate {\n",
              "        background-color: #3B4455;\n",
              "        fill: #D2E3FC;\n",
              "      }\n",
              "\n",
              "      [theme=dark] .colab-df-generate:hover {\n",
              "        background-color: #434B5C;\n",
              "        box-shadow: 0px 1px 3px 1px rgba(0, 0, 0, 0.15);\n",
              "        filter: drop-shadow(0px 1px 2px rgba(0, 0, 0, 0.3));\n",
              "        fill: #FFFFFF;\n",
              "      }\n",
              "    </style>\n",
              "    <button class=\"colab-df-generate\" onclick=\"generateWithVariable('df')\"\n",
              "            title=\"Generate code using this dataframe.\"\n",
              "            style=\"display:none;\">\n",
              "\n",
              "  <svg xmlns=\"http://www.w3.org/2000/svg\" height=\"24px\"viewBox=\"0 0 24 24\"\n",
              "       width=\"24px\">\n",
              "    <path d=\"M7,19H8.4L18.45,9,17,7.55,7,17.6ZM5,21V16.75L18.45,3.32a2,2,0,0,1,2.83,0l1.4,1.43a1.91,1.91,0,0,1,.58,1.4,1.91,1.91,0,0,1-.58,1.4L9.25,21ZM18.45,9,17,7.55Zm-12,3A5.31,5.31,0,0,0,4.9,8.1,5.31,5.31,0,0,0,1,6.5,5.31,5.31,0,0,0,4.9,4.9,5.31,5.31,0,0,0,6.5,1,5.31,5.31,0,0,0,8.1,4.9,5.31,5.31,0,0,0,12,6.5,5.46,5.46,0,0,0,6.5,12Z\"/>\n",
              "  </svg>\n",
              "    </button>\n",
              "    <script>\n",
              "      (() => {\n",
              "      const buttonEl =\n",
              "        document.querySelector('#id_be78c0f1-fe60-4424-8006-05453b715713 button.colab-df-generate');\n",
              "      buttonEl.style.display =\n",
              "        google.colab.kernel.accessAllowed ? 'block' : 'none';\n",
              "\n",
              "      buttonEl.onclick = () => {\n",
              "        google.colab.notebook.generateWithVariable('df');\n",
              "      }\n",
              "      })();\n",
              "    </script>\n",
              "  </div>\n",
              "\n",
              "    </div>\n",
              "  </div>\n"
            ]
          },
          "metadata": {},
          "execution_count": 26
        }
      ],
      "source": [
        "data = {'y_Actual':    act,\n",
        "        'y_Predicted':pred\n",
        "        }\n",
        "\n",
        "df = pd.DataFrame(data, columns = ['y_Actual','y_Predicted'])\n",
        "df"
      ]
    },
    {
      "cell_type": "code",
      "execution_count": 27,
      "metadata": {
        "id": "UrDPtOrlhMqw",
        "colab": {
          "base_uri": "https://localhost:8080/",
          "height": 564
        },
        "outputId": "e3542093-3ceb-485a-8c45-8463a0c5cf96"
      },
      "outputs": [
        {
          "output_type": "display_data",
          "data": {
            "text/plain": [
              "<Figure size 800x600 with 2 Axes>"
            ],
            "image/png": "[encoded data removed]"
          },
          "metadata": {}
        }
      ],
      "source": [
        "import seaborn as sn\n",
        "confusion_matrix = pd.crosstab(act, pred, rownames=['Actual'], colnames = ['Predicted'], margins = True)\n",
        "plt.figure(figsize=(8, 6))\n",
        "sn.heatmap(confusion_matrix, annot=True,  cmap=\"Blues\", fmt='g')\n",
        "plt.title('Gene expression, confusion matrix (GAT) for the test data')\n",
        "plt.show()"
      ]
    },
    {
      "cell_type": "code",
      "execution_count": 28,
      "metadata": {
        "id": "c69FXBmXF8yJ",
        "colab": {
          "base_uri": "https://localhost:8080/"
        },
        "outputId": "893fa7e2-2e96-4f3e-a3fd-584af40da78f"
      },
      "outputs": [
        {
          "output_type": "stream",
          "name": "stdout",
          "text": [
            "F-score: 0.667\n",
            "Recall: 0.667\n"
          ]
        }
      ],
      "source": [
        "from sklearn.metrics import roc_auc_score, f1_score, recall_score\n",
        "# Assuming these are your predicted and true labels in PyTorch tensors\n",
        "out = model(Data[\"x\"], Data[\"edge_index\"])\n",
        "pred = out.argmax(dim = 1)\n",
        "y_pred_np = pred[Data[\"test_mask\"]]\n",
        "\n",
        "y_true_np = Data[\"y\"][Data[\"test_mask\"]]\n",
        "\n",
        "# Calculate F-score and recall per class\n",
        "f_score = f1_score(y_true_np, y_pred_np, average='macro')\n",
        "recall = recall_score(y_true_np, y_pred_np, average='macro')\n",
        "\n",
        "print(f'F-score: {f_score :.3f}')\n",
        "print(f'Recall: {recall :.3f}')\n"
      ]
    },
    {
      "cell_type": "code",
      "execution_count": 29,
      "metadata": {
        "id": "QEoiSByCGG8_",
        "colab": {
          "base_uri": "https://localhost:8080/"
        },
        "outputId": "603ad981-d61c-4053-99a6-a05bb4936199"
      },
      "outputs": [
        {
          "output_type": "stream",
          "name": "stdout",
          "text": [
            "Cohen's Kappa: 0.500\n"
          ]
        }
      ],
      "source": [
        "from sklearn.metrics import cohen_kappa_score\n",
        "\n",
        "# Calculate Cohen's Kappa\n",
        "kappa = cohen_kappa_score(y_true_np, y_pred_np)\n",
        "\n",
        "print(f'Cohen\\'s Kappa: {kappa:.3f}')"
      ]
    },
    {
      "cell_type": "code",
      "execution_count": 30,
      "metadata": {
        "id": "9UeFWkdkGKsf",
        "colab": {
          "base_uri": "https://localhost:8080/"
        },
        "outputId": "175f7265-5d72-4ab1-8838-26c399edb70d"
      },
      "outputs": [
        {
          "output_type": "stream",
          "name": "stdout",
          "text": [
            "Average Precision: 0.667\n"
          ]
        }
      ],
      "source": [
        "from sklearn.metrics import precision_score\n",
        "average_precision = precision_score(y_true_np, y_pred_np, average='macro')\n",
        "print(f'Average Precision: {average_precision:.3f}')"
      ]
    }
  ],
  "metadata": {
    "colab": {
      "provenance": [],
      "authorship_tag": "ABX9TyO38CzZ9H1yCTIq1op4u7Ew",
      "include_colab_link": true
    },
    "kernelspec": {
      "display_name": "Python 3",
      "name": "python3"
    },
    "language_info": {
      "name": "python"
    }
  },
  "nbformat": 4,
  "nbformat_minor": 0
}
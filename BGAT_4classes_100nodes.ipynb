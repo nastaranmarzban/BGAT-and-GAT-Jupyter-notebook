{
  "nbformat": 4,
  "nbformat_minor": 0,
  "metadata": {
    "colab": {
      "provenance": [],
      "authorship_tag": "ABX9TyNfdqhW+DwQnfXTDNp+0Iuv",
      "include_colab_link": true
    },
    "kernelspec": {
      "name": "python3",
      "display_name": "Python 3"
    },
    "language_info": {
      "name": "python"
    },
    "gpuClass": "standard"
  },
  "cells": [
    {
      "cell_type": "markdown",
      "metadata": {
        "id": "view-in-github",
        "colab_type": "text"
      },
      "source": [
        "<a href=\"https://colab.research.google.com/github/nastaranmarzban/BGAT-and-GAT-Jupyter-notebook/blob/main/BGAT_4classes_100nodes.ipynb\" target=\"_parent\"><img src=\"https://colab.research.google.com/assets/colab-badge.svg\" alt=\"Open In Colab\"/></a>"
      ]
    },
    {
      "cell_type": "markdown",
      "source": [
        "## Mount to gdrive to read data, adjacency matrix, p_link and labels."
      ],
      "metadata": {
        "id": "jrGEPUR9kI6e"
      }
    },
    {
      "cell_type": "code",
      "metadata": {
        "id": "SpKfUqA-M-Eu",
        "colab": {
          "base_uri": "https://localhost:8080/"
        },
        "outputId": "548c75e3-3424-4e8d-be3b-df88b75a1889"
      },
      "source": [
        "from google.colab import drive\n",
        "drive.mount('/gdrive')"
      ],
      "execution_count": null,
      "outputs": [
        {
          "output_type": "stream",
          "name": "stdout",
          "text": [
            "Mounted at /gdrive\n"
          ]
        }
      ]
    },
    {
      "cell_type": "markdown",
      "source": [
        "# Install pandas to read csv files from gdrive. Install torch and numpy which are packages that are needed durind coding."
      ],
      "metadata": {
        "id": "GzLZuKFOkNgR"
      }
    },
    {
      "cell_type": "code",
      "source": [
        "!pip install pandas\n",
        "import pandas as pd\n",
        "import torch\n",
        "import numpy as np"
      ],
      "metadata": {
        "id": "CH2w3eLcUcR3",
        "colab": {
          "base_uri": "https://localhost:8080/"
        },
        "outputId": "bb82f47c-0db3-417c-f2df-0ef266bdbefe"
      },
      "execution_count": null,
      "outputs": [
        {
          "output_type": "stream",
          "name": "stdout",
          "text": [
            "Requirement already satisfied: pandas in /usr/local/lib/python3.10/dist-packages (1.5.3)\n",
            "Requirement already satisfied: python-dateutil>=2.8.1 in /usr/local/lib/python3.10/dist-packages (from pandas) (2.8.2)\n",
            "Requirement already satisfied: pytz>=2020.1 in /usr/local/lib/python3.10/dist-packages (from pandas) (2023.3.post1)\n",
            "Requirement already satisfied: numpy>=1.21.0 in /usr/local/lib/python3.10/dist-packages (from pandas) (1.23.5)\n",
            "Requirement already satisfied: six>=1.5 in /usr/local/lib/python3.10/dist-packages (from python-dateutil>=2.8.1->pandas) (1.16.0)\n"
          ]
        }
      ]
    },
    {
      "cell_type": "markdown",
      "source": [
        "# Load data which are processed in preprocessing_data_4classdes.ipynb file."
      ],
      "metadata": {
        "id": "hBnsNCxokoFR"
      }
    },
    {
      "cell_type": "code",
      "source": [
        "path = F\"/gdrive/MyDrive/4classes_100.sim/data.pt\"\n",
        "Data = torch.load(path)\n",
        "Data"
      ],
      "metadata": {
        "id": "h0XyRAHbUeJT",
        "colab": {
          "base_uri": "https://localhost:8080/"
        },
        "outputId": "24ee6bbf-dfd3-4de3-b9ca-44a15a2088e4"
      },
      "execution_count": null,
      "outputs": [
        {
          "output_type": "execute_result",
          "data": {
            "text/plain": [
              "{'x': tensor([[-0.2138,  0.1836, -1.2796,  ..., -0.7865,  0.3766, -0.0634],\n",
              "         [ 0.1939, -1.7053,  0.0836,  ...,  1.9979, -0.0287,  0.2419],\n",
              "         [ 1.1427, -0.1411, -1.8947,  ..., -1.1283, -2.1305, -0.6967],\n",
              "         ...,\n",
              "         [ 0.2675, -1.8261,  0.3187,  ...,  1.4613, -0.2672,  0.4551],\n",
              "         [ 0.4348, -0.0747, -0.3687,  ..., -0.3990, -0.2855, -0.3294],\n",
              "         [ 1.1066,  0.3640, -1.1720,  ...,  0.7746,  0.5340, -0.4019]]),\n",
              " 'edge_index': tensor([[ 0,  0,  0,  0,  0,  1,  1,  1,  1,  1,  1,  1,  1,  1,  1,  1,  2,  3,\n",
              "           4,  5,  5,  5,  5,  5,  5,  5,  5,  5,  5,  6,  6,  7,  8,  8,  8,  9,\n",
              "           9,  9,  9, 10, 10, 11, 11, 12, 12, 13, 13, 13, 13, 13, 14, 15, 15, 16,\n",
              "          16, 17, 17, 17, 17, 17, 17, 17, 17, 17, 17, 17, 17, 17, 18, 18, 18, 18,\n",
              "          18, 19, 19, 19, 19, 19, 19, 19, 19, 20, 20, 20, 20, 20, 20, 21, 21, 21,\n",
              "          21, 21, 21, 21, 21, 21, 21, 21, 22, 22, 23, 23, 23, 23, 23, 23, 23, 23,\n",
              "          23, 23, 24, 24, 24, 24, 24, 24, 24, 24, 24, 24, 24, 25, 25, 26, 26, 27,\n",
              "          27, 27, 27, 27, 27, 27, 27, 27, 27, 27, 27, 28, 28, 31, 31, 31, 31, 31,\n",
              "          31, 31, 31, 31, 32, 33, 33, 33, 33, 34, 34, 34, 35, 35, 35, 36, 36, 36,\n",
              "          37, 37, 37, 37, 37, 37, 37, 37, 37, 37, 37, 38, 38, 38, 39, 39, 39, 39,\n",
              "          39, 39, 39, 39, 39, 39, 39, 39, 39, 39, 40, 40, 41, 41, 41, 41, 41, 41,\n",
              "          41, 41, 41, 42, 42, 42, 42, 42, 42, 43, 43, 43, 43, 43, 43, 43, 44, 44,\n",
              "          44, 44, 44, 44, 44, 44, 44, 44, 44, 44, 44, 45, 45, 45, 46, 46, 47, 47,\n",
              "          48, 48, 48, 48, 48, 48, 48, 48, 48, 48, 48, 48, 48, 48, 48, 48, 48, 48,\n",
              "          48, 48, 49, 49, 49, 50, 50, 51, 51, 52, 53, 53, 53, 53, 54, 55, 56, 56,\n",
              "          56, 57, 57, 57, 58, 58, 58, 59, 61, 61, 62, 62, 62, 62, 62, 63, 63, 63,\n",
              "          63, 63, 63, 63, 63, 63, 63, 63, 63, 63, 65, 65, 65, 65, 65, 65, 65, 65,\n",
              "          65, 65, 65, 65, 65, 65, 65, 65, 65, 65, 66, 67, 67, 68, 68, 68, 68, 68,\n",
              "          68, 68, 68, 68, 69, 69, 69, 69, 70, 70, 71, 71, 71, 71, 71, 71, 71, 71,\n",
              "          71, 71, 71, 72, 72, 72, 73, 73, 73, 74, 74, 74, 74, 74, 74, 74, 74, 74,\n",
              "          74, 75, 75, 76, 77, 78, 78, 78, 79, 79, 79, 80, 81, 81, 81, 81, 81, 82,\n",
              "          82, 82, 82, 82, 82, 82, 83, 83, 83, 83, 83, 83, 83, 83, 83, 83, 83, 83,\n",
              "          83, 84, 84, 84, 85, 85, 85, 85, 86, 86, 86, 86, 87, 87, 88, 89, 89, 89,\n",
              "          89, 89, 89, 89, 89, 90, 90, 90, 90, 90, 90, 90, 90, 90, 90, 90, 90, 90,\n",
              "          91, 91, 91, 91, 91, 92, 92, 92, 92, 92, 92, 92, 92, 92, 92, 92, 92, 93,\n",
              "          94, 94, 95, 95, 95, 96, 96, 96, 96, 96, 96, 96, 96, 96, 96, 97, 97, 97,\n",
              "          97, 97, 97, 97, 97, 97, 97, 97, 98, 99],\n",
              "         [ 6, 13, 20, 43, 95,  5, 17, 21, 31, 39, 44, 71, 89, 90, 96, 97,  9, 94,\n",
              "          57,  1, 17, 19, 41, 44, 71, 74, 83, 92, 96,  0, 86, 18, 57, 62, 88,  2,\n",
              "          14, 62, 87, 48, 65, 48, 65, 52, 65,  0, 33, 43, 72, 81,  9, 48, 65, 48,\n",
              "          65,  1,  5, 19, 27, 37, 39, 44, 71, 82, 83, 90, 92, 97,  7, 25, 26, 62,\n",
              "          93,  5, 17, 23, 24, 39, 71, 83, 92,  0, 24, 50, 58, 73, 85,  1, 24, 27,\n",
              "          37, 39, 43, 82, 89, 90, 92, 97, 48, 65, 19, 31, 37, 41, 63, 74, 83, 89,\n",
              "          90, 97, 19, 20, 21, 31, 39, 63, 74, 83, 90, 92, 96, 18, 77, 18, 40, 17,\n",
              "          21, 31, 37, 39, 44, 63, 68, 83, 90, 92, 97, 48, 65,  1, 23, 24, 27, 44,\n",
              "          63, 71, 82, 89, 95, 13, 43, 58, 91, 42, 69, 85, 46, 65, 68, 72, 84, 85,\n",
              "          17, 21, 23, 27, 39, 41, 44, 68, 74, 82, 90, 42, 73, 78,  1, 17, 19, 21,\n",
              "          24, 27, 37, 63, 71, 83, 90, 92, 96, 97, 26, 80,  5, 23, 37, 71, 89, 90,\n",
              "          92, 96, 97, 34, 38, 50, 69, 81, 86,  0, 13, 21, 33, 68, 73, 81,  1,  5,\n",
              "          17, 27, 31, 37, 63, 74, 83, 90, 92, 96, 97, 48, 65, 79, 35, 48, 48, 65,\n",
              "          10, 11, 15, 16, 22, 28, 45, 46, 47, 49, 51, 56, 61, 65, 66, 70, 75, 76,\n",
              "          79, 87, 48, 53, 65, 20, 42, 48, 65, 12, 49, 67, 78, 91, 65, 62, 48, 65,\n",
              "          69,  4,  8, 94, 20, 33, 98, 62, 48, 65,  8,  9, 18, 55, 59, 23, 24, 27,\n",
              "          31, 39, 44, 68, 79, 82, 89, 92, 96, 97, 10, 11, 12, 15, 16, 22, 28, 35,\n",
              "          45, 47, 48, 49, 51, 54, 56, 61, 70, 75, 48, 53, 91, 27, 35, 37, 43, 63,\n",
              "          74, 83, 90, 96, 34, 42, 56, 72, 48, 65,  1,  5, 17, 19, 31, 39, 41, 82,\n",
              "          83, 89, 92, 13, 36, 69, 20, 38, 43,  5, 23, 24, 37, 44, 68, 82, 83, 90,\n",
              "          96, 48, 65, 48, 25, 38, 53, 91, 45, 48, 63, 40, 13, 42, 43, 84, 91, 17,\n",
              "          21, 31, 37, 63, 71, 74,  5, 17, 19, 23, 24, 27, 39, 44, 68, 71, 74, 90,\n",
              "          96, 36, 81, 86, 20, 34, 36, 86,  6, 42, 84, 85,  9, 48,  8,  1, 21, 23,\n",
              "          31, 41, 63, 71, 97,  1, 17, 21, 23, 24, 27, 37, 39, 41, 44, 68, 74, 83,\n",
              "          33, 53, 67, 78, 81,  5, 17, 19, 21, 24, 27, 39, 41, 44, 63, 71, 97, 18,\n",
              "           3, 57,  0, 32, 99,  1,  5, 24, 39, 41, 44, 63, 68, 74, 83,  1, 17, 21,\n",
              "          23, 27, 39, 41, 44, 63, 89, 92, 58, 95]]),\n",
              " 'y': tensor([0, 1, 3, 3, 3, 1, 0, 3, 3, 3, 2, 2, 2, 0, 3, 2, 2, 1, 3, 1, 0, 1, 2, 1,\n",
              "         1, 3, 3, 1, 2, 3, 3, 1, 0, 0, 0, 2, 0, 1, 0, 1, 3, 1, 0, 0, 1, 2, 2, 2,\n",
              "         2, 2, 0, 2, 3, 0, 2, 3, 2, 3, 0, 3, 3, 2, 3, 1, 2, 2, 2, 0, 1, 0, 2, 1,\n",
              "         0, 0, 1, 2, 2, 3, 0, 2, 3, 0, 1, 1, 0, 0, 0, 2, 3, 1, 1, 0, 1, 3, 3, 0,\n",
              "         1, 1, 2, 0]),\n",
              " 'train_mask': tensor([False,  True,  True,  True,  True,  True,  True,  True,  True,  True,\n",
              "          True,  True, False,  True,  True,  True,  True,  True,  True,  True,\n",
              "          True,  True,  True,  True,  True,  True, False,  True,  True,  True,\n",
              "         False,  True, False,  True,  True,  True,  True,  True,  True,  True,\n",
              "          True,  True,  True,  True,  True,  True,  True, False,  True,  True,\n",
              "          True,  True,  True,  True,  True, False,  True,  True, False,  True,\n",
              "          True, False,  True,  True,  True, False,  True,  True,  True, False,\n",
              "         False,  True,  True, False, False,  True,  True,  True,  True, False,\n",
              "          True,  True,  True,  True,  True, False,  True,  True,  True, False,\n",
              "         False,  True,  True, False,  True,  True,  True, False,  True,  True]),\n",
              " 'val_mask': tensor([False, False, False, False, False, False, False, False, False, False,\n",
              "         False, False,  True, False, False, False, False, False, False, False,\n",
              "         False, False, False, False, False, False,  True, False, False, False,\n",
              "         False, False,  True, False, False, False, False, False, False, False,\n",
              "         False, False, False, False, False, False, False, False, False, False,\n",
              "         False, False, False, False, False, False, False, False,  True, False,\n",
              "         False,  True, False, False, False,  True, False, False, False, False,\n",
              "         False, False, False,  True,  True, False, False, False, False, False,\n",
              "         False, False, False, False, False, False, False, False, False, False,\n",
              "         False, False, False,  True, False, False, False,  True, False, False]),\n",
              " 'test_mask': tensor([ True, False, False, False, False, False, False, False, False, False,\n",
              "         False, False, False, False, False, False, False, False, False, False,\n",
              "         False, False, False, False, False, False, False, False, False, False,\n",
              "          True, False, False, False, False, False, False, False, False, False,\n",
              "         False, False, False, False, False, False, False,  True, False, False,\n",
              "         False, False, False, False, False,  True, False, False, False, False,\n",
              "         False, False, False, False, False, False, False, False, False,  True,\n",
              "          True, False, False, False, False, False, False, False, False,  True,\n",
              "         False, False, False, False, False,  True, False, False, False,  True,\n",
              "          True, False, False, False, False, False, False, False, False, False])}"
            ]
          },
          "metadata": {},
          "execution_count": 3
        }
      ]
    },
    {
      "cell_type": "markdown",
      "source": [
        "# Gather some statistics about the graph."
      ],
      "metadata": {
        "id": "LBWRPLDKlAri"
      }
    },
    {
      "cell_type": "code",
      "source": [
        "print(f'Number of nodes: {Data[\"x\"].size(0)}')\n",
        "print(f'Number of features: {Data[\"x\"].size(1)}')\n",
        "print(f'Number of classes: {torch.numel(torch.unique(Data[\"y\"],sorted=True))}')\n",
        "print(f'Number of edges: {Data[\"edge_index\"].size(1)}')\n",
        "print(f'Average node degree: {Data[\"edge_index\"].size(1) / Data[\"x\"].size(0):.2f}')\n",
        "print(f'Number of training nodes: {Data[\"train_mask\"].sum()}')\n",
        "print(f'Number of testing nodes: {Data[\"test_mask\"].sum()}')\n",
        "print(f'Training node label rate: {int(Data[\"train_mask\"].sum()) /  Data[\"x\"].size(0):.2f}')"
      ],
      "metadata": {
        "colab": {
          "base_uri": "https://localhost:8080/"
        },
        "id": "rDNqRQ7ZPYJU",
        "outputId": "8e677b3c-b8e1-42cd-d5fc-e69c9c946241"
      },
      "execution_count": null,
      "outputs": [
        {
          "output_type": "stream",
          "name": "stdout",
          "text": [
            "Number of nodes: 100\n",
            "Number of features: 500\n",
            "Number of classes: 4\n",
            "Number of edges: 478\n",
            "Average node degree: 4.78\n",
            "Number of training nodes: 80\n",
            "Number of testing nodes: 10\n",
            "Training node label rate: 0.80\n"
          ]
        }
      ]
    },
    {
      "cell_type": "markdown",
      "source": [
        "# Read p_link from gdrive to use it as the attention."
      ],
      "metadata": {
        "id": "cRDsYn5ylINR"
      }
    },
    {
      "cell_type": "code",
      "source": [
        "path = F\"/gdrive/MyDrive/4classes_100.sim/p_link.pt\"\n",
        "p_link = torch.load(path)\n",
        "print(p_link)\n",
        "print(p_link.size())\n",
        "print(p_link.dtype)\n",
        "print(p_link.type())"
      ],
      "metadata": {
        "id": "Z9YyNJf8Up_O",
        "colab": {
          "base_uri": "https://localhost:8080/"
        },
        "outputId": "406e802a-3e32-46c5-86d1-8e079ac93a8d"
      },
      "execution_count": null,
      "outputs": [
        {
          "output_type": "stream",
          "name": "stdout",
          "text": [
            "tensor([[1.0000, 0.0000, 0.0000,  ..., 0.0200, 0.0000, 0.0000],\n",
            "        [0.0000, 1.0000, 0.0000,  ..., 1.0000, 0.0000, 0.0200],\n",
            "        [0.0000, 0.0000, 1.0000,  ..., 0.0000, 0.0000, 0.0000],\n",
            "        ...,\n",
            "        [0.0200, 1.0000, 0.0000,  ..., 1.0000, 0.0000, 0.0000],\n",
            "        [0.0000, 0.0000, 0.0000,  ..., 0.0000, 1.0000, 0.0000],\n",
            "        [0.0000, 0.0200, 0.0000,  ..., 0.0000, 0.0000, 1.0000]])\n",
            "torch.Size([100, 100])\n",
            "torch.float32\n",
            "torch.FloatTensor\n"
          ]
        }
      ]
    },
    {
      "cell_type": "markdown",
      "source": [
        "# Install torch_geometic."
      ],
      "metadata": {
        "id": "mNMqwucplRVg"
      }
    },
    {
      "cell_type": "code",
      "source": [
        "import os\n",
        "os.environ['TORCH'] = torch.__version__\n",
        "print(torch.__version__)\n",
        "\n",
        "!pip install -q torch-scatter -f https://data.pyg.org/whl/torch-${TORCH}.html\n",
        "!pip install -q torch-sparse -f https://data.pyg.org/whl/torch-${TORCH}.html\n",
        "!pip install -q git+https://github.com/pyg-team/pytorch_geometric.git"
      ],
      "metadata": {
        "colab": {
          "base_uri": "https://localhost:8080/"
        },
        "id": "4mHYoMBWxnbg",
        "outputId": "75eabb5e-bd53-4b27-845f-f36c602fd7e9"
      },
      "execution_count": null,
      "outputs": [
        {
          "output_type": "stream",
          "name": "stdout",
          "text": [
            "2.1.0+cu118\n",
            "\u001b[2K     \u001b[90m━━━━━━━━━━━━━━━━━━━━━━━━━━━━━━━━━━━━━━━━\u001b[0m \u001b[32m10.2/10.2 MB\u001b[0m \u001b[31m35.8 MB/s\u001b[0m eta \u001b[36m0:00:00\u001b[0m\n",
            "\u001b[2K     \u001b[90m━━━━━━━━━━━━━━━━━━━━━━━━━━━━━━━━━━━━━━━━\u001b[0m \u001b[32m4.9/4.9 MB\u001b[0m \u001b[31m24.2 MB/s\u001b[0m eta \u001b[36m0:00:00\u001b[0m\n",
            "\u001b[?25h  Installing build dependencies ... \u001b[?25l\u001b[?25hdone\n",
            "  Getting requirements to build wheel ... \u001b[?25l\u001b[?25hdone\n",
            "  Preparing metadata (pyproject.toml) ... \u001b[?25l\u001b[?25hdone\n",
            "  Building wheel for torch_geometric (pyproject.toml) ... \u001b[?25l\u001b[?25hdone\n"
          ]
        }
      ]
    },
    {
      "cell_type": "markdown",
      "source": [
        "# Developing our own model (making our own message passing layers)."
      ],
      "metadata": {
        "id": "hLp4FOoqUztO"
      }
    },
    {
      "cell_type": "markdown",
      "source": [
        "# BGATConv\n",
        "$$ X^\\prime _i = \\sum_{j \\in N(i)\\cup i} \\alpha_{ij}\\Theta X_j$$\n",
        "In which $\\alpha$s are computed via BDgraph(p_link) and $\\Theta$ is learnable parameter."
      ],
      "metadata": {
        "id": "U4nzD8K6U400"
      }
    },
    {
      "cell_type": "code",
      "source": [
        "import torch_geometric\n",
        "from torch_geometric.nn import MessagePassing\n",
        "import torch.nn.functional as F\n",
        "from torch_geometric.utils import add_self_loops"
      ],
      "metadata": {
        "id": "lzfBFX1uWDXq"
      },
      "execution_count": null,
      "outputs": []
    },
    {
      "cell_type": "markdown",
      "source": [
        "# Creating message passing network."
      ],
      "metadata": {
        "id": "20LEsO0ulv_y"
      }
    },
    {
      "cell_type": "code",
      "source": [
        "class BGATConv(MessagePassing):\n",
        "    def __init__(\n",
        "        self,\n",
        "        in_channels,\n",
        "        out_channels,\n",
        "        **kwargs,\n",
        "    ):\n",
        "        kwargs.setdefault('aggr', 'add')\n",
        "        super().__init__(node_dim = 0, **kwargs)\n",
        "        self.in_channels = in_channels\n",
        "        self.out_channels = out_channels\n",
        "        self.lin = torch.nn.Linear(in_channels, out_channels)\n",
        "\n",
        "    def forward(self, x, edge_index):\n",
        "        edge_index, _ = add_self_loops(Data[\"edge_index\"], num_nodes = Data[\"x\"].size(0))\n",
        "        x = self.lin(x)\n",
        "        atten = p_link\n",
        "        return self.propagate(edge_index, x = x, atten = atten)\n",
        "\n",
        "    def message(self, x_j, atten, edge_index_i, edge_index_j):\n",
        "        return atten[edge_index_i, edge_index_j].reshape(-1,1) * x_j\n",
        "\n",
        "    def __repr__(self):\n",
        "        return '{}({}, {})'.format(self.__class__.__name__, self.in_channels, self.out_channels)"
      ],
      "metadata": {
        "id": "Exf3Xj7eU8eq"
      },
      "execution_count": null,
      "outputs": []
    },
    {
      "cell_type": "markdown",
      "source": [
        "# Make GNN layers with our own model, BGAT. We use three BGAT conv."
      ],
      "metadata": {
        "id": "eBGuS1EcVAcG"
      }
    },
    {
      "cell_type": "code",
      "source": [
        "class Myconv(torch.nn.Module):\n",
        "    def __init__(self):\n",
        "        super().__init__()\n",
        "        torch.manual_seed(2)\n",
        "        self.conv1 = BGATConv(in_channels = 500, out_channels = 5)\n",
        "        self.conv2 =  BGATConv(5, 4)\n",
        "\n",
        "\n",
        "    def forward(self, x, edge_index):\n",
        "        h = self.conv1(x, edge_index)\n",
        "        h = F.tanh(h)\n",
        "        h = self.conv2(h, edge_index)\n",
        "        return h\n",
        "\n",
        "model = Myconv()\n",
        "print(model)\n",
        "print(model.forward(Data[\"x\"], Data[\"edge_index\"]))"
      ],
      "metadata": {
        "id": "EfyRg6XEVD2M",
        "colab": {
          "base_uri": "https://localhost:8080/"
        },
        "outputId": "479d133f-38ba-486b-ec12-b2dcc821cfdd"
      },
      "execution_count": null,
      "outputs": [
        {
          "output_type": "stream",
          "name": "stdout",
          "text": [
            "Myconv(\n",
            "  (conv1): BGATConv(500, 5)\n",
            "  (conv2): BGATConv(5, 4)\n",
            ")\n",
            "tensor([[-3.1364e+00,  7.3648e-01, -2.3746e+00, -8.1199e-01],\n",
            "        [ 1.0317e+00,  1.6558e+00, -2.9875e-01,  9.2608e-01],\n",
            "        [-5.7589e-01,  1.8519e-01, -6.6170e-01, -1.2516e-01],\n",
            "        [-7.2401e-01, -1.8988e-01, -7.6381e-01,  4.9116e-02],\n",
            "        [-2.6296e-01,  5.0212e-01, -7.4408e-01,  8.7839e-02],\n",
            "        [ 5.5413e-01,  1.8758e-01, -1.3050e+00, -5.3182e-01],\n",
            "        [-1.1425e+00,  3.0923e-01, -3.5597e-01,  1.8026e-01],\n",
            "        [-1.1078e+00,  1.5739e+00,  2.8606e-01,  1.1354e+00],\n",
            "        [ 6.9897e-01,  4.4314e-01,  2.3305e-01,  9.0330e-01],\n",
            "        [-1.7056e-01,  1.0422e+00, -2.8071e-01,  6.1527e-01],\n",
            "        [-3.9338e-01, -4.4193e-01, -1.3844e+00, -6.5999e-01],\n",
            "        [-8.3390e-02, -5.3803e-01, -1.4995e+00, -7.1201e-01],\n",
            "        [-5.2601e-01,  1.3604e-01, -1.5084e+00, -3.9807e-01],\n",
            "        [-2.1995e+00,  1.3506e+00, -1.4020e-01,  2.8125e-01],\n",
            "        [-2.0274e-01,  1.8365e-01,  4.5339e-02,  1.4402e-01],\n",
            "        [-6.2676e-01, -2.4871e-01, -1.6765e+00, -6.6755e-01],\n",
            "        [-3.3335e-01, -6.0708e-01, -1.5374e+00, -7.3407e-01],\n",
            "        [-9.6451e-01,  2.3305e+00,  1.0471e-01,  1.5072e+00],\n",
            "        [-7.0750e-01,  4.0936e+00, -1.5660e-02,  2.4337e+00],\n",
            "        [ 7.7116e-01, -1.7120e-01,  3.6729e-01,  4.2232e-01],\n",
            "        [-1.5816e+00,  3.6528e-01, -2.0634e+00, -8.0663e-01],\n",
            "        [-2.0154e+00,  1.9221e+00,  9.1068e-01,  2.2235e+00],\n",
            "        [-8.8657e-02, -5.3558e-01, -1.6721e+00, -8.3845e-01],\n",
            "        [-1.9013e+00,  4.5332e+00, -1.7161e+00,  7.0991e-01],\n",
            "        [ 5.1359e-01,  1.8648e+00, -1.4475e-01,  6.9467e-01],\n",
            "        [-1.4782e+00,  2.0015e+00, -7.9804e-01,  6.9811e-01],\n",
            "        [-1.0353e+00,  2.1988e+00,  1.1080e+00,  2.1164e+00],\n",
            "        [-1.5180e-01,  5.2122e+00,  4.8155e-02,  2.0377e+00],\n",
            "        [-4.4824e-01, -3.6349e-01, -1.5983e+00, -6.3092e-01],\n",
            "        [-2.3789e-01,  3.6363e-01, -4.6615e-01, -9.8776e-02],\n",
            "        [-4.1356e-01,  1.5337e-01, -3.8818e-01, -3.5807e-02],\n",
            "        [-6.6508e-01,  2.1729e+00,  1.5570e-01,  1.1092e+00],\n",
            "        [-1.7648e+00,  1.5880e-01, -1.3267e+00, -3.9617e-01],\n",
            "        [-1.0891e+00,  1.6549e+00,  2.4199e-01,  5.0912e-01],\n",
            "        [-2.7963e+00,  9.1127e-01, -8.6593e-01,  5.7244e-01],\n",
            "        [-5.9530e-01,  1.6374e+00, -1.1512e+00, -9.2502e-02],\n",
            "        [-1.5563e+00, -2.3991e-01, -4.0441e-01,  3.7562e-01],\n",
            "        [-1.6639e+00,  3.2937e+00,  5.0146e-02,  1.8634e+00],\n",
            "        [-1.6019e+00,  2.0893e+00, -9.3563e-02,  9.7119e-01],\n",
            "        [ 3.0768e-01,  2.7614e+00,  5.5742e-01,  1.8762e+00],\n",
            "        [-1.0345e+00,  2.4148e+00,  1.3114e+00,  2.3567e+00],\n",
            "        [-2.4996e+00,  2.0014e+00, -1.6366e+00,  5.3525e-01],\n",
            "        [-4.1871e+00,  2.7944e+00,  1.2654e-01,  1.8803e+00],\n",
            "        [-1.6368e+00,  2.7954e+00,  5.7061e-01,  1.1305e+00],\n",
            "        [-1.9269e+00,  4.2185e+00, -1.6664e+00,  6.6194e-01],\n",
            "        [-8.1042e-01, -2.4777e-01, -2.0102e+00, -8.4119e-01],\n",
            "        [ 5.0865e-02,  3.7971e-01, -1.0098e+00, -2.9032e-01],\n",
            "        [-1.3968e-01, -6.3354e-02, -1.8529e+00, -7.9800e-01],\n",
            "        [-9.4580e+00,  5.0394e+00, -8.6434e+00,  1.3383e+00],\n",
            "        [-5.7157e-01,  9.0689e-02, -1.0445e+00, -1.7991e-01],\n",
            "        [-1.7621e+00,  5.8032e-01, -1.2762e+00, -1.8826e-01],\n",
            "        [-1.4444e-01, -2.9328e-01, -1.8497e+00, -7.8588e-01],\n",
            "        [-2.0626e-01,  4.1864e-01, -9.2458e-01,  7.4356e-02],\n",
            "        [-1.5409e+00,  1.6767e+00,  2.4616e+00,  2.4405e+00],\n",
            "        [-3.4218e-01,  1.6767e-01, -1.2180e+00, -4.4908e-01],\n",
            "        [ 1.3929e+00,  6.8504e-01, -2.3951e-02,  1.9289e-01],\n",
            "        [-1.0650e+00,  2.9515e-02, -1.6876e+00, -5.3792e-01],\n",
            "        [-4.4932e-02,  2.2326e-01, -8.3493e-01,  2.1124e-01],\n",
            "        [-6.9427e-01,  8.4876e-01, -1.4252e+00, -6.7186e-01],\n",
            "        [ 1.1503e+00,  4.5229e-01, -2.5069e-01,  8.9144e-02],\n",
            "        [-1.1818e-01,  4.5199e-01,  1.0897e-01,  2.5715e-01],\n",
            "        [-6.4997e-01,  6.6241e-02, -1.7741e+00, -6.1674e-01],\n",
            "        [ 1.2885e+00,  1.3962e+00, -3.3661e-01,  5.4503e-01],\n",
            "        [-2.5871e+00,  4.6438e+00, -8.5191e-01,  1.5830e+00],\n",
            "        [ 1.0869e-01,  3.3388e-01, -5.3221e-01, -1.5812e-01],\n",
            "        [-6.3024e+00,  3.3670e+00, -8.4445e+00,  3.6498e-01],\n",
            "        [-8.0408e-01,  2.4426e-01, -1.0537e+00, -1.7981e-01],\n",
            "        [-8.3850e-01,  8.3897e-01,  2.0349e+00,  1.6794e+00],\n",
            "        [-2.5888e+00,  5.3429e+00, -9.6789e-01,  1.2302e+00],\n",
            "        [-3.0982e+00,  1.2596e+00, -1.0249e+00,  6.1336e-01],\n",
            "        [-5.8502e-01, -2.9038e-01, -1.7615e+00, -7.1278e-01],\n",
            "        [ 6.5320e-01, -3.2203e-01,  8.7767e-01,  1.0325e+00],\n",
            "        [-1.7979e+00,  5.9589e-01, -4.8180e-01,  2.1602e-01],\n",
            "        [-1.4633e+00,  1.6577e+00, -8.1280e-01,  1.8599e-01],\n",
            "        [-3.6564e+00,  4.7123e+00, -1.1456e+00,  1.3636e+00],\n",
            "        [-2.2120e-01, -3.5881e-01, -1.9831e+00, -9.6108e-01],\n",
            "        [-2.3241e-01,  1.6692e-01, -8.7210e-01, -1.1020e-01],\n",
            "        [-8.6235e-01,  1.3257e+00, -9.5272e-01,  2.1594e-01],\n",
            "        [-1.3302e+00,  1.7070e+00,  1.8990e+00,  2.1024e+00],\n",
            "        [-5.0258e-01,  4.2445e-01, -1.3646e+00, -3.7835e-01],\n",
            "        [-1.0154e+00,  1.5065e+00,  1.0049e+00,  1.5830e+00],\n",
            "        [-2.4684e+00,  1.3167e+00,  1.1146e+00,  1.5174e+00],\n",
            "        [ 2.8965e-03,  2.1225e+00,  7.3387e-01,  1.3636e+00],\n",
            "        [-1.1982e+00,  3.8477e+00, -8.0164e-01,  1.1145e+00],\n",
            "        [-1.8376e+00,  7.0235e-01,  1.2776e+00,  1.5621e+00],\n",
            "        [-2.7812e+00,  8.2033e-01, -5.4002e-01,  8.9949e-01],\n",
            "        [-2.1354e+00,  5.1100e-01, -5.4722e-01,  7.4365e-01],\n",
            "        [-5.1913e-01,  8.6244e-02, -8.3090e-01, -5.9564e-02],\n",
            "        [ 1.4564e-01, -1.8968e-02,  3.9080e-01,  5.1122e-01],\n",
            "        [ 1.2358e+00,  1.1234e+00, -5.0801e-01,  3.9128e-01],\n",
            "        [-8.9438e-01,  3.2734e+00, -7.4398e-02,  1.7713e+00],\n",
            "        [-2.0339e+00,  2.4456e+00,  3.6129e+00,  3.1510e+00],\n",
            "        [ 2.4679e+00,  4.2232e-01, -1.8615e-01,  2.4856e-01],\n",
            "        [-7.2964e-01,  1.1485e+00, -2.1325e-01,  5.5217e-01],\n",
            "        [-1.0232e+00, -4.8500e-02, -1.0928e+00,  1.9740e-01],\n",
            "        [-2.8908e+00, -6.1050e-03, -2.2442e+00, -7.9995e-01],\n",
            "        [ 2.9770e-01,  1.4536e+00, -1.1369e+00, -1.9481e-01],\n",
            "        [ 7.8264e-01,  1.2845e+00, -7.1348e-01,  3.5529e-01],\n",
            "        [ 1.0310e-02,  2.5734e-01, -1.3459e+00, -7.9021e-01],\n",
            "        [-1.5258e+00,  1.4946e-01, -1.3388e+00, -3.7342e-01]],\n",
            "       grad_fn=<ScatterAddBackward0>)\n"
          ]
        }
      ]
    },
    {
      "cell_type": "markdown",
      "source": [
        "# We take a look at the node embeddings produced by our GNN (before training)."
      ],
      "metadata": {
        "id": "_E7E2mPtVIsj"
      }
    },
    {
      "cell_type": "code",
      "source": [
        "import matplotlib.pyplot as plt\n",
        "from sklearn.manifold import TSNE\n",
        "import seaborn as sns\n",
        "\n",
        "def visualize(h):\n",
        "    z = TSNE(n_components = 2, random_state = 0).fit_transform(h.detach().numpy())\n",
        "    plt.figure(figsize = (6,4),  dpi = 120)\n",
        "    sns.scatterplot(x = z[:, 0], y = z[:, 1], hue = Data[\"y\"], palette=sns.color_palette(\"bright\",4)).set(title = \"First scenario data T-SNE projection before training (BGAT)\")"
      ],
      "metadata": {
        "id": "qdb1iwBrVSOO"
      },
      "execution_count": null,
      "outputs": []
    },
    {
      "cell_type": "code",
      "source": [
        "model = Myconv()\n",
        "h = model(Data[\"x\"], Data[\"edge_index\"])\n",
        "\n",
        "print(f'Embedding shape: {list(h.shape)}')\n",
        "visualize(h)"
      ],
      "metadata": {
        "id": "vyxQxq4rVXuq",
        "colab": {
          "base_uri": "https://localhost:8080/",
          "height": 483
        },
        "outputId": "d1010160-f9ef-4458-9da1-fbd2a163bece"
      },
      "execution_count": null,
      "outputs": [
        {
          "output_type": "stream",
          "name": "stdout",
          "text": [
            "Embedding shape: [100, 4]\n"
          ]
        },
        {
          "output_type": "display_data",
          "data": {
            "text/plain": [
              "<Figure size 720x480 with 1 Axes>"
            ],
            "image/png": "[encoded data removed]"
          },
          "metadata": {}
        }
      ]
    },
    {
      "cell_type": "markdown",
      "source": [
        "# Start training the model."
      ],
      "metadata": {
        "id": "UVd342dCBU4Z"
      }
    },
    {
      "cell_type": "code",
      "source": [
        "model = Myconv()\n",
        "criterion = torch.nn.CrossEntropyLoss()  # Define loss criterion.\n",
        "optimizer = torch.optim.Adam(model.parameters(),   lr = 0.005)  # Define optimizer, an object for updating parameters\n",
        "#loss = loss + weight decay parameter * L2 norm of the weights, 1) To prevent overfitting 2) To keep the weights small and avoid exploding gradient\n",
        "\n",
        "def train(Data):\n",
        "    model.train()\n",
        "    optimizer.zero_grad()  # Clear gradients.\n",
        "    out = model(Data[\"x\"], Data[\"edge_index\"])\n",
        "    train_loss = criterion(out[Data[\"train_mask\"]], Data[\"y\"][Data[\"train_mask\"]])  # Compute the loss solely based on the training nodes.\n",
        "    train_loss.backward()  # Derive gradients.\n",
        "    optimizer.step()  # Update parameters based on gradients.\n",
        "    return train_loss\n",
        "\n",
        "\n",
        "def val(Data):\n",
        "      model.eval()\n",
        "      with torch.no_grad():\n",
        "        out = model(Data[\"x\"], Data[\"edge_index\"])\n",
        "        val_loss = criterion(out[Data[\"val_mask\"]], Data[\"y\"][Data[\"val_mask\"]])\n",
        "        return val_loss\n"
      ],
      "metadata": {
        "id": "7PVoyk5M2qbT"
      },
      "execution_count": null,
      "outputs": []
    },
    {
      "cell_type": "code",
      "source": [
        "train_loss_ = []\n",
        "val_loss_ = []\n",
        "\n",
        "for epoch in range(1,43):\n",
        "\n",
        "  epoch_train_loss = []\n",
        "  epoch_val_loss = []\n",
        "  train_loss = train(Data)\n",
        "  val_loss = val(Data)\n",
        "\n",
        "\n",
        "\n",
        "\n",
        "\n",
        "\n",
        "  epoch_train_loss.append(train_loss.item())\n",
        "  epoch_val_loss.append(val_loss.item())\n",
        "\n",
        "\n",
        "\n",
        "\n",
        "\n",
        "\n",
        "  val_loss_.append(sum(epoch_val_loss)/len(epoch_val_loss))\n",
        "  train_loss_.append(sum(epoch_train_loss)/len(epoch_train_loss))\n",
        "  print(epoch,'Train Loss: %.3f | val Loss: %.3f'%( train_loss,val_loss))"
      ],
      "metadata": {
        "id": "ntJ0Amdq3QJh",
        "colab": {
          "base_uri": "https://localhost:8080/"
        },
        "outputId": "8f4c360f-c7d2-479b-d5cd-e4bb94eb69f2"
      },
      "execution_count": null,
      "outputs": [
        {
          "output_type": "stream",
          "name": "stdout",
          "text": [
            "1 Train Loss: 2.201 | val Loss: 0.778\n",
            "2 Train Loss: 0.766 | val Loss: 0.492\n",
            "3 Train Loss: 0.498 | val Loss: 0.418\n",
            "4 Train Loss: 0.446 | val Loss: 0.383\n",
            "5 Train Loss: 0.417 | val Loss: 0.359\n",
            "6 Train Loss: 0.391 | val Loss: 0.342\n",
            "7 Train Loss: 0.366 | val Loss: 0.329\n",
            "8 Train Loss: 0.348 | val Loss: 0.314\n",
            "9 Train Loss: 0.331 | val Loss: 0.294\n",
            "10 Train Loss: 0.315 | val Loss: 0.265\n",
            "11 Train Loss: 0.299 | val Loss: 0.239\n",
            "12 Train Loss: 0.285 | val Loss: 0.223\n",
            "13 Train Loss: 0.273 | val Loss: 0.211\n",
            "14 Train Loss: 0.262 | val Loss: 0.202\n",
            "15 Train Loss: 0.251 | val Loss: 0.194\n",
            "16 Train Loss: 0.241 | val Loss: 0.187\n",
            "17 Train Loss: 0.231 | val Loss: 0.181\n",
            "18 Train Loss: 0.221 | val Loss: 0.175\n",
            "19 Train Loss: 0.211 | val Loss: 0.169\n",
            "20 Train Loss: 0.202 | val Loss: 0.163\n",
            "21 Train Loss: 0.192 | val Loss: 0.156\n",
            "22 Train Loss: 0.183 | val Loss: 0.148\n",
            "23 Train Loss: 0.174 | val Loss: 0.141\n",
            "24 Train Loss: 0.166 | val Loss: 0.135\n",
            "25 Train Loss: 0.158 | val Loss: 0.131\n",
            "26 Train Loss: 0.151 | val Loss: 0.126\n",
            "27 Train Loss: 0.144 | val Loss: 0.121\n",
            "28 Train Loss: 0.137 | val Loss: 0.116\n",
            "29 Train Loss: 0.130 | val Loss: 0.110\n",
            "30 Train Loss: 0.123 | val Loss: 0.104\n",
            "31 Train Loss: 0.117 | val Loss: 0.101\n",
            "32 Train Loss: 0.112 | val Loss: 0.098\n",
            "33 Train Loss: 0.108 | val Loss: 0.095\n",
            "34 Train Loss: 0.104 | val Loss: 0.092\n",
            "35 Train Loss: 0.101 | val Loss: 0.090\n",
            "36 Train Loss: 0.097 | val Loss: 0.088\n",
            "37 Train Loss: 0.094 | val Loss: 0.086\n",
            "38 Train Loss: 0.091 | val Loss: 0.084\n",
            "39 Train Loss: 0.088 | val Loss: 0.083\n",
            "40 Train Loss: 0.085 | val Loss: 0.081\n",
            "41 Train Loss: 0.083 | val Loss: 0.080\n",
            "42 Train Loss: 0.080 | val Loss: 0.080\n"
          ]
        }
      ]
    },
    {
      "cell_type": "markdown",
      "source": [
        "# Visualize train loss and val loss.\n"
      ],
      "metadata": {
        "id": "kqljLfZRBdLI"
      }
    },
    {
      "cell_type": "code",
      "source": [
        "plt.plot(train_loss_, \"m\", linewidth = 3)\n",
        "plt.plot(val_loss_, \"k\", linewidth = 3)\n",
        "plt.xlabel('epoch')\n",
        "plt.ylabel('loss')\n",
        "plt.legend(['Train','Val'])\n",
        "plt.title('Train vs Val Loss for the first scenario (BGAT)')\n",
        "plt.grid()\n",
        "plt.show()"
      ],
      "metadata": {
        "id": "vLTAwmyd4xu5",
        "colab": {
          "base_uri": "https://localhost:8080/",
          "height": 472
        },
        "outputId": "4a9fdda8-2a52-441a-a3eb-adbc271f47ab"
      },
      "execution_count": null,
      "outputs": [
        {
          "output_type": "display_data",
          "data": {
            "text/plain": [
              "<Figure size 640x480 with 1 Axes>"
            ],
            "image/png": "[encoded data removed]"
          },
          "metadata": {}
        }
      ]
    },
    {
      "cell_type": "markdown",
      "source": [
        "# Compute the accuracy of the model."
      ],
      "metadata": {
        "id": "Lt0WLgBhBuUc"
      }
    },
    {
      "cell_type": "code",
      "source": [
        "def test(Data):\n",
        "      model.eval()\n",
        "      with torch.no_grad():\n",
        "        out = model(Data[\"x\"], Data[\"edge_index\"])\n",
        "        pred = out.argmax(dim = 1)\n",
        "        test_correct = pred[Data[\"test_mask\"]] == Data[\"y\"][Data[\"test_mask\"]]  # Check against ground-truth labels.\n",
        "        test_acc = int(test_correct.sum()) / int(Data[\"test_mask\"].sum())  # Derive ratio of correct predictions.\n",
        "        return test_acc\n"
      ],
      "metadata": {
        "id": "zLWgoMmAcb2g"
      },
      "execution_count": null,
      "outputs": []
    },
    {
      "cell_type": "code",
      "source": [
        "test_acc = test(Data)\n",
        "print(f'Test Accuracy: {100*test_acc:.2f}')"
      ],
      "metadata": {
        "id": "U0TR8W314__T",
        "colab": {
          "base_uri": "https://localhost:8080/"
        },
        "outputId": "10643239-2397-4718-91cc-5ee8e0c17e4e"
      },
      "execution_count": null,
      "outputs": [
        {
          "output_type": "stream",
          "name": "stdout",
          "text": [
            "Test Accuracy: 90.00\n"
          ]
        }
      ]
    },
    {
      "cell_type": "markdown",
      "source": [
        "# We take a look at the node embeddings produced by our GNN (after training)."
      ],
      "metadata": {
        "id": "pmigbk_nCP2B"
      }
    },
    {
      "cell_type": "code",
      "source": [
        "import matplotlib.pyplot as plt\n",
        "from sklearn.manifold import TSNE\n",
        "import seaborn as sns\n",
        "\n",
        "def visualize(h):\n",
        "    z = TSNE(n_components = 2, random_state = 0).fit_transform(h.detach().numpy())\n",
        "    plt.figure(figsize = (8, 6),  dpi = 120)\n",
        "    sns.scatterplot(x = z[:, 0], y = z[:, 1], hue = Data[\"y\"], palette=sns.color_palette(\"bright\",4)).set(title = \"First scenario data T-SNE projection after training (BGAT)\")"
      ],
      "metadata": {
        "id": "GLm06H4k5xMK"
      },
      "execution_count": null,
      "outputs": []
    },
    {
      "cell_type": "code",
      "source": [
        "model.eval()\n",
        "out = model(Data[\"x\"], Data[\"edge_index\"])\n",
        "visualize(out)"
      ],
      "metadata": {
        "id": "ZNAPyuvzErlU",
        "outputId": "523802c3-2839-4472-acaf-7d1c8be23fa6",
        "colab": {
          "base_uri": "https://localhost:8080/",
          "height": 550
        }
      },
      "execution_count": null,
      "outputs": [
        {
          "output_type": "display_data",
          "data": {
            "text/plain": [
              "<Figure size 960x720 with 1 Axes>"
            ],
            "image/png": "[encoded data removed]"
          },
          "metadata": {}
        }
      ]
    },
    {
      "cell_type": "markdown",
      "source": [
        "# Confusion matrix."
      ],
      "metadata": {
        "id": "x9ZgR6qQCUxQ"
      }
    },
    {
      "cell_type": "code",
      "source": [
        "pred_t = out.argmax(dim=1)\n",
        "pred_t"
      ],
      "metadata": {
        "id": "G6jMRQaQEy0e",
        "colab": {
          "base_uri": "https://localhost:8080/"
        },
        "outputId": "e29c8204-a684-4f2e-b7ce-3f5207e2bf9f"
      },
      "execution_count": null,
      "outputs": [
        {
          "output_type": "execute_result",
          "data": {
            "text/plain": [
              "tensor([0, 1, 3, 3, 3, 1, 0, 3, 3, 3, 2, 2, 2, 0, 3, 2, 2, 1, 3, 1, 0, 1, 2, 1,\n",
              "        1, 3, 3, 1, 2, 3, 2, 1, 0, 0, 0, 2, 0, 1, 0, 1, 3, 1, 0, 0, 1, 2, 2, 2,\n",
              "        2, 2, 0, 2, 3, 0, 2, 3, 2, 3, 0, 3, 3, 2, 3, 1, 2, 2, 2, 0, 1, 0, 2, 1,\n",
              "        0, 0, 1, 2, 2, 3, 0, 2, 3, 0, 1, 1, 0, 0, 0, 2, 3, 1, 1, 0, 1, 3, 3, 0,\n",
              "        1, 1, 2, 0])"
            ]
          },
          "metadata": {},
          "execution_count": 44
        }
      ]
    },
    {
      "cell_type": "code",
      "source": [
        "Data[\"y\"]"
      ],
      "metadata": {
        "id": "7tVzWotAE1qc",
        "colab": {
          "base_uri": "https://localhost:8080/"
        },
        "outputId": "40784e9a-2b98-43a3-d402-c25d3566a71f"
      },
      "execution_count": null,
      "outputs": [
        {
          "output_type": "execute_result",
          "data": {
            "text/plain": [
              "tensor([0, 1, 3, 3, 3, 1, 0, 3, 3, 3, 2, 2, 2, 0, 3, 2, 2, 1, 3, 1, 0, 1, 2, 1,\n",
              "        1, 3, 3, 1, 2, 3, 3, 1, 0, 0, 0, 2, 0, 1, 0, 1, 3, 1, 0, 0, 1, 2, 2, 2,\n",
              "        2, 2, 0, 2, 3, 0, 2, 3, 2, 3, 0, 3, 3, 2, 3, 1, 2, 2, 2, 0, 1, 0, 2, 1,\n",
              "        0, 0, 1, 2, 2, 3, 0, 2, 3, 0, 1, 1, 0, 0, 0, 2, 3, 1, 1, 0, 1, 3, 3, 0,\n",
              "        1, 1, 2, 0])"
            ]
          },
          "metadata": {},
          "execution_count": 45
        }
      ]
    },
    {
      "cell_type": "code",
      "source": [
        "import seaborn as sn\n",
        "confusion_matrix = pd.crosstab(Data['y'], pred_t, rownames=['Actual'], colnames = ['Predicted'], margins = True)\n",
        "plt.figure(figsize=(8, 6))\n",
        "sn.heatmap(confusion_matrix, annot=True,  cmap=\"Blues\", fmt='g')\n",
        "plt.title('First scenario, confusion matrix (BGAT) for the whole data')\n",
        "plt.show()"
      ],
      "metadata": {
        "id": "6F6wVO-qE3YY",
        "colab": {
          "base_uri": "https://localhost:8080/",
          "height": 564
        },
        "outputId": "c19940ec-c0d2-4737-c045-b99bc77cea0b"
      },
      "execution_count": null,
      "outputs": [
        {
          "output_type": "display_data",
          "data": {
            "text/plain": [
              "<Figure size 800x600 with 2 Axes>"
            ],
            "image/png": "[encoded data removed]"
          },
          "metadata": {}
        }
      ]
    },
    {
      "cell_type": "code",
      "source": [
        "pred = pred_t[Data[\"test_mask\"]]"
      ],
      "metadata": {
        "id": "QrGKZ4PuE5O8"
      },
      "execution_count": null,
      "outputs": []
    },
    {
      "cell_type": "code",
      "source": [
        "act = Data[\"y\"][Data[\"test_mask\"]]"
      ],
      "metadata": {
        "id": "8fKv6KpVE8km"
      },
      "execution_count": null,
      "outputs": []
    },
    {
      "cell_type": "code",
      "source": [
        "data = {'y_Actual':    act,\n",
        "        'y_Predicted':pred\n",
        "        }\n",
        "\n",
        "df = pd.DataFrame(data, columns = ['y_Actual','y_Predicted'])\n",
        "df"
      ],
      "metadata": {
        "colab": {
          "base_uri": "https://localhost:8080/",
          "height": 363
        },
        "id": "MgVxhaamPVuh",
        "outputId": "87e7da58-6dc8-49cc-f87d-5e9f0977a8fc"
      },
      "execution_count": null,
      "outputs": [
        {
          "output_type": "execute_result",
          "data": {
            "text/plain": [
              "   y_Actual  y_Predicted\n",
              "0         0            0\n",
              "1         3            2\n",
              "2         2            2\n",
              "3         3            3\n",
              "4         0            0\n",
              "5         2            2\n",
              "6         2            2\n",
              "7         0            0\n",
              "8         1            1\n",
              "9         1            1"
            ],
            "text/html": [
              "\n",
              "  <div id=\"df-e2d6dad1-1735-4b3f-845a-4c4985203fa6\" class=\"colab-df-container\">\n",
              "    <div>\n",
              "<style scoped>\n",
              "    .dataframe tbody tr th:only-of-type {\n",
              "        vertical-align: middle;\n",
              "    }\n",
              "\n",
              "    .dataframe tbody tr th {\n",
              "        vertical-align: top;\n",
              "    }\n",
              "\n",
              "    .dataframe thead th {\n",
              "        text-align: right;\n",
              "    }\n",
              "</style>\n",
              "<table border=\"1\" class=\"dataframe\">\n",
              "  <thead>\n",
              "    <tr style=\"text-align: right;\">\n",
              "      <th></th>\n",
              "      <th>y_Actual</th>\n",
              "      <th>y_Predicted</th>\n",
              "    </tr>\n",
              "  </thead>\n",
              "  <tbody>\n",
              "    <tr>\n",
              "      <th>0</th>\n",
              "      <td>0</td>\n",
              "      <td>0</td>\n",
              "    </tr>\n",
              "    <tr>\n",
              "      <th>1</th>\n",
              "      <td>3</td>\n",
              "      <td>2</td>\n",
              "    </tr>\n",
              "    <tr>\n",
              "      <th>2</th>\n",
              "      <td>2</td>\n",
              "      <td>2</td>\n",
              "    </tr>\n",
              "    <tr>\n",
              "      <th>3</th>\n",
              "      <td>3</td>\n",
              "      <td>3</td>\n",
              "    </tr>\n",
              "    <tr>\n",
              "      <th>4</th>\n",
              "      <td>0</td>\n",
              "      <td>0</td>\n",
              "    </tr>\n",
              "    <tr>\n",
              "      <th>5</th>\n",
              "      <td>2</td>\n",
              "      <td>2</td>\n",
              "    </tr>\n",
              "    <tr>\n",
              "      <th>6</th>\n",
              "      <td>2</td>\n",
              "      <td>2</td>\n",
              "    </tr>\n",
              "    <tr>\n",
              "      <th>7</th>\n",
              "      <td>0</td>\n",
              "      <td>0</td>\n",
              "    </tr>\n",
              "    <tr>\n",
              "      <th>8</th>\n",
              "      <td>1</td>\n",
              "      <td>1</td>\n",
              "    </tr>\n",
              "    <tr>\n",
              "      <th>9</th>\n",
              "      <td>1</td>\n",
              "      <td>1</td>\n",
              "    </tr>\n",
              "  </tbody>\n",
              "</table>\n",
              "</div>\n",
              "    <div class=\"colab-df-buttons\">\n",
              "\n",
              "  <div class=\"colab-df-container\">\n",
              "    <button class=\"colab-df-convert\" onclick=\"convertToInteractive('df-e2d6dad1-1735-4b3f-845a-4c4985203fa6')\"\n",
              "            title=\"Convert this dataframe to an interactive table.\"\n",
              "            style=\"display:none;\">\n",
              "\n",
              "  <svg xmlns=\"http://www.w3.org/2000/svg\" height=\"24px\" viewBox=\"0 -960 960 960\">\n",
              "    <path d=\"M120-120v-720h720v720H120Zm60-500h600v-160H180v160Zm220 220h160v-160H400v160Zm0 220h160v-160H400v160ZM180-400h160v-160H180v160Zm440 0h160v-160H620v160ZM180-180h160v-160H180v160Zm440 0h160v-160H620v160Z\"/>\n",
              "  </svg>\n",
              "    </button>\n",
              "\n",
              "  <style>\n",
              "    .colab-df-container {\n",
              "      display:flex;\n",
              "      gap: 12px;\n",
              "    }\n",
              "\n",
              "    .colab-df-convert {\n",
              "      background-color: #E8F0FE;\n",
              "      border: none;\n",
              "      border-radius: 50%;\n",
              "      cursor: pointer;\n",
              "      display: none;\n",
              "      fill: #1967D2;\n",
              "      height: 32px;\n",
              "      padding: 0 0 0 0;\n",
              "      width: 32px;\n",
              "    }\n",
              "\n",
              "    .colab-df-convert:hover {\n",
              "      background-color: #E2EBFA;\n",
              "      box-shadow: 0px 1px 2px rgba(60, 64, 67, 0.3), 0px 1px 3px 1px rgba(60, 64, 67, 0.15);\n",
              "      fill: #174EA6;\n",
              "    }\n",
              "\n",
              "    .colab-df-buttons div {\n",
              "      margin-bottom: 4px;\n",
              "    }\n",
              "\n",
              "    [theme=dark] .colab-df-convert {\n",
              "      background-color: #3B4455;\n",
              "      fill: #D2E3FC;\n",
              "    }\n",
              "\n",
              "    [theme=dark] .colab-df-convert:hover {\n",
              "      background-color: #434B5C;\n",
              "      box-shadow: 0px 1px 3px 1px rgba(0, 0, 0, 0.15);\n",
              "      filter: drop-shadow(0px 1px 2px rgba(0, 0, 0, 0.3));\n",
              "      fill: #FFFFFF;\n",
              "    }\n",
              "  </style>\n",
              "\n",
              "    <script>\n",
              "      const buttonEl =\n",
              "        document.querySelector('#df-e2d6dad1-1735-4b3f-845a-4c4985203fa6 button.colab-df-convert');\n",
              "      buttonEl.style.display =\n",
              "        google.colab.kernel.accessAllowed ? 'block' : 'none';\n",
              "\n",
              "      async function convertToInteractive(key) {\n",
              "        const element = document.querySelector('#df-e2d6dad1-1735-4b3f-845a-4c4985203fa6');\n",
              "        const dataTable =\n",
              "          await google.colab.kernel.invokeFunction('convertToInteractive',\n",
              "                                                    [key], {});\n",
              "        if (!dataTable) return;\n",
              "\n",
              "        const docLinkHtml = 'Like what you see? Visit the ' +\n",
              "          '<a target=\"_blank\" href=https://colab.research.google.com/notebooks/data_table.ipynb>data table notebook</a>'\n",
              "          + ' to learn more about interactive tables.';\n",
              "        element.innerHTML = '';\n",
              "        dataTable['output_type'] = 'display_data';\n",
              "        await google.colab.output.renderOutput(dataTable, element);\n",
              "        const docLink = document.createElement('div');\n",
              "        docLink.innerHTML = docLinkHtml;\n",
              "        element.appendChild(docLink);\n",
              "      }\n",
              "    </script>\n",
              "  </div>\n",
              "\n",
              "\n",
              "<div id=\"df-c24ac960-05b6-419c-b213-32c3f1360d21\">\n",
              "  <button class=\"colab-df-quickchart\" onclick=\"quickchart('df-c24ac960-05b6-419c-b213-32c3f1360d21')\"\n",
              "            title=\"Suggest charts\"\n",
              "            style=\"display:none;\">\n",
              "\n",
              "<svg xmlns=\"http://www.w3.org/2000/svg\" height=\"24px\"viewBox=\"0 0 24 24\"\n",
              "     width=\"24px\">\n",
              "    <g>\n",
              "        <path d=\"M19 3H5c-1.1 0-2 .9-2 2v14c0 1.1.9 2 2 2h14c1.1 0 2-.9 2-2V5c0-1.1-.9-2-2-2zM9 17H7v-7h2v7zm4 0h-2V7h2v10zm4 0h-2v-4h2v4z\"/>\n",
              "    </g>\n",
              "</svg>\n",
              "  </button>\n",
              "\n",
              "<style>\n",
              "  .colab-df-quickchart {\n",
              "      --bg-color: #E8F0FE;\n",
              "      --fill-color: #1967D2;\n",
              "      --hover-bg-color: #E2EBFA;\n",
              "      --hover-fill-color: #174EA6;\n",
              "      --disabled-fill-color: #AAA;\n",
              "      --disabled-bg-color: #DDD;\n",
              "  }\n",
              "\n",
              "  [theme=dark] .colab-df-quickchart {\n",
              "      --bg-color: #3B4455;\n",
              "      --fill-color: #D2E3FC;\n",
              "      --hover-bg-color: #434B5C;\n",
              "      --hover-fill-color: #FFFFFF;\n",
              "      --disabled-bg-color: #3B4455;\n",
              "      --disabled-fill-color: #666;\n",
              "  }\n",
              "\n",
              "  .colab-df-quickchart {\n",
              "    background-color: var(--bg-color);\n",
              "    border: none;\n",
              "    border-radius: 50%;\n",
              "    cursor: pointer;\n",
              "    display: none;\n",
              "    fill: var(--fill-color);\n",
              "    height: 32px;\n",
              "    padding: 0;\n",
              "    width: 32px;\n",
              "  }\n",
              "\n",
              "  .colab-df-quickchart:hover {\n",
              "    background-color: var(--hover-bg-color);\n",
              "    box-shadow: 0 1px 2px rgba(60, 64, 67, 0.3), 0 1px 3px 1px rgba(60, 64, 67, 0.15);\n",
              "    fill: var(--button-hover-fill-color);\n",
              "  }\n",
              "\n",
              "  .colab-df-quickchart-complete:disabled,\n",
              "  .colab-df-quickchart-complete:disabled:hover {\n",
              "    background-color: var(--disabled-bg-color);\n",
              "    fill: var(--disabled-fill-color);\n",
              "    box-shadow: none;\n",
              "  }\n",
              "\n",
              "  .colab-df-spinner {\n",
              "    border: 2px solid var(--fill-color);\n",
              "    border-color: transparent;\n",
              "    border-bottom-color: var(--fill-color);\n",
              "    animation:\n",
              "      spin 1s steps(1) infinite;\n",
              "  }\n",
              "\n",
              "  @keyframes spin {\n",
              "    0% {\n",
              "      border-color: transparent;\n",
              "      border-bottom-color: var(--fill-color);\n",
              "      border-left-color: var(--fill-color);\n",
              "    }\n",
              "    20% {\n",
              "      border-color: transparent;\n",
              "      border-left-color: var(--fill-color);\n",
              "      border-top-color: var(--fill-color);\n",
              "    }\n",
              "    30% {\n",
              "      border-color: transparent;\n",
              "      border-left-color: var(--fill-color);\n",
              "      border-top-color: var(--fill-color);\n",
              "      border-right-color: var(--fill-color);\n",
              "    }\n",
              "    40% {\n",
              "      border-color: transparent;\n",
              "      border-right-color: var(--fill-color);\n",
              "      border-top-color: var(--fill-color);\n",
              "    }\n",
              "    60% {\n",
              "      border-color: transparent;\n",
              "      border-right-color: var(--fill-color);\n",
              "    }\n",
              "    80% {\n",
              "      border-color: transparent;\n",
              "      border-right-color: var(--fill-color);\n",
              "      border-bottom-color: var(--fill-color);\n",
              "    }\n",
              "    90% {\n",
              "      border-color: transparent;\n",
              "      border-bottom-color: var(--fill-color);\n",
              "    }\n",
              "  }\n",
              "</style>\n",
              "\n",
              "  <script>\n",
              "    async function quickchart(key) {\n",
              "      const quickchartButtonEl =\n",
              "        document.querySelector('#' + key + ' button');\n",
              "      quickchartButtonEl.disabled = true;  // To prevent multiple clicks.\n",
              "      quickchartButtonEl.classList.add('colab-df-spinner');\n",
              "      try {\n",
              "        const charts = await google.colab.kernel.invokeFunction(\n",
              "            'suggestCharts', [key], {});\n",
              "      } catch (error) {\n",
              "        console.error('Error during call to suggestCharts:', error);\n",
              "      }\n",
              "      quickchartButtonEl.classList.remove('colab-df-spinner');\n",
              "      quickchartButtonEl.classList.add('colab-df-quickchart-complete');\n",
              "    }\n",
              "    (() => {\n",
              "      let quickchartButtonEl =\n",
              "        document.querySelector('#df-c24ac960-05b6-419c-b213-32c3f1360d21 button');\n",
              "      quickchartButtonEl.style.display =\n",
              "        google.colab.kernel.accessAllowed ? 'block' : 'none';\n",
              "    })();\n",
              "  </script>\n",
              "</div>\n",
              "    </div>\n",
              "  </div>\n"
            ]
          },
          "metadata": {},
          "execution_count": 49
        }
      ]
    },
    {
      "cell_type": "code",
      "source": [
        "import seaborn as sn\n",
        "confusion_matrix = pd.crosstab(act, pred, rownames=['Actual'], colnames = ['Predicted'], margins = True)\n",
        "plt.figure(figsize=(8, 6))\n",
        "sn.heatmap(confusion_matrix, annot=True,  cmap=\"Blues\", fmt='g')\n",
        "plt.title('First scenario, confusion matrix (BGAT) for the test data')\n",
        "plt.show()"
      ],
      "metadata": {
        "colab": {
          "base_uri": "https://localhost:8080/",
          "height": 564
        },
        "id": "IleAS6o8PYAq",
        "outputId": "cae0825d-2be6-4d9b-e17f-c28624d5216e"
      },
      "execution_count": null,
      "outputs": [
        {
          "output_type": "display_data",
          "data": {
            "text/plain": [
              "<Figure size 800x600 with 2 Axes>"
            ],
            "image/png": "[encoded data removed]"
          },
          "metadata": {}
        }
      ]
    }
  ]
}
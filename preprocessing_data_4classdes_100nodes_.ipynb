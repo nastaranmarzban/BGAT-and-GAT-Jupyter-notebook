{
  "nbformat": 4,
  "nbformat_minor": 0,
  "metadata": {
    "colab": {
      "provenance": [],
      "authorship_tag": "ABX9TyOPbfZhSLXOlfnNhuCbnxi7",
      "include_colab_link": true
    },
    "kernelspec": {
      "name": "python3",
      "display_name": "Python 3"
    },
    "language_info": {
      "name": "python"
    }
  },
  "cells": [
    {
      "cell_type": "markdown",
      "metadata": {
        "id": "view-in-github",
        "colab_type": "text"
      },
      "source": [
        "<a href=\"https://colab.research.google.com/github/nastaranmarzban/BGAT-and-GAT-Jupyter-notebook/blob/main/preprocessing_data_4classdes_100nodes_.ipynb\" target=\"_parent\"><img src=\"https://colab.research.google.com/assets/colab-badge.svg\" alt=\"Open In Colab\"/></a>"
      ]
    },
    {
      "cell_type": "markdown",
      "source": [
        "## Mount to gdrive to read data, adjacency matrix, p_link and labels."
      ],
      "metadata": {
        "id": "PZeJUmYQ134b"
      }
    },
    {
      "cell_type": "code",
      "execution_count": null,
      "metadata": {
        "colab": {
          "base_uri": "https://localhost:8080/"
        },
        "id": "0kBb-SC41nsx",
        "outputId": "1d5f7f13-69ed-4b16-eafd-fb28d6355726"
      },
      "outputs": [
        {
          "output_type": "stream",
          "name": "stdout",
          "text": [
            "Mounted at /gdrive\n"
          ]
        }
      ],
      "source": [
        "from google.colab import drive\n",
        "drive.mount('/gdrive')"
      ]
    },
    {
      "cell_type": "markdown",
      "source": [
        "# Install pandas to read csv files from gdrive. Install torch and numpy which are packages that are needed durind coding."
      ],
      "metadata": {
        "id": "wwENH_dM12wM"
      }
    },
    {
      "cell_type": "code",
      "source": [
        "!pip install pandas\n",
        "import pandas as pd\n",
        "import torch\n",
        "import numpy as np"
      ],
      "metadata": {
        "colab": {
          "base_uri": "https://localhost:8080/"
        },
        "id": "yY8YSpPU2BEq",
        "outputId": "7d2a85a5-d0e7-433f-8e7f-0117a72f52f3"
      },
      "execution_count": null,
      "outputs": [
        {
          "output_type": "stream",
          "name": "stdout",
          "text": [
            "Requirement already satisfied: pandas in /usr/local/lib/python3.10/dist-packages (1.5.3)\n",
            "Requirement already satisfied: python-dateutil>=2.8.1 in /usr/local/lib/python3.10/dist-packages (from pandas) (2.8.2)\n",
            "Requirement already satisfied: pytz>=2020.1 in /usr/local/lib/python3.10/dist-packages (from pandas) (2023.3.post1)\n",
            "Requirement already satisfied: numpy>=1.21.0 in /usr/local/lib/python3.10/dist-packages (from pandas) (1.23.5)\n",
            "Requirement already satisfied: six>=1.5 in /usr/local/lib/python3.10/dist-packages (from python-dateutil>=2.8.1->pandas) (1.16.0)\n"
          ]
        }
      ]
    },
    {
      "cell_type": "markdown",
      "source": [
        "## It is time to prepare x, edge_index, y, train_mask and test_mask which are needed for PyG."
      ],
      "metadata": {
        "id": "dxMO3s-h2IQR"
      }
    },
    {
      "cell_type": "markdown",
      "source": [
        "**Step1 (preparing x)**: Read multivariate dataset from gdrive and convert the type to what is needed in PyG."
      ],
      "metadata": {
        "id": "tjTVPqli2L3Y"
      }
    },
    {
      "cell_type": "code",
      "source": [
        "x = pd.read_csv('/gdrive/MyDrive/4classes_100.sim/df1_t.csv', sep = ',',header = None)\n",
        "x = x.astype(np.float32) #try to cast all DataFrame columns to specified numpy.dtype\n",
        "x = torch.tensor(x.values) #convert numpy.dtype to a tensor\n",
        "print(x.sum(dim = 1).unique().size()) #to see if there is a duplicate data in x or not\n",
        "print(x.dtype)\n",
        "print(x.type())\n",
        "print(x.size())\n",
        "print(x)"
      ],
      "metadata": {
        "colab": {
          "base_uri": "https://localhost:8080/"
        },
        "id": "NfBYzy322GXQ",
        "outputId": "cd426428-3575-4c3b-9300-aad7bdd37086"
      },
      "execution_count": null,
      "outputs": [
        {
          "output_type": "stream",
          "name": "stdout",
          "text": [
            "torch.Size([100])\n",
            "torch.float32\n",
            "torch.FloatTensor\n",
            "torch.Size([100, 500])\n",
            "tensor([[-0.2138,  0.1836, -1.2796,  ..., -0.7865,  0.3766, -0.0634],\n",
            "        [ 0.1939, -1.7053,  0.0836,  ...,  1.9979, -0.0287,  0.2419],\n",
            "        [ 1.1427, -0.1411, -1.8947,  ..., -1.1283, -2.1305, -0.6967],\n",
            "        ...,\n",
            "        [ 0.2675, -1.8261,  0.3187,  ...,  1.4613, -0.2672,  0.4551],\n",
            "        [ 0.4348, -0.0747, -0.3687,  ..., -0.3990, -0.2855, -0.3294],\n",
            "        [ 1.1066,  0.3640, -1.1720,  ...,  0.7746,  0.5340, -0.4019]])\n"
          ]
        }
      ]
    },
    {
      "cell_type": "markdown",
      "source": [
        "**Step2 (preparing edge_index)**: Read adjacency matrix from gdrive and convert the type to what is needed in PyG."
      ],
      "metadata": {
        "id": "eqTSrTOA2dwa"
      }
    },
    {
      "cell_type": "code",
      "source": [
        "from scipy.sparse import coo_matrix\n",
        "edge_index_csv = pd.read_csv('/gdrive/MyDrive/4classes_100.sim/adj_diag_4.csv',sep = ',',header = None)\n",
        "#print(edge_index_csv)\n",
        "edge_index_numpy_ndarry = edge_index_csv.values #convert xlsx file to numpy.ndarry\n",
        "edge_index_coo = coo_matrix(edge_index_numpy_ndarry) #convert symmetric matrix to coo_matrix\n",
        "print(edge_index_coo)"
      ],
      "metadata": {
        "colab": {
          "base_uri": "https://localhost:8080/"
        },
        "id": "HsEM-tin2fTF",
        "outputId": "9c5cd666-d5d2-40ff-8c90-da52c3480334"
      },
      "execution_count": null,
      "outputs": [
        {
          "output_type": "stream",
          "name": "stdout",
          "text": [
            "  (0, 6)\t1\n",
            "  (0, 13)\t1\n",
            "  (0, 20)\t1\n",
            "  (0, 43)\t1\n",
            "  (0, 95)\t1\n",
            "  (1, 5)\t1\n",
            "  (1, 17)\t1\n",
            "  (1, 21)\t1\n",
            "  (1, 31)\t1\n",
            "  (1, 39)\t1\n",
            "  (1, 44)\t1\n",
            "  (1, 71)\t1\n",
            "  (1, 89)\t1\n",
            "  (1, 90)\t1\n",
            "  (1, 96)\t1\n",
            "  (1, 97)\t1\n",
            "  (2, 9)\t1\n",
            "  (3, 94)\t1\n",
            "  (4, 57)\t1\n",
            "  (5, 1)\t1\n",
            "  (5, 17)\t1\n",
            "  (5, 19)\t1\n",
            "  (5, 41)\t1\n",
            "  (5, 44)\t1\n",
            "  (5, 71)\t1\n",
            "  :\t:\n",
            "  (95, 32)\t1\n",
            "  (95, 99)\t1\n",
            "  (96, 1)\t1\n",
            "  (96, 5)\t1\n",
            "  (96, 24)\t1\n",
            "  (96, 39)\t1\n",
            "  (96, 41)\t1\n",
            "  (96, 44)\t1\n",
            "  (96, 63)\t1\n",
            "  (96, 68)\t1\n",
            "  (96, 74)\t1\n",
            "  (96, 83)\t1\n",
            "  (97, 1)\t1\n",
            "  (97, 17)\t1\n",
            "  (97, 21)\t1\n",
            "  (97, 23)\t1\n",
            "  (97, 27)\t1\n",
            "  (97, 39)\t1\n",
            "  (97, 41)\t1\n",
            "  (97, 44)\t1\n",
            "  (97, 63)\t1\n",
            "  (97, 89)\t1\n",
            "  (97, 92)\t1\n",
            "  (98, 58)\t1\n",
            "  (99, 95)\t1\n"
          ]
        }
      ]
    },
    {
      "cell_type": "code",
      "source": [
        "edge_index_numpy = np.vstack((edge_index_coo.row, edge_index_coo.col)) #convert coo_matrix to numpy.ndarray\n",
        "edge_index_torch_int32 = torch.from_numpy(edge_index_numpy) #convert numpy.ndarray to torch.int32\n",
        "edge_index = edge_index_torch_int32.to(torch.int64) #convert torch.int32 to torch.long\n",
        "print(edge_index)\n",
        "print(edge_index.dtype)\n",
        "print(edge_index.type())\n",
        "print(edge_index.size())"
      ],
      "metadata": {
        "colab": {
          "base_uri": "https://localhost:8080/"
        },
        "id": "5h_t9cYk2qEa",
        "outputId": "efbb432b-48bb-4cc5-f2de-222a17494a72"
      },
      "execution_count": null,
      "outputs": [
        {
          "output_type": "stream",
          "name": "stdout",
          "text": [
            "tensor([[ 0,  0,  0,  0,  0,  1,  1,  1,  1,  1,  1,  1,  1,  1,  1,  1,  2,  3,\n",
            "          4,  5,  5,  5,  5,  5,  5,  5,  5,  5,  5,  6,  6,  7,  8,  8,  8,  9,\n",
            "          9,  9,  9, 10, 10, 11, 11, 12, 12, 13, 13, 13, 13, 13, 14, 15, 15, 16,\n",
            "         16, 17, 17, 17, 17, 17, 17, 17, 17, 17, 17, 17, 17, 17, 18, 18, 18, 18,\n",
            "         18, 19, 19, 19, 19, 19, 19, 19, 19, 20, 20, 20, 20, 20, 20, 21, 21, 21,\n",
            "         21, 21, 21, 21, 21, 21, 21, 21, 22, 22, 23, 23, 23, 23, 23, 23, 23, 23,\n",
            "         23, 23, 24, 24, 24, 24, 24, 24, 24, 24, 24, 24, 24, 25, 25, 26, 26, 27,\n",
            "         27, 27, 27, 27, 27, 27, 27, 27, 27, 27, 27, 28, 28, 31, 31, 31, 31, 31,\n",
            "         31, 31, 31, 31, 32, 33, 33, 33, 33, 34, 34, 34, 35, 35, 35, 36, 36, 36,\n",
            "         37, 37, 37, 37, 37, 37, 37, 37, 37, 37, 37, 38, 38, 38, 39, 39, 39, 39,\n",
            "         39, 39, 39, 39, 39, 39, 39, 39, 39, 39, 40, 40, 41, 41, 41, 41, 41, 41,\n",
            "         41, 41, 41, 42, 42, 42, 42, 42, 42, 43, 43, 43, 43, 43, 43, 43, 44, 44,\n",
            "         44, 44, 44, 44, 44, 44, 44, 44, 44, 44, 44, 45, 45, 45, 46, 46, 47, 47,\n",
            "         48, 48, 48, 48, 48, 48, 48, 48, 48, 48, 48, 48, 48, 48, 48, 48, 48, 48,\n",
            "         48, 48, 49, 49, 49, 50, 50, 51, 51, 52, 53, 53, 53, 53, 54, 55, 56, 56,\n",
            "         56, 57, 57, 57, 58, 58, 58, 59, 61, 61, 62, 62, 62, 62, 62, 63, 63, 63,\n",
            "         63, 63, 63, 63, 63, 63, 63, 63, 63, 63, 65, 65, 65, 65, 65, 65, 65, 65,\n",
            "         65, 65, 65, 65, 65, 65, 65, 65, 65, 65, 66, 67, 67, 68, 68, 68, 68, 68,\n",
            "         68, 68, 68, 68, 69, 69, 69, 69, 70, 70, 71, 71, 71, 71, 71, 71, 71, 71,\n",
            "         71, 71, 71, 72, 72, 72, 73, 73, 73, 74, 74, 74, 74, 74, 74, 74, 74, 74,\n",
            "         74, 75, 75, 76, 77, 78, 78, 78, 79, 79, 79, 80, 81, 81, 81, 81, 81, 82,\n",
            "         82, 82, 82, 82, 82, 82, 83, 83, 83, 83, 83, 83, 83, 83, 83, 83, 83, 83,\n",
            "         83, 84, 84, 84, 85, 85, 85, 85, 86, 86, 86, 86, 87, 87, 88, 89, 89, 89,\n",
            "         89, 89, 89, 89, 89, 90, 90, 90, 90, 90, 90, 90, 90, 90, 90, 90, 90, 90,\n",
            "         91, 91, 91, 91, 91, 92, 92, 92, 92, 92, 92, 92, 92, 92, 92, 92, 92, 93,\n",
            "         94, 94, 95, 95, 95, 96, 96, 96, 96, 96, 96, 96, 96, 96, 96, 97, 97, 97,\n",
            "         97, 97, 97, 97, 97, 97, 97, 97, 98, 99],\n",
            "        [ 6, 13, 20, 43, 95,  5, 17, 21, 31, 39, 44, 71, 89, 90, 96, 97,  9, 94,\n",
            "         57,  1, 17, 19, 41, 44, 71, 74, 83, 92, 96,  0, 86, 18, 57, 62, 88,  2,\n",
            "         14, 62, 87, 48, 65, 48, 65, 52, 65,  0, 33, 43, 72, 81,  9, 48, 65, 48,\n",
            "         65,  1,  5, 19, 27, 37, 39, 44, 71, 82, 83, 90, 92, 97,  7, 25, 26, 62,\n",
            "         93,  5, 17, 23, 24, 39, 71, 83, 92,  0, 24, 50, 58, 73, 85,  1, 24, 27,\n",
            "         37, 39, 43, 82, 89, 90, 92, 97, 48, 65, 19, 31, 37, 41, 63, 74, 83, 89,\n",
            "         90, 97, 19, 20, 21, 31, 39, 63, 74, 83, 90, 92, 96, 18, 77, 18, 40, 17,\n",
            "         21, 31, 37, 39, 44, 63, 68, 83, 90, 92, 97, 48, 65,  1, 23, 24, 27, 44,\n",
            "         63, 71, 82, 89, 95, 13, 43, 58, 91, 42, 69, 85, 46, 65, 68, 72, 84, 85,\n",
            "         17, 21, 23, 27, 39, 41, 44, 68, 74, 82, 90, 42, 73, 78,  1, 17, 19, 21,\n",
            "         24, 27, 37, 63, 71, 83, 90, 92, 96, 97, 26, 80,  5, 23, 37, 71, 89, 90,\n",
            "         92, 96, 97, 34, 38, 50, 69, 81, 86,  0, 13, 21, 33, 68, 73, 81,  1,  5,\n",
            "         17, 27, 31, 37, 63, 74, 83, 90, 92, 96, 97, 48, 65, 79, 35, 48, 48, 65,\n",
            "         10, 11, 15, 16, 22, 28, 45, 46, 47, 49, 51, 56, 61, 65, 66, 70, 75, 76,\n",
            "         79, 87, 48, 53, 65, 20, 42, 48, 65, 12, 49, 67, 78, 91, 65, 62, 48, 65,\n",
            "         69,  4,  8, 94, 20, 33, 98, 62, 48, 65,  8,  9, 18, 55, 59, 23, 24, 27,\n",
            "         31, 39, 44, 68, 79, 82, 89, 92, 96, 97, 10, 11, 12, 15, 16, 22, 28, 35,\n",
            "         45, 47, 48, 49, 51, 54, 56, 61, 70, 75, 48, 53, 91, 27, 35, 37, 43, 63,\n",
            "         74, 83, 90, 96, 34, 42, 56, 72, 48, 65,  1,  5, 17, 19, 31, 39, 41, 82,\n",
            "         83, 89, 92, 13, 36, 69, 20, 38, 43,  5, 23, 24, 37, 44, 68, 82, 83, 90,\n",
            "         96, 48, 65, 48, 25, 38, 53, 91, 45, 48, 63, 40, 13, 42, 43, 84, 91, 17,\n",
            "         21, 31, 37, 63, 71, 74,  5, 17, 19, 23, 24, 27, 39, 44, 68, 71, 74, 90,\n",
            "         96, 36, 81, 86, 20, 34, 36, 86,  6, 42, 84, 85,  9, 48,  8,  1, 21, 23,\n",
            "         31, 41, 63, 71, 97,  1, 17, 21, 23, 24, 27, 37, 39, 41, 44, 68, 74, 83,\n",
            "         33, 53, 67, 78, 81,  5, 17, 19, 21, 24, 27, 39, 41, 44, 63, 71, 97, 18,\n",
            "          3, 57,  0, 32, 99,  1,  5, 24, 39, 41, 44, 63, 68, 74, 83,  1, 17, 21,\n",
            "         23, 27, 39, 41, 44, 63, 89, 92, 58, 95]])\n",
            "torch.int64\n",
            "torch.LongTensor\n",
            "torch.Size([2, 478])\n"
          ]
        }
      ]
    },
    {
      "cell_type": "markdown",
      "source": [
        "**Step3 (preparing y)**: Read labels from gdrive and convert the type to what is needed in PyG."
      ],
      "metadata": {
        "id": "tJAhKCFd2z5Y"
      }
    },
    {
      "cell_type": "code",
      "source": [
        "labels_csv = pd.read_csv('/gdrive/MyDrive/4classes_100.sim/labels.csv',sep = ',',header = None)\n",
        "y = torch.tensor(labels_csv.values)\n",
        "y.resize_((100))\n",
        "print(y)"
      ],
      "metadata": {
        "colab": {
          "base_uri": "https://localhost:8080/"
        },
        "id": "bTc8bnf_20nV",
        "outputId": "c8e2587c-c088-4649-fda4-297ece80de14"
      },
      "execution_count": null,
      "outputs": [
        {
          "output_type": "stream",
          "name": "stdout",
          "text": [
            "tensor([0, 1, 3, 3, 3, 1, 0, 3, 3, 3, 2, 2, 2, 0, 3, 2, 2, 1, 3, 1, 0, 1, 2, 1,\n",
            "        1, 3, 3, 1, 2, 3, 3, 1, 0, 0, 0, 2, 0, 1, 0, 1, 3, 1, 0, 0, 1, 2, 2, 2,\n",
            "        2, 2, 0, 2, 3, 0, 2, 3, 2, 3, 0, 3, 3, 2, 3, 1, 2, 2, 2, 0, 1, 0, 2, 1,\n",
            "        0, 0, 1, 2, 2, 3, 0, 2, 3, 0, 1, 1, 0, 0, 0, 2, 3, 1, 1, 0, 1, 3, 3, 0,\n",
            "        1, 1, 2, 0])\n"
          ]
        }
      ]
    },
    {
      "cell_type": "markdown",
      "source": [
        "**Step4 (preparing train_mask, test_mask)**: split x and y into train and test set."
      ],
      "metadata": {
        "id": "-j9iMT002_sr"
      }
    },
    {
      "cell_type": "code",
      "source": [
        "from sklearn.model_selection import train_test_split\n",
        "main_mask, test_mask, y_main, y_test = train_test_split(x, y,  test_size = 10, random_state = 0, shuffle = True, stratify = y)\n",
        "train_mask, val_mask, y_train, y_val = train_test_split(main_mask, y_main,  test_size = 10, random_state = 0, shuffle = True, stratify = y_main)\n",
        "print(train_mask.size())\n",
        "print(val_mask.size())\n",
        "print(test_mask.size())\n",
        "print(train_mask.type())\n",
        "print(y_train.type())"
      ],
      "metadata": {
        "colab": {
          "base_uri": "https://localhost:8080/"
        },
        "id": "1dnuD56Y3A-h",
        "outputId": "c5702de2-b977-434f-a9c5-b916455dbb2e"
      },
      "execution_count": null,
      "outputs": [
        {
          "output_type": "stream",
          "name": "stdout",
          "text": [
            "torch.Size([80, 500])\n",
            "torch.Size([10, 500])\n",
            "torch.Size([10, 500])\n",
            "torch.FloatTensor\n",
            "torch.LongTensor\n"
          ]
        }
      ]
    },
    {
      "cell_type": "markdown",
      "source": [
        "## To see how many percent of data belong to each class."
      ],
      "metadata": {
        "id": "0WcQiz173goS"
      }
    },
    {
      "cell_type": "code",
      "source": [
        "labels, counts = np.unique(y, return_counts = True)\n",
        "print(counts/float(len(y)))"
      ],
      "metadata": {
        "colab": {
          "base_uri": "https://localhost:8080/"
        },
        "id": "1C0V7Uxw3hFh",
        "outputId": "fedc5eb0-ccd1-4084-fb7a-2023e378de70"
      },
      "execution_count": null,
      "outputs": [
        {
          "output_type": "stream",
          "name": "stdout",
          "text": [
            "[0.26 0.24 0.26 0.24]\n"
          ]
        }
      ]
    },
    {
      "cell_type": "code",
      "source": [
        "labels, counts = np.unique(y_train, return_counts = True)\n",
        "print(counts/float(len(y_train)))"
      ],
      "metadata": {
        "colab": {
          "base_uri": "https://localhost:8080/"
        },
        "id": "q1OK5xlZ3nuC",
        "outputId": "6986c25a-1d2e-4a0e-a178-d732c0c8228c"
      },
      "execution_count": null,
      "outputs": [
        {
          "output_type": "stream",
          "name": "stdout",
          "text": [
            "[0.25 0.25 0.25 0.25]\n"
          ]
        }
      ]
    },
    {
      "cell_type": "code",
      "source": [
        "labels, counts = np.unique(y_test, return_counts = True)\n",
        "print(counts/float(len(y_val)))"
      ],
      "metadata": {
        "colab": {
          "base_uri": "https://localhost:8080/"
        },
        "id": "lGkriP72-Gst",
        "outputId": "03ab61d4-193a-4f24-e060-d8e5e7d7aac5"
      },
      "execution_count": null,
      "outputs": [
        {
          "output_type": "stream",
          "name": "stdout",
          "text": [
            "[0.3 0.2 0.3 0.2]\n"
          ]
        }
      ]
    },
    {
      "cell_type": "code",
      "source": [
        "labels, counts = np.unique(y_test, return_counts = True)\n",
        "print(counts/float(len(y_test)))"
      ],
      "metadata": {
        "colab": {
          "base_uri": "https://localhost:8080/"
        },
        "id": "UU9g55ac-JXZ",
        "outputId": "4dfb8f37-055a-49cb-fe34-7836c607ac21"
      },
      "execution_count": null,
      "outputs": [
        {
          "output_type": "stream",
          "name": "stdout",
          "text": [
            "[0.3 0.2 0.3 0.2]\n"
          ]
        }
      ]
    },
    {
      "cell_type": "markdown",
      "source": [
        "## Preparing train_mask and test_mask based on PyG."
      ],
      "metadata": {
        "id": "P5U_ESR0-Mpp"
      }
    },
    {
      "cell_type": "code",
      "source": [
        "train_mask = (x.unsqueeze(0) == train_mask.unsqueeze(1)).all(dim = 2).any(dim = 0)\n",
        "print(train_mask)\n",
        "print(train_mask.size())\n",
        "print(sum(train_mask))\n",
        "\n",
        "val_mask = (x.unsqueeze(0) == val_mask.unsqueeze(1)).all(dim = 2).any(dim = 0)\n",
        "print(val_mask)\n",
        "print(val_mask.size())\n",
        "print(sum(val_mask))\n",
        "\n",
        "test_mask = (x.unsqueeze(0) == test_mask.unsqueeze(1)).all(dim = 2 ).any(dim = 0)\n",
        "print(test_mask)\n",
        "print(test_mask.size())\n",
        "print(sum(test_mask))"
      ],
      "metadata": {
        "colab": {
          "base_uri": "https://localhost:8080/"
        },
        "id": "nOLylf72-NRQ",
        "outputId": "42ce4b64-a1e0-4cf8-962d-2dc247e77229"
      },
      "execution_count": null,
      "outputs": [
        {
          "output_type": "stream",
          "name": "stdout",
          "text": [
            "tensor([False,  True,  True,  True,  True,  True,  True,  True,  True,  True,\n",
            "         True,  True, False,  True,  True,  True,  True,  True,  True,  True,\n",
            "         True,  True,  True,  True,  True,  True, False,  True,  True,  True,\n",
            "        False,  True, False,  True,  True,  True,  True,  True,  True,  True,\n",
            "         True,  True,  True,  True,  True,  True,  True, False,  True,  True,\n",
            "         True,  True,  True,  True,  True, False,  True,  True, False,  True,\n",
            "         True, False,  True,  True,  True, False,  True,  True,  True, False,\n",
            "        False,  True,  True, False, False,  True,  True,  True,  True, False,\n",
            "         True,  True,  True,  True,  True, False,  True,  True,  True, False,\n",
            "        False,  True,  True, False,  True,  True,  True, False,  True,  True])\n",
            "torch.Size([100])\n",
            "tensor(80)\n",
            "tensor([False, False, False, False, False, False, False, False, False, False,\n",
            "        False, False,  True, False, False, False, False, False, False, False,\n",
            "        False, False, False, False, False, False,  True, False, False, False,\n",
            "        False, False,  True, False, False, False, False, False, False, False,\n",
            "        False, False, False, False, False, False, False, False, False, False,\n",
            "        False, False, False, False, False, False, False, False,  True, False,\n",
            "        False,  True, False, False, False,  True, False, False, False, False,\n",
            "        False, False, False,  True,  True, False, False, False, False, False,\n",
            "        False, False, False, False, False, False, False, False, False, False,\n",
            "        False, False, False,  True, False, False, False,  True, False, False])\n",
            "torch.Size([100])\n",
            "tensor(10)\n",
            "tensor([ True, False, False, False, False, False, False, False, False, False,\n",
            "        False, False, False, False, False, False, False, False, False, False,\n",
            "        False, False, False, False, False, False, False, False, False, False,\n",
            "         True, False, False, False, False, False, False, False, False, False,\n",
            "        False, False, False, False, False, False, False,  True, False, False,\n",
            "        False, False, False, False, False,  True, False, False, False, False,\n",
            "        False, False, False, False, False, False, False, False, False,  True,\n",
            "         True, False, False, False, False, False, False, False, False,  True,\n",
            "        False, False, False, False, False,  True, False, False, False,  True,\n",
            "         True, False, False, False, False, False, False, False, False, False])\n",
            "torch.Size([100])\n",
            "tensor(10)\n"
          ]
        }
      ]
    },
    {
      "cell_type": "markdown",
      "source": [
        "## It is time to use p_link as attentions."
      ],
      "metadata": {
        "id": "03TMn4Jw-Ul7"
      }
    },
    {
      "cell_type": "code",
      "source": [
        "p_link = pd.read_csv('/gdrive/MyDrive/4classes_100.sim/p_links.csv', sep =',',header = None)\n",
        "p_link = p_link.astype(np.float32)\n",
        "p_link = torch.tensor(p_link.values)\n",
        "#p_link = p_link.to(torch.float32)\n",
        "print(p_link.size())\n",
        "print(p_link.dtype)\n",
        "print(p_link.type())"
      ],
      "metadata": {
        "colab": {
          "base_uri": "https://localhost:8080/"
        },
        "id": "6pWxQ3_x-TAI",
        "outputId": "aad4a4c7-35a0-474c-d231-d65f834d3e99"
      },
      "execution_count": null,
      "outputs": [
        {
          "output_type": "stream",
          "name": "stdout",
          "text": [
            "torch.Size([100, 100])\n",
            "torch.float32\n",
            "torch.FloatTensor\n"
          ]
        }
      ]
    },
    {
      "cell_type": "markdown",
      "source": [
        "# Now everything is ready to develop our GNNs."
      ],
      "metadata": {
        "id": "JPua3ucR-jz5"
      }
    },
    {
      "cell_type": "markdown",
      "source": [
        "# Install torch_geometric."
      ],
      "metadata": {
        "id": "ulEMats2-moQ"
      }
    },
    {
      "cell_type": "code",
      "source": [
        "import os\n",
        "os.environ['TORCH'] = torch.__version__\n",
        "print(torch.__version__)\n",
        "\n",
        "!pip install -q torch-scatter -f https://data.pyg.org/whl/torch-${TORCH}.html\n",
        "!pip install -q torch-sparse -f https://data.pyg.org/whl/torch-${TORCH}.html\n",
        "!pip install -q git+https://github.com/pyg-team/pytorch_geometric.git"
      ],
      "metadata": {
        "colab": {
          "base_uri": "https://localhost:8080/"
        },
        "id": "YFVOak0l-iBj",
        "outputId": "6f7c9c25-f873-470b-c53a-d97b3f63da88"
      },
      "execution_count": null,
      "outputs": [
        {
          "output_type": "stream",
          "name": "stdout",
          "text": [
            "2.1.0+cu118\n",
            "\u001b[2K     \u001b[90m━━━━━━━━━━━━━━━━━━━━━━━━━━━━━━━━━━━━━━━━\u001b[0m \u001b[32m10.2/10.2 MB\u001b[0m \u001b[31m66.9 MB/s\u001b[0m eta \u001b[36m0:00:00\u001b[0m\n",
            "\u001b[2K     \u001b[90m━━━━━━━━━━━━━━━━━━━━━━━━━━━━━━━━━━━━━━━━\u001b[0m \u001b[32m4.9/4.9 MB\u001b[0m \u001b[31m42.4 MB/s\u001b[0m eta \u001b[36m0:00:00\u001b[0m\n",
            "\u001b[?25h  Installing build dependencies ... \u001b[?25l\u001b[?25hdone\n",
            "  Getting requirements to build wheel ... \u001b[?25l\u001b[?25hdone\n",
            "  Preparing metadata (pyproject.toml) ... \u001b[?25l\u001b[?25hdone\n",
            "  Building wheel for torch_geometric (pyproject.toml) ... \u001b[?25l\u001b[?25hdone\n"
          ]
        }
      ]
    },
    {
      "cell_type": "markdown",
      "source": [
        "# Save data in order to use it."
      ],
      "metadata": {
        "id": "VKCk-F1h-sBT"
      }
    },
    {
      "cell_type": "code",
      "source": [
        "from torch_geometric.data import Data\n",
        "Data = Data(x = x, edge_index = edge_index, y = y, train_mask = train_mask, val_mask = val_mask, test_mask = test_mask)\n",
        "print(Data)"
      ],
      "metadata": {
        "colab": {
          "base_uri": "https://localhost:8080/"
        },
        "id": "zCdUU3M4-rXE",
        "outputId": "7c2f04fc-2133-4500-f92b-2d97bd7388cb"
      },
      "execution_count": null,
      "outputs": [
        {
          "output_type": "stream",
          "name": "stdout",
          "text": [
            "Data(x=[100, 500], edge_index=[2, 478], y=[100], train_mask=[100], val_mask=[100], test_mask=[100])\n"
          ]
        }
      ]
    },
    {
      "cell_type": "code",
      "source": [
        "data_save_name = 'data.pt'\n",
        "path = F\"/gdrive/MyDrive/4classes_100.sim/{data_save_name}\"\n",
        "torch.save(Data.to_dict(), path)"
      ],
      "metadata": {
        "id": "XRJnZbqh-why"
      },
      "execution_count": null,
      "outputs": []
    },
    {
      "cell_type": "code",
      "source": [
        "p_link_save_name = 'p_link.pt'\n",
        "path = F\"/gdrive/MyDrive/4classes_100.sim/{p_link_save_name}\"\n",
        "torch.save(p_link, path)"
      ],
      "metadata": {
        "id": "WLOOnNZ6-3Jr"
      },
      "execution_count": null,
      "outputs": []
    }
  ]
}
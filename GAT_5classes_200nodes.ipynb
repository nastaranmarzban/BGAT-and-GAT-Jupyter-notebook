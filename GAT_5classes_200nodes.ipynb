{
  "nbformat": 4,
  "nbformat_minor": 0,
  "metadata": {
    "colab": {
      "provenance": [],
      "authorship_tag": "ABX9TyMfPGq7TcbbLydBH3TXnqJY",
      "include_colab_link": true
    },
    "kernelspec": {
      "name": "python3",
      "display_name": "Python 3"
    },
    "language_info": {
      "name": "python"
    }
  },
  "cells": [
    {
      "cell_type": "markdown",
      "metadata": {
        "id": "view-in-github",
        "colab_type": "text"
      },
      "source": [
        "<a href=\"https://colab.research.google.com/github/nastaranmarzban/BGAT-and-GAT-Jupyter-notebook/blob/main/GAT_5classes_200nodes.ipynb\" target=\"_parent\"><img src=\"https://colab.research.google.com/assets/colab-badge.svg\" alt=\"Open In Colab\"/></a>"
      ]
    },
    {
      "cell_type": "markdown",
      "source": [
        "## Mount to gdrive to read data, adjacency matrix, p_link and labels."
      ],
      "metadata": {
        "id": "d93qdXUcxOJ8"
      }
    },
    {
      "cell_type": "code",
      "execution_count": 49,
      "metadata": {
        "colab": {
          "base_uri": "https://localhost:8080/"
        },
        "id": "Jr47e91DRV3v",
        "outputId": "1451c279-e498-4615-fe4f-70359c1fe236"
      },
      "outputs": [
        {
          "output_type": "stream",
          "name": "stdout",
          "text": [
            "Drive already mounted at /gdrive; to attempt to forcibly remount, call drive.mount(\"/gdrive\", force_remount=True).\n"
          ]
        }
      ],
      "source": [
        "from google.colab import drive\n",
        "drive.mount('/gdrive')"
      ]
    },
    {
      "cell_type": "markdown",
      "source": [
        "# Install pandas to read csv files from gdrive. Install torch and numpy which are packages that are needed durind coding."
      ],
      "metadata": {
        "id": "FEEl3z4IxRjD"
      }
    },
    {
      "cell_type": "code",
      "source": [
        "!pip install pandas\n",
        "import pandas as pd\n",
        "import torch\n",
        "import numpy as np"
      ],
      "metadata": {
        "colab": {
          "base_uri": "https://localhost:8080/"
        },
        "id": "oeYQUT0ZRYKy",
        "outputId": "85416767-a0ac-4dd8-c596-5165a9ee2151"
      },
      "execution_count": 50,
      "outputs": [
        {
          "output_type": "stream",
          "name": "stdout",
          "text": [
            "Requirement already satisfied: pandas in /usr/local/lib/python3.10/dist-packages (1.5.3)\n",
            "Requirement already satisfied: python-dateutil>=2.8.1 in /usr/local/lib/python3.10/dist-packages (from pandas) (2.8.2)\n",
            "Requirement already satisfied: pytz>=2020.1 in /usr/local/lib/python3.10/dist-packages (from pandas) (2023.4)\n",
            "Requirement already satisfied: numpy>=1.21.0 in /usr/local/lib/python3.10/dist-packages (from pandas) (1.23.5)\n",
            "Requirement already satisfied: six>=1.5 in /usr/local/lib/python3.10/dist-packages (from python-dateutil>=2.8.1->pandas) (1.16.0)\n"
          ]
        }
      ]
    },
    {
      "cell_type": "markdown",
      "source": [
        "# Load data which are processed in preprocessing data_5classes_200nodes.ipynb file."
      ],
      "metadata": {
        "id": "dAT8725jxatM"
      }
    },
    {
      "cell_type": "code",
      "source": [
        "path = F\"/gdrive/MyDrive/5classes_200_non.sim/data.pt\"\n",
        "Data = torch.load(path)\n",
        "Data"
      ],
      "metadata": {
        "colab": {
          "base_uri": "https://localhost:8080/"
        },
        "id": "xHAs_0aoRZry",
        "outputId": "f6171cb4-31bd-4fbc-a6bd-369d1fd154be"
      },
      "execution_count": 51,
      "outputs": [
        {
          "output_type": "execute_result",
          "data": {
            "text/plain": [
              "{'x': tensor([[ 0.1064,  0.0268,  0.0688,  ...,  0.1277,  0.0208,  0.0365],\n",
              "         [-1.1319,  0.0287, -1.2385,  ..., -0.1471,  1.4365, -0.7657],\n",
              "         [ 0.5656,  1.3512,  2.0302,  ...,  1.2031, -1.7998,  1.0181],\n",
              "         ...,\n",
              "         [-0.0979,  0.9709,  0.6932,  ..., -0.8765, -0.6086, -0.5979],\n",
              "         [ 1.9060, -0.2760,  1.1493,  ..., -1.1248,  0.7692,  0.6333],\n",
              "         [ 1.1451, -1.8192, -2.0841,  ...,  1.7384, -0.7770, -0.3205]]),\n",
              " 'edge_index': tensor([[  0,   0,   0,  ..., 199, 199, 199],\n",
              "         [  9,  12,  20,  ...,  90, 100, 174]]),\n",
              " 'y': tensor([2, 3, 4, 4, 4, 4, 0, 4, 4, 2, 3, 4, 1, 0, 2, 3, 1, 4, 3, 0, 0, 1, 1, 1,\n",
              "         1, 2, 4, 3, 1, 4, 1, 4, 0, 0, 2, 3, 0, 4, 1, 1, 3, 0, 0, 0, 1, 3, 4, 1,\n",
              "         3, 3, 0, 4, 2, 4, 4, 3, 3, 2, 2, 2, 3, 4, 4, 2, 4, 4, 3, 0, 4, 0, 3, 3,\n",
              "         0, 0, 1, 2, 4, 2, 0, 4, 4, 4, 2, 0, 0, 2, 0, 4, 0, 2, 3, 3, 2, 2, 3, 2,\n",
              "         2, 4, 4, 3, 3, 1, 1, 1, 0, 0, 2, 1, 2, 0, 0, 3, 3, 2, 1, 3, 3, 2, 1, 4,\n",
              "         0, 1, 3, 2, 3, 0, 4, 4, 0, 1, 2, 1, 3, 1, 4, 3, 2, 3, 4, 1, 4, 0, 1, 1,\n",
              "         2, 1, 2, 0, 3, 4, 2, 2, 2, 2, 3, 0, 4, 1, 2, 1, 2, 0, 0, 3, 0, 0, 0, 1,\n",
              "         1, 3, 1, 0, 1, 1, 3, 1, 4, 2, 2, 2, 1, 0, 3, 4, 1, 3, 0, 3, 0, 1, 4, 2,\n",
              "         0, 1, 2, 1, 2, 4, 3, 3]),\n",
              " 'train_mask': tensor([ True,  True,  True,  True,  True,  True, False,  True,  True,  True,\n",
              "          True,  True,  True,  True,  True, False,  True,  True,  True,  True,\n",
              "         False,  True,  True,  True,  True, False, False,  True,  True,  True,\n",
              "          True,  True,  True,  True, False,  True,  True,  True,  True,  True,\n",
              "          True,  True,  True, False, False, False,  True,  True,  True,  True,\n",
              "          True, False,  True,  True,  True, False, False,  True,  True,  True,\n",
              "          True,  True,  True, False,  True, False,  True,  True, False,  True,\n",
              "          True,  True,  True, False,  True,  True, False,  True,  True,  True,\n",
              "          True,  True, False,  True,  True,  True,  True,  True,  True,  True,\n",
              "          True,  True, False,  True, False,  True,  True,  True,  True,  True,\n",
              "          True,  True,  True,  True,  True,  True,  True,  True,  True,  True,\n",
              "          True,  True,  True,  True,  True, False,  True,  True,  True,  True,\n",
              "          True,  True,  True,  True,  True,  True,  True,  True,  True,  True,\n",
              "          True,  True,  True,  True, False,  True,  True,  True,  True, False,\n",
              "          True,  True,  True,  True, False,  True,  True,  True,  True,  True,\n",
              "          True,  True,  True,  True,  True,  True,  True,  True,  True,  True,\n",
              "          True, False,  True,  True, False, False,  True, False,  True,  True,\n",
              "         False,  True, False, False, False,  True,  True,  True,  True, False,\n",
              "         False,  True, False, False,  True,  True,  True,  True, False,  True,\n",
              "         False, False,  True, False,  True,  True,  True,  True,  True,  True]),\n",
              " 'val_mask': tensor([False, False, False, False, False, False, False, False, False, False,\n",
              "         False, False, False, False, False, False, False, False, False, False,\n",
              "         False, False, False, False, False, False, False, False, False, False,\n",
              "         False, False, False, False, False, False, False, False, False, False,\n",
              "         False, False, False, False, False,  True, False, False, False, False,\n",
              "         False, False, False, False, False,  True,  True, False, False, False,\n",
              "         False, False, False,  True, False, False, False, False,  True, False,\n",
              "         False, False, False,  True, False, False,  True, False, False, False,\n",
              "         False, False, False, False, False, False, False, False, False, False,\n",
              "         False, False,  True, False,  True, False, False, False, False, False,\n",
              "         False, False, False, False, False, False, False, False, False, False,\n",
              "         False, False, False, False, False, False, False, False, False, False,\n",
              "         False, False, False, False, False, False, False, False, False, False,\n",
              "         False, False, False, False, False, False, False, False, False, False,\n",
              "         False, False, False, False,  True, False, False, False, False, False,\n",
              "         False, False, False, False, False, False, False, False, False, False,\n",
              "         False,  True, False, False,  True,  True, False,  True, False, False,\n",
              "         False, False, False,  True, False, False, False, False, False, False,\n",
              "          True, False, False,  True, False, False, False, False, False, False,\n",
              "          True,  True, False,  True, False, False, False, False, False, False]),\n",
              " 'test_mask': tensor([False, False, False, False, False, False,  True, False, False, False,\n",
              "         False, False, False, False, False,  True, False, False, False, False,\n",
              "          True, False, False, False, False,  True,  True, False, False, False,\n",
              "         False, False, False, False,  True, False, False, False, False, False,\n",
              "         False, False, False,  True,  True, False, False, False, False, False,\n",
              "         False,  True, False, False, False, False, False, False, False, False,\n",
              "         False, False, False, False, False,  True, False, False, False, False,\n",
              "         False, False, False, False, False, False, False, False, False, False,\n",
              "         False, False,  True, False, False, False, False, False, False, False,\n",
              "         False, False, False, False, False, False, False, False, False, False,\n",
              "         False, False, False, False, False, False, False, False, False, False,\n",
              "         False, False, False, False, False,  True, False, False, False, False,\n",
              "         False, False, False, False, False, False, False, False, False, False,\n",
              "         False, False, False, False,  True, False, False, False, False,  True,\n",
              "         False, False, False, False, False, False, False, False, False, False,\n",
              "         False, False, False, False, False, False, False, False, False, False,\n",
              "         False, False, False, False, False, False, False, False, False, False,\n",
              "          True, False,  True, False,  True, False, False, False, False,  True,\n",
              "         False, False,  True, False, False, False, False, False,  True, False,\n",
              "         False, False, False, False, False, False, False, False, False, False])}"
            ]
          },
          "metadata": {},
          "execution_count": 51
        }
      ]
    },
    {
      "cell_type": "markdown",
      "source": [
        "# Gather some statistics about the graph."
      ],
      "metadata": {
        "id": "lcJ7x42nxh_1"
      }
    },
    {
      "cell_type": "code",
      "source": [
        "print(f'Number of nodes: {Data[\"x\"].size(0)}')\n",
        "print(f'Number of features: {Data[\"x\"].size(1)}')\n",
        "print(f'Number of classes: {torch.numel(torch.unique(Data[\"y\"],sorted=True))}')\n",
        "print(f'Number of edges: {Data[\"edge_index\"].size(1)}')\n",
        "print(f'Average node degree: {Data[\"edge_index\"].size(1) / Data[\"x\"].size(0):.2f}')\n",
        "print(f'Number of training nodes: {Data[\"train_mask\"].sum()}')\n",
        "print(f'Number of testing nodes: {Data[\"test_mask\"].sum()}')\n",
        "print(f'Training node label rate: {int(Data[\"train_mask\"].sum()) /  Data[\"x\"].size(0):.2f}')"
      ],
      "metadata": {
        "colab": {
          "base_uri": "https://localhost:8080/"
        },
        "id": "1d7_n7tWRhVc",
        "outputId": "41a4b5cf-12de-4794-8acd-0a43afccfc28"
      },
      "execution_count": 52,
      "outputs": [
        {
          "output_type": "stream",
          "name": "stdout",
          "text": [
            "Number of nodes: 200\n",
            "Number of features: 500\n",
            "Number of classes: 5\n",
            "Number of edges: 1790\n",
            "Average node degree: 8.95\n",
            "Number of training nodes: 160\n",
            "Number of testing nodes: 20\n",
            "Training node label rate: 0.80\n"
          ]
        }
      ]
    },
    {
      "cell_type": "markdown",
      "source": [
        "Install torch_geometic."
      ],
      "metadata": {
        "id": "xc9ohcx2xqZY"
      }
    },
    {
      "cell_type": "code",
      "source": [
        "import os\n",
        "os.environ['TORCH'] = torch.__version__\n",
        "print(torch.__version__)\n",
        "\n",
        "!pip install -q torch-scatter -f https://data.pyg.org/whl/torch-${TORCH}.html\n",
        "!pip install -q torch-sparse -f https://data.pyg.org/whl/torch-${TORCH}.html\n",
        "!pip install -q git+https://github.com/pyg-team/pytorch_geometric.git"
      ],
      "metadata": {
        "colab": {
          "base_uri": "https://localhost:8080/"
        },
        "id": "i467r5hCRncs",
        "outputId": "66f961e1-4ae5-4395-abbf-edff613b5149"
      },
      "execution_count": 53,
      "outputs": [
        {
          "output_type": "stream",
          "name": "stdout",
          "text": [
            "2.1.0+cu121\n",
            "  Installing build dependencies ... \u001b[?25l\u001b[?25hdone\n",
            "  Getting requirements to build wheel ... \u001b[?25l\u001b[?25hdone\n",
            "  Preparing metadata (pyproject.toml) ... \u001b[?25l\u001b[?25hdone\n"
          ]
        }
      ]
    },
    {
      "cell_type": "code",
      "source": [
        "import torch_geometric\n",
        "from torch_geometric.nn import MessagePassing\n",
        "import torch.nn.functional as F\n",
        "from torch_geometric.utils import add_self_loops\n",
        "from torch_geometric.nn import GATConv"
      ],
      "metadata": {
        "id": "BdMg5msnRpQ_"
      },
      "execution_count": 54,
      "outputs": []
    },
    {
      "cell_type": "markdown",
      "source": [
        "# Creating message passing network."
      ],
      "metadata": {
        "id": "7dyG1PtPxu9c"
      }
    },
    {
      "cell_type": "code",
      "source": [
        "class Myconv(torch.nn.Module):\n",
        "    def __init__(self):\n",
        "        super().__init__()\n",
        "        torch.manual_seed(2)\n",
        "        self.conv1 = GATConv(in_channels = 500, out_channels = 8)\n",
        "        self.conv2 =  GATConv(8, 8)\n",
        "        self.conv3 =  GATConv(8, 5)\n",
        "\n",
        "    def forward(self, x, edge_index):\n",
        "        h = self.conv1(x, edge_index)\n",
        "        h = F.tanh(h)\n",
        "        h = self.conv2(h, edge_index)\n",
        "        h = F.tanh(h)\n",
        "        h = self.conv3(h, edge_index)# Final GNN embedding space.\n",
        "        return h\n",
        "\n",
        "model = Myconv()\n",
        "print(model)\n",
        "print(model.forward(Data[\"x\"], Data[\"edge_index\"]))"
      ],
      "metadata": {
        "colab": {
          "base_uri": "https://localhost:8080/"
        },
        "id": "w5_YOljsRrIh",
        "outputId": "d68a103b-19cb-4cc0-b128-269612171ba7"
      },
      "execution_count": 55,
      "outputs": [
        {
          "output_type": "stream",
          "name": "stdout",
          "text": [
            "Myconv(\n",
            "  (conv1): GATConv(500, 8, heads=1)\n",
            "  (conv2): GATConv(8, 8, heads=1)\n",
            "  (conv3): GATConv(8, 5, heads=1)\n",
            ")\n",
            "tensor([[-3.7250e-01, -1.6383e-01,  3.8547e-02,  6.5927e-02,  1.4862e-01],\n",
            "        [-8.5588e-01, -6.5427e-01,  1.9135e-01,  1.3734e-03,  2.5905e-01],\n",
            "        [-3.9639e-01, -3.1210e-01,  6.2290e-02,  4.2385e-02,  6.7676e-02],\n",
            "        [-6.0398e-01, -1.2234e-01,  1.9507e-01,  8.6068e-02,  2.3223e-01],\n",
            "        [-5.7643e-01, -3.9681e-01,  1.3519e-01,  4.2757e-02,  1.2702e-01],\n",
            "        [-3.2446e-01, -2.8148e-01,  3.2670e-02,  4.2379e-02,  4.7259e-02],\n",
            "        [-2.3083e-01, -7.3220e-02, -6.5865e-03,  2.3905e-02,  1.3722e-01],\n",
            "        [-1.1047e+00, -7.8235e-01,  2.1553e-01, -3.5982e-02,  3.6569e-01],\n",
            "        [-4.1120e-01, -3.1944e-01,  1.0252e-01,  1.1776e-01, -1.0934e-02],\n",
            "        [-2.1376e-01, -7.8572e-02, -4.5529e-02,  1.2841e-01,  1.0102e-01],\n",
            "        [-5.4331e-01, -2.0658e-01,  1.9040e-01, -9.8761e-02,  2.8924e-01],\n",
            "        [-4.6707e-01, -3.9628e-01,  8.6740e-02,  9.7049e-02,  4.5702e-02],\n",
            "        [-5.8853e-01, -4.4353e-01,  1.0437e-01,  1.4736e-01,  1.6407e-01],\n",
            "        [-4.1138e-01, -1.6370e-01,  7.4345e-02,  4.4224e-02,  1.9217e-01],\n",
            "        [-6.2275e-01, -4.3874e-01,  1.0899e-01, -8.1866e-02,  2.4961e-01],\n",
            "        [-4.3314e-01, -4.7661e-02,  1.6978e-01,  1.5744e-01,  8.8475e-02],\n",
            "        [-5.5726e-01, -4.0402e-01,  9.0948e-02,  1.6012e-01,  1.6823e-01],\n",
            "        [-8.0581e-01, -3.5034e-01,  1.6229e-01, -1.4142e-02,  3.2128e-01],\n",
            "        [-3.8911e-01, -2.5640e-01,  3.3123e-02, -1.5278e-02,  1.9518e-01],\n",
            "        [-4.2799e-01, -3.7475e-01,  1.6958e-02, -1.8346e-02,  1.6453e-01],\n",
            "        [-3.7629e-01, -2.0438e-01,  3.7675e-02,  4.3370e-02,  1.6225e-01],\n",
            "        [-5.7930e-01, -3.3759e-01,  1.2189e-01,  1.4657e-01,  2.0563e-01],\n",
            "        [-6.9594e-01, -4.8249e-01,  1.3781e-01,  1.2358e-01,  2.3035e-01],\n",
            "        [-6.1637e-01, -4.6756e-01,  1.0131e-01,  1.5263e-01,  1.9040e-01],\n",
            "        [-6.8124e-01, -3.7277e-01,  1.7346e-01,  6.9936e-02,  2.7285e-01],\n",
            "        [-5.6699e-01, -4.3790e-01,  5.5412e-02, -1.4040e-02,  2.0815e-01],\n",
            "        [-6.2584e-01, -3.2993e-01,  1.0539e-01, -3.0561e-02,  2.5667e-01],\n",
            "        [-1.2235e+00, -9.0460e-01,  2.8674e-01, -4.0403e-02,  3.7916e-01],\n",
            "        [-6.4970e-01, -4.2892e-01,  1.3031e-01,  1.3931e-01,  2.1941e-01],\n",
            "        [-3.0730e-01,  2.1337e-01,  1.1261e-01,  2.3730e-01,  9.6790e-02],\n",
            "        [-5.0984e-01, -3.4850e-01,  8.1285e-02,  1.7126e-01,  1.5589e-01],\n",
            "        [-6.7719e-01,  6.6351e-02,  2.7021e-01,  3.2327e-02,  3.4540e-01],\n",
            "        [-5.0931e-01, -4.0888e-01,  3.9873e-02,  2.9241e-03,  2.0542e-01],\n",
            "        [-2.2749e-01, -7.7767e-02,  9.6809e-04,  4.0012e-02,  1.1540e-01],\n",
            "        [-4.4841e-01, -1.9990e-01,  7.6192e-03, -2.3577e-03,  2.4613e-01],\n",
            "        [-1.0054e+00, -6.8851e-01,  2.5748e-01,  1.4515e-02,  3.3637e-01],\n",
            "        [-1.7187e-01, -4.3994e-02, -2.2860e-02,  3.4022e-02,  1.0877e-01],\n",
            "        [-4.0842e-01, -2.7583e-01,  5.5539e-02,  4.7333e-02,  1.2512e-01],\n",
            "        [-6.9170e-01, -4.6514e-01,  1.3985e-01,  8.9609e-02,  2.4827e-01],\n",
            "        [-7.1209e-01, -4.3599e-01,  1.5087e-01,  1.2973e-01,  2.5531e-01],\n",
            "        [-2.6713e-01, -4.2298e-01, -1.1250e-01, -1.2825e-01,  2.1003e-01],\n",
            "        [-4.0616e-01, -4.8255e-02,  9.9658e-02,  8.5565e-02,  1.7848e-01],\n",
            "        [-2.8727e-01, -1.3339e-01,  1.8412e-02,  4.3170e-02,  1.3802e-01],\n",
            "        [-3.1872e-01, -1.8072e-01,  9.3272e-02,  8.8966e-02,  6.1867e-02],\n",
            "        [-6.4368e-01, -4.9654e-01,  1.0816e-01,  1.4630e-01,  1.9700e-01],\n",
            "        [-6.0980e-01, -2.9512e-01,  1.1062e-01,  1.9802e-02,  2.8246e-01],\n",
            "        [-5.1203e-01, -2.7995e-01,  1.4696e-01,  1.7632e-01,  8.9309e-02],\n",
            "        [-6.6434e-01, -4.5060e-01,  1.4121e-01,  1.2765e-01,  2.2504e-01],\n",
            "        [-8.8584e-01, -5.7889e-01,  2.2107e-01,  5.8654e-03,  2.6753e-01],\n",
            "        [-1.0266e+00, -7.0393e-01,  2.3347e-01, -1.7316e-02,  3.7719e-01],\n",
            "        [-3.0689e-01, -1.4615e-01,  5.4535e-03, -3.8578e-04,  1.7699e-01],\n",
            "        [-6.2074e-01, -1.7594e-02,  2.3943e-01,  1.6896e-01,  2.0693e-01],\n",
            "        [-5.2312e-01, -1.9459e-01,  9.8163e-02,  4.5173e-02,  2.6364e-01],\n",
            "        [-4.7000e-01, -4.0239e-01,  9.2345e-02,  4.4017e-02,  5.2718e-02],\n",
            "        [-3.3242e-01,  3.8276e-01,  2.3668e-01,  2.5451e-01,  1.0674e-01],\n",
            "        [-8.4813e-01, -4.6542e-01,  1.7993e-01,  4.6023e-02,  3.4349e-01],\n",
            "        [-7.0358e-01, -5.9731e-01,  1.5390e-01,  4.0848e-02,  1.4242e-01],\n",
            "        [-4.2028e-01, -1.5707e-01,  6.8964e-02,  7.9260e-03,  2.2013e-01],\n",
            "        [-3.4652e-01, -1.5601e-01, -3.8277e-02, -1.2961e-01,  3.1875e-01],\n",
            "        [-4.0760e-01, -2.1433e-01,  2.4492e-03, -3.4561e-02,  2.5595e-01],\n",
            "        [-9.0543e-01, -5.6397e-01,  2.0310e-01,  4.7657e-02,  3.3294e-01],\n",
            "        [-5.4999e-01, -6.6862e-02,  2.1389e-01,  1.5884e-01,  1.7086e-01],\n",
            "        [-6.7256e-01,  6.0676e-02, -2.8940e-01, -7.6793e-01,  1.2214e+00],\n",
            "        [-2.9875e-01, -8.1532e-02,  2.7462e-03,  8.8976e-02,  1.6913e-01],\n",
            "        [-7.9602e-01, -4.9029e-01,  2.2825e-01,  5.7799e-02,  2.0644e-01],\n",
            "        [-4.9066e-01, -2.5004e-01,  1.4285e-01,  1.0156e-01,  1.0439e-01],\n",
            "        [-6.7749e-01, -7.0110e-01,  8.8754e-03, -3.2113e-02,  2.5446e-01],\n",
            "        [-5.1111e-01, -2.4919e-01,  1.0855e-01,  2.5809e-02,  2.3549e-01],\n",
            "        [-5.3089e-01, -2.0019e-01,  1.3091e-01,  8.6301e-02,  1.9146e-01],\n",
            "        [-3.1522e-01, -1.2900e-01,  2.2469e-02,  1.2347e-02,  1.5449e-01],\n",
            "        [-9.3718e-01, -6.4289e-01,  2.1307e-01,  2.5633e-02,  3.4002e-01],\n",
            "        [-9.9058e-01, -8.1783e-01,  2.2501e-01, -4.8083e-02,  2.9108e-01],\n",
            "        [-2.8959e-01, -1.0651e-01,  3.0944e-02,  3.8894e-02,  1.4400e-01],\n",
            "        [-1.2801e-01,  1.5421e-02, -2.3055e-02,  5.7299e-02,  8.7308e-02],\n",
            "        [-6.1696e-01, -4.2307e-01,  1.1917e-01,  1.4076e-01,  1.8974e-01],\n",
            "        [-2.5822e-01, -1.4903e-01, -2.5646e-02,  6.1806e-02,  1.3762e-01],\n",
            "        [-8.1730e-01, -4.2752e-01,  1.1600e-01, -2.0458e-02,  3.3669e-01],\n",
            "        [-4.5920e-01, -3.3765e-01, -5.5815e-03, -8.9500e-02,  2.4561e-01],\n",
            "        [-4.9965e-01, -1.4279e-01,  1.4722e-01,  4.6300e-02,  2.2832e-01],\n",
            "        [-5.3099e-01, -4.2299e-01,  1.0341e-01,  1.6420e-02,  1.1656e-01],\n",
            "        [-4.1317e-01, -1.6388e-02,  1.0804e-01,  1.5438e-01,  1.4057e-01],\n",
            "        [-5.3012e-01, -2.2094e-01,  6.8854e-02,  8.3683e-02,  2.1499e-01],\n",
            "        [-4.0337e-01, -1.7461e-01,  3.5591e-02,  5.0037e-02,  2.0341e-01],\n",
            "        [-2.7657e-01, -1.0524e-01,  2.2050e-02,  7.9974e-02,  1.1024e-01],\n",
            "        [-2.8838e-01, -1.2860e-01,  7.1625e-03,  2.4498e-03,  1.6620e-01],\n",
            "        [-6.0399e-02,  3.1946e-02, -9.2721e-02,  8.5624e-02,  7.1884e-02],\n",
            "        [-2.2856e-01, -1.4721e-01, -7.7346e-03,  8.4111e-03,  1.0495e-01],\n",
            "        [-5.7809e-01, -5.5903e-02,  2.4901e-01,  1.4936e-01,  1.7992e-01],\n",
            "        [-5.1442e-01, -1.7301e-01,  1.2842e-01,  3.9403e-02,  2.4142e-01],\n",
            "        [-2.4153e-01, -1.1368e-01, -3.9794e-02,  5.2742e-02,  1.4526e-01],\n",
            "        [-1.0632e+00, -8.8605e-01,  1.9409e-01, -6.9457e-02,  3.4357e-01],\n",
            "        [-5.4403e-01, -1.4328e-01,  1.2843e-01,  4.4385e-02,  2.3349e-01],\n",
            "        [-2.5027e-01, -9.3734e-02, -3.7569e-02,  3.0448e-02,  1.5991e-01],\n",
            "        [-5.6199e-01, -2.3575e-01,  8.6965e-02,  4.6717e-02,  2.7323e-01],\n",
            "        [-8.7683e-01, -3.8642e-01,  2.1055e-01,  4.2609e-03,  3.8000e-01],\n",
            "        [-4.0417e-01, -3.1445e-01, -1.6904e-02, -3.8406e-02,  2.1756e-01],\n",
            "        [-1.9837e-01, -5.4693e-02, -1.7040e-02,  1.0935e-01,  7.6256e-02],\n",
            "        [-5.6828e-01,  5.7545e-02,  2.6982e-01,  1.9451e-01,  1.6193e-01],\n",
            "        [-4.9671e-01, -2.4033e-01,  1.4923e-01,  6.7420e-02,  1.2266e-01],\n",
            "        [-5.1475e-01, -1.7406e-01,  1.0642e-01,  2.6310e-02,  2.3492e-01],\n",
            "        [-8.1248e-01, -7.3725e-01,  1.1659e-01,  1.9081e-02,  2.6661e-01],\n",
            "        [-4.9020e-01, -3.2842e-01,  6.7763e-02,  1.5616e-01,  1.6426e-01],\n",
            "        [-6.0929e-01, -4.3552e-01,  1.1368e-01,  1.6382e-01,  1.8497e-01],\n",
            "        [-5.8464e-01, -4.0435e-01,  9.6474e-02,  1.4418e-01,  1.9086e-01],\n",
            "        [-3.2008e-01, -1.1395e-01,  2.6177e-02,  2.4907e-02,  1.7361e-01],\n",
            "        [-2.6592e-01, -9.6699e-02,  2.6519e-03,  1.1557e-03,  1.6227e-01],\n",
            "        [-3.3110e-01, -9.6941e-02,  3.0276e-02,  5.4508e-02,  1.7349e-01],\n",
            "        [-5.7355e-01, -4.0599e-01,  9.6524e-02,  1.7000e-01,  1.6975e-01],\n",
            "        [-4.7092e-01, -4.3796e-01,  1.8777e-02, -7.1451e-02,  1.6443e-01],\n",
            "        [-2.8339e-01, -1.3062e-01, -1.7576e-03, -3.6142e-03,  1.6305e-01],\n",
            "        [-2.3615e-01, -5.9821e-02, -8.8431e-03,  7.9390e-02,  1.3124e-01],\n",
            "        [-4.8831e-01, -4.9579e-01,  7.7756e-03, -9.1104e-02,  2.5144e-01],\n",
            "        [-7.8501e-01, -6.7408e-01,  1.5592e-01, -3.1063e-02,  2.3991e-01],\n",
            "        [-3.7850e-01, -1.9377e-01, -7.0238e-03,  1.7637e-02,  2.3409e-01],\n",
            "        [-5.7476e-01, -4.4527e-01,  8.7194e-02,  1.5446e-01,  1.7299e-01],\n",
            "        [-8.0099e-01, -3.9503e-01,  1.7615e-01, -3.2009e-02,  3.1624e-01],\n",
            "        [-4.9817e-01, -6.4528e-01, -5.2661e-02, -1.0061e-01,  2.0968e-01],\n",
            "        [-1.5853e-01, -5.9413e-02, -7.5479e-02,  1.4149e-02,  1.4113e-01],\n",
            "        [-5.4566e-01, -4.1995e-01,  7.5440e-02,  1.5697e-01,  1.6389e-01],\n",
            "        [-1.7289e-01, -1.3203e-01, -2.7788e-02,  1.1817e-01,  4.0386e-02],\n",
            "        [-2.4945e-01, -1.3738e-01,  1.8309e-02,  6.6743e-03,  1.0715e-01],\n",
            "        [-6.4965e-01, -4.4464e-01,  1.3134e-01,  1.4932e-01,  2.0288e-01],\n",
            "        [-6.0849e-01,  1.0226e-01,  3.4069e-01,  5.4546e-02,  2.8183e-01],\n",
            "        [-2.7082e-01, -1.1462e-01,  2.5929e-03,  8.3445e-02,  1.3071e-01],\n",
            "        [-7.6535e-01, -1.6518e-01,  3.2617e-01, -3.7926e-02,  3.8176e-01],\n",
            "        [-4.9367e-01, -2.1480e-01,  1.2801e-01,  5.0247e-02,  2.0254e-01],\n",
            "        [-4.9421e-01,  8.6021e-02,  2.8733e-01,  2.7330e-01,  1.0050e-01],\n",
            "        [-5.0720e-01, -4.0553e-01,  1.0006e-01,  2.1205e-02,  9.6444e-02],\n",
            "        [-3.1217e-01, -2.6035e-01,  1.4912e-02,  9.3465e-03,  1.1864e-01],\n",
            "        [-5.9027e-01, -3.7562e-01,  1.0804e-01,  1.4579e-01,  1.9954e-01],\n",
            "        [-1.6984e-01, -7.4968e-02, -5.5498e-02,  1.0405e-01,  9.6164e-02],\n",
            "        [-5.9705e-01, -3.8622e-01,  1.0765e-01,  1.3914e-01,  2.0826e-01],\n",
            "        [-1.5398e-01, -3.9323e-01, -1.6650e-01, -2.0375e-02,  8.8101e-02],\n",
            "        [-5.1911e-01, -3.6966e-01,  7.3864e-02,  1.4572e-01,  1.7197e-01],\n",
            "        [-5.0773e-01,  1.3331e-01,  3.1442e-01,  2.8526e-01,  9.4814e-02],\n",
            "        [-6.4879e-01, -3.6338e-01,  1.6462e-01,  4.1177e-02,  2.5386e-01],\n",
            "        [-2.8620e-01, -1.3955e-01, -6.0084e-04,  1.1676e-01,  1.1413e-01],\n",
            "        [-4.2726e-01, -2.2573e-01,  1.1150e-01,  4.4139e-02,  1.0706e-01],\n",
            "        [-2.8526e-01, -1.9473e-01,  7.2010e-02,  1.1148e-01,  1.5713e-02],\n",
            "        [-6.7882e-01, -4.0560e-01,  1.5084e-01,  1.3822e-01,  2.3500e-01],\n",
            "        [-6.0550e-01, -5.4064e-01,  1.0821e-01, -1.1174e-02,  1.2745e-01],\n",
            "        [-2.5033e-01, -8.9518e-02,  1.0509e-02,  4.0712e-02,  1.3260e-01],\n",
            "        [-6.1152e-01, -4.7438e-01,  1.0031e-01,  1.3306e-01,  1.8407e-01],\n",
            "        [-6.0730e-01, -4.6143e-01,  1.2489e-01,  1.5152e-01,  1.6525e-01],\n",
            "        [-3.5772e-01, -1.0915e-01,  2.7212e-02,  8.4519e-02,  1.5814e-01],\n",
            "        [-6.8955e-01, -4.2761e-01,  1.5133e-01,  1.3754e-01,  2.4306e-01],\n",
            "        [-1.9595e-01, -5.6327e-02, -5.5440e-02,  2.2613e-02,  1.5979e-01],\n",
            "        [-2.0473e-01, -7.8629e-02, -7.6138e-05,  5.1412e-02,  9.3996e-02],\n",
            "        [-6.0797e-01, -2.7012e-01,  1.7909e-01, -9.7346e-02,  3.2951e-01],\n",
            "        [-2.5245e-01, -2.9274e-01,  8.5402e-02,  2.1095e-01, -8.3439e-02],\n",
            "        [-2.4772e-01, -1.5734e-01, -3.5791e-02,  1.1550e-02,  1.6083e-01],\n",
            "        [-6.2276e-01, -2.2461e-01,  1.3294e-01,  5.9582e-02,  2.9045e-01],\n",
            "        [-2.5841e-01, -8.9639e-02, -1.2133e-02,  2.3176e-02,  1.6095e-01],\n",
            "        [-6.0696e-01, -5.3166e-01,  1.8194e-02, -1.1115e-01,  3.1083e-01],\n",
            "        [-7.7565e-01, -3.0853e-01,  2.1302e-01,  1.0301e-01,  2.8491e-01],\n",
            "        [-2.3401e-01, -7.2435e-02,  1.4571e-02,  6.1016e-02,  1.0820e-01],\n",
            "        [-4.6108e-01, -3.2229e-01,  8.7789e-02,  7.7212e-02,  1.0068e-01],\n",
            "        [-6.7433e-01, -3.8260e-01,  1.4989e-01,  1.2838e-01,  2.5074e-01],\n",
            "        [-3.6236e-01, -1.9448e-01,  1.2966e-02,  7.5640e-03,  1.8295e-01],\n",
            "        [-6.2137e-01, -4.3060e-01,  1.1638e-01,  1.5225e-01,  1.9745e-01],\n",
            "        [-2.2041e-01, -9.5242e-02, -4.3624e-02,  4.4243e-03,  1.6068e-01],\n",
            "        [-3.7579e-01, -1.3845e-01,  4.0975e-02, -4.4865e-02,  2.4412e-01],\n",
            "        [-3.0750e-01, -1.4771e-01,  1.0363e-02,  2.8053e-02,  1.6168e-01],\n",
            "        [-1.4851e-01, -5.6303e-02, -6.4659e-02,  3.3256e-02,  1.4257e-01],\n",
            "        [-2.9166e-01, -5.8742e-02,  5.6678e-02,  6.3410e-02,  1.2035e-01],\n",
            "        [-2.6258e-01, -1.0289e-01,  1.6245e-02,  3.0289e-02,  1.3134e-01],\n",
            "        [-2.8290e-01, -1.0818e-01,  3.2297e-02,  7.3324e-02,  1.1450e-01],\n",
            "        [-6.0511e-01, -4.4073e-01,  9.5975e-02,  1.4418e-01,  1.9448e-01],\n",
            "        [-6.4575e-01, -4.7538e-01,  1.1751e-01,  1.4560e-01,  2.0252e-01],\n",
            "        [-3.8123e-01, -6.5263e-01, -9.0459e-02, -5.1616e-02,  1.0558e-01],\n",
            "        [-6.2359e-01, -4.6350e-01,  9.9116e-02,  1.3837e-01,  2.0751e-01],\n",
            "        [-3.7051e-01, -1.2617e-01,  7.8724e-02,  7.2728e-02,  1.4358e-01],\n",
            "        [-6.9882e-01, -4.3226e-01,  1.7025e-01,  7.9940e-02,  2.6034e-01],\n",
            "        [-5.7756e-01, -3.8516e-01,  1.0727e-01,  1.1655e-01,  2.0037e-01],\n",
            "        [-6.4237e-01, -4.2414e-01,  1.4696e-01, -5.1437e-02,  2.4709e-01],\n",
            "        [-5.5996e-01, -4.5505e-01,  7.8765e-02,  1.6290e-01,  1.4618e-01],\n",
            "        [-6.5033e-01, -3.0463e-01,  6.1376e-02, -6.3339e-02,  3.0910e-01],\n",
            "        [-2.0078e-01, -7.0818e-02, -3.2476e-02, -3.2241e-03,  1.4448e-01],\n",
            "        [-2.5961e-01, -1.1415e-01, -3.0001e-02,  4.2669e-02,  1.5527e-01],\n",
            "        [-2.7715e-01, -1.4064e-01, -1.3770e-02,  6.5990e-02,  1.2545e-01],\n",
            "        [-5.4606e-01, -3.5997e-01,  9.6456e-02,  1.4822e-01,  1.7510e-01],\n",
            "        [-2.6768e-01, -1.5088e-01,  4.9530e-03,  7.7419e-02,  9.8597e-02],\n",
            "        [-8.5100e-01, -6.4596e-01,  1.7107e-01, -3.2000e-02,  2.6158e-01],\n",
            "        [-4.5036e-01, -4.4967e-01,  5.5664e-02,  6.7765e-02,  3.8651e-02],\n",
            "        [-6.4122e-01, -4.3067e-01,  1.2459e-01,  1.4834e-01,  2.0828e-01],\n",
            "        [-3.1501e-01, -4.0013e-01, -4.7555e-02, -7.4632e-02,  1.5286e-01],\n",
            "        [-2.5454e-01, -7.8648e-02,  3.2141e-02,  1.2466e-01,  8.0699e-02],\n",
            "        [-3.3044e-01, -1.5295e-01, -1.1399e-02, -2.4604e-01,  3.6586e-01],\n",
            "        [-3.5964e-01, -2.3195e-01,  2.2511e-02, -4.1622e-02,  1.7736e-01],\n",
            "        [-5.6409e-01, -3.9342e-01,  9.4779e-02,  1.4830e-01,  1.8594e-01],\n",
            "        [-5.5525e-01, -3.7306e-01,  1.2871e-01,  1.1470e-02,  1.6907e-01],\n",
            "        [-2.3940e-01, -7.3631e-02,  2.3452e-02,  1.3238e-01,  5.4774e-02],\n",
            "        [-2.2233e-01, -5.1827e-02, -3.4259e-03,  1.8844e-02,  1.4494e-01],\n",
            "        [-5.4571e-01, -3.3163e-01,  9.8992e-02,  1.5774e-01,  1.8461e-01],\n",
            "        [-2.9091e-01, -2.5892e-01, -6.6274e-02,  1.3461e-01,  1.1060e-01],\n",
            "        [-6.6268e-01, -4.5637e-01,  1.2787e-01,  1.3891e-01,  2.2054e-01],\n",
            "        [-5.0464e-01, -2.2747e-01,  4.6093e-02,  2.4201e-02,  2.3629e-01],\n",
            "        [-6.6792e-01, -2.0793e-01,  1.9801e-01,  8.7783e-02,  2.5618e-01],\n",
            "        [-8.1390e-01, -7.9401e-01,  1.8720e-01,  9.9873e-02,  1.2967e-01],\n",
            "        [-9.6838e-01, -6.8954e-01,  1.9118e-01, -3.8553e-03,  3.5240e-01]],\n",
            "       grad_fn=<AddBackward0>)\n"
          ]
        }
      ]
    },
    {
      "cell_type": "markdown",
      "source": [
        "# We take a look at the node embeddings produced by our GNN (before training)."
      ],
      "metadata": {
        "id": "dLw2efFlxzVk"
      }
    },
    {
      "cell_type": "code",
      "source": [
        "import matplotlib.pyplot as plt\n",
        "from sklearn.manifold import TSNE\n",
        "import seaborn as sns\n",
        "\n",
        "def visualize(h):\n",
        "    z = TSNE(n_components = 2, random_state = 0).fit_transform(h.detach().numpy())\n",
        "    plt.figure(figsize = (6,4),  dpi = 120)\n",
        "    sns.scatterplot(x = z[:, 0], y = z[:, 1], hue = Data[\"y\"], palette=sns.color_palette(\"bright\",5)).set(title = \"Second scenario data T-SNE projection before training (GAT)\")"
      ],
      "metadata": {
        "id": "2mqm_yV_RuB7"
      },
      "execution_count": 56,
      "outputs": []
    },
    {
      "cell_type": "markdown",
      "source": [
        "# Start training the model."
      ],
      "metadata": {
        "id": "scqoITQfx24E"
      }
    },
    {
      "cell_type": "code",
      "source": [
        "model = Myconv()\n",
        "h = model(Data[\"x\"], Data[\"edge_index\"])\n",
        "\n",
        "print(f'Embedding shape: {list(h.shape)}')\n",
        "visualize(h)"
      ],
      "metadata": {
        "colab": {
          "base_uri": "https://localhost:8080/",
          "height": 482
        },
        "id": "QD78kVyhRwSC",
        "outputId": "061a3d46-60e4-427f-97df-2832f792f4ed"
      },
      "execution_count": 57,
      "outputs": [
        {
          "output_type": "stream",
          "name": "stdout",
          "text": [
            "Embedding shape: [200, 5]\n"
          ]
        },
        {
          "output_type": "display_data",
          "data": {
            "text/plain": [
              "<Figure size 720x480 with 1 Axes>"
            ],
            "image/png": "[encoded data removed]"
          },
          "metadata": {}
        }
      ]
    },
    {
      "cell_type": "code",
      "source": [
        "model = Myconv()\n",
        "criterion = torch.nn.CrossEntropyLoss()  # Define loss criterion.\n",
        "optimizer = torch.optim.Adam(model.parameters(),  lr = 0.01)  # Define optimizer, an object for updating parameters\n",
        "#loss = loss + weight decay parameter * L2 norm of the weights, 1) To prevent overfitting 2) To keep the weights small and avoid exploding gradient\n",
        "\n",
        "def train(Data):\n",
        "    model.train()\n",
        "    optimizer.zero_grad()  # Clear gradients.\n",
        "    out = model(Data[\"x\"], Data[\"edge_index\"])\n",
        "    train_loss = criterion(out[Data[\"train_mask\"]], Data[\"y\"][Data[\"train_mask\"]])  # Compute the loss solely based on the training nodes.\n",
        "    train_loss.backward()  # Derive gradients.\n",
        "    optimizer.step()  # Update parameters based on gradients.\n",
        "    return train_loss\n",
        "\n",
        "\n",
        "def val(Data):\n",
        "      model.eval()\n",
        "      with torch.no_grad():\n",
        "        out = model(Data[\"x\"], Data[\"edge_index\"])\n",
        "        val_loss = criterion(out[Data[\"val_mask\"]], Data[\"y\"][Data[\"val_mask\"]])\n",
        "        return val_loss"
      ],
      "metadata": {
        "id": "gelQbnx1Rybq"
      },
      "execution_count": 58,
      "outputs": []
    },
    {
      "cell_type": "code",
      "source": [
        "train_loss_ = []\n",
        "val_loss_ = []\n",
        "\n",
        "for epoch in range(1, 251):\n",
        "\n",
        "  epoch_train_loss = []\n",
        "  epoch_val_loss = []\n",
        "  train_loss = train(Data)\n",
        "  val_loss = val(Data)\n",
        "\n",
        "\n",
        "\n",
        "\n",
        "\n",
        "\n",
        "  epoch_train_loss.append(train_loss.item())\n",
        "  epoch_val_loss.append(val_loss.item())\n",
        "\n",
        "\n",
        "\n",
        "\n",
        "\n",
        "\n",
        "  val_loss_.append(sum(epoch_val_loss)/len(epoch_val_loss))\n",
        "  train_loss_.append(sum(epoch_train_loss)/len(epoch_train_loss))\n",
        "  print(epoch,'Train Loss: %.3f | val Loss: %.3f'%( train_loss,val_loss))"
      ],
      "metadata": {
        "colab": {
          "base_uri": "https://localhost:8080/"
        },
        "id": "OnyioAO7R0Tu",
        "outputId": "c9b93059-5fc9-4b3d-c7e5-87c924614548"
      },
      "execution_count": 59,
      "outputs": [
        {
          "output_type": "stream",
          "name": "stdout",
          "text": [
            "1 Train Loss: 1.677 | val Loss: 1.499\n",
            "2 Train Loss: 1.532 | val Loss: 1.333\n",
            "3 Train Loss: 1.372 | val Loss: 1.261\n",
            "4 Train Loss: 1.305 | val Loss: 1.196\n",
            "5 Train Loss: 1.236 | val Loss: 1.147\n",
            "6 Train Loss: 1.183 | val Loss: 1.101\n",
            "7 Train Loss: 1.133 | val Loss: 1.063\n",
            "8 Train Loss: 1.089 | val Loss: 1.030\n",
            "9 Train Loss: 1.048 | val Loss: 0.998\n",
            "10 Train Loss: 1.012 | val Loss: 0.967\n",
            "11 Train Loss: 0.980 | val Loss: 0.936\n",
            "12 Train Loss: 0.950 | val Loss: 0.906\n",
            "13 Train Loss: 0.920 | val Loss: 0.879\n",
            "14 Train Loss: 0.889 | val Loss: 0.851\n",
            "15 Train Loss: 0.860 | val Loss: 0.817\n",
            "16 Train Loss: 0.829 | val Loss: 0.781\n",
            "17 Train Loss: 0.799 | val Loss: 0.753\n",
            "18 Train Loss: 0.772 | val Loss: 0.730\n",
            "19 Train Loss: 0.745 | val Loss: 0.705\n",
            "20 Train Loss: 0.722 | val Loss: 0.677\n",
            "21 Train Loss: 0.697 | val Loss: 0.648\n",
            "22 Train Loss: 0.673 | val Loss: 0.632\n",
            "23 Train Loss: 0.649 | val Loss: 0.621\n",
            "24 Train Loss: 0.627 | val Loss: 0.600\n",
            "25 Train Loss: 0.607 | val Loss: 0.583\n",
            "26 Train Loss: 0.588 | val Loss: 0.577\n",
            "27 Train Loss: 0.571 | val Loss: 0.553\n",
            "28 Train Loss: 0.554 | val Loss: 0.542\n",
            "29 Train Loss: 0.537 | val Loss: 0.527\n",
            "30 Train Loss: 0.522 | val Loss: 0.502\n",
            "31 Train Loss: 0.504 | val Loss: 0.489\n",
            "32 Train Loss: 0.486 | val Loss: 0.481\n",
            "33 Train Loss: 0.474 | val Loss: 0.467\n",
            "34 Train Loss: 0.463 | val Loss: 0.462\n",
            "35 Train Loss: 0.454 | val Loss: 0.459\n",
            "36 Train Loss: 0.444 | val Loss: 0.453\n",
            "37 Train Loss: 0.429 | val Loss: 0.446\n",
            "38 Train Loss: 0.411 | val Loss: 0.439\n",
            "39 Train Loss: 0.400 | val Loss: 0.425\n",
            "40 Train Loss: 0.392 | val Loss: 0.418\n",
            "41 Train Loss: 0.380 | val Loss: 0.409\n",
            "42 Train Loss: 0.371 | val Loss: 0.402\n",
            "43 Train Loss: 0.362 | val Loss: 0.395\n",
            "44 Train Loss: 0.354 | val Loss: 0.386\n",
            "45 Train Loss: 0.346 | val Loss: 0.378\n",
            "46 Train Loss: 0.338 | val Loss: 0.370\n",
            "47 Train Loss: 0.329 | val Loss: 0.360\n",
            "48 Train Loss: 0.321 | val Loss: 0.332\n",
            "49 Train Loss: 0.311 | val Loss: 0.344\n",
            "50 Train Loss: 0.307 | val Loss: 0.340\n",
            "51 Train Loss: 0.301 | val Loss: 0.342\n",
            "52 Train Loss: 0.296 | val Loss: 0.336\n",
            "53 Train Loss: 0.289 | val Loss: 0.323\n",
            "54 Train Loss: 0.282 | val Loss: 0.314\n",
            "55 Train Loss: 0.293 | val Loss: 0.298\n",
            "56 Train Loss: 0.284 | val Loss: 0.296\n",
            "57 Train Loss: 0.302 | val Loss: 0.294\n",
            "58 Train Loss: 0.291 | val Loss: 0.301\n",
            "59 Train Loss: 0.281 | val Loss: 0.337\n",
            "60 Train Loss: 0.268 | val Loss: 0.277\n",
            "61 Train Loss: 0.256 | val Loss: 0.297\n",
            "62 Train Loss: 0.250 | val Loss: 0.284\n",
            "63 Train Loss: 0.245 | val Loss: 0.259\n",
            "64 Train Loss: 0.234 | val Loss: 0.245\n",
            "65 Train Loss: 0.226 | val Loss: 0.240\n",
            "66 Train Loss: 0.222 | val Loss: 0.235\n",
            "67 Train Loss: 0.219 | val Loss: 0.230\n",
            "68 Train Loss: 0.216 | val Loss: 0.225\n",
            "69 Train Loss: 0.212 | val Loss: 0.223\n",
            "70 Train Loss: 0.209 | val Loss: 0.221\n",
            "71 Train Loss: 0.205 | val Loss: 0.216\n",
            "72 Train Loss: 0.202 | val Loss: 0.210\n",
            "73 Train Loss: 0.198 | val Loss: 0.207\n",
            "74 Train Loss: 0.194 | val Loss: 0.201\n",
            "75 Train Loss: 0.187 | val Loss: 0.176\n",
            "76 Train Loss: 0.186 | val Loss: 0.178\n",
            "77 Train Loss: 0.186 | val Loss: 0.180\n",
            "78 Train Loss: 0.182 | val Loss: 0.193\n",
            "79 Train Loss: 0.175 | val Loss: 0.190\n",
            "80 Train Loss: 0.169 | val Loss: 0.258\n",
            "81 Train Loss: 0.182 | val Loss: 0.255\n",
            "82 Train Loss: 0.179 | val Loss: 0.248\n",
            "83 Train Loss: 0.176 | val Loss: 0.236\n",
            "84 Train Loss: 0.172 | val Loss: 0.224\n",
            "85 Train Loss: 0.170 | val Loss: 0.221\n",
            "86 Train Loss: 0.166 | val Loss: 0.214\n",
            "87 Train Loss: 0.163 | val Loss: 0.206\n",
            "88 Train Loss: 0.161 | val Loss: 0.196\n",
            "89 Train Loss: 0.156 | val Loss: 0.178\n",
            "90 Train Loss: 0.153 | val Loss: 0.174\n",
            "91 Train Loss: 0.149 | val Loss: 0.175\n",
            "92 Train Loss: 0.146 | val Loss: 0.167\n",
            "93 Train Loss: 0.151 | val Loss: 0.174\n",
            "94 Train Loss: 0.154 | val Loss: 0.165\n",
            "95 Train Loss: 0.137 | val Loss: 0.167\n",
            "96 Train Loss: 0.142 | val Loss: 0.163\n",
            "97 Train Loss: 0.159 | val Loss: 0.160\n",
            "98 Train Loss: 0.151 | val Loss: 0.158\n",
            "99 Train Loss: 0.149 | val Loss: 0.157\n",
            "100 Train Loss: 0.149 | val Loss: 0.151\n",
            "101 Train Loss: 0.149 | val Loss: 0.150\n",
            "102 Train Loss: 0.146 | val Loss: 0.148\n",
            "103 Train Loss: 0.141 | val Loss: 0.144\n",
            "104 Train Loss: 0.137 | val Loss: 0.141\n",
            "105 Train Loss: 0.135 | val Loss: 0.142\n",
            "106 Train Loss: 0.136 | val Loss: 0.140\n",
            "107 Train Loss: 0.136 | val Loss: 0.133\n",
            "108 Train Loss: 0.132 | val Loss: 0.127\n",
            "109 Train Loss: 0.129 | val Loss: 0.128\n",
            "110 Train Loss: 0.125 | val Loss: 0.128\n",
            "111 Train Loss: 0.120 | val Loss: 0.128\n",
            "112 Train Loss: 0.117 | val Loss: 0.129\n",
            "113 Train Loss: 0.115 | val Loss: 0.129\n",
            "114 Train Loss: 0.115 | val Loss: 0.129\n",
            "115 Train Loss: 0.112 | val Loss: 0.127\n",
            "116 Train Loss: 0.111 | val Loss: 0.126\n",
            "117 Train Loss: 0.110 | val Loss: 0.124\n",
            "118 Train Loss: 0.108 | val Loss: 0.122\n",
            "119 Train Loss: 0.107 | val Loss: 0.121\n",
            "120 Train Loss: 0.106 | val Loss: 0.118\n",
            "121 Train Loss: 0.104 | val Loss: 0.116\n",
            "122 Train Loss: 0.103 | val Loss: 0.119\n",
            "123 Train Loss: 0.101 | val Loss: 0.119\n",
            "124 Train Loss: 0.100 | val Loss: 0.119\n",
            "125 Train Loss: 0.098 | val Loss: 0.118\n",
            "126 Train Loss: 0.097 | val Loss: 0.117\n",
            "127 Train Loss: 0.095 | val Loss: 0.116\n",
            "128 Train Loss: 0.094 | val Loss: 0.114\n",
            "129 Train Loss: 0.093 | val Loss: 0.112\n",
            "130 Train Loss: 0.091 | val Loss: 0.110\n",
            "131 Train Loss: 0.090 | val Loss: 0.107\n",
            "132 Train Loss: 0.089 | val Loss: 0.104\n",
            "133 Train Loss: 0.088 | val Loss: 0.105\n",
            "134 Train Loss: 0.087 | val Loss: 0.105\n",
            "135 Train Loss: 0.086 | val Loss: 0.103\n",
            "136 Train Loss: 0.085 | val Loss: 0.102\n",
            "137 Train Loss: 0.083 | val Loss: 0.101\n",
            "138 Train Loss: 0.082 | val Loss: 0.102\n",
            "139 Train Loss: 0.080 | val Loss: 0.106\n",
            "140 Train Loss: 0.079 | val Loss: 0.107\n",
            "141 Train Loss: 0.078 | val Loss: 0.104\n",
            "142 Train Loss: 0.077 | val Loss: 0.105\n",
            "143 Train Loss: 0.076 | val Loss: 0.103\n",
            "144 Train Loss: 0.075 | val Loss: 0.098\n",
            "145 Train Loss: 0.075 | val Loss: 0.102\n",
            "146 Train Loss: 0.074 | val Loss: 0.099\n",
            "147 Train Loss: 0.073 | val Loss: 0.096\n",
            "148 Train Loss: 0.072 | val Loss: 0.094\n",
            "149 Train Loss: 0.072 | val Loss: 0.094\n",
            "150 Train Loss: 0.071 | val Loss: 0.095\n",
            "151 Train Loss: 0.070 | val Loss: 0.097\n",
            "152 Train Loss: 0.069 | val Loss: 0.097\n",
            "153 Train Loss: 0.068 | val Loss: 0.097\n",
            "154 Train Loss: 0.067 | val Loss: 0.097\n",
            "155 Train Loss: 0.066 | val Loss: 0.097\n",
            "156 Train Loss: 0.065 | val Loss: 0.096\n",
            "157 Train Loss: 0.064 | val Loss: 0.095\n",
            "158 Train Loss: 0.063 | val Loss: 0.094\n",
            "159 Train Loss: 0.062 | val Loss: 0.093\n",
            "160 Train Loss: 0.062 | val Loss: 0.092\n",
            "161 Train Loss: 0.061 | val Loss: 0.091\n",
            "162 Train Loss: 0.060 | val Loss: 0.089\n",
            "163 Train Loss: 0.060 | val Loss: 0.088\n",
            "164 Train Loss: 0.059 | val Loss: 0.087\n",
            "165 Train Loss: 0.059 | val Loss: 0.087\n",
            "166 Train Loss: 0.058 | val Loss: 0.087\n",
            "167 Train Loss: 0.057 | val Loss: 0.086\n",
            "168 Train Loss: 0.057 | val Loss: 0.085\n",
            "169 Train Loss: 0.056 | val Loss: 0.084\n",
            "170 Train Loss: 0.056 | val Loss: 0.084\n",
            "171 Train Loss: 0.055 | val Loss: 0.083\n",
            "172 Train Loss: 0.055 | val Loss: 0.083\n",
            "173 Train Loss: 0.054 | val Loss: 0.082\n",
            "174 Train Loss: 0.054 | val Loss: 0.081\n",
            "175 Train Loss: 0.053 | val Loss: 0.079\n",
            "176 Train Loss: 0.053 | val Loss: 0.078\n",
            "177 Train Loss: 0.052 | val Loss: 0.077\n",
            "178 Train Loss: 0.052 | val Loss: 0.077\n",
            "179 Train Loss: 0.051 | val Loss: 0.077\n",
            "180 Train Loss: 0.051 | val Loss: 0.077\n",
            "181 Train Loss: 0.050 | val Loss: 0.074\n",
            "182 Train Loss: 0.050 | val Loss: 0.071\n",
            "183 Train Loss: 0.049 | val Loss: 0.069\n",
            "184 Train Loss: 0.049 | val Loss: 0.070\n",
            "185 Train Loss: 0.049 | val Loss: 0.069\n",
            "186 Train Loss: 0.048 | val Loss: 0.071\n",
            "187 Train Loss: 0.048 | val Loss: 0.072\n",
            "188 Train Loss: 0.048 | val Loss: 0.071\n",
            "189 Train Loss: 0.047 | val Loss: 0.071\n",
            "190 Train Loss: 0.047 | val Loss: 0.068\n",
            "191 Train Loss: 0.046 | val Loss: 0.064\n",
            "192 Train Loss: 0.046 | val Loss: 0.061\n",
            "193 Train Loss: 0.045 | val Loss: 0.060\n",
            "194 Train Loss: 0.045 | val Loss: 0.059\n",
            "195 Train Loss: 0.044 | val Loss: 0.058\n",
            "196 Train Loss: 0.044 | val Loss: 0.057\n",
            "197 Train Loss: 0.043 | val Loss: 0.057\n",
            "198 Train Loss: 0.043 | val Loss: 0.056\n",
            "199 Train Loss: 0.043 | val Loss: 0.055\n",
            "200 Train Loss: 0.042 | val Loss: 0.055\n",
            "201 Train Loss: 0.042 | val Loss: 0.054\n",
            "202 Train Loss: 0.042 | val Loss: 0.053\n",
            "203 Train Loss: 0.041 | val Loss: 0.052\n",
            "204 Train Loss: 0.041 | val Loss: 0.052\n",
            "205 Train Loss: 0.041 | val Loss: 0.051\n",
            "206 Train Loss: 0.040 | val Loss: 0.050\n",
            "207 Train Loss: 0.040 | val Loss: 0.050\n",
            "208 Train Loss: 0.040 | val Loss: 0.049\n",
            "209 Train Loss: 0.039 | val Loss: 0.049\n",
            "210 Train Loss: 0.039 | val Loss: 0.049\n",
            "211 Train Loss: 0.039 | val Loss: 0.048\n",
            "212 Train Loss: 0.039 | val Loss: 0.048\n",
            "213 Train Loss: 0.038 | val Loss: 0.048\n",
            "214 Train Loss: 0.038 | val Loss: 0.048\n",
            "215 Train Loss: 0.038 | val Loss: 0.048\n",
            "216 Train Loss: 0.037 | val Loss: 0.048\n",
            "217 Train Loss: 0.037 | val Loss: 0.048\n",
            "218 Train Loss: 0.037 | val Loss: 0.047\n",
            "219 Train Loss: 0.037 | val Loss: 0.047\n",
            "220 Train Loss: 0.036 | val Loss: 0.046\n",
            "221 Train Loss: 0.036 | val Loss: 0.046\n",
            "222 Train Loss: 0.036 | val Loss: 0.045\n",
            "223 Train Loss: 0.036 | val Loss: 0.045\n",
            "224 Train Loss: 0.035 | val Loss: 0.045\n",
            "225 Train Loss: 0.035 | val Loss: 0.045\n",
            "226 Train Loss: 0.035 | val Loss: 0.044\n",
            "227 Train Loss: 0.035 | val Loss: 0.044\n",
            "228 Train Loss: 0.034 | val Loss: 0.044\n",
            "229 Train Loss: 0.034 | val Loss: 0.044\n",
            "230 Train Loss: 0.034 | val Loss: 0.043\n",
            "231 Train Loss: 0.034 | val Loss: 0.043\n",
            "232 Train Loss: 0.034 | val Loss: 0.042\n",
            "233 Train Loss: 0.033 | val Loss: 0.042\n",
            "234 Train Loss: 0.033 | val Loss: 0.042\n",
            "235 Train Loss: 0.033 | val Loss: 0.041\n",
            "236 Train Loss: 0.033 | val Loss: 0.041\n",
            "237 Train Loss: 0.033 | val Loss: 0.040\n",
            "238 Train Loss: 0.032 | val Loss: 0.040\n",
            "239 Train Loss: 0.032 | val Loss: 0.040\n",
            "240 Train Loss: 0.032 | val Loss: 0.039\n",
            "241 Train Loss: 0.032 | val Loss: 0.039\n",
            "242 Train Loss: 0.032 | val Loss: 0.039\n",
            "243 Train Loss: 0.031 | val Loss: 0.039\n",
            "244 Train Loss: 0.031 | val Loss: 0.039\n",
            "245 Train Loss: 0.031 | val Loss: 0.039\n",
            "246 Train Loss: 0.031 | val Loss: 0.038\n",
            "247 Train Loss: 0.031 | val Loss: 0.038\n",
            "248 Train Loss: 0.030 | val Loss: 0.038\n",
            "249 Train Loss: 0.030 | val Loss: 0.037\n",
            "250 Train Loss: 0.030 | val Loss: 0.037\n"
          ]
        }
      ]
    },
    {
      "cell_type": "markdown",
      "source": [
        "# Visualize train loss and val loss."
      ],
      "metadata": {
        "id": "bo7hzD0Rx8R7"
      }
    },
    {
      "cell_type": "code",
      "source": [
        "plt.plot(train_loss_, \"c\", linewidth = 3)\n",
        "plt.plot(val_loss_, \"k\", linewidth = 3)\n",
        "plt.xlabel('epoch')\n",
        "plt.ylabel('loss')\n",
        "plt.legend(['Train','Val'])\n",
        "plt.title('Train vs Val Loss for the second scenario (GAT)')\n",
        "plt.grid()\n",
        "plt.show()"
      ],
      "metadata": {
        "colab": {
          "base_uri": "https://localhost:8080/",
          "height": 472
        },
        "id": "tamZCxGhR2Jq",
        "outputId": "9d0750b5-cb4c-4e4b-bb39-69de04dd60d9"
      },
      "execution_count": 60,
      "outputs": [
        {
          "output_type": "display_data",
          "data": {
            "text/plain": [
              "<Figure size 640x480 with 1 Axes>"
            ],
            "image/png": "[encoded data removed]"
          },
          "metadata": {}
        }
      ]
    },
    {
      "cell_type": "markdown",
      "source": [
        "# Compute the accuracy of the model."
      ],
      "metadata": {
        "id": "pXnL-M09yAFs"
      }
    },
    {
      "cell_type": "code",
      "source": [
        "def test(Data):\n",
        "      model.eval()\n",
        "      with torch.no_grad():\n",
        "        out = model(Data[\"x\"], Data[\"edge_index\"])\n",
        "        pred = out.argmax(dim = 1)\n",
        "        test_correct = pred[Data[\"test_mask\"]] == Data[\"y\"][Data[\"test_mask\"]]  # Check against ground-truth labels.\n",
        "        test_acc = int(test_correct.sum()) / int(Data[\"test_mask\"].sum())  # Derive ratio of correct predictions.\n",
        "        return test_acc"
      ],
      "metadata": {
        "id": "duW1YnAfR3rh"
      },
      "execution_count": 61,
      "outputs": []
    },
    {
      "cell_type": "code",
      "source": [
        "test_acc = test(Data)\n",
        "print(f'Test Accuracy: {100*test_acc:.2f}')"
      ],
      "metadata": {
        "colab": {
          "base_uri": "https://localhost:8080/"
        },
        "id": "ZzEXT9utR5Ri",
        "outputId": "38dc2d23-fb93-4616-cacf-04f009814192"
      },
      "execution_count": 62,
      "outputs": [
        {
          "output_type": "stream",
          "name": "stdout",
          "text": [
            "Test Accuracy: 80.00\n"
          ]
        }
      ]
    },
    {
      "cell_type": "markdown",
      "source": [
        "# We take a look at the node embeddings produced by our GNN (after training)."
      ],
      "metadata": {
        "id": "xhZC5icjyEck"
      }
    },
    {
      "cell_type": "code",
      "source": [
        "import matplotlib.pyplot as plt\n",
        "from sklearn.manifold import TSNE\n",
        "import seaborn as sns\n",
        "\n",
        "def visualize(h):\n",
        "    z = TSNE(n_components = 2, random_state = 0).fit_transform(h.detach().numpy())\n",
        "    plt.figure(figsize = (6,4),  dpi = 120)\n",
        "    sns.scatterplot(x = z[:, 0], y = z[:, 1], hue = Data[\"y\"], palette=sns.color_palette(\"bright\",5)).set(title = \"Second scenario data T-SNE projection after training (GAT)\")"
      ],
      "metadata": {
        "id": "HvsRU-fgR7hC"
      },
      "execution_count": 63,
      "outputs": []
    },
    {
      "cell_type": "code",
      "source": [
        "model.eval()\n",
        "out = model(Data[\"x\"], Data[\"edge_index\"])\n",
        "visualize(out)"
      ],
      "metadata": {
        "colab": {
          "base_uri": "https://localhost:8080/",
          "height": 465
        },
        "id": "5Lzv_bNXR9OC",
        "outputId": "8c6e4572-8550-4f20-eced-3809f637690f"
      },
      "execution_count": 64,
      "outputs": [
        {
          "output_type": "display_data",
          "data": {
            "text/plain": [
              "<Figure size 720x480 with 1 Axes>"
            ],
            "image/png": "[encoded data removed]"
          },
          "metadata": {}
        }
      ]
    },
    {
      "cell_type": "markdown",
      "source": [
        "# Confusion matrix."
      ],
      "metadata": {
        "id": "WeKMYA_syIMM"
      }
    },
    {
      "cell_type": "code",
      "source": [
        "pred_t = out.argmax(dim=1)\n",
        "pred_t"
      ],
      "metadata": {
        "colab": {
          "base_uri": "https://localhost:8080/"
        },
        "id": "ldc55DUjR-0S",
        "outputId": "5ad54f70-0af5-44ce-f093-73eef1b8da1d"
      },
      "execution_count": 65,
      "outputs": [
        {
          "output_type": "execute_result",
          "data": {
            "text/plain": [
              "tensor([2, 3, 4, 4, 4, 4, 0, 4, 4, 2, 3, 4, 1, 0, 2, 4, 1, 4, 3, 0, 0, 1, 1, 1,\n",
              "        1, 2, 4, 3, 1, 4, 1, 4, 0, 0, 2, 3, 0, 4, 1, 1, 3, 0, 0, 0, 1, 3, 4, 1,\n",
              "        3, 3, 0, 4, 2, 4, 4, 3, 3, 2, 2, 2, 3, 4, 4, 2, 4, 0, 3, 0, 4, 0, 3, 3,\n",
              "        0, 0, 1, 2, 4, 2, 0, 4, 4, 4, 2, 0, 0, 2, 0, 4, 0, 2, 3, 3, 2, 2, 3, 2,\n",
              "        2, 4, 4, 3, 3, 1, 1, 1, 0, 0, 2, 1, 2, 0, 0, 3, 3, 2, 1, 4, 3, 2, 1, 4,\n",
              "        0, 1, 3, 2, 3, 0, 4, 4, 0, 1, 2, 1, 3, 1, 4, 3, 2, 3, 4, 1, 4, 0, 1, 1,\n",
              "        2, 1, 2, 0, 3, 4, 2, 2, 2, 2, 3, 0, 4, 1, 2, 1, 2, 0, 0, 3, 0, 0, 0, 1,\n",
              "        1, 3, 1, 0, 1, 1, 3, 1, 4, 2, 2, 2, 1, 0, 0, 4, 1, 3, 0, 3, 0, 1, 4, 2,\n",
              "        0, 1, 2, 1, 2, 4, 3, 3])"
            ]
          },
          "metadata": {},
          "execution_count": 65
        }
      ]
    },
    {
      "cell_type": "code",
      "source": [
        "Data[\"y\"]"
      ],
      "metadata": {
        "colab": {
          "base_uri": "https://localhost:8080/"
        },
        "id": "9fGxO1wcSASC",
        "outputId": "10fd2f5b-a4ee-4ff9-f604-d3bd8b686084"
      },
      "execution_count": 66,
      "outputs": [
        {
          "output_type": "execute_result",
          "data": {
            "text/plain": [
              "tensor([2, 3, 4, 4, 4, 4, 0, 4, 4, 2, 3, 4, 1, 0, 2, 3, 1, 4, 3, 0, 0, 1, 1, 1,\n",
              "        1, 2, 4, 3, 1, 4, 1, 4, 0, 0, 2, 3, 0, 4, 1, 1, 3, 0, 0, 0, 1, 3, 4, 1,\n",
              "        3, 3, 0, 4, 2, 4, 4, 3, 3, 2, 2, 2, 3, 4, 4, 2, 4, 4, 3, 0, 4, 0, 3, 3,\n",
              "        0, 0, 1, 2, 4, 2, 0, 4, 4, 4, 2, 0, 0, 2, 0, 4, 0, 2, 3, 3, 2, 2, 3, 2,\n",
              "        2, 4, 4, 3, 3, 1, 1, 1, 0, 0, 2, 1, 2, 0, 0, 3, 3, 2, 1, 3, 3, 2, 1, 4,\n",
              "        0, 1, 3, 2, 3, 0, 4, 4, 0, 1, 2, 1, 3, 1, 4, 3, 2, 3, 4, 1, 4, 0, 1, 1,\n",
              "        2, 1, 2, 0, 3, 4, 2, 2, 2, 2, 3, 0, 4, 1, 2, 1, 2, 0, 0, 3, 0, 0, 0, 1,\n",
              "        1, 3, 1, 0, 1, 1, 3, 1, 4, 2, 2, 2, 1, 0, 3, 4, 1, 3, 0, 3, 0, 1, 4, 2,\n",
              "        0, 1, 2, 1, 2, 4, 3, 3])"
            ]
          },
          "metadata": {},
          "execution_count": 66
        }
      ]
    },
    {
      "cell_type": "code",
      "source": [
        "import seaborn as sn\n",
        "confusion_matrix = pd.crosstab(Data['y'], pred_t, rownames=['Actual'], colnames = ['Predicted'], margins = True)\n",
        "plt.figure(figsize=(8, 6))\n",
        "sn.heatmap(confusion_matrix, annot=True,  cmap=\"Blues\", fmt='g')\n",
        "plt.title('Second scenario, confusion matrix (GAT) for the whole data')\n",
        "plt.show()"
      ],
      "metadata": {
        "colab": {
          "base_uri": "https://localhost:8080/",
          "height": 564
        },
        "id": "X8O_vmS-SBwK",
        "outputId": "8119ee93-c15e-436e-a53f-fa0f10db8b7b"
      },
      "execution_count": 67,
      "outputs": [
        {
          "output_type": "display_data",
          "data": {
            "text/plain": [
              "<Figure size 800x600 with 2 Axes>"
            ],
            "image/png": "[encoded data removed]"
          },
          "metadata": {}
        }
      ]
    },
    {
      "cell_type": "code",
      "source": [
        "pred = pred_t[Data[\"test_mask\"]]"
      ],
      "metadata": {
        "id": "W-IXu0o8SDnS"
      },
      "execution_count": 68,
      "outputs": []
    },
    {
      "cell_type": "code",
      "source": [
        "act = Data[\"y\"][Data[\"test_mask\"]]"
      ],
      "metadata": {
        "id": "65tkrFl8SFFJ"
      },
      "execution_count": 69,
      "outputs": []
    },
    {
      "cell_type": "code",
      "source": [
        "data = {'y_Actual':    act,\n",
        "        'y_Predicted':pred\n",
        "        }\n",
        "\n",
        "df = pd.DataFrame(data, columns = ['y_Actual','y_Predicted'])\n",
        "df"
      ],
      "metadata": {
        "colab": {
          "base_uri": "https://localhost:8080/",
          "height": 676
        },
        "id": "essS-PdNSGkD",
        "outputId": "500fb605-d455-48b5-d0b4-5d00af879da0"
      },
      "execution_count": 70,
      "outputs": [
        {
          "output_type": "execute_result",
          "data": {
            "text/plain": [
              "    y_Actual  y_Predicted\n",
              "0          0            0\n",
              "1          3            4\n",
              "2          0            0\n",
              "3          2            2\n",
              "4          4            4\n",
              "5          2            2\n",
              "6          0            0\n",
              "7          1            1\n",
              "8          4            4\n",
              "9          4            0\n",
              "10         2            2\n",
              "11         3            4\n",
              "12         4            4\n",
              "13         1            1\n",
              "14         1            1\n",
              "15         1            1\n",
              "16         3            3\n",
              "17         2            2\n",
              "18         3            0\n",
              "19         0            0"
            ],
            "text/html": [
              "\n",
              "  <div id=\"df-07c42ec6-98d9-4107-8f4d-150a51aff30f\" class=\"colab-df-container\">\n",
              "    <div>\n",
              "<style scoped>\n",
              "    .dataframe tbody tr th:only-of-type {\n",
              "        vertical-align: middle;\n",
              "    }\n",
              "\n",
              "    .dataframe tbody tr th {\n",
              "        vertical-align: top;\n",
              "    }\n",
              "\n",
              "    .dataframe thead th {\n",
              "        text-align: right;\n",
              "    }\n",
              "</style>\n",
              "<table border=\"1\" class=\"dataframe\">\n",
              "  <thead>\n",
              "    <tr style=\"text-align: right;\">\n",
              "      <th></th>\n",
              "      <th>y_Actual</th>\n",
              "      <th>y_Predicted</th>\n",
              "    </tr>\n",
              "  </thead>\n",
              "  <tbody>\n",
              "    <tr>\n",
              "      <th>0</th>\n",
              "      <td>0</td>\n",
              "      <td>0</td>\n",
              "    </tr>\n",
              "    <tr>\n",
              "      <th>1</th>\n",
              "      <td>3</td>\n",
              "      <td>4</td>\n",
              "    </tr>\n",
              "    <tr>\n",
              "      <th>2</th>\n",
              "      <td>0</td>\n",
              "      <td>0</td>\n",
              "    </tr>\n",
              "    <tr>\n",
              "      <th>3</th>\n",
              "      <td>2</td>\n",
              "      <td>2</td>\n",
              "    </tr>\n",
              "    <tr>\n",
              "      <th>4</th>\n",
              "      <td>4</td>\n",
              "      <td>4</td>\n",
              "    </tr>\n",
              "    <tr>\n",
              "      <th>5</th>\n",
              "      <td>2</td>\n",
              "      <td>2</td>\n",
              "    </tr>\n",
              "    <tr>\n",
              "      <th>6</th>\n",
              "      <td>0</td>\n",
              "      <td>0</td>\n",
              "    </tr>\n",
              "    <tr>\n",
              "      <th>7</th>\n",
              "      <td>1</td>\n",
              "      <td>1</td>\n",
              "    </tr>\n",
              "    <tr>\n",
              "      <th>8</th>\n",
              "      <td>4</td>\n",
              "      <td>4</td>\n",
              "    </tr>\n",
              "    <tr>\n",
              "      <th>9</th>\n",
              "      <td>4</td>\n",
              "      <td>0</td>\n",
              "    </tr>\n",
              "    <tr>\n",
              "      <th>10</th>\n",
              "      <td>2</td>\n",
              "      <td>2</td>\n",
              "    </tr>\n",
              "    <tr>\n",
              "      <th>11</th>\n",
              "      <td>3</td>\n",
              "      <td>4</td>\n",
              "    </tr>\n",
              "    <tr>\n",
              "      <th>12</th>\n",
              "      <td>4</td>\n",
              "      <td>4</td>\n",
              "    </tr>\n",
              "    <tr>\n",
              "      <th>13</th>\n",
              "      <td>1</td>\n",
              "      <td>1</td>\n",
              "    </tr>\n",
              "    <tr>\n",
              "      <th>14</th>\n",
              "      <td>1</td>\n",
              "      <td>1</td>\n",
              "    </tr>\n",
              "    <tr>\n",
              "      <th>15</th>\n",
              "      <td>1</td>\n",
              "      <td>1</td>\n",
              "    </tr>\n",
              "    <tr>\n",
              "      <th>16</th>\n",
              "      <td>3</td>\n",
              "      <td>3</td>\n",
              "    </tr>\n",
              "    <tr>\n",
              "      <th>17</th>\n",
              "      <td>2</td>\n",
              "      <td>2</td>\n",
              "    </tr>\n",
              "    <tr>\n",
              "      <th>18</th>\n",
              "      <td>3</td>\n",
              "      <td>0</td>\n",
              "    </tr>\n",
              "    <tr>\n",
              "      <th>19</th>\n",
              "      <td>0</td>\n",
              "      <td>0</td>\n",
              "    </tr>\n",
              "  </tbody>\n",
              "</table>\n",
              "</div>\n",
              "    <div class=\"colab-df-buttons\">\n",
              "\n",
              "  <div class=\"colab-df-container\">\n",
              "    <button class=\"colab-df-convert\" onclick=\"convertToInteractive('df-07c42ec6-98d9-4107-8f4d-150a51aff30f')\"\n",
              "            title=\"Convert this dataframe to an interactive table.\"\n",
              "            style=\"display:none;\">\n",
              "\n",
              "  <svg xmlns=\"http://www.w3.org/2000/svg\" height=\"24px\" viewBox=\"0 -960 960 960\">\n",
              "    <path d=\"M120-120v-720h720v720H120Zm60-500h600v-160H180v160Zm220 220h160v-160H400v160Zm0 220h160v-160H400v160ZM180-400h160v-160H180v160Zm440 0h160v-160H620v160ZM180-180h160v-160H180v160Zm440 0h160v-160H620v160Z\"/>\n",
              "  </svg>\n",
              "    </button>\n",
              "\n",
              "  <style>\n",
              "    .colab-df-container {\n",
              "      display:flex;\n",
              "      gap: 12px;\n",
              "    }\n",
              "\n",
              "    .colab-df-convert {\n",
              "      background-color: #E8F0FE;\n",
              "      border: none;\n",
              "      border-radius: 50%;\n",
              "      cursor: pointer;\n",
              "      display: none;\n",
              "      fill: #1967D2;\n",
              "      height: 32px;\n",
              "      padding: 0 0 0 0;\n",
              "      width: 32px;\n",
              "    }\n",
              "\n",
              "    .colab-df-convert:hover {\n",
              "      background-color: #E2EBFA;\n",
              "      box-shadow: 0px 1px 2px rgba(60, 64, 67, 0.3), 0px 1px 3px 1px rgba(60, 64, 67, 0.15);\n",
              "      fill: #174EA6;\n",
              "    }\n",
              "\n",
              "    .colab-df-buttons div {\n",
              "      margin-bottom: 4px;\n",
              "    }\n",
              "\n",
              "    [theme=dark] .colab-df-convert {\n",
              "      background-color: #3B4455;\n",
              "      fill: #D2E3FC;\n",
              "    }\n",
              "\n",
              "    [theme=dark] .colab-df-convert:hover {\n",
              "      background-color: #434B5C;\n",
              "      box-shadow: 0px 1px 3px 1px rgba(0, 0, 0, 0.15);\n",
              "      filter: drop-shadow(0px 1px 2px rgba(0, 0, 0, 0.3));\n",
              "      fill: #FFFFFF;\n",
              "    }\n",
              "  </style>\n",
              "\n",
              "    <script>\n",
              "      const buttonEl =\n",
              "        document.querySelector('#df-07c42ec6-98d9-4107-8f4d-150a51aff30f button.colab-df-convert');\n",
              "      buttonEl.style.display =\n",
              "        google.colab.kernel.accessAllowed ? 'block' : 'none';\n",
              "\n",
              "      async function convertToInteractive(key) {\n",
              "        const element = document.querySelector('#df-07c42ec6-98d9-4107-8f4d-150a51aff30f');\n",
              "        const dataTable =\n",
              "          await google.colab.kernel.invokeFunction('convertToInteractive',\n",
              "                                                    [key], {});\n",
              "        if (!dataTable) return;\n",
              "\n",
              "        const docLinkHtml = 'Like what you see? Visit the ' +\n",
              "          '<a target=\"_blank\" href=https://colab.research.google.com/notebooks/data_table.ipynb>data table notebook</a>'\n",
              "          + ' to learn more about interactive tables.';\n",
              "        element.innerHTML = '';\n",
              "        dataTable['output_type'] = 'display_data';\n",
              "        await google.colab.output.renderOutput(dataTable, element);\n",
              "        const docLink = document.createElement('div');\n",
              "        docLink.innerHTML = docLinkHtml;\n",
              "        element.appendChild(docLink);\n",
              "      }\n",
              "    </script>\n",
              "  </div>\n",
              "\n",
              "\n",
              "<div id=\"df-add2fa07-f534-419c-b242-4b03df3c7b37\">\n",
              "  <button class=\"colab-df-quickchart\" onclick=\"quickchart('df-add2fa07-f534-419c-b242-4b03df3c7b37')\"\n",
              "            title=\"Suggest charts\"\n",
              "            style=\"display:none;\">\n",
              "\n",
              "<svg xmlns=\"http://www.w3.org/2000/svg\" height=\"24px\"viewBox=\"0 0 24 24\"\n",
              "     width=\"24px\">\n",
              "    <g>\n",
              "        <path d=\"M19 3H5c-1.1 0-2 .9-2 2v14c0 1.1.9 2 2 2h14c1.1 0 2-.9 2-2V5c0-1.1-.9-2-2-2zM9 17H7v-7h2v7zm4 0h-2V7h2v10zm4 0h-2v-4h2v4z\"/>\n",
              "    </g>\n",
              "</svg>\n",
              "  </button>\n",
              "\n",
              "<style>\n",
              "  .colab-df-quickchart {\n",
              "      --bg-color: #E8F0FE;\n",
              "      --fill-color: #1967D2;\n",
              "      --hover-bg-color: #E2EBFA;\n",
              "      --hover-fill-color: #174EA6;\n",
              "      --disabled-fill-color: #AAA;\n",
              "      --disabled-bg-color: #DDD;\n",
              "  }\n",
              "\n",
              "  [theme=dark] .colab-df-quickchart {\n",
              "      --bg-color: #3B4455;\n",
              "      --fill-color: #D2E3FC;\n",
              "      --hover-bg-color: #434B5C;\n",
              "      --hover-fill-color: #FFFFFF;\n",
              "      --disabled-bg-color: #3B4455;\n",
              "      --disabled-fill-color: #666;\n",
              "  }\n",
              "\n",
              "  .colab-df-quickchart {\n",
              "    background-color: var(--bg-color);\n",
              "    border: none;\n",
              "    border-radius: 50%;\n",
              "    cursor: pointer;\n",
              "    display: none;\n",
              "    fill: var(--fill-color);\n",
              "    height: 32px;\n",
              "    padding: 0;\n",
              "    width: 32px;\n",
              "  }\n",
              "\n",
              "  .colab-df-quickchart:hover {\n",
              "    background-color: var(--hover-bg-color);\n",
              "    box-shadow: 0 1px 2px rgba(60, 64, 67, 0.3), 0 1px 3px 1px rgba(60, 64, 67, 0.15);\n",
              "    fill: var(--button-hover-fill-color);\n",
              "  }\n",
              "\n",
              "  .colab-df-quickchart-complete:disabled,\n",
              "  .colab-df-quickchart-complete:disabled:hover {\n",
              "    background-color: var(--disabled-bg-color);\n",
              "    fill: var(--disabled-fill-color);\n",
              "    box-shadow: none;\n",
              "  }\n",
              "\n",
              "  .colab-df-spinner {\n",
              "    border: 2px solid var(--fill-color);\n",
              "    border-color: transparent;\n",
              "    border-bottom-color: var(--fill-color);\n",
              "    animation:\n",
              "      spin 1s steps(1) infinite;\n",
              "  }\n",
              "\n",
              "  @keyframes spin {\n",
              "    0% {\n",
              "      border-color: transparent;\n",
              "      border-bottom-color: var(--fill-color);\n",
              "      border-left-color: var(--fill-color);\n",
              "    }\n",
              "    20% {\n",
              "      border-color: transparent;\n",
              "      border-left-color: var(--fill-color);\n",
              "      border-top-color: var(--fill-color);\n",
              "    }\n",
              "    30% {\n",
              "      border-color: transparent;\n",
              "      border-left-color: var(--fill-color);\n",
              "      border-top-color: var(--fill-color);\n",
              "      border-right-color: var(--fill-color);\n",
              "    }\n",
              "    40% {\n",
              "      border-color: transparent;\n",
              "      border-right-color: var(--fill-color);\n",
              "      border-top-color: var(--fill-color);\n",
              "    }\n",
              "    60% {\n",
              "      border-color: transparent;\n",
              "      border-right-color: var(--fill-color);\n",
              "    }\n",
              "    80% {\n",
              "      border-color: transparent;\n",
              "      border-right-color: var(--fill-color);\n",
              "      border-bottom-color: var(--fill-color);\n",
              "    }\n",
              "    90% {\n",
              "      border-color: transparent;\n",
              "      border-bottom-color: var(--fill-color);\n",
              "    }\n",
              "  }\n",
              "</style>\n",
              "\n",
              "  <script>\n",
              "    async function quickchart(key) {\n",
              "      const quickchartButtonEl =\n",
              "        document.querySelector('#' + key + ' button');\n",
              "      quickchartButtonEl.disabled = true;  // To prevent multiple clicks.\n",
              "      quickchartButtonEl.classList.add('colab-df-spinner');\n",
              "      try {\n",
              "        const charts = await google.colab.kernel.invokeFunction(\n",
              "            'suggestCharts', [key], {});\n",
              "      } catch (error) {\n",
              "        console.error('Error during call to suggestCharts:', error);\n",
              "      }\n",
              "      quickchartButtonEl.classList.remove('colab-df-spinner');\n",
              "      quickchartButtonEl.classList.add('colab-df-quickchart-complete');\n",
              "    }\n",
              "    (() => {\n",
              "      let quickchartButtonEl =\n",
              "        document.querySelector('#df-add2fa07-f534-419c-b242-4b03df3c7b37 button');\n",
              "      quickchartButtonEl.style.display =\n",
              "        google.colab.kernel.accessAllowed ? 'block' : 'none';\n",
              "    })();\n",
              "  </script>\n",
              "</div>\n",
              "\n",
              "  <div id=\"id_2f57da1b-50ff-4474-be3e-40496c96d0df\">\n",
              "    <style>\n",
              "      .colab-df-generate {\n",
              "        background-color: #E8F0FE;\n",
              "        border: none;\n",
              "        border-radius: 50%;\n",
              "        cursor: pointer;\n",
              "        display: none;\n",
              "        fill: #1967D2;\n",
              "        height: 32px;\n",
              "        padding: 0 0 0 0;\n",
              "        width: 32px;\n",
              "      }\n",
              "\n",
              "      .colab-df-generate:hover {\n",
              "        background-color: #E2EBFA;\n",
              "        box-shadow: 0px 1px 2px rgba(60, 64, 67, 0.3), 0px 1px 3px 1px rgba(60, 64, 67, 0.15);\n",
              "        fill: #174EA6;\n",
              "      }\n",
              "\n",
              "      [theme=dark] .colab-df-generate {\n",
              "        background-color: #3B4455;\n",
              "        fill: #D2E3FC;\n",
              "      }\n",
              "\n",
              "      [theme=dark] .colab-df-generate:hover {\n",
              "        background-color: #434B5C;\n",
              "        box-shadow: 0px 1px 3px 1px rgba(0, 0, 0, 0.15);\n",
              "        filter: drop-shadow(0px 1px 2px rgba(0, 0, 0, 0.3));\n",
              "        fill: #FFFFFF;\n",
              "      }\n",
              "    </style>\n",
              "    <button class=\"colab-df-generate\" onclick=\"generateWithVariable('df')\"\n",
              "            title=\"Generate code using this dataframe.\"\n",
              "            style=\"display:none;\">\n",
              "\n",
              "  <svg xmlns=\"http://www.w3.org/2000/svg\" height=\"24px\"viewBox=\"0 0 24 24\"\n",
              "       width=\"24px\">\n",
              "    <path d=\"M7,19H8.4L18.45,9,17,7.55,7,17.6ZM5,21V16.75L18.45,3.32a2,2,0,0,1,2.83,0l1.4,1.43a1.91,1.91,0,0,1,.58,1.4,1.91,1.91,0,0,1-.58,1.4L9.25,21ZM18.45,9,17,7.55Zm-12,3A5.31,5.31,0,0,0,4.9,8.1,5.31,5.31,0,0,0,1,6.5,5.31,5.31,0,0,0,4.9,4.9,5.31,5.31,0,0,0,6.5,1,5.31,5.31,0,0,0,8.1,4.9,5.31,5.31,0,0,0,12,6.5,5.46,5.46,0,0,0,6.5,12Z\"/>\n",
              "  </svg>\n",
              "    </button>\n",
              "    <script>\n",
              "      (() => {\n",
              "      const buttonEl =\n",
              "        document.querySelector('#id_2f57da1b-50ff-4474-be3e-40496c96d0df button.colab-df-generate');\n",
              "      buttonEl.style.display =\n",
              "        google.colab.kernel.accessAllowed ? 'block' : 'none';\n",
              "\n",
              "      buttonEl.onclick = () => {\n",
              "        google.colab.notebook.generateWithVariable('df');\n",
              "      }\n",
              "      })();\n",
              "    </script>\n",
              "  </div>\n",
              "\n",
              "    </div>\n",
              "  </div>\n"
            ]
          },
          "metadata": {},
          "execution_count": 70
        }
      ]
    },
    {
      "cell_type": "code",
      "source": [
        "import seaborn as sn\n",
        "confusion_matrix = pd.crosstab(act, pred, rownames=['Actual'], colnames = ['Predicted'], margins = True)\n",
        "plt.figure(figsize=(8, 6))\n",
        "sn.heatmap(confusion_matrix, annot=True,  cmap=\"Blues\", fmt='g')\n",
        "plt.title('Second scenario, confusion matrix (GAT) for the test data')\n",
        "plt.show()"
      ],
      "metadata": {
        "colab": {
          "base_uri": "https://localhost:8080/",
          "height": 564
        },
        "id": "3hnYg0m13BfR",
        "outputId": "29208399-9c87-4dd1-ae1d-3ca0e4a2ffca"
      },
      "execution_count": 71,
      "outputs": [
        {
          "output_type": "display_data",
          "data": {
            "text/plain": [
              "<Figure size 800x600 with 2 Axes>"
            ],
            "image/png": "[encoded data removed]"
          },
          "metadata": {}
        }
      ]
    },
    {
      "cell_type": "code",
      "source": [
        "import torch\n",
        "import numpy as np\n",
        "from sklearn.metrics import roc_auc_score, f1_score, recall_score\n",
        "# Assuming these are your predicted and true labels in PyTorch tensors\n",
        "y_pred = pred_t\n",
        "y_true = Data[\"y\"]\n",
        "\n",
        "# Convert predicted and true labels to NumPy arrays\n",
        "out = model(Data[\"x\"], Data[\"edge_index\"])\n",
        "pred = out.argmax(dim = 1)\n",
        "y_pred_np = pred[Data[\"test_mask\"]]\n",
        "\n",
        "y_true_np = Data[\"y\"][Data[\"test_mask\"]]\n",
        "# Calculate F-score and recall per class\n",
        "f_score = f1_score(y_true_np, y_pred_np, average='macro')\n",
        "recall = recall_score(y_true_np, y_pred_np, average='macro')\n",
        "\n",
        "print(f'F-score: {f_score:.3f}')\n",
        "print(f'Recall: {recall:.3f}')"
      ],
      "metadata": {
        "id": "cI-9i4pmSIVD",
        "colab": {
          "base_uri": "https://localhost:8080/"
        },
        "outputId": "d73e073b-3252-427b-8ccf-443082806855"
      },
      "execution_count": 72,
      "outputs": [
        {
          "output_type": "stream",
          "name": "stdout",
          "text": [
            "F-score: 0.773\n",
            "Recall: 0.800\n"
          ]
        }
      ]
    },
    {
      "cell_type": "code",
      "source": [
        "from sklearn.metrics import cohen_kappa_score\n",
        "\n",
        "# Assuming y_true is your true labels and y_pred is predicted labels\n",
        "# y_true: true class labels (shape: [n_samples])\n",
        "# y_pred: predicted class labels (shape: [n_samples])\n",
        "\n",
        "# Calculate Cohen's Kappa\n",
        "kappa = cohen_kappa_score(y_true_np, y_pred_np)\n",
        "\n",
        "print(f'Cohen\\'s Kappa: {kappa:.3f}')"
      ],
      "metadata": {
        "colab": {
          "base_uri": "https://localhost:8080/"
        },
        "id": "_wo-s7SdjICu",
        "outputId": "9f3ca2be-52ea-4112-c6c6-d92377f97753"
      },
      "execution_count": 73,
      "outputs": [
        {
          "output_type": "stream",
          "name": "stdout",
          "text": [
            "Cohen's Kappa: 0.750\n"
          ]
        }
      ]
    },
    {
      "cell_type": "code",
      "source": [
        "from sklearn.metrics import precision_score\n",
        "average_precision = precision_score(y_true_np, y_pred_np, average='macro')\n",
        "print(f'Average Precision: {average_precision:.3f}')"
      ],
      "metadata": {
        "colab": {
          "base_uri": "https://localhost:8080/"
        },
        "id": "kLvIzaqVjKQy",
        "outputId": "a68d7248-a63d-4bef-c702-9fdc2a940bef"
      },
      "execution_count": 74,
      "outputs": [
        {
          "output_type": "stream",
          "name": "stdout",
          "text": [
            "Average Precision: 0.853\n"
          ]
        }
      ]
    }
  ]
}
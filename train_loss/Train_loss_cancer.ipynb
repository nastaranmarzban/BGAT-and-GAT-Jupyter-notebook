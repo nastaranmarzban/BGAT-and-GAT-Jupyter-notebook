{
  "nbformat": 4,
  "nbformat_minor": 0,
  "metadata": {
    "colab": {
      "provenance": []
    },
    "kernelspec": {
      "name": "python3",
      "display_name": "Python 3"
    },
    "language_info": {
      "name": "python"
    }
  },
  "cells": [
    {
      "cell_type": "markdown",
      "source": [
        "## Mount to gdrive to read data, adjacency matrix, p_link and labels. "
      ],
      "metadata": {
        "id": "2u2_tDSmOVz2"
      }
    },
    {
      "cell_type": "code",
      "execution_count": null,
      "metadata": {
        "colab": {
          "base_uri": "https://localhost:8080/"
        },
        "id": "ZtqKkhhMec_7",
        "outputId": "087f8e38-e957-4340-b37a-8e74f63d0c46"
      },
      "outputs": [
        {
          "output_type": "stream",
          "name": "stdout",
          "text": [
            "Mounted at /gdrive\n"
          ]
        }
      ],
      "source": [
        "from google.colab import drive\n",
        "drive.mount('/gdrive')"
      ]
    },
    {
      "cell_type": "markdown",
      "source": [
        "# Install pandas to read csv files from gdrive. Install torch and numpy which are packages that are needed durind coding."
      ],
      "metadata": {
        "id": "J2RAEkgGOeNG"
      }
    },
    {
      "cell_type": "code",
      "source": [
        "!pip install pandas\n",
        "import pandas as pd\n",
        "import torch\n",
        "import numpy as np"
      ],
      "metadata": {
        "colab": {
          "base_uri": "https://localhost:8080/"
        },
        "id": "_DCS47CeemPc",
        "outputId": "bab9da2a-dc1d-4afb-fd3e-00582b1bb686"
      },
      "execution_count": null,
      "outputs": [
        {
          "output_type": "stream",
          "name": "stdout",
          "text": [
            "Looking in indexes: https://pypi.org/simple, https://us-python.pkg.dev/colab-wheels/public/simple/\n",
            "Requirement already satisfied: pandas in /usr/local/lib/python3.8/dist-packages (1.3.5)\n",
            "Requirement already satisfied: pytz>=2017.3 in /usr/local/lib/python3.8/dist-packages (from pandas) (2022.6)\n",
            "Requirement already satisfied: numpy>=1.17.3 in /usr/local/lib/python3.8/dist-packages (from pandas) (1.21.6)\n",
            "Requirement already satisfied: python-dateutil>=2.7.3 in /usr/local/lib/python3.8/dist-packages (from pandas) (2.8.2)\n",
            "Requirement already satisfied: six>=1.5 in /usr/local/lib/python3.8/dist-packages (from python-dateutil>=2.7.3->pandas) (1.15.0)\n"
          ]
        }
      ]
    },
    {
      "cell_type": "markdown",
      "source": [
        "# Load data which are processed in preprocessing_data_cancer.ipynb file."
      ],
      "metadata": {
        "id": "SBpOh_OROpi_"
      }
    },
    {
      "cell_type": "code",
      "source": [
        "path = F\"/gdrive/MyDrive/Cancer/cancer.pt\"\n",
        "Data = torch.load(path)\n",
        "Data"
      ],
      "metadata": {
        "colab": {
          "base_uri": "https://localhost:8080/"
        },
        "id": "zXVSW1eveo1m",
        "outputId": "722c3884-4c2b-4768-ea14-2815453bd5b3"
      },
      "execution_count": null,
      "outputs": [
        {
          "output_type": "execute_result",
          "data": {
            "text/plain": [
              "{'x': tensor([[1.7990e+01, 1.0380e+01, 1.2280e+02,  ..., 2.6540e-01, 4.6010e-01,\n",
              "          1.1890e-01],\n",
              "         [2.0570e+01, 1.7770e+01, 1.3290e+02,  ..., 1.8600e-01, 2.7500e-01,\n",
              "          8.9020e-02],\n",
              "         [1.9690e+01, 2.1250e+01, 1.3000e+02,  ..., 2.4300e-01, 3.6130e-01,\n",
              "          8.7580e-02],\n",
              "         ...,\n",
              "         [1.3030e+01, 1.8420e+01, 8.2610e+01,  ..., 5.0130e-02, 1.9870e-01,\n",
              "          6.1690e-02],\n",
              "         [1.3080e+01, 1.5710e+01, 8.5630e+01,  ..., 7.2830e-02, 3.1840e-01,\n",
              "          8.1830e-02],\n",
              "         [9.5040e+00, 1.2440e+01, 6.0340e+01,  ..., 6.2270e-02, 2.4500e-01,\n",
              "          7.7730e-02]]), 'edge_index': tensor([[ 0,  0,  0,  ..., 79, 79, 79],\n",
              "         [ 2,  3,  4,  ..., 72, 74, 76]]), 'y': tensor([0, 0, 0, 0, 0, 0, 0, 0, 0, 0, 0, 0, 0, 0, 0, 0, 0, 0, 0, 0, 0, 0, 0, 0,\n",
              "         0, 0, 0, 0, 0, 0, 0, 0, 0, 0, 0, 0, 0, 0, 0, 0, 1, 1, 1, 1, 1, 1, 1, 1,\n",
              "         1, 1, 1, 1, 1, 1, 1, 1, 1, 1, 1, 1, 1, 1, 1, 1, 1, 1, 1, 1, 1, 1, 1, 1,\n",
              "         1, 1, 1, 1, 1, 1, 1, 1]), 'train_mask': tensor([False, False,  True, False,  True, False, False, False, False, False,\n",
              "          True,  True, False, False, False,  True, False, False, False, False,\n",
              "         False, False,  True, False, False,  True, False,  True, False,  True,\n",
              "          True, False, False, False, False, False, False, False, False,  True,\n",
              "         False, False,  True,  True, False, False, False, False, False, False,\n",
              "         False, False, False, False,  True, False,  True, False, False, False,\n",
              "         False, False,  True, False,  True,  True,  True, False, False, False,\n",
              "         False, False, False, False,  True, False,  True, False,  True, False]), 'val_mask': tensor([False, False, False, False, False, False, False, False, False, False,\n",
              "         False, False, False, False, False, False, False, False,  True, False,\n",
              "          True, False, False, False, False, False, False, False,  True, False,\n",
              "         False, False, False, False, False,  True, False,  True, False, False,\n",
              "         False, False, False, False, False, False, False, False, False, False,\n",
              "         False, False,  True,  True, False, False, False, False,  True, False,\n",
              "         False, False, False, False, False, False, False,  True, False, False,\n",
              "         False, False, False,  True, False, False, False, False, False, False]), 'test_mask': tensor([ True,  True, False,  True, False,  True,  True,  True,  True,  True,\n",
              "         False, False,  True,  True,  True, False,  True,  True, False,  True,\n",
              "         False,  True, False,  True,  True, False,  True, False, False, False,\n",
              "         False,  True,  True,  True,  True, False,  True, False,  True, False,\n",
              "          True,  True, False, False,  True,  True,  True,  True,  True,  True,\n",
              "          True,  True, False, False, False,  True, False,  True, False,  True,\n",
              "          True,  True, False,  True, False, False, False, False,  True,  True,\n",
              "          True,  True,  True, False, False,  True, False,  True, False,  True])}"
            ]
          },
          "metadata": {},
          "execution_count": 3
        }
      ]
    },
    {
      "cell_type": "code",
      "source": [
        "path = F\"/gdrive/MyDrive/Cancer/p_links_cancer.pt\"\n",
        "p_link = torch.load(path)\n",
        "print(p_link.size())\n",
        "print(p_link.dtype)\n",
        "print(p_link.type())"
      ],
      "metadata": {
        "colab": {
          "base_uri": "https://localhost:8080/"
        },
        "id": "A_xN_Thqewd5",
        "outputId": "35c238eb-d5ad-4583-d4f1-6cf7e0c5141d"
      },
      "execution_count": null,
      "outputs": [
        {
          "output_type": "stream",
          "name": "stdout",
          "text": [
            "torch.Size([80, 80])\n",
            "torch.float32\n",
            "torch.FloatTensor\n"
          ]
        }
      ]
    },
    {
      "cell_type": "markdown",
      "source": [
        "# Install torch_geometic."
      ],
      "metadata": {
        "id": "S6zPBPzPPGXX"
      }
    },
    {
      "cell_type": "code",
      "source": [
        "import os\n",
        "os.environ['TORCH'] = torch.__version__\n",
        "print(torch.__version__)\n",
        "\n",
        "!pip install -q torch-scatter -f https://data.pyg.org/whl/torch-${TORCH}.html\n",
        "!pip install -q torch-sparse -f https://data.pyg.org/whl/torch-${TORCH}.html\n",
        "!pip install -q git+https://github.com/pyg-team/pytorch_geometric.git"
      ],
      "metadata": {
        "colab": {
          "base_uri": "https://localhost:8080/"
        },
        "id": "NM3FXiW_fJfo",
        "outputId": "4837dc34-e4cd-463b-ed14-f3e3403f949d"
      },
      "execution_count": null,
      "outputs": [
        {
          "output_type": "stream",
          "name": "stdout",
          "text": [
            "1.13.0+cu116\n",
            "\u001b[K     |████████████████████████████████| 9.4 MB 8.0 MB/s \n",
            "\u001b[K     |████████████████████████████████| 4.6 MB 8.4 MB/s \n",
            "\u001b[K     |████████████████████████████████| 280 kB 8.7 MB/s \n",
            "\u001b[?25h  Building wheel for torch-geometric (setup.py) ... \u001b[?25l\u001b[?25hdone\n"
          ]
        }
      ]
    },
    {
      "cell_type": "markdown",
      "source": [
        "# Create BGAT and GAT layers. "
      ],
      "metadata": {
        "id": "62OacUI0PNR3"
      }
    },
    {
      "cell_type": "code",
      "source": [
        "from torch_geometric.nn import MessagePassing\n",
        "import torch_geometric.nn\n",
        "import torch.nn.functional as F\n",
        "from torch_geometric.utils import add_self_loops\n",
        "from torch_geometric.nn import GATConv"
      ],
      "metadata": {
        "id": "WT2iDYEtfM6X"
      },
      "execution_count": null,
      "outputs": []
    },
    {
      "cell_type": "code",
      "source": [
        "class BGATConv(MessagePassing):\n",
        "    def __init__(\n",
        "        self,\n",
        "        in_channels,\n",
        "        out_channels,\n",
        "        **kwargs,\n",
        "    ):\n",
        "        kwargs.setdefault('aggr', 'add')\n",
        "        super().__init__(node_dim = 0, **kwargs)\n",
        "        self.in_channels = in_channels\n",
        "        self.out_channels = out_channels\n",
        "        self.lin = torch.nn.Linear(in_channels, out_channels)\n",
        "\n",
        "    def forward(self, x, edge_index):\n",
        "        edge_index, _ = add_self_loops(Data[\"edge_index\"], num_nodes = Data[\"x\"].size(0))\n",
        "        x = self.lin(x)\n",
        "        atten = p_link\n",
        "        return self.propagate(edge_index, x=x, atten = atten)\n",
        "\n",
        "    def message(self, x_j, atten, edge_index_i, edge_index_j):\n",
        "        return atten[edge_index_i, edge_index_j].reshape(-1,1) * x_j\n",
        "\n",
        "    def __repr__(self):\n",
        "        return '{}({}, {})'.format(self.__class__.__name__, self.in_channels, self.out_channels)"
      ],
      "metadata": {
        "id": "NaQQHerIfQ0e"
      },
      "execution_count": null,
      "outputs": []
    },
    {
      "cell_type": "code",
      "source": [
        "class Myconv_BGAT(torch.nn.Module):\n",
        "    def __init__(self):\n",
        "        super().__init__()\n",
        "        torch.manual_seed(2)\n",
        "        self.conv1 = BGATConv(in_channels = 30, out_channels = 15)\n",
        "        self.conv2 =  BGATConv(15, 2)\n",
        "        \n",
        "    def forward(self, x, edge_index):\n",
        "        h = self.conv1(x, edge_index)\n",
        "        h = F.torch.tanh(h)\n",
        "        h = self.conv2(h, edge_index)\n",
        "        h = F.log_softmax(h)\n",
        "        return h\n",
        "        \n",
        "model_BGAT = Myconv_BGAT()\n",
        "print(model_BGAT)\n",
        "print(model_BGAT.forward(Data[\"x\"], Data[\"edge_index\"]))"
      ],
      "metadata": {
        "colab": {
          "base_uri": "https://localhost:8080/"
        },
        "id": "i8VSb94MfUHH",
        "outputId": "a2312aff-5590-4bc7-bbc3-11d6940ab2a4"
      },
      "execution_count": null,
      "outputs": [
        {
          "output_type": "stream",
          "name": "stdout",
          "text": [
            "Myconv_BGAT(\n",
            "  (conv1): BGATConv(30, 15)\n",
            "  (conv2): BGATConv(15, 2)\n",
            ")\n",
            "tensor([[-5.8928e+00, -2.7629e-03],\n",
            "        [-6.2349e+00, -1.9617e-03],\n",
            "        [-5.5977e+00, -3.7133e-03],\n",
            "        [-5.5730e+00, -3.8061e-03],\n",
            "        [-3.9700e+00, -1.9054e-02],\n",
            "        [-4.8565e+00, -7.8078e-03],\n",
            "        [-6.3340e+00, -1.7764e-03],\n",
            "        [-6.5407e+00, -1.4446e-03],\n",
            "        [-5.6902e+00, -3.3845e-03],\n",
            "        [-5.2904e+00, -5.0525e-03],\n",
            "        [-6.6747e+00, -1.2633e-03],\n",
            "        [-6.8860e+00, -1.0225e-03],\n",
            "        [-4.6494e+00, -9.6129e-03],\n",
            "        [-4.3784e+00, -1.2625e-02],\n",
            "        [-6.3528e+00, -1.7433e-03],\n",
            "        [-6.0144e+00, -2.4463e-03],\n",
            "        [-5.7492e+00, -3.1905e-03],\n",
            "        [-5.3906e+00, -4.5698e-03],\n",
            "        [-2.9897e+00, -5.1612e-02],\n",
            "        [-7.3064e+00, -6.7152e-04],\n",
            "        [-7.0723e+00, -8.4865e-04],\n",
            "        [-5.3999e+00, -4.5273e-03],\n",
            "        [-6.2035e+00, -2.0243e-03],\n",
            "        [-6.8066e+00, -1.1071e-03],\n",
            "        [-6.6792e+00, -1.2576e-03],\n",
            "        [-7.2586e+00, -7.0428e-04],\n",
            "        [-3.1390e+00, -4.4295e-02],\n",
            "        [-4.9486e+00, -7.1185e-03],\n",
            "        [-6.0178e+00, -2.4380e-03],\n",
            "        [-4.2690e+00, -1.4094e-02],\n",
            "        [-7.1542e+00, -7.8183e-04],\n",
            "        [-7.3655e+00, -6.3292e-04],\n",
            "        [-4.5126e+00, -1.1030e-02],\n",
            "        [-7.0823e+00, -8.4019e-04],\n",
            "        [-2.4236e+00, -9.2771e-02],\n",
            "        [-6.1994e+00, -2.0328e-03],\n",
            "        [-7.9144e+00, -3.6555e-04],\n",
            "        [-4.8018e+00, -8.2487e-03],\n",
            "        [-6.6140e+00, -1.3423e-03],\n",
            "        [-7.2654e+00, -6.9951e-04],\n",
            "        [-3.4357e+00, -3.2734e-02],\n",
            "        [-5.2732e+00, -5.1405e-03],\n",
            "        [-4.1446e+00, -1.5977e-02],\n",
            "        [-7.7225e+00, -4.4288e-04],\n",
            "        [-5.4440e+00, -4.3317e-03],\n",
            "        [-6.6199e+00, -1.3345e-03],\n",
            "        [-6.6428e+00, -1.3041e-03],\n",
            "        [-3.6934e+00, -2.5201e-02],\n",
            "        [-3.5118e+00, -3.0297e-02],\n",
            "        [-5.3416e+00, -4.7999e-03],\n",
            "        [-5.8156e+00, -2.9852e-03],\n",
            "        [-5.3097e+00, -4.9555e-03],\n",
            "        [-5.4658e+00, -4.2378e-03],\n",
            "        [-5.5847e+00, -3.7620e-03],\n",
            "        [-4.6889e+00, -9.2398e-03],\n",
            "        [-8.8120e+00, -1.4900e-04],\n",
            "        [-8.5314e+00, -1.9715e-04],\n",
            "        [-5.5288e+00, -3.9786e-03],\n",
            "        [-3.4525e+00, -3.2178e-02],\n",
            "        [-5.5740e+00, -3.8025e-03],\n",
            "        [-5.5637e+00, -3.8418e-03],\n",
            "        [-6.9040e+00, -1.0043e-03],\n",
            "        [-4.3241e+00, -1.3334e-02],\n",
            "        [-4.3995e+00, -1.2359e-02],\n",
            "        [-5.7040e+00, -3.3381e-03],\n",
            "        [-8.4931e+00, -2.0490e-04],\n",
            "        [-5.4031e+00, -4.5126e-03],\n",
            "        [-6.0171e+00, -2.4397e-03],\n",
            "        [-4.8123e+00, -8.1620e-03],\n",
            "        [-2.5719e+00, -7.9468e-02],\n",
            "        [-5.6762e+00, -3.4326e-03],\n",
            "        [-2.4232e+00, -9.2814e-02],\n",
            "        [-6.4859e+00, -1.5260e-03],\n",
            "        [-7.5738e+00, -5.1390e-04],\n",
            "        [-3.1442e+00, -4.4056e-02],\n",
            "        [-4.4286e+00, -1.2003e-02],\n",
            "        [-6.5660e+00, -1.4084e-03],\n",
            "        [-4.8862e+00, -7.5788e-03],\n",
            "        [-6.7863e+00, -1.1297e-03],\n",
            "        [-8.5275e+00, -1.9799e-04]], grad_fn=<LogSoftmaxBackward0>)\n"
          ]
        },
        {
          "output_type": "stream",
          "name": "stderr",
          "text": [
            "<ipython-input-8-b75922bbf427>:12: UserWarning: Implicit dimension choice for log_softmax has been deprecated. Change the call to include dim=X as an argument.\n",
            "  h = F.log_softmax(h)\n"
          ]
        }
      ]
    },
    {
      "cell_type": "code",
      "source": [
        "class Myconv_GAT(torch.nn.Module):\n",
        "    def __init__(self):\n",
        "        super().__init__()\n",
        "        torch.manual_seed(2)\n",
        "        self.conv1 = GATConv(in_channels = 30, out_channels = 30)\n",
        "        self.conv2 =  GATConv(30, 10)\n",
        "        self.conv3 =  GATConv(10, 2)\n",
        "        \n",
        "\n",
        "    def forward(self, x, edge_index):\n",
        "        f = self.conv1(x, edge_index)\n",
        "        f = F.torch.tanh(f)\n",
        "        f = self.conv2(f, edge_index)\n",
        "        f = F.torch.tanh(f)\n",
        "        f = self.conv3(f, edge_index)# Final GNN embedding space.\n",
        "        f = F.torch.tanh(f)\n",
        "        return f\n",
        "        \n",
        "\n",
        "model_GAT = Myconv_GAT()\n",
        "print(model_GAT)\n",
        "print(model_GAT.forward(Data[\"x\"], Data[\"edge_index\"]))"
      ],
      "metadata": {
        "colab": {
          "base_uri": "https://localhost:8080/"
        },
        "id": "B78_Dzbtfe8o",
        "outputId": "bba40d79-fd33-4178-a3bd-45cc82d12a66"
      },
      "execution_count": null,
      "outputs": [
        {
          "output_type": "stream",
          "name": "stdout",
          "text": [
            "Myconv_GAT(\n",
            "  (conv1): GATConv(30, 30, heads=1)\n",
            "  (conv2): GATConv(30, 10, heads=1)\n",
            "  (conv3): GATConv(10, 2, heads=1)\n",
            ")\n",
            "tensor([[ 0.9850, -0.3719],\n",
            "        [ 0.9852, -0.3369],\n",
            "        [ 0.9836, -0.3399],\n",
            "        [ 0.9850, -0.3725],\n",
            "        [ 0.9855, -0.3528],\n",
            "        [ 0.9839, -0.3196],\n",
            "        [ 0.9857, -0.3511],\n",
            "        [ 0.9849, -0.3387],\n",
            "        [ 0.9852, -0.3534],\n",
            "        [ 0.9844, -0.3152],\n",
            "        [ 0.9848, -0.3064],\n",
            "        [ 0.9853, -0.3682],\n",
            "        [ 0.9842, -0.2949],\n",
            "        [ 0.9850, -0.3705],\n",
            "        [ 0.9853, -0.3580],\n",
            "        [ 0.9846, -0.3157],\n",
            "        [ 0.9843, -0.3241],\n",
            "        [ 0.9846, -0.3457],\n",
            "        [ 0.9848, -0.3468],\n",
            "        [ 0.9848, -0.3366],\n",
            "        [ 0.9853, -0.3621],\n",
            "        [ 0.9854, -0.3462],\n",
            "        [ 0.9852, -0.3531],\n",
            "        [ 0.9845, -0.3353],\n",
            "        [ 0.9849, -0.3458],\n",
            "        [ 0.9851, -0.3621],\n",
            "        [ 0.9829, -0.2771],\n",
            "        [ 0.9860, -0.3540],\n",
            "        [ 0.9849, -0.3438],\n",
            "        [ 0.9857, -0.3436],\n",
            "        [ 0.9843, -0.3232],\n",
            "        [ 0.9853, -0.3633],\n",
            "        [ 0.9850, -0.3014],\n",
            "        [ 0.9851, -0.3457],\n",
            "        [ 0.9834, -0.2803],\n",
            "        [ 0.9843, -0.3411],\n",
            "        [ 0.9848, -0.3263],\n",
            "        [ 0.9853, -0.3233],\n",
            "        [ 0.9849, -0.3586],\n",
            "        [ 0.9851, -0.3421],\n",
            "        [ 0.9848, -0.3089],\n",
            "        [ 0.9845, -0.3037],\n",
            "        [ 0.9854, -0.3517],\n",
            "        [ 0.9838, -0.3099],\n",
            "        [ 0.9848, -0.3076],\n",
            "        [ 0.9844, -0.3351],\n",
            "        [ 0.9853, -0.3359],\n",
            "        [ 0.9830, -0.2967],\n",
            "        [ 0.9835, -0.3009],\n",
            "        [ 0.9852, -0.3406],\n",
            "        [ 0.9849, -0.3496],\n",
            "        [ 0.9851, -0.3212],\n",
            "        [ 0.9850, -0.3050],\n",
            "        [ 0.9846, -0.3378],\n",
            "        [ 0.9833, -0.2827],\n",
            "        [ 0.9848, -0.3646],\n",
            "        [ 0.9847, -0.3576],\n",
            "        [ 0.9848, -0.3361],\n",
            "        [ 0.9838, -0.3062],\n",
            "        [ 0.9847, -0.3463],\n",
            "        [ 0.9850, -0.3269],\n",
            "        [ 0.9840, -0.3019],\n",
            "        [ 0.9856, -0.3475],\n",
            "        [ 0.9859, -0.3293],\n",
            "        [ 0.9854, -0.3519],\n",
            "        [ 0.9841, -0.3296],\n",
            "        [ 0.9851, -0.3523],\n",
            "        [ 0.9842, -0.3395],\n",
            "        [ 0.9839, -0.2994],\n",
            "        [ 0.9835, -0.2918],\n",
            "        [ 0.9851, -0.3169],\n",
            "        [ 0.9833, -0.3218],\n",
            "        [ 0.9851, -0.3628],\n",
            "        [ 0.9854, -0.3506],\n",
            "        [ 0.9824, -0.2399],\n",
            "        [ 0.9857, -0.3724],\n",
            "        [ 0.9849, -0.3478],\n",
            "        [ 0.9851, -0.3539],\n",
            "        [ 0.9847, -0.3497],\n",
            "        [ 0.9850, -0.3106]], grad_fn=<TanhBackward0>)\n"
          ]
        }
      ]
    },
    {
      "cell_type": "markdown",
      "source": [
        "# Train BGAT and GAT models. "
      ],
      "metadata": {
        "id": "iLB3eFB9PdUZ"
      }
    },
    {
      "cell_type": "code",
      "source": [
        "model = Myconv_BGAT()\n",
        "criterion = torch.nn.CrossEntropyLoss()  # Define loss criterion.\n",
        "optimizer = torch.optim.Adam(model.parameters(),  lr = 0.0005)  # Define optimizer, an object for updating parameters\n",
        "#loss = loss + weight decay parameter * L2 norm of the weights, 1) To prevent overfitting 2) To keep the weights small and avoid exploding gradient\n",
        "\n",
        "def train_BGAT(Data):\n",
        "    model.train()\n",
        "    optimizer.zero_grad()  # Clear gradients.\n",
        "    out = model(Data[\"x\"], Data[\"edge_index\"])\n",
        "    train_loss_BGAT = criterion(out[Data[\"train_mask\"]], Data[\"y\"][Data[\"train_mask\"]])  # Compute the loss solely based on the training nodes.\n",
        "    train_loss_BGAT.backward()  # Derive gradients.\n",
        "    optimizer.step()  # Update parameters based on gradients.\n",
        "    return train_loss_BGAT\n",
        "\n",
        "train_loss_BGAT_ = []\n",
        "for epoch in range(1, 201):\n",
        "  epoch_train_lossBGAT = []\n",
        "  train_loss_BGAT = train_BGAT(Data)\n",
        "  epoch_train_lossBGAT.append(train_loss_BGAT.item())\n",
        "  train_loss_BGAT_.append(sum(epoch_train_lossBGAT)/len(epoch_train_lossBGAT))\n",
        "  print(f'Train_BGAT:  {train_loss_BGAT:.3f}') "
      ],
      "metadata": {
        "colab": {
          "base_uri": "https://localhost:8080/"
        },
        "id": "rwrfUrr-fqNP",
        "outputId": "71248928-72e4-4109-d776-d5b7f73ab52d"
      },
      "execution_count": null,
      "outputs": [
        {
          "output_type": "stream",
          "name": "stdout",
          "text": [
            "Train_BGAT:  3.015\n",
            "Train_BGAT:  1.955\n",
            "Train_BGAT:  1.004\n",
            "Train_BGAT:  0.650\n",
            "Train_BGAT:  0.660\n",
            "Train_BGAT:  0.701\n",
            "Train_BGAT:  0.699\n",
            "Train_BGAT:  0.747\n",
            "Train_BGAT:  0.736\n",
            "Train_BGAT:  0.705\n",
            "Train_BGAT:  0.697\n",
            "Train_BGAT:  0.686\n",
            "Train_BGAT:  0.664\n",
            "Train_BGAT:  0.648\n",
            "Train_BGAT:  0.641\n",
            "Train_BGAT:  0.639\n",
            "Train_BGAT:  0.637\n"
          ]
        },
        {
          "output_type": "stream",
          "name": "stderr",
          "text": [
            "<ipython-input-8-b75922bbf427>:12: UserWarning: Implicit dimension choice for log_softmax has been deprecated. Change the call to include dim=X as an argument.\n",
            "  h = F.log_softmax(h)\n"
          ]
        },
        {
          "output_type": "stream",
          "name": "stdout",
          "text": [
            "Train_BGAT:  0.640\n",
            "Train_BGAT:  0.640\n",
            "Train_BGAT:  0.636\n",
            "Train_BGAT:  0.624\n",
            "Train_BGAT:  0.620\n",
            "Train_BGAT:  0.620\n",
            "Train_BGAT:  0.619\n",
            "Train_BGAT:  0.616\n",
            "Train_BGAT:  0.607\n",
            "Train_BGAT:  0.603\n",
            "Train_BGAT:  0.601\n",
            "Train_BGAT:  0.599\n",
            "Train_BGAT:  0.600\n",
            "Train_BGAT:  0.600\n",
            "Train_BGAT:  0.600\n",
            "Train_BGAT:  0.600\n",
            "Train_BGAT:  0.599\n",
            "Train_BGAT:  0.598\n",
            "Train_BGAT:  0.596\n",
            "Train_BGAT:  0.596\n",
            "Train_BGAT:  0.595\n",
            "Train_BGAT:  0.594\n",
            "Train_BGAT:  0.593\n",
            "Train_BGAT:  0.592\n",
            "Train_BGAT:  0.590\n",
            "Train_BGAT:  0.589\n",
            "Train_BGAT:  0.588\n",
            "Train_BGAT:  0.586\n",
            "Train_BGAT:  0.585\n",
            "Train_BGAT:  0.584\n",
            "Train_BGAT:  0.583\n",
            "Train_BGAT:  0.582\n",
            "Train_BGAT:  0.581\n",
            "Train_BGAT:  0.580\n",
            "Train_BGAT:  0.579\n",
            "Train_BGAT:  0.577\n",
            "Train_BGAT:  0.574\n",
            "Train_BGAT:  0.572\n",
            "Train_BGAT:  0.571\n",
            "Train_BGAT:  0.570\n",
            "Train_BGAT:  0.569\n",
            "Train_BGAT:  0.569\n",
            "Train_BGAT:  0.568\n",
            "Train_BGAT:  0.568\n",
            "Train_BGAT:  0.567\n",
            "Train_BGAT:  0.565\n",
            "Train_BGAT:  0.564\n",
            "Train_BGAT:  0.563\n",
            "Train_BGAT:  0.562\n",
            "Train_BGAT:  0.561\n",
            "Train_BGAT:  0.560\n",
            "Train_BGAT:  0.559\n",
            "Train_BGAT:  0.559\n",
            "Train_BGAT:  0.558\n",
            "Train_BGAT:  0.557\n",
            "Train_BGAT:  0.556\n",
            "Train_BGAT:  0.555\n",
            "Train_BGAT:  0.554\n",
            "Train_BGAT:  0.554\n",
            "Train_BGAT:  0.553\n",
            "Train_BGAT:  0.552\n",
            "Train_BGAT:  0.552\n",
            "Train_BGAT:  0.551\n",
            "Train_BGAT:  0.550\n",
            "Train_BGAT:  0.549\n",
            "Train_BGAT:  0.549\n",
            "Train_BGAT:  0.548\n",
            "Train_BGAT:  0.547\n",
            "Train_BGAT:  0.547\n",
            "Train_BGAT:  0.546\n",
            "Train_BGAT:  0.545\n",
            "Train_BGAT:  0.544\n",
            "Train_BGAT:  0.544\n",
            "Train_BGAT:  0.543\n",
            "Train_BGAT:  0.543\n",
            "Train_BGAT:  0.542\n",
            "Train_BGAT:  0.541\n",
            "Train_BGAT:  0.541\n",
            "Train_BGAT:  0.540\n",
            "Train_BGAT:  0.539\n",
            "Train_BGAT:  0.539\n",
            "Train_BGAT:  0.538\n",
            "Train_BGAT:  0.538\n",
            "Train_BGAT:  0.537\n",
            "Train_BGAT:  0.537\n",
            "Train_BGAT:  0.536\n",
            "Train_BGAT:  0.535\n",
            "Train_BGAT:  0.535\n",
            "Train_BGAT:  0.534\n",
            "Train_BGAT:  0.534\n",
            "Train_BGAT:  0.533\n",
            "Train_BGAT:  0.533\n",
            "Train_BGAT:  0.532\n",
            "Train_BGAT:  0.532\n",
            "Train_BGAT:  0.531\n",
            "Train_BGAT:  0.531\n",
            "Train_BGAT:  0.530\n",
            "Train_BGAT:  0.530\n",
            "Train_BGAT:  0.529\n",
            "Train_BGAT:  0.529\n",
            "Train_BGAT:  0.528\n",
            "Train_BGAT:  0.528\n",
            "Train_BGAT:  0.527\n",
            "Train_BGAT:  0.527\n",
            "Train_BGAT:  0.526\n",
            "Train_BGAT:  0.526\n",
            "Train_BGAT:  0.525\n",
            "Train_BGAT:  0.525\n",
            "Train_BGAT:  0.525\n",
            "Train_BGAT:  0.524\n",
            "Train_BGAT:  0.524\n",
            "Train_BGAT:  0.523\n",
            "Train_BGAT:  0.523\n",
            "Train_BGAT:  0.523\n",
            "Train_BGAT:  0.522\n",
            "Train_BGAT:  0.522\n",
            "Train_BGAT:  0.521\n",
            "Train_BGAT:  0.521\n",
            "Train_BGAT:  0.521\n",
            "Train_BGAT:  0.520\n",
            "Train_BGAT:  0.520\n",
            "Train_BGAT:  0.519\n",
            "Train_BGAT:  0.519\n",
            "Train_BGAT:  0.519\n",
            "Train_BGAT:  0.518\n",
            "Train_BGAT:  0.518\n",
            "Train_BGAT:  0.518\n",
            "Train_BGAT:  0.517\n",
            "Train_BGAT:  0.517\n",
            "Train_BGAT:  0.517\n",
            "Train_BGAT:  0.516\n",
            "Train_BGAT:  0.516\n",
            "Train_BGAT:  0.516\n",
            "Train_BGAT:  0.515\n",
            "Train_BGAT:  0.515\n",
            "Train_BGAT:  0.515\n",
            "Train_BGAT:  0.514\n",
            "Train_BGAT:  0.514\n",
            "Train_BGAT:  0.514\n",
            "Train_BGAT:  0.514\n",
            "Train_BGAT:  0.513\n",
            "Train_BGAT:  0.513\n",
            "Train_BGAT:  0.513\n",
            "Train_BGAT:  0.512\n",
            "Train_BGAT:  0.512\n",
            "Train_BGAT:  0.512\n",
            "Train_BGAT:  0.512\n",
            "Train_BGAT:  0.511\n",
            "Train_BGAT:  0.511\n",
            "Train_BGAT:  0.511\n",
            "Train_BGAT:  0.511\n",
            "Train_BGAT:  0.510\n",
            "Train_BGAT:  0.510\n",
            "Train_BGAT:  0.510\n",
            "Train_BGAT:  0.510\n",
            "Train_BGAT:  0.509\n",
            "Train_BGAT:  0.509\n",
            "Train_BGAT:  0.509\n",
            "Train_BGAT:  0.509\n",
            "Train_BGAT:  0.508\n",
            "Train_BGAT:  0.508\n",
            "Train_BGAT:  0.508\n",
            "Train_BGAT:  0.508\n",
            "Train_BGAT:  0.508\n",
            "Train_BGAT:  0.507\n",
            "Train_BGAT:  0.507\n",
            "Train_BGAT:  0.507\n",
            "Train_BGAT:  0.507\n",
            "Train_BGAT:  0.507\n",
            "Train_BGAT:  0.506\n",
            "Train_BGAT:  0.506\n",
            "Train_BGAT:  0.506\n",
            "Train_BGAT:  0.506\n",
            "Train_BGAT:  0.506\n",
            "Train_BGAT:  0.505\n",
            "Train_BGAT:  0.505\n",
            "Train_BGAT:  0.505\n",
            "Train_BGAT:  0.505\n",
            "Train_BGAT:  0.505\n",
            "Train_BGAT:  0.504\n",
            "Train_BGAT:  0.504\n",
            "Train_BGAT:  0.504\n",
            "Train_BGAT:  0.504\n"
          ]
        }
      ]
    },
    {
      "cell_type": "code",
      "source": [
        "model = Myconv_GAT()\n",
        "criterion = torch.nn.CrossEntropyLoss()  # Define loss criterion.\n",
        "optimizer = torch.optim.Adam(model.parameters(),  lr = 0.0005, weight_decay = 5e-4)  # Define optimizer, an object for updating parameters\n",
        "#loss = loss + weight decay parameter * L2 norm of the weights, 1) To prevent overfitting 2) To keep the weights small and avoid exploding gradient\n",
        "\n",
        "def train_GAT(Data):\n",
        "    model.train()\n",
        "    optimizer.zero_grad()  # Clear gradients.\n",
        "    out = model(Data[\"x\"], Data[\"edge_index\"])\n",
        "    train_loss_GAT = criterion(out[Data[\"train_mask\"]], Data[\"y\"][Data[\"train_mask\"]])  # Compute the loss solely based on the training nodes.\n",
        "    train_loss_GAT.backward()  # Derive gradients.\n",
        "    optimizer.step()  # Update parameters based on gradients.\n",
        "    return train_loss_GAT\n",
        "\n",
        "train_loss_GAT_ = []\n",
        "for epoch in range(1, 201):\n",
        "  epoch_train_lossGAT = []\n",
        "  train_loss_GAT = train_GAT(Data)\n",
        "  epoch_train_lossGAT.append(train_loss_GAT.item())\n",
        "  train_loss_GAT_.append(sum(epoch_train_lossGAT)/len(epoch_train_lossGAT))\n",
        "  print(f'Train_GAT:  {train_loss_GAT:.3f}') "
      ],
      "metadata": {
        "colab": {
          "base_uri": "https://localhost:8080/"
        },
        "id": "KVlWYojlfsuq",
        "outputId": "d1eaf7c8-1d55-472b-9091-4a97139ef23f"
      },
      "execution_count": null,
      "outputs": [
        {
          "output_type": "stream",
          "name": "stdout",
          "text": [
            "Train_GAT:  0.894\n",
            "Train_GAT:  0.883\n",
            "Train_GAT:  0.874\n",
            "Train_GAT:  0.863\n",
            "Train_GAT:  0.850\n",
            "Train_GAT:  0.835\n",
            "Train_GAT:  0.823\n",
            "Train_GAT:  0.813\n",
            "Train_GAT:  0.802\n",
            "Train_GAT:  0.789\n",
            "Train_GAT:  0.776\n",
            "Train_GAT:  0.769\n",
            "Train_GAT:  0.762\n",
            "Train_GAT:  0.754\n",
            "Train_GAT:  0.747\n",
            "Train_GAT:  0.741\n",
            "Train_GAT:  0.736\n",
            "Train_GAT:  0.730\n",
            "Train_GAT:  0.724\n",
            "Train_GAT:  0.719\n",
            "Train_GAT:  0.715\n",
            "Train_GAT:  0.711\n",
            "Train_GAT:  0.708\n",
            "Train_GAT:  0.706\n",
            "Train_GAT:  0.703\n",
            "Train_GAT:  0.702\n",
            "Train_GAT:  0.700\n",
            "Train_GAT:  0.698\n",
            "Train_GAT:  0.697\n",
            "Train_GAT:  0.696\n",
            "Train_GAT:  0.694\n",
            "Train_GAT:  0.693\n",
            "Train_GAT:  0.692\n",
            "Train_GAT:  0.692\n",
            "Train_GAT:  0.691\n",
            "Train_GAT:  0.690\n",
            "Train_GAT:  0.689\n",
            "Train_GAT:  0.688\n",
            "Train_GAT:  0.687\n",
            "Train_GAT:  0.687\n",
            "Train_GAT:  0.686\n",
            "Train_GAT:  0.686\n",
            "Train_GAT:  0.686\n",
            "Train_GAT:  0.685\n",
            "Train_GAT:  0.685\n",
            "Train_GAT:  0.685\n",
            "Train_GAT:  0.685\n",
            "Train_GAT:  0.684\n",
            "Train_GAT:  0.684\n",
            "Train_GAT:  0.684\n",
            "Train_GAT:  0.684\n",
            "Train_GAT:  0.684\n",
            "Train_GAT:  0.684\n",
            "Train_GAT:  0.684\n",
            "Train_GAT:  0.683\n",
            "Train_GAT:  0.683\n",
            "Train_GAT:  0.683\n",
            "Train_GAT:  0.683\n",
            "Train_GAT:  0.683\n",
            "Train_GAT:  0.683\n",
            "Train_GAT:  0.683\n",
            "Train_GAT:  0.683\n",
            "Train_GAT:  0.683\n",
            "Train_GAT:  0.683\n",
            "Train_GAT:  0.683\n",
            "Train_GAT:  0.682\n",
            "Train_GAT:  0.682\n",
            "Train_GAT:  0.682\n",
            "Train_GAT:  0.682\n",
            "Train_GAT:  0.682\n",
            "Train_GAT:  0.682\n",
            "Train_GAT:  0.682\n",
            "Train_GAT:  0.680\n",
            "Train_GAT:  0.680\n",
            "Train_GAT:  0.679\n",
            "Train_GAT:  0.679\n",
            "Train_GAT:  0.676\n",
            "Train_GAT:  0.675\n",
            "Train_GAT:  0.672\n",
            "Train_GAT:  0.672\n",
            "Train_GAT:  0.671\n",
            "Train_GAT:  0.674\n",
            "Train_GAT:  0.672\n",
            "Train_GAT:  0.669\n",
            "Train_GAT:  0.668\n",
            "Train_GAT:  0.668\n",
            "Train_GAT:  0.667\n",
            "Train_GAT:  0.667\n",
            "Train_GAT:  0.667\n",
            "Train_GAT:  0.666\n",
            "Train_GAT:  0.666\n",
            "Train_GAT:  0.665\n",
            "Train_GAT:  0.664\n",
            "Train_GAT:  0.663\n",
            "Train_GAT:  0.662\n",
            "Train_GAT:  0.661\n",
            "Train_GAT:  0.660\n",
            "Train_GAT:  0.659\n",
            "Train_GAT:  0.658\n",
            "Train_GAT:  0.657\n",
            "Train_GAT:  0.656\n",
            "Train_GAT:  0.655\n",
            "Train_GAT:  0.654\n",
            "Train_GAT:  0.652\n",
            "Train_GAT:  0.651\n",
            "Train_GAT:  0.650\n",
            "Train_GAT:  0.648\n",
            "Train_GAT:  0.646\n",
            "Train_GAT:  0.645\n",
            "Train_GAT:  0.643\n",
            "Train_GAT:  0.641\n",
            "Train_GAT:  0.639\n",
            "Train_GAT:  0.637\n",
            "Train_GAT:  0.635\n",
            "Train_GAT:  0.633\n",
            "Train_GAT:  0.630\n",
            "Train_GAT:  0.628\n",
            "Train_GAT:  0.626\n",
            "Train_GAT:  0.624\n",
            "Train_GAT:  0.622\n",
            "Train_GAT:  0.620\n",
            "Train_GAT:  0.618\n",
            "Train_GAT:  0.615\n",
            "Train_GAT:  0.613\n",
            "Train_GAT:  0.611\n",
            "Train_GAT:  0.608\n",
            "Train_GAT:  0.606\n",
            "Train_GAT:  0.604\n",
            "Train_GAT:  0.602\n",
            "Train_GAT:  0.599\n",
            "Train_GAT:  0.597\n",
            "Train_GAT:  0.595\n",
            "Train_GAT:  0.593\n",
            "Train_GAT:  0.591\n",
            "Train_GAT:  0.588\n",
            "Train_GAT:  0.586\n",
            "Train_GAT:  0.584\n",
            "Train_GAT:  0.582\n",
            "Train_GAT:  0.580\n",
            "Train_GAT:  0.578\n",
            "Train_GAT:  0.576\n",
            "Train_GAT:  0.574\n",
            "Train_GAT:  0.572\n",
            "Train_GAT:  0.570\n",
            "Train_GAT:  0.568\n",
            "Train_GAT:  0.567\n",
            "Train_GAT:  0.565\n",
            "Train_GAT:  0.563\n",
            "Train_GAT:  0.562\n",
            "Train_GAT:  0.560\n",
            "Train_GAT:  0.559\n",
            "Train_GAT:  0.557\n",
            "Train_GAT:  0.556\n",
            "Train_GAT:  0.554\n",
            "Train_GAT:  0.553\n",
            "Train_GAT:  0.551\n",
            "Train_GAT:  0.550\n",
            "Train_GAT:  0.549\n",
            "Train_GAT:  0.548\n",
            "Train_GAT:  0.546\n",
            "Train_GAT:  0.545\n",
            "Train_GAT:  0.544\n",
            "Train_GAT:  0.543\n",
            "Train_GAT:  0.542\n",
            "Train_GAT:  0.540\n",
            "Train_GAT:  0.539\n",
            "Train_GAT:  0.538\n",
            "Train_GAT:  0.537\n",
            "Train_GAT:  0.536\n",
            "Train_GAT:  0.535\n",
            "Train_GAT:  0.534\n",
            "Train_GAT:  0.533\n",
            "Train_GAT:  0.532\n",
            "Train_GAT:  0.531\n",
            "Train_GAT:  0.530\n",
            "Train_GAT:  0.529\n",
            "Train_GAT:  0.528\n",
            "Train_GAT:  0.527\n",
            "Train_GAT:  0.526\n",
            "Train_GAT:  0.525\n",
            "Train_GAT:  0.524\n",
            "Train_GAT:  0.524\n",
            "Train_GAT:  0.523\n",
            "Train_GAT:  0.522\n",
            "Train_GAT:  0.521\n",
            "Train_GAT:  0.520\n",
            "Train_GAT:  0.519\n",
            "Train_GAT:  0.518\n",
            "Train_GAT:  0.518\n",
            "Train_GAT:  0.517\n",
            "Train_GAT:  0.516\n",
            "Train_GAT:  0.515\n",
            "Train_GAT:  0.514\n",
            "Train_GAT:  0.514\n",
            "Train_GAT:  0.513\n",
            "Train_GAT:  0.512\n",
            "Train_GAT:  0.511\n",
            "Train_GAT:  0.511\n",
            "Train_GAT:  0.510\n",
            "Train_GAT:  0.509\n"
          ]
        }
      ]
    },
    {
      "cell_type": "markdown",
      "source": [
        "# Visualize train_loss for both models. "
      ],
      "metadata": {
        "id": "44ZeVjjVPikX"
      }
    },
    {
      "cell_type": "code",
      "source": [
        "import matplotlib.pyplot as plt\n",
        "plt.plot(train_loss_BGAT_, \"m\")\n",
        "plt.plot(train_loss_GAT_, \"c\")\n",
        "plt.xlabel('epoch')\n",
        "plt.ylabel('loss')\n",
        "plt.legend(['Train_BGAT','Train_GAT'])\n",
        "plt.title('Breast cancer dataset, Train_BGAT vs Train_GAT ')\n",
        "plt.grid()\n",
        "plt.show()"
      ],
      "metadata": {
        "colab": {
          "base_uri": "https://localhost:8080/",
          "height": 295
        },
        "id": "NjggHz5ZfvX-",
        "outputId": "8a8e8233-1f57-4932-a1ef-993d0db2c312"
      },
      "execution_count": null,
      "outputs": [
        {
          "output_type": "display_data",
          "data": {
            "text/plain": [
              "<Figure size 432x288 with 1 Axes>"
            ],
            "image/png": "[encoded data removed]"
          },
          "metadata": {
            "needs_background": "light"
          }
        }
      ]
    }
  ]
}
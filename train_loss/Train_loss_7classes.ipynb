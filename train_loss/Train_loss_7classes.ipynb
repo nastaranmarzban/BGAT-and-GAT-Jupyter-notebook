{
  "nbformat": 4,
  "nbformat_minor": 0,
  "metadata": {
    "colab": {
      "provenance": []
    },
    "kernelspec": {
      "name": "python3",
      "display_name": "Python 3"
    },
    "language_info": {
      "name": "python"
    }
  },
  "cells": [
    {
      "cell_type": "markdown",
      "source": [
        "## Mount to gdrive to read data, adjacency matrix, p_link and labels. "
      ],
      "metadata": {
        "id": "rmbiJqbeOZgt"
      }
    },
    {
      "cell_type": "code",
      "execution_count": null,
      "metadata": {
        "colab": {
          "base_uri": "https://localhost:8080/"
        },
        "id": "xFNXYWZJMLGZ",
        "outputId": "020da975-0a99-47ae-e754-3cf664ee6456"
      },
      "outputs": [
        {
          "output_type": "stream",
          "name": "stdout",
          "text": [
            "Drive already mounted at /gdrive; to attempt to forcibly remount, call drive.mount(\"/gdrive\", force_remount=True).\n"
          ]
        }
      ],
      "source": [
        "from google.colab import drive\n",
        "drive.mount('/gdrive')"
      ]
    },
    {
      "cell_type": "markdown",
      "source": [
        "# Install pandas to read csv files from gdrive. Install torch and numpy which are packages that are needed durind coding."
      ],
      "metadata": {
        "id": "Iayyepa7OcnC"
      }
    },
    {
      "cell_type": "code",
      "source": [
        "!pip install pandas\n",
        "import pandas as pd\n",
        "import torch\n",
        "import numpy as np"
      ],
      "metadata": {
        "colab": {
          "base_uri": "https://localhost:8080/"
        },
        "id": "YmviDF0TMqWo",
        "outputId": "617099bd-11b4-4d1b-fda9-5b2f6a046282"
      },
      "execution_count": null,
      "outputs": [
        {
          "output_type": "stream",
          "name": "stdout",
          "text": [
            "Looking in indexes: https://pypi.org/simple, https://us-python.pkg.dev/colab-wheels/public/simple/\n",
            "Requirement already satisfied: pandas in /usr/local/lib/python3.8/dist-packages (1.3.5)\n",
            "Requirement already satisfied: numpy>=1.17.3 in /usr/local/lib/python3.8/dist-packages (from pandas) (1.21.6)\n",
            "Requirement already satisfied: pytz>=2017.3 in /usr/local/lib/python3.8/dist-packages (from pandas) (2022.6)\n",
            "Requirement already satisfied: python-dateutil>=2.7.3 in /usr/local/lib/python3.8/dist-packages (from pandas) (2.8.2)\n",
            "Requirement already satisfied: six>=1.5 in /usr/local/lib/python3.8/dist-packages (from python-dateutil>=2.7.3->pandas) (1.15.0)\n"
          ]
        }
      ]
    },
    {
      "cell_type": "markdown",
      "source": [
        "# Load data which are processed in preprocessing_data_7classes.ipynb file."
      ],
      "metadata": {
        "id": "bCHZF_7yOndI"
      }
    },
    {
      "cell_type": "code",
      "source": [
        "path = F\"/gdrive/MyDrive/7classes.sim/data_7classes.pt\"\n",
        "Data = torch.load(path)\n",
        "Data"
      ],
      "metadata": {
        "colab": {
          "base_uri": "https://localhost:8080/"
        },
        "id": "NENfdCeTMsRq",
        "outputId": "167f44b1-3ff8-414a-8b2b-ed686751ffe3"
      },
      "execution_count": null,
      "outputs": [
        {
          "output_type": "execute_result",
          "data": {
            "text/plain": [
              "{'x': tensor([[-0.6680,  0.3545,  0.1382,  ...,  2.1196,  0.2813,  1.3384],\n",
              "         [ 0.0282,  1.6481,  1.9474,  ...,  0.8241,  0.9470,  1.9798],\n",
              "         [-0.4644,  0.5799,  0.0618,  ..., -0.5351, -0.2698,  0.9294],\n",
              "         ...,\n",
              "         [-0.2195, -0.8809,  0.0466,  ..., -0.5610,  2.1045, -0.2778],\n",
              "         [-0.7321,  0.0596,  1.4736,  ...,  0.7870,  0.7216, -1.5205],\n",
              "         [ 1.0196,  0.5744,  0.3943,  ...,  1.7039, -1.3692,  0.6619]]),\n",
              " 'edge_index': tensor([[ 0,  0,  0,  0,  0,  0,  1,  1,  1,  2,  2,  2,  2,  2,  2,  3,  3,  4,\n",
              "           4,  4,  4,  4,  4,  4,  4,  4,  5,  5,  6,  6,  6,  6,  6,  6,  6,  6,\n",
              "           6,  7,  8,  8,  8,  8,  8,  8,  8,  9,  9,  9,  9,  9,  9,  9,  9,  9,\n",
              "           9, 10, 10, 11, 11, 11, 12, 12, 13, 13, 14, 14, 14, 14, 15, 15, 16, 16,\n",
              "          17, 17, 17, 18, 18, 19, 19, 19, 20, 20, 20, 20, 20, 20, 20, 21, 21, 21,\n",
              "          21, 21, 22, 22, 22, 22, 23, 24, 24, 24, 24, 25, 25, 26, 26, 26, 26, 27,\n",
              "          27, 27, 28, 28, 29, 29, 29, 30, 30, 30, 31, 32, 32, 32, 32, 32, 32, 33,\n",
              "          33, 33, 34, 34, 34, 35, 35, 35, 36, 36, 36, 36, 37, 37, 37, 38, 38, 39,\n",
              "          39, 39, 40, 40, 40, 40, 40, 41, 41, 41, 41, 41, 41, 42, 42, 42, 43, 43,\n",
              "          43, 43, 43, 44, 44, 44, 44, 44, 44, 44, 45, 45, 45, 45, 45, 45, 45, 46,\n",
              "          46, 46, 46, 47, 47, 47, 48, 48, 48, 48, 49, 49, 50, 50, 50, 51, 51, 51,\n",
              "          51, 53, 53, 53, 53, 53, 53, 54, 54, 54, 54, 54, 54, 54, 54, 54, 55, 55,\n",
              "          56, 56, 56, 56, 56, 58, 58, 58, 59, 59, 60, 60, 60, 60, 61, 61, 61, 61,\n",
              "          61, 61, 61, 62, 62, 62, 62, 63, 63, 63, 64, 65, 65, 65, 66, 66, 66, 67,\n",
              "          67, 68, 68, 68, 68, 69, 69, 69],\n",
              "         [21, 22, 26, 36, 38, 65, 12, 19, 63,  3,  4, 19, 30, 42, 67,  2, 16,  2,\n",
              "          10, 16, 23, 31, 49, 51, 62, 67, 49, 60,  8,  9, 14, 20, 32, 41, 45, 53,\n",
              "          55, 22,  6,  9, 20, 32, 41, 45, 61,  6,  8, 14, 41, 42, 45, 46, 48, 53,\n",
              "          61,  4, 25, 17, 35, 47,  1, 15, 33, 58,  6,  9, 20, 61, 12, 62,  3,  4,\n",
              "          11, 22, 46, 43, 66,  1,  2, 59,  6,  8, 14, 32, 40, 41, 61,  0, 43, 44,\n",
              "          58, 63,  0,  7, 17, 47,  4, 40, 44, 54, 68, 10, 27,  0, 28, 56, 68, 25,\n",
              "          33, 60, 26, 68, 30, 35, 68,  2, 29, 35,  4,  6,  8, 20, 45, 53, 61, 13,\n",
              "          27, 50, 37, 43, 64, 11, 29, 30,  0, 43, 50, 54, 34, 51, 54,  0, 69, 43,\n",
              "          62, 66, 20, 24, 51, 54, 56,  6,  8,  9, 20, 45, 53,  2,  9, 69, 18, 21,\n",
              "          34, 36, 39, 21, 24, 46, 48, 54, 56, 65,  6,  8,  9, 32, 41, 53, 61,  9,\n",
              "          17, 44, 54, 11, 22, 50,  9, 44, 54, 56,  4,  5, 33, 36, 47,  4, 37, 40,\n",
              "          66,  6,  9, 32, 41, 45, 61, 24, 36, 37, 40, 44, 46, 48, 56, 65,  6, 60,\n",
              "          26, 40, 44, 48, 54, 13, 21, 69, 19, 60,  5, 27, 55, 59,  8,  9, 14, 20,\n",
              "          32, 45, 53,  4, 15, 39, 63,  1, 21, 62, 34,  0, 44, 54, 18, 39, 51,  2,\n",
              "           4, 24, 26, 28, 29, 38, 42, 58]]),\n",
              " 'y': tensor([0, 5, 6, 6, 6, 3, 1, 4, 1, 1, 6, 4, 5, 0, 1, 5, 6, 0, 5, 3, 1, 5, 4, 6,\n",
              "         2, 3, 4, 3, 4, 4, 6, 6, 1, 0, 3, 4, 2, 3, 0, 5, 2, 1, 0, 5, 2, 1, 2, 4,\n",
              "         2, 6, 0, 6, 4, 1, 2, 3, 2, 2, 0, 3, 3, 1, 5, 5, 3, 2, 5, 0, 4, 0]),\n",
              " 'train_mask': tensor([False, False,  True, False,  True, False, False, False, False,  True,\n",
              "         False,  True,  True,  True,  True,  True, False, False,  True, False,\n",
              "         False, False, False,  True, False, False, False, False, False,  True,\n",
              "         False, False,  True, False,  True, False,  True,  True, False, False,\n",
              "          True, False, False, False, False, False, False, False, False, False,\n",
              "         False, False,  True, False,  True, False, False, False,  True,  True,\n",
              "         False, False, False, False, False, False, False,  True, False, False]),\n",
              " 'val_mask': tensor([False, False, False, False, False, False, False, False,  True, False,\n",
              "          True, False, False, False, False, False, False, False, False, False,\n",
              "          True, False, False, False, False,  True, False, False, False, False,\n",
              "         False, False, False,  True, False, False, False, False, False, False,\n",
              "         False, False, False, False, False, False, False, False,  True, False,\n",
              "         False,  True, False, False, False, False, False, False, False, False,\n",
              "         False, False,  True, False, False,  True, False, False,  True, False]),\n",
              " 'test_mask': tensor([ True,  True, False,  True, False,  True,  True,  True, False, False,\n",
              "         False, False, False, False, False, False,  True,  True, False,  True,\n",
              "         False,  True,  True, False,  True, False,  True,  True,  True, False,\n",
              "          True,  True, False, False, False,  True, False, False,  True,  True,\n",
              "         False,  True,  True,  True,  True,  True,  True,  True, False,  True,\n",
              "          True, False, False,  True, False,  True,  True,  True, False, False,\n",
              "          True,  True, False,  True,  True, False,  True, False, False,  True])}"
            ]
          },
          "metadata": {},
          "execution_count": 3
        }
      ]
    },
    {
      "cell_type": "code",
      "source": [
        "path = F\"/gdrive/MyDrive/7classes.sim/p_links_7classes.pt\"\n",
        "p_link = torch.load(path)\n",
        "print(p_link.size())\n",
        "print(p_link.dtype)\n",
        "print(p_link.type())"
      ],
      "metadata": {
        "colab": {
          "base_uri": "https://localhost:8080/"
        },
        "id": "oMGf5sCwM7_F",
        "outputId": "6a2c1b6d-f4d1-4ca1-bb8a-9b171042d2e2"
      },
      "execution_count": null,
      "outputs": [
        {
          "output_type": "stream",
          "name": "stdout",
          "text": [
            "torch.Size([70, 70])\n",
            "torch.float32\n",
            "torch.FloatTensor\n"
          ]
        }
      ]
    },
    {
      "cell_type": "markdown",
      "source": [
        "# Install torch_geometic."
      ],
      "metadata": {
        "id": "BfG1_syAPI6X"
      }
    },
    {
      "cell_type": "code",
      "source": [
        "import os\n",
        "os.environ['TORCH'] = torch.__version__\n",
        "print(torch.__version__)\n",
        "\n",
        "!pip install -q torch-scatter -f https://data.pyg.org/whl/torch-${TORCH}.html\n",
        "!pip install -q torch-sparse -f https://data.pyg.org/whl/torch-${TORCH}.html\n",
        "!pip install -q git+https://github.com/pyg-team/pytorch_geometric.git"
      ],
      "metadata": {
        "colab": {
          "base_uri": "https://localhost:8080/"
        },
        "id": "iMnacU0EM-SS",
        "outputId": "28aacf36-15f1-4e24-b263-2e8a420b36b1"
      },
      "execution_count": null,
      "outputs": [
        {
          "output_type": "stream",
          "name": "stdout",
          "text": [
            "1.13.0+cu116\n"
          ]
        }
      ]
    },
    {
      "cell_type": "markdown",
      "source": [
        "# Create BGAT and GAT layers. "
      ],
      "metadata": {
        "id": "4C1AhUIcP7v-"
      }
    },
    {
      "cell_type": "code",
      "source": [
        "from torch_geometric.nn import MessagePassing\n",
        "import torch_geometric.nn\n",
        "import torch.nn.functional as F\n",
        "from torch_geometric.utils import add_self_loops\n",
        "from torch_geometric.nn import GATConv"
      ],
      "metadata": {
        "id": "7lu6-gqvNAw5"
      },
      "execution_count": null,
      "outputs": []
    },
    {
      "cell_type": "code",
      "source": [
        "class BGATConv(MessagePassing):\n",
        "    def __init__(\n",
        "        self,\n",
        "        in_channels,\n",
        "        out_channels,\n",
        "        **kwargs,\n",
        "    ):\n",
        "        kwargs.setdefault('aggr', 'add')\n",
        "        super().__init__(node_dim = 0, **kwargs)\n",
        "        self.in_channels = in_channels\n",
        "        self.out_channels = out_channels\n",
        "        self.lin = torch.nn.Linear(in_channels, out_channels)\n",
        "\n",
        "    def forward(self, x, edge_index):\n",
        "        edge_index, _ = add_self_loops(Data[\"edge_index\"], num_nodes = Data[\"x\"].size(0))\n",
        "        x = self.lin(x)\n",
        "        atten = p_link\n",
        "        return self.propagate(edge_index, x=x, atten = atten)\n",
        "\n",
        "    def message(self, x_j, atten, edge_index_i, edge_index_j):\n",
        "        return atten[edge_index_i, edge_index_j].reshape(-1,1) * x_j\n",
        "\n",
        "    def __repr__(self):\n",
        "        return '{}({}, {})'.format(self.__class__.__name__, self.in_channels, self.out_channels)"
      ],
      "metadata": {
        "id": "myWjLG9kNH2B"
      },
      "execution_count": null,
      "outputs": []
    },
    {
      "cell_type": "code",
      "source": [
        "class Myconv_BGAT(torch.nn.Module):\n",
        "    def __init__(self):\n",
        "        super().__init__()\n",
        "        torch.manual_seed(2)\n",
        "        self.conv1 = BGATConv(in_channels = 500, out_channels = 15)\n",
        "        self.conv2 =  BGATConv(15, 10)\n",
        "        self.conv3 =  BGATConv(10, 7)\n",
        "        \n",
        "    def forward(self, x, edge_index):\n",
        "        h = self.conv1(x, edge_index)\n",
        "        h = F.torch.tanh(h)\n",
        "        h = self.conv2(h, edge_index)\n",
        "        h = F.torch.tanh(h)\n",
        "        h = self.conv3(h, edge_index)# Final GNN embedding space.\n",
        "        h = F.log_softmax(h)\n",
        "        return h\n",
        "        \n",
        "model_BGAT = Myconv_BGAT()\n",
        "print(model_BGAT)\n",
        "print(model_BGAT.forward(Data[\"x\"], Data[\"edge_index\"]))"
      ],
      "metadata": {
        "colab": {
          "base_uri": "https://localhost:8080/"
        },
        "id": "ZXi2x_WTNNyS",
        "outputId": "a87ce03c-fe0f-4608-8780-ecd5867e8319"
      },
      "execution_count": null,
      "outputs": [
        {
          "output_type": "stream",
          "name": "stdout",
          "text": [
            "Myconv_BGAT(\n",
            "  (conv1): BGATConv(500, 15)\n",
            "  (conv2): BGATConv(15, 10)\n",
            "  (conv3): BGATConv(10, 7)\n",
            ")\n",
            "tensor([[ -1.6038,  -3.5480,  -0.7512,  -1.4632,  -4.1339,  -3.0155,  -6.3295],\n",
            "        [ -1.8167,  -2.2806,  -2.1076,  -0.7447,  -3.9225,  -2.1941,  -4.8831],\n",
            "        [ -1.9168,  -2.9504,  -2.5775,  -0.3901,  -5.1676,  -3.2022,  -6.6732],\n",
            "        [ -1.7701,  -1.8791,  -1.9542,  -0.9096,  -3.5461,  -2.4490,  -4.0514],\n",
            "        [ -3.2950,  -2.7694,  -4.2013,  -0.1424,  -8.1786,  -4.0349, -10.3955],\n",
            "        [ -1.8265,  -2.6651,  -1.5127,  -1.7854,  -2.1845,  -1.6247,  -2.6327],\n",
            "        [ -1.9964,  -6.3456,  -8.2527,  -0.1534, -10.2619,  -5.4350, -17.6342],\n",
            "        [ -1.3819,  -2.4975,  -1.5486,  -1.5245,  -2.3928,  -2.1056,  -3.7649],\n",
            "        [ -1.8369,  -5.1594,  -7.4488,  -0.1958,  -8.7107,  -4.4240, -14.7349],\n",
            "        [ -1.3772,  -7.2671,  -8.1324,  -0.2954,  -9.9204,  -5.9984, -18.6348],\n",
            "        [ -1.7579,  -1.9779,  -1.7986,  -1.2895,  -2.9389,  -1.7297,  -4.0152],\n",
            "        [ -1.3286,  -2.8458,  -2.5069,  -0.9945,  -2.9923,  -1.7821,  -4.9385],\n",
            "        [ -1.6179,  -2.2537,  -1.9370,  -0.9566,  -3.2694,  -2.1448,  -4.3252],\n",
            "        [ -2.0413,  -3.0332,  -1.4666,  -0.8343,  -3.1194,  -2.2809,  -4.5347],\n",
            "        [ -1.4533,  -3.8429,  -4.9857,  -0.3564,  -5.9729,  -3.3494,  -9.9014],\n",
            "        [ -1.6717,  -2.2061,  -1.8361,  -0.9425,  -3.3719,  -2.2535,  -4.3052],\n",
            "        [ -1.9253,  -1.7694,  -2.0773,  -0.7827,  -4.1365,  -2.5703,  -4.7368],\n",
            "        [ -1.1448,  -2.8997,  -1.9701,  -1.1252,  -2.8680,  -2.3167,  -4.9327],\n",
            "        [ -1.4807,  -2.8264,  -1.7124,  -1.6298,  -2.2323,  -1.6243,  -3.4245],\n",
            "        [ -1.3060,  -2.7879,  -1.9878,  -1.1833,  -2.7368,  -1.9893,  -3.7856],\n",
            "        [ -2.4842,  -5.1157,  -6.7084,  -0.1063,  -9.0536,  -4.5950, -14.3814],\n",
            "        [ -2.0978,  -2.9993,  -1.6523,  -0.5494,  -5.2159,  -2.9648,  -6.4753],\n",
            "        [ -1.2924,  -3.2089,  -1.2647,  -1.1926,  -3.5439,  -2.6948,  -5.8953],\n",
            "        [ -1.9011,  -1.6156,  -2.1905,  -1.0560,  -3.1894,  -2.0869,  -3.6172],\n",
            "        [ -2.9185,  -2.6455,  -0.8620,  -0.9615,  -4.6779,  -2.8778,  -5.3275],\n",
            "        [ -1.8435,  -2.9619,  -1.1213,  -2.2711,  -2.0013,  -1.6750,  -3.2577],\n",
            "        [ -1.3834,  -2.7025,  -2.3954,  -0.9291,  -3.3032,  -1.8796,  -4.9954],\n",
            "        [ -1.8612,  -3.9022,  -0.8084,  -2.6177,  -2.0584,  -1.8979,  -3.5672],\n",
            "        [ -1.4406,  -2.5014,  -2.8307,  -1.0795,  -2.7460,  -1.5989,  -4.1229],\n",
            "        [ -1.6668,  -2.7741,  -2.5828,  -1.0732,  -2.6538,  -1.4135,  -4.0387],\n",
            "        [ -1.6283,  -2.6854,  -2.3709,  -0.8934,  -2.9766,  -1.7965,  -4.1324],\n",
            "        [ -1.7869,  -1.6578,  -2.0860,  -1.0747,  -3.2599,  -2.1568,  -3.8037],\n",
            "        [ -1.7870,  -4.9416,  -7.4840,  -0.2138,  -8.2750,  -4.0697, -13.9755],\n",
            "        [ -1.8731,  -3.4423,  -0.8125,  -1.5248,  -2.7649,  -2.5778,  -4.2680],\n",
            "        [ -1.6198,  -2.3216,  -2.9784,  -1.1123,  -2.7643,  -1.4033,  -4.1675],\n",
            "        [ -1.5603,  -2.9350,  -2.7888,  -1.0113,  -2.8771,  -1.4065,  -4.5806],\n",
            "        [ -1.9735,  -3.2781,  -0.5702,  -1.7704,  -3.7495,  -2.8536,  -5.0330],\n",
            "        [ -1.9377,  -2.0535,  -2.1419,  -1.0110,  -3.0088,  -1.7205,  -4.0133],\n",
            "        [ -2.1042,  -2.2275,  -1.2868,  -1.1681,  -3.4103,  -2.0397,  -3.9087],\n",
            "        [ -1.4393,  -2.6331,  -1.8407,  -1.2007,  -2.9226,  -1.8026,  -4.3655],\n",
            "        [ -3.0496,  -2.5458,  -1.2049,  -0.6623,  -5.2719,  -2.9603,  -6.2723],\n",
            "        [ -1.6085,  -4.8924,  -6.5262,  -0.2514,  -8.1169,  -4.3552, -14.0953],\n",
            "        [ -1.4657,  -2.8028,  -2.8830,  -0.6369,  -3.6089,  -2.3789,  -5.5673],\n",
            "        [ -0.7773,  -3.7583,  -2.5682,  -1.1438,  -3.3985,  -2.4436,  -6.5332],\n",
            "        [ -1.8613,  -3.9852,  -0.9026,  -0.9212,  -5.2803,  -4.0843,  -7.7240],\n",
            "        [ -1.3607,  -5.5228,  -7.6593,  -0.3185,  -8.3198,  -4.4600, -15.2622],\n",
            "        [ -1.5658,  -3.0897,  -1.3363,  -0.8769,  -4.0323,  -3.0785,  -5.8493],\n",
            "        [ -1.0712,  -3.1716,  -1.5207,  -1.3095,  -2.9694,  -2.6474,  -5.3476],\n",
            "        [ -1.5326,  -3.3265,  -1.1179,  -0.9841,  -4.2764,  -3.4490,  -6.3780],\n",
            "        [ -1.9321,  -1.8861,  -1.9088,  -1.0320,  -3.2191,  -2.0160,  -3.6584],\n",
            "        [ -1.3494,  -3.3667,  -0.9539,  -1.6013,  -2.8249,  -2.9543,  -4.8513],\n",
            "        [ -2.2780,  -2.0161,  -1.7277,  -0.9238,  -3.4905,  -1.9061,  -4.5570],\n",
            "        [ -1.7491,  -2.0335,  -1.8590,  -1.6914,  -2.0896,  -1.8924,  -2.5176],\n",
            "        [ -1.2946,  -5.2207,  -7.2079,  -0.3502,  -7.7845,  -4.2077, -14.3007],\n",
            "        [ -2.6476,  -5.9636,  -0.4053,  -1.3672,  -7.0811,  -5.4780, -11.5613],\n",
            "        [ -1.5830,  -2.6416,  -1.4846,  -1.6772,  -2.3483,  -1.7631,  -3.1501],\n",
            "        [ -1.9439,  -3.3653,  -0.9183,  -0.9649,  -4.6167,  -3.4871,  -6.4291],\n",
            "        [ -2.1351,  -1.9690,  -1.5963,  -2.0159,  -2.0620,  -1.7882,  -2.1905],\n",
            "        [ -1.9816,  -3.1107,  -2.4831,  -0.5013,  -3.7534,  -2.2881,  -5.6724],\n",
            "        [ -1.3460,  -3.2663,  -1.6683,  -1.8072,  -2.0982,  -1.7196,  -3.0557],\n",
            "        [ -1.9818,  -4.2484,  -0.6942,  -2.4681,  -2.4561,  -1.9247,  -3.4432],\n",
            "        [ -1.8601,  -5.7267,  -8.1357,  -0.1845,  -9.0650,  -4.6959, -15.4481],\n",
            "        [ -1.6893,  -2.4763,  -2.2446,  -0.5931,  -4.6691,  -2.7949,  -6.1122],\n",
            "        [ -1.6833,  -2.4185,  -2.5652,  -0.5826,  -4.5029,  -2.5726,  -6.0176],\n",
            "        [ -1.7815,  -1.9004,  -2.7247,  -1.2928,  -2.4638,  -1.5687,  -3.0242],\n",
            "        [ -2.8486,  -3.1134,  -0.3499,  -1.9319,  -4.6392,  -3.5031,  -4.7998],\n",
            "        [ -1.4719,  -2.7454,  -1.7647,  -1.3903,  -2.4030,  -1.7374,  -3.9309],\n",
            "        [ -1.8564,  -1.8266,  -1.7589,  -1.0306,  -3.3063,  -2.3950,  -3.6521],\n",
            "        [ -1.6585,  -3.0123,  -3.1728,  -0.7164,  -3.6098,  -1.6124,  -5.6492],\n",
            "        [ -2.0541,  -2.9838,  -2.4706,  -0.4776,  -4.0673,  -2.3390,  -5.8739]],\n",
            "       grad_fn=<LogSoftmaxBackward0>)\n"
          ]
        },
        {
          "output_type": "stream",
          "name": "stderr",
          "text": [
            "<ipython-input-8-cedf2bd29c67>:15: UserWarning: Implicit dimension choice for log_softmax has been deprecated. Change the call to include dim=X as an argument.\n",
            "  h = F.log_softmax(h)\n"
          ]
        }
      ]
    },
    {
      "cell_type": "code",
      "source": [
        "class Myconv_GAT(torch.nn.Module):\n",
        "    def __init__(self):\n",
        "        super().__init__()\n",
        "        torch.manual_seed(2)\n",
        "        self.conv1 = GATConv(in_channels = 500, out_channels = 50)\n",
        "        self.conv2 =  GATConv(50, 10)\n",
        "        self.conv3 =  GATConv(10, 7)\n",
        "        \n",
        "\n",
        "    def forward(self, x, edge_index):\n",
        "        f = self.conv1(x, edge_index)\n",
        "        f = F.torch.tanh(f)\n",
        "        f = self.conv2(f, edge_index)\n",
        "        f = F.torch.tanh(f)\n",
        "        f = self.conv3(f, edge_index)# Final GNN embedding space.\n",
        "        f = F.log_softmax(f)\n",
        "        return f\n",
        "        \n",
        "\n",
        "model_GAT = Myconv_GAT()\n",
        "print(model_GAT)\n",
        "print(model_GAT.forward(Data[\"x\"], Data[\"edge_index\"]))"
      ],
      "metadata": {
        "colab": {
          "base_uri": "https://localhost:8080/"
        },
        "id": "UrVHbyPbNSRy",
        "outputId": "14f2ad4d-a1ad-40dc-8907-62f76b772abd"
      },
      "execution_count": null,
      "outputs": [
        {
          "output_type": "stream",
          "name": "stdout",
          "text": [
            "Myconv_GAT(\n",
            "  (conv1): GATConv(500, 50, heads=1)\n",
            "  (conv2): GATConv(50, 10, heads=1)\n",
            "  (conv3): GATConv(10, 7, heads=1)\n",
            ")\n",
            "tensor([[-2.4665, -2.1269, -2.5751, -1.0695, -1.9733, -1.8291, -2.5636],\n",
            "        [-1.8347, -2.6898, -2.3343, -2.1443, -1.2235, -2.2313, -1.8525],\n",
            "        [-1.7384, -2.0836, -2.0600, -1.8335, -1.9923, -1.9708, -1.9902],\n",
            "        [-1.6594, -2.1520, -1.9603, -1.3046, -2.4086, -2.3315, -2.3610],\n",
            "        [-1.9883, -2.0943, -2.3361, -1.6303, -1.9120, -1.7473, -2.0770],\n",
            "        [-1.6118, -2.5256, -2.4606, -1.6407, -1.6896, -1.9180, -2.2097],\n",
            "        [-1.8169, -1.7161, -2.2494, -2.0461, -2.2622, -1.8042, -1.8689],\n",
            "        [-2.1201, -2.3137, -1.9353, -1.6325, -1.7257, -1.7829, -2.3532],\n",
            "        [-1.8635, -1.6950, -2.2745, -2.0713, -2.2583, -1.7564, -1.8630],\n",
            "        [-2.0157, -1.7854, -2.4848, -1.8401, -2.0994, -1.6568, -1.9406],\n",
            "        [-2.0922, -2.0198, -2.5697, -1.3342, -2.1416, -1.8899, -1.9993],\n",
            "        [-1.9327, -2.5701, -2.1212, -1.4091, -1.7320, -1.9227, -2.3935],\n",
            "        [-1.8124, -2.6790, -2.1098, -2.0240, -1.3009, -2.2758, -1.9683],\n",
            "        [-2.0198, -2.0620, -2.1830, -0.8652, -2.9067, -2.4283, -2.7552],\n",
            "        [-1.9365, -1.6719, -2.3347, -1.9693, -2.3006, -1.7046, -1.9006],\n",
            "        [-1.8643, -2.5881, -2.0540, -2.0721, -1.3345, -2.2315, -1.9308],\n",
            "        [-1.7107, -2.1997, -2.0286, -1.2490, -2.3400, -2.3074, -2.3616],\n",
            "        [-2.1736, -2.4114, -2.3668, -1.3821, -1.6953, -1.7753, -2.3154],\n",
            "        [-2.3504, -2.2895, -2.7553, -2.4199, -1.2242, -1.7771, -1.6728],\n",
            "        [-1.7447, -2.5712, -2.3711, -2.1689, -1.3456, -2.1259, -1.8234],\n",
            "        [-1.9896, -1.6576, -2.3036, -1.9400, -2.2829, -1.6958, -1.9406],\n",
            "        [-2.3089, -2.1029, -2.5616, -1.4511, -1.7036, -1.8090, -2.1104],\n",
            "        [-2.1007, -2.3746, -2.1093, -1.3720, -1.7788, -1.8661, -2.4523],\n",
            "        [-2.0091, -2.1212, -2.3243, -1.8695, -1.7496, -1.6989, -1.9861],\n",
            "        [-2.5758, -2.0410, -2.8003, -1.2538, -1.8820, -1.5948, -2.3795],\n",
            "        [-2.0960, -2.0142, -2.6353, -1.0870, -2.3869, -2.0536, -2.1669],\n",
            "        [-2.6472, -1.9433, -2.4022, -1.0501, -2.2237, -1.7744, -2.6930],\n",
            "        [-1.7385, -2.4269, -2.3657, -0.9334, -2.3617, -2.5547, -2.5661],\n",
            "        [-2.7159, -1.8272, -2.0038, -1.0770, -2.4724, -1.8683, -2.8337],\n",
            "        [-2.1875, -2.0447, -2.0271, -1.3076, -2.0941, -1.9781, -2.3572],\n",
            "        [-1.9349, -2.1509, -2.1070, -1.4672, -1.9780, -2.0166, -2.1580],\n",
            "        [-1.8192, -2.3919, -2.2336, -1.4391, -1.8312, -1.9511, -2.3049],\n",
            "        [-1.8391, -1.6511, -2.2180, -2.1549, -2.3222, -1.7849, -1.8415],\n",
            "        [-1.8008, -2.4150, -2.2020, -0.8567, -2.5865, -2.5963, -2.8050],\n",
            "        [-1.9769, -2.3496, -2.4766, -1.9683, -1.3778, -1.8947, -1.9670],\n",
            "        [-1.9956, -2.2521, -2.1381, -1.3695, -1.9356, -1.9842, -2.2544],\n",
            "        [-2.2810, -2.2826, -2.6888, -1.3814, -1.5674, -1.8261, -2.2349],\n",
            "        [-2.2747, -2.1896, -2.7885, -1.5754, -1.6224, -1.6129, -2.1202],\n",
            "        [-2.2618, -2.1471, -2.3548, -0.8548, -2.4705, -2.1336, -2.8868],\n",
            "        [-2.2081, -2.3368, -2.5255, -2.3272, -1.2631, -1.8820, -1.7103],\n",
            "        [-2.4808, -1.9863, -2.8542, -1.3391, -1.9363, -1.5422, -2.2898],\n",
            "        [-1.8304, -1.7323, -2.2750, -2.0458, -2.2255, -1.7772, -1.8735],\n",
            "        [-1.8738, -1.8834, -2.2398, -1.5132, -2.3147, -1.8419, -2.2035],\n",
            "        [-2.3082, -2.2838, -2.6425, -1.9484, -1.2959, -1.8583, -1.8617],\n",
            "        [-2.6306, -2.1421, -3.1513, -1.2352, -1.7637, -1.5692, -2.3293],\n",
            "        [-1.8375, -1.7136, -2.2759, -2.0920, -2.2303, -1.7723, -1.8515],\n",
            "        [-2.3934, -2.2309, -2.9219, -1.3988, -1.6678, -1.6204, -2.1710],\n",
            "        [-1.8809, -2.5905, -2.0589, -1.3639, -1.7556, -1.9861, -2.5349],\n",
            "        [-2.5960, -2.1332, -3.2005, -1.2955, -1.7405, -1.5370, -2.2824],\n",
            "        [-1.7025, -2.4452, -2.4326, -1.6606, -1.7170, -1.8339, -2.1731],\n",
            "        [-1.8733, -2.5343, -2.3153, -1.1367, -1.8448, -2.1874, -2.5612],\n",
            "        [-2.2576, -2.0997, -2.6481, -1.5637, -1.7691, -1.5888, -2.1361],\n",
            "        [-1.8886, -1.7783, -1.5397, -2.1898, -2.5464, -2.7028, -1.5701],\n",
            "        [-1.8413, -1.7225, -2.2858, -2.0803, -2.2165, -1.7677, -1.8549],\n",
            "        [-2.5781, -2.1483, -3.1072, -1.2488, -1.7649, -1.5710, -2.3353],\n",
            "        [-1.6060, -2.0353, -2.1184, -1.8628, -2.0608, -2.0724, -1.9663],\n",
            "        [-2.6911, -2.0680, -3.0383, -1.1908, -1.8701, -1.5573, -2.4186],\n",
            "        [-1.4228, -2.3401, -1.9385, -1.2012, -2.8321, -2.5378, -2.5261],\n",
            "        [-2.2244, -1.9286, -2.3292, -0.9694, -2.6483, -2.0914, -2.5830],\n",
            "        [-1.6731, -2.7065, -2.5033, -2.1306, -1.2765, -2.2016, -1.8621],\n",
            "        [-1.5528, -2.4229, -2.2912, -1.5773, -1.8101, -2.2092, -2.1324],\n",
            "        [-1.8769, -1.6754, -2.3050, -2.0687, -2.2794, -1.7431, -1.8562],\n",
            "        [-1.9717, -2.4645, -2.2138, -2.1068, -1.3552, -2.0710, -1.8273],\n",
            "        [-2.1482, -2.3337, -2.4339, -1.7834, -1.4181, -1.9544, -1.9188],\n",
            "        [-1.6238, -2.5484, -1.8386, -2.2820, -1.4090, -2.4118, -2.0444],\n",
            "        [-2.5824, -2.1687, -3.0767, -1.1985, -1.7529, -1.6356, -2.3620],\n",
            "        [-2.3188, -2.1802, -2.6514, -2.0974, -1.4307, -1.6533, -1.8036],\n",
            "        [-1.8240, -2.1593, -2.0185, -1.8799, -1.8625, -1.8916, -2.0277],\n",
            "        [-2.5827, -1.8873, -2.2024, -1.1038, -2.3074, -1.8207, -2.6682],\n",
            "        [-2.0624, -1.8878, -2.1840, -1.0981, -2.6531, -2.0228, -2.6221]],\n",
            "       grad_fn=<LogSoftmaxBackward0>)\n"
          ]
        },
        {
          "output_type": "stream",
          "name": "stderr",
          "text": [
            "<ipython-input-9-9840ba522053>:16: UserWarning: Implicit dimension choice for log_softmax has been deprecated. Change the call to include dim=X as an argument.\n",
            "  f = F.log_softmax(f)\n"
          ]
        }
      ]
    },
    {
      "cell_type": "markdown",
      "source": [
        "# Train BGAT and GAT models. "
      ],
      "metadata": {
        "id": "V6TJwO2IQA4e"
      }
    },
    {
      "cell_type": "code",
      "source": [
        "model = Myconv_BGAT()\n",
        "criterion = torch.nn.CrossEntropyLoss()  # Define loss criterion.\n",
        "optimizer = torch.optim.Adam(model.parameters(),  lr = 0.005)  # Define optimizer, an object for updating parameters\n",
        "#loss = loss + weight decay parameter * L2 norm of the weights, 1) To prevent overfitting 2) To keep the weights small and avoid exploding gradient\n",
        "\n",
        "def train_BGAT(Data):\n",
        "    model.train()\n",
        "    optimizer.zero_grad()  # Clear gradients.\n",
        "    out = model(Data[\"x\"], Data[\"edge_index\"])\n",
        "    train_loss_BGAT = criterion(out[Data[\"train_mask\"]], Data[\"y\"][Data[\"train_mask\"]])  # Compute the loss solely based on the training nodes.\n",
        "    train_loss_BGAT.backward()  # Derive gradients.\n",
        "    optimizer.step()  # Update parameters based on gradients.\n",
        "    return train_loss_BGAT\n",
        "\n",
        "train_loss_BGAT_ = []\n",
        "for epoch in range(1, 101):\n",
        "  epoch_train_lossBGAT = []\n",
        "  train_loss_BGAT = train_BGAT(Data)\n",
        "  epoch_train_lossBGAT.append(train_loss_BGAT.item())\n",
        "  train_loss_BGAT_.append(sum(epoch_train_lossBGAT)/len(epoch_train_lossBGAT))\n",
        "  print(f'Train_BGAT:  {train_loss_BGAT:.3f}')    "
      ],
      "metadata": {
        "colab": {
          "base_uri": "https://localhost:8080/"
        },
        "id": "SR1t_Jk4Ntag",
        "outputId": "b57a103e-dfda-48e5-b017-d1f308b6f86c"
      },
      "execution_count": null,
      "outputs": [
        {
          "output_type": "stream",
          "name": "stdout",
          "text": [
            "Train_BGAT:  2.976\n",
            "Train_BGAT:  1.667\n",
            "Train_BGAT:  1.232\n"
          ]
        },
        {
          "output_type": "stream",
          "name": "stderr",
          "text": [
            "<ipython-input-8-cedf2bd29c67>:15: UserWarning: Implicit dimension choice for log_softmax has been deprecated. Change the call to include dim=X as an argument.\n",
            "  h = F.log_softmax(h)\n"
          ]
        },
        {
          "output_type": "stream",
          "name": "stdout",
          "text": [
            "Train_BGAT:  0.977\n",
            "Train_BGAT:  0.773\n",
            "Train_BGAT:  0.676\n",
            "Train_BGAT:  0.624\n",
            "Train_BGAT:  0.580\n",
            "Train_BGAT:  0.542\n",
            "Train_BGAT:  0.508\n",
            "Train_BGAT:  0.478\n",
            "Train_BGAT:  0.451\n",
            "Train_BGAT:  0.426\n",
            "Train_BGAT:  0.405\n",
            "Train_BGAT:  0.385\n",
            "Train_BGAT:  0.368\n",
            "Train_BGAT:  0.352\n",
            "Train_BGAT:  0.337\n",
            "Train_BGAT:  0.323\n",
            "Train_BGAT:  0.310\n",
            "Train_BGAT:  0.298\n",
            "Train_BGAT:  0.287\n",
            "Train_BGAT:  0.277\n",
            "Train_BGAT:  0.267\n",
            "Train_BGAT:  0.258\n",
            "Train_BGAT:  0.250\n",
            "Train_BGAT:  0.241\n",
            "Train_BGAT:  0.234\n",
            "Train_BGAT:  0.227\n",
            "Train_BGAT:  0.221\n",
            "Train_BGAT:  0.215\n",
            "Train_BGAT:  0.209\n",
            "Train_BGAT:  0.204\n",
            "Train_BGAT:  0.199\n",
            "Train_BGAT:  0.194\n",
            "Train_BGAT:  0.189\n",
            "Train_BGAT:  0.185\n",
            "Train_BGAT:  0.181\n",
            "Train_BGAT:  0.177\n",
            "Train_BGAT:  0.172\n",
            "Train_BGAT:  0.168\n",
            "Train_BGAT:  0.165\n",
            "Train_BGAT:  0.161\n",
            "Train_BGAT:  0.158\n",
            "Train_BGAT:  0.155\n",
            "Train_BGAT:  0.151\n",
            "Train_BGAT:  0.148\n",
            "Train_BGAT:  0.145\n",
            "Train_BGAT:  0.143\n",
            "Train_BGAT:  0.140\n",
            "Train_BGAT:  0.137\n",
            "Train_BGAT:  0.135\n",
            "Train_BGAT:  0.132\n",
            "Train_BGAT:  0.130\n",
            "Train_BGAT:  0.127\n",
            "Train_BGAT:  0.125\n",
            "Train_BGAT:  0.123\n",
            "Train_BGAT:  0.121\n",
            "Train_BGAT:  0.118\n",
            "Train_BGAT:  0.116\n",
            "Train_BGAT:  0.114\n",
            "Train_BGAT:  0.112\n",
            "Train_BGAT:  0.110\n",
            "Train_BGAT:  0.108\n",
            "Train_BGAT:  0.106\n",
            "Train_BGAT:  0.104\n",
            "Train_BGAT:  0.103\n",
            "Train_BGAT:  0.101\n",
            "Train_BGAT:  0.099\n",
            "Train_BGAT:  0.097\n",
            "Train_BGAT:  0.096\n",
            "Train_BGAT:  0.094\n",
            "Train_BGAT:  0.093\n",
            "Train_BGAT:  0.091\n",
            "Train_BGAT:  0.090\n",
            "Train_BGAT:  0.088\n",
            "Train_BGAT:  0.087\n",
            "Train_BGAT:  0.085\n",
            "Train_BGAT:  0.084\n",
            "Train_BGAT:  0.083\n",
            "Train_BGAT:  0.081\n",
            "Train_BGAT:  0.080\n",
            "Train_BGAT:  0.079\n",
            "Train_BGAT:  0.078\n",
            "Train_BGAT:  0.076\n",
            "Train_BGAT:  0.075\n",
            "Train_BGAT:  0.074\n",
            "Train_BGAT:  0.073\n",
            "Train_BGAT:  0.071\n",
            "Train_BGAT:  0.070\n",
            "Train_BGAT:  0.069\n",
            "Train_BGAT:  0.068\n",
            "Train_BGAT:  0.067\n",
            "Train_BGAT:  0.066\n",
            "Train_BGAT:  0.065\n",
            "Train_BGAT:  0.064\n",
            "Train_BGAT:  0.063\n",
            "Train_BGAT:  0.062\n",
            "Train_BGAT:  0.061\n",
            "Train_BGAT:  0.060\n"
          ]
        }
      ]
    },
    {
      "cell_type": "code",
      "source": [
        "model = Myconv_GAT()\n",
        "criterion = torch.nn.CrossEntropyLoss()  # Define loss criterion.\n",
        "optimizer = torch.optim.Adam(model.parameters(),  lr = 0.0005)  # Define optimizer, an object for updating parameters\n",
        "#loss = loss + weight decay parameter * L2 norm of the weights, 1) To prevent overfitting 2) To keep the weights small and avoid exploding gradient\n",
        "\n",
        "def train_GAT(Data):\n",
        "    model.train()\n",
        "    optimizer.zero_grad()  # Clear gradients.\n",
        "    out = model(Data[\"x\"], Data[\"edge_index\"])\n",
        "    train_loss_GAT = criterion(out[Data[\"train_mask\"]], Data[\"y\"][Data[\"train_mask\"]])  # Compute the loss solely based on the training nodes.\n",
        "    train_loss_GAT.backward()  # Derive gradients.\n",
        "    optimizer.step()  # Update parameters based on gradients.\n",
        "    return train_loss_GAT\n",
        "\n",
        "train_loss_GAT_ = []\n",
        "for epoch in range(1, 101):\n",
        "  epoch_train_lossGAT = []\n",
        "  train_loss_GAT = train_GAT(Data)\n",
        "  epoch_train_lossGAT.append(train_loss_GAT.item())\n",
        "  train_loss_GAT_.append(sum(epoch_train_lossGAT)/len(epoch_train_lossGAT))\n",
        "  print(f'Train_GAT:  {train_loss_GAT:.3f}')    "
      ],
      "metadata": {
        "colab": {
          "base_uri": "https://localhost:8080/"
        },
        "id": "YGse15hlNvCq",
        "outputId": "d45cddba-92f6-4e6d-d6f5-019c7c11c8ef"
      },
      "execution_count": null,
      "outputs": [
        {
          "output_type": "stream",
          "name": "stdout",
          "text": [
            "Train_GAT:  2.105\n",
            "Train_GAT:  1.922\n",
            "Train_GAT:  1.786\n",
            "Train_GAT:  1.701\n",
            "Train_GAT:  1.632\n",
            "Train_GAT:  1.566\n",
            "Train_GAT:  1.501\n",
            "Train_GAT:  1.447\n",
            "Train_GAT:  1.397\n",
            "Train_GAT:  1.350\n",
            "Train_GAT:  1.307\n",
            "Train_GAT:  1.264\n",
            "Train_GAT:  1.223\n",
            "Train_GAT:  1.185\n"
          ]
        },
        {
          "output_type": "stream",
          "name": "stderr",
          "text": [
            "<ipython-input-9-9840ba522053>:16: UserWarning: Implicit dimension choice for log_softmax has been deprecated. Change the call to include dim=X as an argument.\n",
            "  f = F.log_softmax(f)\n"
          ]
        },
        {
          "output_type": "stream",
          "name": "stdout",
          "text": [
            "Train_GAT:  1.151\n",
            "Train_GAT:  1.122\n",
            "Train_GAT:  1.097\n",
            "Train_GAT:  1.074\n",
            "Train_GAT:  1.052\n",
            "Train_GAT:  1.031\n",
            "Train_GAT:  1.010\n",
            "Train_GAT:  0.989\n",
            "Train_GAT:  0.969\n",
            "Train_GAT:  0.949\n",
            "Train_GAT:  0.930\n",
            "Train_GAT:  0.912\n",
            "Train_GAT:  0.895\n",
            "Train_GAT:  0.880\n",
            "Train_GAT:  0.867\n",
            "Train_GAT:  0.855\n",
            "Train_GAT:  0.843\n",
            "Train_GAT:  0.831\n",
            "Train_GAT:  0.819\n",
            "Train_GAT:  0.808\n",
            "Train_GAT:  0.797\n",
            "Train_GAT:  0.787\n",
            "Train_GAT:  0.777\n",
            "Train_GAT:  0.769\n",
            "Train_GAT:  0.760\n",
            "Train_GAT:  0.752\n",
            "Train_GAT:  0.744\n",
            "Train_GAT:  0.737\n",
            "Train_GAT:  0.730\n",
            "Train_GAT:  0.724\n",
            "Train_GAT:  0.718\n",
            "Train_GAT:  0.712\n",
            "Train_GAT:  0.706\n",
            "Train_GAT:  0.700\n",
            "Train_GAT:  0.695\n",
            "Train_GAT:  0.690\n",
            "Train_GAT:  0.685\n",
            "Train_GAT:  0.680\n",
            "Train_GAT:  0.675\n",
            "Train_GAT:  0.670\n",
            "Train_GAT:  0.665\n",
            "Train_GAT:  0.660\n",
            "Train_GAT:  0.656\n",
            "Train_GAT:  0.651\n",
            "Train_GAT:  0.647\n",
            "Train_GAT:  0.643\n",
            "Train_GAT:  0.639\n",
            "Train_GAT:  0.635\n",
            "Train_GAT:  0.631\n",
            "Train_GAT:  0.627\n",
            "Train_GAT:  0.623\n",
            "Train_GAT:  0.619\n",
            "Train_GAT:  0.616\n",
            "Train_GAT:  0.612\n",
            "Train_GAT:  0.608\n",
            "Train_GAT:  0.605\n",
            "Train_GAT:  0.601\n",
            "Train_GAT:  0.598\n",
            "Train_GAT:  0.594\n",
            "Train_GAT:  0.591\n",
            "Train_GAT:  0.588\n",
            "Train_GAT:  0.585\n",
            "Train_GAT:  0.581\n",
            "Train_GAT:  0.578\n",
            "Train_GAT:  0.575\n",
            "Train_GAT:  0.572\n",
            "Train_GAT:  0.569\n",
            "Train_GAT:  0.566\n",
            "Train_GAT:  0.563\n",
            "Train_GAT:  0.559\n",
            "Train_GAT:  0.557\n",
            "Train_GAT:  0.554\n",
            "Train_GAT:  0.551\n",
            "Train_GAT:  0.548\n",
            "Train_GAT:  0.545\n",
            "Train_GAT:  0.542\n",
            "Train_GAT:  0.539\n",
            "Train_GAT:  0.536\n",
            "Train_GAT:  0.534\n",
            "Train_GAT:  0.531\n",
            "Train_GAT:  0.528\n",
            "Train_GAT:  0.526\n",
            "Train_GAT:  0.523\n",
            "Train_GAT:  0.520\n",
            "Train_GAT:  0.518\n",
            "Train_GAT:  0.515\n"
          ]
        }
      ]
    },
    {
      "cell_type": "markdown",
      "source": [
        "# Visualize train_loss for both models. "
      ],
      "metadata": {
        "id": "3JYZgu6cQHm4"
      }
    },
    {
      "cell_type": "code",
      "source": [
        "import matplotlib.pyplot as plt\n",
        "plt.plot(train_loss_BGAT_, \"m\")\n",
        "plt.plot(train_loss_GAT_, \"c\")\n",
        "plt.xlabel('epoch')\n",
        "plt.ylabel('loss')\n",
        "plt.legend(['Train_BGAT','Train_GAT'])\n",
        "plt.title('Second scenario, Train_BGAT vs Train_GAT ')\n",
        "plt.grid()\n",
        "plt.show()"
      ],
      "metadata": {
        "colab": {
          "base_uri": "https://localhost:8080/",
          "height": 295
        },
        "id": "C9tIhc65Y2aa",
        "outputId": "7b5fd0a7-32ee-489a-cb54-4fe912fbc465"
      },
      "execution_count": null,
      "outputs": [
        {
          "output_type": "display_data",
          "data": {
            "text/plain": [
              "<Figure size 432x288 with 1 Axes>"
            ],
            "image/png": "[encoded data removed]"
          },
          "metadata": {
            "needs_background": "light"
          }
        }
      ]
    }
  ]
}
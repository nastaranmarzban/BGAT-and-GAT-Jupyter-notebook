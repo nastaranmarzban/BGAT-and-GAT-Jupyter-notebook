{
  "nbformat": 4,
  "nbformat_minor": 0,
  "metadata": {
    "colab": {
      "provenance": []
    },
    "kernelspec": {
      "name": "python3",
      "display_name": "Python 3"
    },
    "language_info": {
      "name": "python"
    },
    "gpuClass": "standard"
  },
  "cells": [
    {
      "cell_type": "markdown",
      "source": [
        "## Mount to gdrive to read data, adjacency matrix, p_link and labels. "
      ],
      "metadata": {
        "id": "dWu3Z-XWQsh9"
      }
    },
    {
      "cell_type": "code",
      "execution_count": null,
      "metadata": {
        "colab": {
          "base_uri": "https://localhost:8080/"
        },
        "id": "O1Goe68YyFV8",
        "outputId": "1f976225-f322-4348-e971-228bf78a4ed6"
      },
      "outputs": [
        {
          "output_type": "stream",
          "name": "stdout",
          "text": [
            "Drive already mounted at /gdrive; to attempt to forcibly remount, call drive.mount(\"/gdrive\", force_remount=True).\n"
          ]
        }
      ],
      "source": [
        "from google.colab import drive\n",
        "drive.mount('/gdrive')"
      ]
    },
    {
      "cell_type": "markdown",
      "source": [
        "# Install pandas to read csv files from gdrive. Install torch and numpy which are packages that are needed durind coding."
      ],
      "metadata": {
        "id": "zcOnvP1RQvXv"
      }
    },
    {
      "cell_type": "code",
      "source": [
        "!pip install pandas\n",
        "import pandas as pd\n",
        "import torch\n",
        "import numpy as np"
      ],
      "metadata": {
        "colab": {
          "base_uri": "https://localhost:8080/"
        },
        "id": "30N90I8wyuLO",
        "outputId": "e546e44e-340d-4354-def2-87d62ca153e0"
      },
      "execution_count": null,
      "outputs": [
        {
          "output_type": "stream",
          "name": "stdout",
          "text": [
            "Looking in indexes: https://pypi.org/simple, https://us-python.pkg.dev/colab-wheels/public/simple/\n",
            "Requirement already satisfied: pandas in /usr/local/lib/python3.8/dist-packages (1.3.5)\n",
            "Requirement already satisfied: numpy>=1.17.3 in /usr/local/lib/python3.8/dist-packages (from pandas) (1.21.6)\n",
            "Requirement already satisfied: python-dateutil>=2.7.3 in /usr/local/lib/python3.8/dist-packages (from pandas) (2.8.2)\n",
            "Requirement already satisfied: pytz>=2017.3 in /usr/local/lib/python3.8/dist-packages (from pandas) (2022.6)\n",
            "Requirement already satisfied: six>=1.5 in /usr/local/lib/python3.8/dist-packages (from python-dateutil>=2.7.3->pandas) (1.15.0)\n"
          ]
        }
      ]
    },
    {
      "cell_type": "code",
      "source": [
        "path = F\"/gdrive/MyDrive/4classes.sim/data.pt\"\n",
        "Data = torch.load(path)\n",
        "Data"
      ],
      "metadata": {
        "colab": {
          "base_uri": "https://localhost:8080/"
        },
        "id": "O1ef8v-Qywv6",
        "outputId": "137ef95e-bc3c-46f5-b0d8-d23924e6fd53"
      },
      "execution_count": null,
      "outputs": [
        {
          "output_type": "execute_result",
          "data": {
            "text/plain": [
              "{'x': tensor([[-0.4530,  0.5955, -1.1069,  ...,  0.5985,  0.1790,  0.2985],\n",
              "         [ 0.2027,  0.6537,  0.6290,  ..., -0.1876, -1.2782,  0.5982],\n",
              "         [-0.2713,  0.4418,  1.5845,  ..., -1.1430, -2.2012,  0.7388],\n",
              "         ...,\n",
              "         [ 0.5176, -1.6871, -1.4386,  ..., -0.2084,  1.3068, -0.1615],\n",
              "         [ 0.0700, -1.4413, -0.2656,  ..., -0.3264,  1.0155,  0.4870],\n",
              "         [-0.2865,  1.4095,  1.7289,  ..., -0.3547, -1.7226,  0.7805]]),\n",
              " 'edge_index': tensor([[ 0,  0,  1,  1,  1,  2,  2,  2,  2,  4,  4,  4,  4,  5,  5,  6,  6,  6,\n",
              "           6,  6,  6,  7,  8,  8,  8,  8,  8,  8,  9,  9,  9,  9,  9,  9, 10, 10,\n",
              "          11, 11, 11, 11, 11, 12, 13, 13, 14, 14, 14, 14, 14, 14, 14, 14, 14, 14,\n",
              "          14, 16, 17, 17, 17, 18, 18, 18, 18, 19, 19, 19, 20, 20, 21, 21, 21, 21,\n",
              "          21, 21, 22, 23, 24, 24, 24, 24, 25, 25, 26, 26, 26, 26, 26, 26, 26, 26,\n",
              "          27, 28, 29, 29, 29, 29, 29, 29, 29, 30, 30, 30, 30, 30, 30, 30, 32, 32,\n",
              "          33, 34, 34, 34, 34, 34, 34, 35, 36, 37, 37, 37, 37, 37, 38, 38, 39, 39],\n",
              "         [17, 33, 18, 26, 37,  5, 10, 23, 25, 14, 21, 29, 30,  2, 16,  8,  9, 14,\n",
              "          29, 30, 34, 36,  6,  9, 14, 29, 30, 34,  6,  8, 21, 29, 30, 34,  2, 11,\n",
              "          10, 18, 26, 27, 37, 25, 20, 22,  4,  6,  8, 19, 21, 24, 29, 30, 34, 37,\n",
              "          39,  5,  0, 20, 39,  1, 11, 26, 32, 14, 26, 37, 13, 17,  4,  9, 14, 24,\n",
              "          29, 34, 13,  2, 14, 21, 30, 34,  2, 12,  1, 11, 18, 19, 28, 35, 37, 38,\n",
              "          11, 26,  4,  6,  8,  9, 14, 21, 30,  4,  6,  8,  9, 14, 24, 29, 18, 38,\n",
              "           0,  6,  8,  9, 14, 21, 24, 26,  7,  1, 11, 14, 19, 26, 26, 32, 14, 17]]),\n",
              " 'y': tensor([0, 2, 3, 0, 1, 3, 1, 3, 1, 1, 3, 2, 3, 0, 1, 3, 3, 0, 2, 2, 0, 1, 0, 3,\n",
              "         1, 3, 2, 2, 2, 1, 1, 0, 0, 0, 1, 2, 3, 2, 2, 0]),\n",
              " 'train_mask': tensor([ True, False, False, False, False,  True, False, False, False,  True,\n",
              "         False, False,  True, False,  True, False, False, False,  True, False,\n",
              "         False, False,  True, False, False, False, False,  True, False, False,\n",
              "         False, False, False, False, False, False, False, False, False, False]),\n",
              " 'val_mask': tensor([False, False, False, False, False, False, False,  True,  True, False,\n",
              "         False,  True, False, False, False,  True, False, False, False, False,\n",
              "          True,  True, False,  True, False, False, False, False,  True, False,\n",
              "         False,  True, False, False, False, False, False, False,  True, False]),\n",
              " 'test_mask': tensor([False,  True,  True,  True,  True, False,  True, False, False, False,\n",
              "          True, False, False,  True, False, False,  True,  True, False,  True,\n",
              "         False, False, False, False,  True,  True,  True, False, False,  True,\n",
              "          True, False,  True,  True,  True,  True,  True,  True, False,  True])}"
            ]
          },
          "metadata": {},
          "execution_count": 3
        }
      ]
    },
    {
      "cell_type": "code",
      "source": [
        "path = F\"/gdrive/MyDrive/4classes.sim/p_link.pt\"\n",
        "p_link = torch.load(path)\n",
        "print(p_link)\n",
        "print(p_link.size())\n",
        "print(p_link.dtype)\n",
        "print(p_link.type())"
      ],
      "metadata": {
        "colab": {
          "base_uri": "https://localhost:8080/"
        },
        "id": "b-Wx_7tjy1Sy",
        "outputId": "2b6389f3-cc9e-41f8-b41c-fe5daf4ce000"
      },
      "execution_count": null,
      "outputs": [
        {
          "output_type": "stream",
          "name": "stdout",
          "text": [
            "tensor([[1.0000, 0.0000, 0.0000,  ..., 0.0200, 0.0900, 0.0000],\n",
            "        [0.0000, 1.0000, 0.2000,  ..., 0.6900, 0.0200, 0.2100],\n",
            "        [0.0000, 0.2000, 1.0000,  ..., 0.0300, 0.0300, 0.0100],\n",
            "        ...,\n",
            "        [0.0200, 0.6900, 0.0300,  ..., 1.0000, 0.1600, 0.5800],\n",
            "        [0.0900, 0.0200, 0.0300,  ..., 0.1600, 1.0000, 0.2000],\n",
            "        [0.0000, 0.2100, 0.0100,  ..., 0.5800, 0.2000, 1.0000]])\n",
            "torch.Size([40, 40])\n",
            "torch.float32\n",
            "torch.FloatTensor\n"
          ]
        }
      ]
    },
    {
      "cell_type": "markdown",
      "source": [
        "# Install torch_geometic."
      ],
      "metadata": {
        "id": "kVqXNqw3QzjR"
      }
    },
    {
      "cell_type": "code",
      "source": [
        "import os\n",
        "os.environ['TORCH'] = torch.__version__\n",
        "print(torch.__version__)\n",
        "\n",
        "!pip install -q torch-scatter -f https://data.pyg.org/whl/torch-${TORCH}.html\n",
        "!pip install -q torch-sparse -f https://data.pyg.org/whl/torch-${TORCH}.html\n",
        "!pip install -q git+https://github.com/pyg-team/pytorch_geometric.git"
      ],
      "metadata": {
        "colab": {
          "base_uri": "https://localhost:8080/"
        },
        "id": "l9SsnbJ_z9UV",
        "outputId": "f9bf5905-672e-4918-aa2b-c5cea627c89b"
      },
      "execution_count": null,
      "outputs": [
        {
          "output_type": "stream",
          "name": "stdout",
          "text": [
            "1.13.0+cu116\n",
            "\u001b[K     |████████████████████████████████| 9.4 MB 27.6 MB/s \n",
            "\u001b[K     |████████████████████████████████| 4.6 MB 28.6 MB/s \n",
            "\u001b[?25h"
          ]
        }
      ]
    },
    {
      "cell_type": "markdown",
      "source": [
        "# Create BGAT and GAT layers. "
      ],
      "metadata": {
        "id": "Bboe7xS-Q3Dw"
      }
    },
    {
      "cell_type": "code",
      "source": [
        "from torch_geometric.nn import MessagePassing\n",
        "import torch_geometric.nn\n",
        "import torch.nn.functional as F\n",
        "from torch_geometric.utils import add_self_loops\n",
        "from torch_geometric.nn import GATConv"
      ],
      "metadata": {
        "id": "NfnXrtIEy8wC"
      },
      "execution_count": null,
      "outputs": []
    },
    {
      "cell_type": "code",
      "source": [
        "class BGATConv(MessagePassing):\n",
        "    def __init__(\n",
        "        self,\n",
        "        in_channels,\n",
        "        out_channels,\n",
        "        **kwargs,\n",
        "    ):\n",
        "        kwargs.setdefault('aggr', 'add')\n",
        "        super().__init__(node_dim = 0, **kwargs)\n",
        "        self.in_channels = in_channels\n",
        "        self.out_channels = out_channels\n",
        "        self.lin = torch.nn.Linear(in_channels, out_channels)\n",
        "\n",
        "    def forward(self, x, edge_index):\n",
        "        edge_index, _ = add_self_loops(Data[\"edge_index\"], num_nodes = Data[\"x\"].size(0))\n",
        "        x = self.lin(x)\n",
        "        atten = p_link\n",
        "        return self.propagate(edge_index, x=x, atten = atten)\n",
        "\n",
        "    def message(self, x_j, atten, edge_index_i, edge_index_j):\n",
        "        return atten[edge_index_i, edge_index_j].reshape(-1,1) * x_j\n",
        "\n",
        "    def __repr__(self):\n",
        "        return '{}({}, {})'.format(self.__class__.__name__, self.in_channels, self.out_channels)"
      ],
      "metadata": {
        "id": "hAk8kdxQy_Ky"
      },
      "execution_count": null,
      "outputs": []
    },
    {
      "cell_type": "code",
      "source": [
        "class Myconv_BGAT(torch.nn.Module):\n",
        "    def __init__(self):\n",
        "        super().__init__()\n",
        "        torch.manual_seed(2)\n",
        "        self.conv1 = BGATConv(in_channels = 500, out_channels = 50)\n",
        "        self.conv2 =  BGATConv(50, 10)\n",
        "        self.conv3 =  BGATConv(10, 4)\n",
        "        \n",
        "    def forward(self, x, edge_index):\n",
        "        h = self.conv1(x, edge_index)\n",
        "        h = F.torch.tanh(h)\n",
        "        h = self.conv2(h, edge_index)\n",
        "        h = F.torch.tanh(h)\n",
        "        h = self.conv3(h, edge_index)# Final GNN embedding space.\n",
        "        h = F.log_softmax(h)\n",
        "        return h\n",
        "        \n",
        "model_BGAT = Myconv_BGAT()\n",
        "print(model_BGAT)\n",
        "print(model_BGAT.forward(Data[\"x\"], Data[\"edge_index\"]))"
      ],
      "metadata": {
        "id": "GWNxvyEnzCfU",
        "colab": {
          "base_uri": "https://localhost:8080/"
        },
        "outputId": "8e7432a7-63f9-40eb-8628-b1cc71ff9e7a"
      },
      "execution_count": null,
      "outputs": [
        {
          "output_type": "stream",
          "name": "stdout",
          "text": [
            "Myconv_BGAT(\n",
            "  (conv1): BGATConv(500, 50)\n",
            "  (conv2): BGATConv(50, 10)\n",
            "  (conv3): BGATConv(10, 4)\n",
            ")\n",
            "tensor([[ -2.8707,  -3.4974,  -0.1526,  -2.9075],\n",
            "        [ -1.0652,  -1.9093,  -1.5955,  -1.1896],\n",
            "        [ -2.1635,  -3.3861,  -0.3989,  -1.7140],\n",
            "        [ -1.3228,  -1.4786,  -1.5151,  -1.2521],\n",
            "        [ -2.0014,  -0.6609,  -1.0544,  -9.5835],\n",
            "        [ -2.0046,  -2.8759,  -0.6233,  -1.2992],\n",
            "        [ -2.8296,  -0.2859,  -1.6626, -12.7543],\n",
            "        [ -1.1789,  -1.5411,  -1.6864,  -1.2275],\n",
            "        [ -2.8913,  -0.2720,  -1.7003, -13.0820],\n",
            "        [ -2.4686,  -0.4631,  -1.2520, -11.6449],\n",
            "        [ -1.4750,  -1.7880,  -0.9600,  -1.5094],\n",
            "        [ -0.9170,  -1.2654,  -1.9920,  -1.7053],\n",
            "        [ -1.4784,  -2.0022,  -0.9031,  -1.4624],\n",
            "        [ -2.7180,  -2.9736,  -0.2210,  -2.5118],\n",
            "        [ -2.8403,  -0.2415,  -1.8570, -14.6291],\n",
            "        [ -1.3367,  -1.5211,  -1.3278,  -1.3714],\n",
            "        [ -1.6430,  -2.3355,  -0.8739,  -1.2291],\n",
            "        [ -3.4319,  -4.1346,  -0.0958,  -3.1470],\n",
            "        [ -1.1831,  -2.2075,  -1.4006,  -1.0869],\n",
            "        [ -0.9423,  -1.0722,  -1.9305,  -2.0961],\n",
            "        [ -2.9920,  -3.2575,  -0.1752,  -2.6303],\n",
            "        [ -2.0790,  -0.8455,  -0.8084, -10.1432],\n",
            "        [ -2.1252,  -2.2306,  -0.4491,  -2.0028],\n",
            "        [ -1.6865,  -2.1122,  -0.8501,  -1.3223],\n",
            "        [ -1.8387,  -0.7721,  -0.9707,  -9.2265],\n",
            "        [ -1.8138,  -2.5164,  -0.6264,  -1.5064],\n",
            "        [ -0.2137,  -2.4092,  -4.4890,  -2.3934],\n",
            "        [ -1.0846,  -0.9907,  -1.9579,  -1.9005],\n",
            "        [ -1.2152,  -1.7112,  -1.5653,  -1.1594],\n",
            "        [ -2.8401,  -0.3090,  -1.5732, -13.0521],\n",
            "        [ -3.2143,  -0.2485,  -1.7157, -14.8221],\n",
            "        [ -1.3428,  -1.4406,  -1.6031,  -1.2012],\n",
            "        [ -0.9815,  -2.1195,  -1.9237,  -1.0241],\n",
            "        [ -2.0548,  -2.5299,  -0.3743,  -2.2593],\n",
            "        [ -2.6582,  -0.4244,  -1.2882, -12.5098],\n",
            "        [ -1.2376,  -1.9160,  -1.3145,  -1.2238],\n",
            "        [ -1.1789,  -1.5411,  -1.6864,  -1.2275],\n",
            "        [ -0.7774,  -1.2649,  -2.2945,  -1.8493],\n",
            "        [ -1.1652,  -2.4666,  -1.7944,  -0.8278],\n",
            "        [ -2.0863,  -2.3084,  -0.4300,  -2.0723]],\n",
            "       grad_fn=<LogSoftmaxBackward0>)\n"
          ]
        },
        {
          "output_type": "stream",
          "name": "stderr",
          "text": [
            "<ipython-input-10-821b25de8f36>:15: UserWarning: Implicit dimension choice for log_softmax has been deprecated. Change the call to include dim=X as an argument.\n",
            "  h = F.log_softmax(h)\n"
          ]
        }
      ]
    },
    {
      "cell_type": "code",
      "source": [
        "class Myconv_GAT(torch.nn.Module):\n",
        "    def __init__(self):\n",
        "        super().__init__()\n",
        "        torch.manual_seed(2)\n",
        "        self.conv1 = GATConv(in_channels = 500, out_channels = 8)\n",
        "        self.conv2 =  GATConv(8,4)\n",
        "\n",
        "        \n",
        "\n",
        "    def forward(self, x, edge_index):\n",
        "        f = self.conv1(x, edge_index)\n",
        "        f = F.torch.tanh(f)\n",
        "        f = self.conv2(f, edge_index)# Final GNN embedding space.\n",
        "        f = F.log_softmax(f)\n",
        "        return f\n",
        "        \n",
        "\n",
        "model_GAT = Myconv_GAT()\n",
        "print(model_GAT)\n",
        "print(model_GAT.forward(Data[\"x\"], Data[\"edge_index\"]))"
      ],
      "metadata": {
        "id": "Q9jEr1XnzOW7",
        "colab": {
          "base_uri": "https://localhost:8080/"
        },
        "outputId": "94481122-80b4-4c4c-9e1a-ab4f9a9a845d"
      },
      "execution_count": null,
      "outputs": [
        {
          "output_type": "stream",
          "name": "stdout",
          "text": [
            "Myconv_GAT(\n",
            "  (conv1): GATConv(500, 8, heads=1)\n",
            "  (conv2): GATConv(8, 4, heads=1)\n",
            ")\n",
            "tensor([[-1.4782, -3.2267, -1.6484, -0.6164],\n",
            "        [-2.0163, -2.9077, -1.6430, -0.4799],\n",
            "        [-0.9537, -1.8489, -2.1233, -1.0858],\n",
            "        [-2.5058, -2.3223, -0.3816, -1.9836],\n",
            "        [-1.0091, -2.2511, -1.4071, -1.2542],\n",
            "        [-1.2715, -1.9648, -2.0565, -0.7952],\n",
            "        [-0.9781, -2.0685, -1.6489, -1.1863],\n",
            "        [-1.2810, -0.7253, -2.0576, -2.2048],\n",
            "        [-0.9781, -2.0685, -1.6489, -1.1863],\n",
            "        [-1.0504, -2.1256, -1.5886, -1.1190],\n",
            "        [-1.4075, -1.5120, -1.7793, -1.0051],\n",
            "        [-1.8909, -2.5580, -1.5674, -0.5744],\n",
            "        [-0.4946, -1.8777, -2.1263, -2.1373],\n",
            "        [-1.4524, -2.7654, -1.5383, -0.7168],\n",
            "        [-1.1531, -2.7234, -1.3636, -1.0135],\n",
            "        [-1.4762, -1.8212, -1.0878, -1.2994],\n",
            "        [-1.2769, -2.0969, -2.1223, -0.7371],\n",
            "        [-1.4118, -3.4797, -1.4304, -0.7210],\n",
            "        [-2.0807, -2.8264, -1.6534, -0.4707],\n",
            "        [-1.5796, -2.4318, -1.4956, -0.7299],\n",
            "        [-1.4831, -3.3766, -1.4775, -0.6720],\n",
            "        [-1.0161, -2.1776, -1.3977, -1.2819],\n",
            "        [-1.2698, -1.0947, -2.0855, -1.3463],\n",
            "        [-1.1697, -1.6640, -2.0356, -0.9954],\n",
            "        [-1.1055, -2.0337, -1.4079, -1.2260],\n",
            "        [-0.6846, -1.7376, -1.9916, -1.6967],\n",
            "        [-2.0622, -2.7837, -1.7222, -0.4583],\n",
            "        [-2.0313, -1.1905, -1.3081, -1.2226],\n",
            "        [-2.1968, -2.8560, -1.8019, -0.4059],\n",
            "        [-0.9979, -2.2088, -1.4881, -1.2184],\n",
            "        [-0.9643, -2.1317, -1.4674, -1.3108],\n",
            "        [-3.3169, -1.8301, -0.9734, -0.8544],\n",
            "        [-2.0530, -2.6790, -1.6247, -0.5008],\n",
            "        [-1.5837, -2.4563, -2.1402, -0.5252],\n",
            "        [-1.0640, -2.0765, -1.4935, -1.1876],\n",
            "        [-2.2714, -2.9443, -1.8941, -0.3657],\n",
            "        [-1.2810, -0.7253, -2.0576, -2.2048],\n",
            "        [-1.7555, -2.5869, -1.5488, -0.6173],\n",
            "        [-1.9904, -2.5437, -1.5481, -0.5584],\n",
            "        [-1.3121, -3.5187, -1.3645, -0.8084]], grad_fn=<LogSoftmaxBackward0>)\n"
          ]
        },
        {
          "output_type": "stream",
          "name": "stderr",
          "text": [
            "<ipython-input-11-3c123f49bc3d>:14: UserWarning: Implicit dimension choice for log_softmax has been deprecated. Change the call to include dim=X as an argument.\n",
            "  f = F.log_softmax(f)\n"
          ]
        }
      ]
    },
    {
      "cell_type": "markdown",
      "source": [
        "# Train BGAT and GAT models. "
      ],
      "metadata": {
        "id": "sSf-BXhKQ8DX"
      }
    },
    {
      "cell_type": "code",
      "source": [
        "model = Myconv_BGAT()\n",
        "criterion = torch.nn.CrossEntropyLoss()  # Define loss criterion.\n",
        "optimizer = torch.optim.Adam(model.parameters(),  lr = 0.0005)  # Define optimizer, an object for updating parameters\n",
        "#loss = loss + weight decay parameter * L2 norm of the weights, 1) To prevent overfitting 2) To keep the weights small and avoid exploding gradient\n",
        "\n",
        "def train_BGAT(Data):\n",
        "    model.train()\n",
        "    optimizer.zero_grad()  # Clear gradients.\n",
        "    out = model(Data[\"x\"], Data[\"edge_index\"])\n",
        "    train_loss_BGAT = criterion(out[Data[\"train_mask\"]], Data[\"y\"][Data[\"train_mask\"]])  # Compute the loss solely based on the training nodes.\n",
        "    train_loss_BGAT.backward()  # Derive gradients.\n",
        "    optimizer.step()  # Update parameters based on gradients.\n",
        "    return train_loss_BGAT\n",
        "\n",
        "train_loss_BGAT_ = []\n",
        "for epoch in range(1, 201):\n",
        "  epoch_train_lossBGAT = []\n",
        "  train_loss_BGAT = train_BGAT(Data)\n",
        "  epoch_train_lossBGAT.append(train_loss_BGAT.item())\n",
        "  train_loss_BGAT_.append(sum(epoch_train_lossBGAT)/len(epoch_train_lossBGAT))\n",
        "  print(f'Train_BGAT:  {train_loss_BGAT:.3f}')  "
      ],
      "metadata": {
        "id": "ipX-THD7zZlK",
        "colab": {
          "base_uri": "https://localhost:8080/"
        },
        "outputId": "1e220918-ae8d-47fb-d63b-7e6047c94c49"
      },
      "execution_count": null,
      "outputs": [
        {
          "output_type": "stream",
          "name": "stderr",
          "text": [
            "<ipython-input-10-821b25de8f36>:15: UserWarning: Implicit dimension choice for log_softmax has been deprecated. Change the call to include dim=X as an argument.\n",
            "  h = F.log_softmax(h)\n"
          ]
        },
        {
          "output_type": "stream",
          "name": "stdout",
          "text": [
            "Train_BGAT:  1.478\n",
            "Train_BGAT:  0.957\n",
            "Train_BGAT:  0.624\n",
            "Train_BGAT:  0.415\n",
            "Train_BGAT:  0.288\n",
            "Train_BGAT:  0.214\n",
            "Train_BGAT:  0.169\n",
            "Train_BGAT:  0.141\n",
            "Train_BGAT:  0.121\n",
            "Train_BGAT:  0.107\n",
            "Train_BGAT:  0.096\n",
            "Train_BGAT:  0.087\n",
            "Train_BGAT:  0.080\n",
            "Train_BGAT:  0.074\n",
            "Train_BGAT:  0.069\n",
            "Train_BGAT:  0.064\n",
            "Train_BGAT:  0.060\n",
            "Train_BGAT:  0.057\n",
            "Train_BGAT:  0.054\n",
            "Train_BGAT:  0.051\n",
            "Train_BGAT:  0.049\n",
            "Train_BGAT:  0.047\n",
            "Train_BGAT:  0.045\n",
            "Train_BGAT:  0.044\n",
            "Train_BGAT:  0.043\n",
            "Train_BGAT:  0.042\n",
            "Train_BGAT:  0.041\n",
            "Train_BGAT:  0.040\n",
            "Train_BGAT:  0.039\n",
            "Train_BGAT:  0.038\n",
            "Train_BGAT:  0.038\n",
            "Train_BGAT:  0.037\n",
            "Train_BGAT:  0.037\n",
            "Train_BGAT:  0.036\n",
            "Train_BGAT:  0.036\n",
            "Train_BGAT:  0.035\n",
            "Train_BGAT:  0.035\n",
            "Train_BGAT:  0.035\n",
            "Train_BGAT:  0.034\n",
            "Train_BGAT:  0.034\n",
            "Train_BGAT:  0.034\n",
            "Train_BGAT:  0.033\n",
            "Train_BGAT:  0.033\n",
            "Train_BGAT:  0.033\n",
            "Train_BGAT:  0.032\n",
            "Train_BGAT:  0.032\n",
            "Train_BGAT:  0.032\n",
            "Train_BGAT:  0.032\n",
            "Train_BGAT:  0.032\n",
            "Train_BGAT:  0.031\n",
            "Train_BGAT:  0.031\n",
            "Train_BGAT:  0.031\n",
            "Train_BGAT:  0.031\n",
            "Train_BGAT:  0.030\n",
            "Train_BGAT:  0.030\n",
            "Train_BGAT:  0.030\n",
            "Train_BGAT:  0.030\n",
            "Train_BGAT:  0.030\n",
            "Train_BGAT:  0.030\n",
            "Train_BGAT:  0.029\n",
            "Train_BGAT:  0.029\n",
            "Train_BGAT:  0.029\n",
            "Train_BGAT:  0.029\n",
            "Train_BGAT:  0.029\n",
            "Train_BGAT:  0.029\n",
            "Train_BGAT:  0.028\n",
            "Train_BGAT:  0.028\n",
            "Train_BGAT:  0.028\n",
            "Train_BGAT:  0.028\n",
            "Train_BGAT:  0.028\n",
            "Train_BGAT:  0.028\n",
            "Train_BGAT:  0.027\n",
            "Train_BGAT:  0.027\n",
            "Train_BGAT:  0.027\n",
            "Train_BGAT:  0.027\n",
            "Train_BGAT:  0.027\n",
            "Train_BGAT:  0.027\n",
            "Train_BGAT:  0.027\n",
            "Train_BGAT:  0.026\n",
            "Train_BGAT:  0.026\n",
            "Train_BGAT:  0.026\n",
            "Train_BGAT:  0.026\n",
            "Train_BGAT:  0.026\n",
            "Train_BGAT:  0.026\n",
            "Train_BGAT:  0.026\n",
            "Train_BGAT:  0.026\n",
            "Train_BGAT:  0.025\n",
            "Train_BGAT:  0.025\n",
            "Train_BGAT:  0.025\n",
            "Train_BGAT:  0.025\n",
            "Train_BGAT:  0.025\n",
            "Train_BGAT:  0.025\n",
            "Train_BGAT:  0.025\n",
            "Train_BGAT:  0.025\n",
            "Train_BGAT:  0.024\n",
            "Train_BGAT:  0.024\n",
            "Train_BGAT:  0.024\n",
            "Train_BGAT:  0.024\n",
            "Train_BGAT:  0.024\n",
            "Train_BGAT:  0.024\n",
            "Train_BGAT:  0.024\n",
            "Train_BGAT:  0.024\n",
            "Train_BGAT:  0.023\n",
            "Train_BGAT:  0.023\n",
            "Train_BGAT:  0.023\n",
            "Train_BGAT:  0.023\n",
            "Train_BGAT:  0.023\n",
            "Train_BGAT:  0.023\n",
            "Train_BGAT:  0.023\n",
            "Train_BGAT:  0.023\n",
            "Train_BGAT:  0.023\n",
            "Train_BGAT:  0.022\n",
            "Train_BGAT:  0.022\n",
            "Train_BGAT:  0.022\n",
            "Train_BGAT:  0.022\n",
            "Train_BGAT:  0.022\n",
            "Train_BGAT:  0.022\n",
            "Train_BGAT:  0.022\n",
            "Train_BGAT:  0.022\n",
            "Train_BGAT:  0.022\n",
            "Train_BGAT:  0.022\n",
            "Train_BGAT:  0.021\n",
            "Train_BGAT:  0.021\n",
            "Train_BGAT:  0.021\n",
            "Train_BGAT:  0.021\n",
            "Train_BGAT:  0.021\n",
            "Train_BGAT:  0.021\n",
            "Train_BGAT:  0.021\n",
            "Train_BGAT:  0.021\n",
            "Train_BGAT:  0.021\n",
            "Train_BGAT:  0.021\n",
            "Train_BGAT:  0.020\n",
            "Train_BGAT:  0.020\n",
            "Train_BGAT:  0.020\n",
            "Train_BGAT:  0.020\n",
            "Train_BGAT:  0.020\n",
            "Train_BGAT:  0.020\n",
            "Train_BGAT:  0.020\n",
            "Train_BGAT:  0.020\n",
            "Train_BGAT:  0.020\n",
            "Train_BGAT:  0.020\n",
            "Train_BGAT:  0.020\n",
            "Train_BGAT:  0.019\n",
            "Train_BGAT:  0.019\n",
            "Train_BGAT:  0.019\n",
            "Train_BGAT:  0.019\n",
            "Train_BGAT:  0.019\n",
            "Train_BGAT:  0.019\n",
            "Train_BGAT:  0.019\n",
            "Train_BGAT:  0.019\n",
            "Train_BGAT:  0.019\n",
            "Train_BGAT:  0.019\n",
            "Train_BGAT:  0.019\n",
            "Train_BGAT:  0.019\n",
            "Train_BGAT:  0.018\n",
            "Train_BGAT:  0.018\n",
            "Train_BGAT:  0.018\n",
            "Train_BGAT:  0.018\n",
            "Train_BGAT:  0.018\n",
            "Train_BGAT:  0.018\n",
            "Train_BGAT:  0.018\n",
            "Train_BGAT:  0.018\n",
            "Train_BGAT:  0.018\n",
            "Train_BGAT:  0.018\n",
            "Train_BGAT:  0.018\n",
            "Train_BGAT:  0.018\n",
            "Train_BGAT:  0.018\n",
            "Train_BGAT:  0.017\n",
            "Train_BGAT:  0.017\n",
            "Train_BGAT:  0.017\n",
            "Train_BGAT:  0.017\n",
            "Train_BGAT:  0.017\n",
            "Train_BGAT:  0.017\n",
            "Train_BGAT:  0.017\n",
            "Train_BGAT:  0.017\n",
            "Train_BGAT:  0.017\n",
            "Train_BGAT:  0.017\n",
            "Train_BGAT:  0.017\n",
            "Train_BGAT:  0.017\n",
            "Train_BGAT:  0.017\n",
            "Train_BGAT:  0.017\n",
            "Train_BGAT:  0.017\n",
            "Train_BGAT:  0.016\n",
            "Train_BGAT:  0.016\n",
            "Train_BGAT:  0.016\n",
            "Train_BGAT:  0.016\n",
            "Train_BGAT:  0.016\n",
            "Train_BGAT:  0.016\n",
            "Train_BGAT:  0.016\n",
            "Train_BGAT:  0.016\n",
            "Train_BGAT:  0.016\n",
            "Train_BGAT:  0.016\n",
            "Train_BGAT:  0.016\n",
            "Train_BGAT:  0.016\n",
            "Train_BGAT:  0.016\n",
            "Train_BGAT:  0.016\n",
            "Train_BGAT:  0.016\n",
            "Train_BGAT:  0.015\n",
            "Train_BGAT:  0.015\n",
            "Train_BGAT:  0.015\n"
          ]
        }
      ]
    },
    {
      "cell_type": "code",
      "source": [
        "model = Myconv_GAT()\n",
        "criterion = torch.nn.CrossEntropyLoss()  # Define loss criterion.\n",
        "optimizer = torch.optim.Adam(model.parameters(),  lr = 0.0005)  # Define optimizer, an object for updating parameters\n",
        "#loss = loss + weight decay parameter * L2 norm of the weights, 1) To prevent overfitting 2) To keep the weights small and avoid exploding gradient\n",
        "\n",
        "def train_GAT(Data):\n",
        "    model.train()\n",
        "    optimizer.zero_grad()  # Clear gradients.\n",
        "    out = model(Data[\"x\"], Data[\"edge_index\"])\n",
        "    train_loss_GAT = criterion(out[Data[\"train_mask\"]], Data[\"y\"][Data[\"train_mask\"]])  # Compute the loss solely based on the training nodes.\n",
        "    train_loss_GAT.backward()  # Derive gradients.\n",
        "    optimizer.step()  # Update parameters based on gradients.\n",
        "    return train_loss_GAT\n",
        "\n",
        "train_loss_GAT_ = []\n",
        "for epoch in range(1, 201):\n",
        "  epoch_train_lossGAT = []\n",
        "  train_loss_GAT = train_GAT(Data)\n",
        "  epoch_train_lossGAT.append(train_loss_GAT.item())\n",
        "  train_loss_GAT_.append(sum(epoch_train_lossGAT)/len(epoch_train_lossGAT))\n",
        "  print(f'Train_GAT:  {train_loss_GAT:.3f}')    "
      ],
      "metadata": {
        "id": "4EXm7O0nzg3o",
        "colab": {
          "base_uri": "https://localhost:8080/"
        },
        "outputId": "2b64fb54-25d7-417d-e251-7c5dea48b285"
      },
      "execution_count": null,
      "outputs": [
        {
          "output_type": "stream",
          "name": "stdout",
          "text": [
            "Train_GAT:  1.686\n",
            "Train_GAT:  1.583\n",
            "Train_GAT:  1.483\n",
            "Train_GAT:  1.389\n",
            "Train_GAT:  1.304\n",
            "Train_GAT:  1.229\n",
            "Train_GAT:  1.158\n",
            "Train_GAT:  1.088\n",
            "Train_GAT:  1.023\n",
            "Train_GAT:  0.961\n",
            "Train_GAT:  0.902\n",
            "Train_GAT:  0.846\n",
            "Train_GAT:  0.793\n",
            "Train_GAT:  0.745\n",
            "Train_GAT:  0.700\n",
            "Train_GAT:  0.658\n",
            "Train_GAT:  0.620\n"
          ]
        },
        {
          "output_type": "stream",
          "name": "stderr",
          "text": [
            "<ipython-input-11-3c123f49bc3d>:14: UserWarning: Implicit dimension choice for log_softmax has been deprecated. Change the call to include dim=X as an argument.\n",
            "  f = F.log_softmax(f)\n"
          ]
        },
        {
          "output_type": "stream",
          "name": "stdout",
          "text": [
            "Train_GAT:  0.584\n",
            "Train_GAT:  0.551\n",
            "Train_GAT:  0.521\n",
            "Train_GAT:  0.492\n",
            "Train_GAT:  0.466\n",
            "Train_GAT:  0.442\n",
            "Train_GAT:  0.419\n",
            "Train_GAT:  0.399\n",
            "Train_GAT:  0.380\n",
            "Train_GAT:  0.364\n",
            "Train_GAT:  0.349\n",
            "Train_GAT:  0.335\n",
            "Train_GAT:  0.322\n",
            "Train_GAT:  0.311\n",
            "Train_GAT:  0.301\n",
            "Train_GAT:  0.291\n",
            "Train_GAT:  0.283\n",
            "Train_GAT:  0.276\n",
            "Train_GAT:  0.269\n",
            "Train_GAT:  0.262\n",
            "Train_GAT:  0.257\n",
            "Train_GAT:  0.251\n",
            "Train_GAT:  0.247\n",
            "Train_GAT:  0.242\n",
            "Train_GAT:  0.237\n",
            "Train_GAT:  0.233\n",
            "Train_GAT:  0.229\n",
            "Train_GAT:  0.225\n",
            "Train_GAT:  0.222\n",
            "Train_GAT:  0.218\n",
            "Train_GAT:  0.215\n",
            "Train_GAT:  0.211\n",
            "Train_GAT:  0.208\n",
            "Train_GAT:  0.205\n",
            "Train_GAT:  0.202\n",
            "Train_GAT:  0.199\n",
            "Train_GAT:  0.196\n",
            "Train_GAT:  0.193\n",
            "Train_GAT:  0.190\n",
            "Train_GAT:  0.188\n",
            "Train_GAT:  0.185\n",
            "Train_GAT:  0.183\n",
            "Train_GAT:  0.181\n",
            "Train_GAT:  0.178\n",
            "Train_GAT:  0.176\n",
            "Train_GAT:  0.174\n",
            "Train_GAT:  0.172\n",
            "Train_GAT:  0.171\n",
            "Train_GAT:  0.169\n",
            "Train_GAT:  0.167\n",
            "Train_GAT:  0.166\n",
            "Train_GAT:  0.164\n",
            "Train_GAT:  0.163\n",
            "Train_GAT:  0.162\n",
            "Train_GAT:  0.161\n",
            "Train_GAT:  0.159\n",
            "Train_GAT:  0.158\n",
            "Train_GAT:  0.157\n",
            "Train_GAT:  0.156\n",
            "Train_GAT:  0.155\n",
            "Train_GAT:  0.154\n",
            "Train_GAT:  0.153\n",
            "Train_GAT:  0.152\n",
            "Train_GAT:  0.151\n",
            "Train_GAT:  0.150\n",
            "Train_GAT:  0.149\n",
            "Train_GAT:  0.148\n",
            "Train_GAT:  0.148\n",
            "Train_GAT:  0.147\n",
            "Train_GAT:  0.146\n",
            "Train_GAT:  0.145\n",
            "Train_GAT:  0.144\n",
            "Train_GAT:  0.143\n",
            "Train_GAT:  0.143\n",
            "Train_GAT:  0.142\n",
            "Train_GAT:  0.141\n",
            "Train_GAT:  0.141\n",
            "Train_GAT:  0.140\n",
            "Train_GAT:  0.139\n",
            "Train_GAT:  0.138\n",
            "Train_GAT:  0.138\n",
            "Train_GAT:  0.137\n",
            "Train_GAT:  0.136\n",
            "Train_GAT:  0.136\n",
            "Train_GAT:  0.135\n",
            "Train_GAT:  0.134\n",
            "Train_GAT:  0.134\n",
            "Train_GAT:  0.133\n",
            "Train_GAT:  0.132\n",
            "Train_GAT:  0.132\n",
            "Train_GAT:  0.131\n",
            "Train_GAT:  0.131\n",
            "Train_GAT:  0.130\n",
            "Train_GAT:  0.129\n",
            "Train_GAT:  0.129\n",
            "Train_GAT:  0.128\n",
            "Train_GAT:  0.128\n",
            "Train_GAT:  0.127\n",
            "Train_GAT:  0.126\n",
            "Train_GAT:  0.126\n",
            "Train_GAT:  0.125\n",
            "Train_GAT:  0.125\n",
            "Train_GAT:  0.124\n",
            "Train_GAT:  0.124\n",
            "Train_GAT:  0.123\n",
            "Train_GAT:  0.123\n",
            "Train_GAT:  0.122\n",
            "Train_GAT:  0.121\n",
            "Train_GAT:  0.121\n",
            "Train_GAT:  0.120\n",
            "Train_GAT:  0.120\n",
            "Train_GAT:  0.119\n",
            "Train_GAT:  0.119\n",
            "Train_GAT:  0.118\n",
            "Train_GAT:  0.118\n",
            "Train_GAT:  0.117\n",
            "Train_GAT:  0.117\n",
            "Train_GAT:  0.116\n",
            "Train_GAT:  0.116\n",
            "Train_GAT:  0.115\n",
            "Train_GAT:  0.115\n",
            "Train_GAT:  0.114\n",
            "Train_GAT:  0.114\n",
            "Train_GAT:  0.113\n",
            "Train_GAT:  0.113\n",
            "Train_GAT:  0.112\n",
            "Train_GAT:  0.112\n",
            "Train_GAT:  0.111\n",
            "Train_GAT:  0.111\n",
            "Train_GAT:  0.110\n",
            "Train_GAT:  0.110\n",
            "Train_GAT:  0.109\n",
            "Train_GAT:  0.109\n",
            "Train_GAT:  0.108\n",
            "Train_GAT:  0.108\n",
            "Train_GAT:  0.108\n",
            "Train_GAT:  0.107\n",
            "Train_GAT:  0.107\n",
            "Train_GAT:  0.106\n",
            "Train_GAT:  0.106\n",
            "Train_GAT:  0.105\n",
            "Train_GAT:  0.105\n",
            "Train_GAT:  0.104\n",
            "Train_GAT:  0.104\n",
            "Train_GAT:  0.103\n",
            "Train_GAT:  0.102\n",
            "Train_GAT:  0.102\n",
            "Train_GAT:  0.101\n",
            "Train_GAT:  0.101\n",
            "Train_GAT:  0.100\n",
            "Train_GAT:  0.100\n",
            "Train_GAT:  0.099\n",
            "Train_GAT:  0.099\n",
            "Train_GAT:  0.099\n",
            "Train_GAT:  0.098\n",
            "Train_GAT:  0.098\n",
            "Train_GAT:  0.097\n",
            "Train_GAT:  0.097\n",
            "Train_GAT:  0.097\n",
            "Train_GAT:  0.096\n",
            "Train_GAT:  0.096\n",
            "Train_GAT:  0.095\n",
            "Train_GAT:  0.095\n",
            "Train_GAT:  0.094\n",
            "Train_GAT:  0.094\n",
            "Train_GAT:  0.094\n",
            "Train_GAT:  0.093\n",
            "Train_GAT:  0.093\n",
            "Train_GAT:  0.093\n",
            "Train_GAT:  0.092\n",
            "Train_GAT:  0.092\n",
            "Train_GAT:  0.091\n",
            "Train_GAT:  0.091\n",
            "Train_GAT:  0.091\n",
            "Train_GAT:  0.090\n",
            "Train_GAT:  0.090\n",
            "Train_GAT:  0.089\n",
            "Train_GAT:  0.089\n",
            "Train_GAT:  0.089\n",
            "Train_GAT:  0.088\n",
            "Train_GAT:  0.088\n",
            "Train_GAT:  0.088\n",
            "Train_GAT:  0.087\n"
          ]
        }
      ]
    },
    {
      "cell_type": "markdown",
      "source": [
        "# Visualize train_loss for both models. "
      ],
      "metadata": {
        "id": "oiBzIN8lRBqp"
      }
    },
    {
      "cell_type": "code",
      "source": [
        "import matplotlib.pyplot as plt\n",
        "#X = np.arange(0, 100, 1)\n",
        "plt.plot(train_loss_BGAT_, \"m\")\n",
        "plt.plot(train_loss_GAT_, \"c\")\n",
        "plt.xlabel('epoch')\n",
        "plt.ylabel('loss')\n",
        "plt.legend(['Train_BGAT','Train_GAT'])\n",
        "plt.title('First scenario, Train_BGAT vs Train_GAT')\n",
        "plt.grid()\n",
        "plt.show()"
      ],
      "metadata": {
        "id": "cNLD0AAFznKz",
        "colab": {
          "base_uri": "https://localhost:8080/",
          "height": 295
        },
        "outputId": "15cb78aa-6c0f-416f-b21a-995ff218178c"
      },
      "execution_count": null,
      "outputs": [
        {
          "output_type": "display_data",
          "data": {
            "text/plain": [
              "<Figure size 432x288 with 1 Axes>"
            ],
            "image/png": "[encoded data removed]"
          },
          "metadata": {
            "needs_background": "light"
          }
        }
      ]
    }
  ]
}
{
  "nbformat": 4,
  "nbformat_minor": 0,
  "metadata": {
    "colab": {
      "provenance": []
    },
    "kernelspec": {
      "name": "python3",
      "display_name": "Python 3"
    },
    "language_info": {
      "name": "python"
    }
  },
  "cells": [
    {
      "cell_type": "markdown",
      "source": [
        "## Mount to gdrive to read data, adjacency matrix, p_link and labels. "
      ],
      "metadata": {
        "id": "S_R8VKuyN86N"
      }
    },
    {
      "cell_type": "code",
      "execution_count": null,
      "metadata": {
        "colab": {
          "base_uri": "https://localhost:8080/"
        },
        "id": "U-5hJDdrwTAt",
        "outputId": "4cde0cce-a746-4b57-d864-8315e045529f"
      },
      "outputs": [
        {
          "output_type": "stream",
          "name": "stdout",
          "text": [
            "Drive already mounted at /gdrive; to attempt to forcibly remount, call drive.mount(\"/gdrive\", force_remount=True).\n"
          ]
        }
      ],
      "source": [
        "from google.colab import drive\n",
        "drive.mount('/gdrive')"
      ]
    },
    {
      "cell_type": "markdown",
      "source": [
        "# Install pandas to read csv files from gdrive. Install torch and numpy which are packages that are needed durind coding."
      ],
      "metadata": {
        "id": "yH4Nc1XEOglQ"
      }
    },
    {
      "cell_type": "code",
      "source": [
        "!pip install pandas\n",
        "import pandas as pd\n",
        "import torch\n",
        "import numpy as np"
      ],
      "metadata": {
        "colab": {
          "base_uri": "https://localhost:8080/"
        },
        "id": "SG3e6wKAwdJO",
        "outputId": "e7a665ac-8078-4e79-ae68-50427f735ea4"
      },
      "execution_count": null,
      "outputs": [
        {
          "output_type": "stream",
          "name": "stdout",
          "text": [
            "Looking in indexes: https://pypi.org/simple, https://us-python.pkg.dev/colab-wheels/public/simple/\n",
            "Requirement already satisfied: pandas in /usr/local/lib/python3.8/dist-packages (1.3.5)\n",
            "Requirement already satisfied: python-dateutil>=2.7.3 in /usr/local/lib/python3.8/dist-packages (from pandas) (2.8.2)\n",
            "Requirement already satisfied: pytz>=2017.3 in /usr/local/lib/python3.8/dist-packages (from pandas) (2022.6)\n",
            "Requirement already satisfied: numpy>=1.17.3 in /usr/local/lib/python3.8/dist-packages (from pandas) (1.21.6)\n",
            "Requirement already satisfied: six>=1.5 in /usr/local/lib/python3.8/dist-packages (from python-dateutil>=2.7.3->pandas) (1.15.0)\n"
          ]
        }
      ]
    },
    {
      "cell_type": "code",
      "source": [
        "path = F\"/gdrive/MyDrive/Gene/gene.pt\"\n",
        "Data = torch.load(path)\n",
        "Data"
      ],
      "metadata": {
        "colab": {
          "base_uri": "https://localhost:8080/"
        },
        "id": "48SjUiPAwesR",
        "outputId": "02302a64-dabb-4823-dc6e-3b5817867934"
      },
      "execution_count": null,
      "outputs": [
        {
          "output_type": "execute_result",
          "data": {
            "text/plain": [
              "{'x': tensor([[12.2066,  8.5495, 10.7969,  ...,  8.4967,  8.5979,  8.8691],\n",
              "         [ 9.6155,  8.9314,  9.5201,  ...,  9.6052, 11.1579, 10.5243],\n",
              "         [ 6.2624, 10.6610,  8.8817,  ...,  6.8272,  6.2315,  6.5671],\n",
              "         ...,\n",
              "         [ 6.0040, 11.8118, 10.3843,  ...,  7.5903, 12.6739, 12.8235],\n",
              "         [ 8.8085, 12.8148, 15.4529,  ...,  9.6657, 13.1217, 10.3099],\n",
              "         [ 7.3143, 13.6116, 12.9968,  ...,  8.7592,  9.8862,  9.2184]]),\n",
              " 'edge_index': tensor([[ 0,  0,  0,  0,  0,  0,  1,  2,  2,  2,  2,  2,  3,  3,  4,  4,  4,  4,\n",
              "           4,  5,  5,  5,  5,  5,  5,  6,  6,  6,  7,  7,  7,  7,  7,  7,  7,  7,\n",
              "           8,  8,  8,  8,  8,  8,  8,  9,  9,  9,  9,  9,  9,  9,  9,  9, 10, 10,\n",
              "          10, 10, 11, 11, 11, 11, 11, 11, 12, 12, 12, 13, 13, 13, 13, 14, 14, 14,\n",
              "          14, 15, 15, 15, 15, 15, 15, 15, 15, 16, 16, 16, 16, 16, 16, 16, 17, 17,\n",
              "          17, 17, 17, 17, 17, 17, 17, 17, 18, 18, 18, 18, 18, 18, 18, 19, 19, 19,\n",
              "          19, 19, 19, 20, 20, 20, 20, 20, 20, 20, 21, 21, 21, 21, 21, 21, 21, 21,\n",
              "          21, 21, 22, 22, 22, 23, 23, 23, 23, 24, 24, 24, 24, 24, 25, 25, 25, 25,\n",
              "          25, 26, 26, 26, 26, 26, 27, 27, 28, 28, 28, 29, 29, 29, 29, 29, 29, 30,\n",
              "          30, 30, 30, 30, 31, 31, 31, 31, 31, 32, 32, 32, 33, 33, 33, 33, 33, 33,\n",
              "          34, 34, 34, 34, 34, 35, 35, 35, 35, 36, 36, 36, 36, 36, 36, 36, 36, 36,\n",
              "          36, 37, 37, 37, 38, 38, 38, 38, 39, 40, 40, 41, 41, 42, 42, 42, 43, 43,\n",
              "          43, 44, 44, 44, 45, 45, 46, 46, 47, 48, 48, 48, 49, 50, 50, 50, 51, 52,\n",
              "          52, 52, 53, 53, 53, 53, 54, 54, 55, 55, 56, 56, 56, 57, 57, 57, 57, 57,\n",
              "          58, 58, 59, 59, 60, 60, 61, 62, 62, 62, 63, 64, 64, 64],\n",
              "         [ 5,  8,  9, 12, 21, 32, 36, 10, 13, 16, 40, 62, 17, 25,  7, 15, 18, 19,\n",
              "          38,  0,  7,  9, 11, 21, 33,  7, 19, 39,  4,  5,  6, 17, 18, 19, 24, 31,\n",
              "           0, 18, 21, 29, 38, 41, 57,  0,  5, 15, 18, 21, 24, 26, 33, 36,  2, 21,\n",
              "          36, 44,  5, 24, 26, 29, 35, 50,  0, 15, 37,  2, 14, 17, 60, 13, 17, 19,\n",
              "          47,  4,  9, 12, 16, 17, 21, 36, 56,  2, 15, 19, 26, 36, 51, 52,  3,  7,\n",
              "          13, 14, 15, 20, 26, 27, 33, 40,  4,  7,  8,  9, 36, 37, 64,  4,  6,  7,\n",
              "          14, 16, 36, 17, 21, 24, 26, 31, 38, 52,  0,  5,  8,  9, 10, 15, 20, 33,\n",
              "          37, 58, 24, 31, 36, 25, 35, 41, 57,  7,  9, 11, 20, 22,  3, 23, 30, 46,\n",
              "          57,  9, 11, 16, 17, 20, 17, 53, 29, 34, 52,  8, 11, 28, 31, 34, 50, 25,\n",
              "          31, 32, 33, 43,  7, 20, 22, 29, 30,  0, 30, 34,  5,  9, 17, 21, 30, 34,\n",
              "          28, 29, 32, 33, 63, 11, 23, 43, 61,  1,  9, 10, 15, 16, 18, 19, 22, 48,\n",
              "          55, 12, 18, 21,  4,  8, 20, 57,  6,  2, 17,  8, 23, 44, 45, 56, 30, 35,\n",
              "          53, 10, 42, 60, 42, 53, 25, 55, 14, 36, 53, 62, 50, 11, 29, 49, 16, 16,\n",
              "          20, 28, 27, 43, 45, 48, 57, 59, 36, 46, 15, 42, 64,  8, 23, 25, 38, 54,\n",
              "          21, 59, 54, 58, 13, 44, 35,  2, 48, 64, 34, 18, 56, 62]]),\n",
              " 'y': tensor([0, 0, 0, 0, 0, 0, 0, 0, 0, 0, 0, 0, 0, 0, 0, 0, 0, 0, 0, 0, 0, 0, 1, 1,\n",
              "         1, 1, 1, 1, 2, 2, 2, 2, 2, 2, 2, 2, 2, 2, 2, 1, 1, 1, 1, 1, 1, 1, 1, 1,\n",
              "         1, 1, 1, 1, 1, 1, 2, 2, 2, 2, 2, 2, 2, 2, 2, 2, 2]),\n",
              " 'train_mask': tensor([False,  True, False, False, False, False, False, False, False, False,\n",
              "          True,  True,  True, False,  True, False,  True, False, False, False,\n",
              "         False, False, False, False, False, False, False, False, False,  True,\n",
              "         False, False, False, False, False, False, False, False, False,  True,\n",
              "          True, False, False,  True, False, False, False, False,  True, False,\n",
              "          True,  True, False, False, False,  True, False,  True,  True, False,\n",
              "          True, False, False,  True, False]),\n",
              " 'val_mask': tensor([False, False, False, False, False, False, False, False, False, False,\n",
              "         False, False, False,  True, False, False, False, False, False, False,\n",
              "          True,  True, False, False, False, False,  True, False, False, False,\n",
              "         False, False, False, False, False,  True, False,  True, False, False,\n",
              "         False, False, False, False,  True, False, False, False, False, False,\n",
              "         False, False, False,  True, False, False, False, False, False, False,\n",
              "         False,  True,  True, False, False]),\n",
              " 'test_mask': tensor([ True, False,  True,  True,  True,  True,  True,  True,  True,  True,\n",
              "         False, False, False, False, False,  True, False,  True,  True,  True,\n",
              "         False, False,  True,  True,  True,  True, False,  True,  True, False,\n",
              "          True,  True,  True,  True,  True, False,  True, False,  True, False,\n",
              "         False,  True,  True, False, False,  True,  True,  True, False,  True,\n",
              "         False, False,  True, False,  True, False,  True, False, False,  True,\n",
              "         False, False, False, False,  True])}"
            ]
          },
          "metadata": {},
          "execution_count": 3
        }
      ]
    },
    {
      "cell_type": "code",
      "source": [
        "path = F\"/gdrive/MyDrive/Gene/p_links_gene.pt\"\n",
        "p_link = torch.load(path)\n",
        "print(p_link.size())\n",
        "print(p_link.dtype)\n",
        "print(p_link.type())"
      ],
      "metadata": {
        "colab": {
          "base_uri": "https://localhost:8080/"
        },
        "id": "5t4bpGaBwjCE",
        "outputId": "c17db911-d498-4844-d8e5-40f59f155f26"
      },
      "execution_count": null,
      "outputs": [
        {
          "output_type": "stream",
          "name": "stdout",
          "text": [
            "torch.Size([65, 65])\n",
            "torch.float32\n",
            "torch.FloatTensor\n"
          ]
        }
      ]
    },
    {
      "cell_type": "markdown",
      "source": [
        "# Install torch_geometic."
      ],
      "metadata": {
        "id": "VQE2SnNCOIen"
      }
    },
    {
      "cell_type": "code",
      "source": [
        "import os\n",
        "os.environ['TORCH'] = torch.__version__\n",
        "print(torch.__version__)\n",
        "\n",
        "!pip install -q torch-scatter -f https://data.pyg.org/whl/torch-${TORCH}.html\n",
        "!pip install -q torch-sparse -f https://data.pyg.org/whl/torch-${TORCH}.html\n",
        "!pip install -q git+https://github.com/pyg-team/pytorch_geometric.git"
      ],
      "metadata": {
        "colab": {
          "base_uri": "https://localhost:8080/"
        },
        "id": "hformbNDwnWa",
        "outputId": "09cfb73b-d04b-474b-ed8c-49a5725c918c"
      },
      "execution_count": null,
      "outputs": [
        {
          "output_type": "stream",
          "name": "stdout",
          "text": [
            "1.13.0+cu116\n"
          ]
        }
      ]
    },
    {
      "cell_type": "markdown",
      "source": [
        "# Create BGAT and GAT layers. "
      ],
      "metadata": {
        "id": "NBu6AiKGQZLf"
      }
    },
    {
      "cell_type": "code",
      "source": [
        "from torch_geometric.nn import MessagePassing\n",
        "import torch_geometric.nn\n",
        "import torch.nn.functional as F\n",
        "from torch_geometric.utils import add_self_loops\n",
        "from torch_geometric.nn import GATConv"
      ],
      "metadata": {
        "id": "3jRr2wVTwo4B"
      },
      "execution_count": null,
      "outputs": []
    },
    {
      "cell_type": "code",
      "source": [
        "class BGATConv(MessagePassing):\n",
        "    def __init__(\n",
        "        self,\n",
        "        in_channels,\n",
        "        out_channels,\n",
        "        **kwargs,\n",
        "    ):\n",
        "        kwargs.setdefault('aggr', 'add')\n",
        "        super().__init__(node_dim = 0, **kwargs)\n",
        "        self.in_channels = in_channels\n",
        "        self.out_channels = out_channels\n",
        "        self.lin = torch.nn.Linear(in_channels, out_channels)\n",
        "\n",
        "    def forward(self, x, edge_index):\n",
        "        edge_index, _ = add_self_loops(Data[\"edge_index\"], num_nodes = Data[\"x\"].size(0))\n",
        "        x = self.lin(x)\n",
        "        atten = p_link\n",
        "        return self.propagate(edge_index, x=x, atten = atten)\n",
        "\n",
        "    def message(self, x_j, atten, edge_index_i, edge_index_j):\n",
        "        return atten[edge_index_i, edge_index_j].reshape(-1,1) * x_j\n",
        "\n",
        "    def __repr__(self):\n",
        "        return '{}({}, {})'.format(self.__class__.__name__, self.in_channels, self.out_channels)"
      ],
      "metadata": {
        "id": "d3ti-8nhwq9i"
      },
      "execution_count": null,
      "outputs": []
    },
    {
      "cell_type": "code",
      "source": [
        "class Myconv_BGAT(torch.nn.Module):\n",
        "    def __init__(self):\n",
        "        super().__init__()\n",
        "        torch.manual_seed(2)\n",
        "        self.conv1 = BGATConv(in_channels = 60, out_channels = 60)\n",
        "        self.conv2 =  BGATConv(60,5)\n",
        "        self.conv3 =  BGATConv(5,3)\n",
        "        \n",
        "    def forward(self, x, edge_index):\n",
        "        h = self.conv1(x, edge_index)\n",
        "        h = F.torch.tanh(h)\n",
        "        h = self.conv2(h, edge_index)\n",
        "        h = F.torch.tanh(h)\n",
        "        h = self.conv3(h, edge_index)# Final GNN embedding space.\n",
        "        h = F.log_softmax(h)\n",
        "        return h\n",
        "        \n",
        "model_BGAT = Myconv_BGAT()\n",
        "print(model_BGAT)\n",
        "print(model_BGAT.forward(Data[\"x\"], Data[\"edge_index\"]))"
      ],
      "metadata": {
        "colab": {
          "base_uri": "https://localhost:8080/"
        },
        "id": "feK91IoEws4x",
        "outputId": "2392720f-68f8-4672-a69d-3a67df16fcb0"
      },
      "execution_count": null,
      "outputs": [
        {
          "output_type": "stream",
          "name": "stdout",
          "text": [
            "Myconv_BGAT(\n",
            "  (conv1): BGATConv(60, 60)\n",
            "  (conv2): BGATConv(60, 5)\n",
            "  (conv3): BGATConv(5, 3)\n",
            ")\n",
            "tensor([[-6.7195e-02, -7.4934e+00, -2.7422e+00],\n",
            "        [-4.2972e-01, -2.8846e+00, -1.2261e+00],\n",
            "        [-1.8065e-01, -4.7703e+00, -1.8528e+00],\n",
            "        [-4.5217e-01, -2.5397e+00, -1.2558e+00],\n",
            "        [-1.0915e-01, -5.7875e+00, -2.2992e+00],\n",
            "        [-8.5165e-02, -6.7021e+00, -2.5206e+00],\n",
            "        [-3.0864e-01, -3.5520e+00, -1.4402e+00],\n",
            "        [-3.8119e-02, -8.4973e+00, -3.2915e+00],\n",
            "        [-5.4496e-02, -7.8311e+00, -2.9443e+00],\n",
            "        [-1.4561e-02, -1.1661e+01, -4.2373e+00],\n",
            "        [-1.3321e-01, -5.4508e+00, -2.1167e+00],\n",
            "        [-1.0566e-01, -6.3224e+00, -2.3179e+00],\n",
            "        [-2.8587e-01, -3.6445e+00, -1.5028e+00],\n",
            "        [-1.5049e-01, -4.9877e+00, -2.0182e+00],\n",
            "        [-1.5988e-01, -4.9238e+00, -1.9627e+00],\n",
            "        [-3.4744e-02, -9.0501e+00, -3.3805e+00],\n",
            "        [-5.5635e-02, -7.6459e+00, -2.9255e+00],\n",
            "        [-2.4231e-02, -1.0234e+01, -3.7337e+00],\n",
            "        [-4.5780e-02, -8.0043e+00, -3.1142e+00],\n",
            "        [-6.7531e-02, -7.0552e+00, -2.7421e+00],\n",
            "        [-5.0383e-02, -8.2713e+00, -3.0184e+00],\n",
            "        [-9.1131e-03, -1.2866e+01, -4.7029e+00],\n",
            "        [-1.6974e-01, -4.8633e+00, -1.9079e+00],\n",
            "        [-3.2752e-01, -2.9419e+00, -1.4849e+00],\n",
            "        [-7.6255e-02, -6.9990e+00, -2.6241e+00],\n",
            "        [-2.3203e-01, -3.7819e+00, -1.6912e+00],\n",
            "        [-7.7890e-02, -7.1039e+00, -2.6022e+00],\n",
            "        [-4.2531e-01, -2.7695e+00, -1.2597e+00],\n",
            "        [-2.6053e-01, -4.0677e+00, -1.5500e+00],\n",
            "        [-8.3083e-02, -7.2491e+00, -2.5381e+00],\n",
            "        [-1.2120e-01, -5.3518e+00, -2.2127e+00],\n",
            "        [-1.0187e-01, -6.0438e+00, -2.3593e+00],\n",
            "        [-1.9847e-01, -4.3540e+00, -1.7888e+00],\n",
            "        [-6.8490e-02, -7.1608e+00, -2.7269e+00],\n",
            "        [-1.0258e-01, -6.4179e+00, -2.3448e+00],\n",
            "        [-3.0345e-01, -3.5785e+00, -1.4532e+00],\n",
            "        [-1.3382e-02, -1.2079e+01, -4.3209e+00],\n",
            "        [-2.0411e-01, -4.5006e+00, -1.7514e+00],\n",
            "        [-2.0076e-01, -4.4231e+00, -1.7726e+00],\n",
            "        [-5.8304e-01, -2.2913e+00, -1.0769e+00],\n",
            "        [-4.5060e-01, -2.7396e+00, -1.2101e+00],\n",
            "        [-5.2281e-01, -2.1226e+00, -1.2468e+00],\n",
            "        [-2.2150e-01, -3.5551e+00, -1.7714e+00],\n",
            "        [-2.9736e-01, -3.4648e+00, -1.4875e+00],\n",
            "        [-1.7092e-01, -4.3228e+00, -1.9390e+00],\n",
            "        [-3.4580e-01, -2.9055e+00, -1.4371e+00],\n",
            "        [-3.3645e-01, -3.2428e+00, -1.3998e+00],\n",
            "        [-7.6064e-01, -1.7823e+00, -1.0095e+00],\n",
            "        [-2.1944e-01, -4.3333e+00, -1.6933e+00],\n",
            "        [-6.3276e-01, -2.1150e+00, -1.0549e+00],\n",
            "        [-3.0071e-01, -3.7423e+00, -1.4439e+00],\n",
            "        [-4.5337e-01, -2.4913e+00, -1.2669e+00],\n",
            "        [-2.7913e-01, -3.7692e+00, -1.5119e+00],\n",
            "        [-2.1065e-01, -4.3678e+00, -1.7301e+00],\n",
            "        [-3.9290e-01, -3.1527e+00, -1.2653e+00],\n",
            "        [-2.6221e-01, -3.9817e+00, -1.5512e+00],\n",
            "        [-2.7152e-01, -3.1554e+00, -1.6339e+00],\n",
            "        [-2.2423e-01, -4.0408e+00, -1.6967e+00],\n",
            "        [-2.8705e-01, -3.8993e+00, -1.4729e+00],\n",
            "        [-3.1916e-01, -3.7109e+00, -1.3912e+00],\n",
            "        [-2.9999e-01, -3.2450e+00, -1.5132e+00],\n",
            "        [-7.0023e-01, -1.9124e+00, -1.0334e+00],\n",
            "        [-2.3356e-01, -3.9310e+00, -1.6678e+00],\n",
            "        [-5.3184e-01, -2.3985e+00, -1.1344e+00],\n",
            "        [-2.6270e-01, -3.3225e+00, -1.6349e+00]],\n",
            "       grad_fn=<LogSoftmaxBackward0>)\n"
          ]
        },
        {
          "output_type": "stream",
          "name": "stderr",
          "text": [
            "<ipython-input-8-76ad4a03373c>:15: UserWarning: Implicit dimension choice for log_softmax has been deprecated. Change the call to include dim=X as an argument.\n",
            "  h = F.log_softmax(h)\n"
          ]
        }
      ]
    },
    {
      "cell_type": "code",
      "source": [
        "class Myconv_GAT(torch.nn.Module):\n",
        "    def __init__(self):\n",
        "        super().__init__()\n",
        "        torch.manual_seed(2)\n",
        "        self.conv1 = GATConv(in_channels = 60, out_channels = 5)\n",
        "        self.conv2 =  GATConv(5,3)\n",
        "\n",
        "        \n",
        "    def forward(self, x, edge_index):\n",
        "        f = self.conv1(x, edge_index)\n",
        "        f = F.torch.tanh(f)\n",
        "        f = self.conv2(f, edge_index)\n",
        "        f = F.torch.tanh(f)\n",
        "        return f\n",
        "        \n",
        "\n",
        "model_GAT = Myconv_GAT()\n",
        "print(model_GAT)\n",
        "print(model_GAT.forward(Data[\"x\"], Data[\"edge_index\"]))"
      ],
      "metadata": {
        "colab": {
          "base_uri": "https://localhost:8080/"
        },
        "id": "wprBzdX4wvVR",
        "outputId": "71181d7d-b230-45f2-c8f0-5225e9e5234a"
      },
      "execution_count": null,
      "outputs": [
        {
          "output_type": "stream",
          "name": "stdout",
          "text": [
            "Myconv_GAT(\n",
            "  (conv1): GATConv(60, 5, heads=1)\n",
            "  (conv2): GATConv(5, 3, heads=1)\n",
            ")\n",
            "tensor([[ 0.9613, -0.7171, -0.8712],\n",
            "        [ 0.8757, -0.0557, -0.3784],\n",
            "        [ 0.8746, -0.0565, -0.3897],\n",
            "        [ 0.8528,  0.0570, -0.3116],\n",
            "        [ 0.8656,  0.0011, -0.3580],\n",
            "        [ 0.9284, -0.4222, -0.6926],\n",
            "        [ 0.8692, -0.0100, -0.3606],\n",
            "        [ 0.9531, -0.6432, -0.8337],\n",
            "        [ 0.9749, -0.8397, -0.9328],\n",
            "        [ 0.8754, -0.0474, -0.3881],\n",
            "        [ 0.8747, -0.0684, -0.3660],\n",
            "        [ 0.9678, -0.7737, -0.9025],\n",
            "        [ 0.9090, -0.2829, -0.5702],\n",
            "        [ 0.9126, -0.3059, -0.6031],\n",
            "        [ 0.8605, -0.0025, -0.3713],\n",
            "        [ 0.8808, -0.0902, -0.4216],\n",
            "        [ 0.8676, -0.0121, -0.3535],\n",
            "        [ 0.8558,  0.0360, -0.3294],\n",
            "        [ 0.9592, -0.7009, -0.8639],\n",
            "        [ 0.8634,  0.0064, -0.3472],\n",
            "        [ 0.9558, -0.6673, -0.8465],\n",
            "        [ 0.9526, -0.6375, -0.8269],\n",
            "        [ 0.9673, -0.7701, -0.8999],\n",
            "        [ 0.9791, -0.8778, -0.9488],\n",
            "        [ 0.9313, -0.4468, -0.7128],\n",
            "        [ 0.9721, -0.8218, -0.9216],\n",
            "        [ 0.9310, -0.4476, -0.7137],\n",
            "        [ 0.8532,  0.0549, -0.3135],\n",
            "        [ 0.9747, -0.8342, -0.9318],\n",
            "        [ 0.9760, -0.8457, -0.9372],\n",
            "        [ 0.9611, -0.7134, -0.8712],\n",
            "        [ 0.9697, -0.7907, -0.9111],\n",
            "        [ 0.9636, -0.7357, -0.8824],\n",
            "        [ 0.9542, -0.6505, -0.8365],\n",
            "        [ 0.9721, -0.8125, -0.9216],\n",
            "        [ 0.9730, -0.8256, -0.9244],\n",
            "        [ 0.8727, -0.0316, -0.3711],\n",
            "        [ 0.9054, -0.2591, -0.5524],\n",
            "        [ 0.9675, -0.7742, -0.9033],\n",
            "        [ 0.8748, -0.0372, -0.3772],\n",
            "        [ 0.8503,  0.0531, -0.2980],\n",
            "        [ 0.9815, -0.8954, -0.9575],\n",
            "        [ 0.8624, -0.0136, -0.3268],\n",
            "        [ 0.8785, -0.0466, -0.3934],\n",
            "        [ 0.9160, -0.3430, -0.6191],\n",
            "        [ 0.8594,  0.0108, -0.3219],\n",
            "        [ 0.8772, -0.0635, -0.3824],\n",
            "        [ 0.7870,  0.2144, -0.2217],\n",
            "        [ 0.8803, -0.0675, -0.4007],\n",
            "        [ 0.9727, -0.8167, -0.9235],\n",
            "        [ 0.9723, -0.8132, -0.9218],\n",
            "        [ 0.8613,  0.0235, -0.3363],\n",
            "        [ 0.9654, -0.7525, -0.8920],\n",
            "        [ 0.8632,  0.0075, -0.3397],\n",
            "        [ 0.8722, -0.0221, -0.3724],\n",
            "        [ 0.8770, -0.0765, -0.3786],\n",
            "        [ 0.8653, -0.0011, -0.3546],\n",
            "        [ 0.9758, -0.8489, -0.9366],\n",
            "        [ 0.8786, -0.0517, -0.3911],\n",
            "        [ 0.8794, -0.0500, -0.3958],\n",
            "        [ 0.9255, -0.4095, -0.6692],\n",
            "        [ 0.8793, -0.0500, -0.3954],\n",
            "        [ 0.8745, -0.0429, -0.3854],\n",
            "        [ 0.9716, -0.8074, -0.9191],\n",
            "        [ 0.8728, -0.0285, -0.3844]], grad_fn=<TanhBackward0>)\n"
          ]
        }
      ]
    },
    {
      "cell_type": "markdown",
      "source": [
        "# Train BGAT and GAT models. "
      ],
      "metadata": {
        "id": "gvWLNVipQdtY"
      }
    },
    {
      "cell_type": "code",
      "source": [
        "model = Myconv_BGAT()\n",
        "criterion = torch.nn.CrossEntropyLoss()  # Define loss criterion.\n",
        "optimizer = torch.optim.Adam(model.parameters(),  lr = 0.001, weight_decay = 5e-4)  # Define optimizer, an object for updating parameters\n",
        "#loss = loss + weight decay parameter * L2 norm of the weights, 1) To prevent overfitting 2) To keep the weights small and avoid exploding gradient\n",
        "\n",
        "def train_BGAT(Data):\n",
        "    model.train()\n",
        "    optimizer.zero_grad()  # Clear gradients.\n",
        "    out = model(Data[\"x\"], Data[\"edge_index\"])\n",
        "    train_loss_BGAT = criterion(out[Data[\"train_mask\"]], Data[\"y\"][Data[\"train_mask\"]])  # Compute the loss solely based on the training nodes.\n",
        "    train_loss_BGAT.backward()  # Derive gradients.\n",
        "    optimizer.step()  # Update parameters based on gradients.\n",
        "    return train_loss_BGAT\n",
        "\n",
        "train_loss_BGAT_ = []\n",
        "for epoch in range(1, 101):\n",
        "  epoch_train_lossBGAT = []\n",
        "  train_loss_BGAT = train_BGAT(Data)\n",
        "  epoch_train_lossBGAT.append(train_loss_BGAT.item())\n",
        "  train_loss_BGAT_.append(sum(epoch_train_lossBGAT)/len(epoch_train_lossBGAT))\n",
        "  print(f'Train_BGAT:  {train_loss_BGAT:.3f}')  "
      ],
      "metadata": {
        "colab": {
          "base_uri": "https://localhost:8080/"
        },
        "id": "cKn20FKwwxu0",
        "outputId": "7d094147-c71b-4ee7-aab3-3bb14f0ce9a1"
      },
      "execution_count": null,
      "outputs": [
        {
          "output_type": "stream",
          "name": "stdout",
          "text": [
            "Train_BGAT:  1.674\n",
            "Train_BGAT:  1.113\n",
            "Train_BGAT:  1.871\n",
            "Train_BGAT:  1.674\n",
            "Train_BGAT:  1.290\n",
            "Train_BGAT:  0.943\n",
            "Train_BGAT:  1.029\n",
            "Train_BGAT:  1.040\n",
            "Train_BGAT:  0.955\n",
            "Train_BGAT:  1.004\n"
          ]
        },
        {
          "output_type": "stream",
          "name": "stderr",
          "text": [
            "<ipython-input-8-76ad4a03373c>:15: UserWarning: Implicit dimension choice for log_softmax has been deprecated. Change the call to include dim=X as an argument.\n",
            "  h = F.log_softmax(h)\n"
          ]
        },
        {
          "output_type": "stream",
          "name": "stdout",
          "text": [
            "Train_BGAT:  0.918\n",
            "Train_BGAT:  0.881\n",
            "Train_BGAT:  0.868\n",
            "Train_BGAT:  0.846\n",
            "Train_BGAT:  0.852\n",
            "Train_BGAT:  0.834\n",
            "Train_BGAT:  0.838\n",
            "Train_BGAT:  0.832\n",
            "Train_BGAT:  0.887\n",
            "Train_BGAT:  0.839\n",
            "Train_BGAT:  0.847\n",
            "Train_BGAT:  0.838\n",
            "Train_BGAT:  0.826\n",
            "Train_BGAT:  0.811\n",
            "Train_BGAT:  0.804\n",
            "Train_BGAT:  0.805\n",
            "Train_BGAT:  0.812\n",
            "Train_BGAT:  0.812\n",
            "Train_BGAT:  0.806\n",
            "Train_BGAT:  0.812\n",
            "Train_BGAT:  0.794\n",
            "Train_BGAT:  0.786\n",
            "Train_BGAT:  0.772\n",
            "Train_BGAT:  0.765\n",
            "Train_BGAT:  0.743\n",
            "Train_BGAT:  0.756\n",
            "Train_BGAT:  0.794\n",
            "Train_BGAT:  0.774\n",
            "Train_BGAT:  0.764\n",
            "Train_BGAT:  0.768\n",
            "Train_BGAT:  0.751\n",
            "Train_BGAT:  0.729\n",
            "Train_BGAT:  0.728\n",
            "Train_BGAT:  0.728\n",
            "Train_BGAT:  0.723\n",
            "Train_BGAT:  0.725\n",
            "Train_BGAT:  0.713\n",
            "Train_BGAT:  0.715\n",
            "Train_BGAT:  0.712\n",
            "Train_BGAT:  0.711\n",
            "Train_BGAT:  0.697\n",
            "Train_BGAT:  0.690\n",
            "Train_BGAT:  0.690\n",
            "Train_BGAT:  0.684\n",
            "Train_BGAT:  0.684\n",
            "Train_BGAT:  0.680\n",
            "Train_BGAT:  0.678\n",
            "Train_BGAT:  0.671\n",
            "Train_BGAT:  0.673\n",
            "Train_BGAT:  0.669\n",
            "Train_BGAT:  0.662\n",
            "Train_BGAT:  0.669\n",
            "Train_BGAT:  0.665\n",
            "Train_BGAT:  0.666\n",
            "Train_BGAT:  0.644\n",
            "Train_BGAT:  0.688\n",
            "Train_BGAT:  0.667\n",
            "Train_BGAT:  0.709\n",
            "Train_BGAT:  0.672\n",
            "Train_BGAT:  0.650\n",
            "Train_BGAT:  0.695\n",
            "Train_BGAT:  0.638\n",
            "Train_BGAT:  0.651\n",
            "Train_BGAT:  0.654\n",
            "Train_BGAT:  0.636\n",
            "Train_BGAT:  0.644\n",
            "Train_BGAT:  0.631\n",
            "Train_BGAT:  0.616\n",
            "Train_BGAT:  0.606\n",
            "Train_BGAT:  0.599\n",
            "Train_BGAT:  0.617\n",
            "Train_BGAT:  0.639\n",
            "Train_BGAT:  0.620\n",
            "Train_BGAT:  0.616\n",
            "Train_BGAT:  0.587\n",
            "Train_BGAT:  0.615\n",
            "Train_BGAT:  0.604\n",
            "Train_BGAT:  0.599\n",
            "Train_BGAT:  0.601\n",
            "Train_BGAT:  0.591\n",
            "Train_BGAT:  0.583\n",
            "Train_BGAT:  0.584\n",
            "Train_BGAT:  0.571\n",
            "Train_BGAT:  0.574\n",
            "Train_BGAT:  0.561\n",
            "Train_BGAT:  0.571\n",
            "Train_BGAT:  0.556\n",
            "Train_BGAT:  0.563\n",
            "Train_BGAT:  0.550\n",
            "Train_BGAT:  0.551\n"
          ]
        }
      ]
    },
    {
      "cell_type": "code",
      "source": [
        "model = Myconv_GAT()\n",
        "criterion = torch.nn.CrossEntropyLoss()  # Define loss criterion.\n",
        "optimizer = torch.optim.Adam(model.parameters(), lr = 0.005, weight_decay = 5e-4)  # Define optimizer, an object for updating parameters\n",
        "#loss = loss + weight decay parameter * L2 norm of the weights, 1) To prevent overfitting 2) To keep the weights small and avoid exploding gradient\n",
        "\n",
        "def train_GAT(Data):\n",
        "    model.train()\n",
        "    optimizer.zero_grad()  # Clear gradients.\n",
        "    out = model(Data[\"x\"], Data[\"edge_index\"])\n",
        "    train_loss_GAT = criterion(out[Data[\"train_mask\"]], Data[\"y\"][Data[\"train_mask\"]])  # Compute the loss solely based on the training nodes.\n",
        "    train_loss_GAT.backward()  # Derive gradients.\n",
        "    optimizer.step()  # Update parameters based on gradients.\n",
        "    return train_loss_GAT\n",
        "\n",
        "train_loss_GAT_ = []\n",
        "for epoch in range(1, 101):\n",
        "  epoch_train_lossGAT = []\n",
        "  train_loss_GAT = train_GAT(Data)\n",
        "  epoch_train_lossGAT.append(train_loss_GAT.item())\n",
        "  train_loss_GAT_.append(sum(epoch_train_lossGAT)/len(epoch_train_lossGAT))\n",
        "  print(f'Train_GAT:  {train_loss_GAT:.3f}')  "
      ],
      "metadata": {
        "colab": {
          "base_uri": "https://localhost:8080/"
        },
        "id": "OZEuRbLdw0ic",
        "outputId": "d0d07227-2a1b-4d0b-acda-d5c87a2de44f"
      },
      "execution_count": null,
      "outputs": [
        {
          "output_type": "stream",
          "name": "stdout",
          "text": [
            "Train_GAT:  1.335\n",
            "Train_GAT:  1.193\n",
            "Train_GAT:  1.149\n",
            "Train_GAT:  1.093\n",
            "Train_GAT:  1.102\n",
            "Train_GAT:  1.099\n",
            "Train_GAT:  1.085\n",
            "Train_GAT:  1.086\n",
            "Train_GAT:  1.078\n",
            "Train_GAT:  1.069\n",
            "Train_GAT:  1.067\n",
            "Train_GAT:  1.062\n",
            "Train_GAT:  1.055\n",
            "Train_GAT:  1.049\n",
            "Train_GAT:  1.043\n",
            "Train_GAT:  1.036\n",
            "Train_GAT:  1.029\n",
            "Train_GAT:  1.022\n",
            "Train_GAT:  1.015\n",
            "Train_GAT:  1.012\n",
            "Train_GAT:  1.003\n",
            "Train_GAT:  0.997\n",
            "Train_GAT:  0.992\n",
            "Train_GAT:  0.987\n",
            "Train_GAT:  0.982\n",
            "Train_GAT:  0.977\n",
            "Train_GAT:  0.974\n",
            "Train_GAT:  0.970\n",
            "Train_GAT:  0.967\n",
            "Train_GAT:  0.965\n",
            "Train_GAT:  0.964\n",
            "Train_GAT:  0.962\n",
            "Train_GAT:  0.960\n",
            "Train_GAT:  0.958\n",
            "Train_GAT:  0.956\n",
            "Train_GAT:  0.954\n",
            "Train_GAT:  0.952\n",
            "Train_GAT:  0.950\n",
            "Train_GAT:  0.947\n",
            "Train_GAT:  0.945\n",
            "Train_GAT:  0.942\n",
            "Train_GAT:  0.939\n",
            "Train_GAT:  0.936\n",
            "Train_GAT:  0.934\n",
            "Train_GAT:  0.927\n",
            "Train_GAT:  0.926\n",
            "Train_GAT:  0.931\n",
            "Train_GAT:  0.920\n",
            "Train_GAT:  0.922\n",
            "Train_GAT:  0.919\n",
            "Train_GAT:  0.915\n",
            "Train_GAT:  0.916\n",
            "Train_GAT:  0.909\n",
            "Train_GAT:  0.906\n",
            "Train_GAT:  0.904\n",
            "Train_GAT:  0.899\n",
            "Train_GAT:  0.897\n",
            "Train_GAT:  0.895\n",
            "Train_GAT:  0.891\n",
            "Train_GAT:  0.890\n",
            "Train_GAT:  0.887\n",
            "Train_GAT:  0.884\n",
            "Train_GAT:  0.882\n",
            "Train_GAT:  0.879\n",
            "Train_GAT:  0.878\n",
            "Train_GAT:  0.875\n",
            "Train_GAT:  0.873\n",
            "Train_GAT:  0.871\n",
            "Train_GAT:  0.869\n",
            "Train_GAT:  0.866\n",
            "Train_GAT:  0.864\n",
            "Train_GAT:  0.862\n",
            "Train_GAT:  0.861\n",
            "Train_GAT:  0.861\n",
            "Train_GAT:  0.862\n",
            "Train_GAT:  0.859\n",
            "Train_GAT:  0.856\n",
            "Train_GAT:  0.855\n",
            "Train_GAT:  0.855\n",
            "Train_GAT:  0.856\n",
            "Train_GAT:  0.851\n",
            "Train_GAT:  0.851\n",
            "Train_GAT:  0.849\n",
            "Train_GAT:  0.849\n",
            "Train_GAT:  0.848\n",
            "Train_GAT:  0.846\n",
            "Train_GAT:  0.847\n",
            "Train_GAT:  0.844\n",
            "Train_GAT:  0.843\n",
            "Train_GAT:  0.843\n",
            "Train_GAT:  0.841\n",
            "Train_GAT:  0.840\n",
            "Train_GAT:  0.839\n",
            "Train_GAT:  0.839\n",
            "Train_GAT:  0.838\n",
            "Train_GAT:  0.837\n",
            "Train_GAT:  0.836\n",
            "Train_GAT:  0.835\n",
            "Train_GAT:  0.834\n",
            "Train_GAT:  0.833\n"
          ]
        }
      ]
    },
    {
      "cell_type": "markdown",
      "source": [
        "# Visualize train_loss for both models. "
      ],
      "metadata": {
        "id": "Ym5LqzzSQieI"
      }
    },
    {
      "cell_type": "code",
      "source": [
        "import matplotlib.pyplot as plt\n",
        "plt.plot(train_loss_BGAT_, \"m\")\n",
        "plt.plot(train_loss_GAT_, \"c\")\n",
        "plt.xlabel('epoch')\n",
        "plt.ylabel('loss')\n",
        "plt.legend(['Train_BGAT','Train_GAT'])\n",
        "plt.title('Gene expression dataset, Train_BGAT vs Train_GAT')\n",
        "plt.grid()\n",
        "plt.show()"
      ],
      "metadata": {
        "colab": {
          "base_uri": "https://localhost:8080/",
          "height": 295
        },
        "id": "eukczhOXw2wR",
        "outputId": "1d3920db-b2b6-49de-b550-0278236b931d"
      },
      "execution_count": null,
      "outputs": [
        {
          "output_type": "display_data",
          "data": {
            "text/plain": [
              "<Figure size 432x288 with 1 Axes>"
            ],
            "image/png": "[encoded data removed]"
          },
          "metadata": {
            "needs_background": "light"
          }
        }
      ]
    }
  ]
}
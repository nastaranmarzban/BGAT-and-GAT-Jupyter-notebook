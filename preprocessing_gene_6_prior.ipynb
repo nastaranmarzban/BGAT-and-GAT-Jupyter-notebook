{
  "nbformat": 4,
  "nbformat_minor": 0,
  "metadata": {
    "colab": {
      "provenance": [],
      "authorship_tag": "ABX9TyNtggmOLaRKPR6vfa7158LU",
      "include_colab_link": true
    },
    "kernelspec": {
      "name": "python3",
      "display_name": "Python 3"
    },
    "language_info": {
      "name": "python"
    }
  },
  "cells": [
    {
      "cell_type": "markdown",
      "metadata": {
        "id": "view-in-github",
        "colab_type": "text"
      },
      "source": [
        "<a href=\"https://colab.research.google.com/github/nastaranmarzban/BGAT-and-GAT-Jupyter-notebook/blob/main/preprocessing_gene_6_prior.ipynb\" target=\"_parent\"><img src=\"https://colab.research.google.com/assets/colab-badge.svg\" alt=\"Open In Colab\"/></a>"
      ]
    },
    {
      "cell_type": "markdown",
      "source": [
        "## Mount to gdrive to read data, adjacency matrix, p_link and labels.\n"
      ],
      "metadata": {
        "id": "Q8kgih540yh8"
      }
    },
    {
      "cell_type": "code",
      "execution_count": null,
      "metadata": {
        "colab": {
          "base_uri": "https://localhost:8080/"
        },
        "id": "hswUIQx7yDPW",
        "outputId": "03177c11-d902-4980-f756-3dab2e7b84e1"
      },
      "outputs": [
        {
          "output_type": "stream",
          "name": "stdout",
          "text": [
            "Mounted at /gdrive\n"
          ]
        }
      ],
      "source": [
        "from google.colab import drive\n",
        "drive.mount('/gdrive')"
      ]
    },
    {
      "cell_type": "markdown",
      "source": [
        "# Install pandas to read csv files from gdrive. Install torch and numpy which are packages that are needed durind coding."
      ],
      "metadata": {
        "id": "liD2ekI104Af"
      }
    },
    {
      "cell_type": "code",
      "source": [
        "!pip install pandas\n",
        "import pandas as pd\n",
        "import torch\n",
        "import numpy as np"
      ],
      "metadata": {
        "colab": {
          "base_uri": "https://localhost:8080/"
        },
        "id": "0ViWvQz3yfvk",
        "outputId": "f1fed88d-ee11-47b1-f0d4-11dd1923aecb"
      },
      "execution_count": null,
      "outputs": [
        {
          "output_type": "stream",
          "name": "stdout",
          "text": [
            "Requirement already satisfied: pandas in /usr/local/lib/python3.10/dist-packages (1.5.3)\n",
            "Requirement already satisfied: python-dateutil>=2.8.1 in /usr/local/lib/python3.10/dist-packages (from pandas) (2.8.2)\n",
            "Requirement already satisfied: pytz>=2020.1 in /usr/local/lib/python3.10/dist-packages (from pandas) (2023.3.post1)\n",
            "Requirement already satisfied: numpy>=1.21.0 in /usr/local/lib/python3.10/dist-packages (from pandas) (1.23.5)\n",
            "Requirement already satisfied: six>=1.5 in /usr/local/lib/python3.10/dist-packages (from python-dateutil>=2.8.1->pandas) (1.16.0)\n"
          ]
        }
      ]
    },
    {
      "cell_type": "markdown",
      "source": [
        "## It is time to prepare x, edge_index, y, train_mask and test_mask which are needed for PyG."
      ],
      "metadata": {
        "id": "KADvv2Xp1AdO"
      }
    },
    {
      "cell_type": "markdown",
      "source": [
        "**Step1 (preparing x)**: Read multivariate dataset from gdrive and convert the type to what is needed in PyG."
      ],
      "metadata": {
        "id": "xF9Jx4eq1N6H"
      }
    },
    {
      "cell_type": "code",
      "source": [
        "#x = pd.read_csv('/gdrive/MyDrive/gene_150/geneExpression_t_total_100.csv', sep=',',header=None)\n",
        "#x = pd.read_csv('/gdrive/MyDrive/gene_6_prior/geneExpression_t_total_100.csv', sep=',',header=None)\n",
        "#x = pd.read_csv('/gdrive/MyDrive/gene_3_prior/geneExpression_t_total_100.csv', sep=',',header=None)\n",
        "\n",
        "\n",
        "x = pd.read_csv('/gdrive/MyDrive/gene_better/matrix_gen_wr.csv', sep=',',header=None)\n",
        "x = x.astype(np.float32) #try to cast all DataFrame columns to specified numpy.dtype\n",
        "x = torch.tensor(x.values) #convert numpy.dtype to a tensor\n",
        "print(x.sum(dim = 1).unique().size()) #to see if there is a duplicate data in x or not\n",
        "print(x.dtype)\n",
        "print(x.type())\n",
        "print(x)\n",
        "print(x.size())"
      ],
      "metadata": {
        "colab": {
          "base_uri": "https://localhost:8080/"
        },
        "id": "rOHBcNJgyh71",
        "outputId": "05a340ad-1f91-4a93-9cc0-b7a894f9e550"
      },
      "execution_count": null,
      "outputs": [
        {
          "output_type": "stream",
          "name": "stdout",
          "text": [
            "torch.Size([89])\n",
            "torch.float32\n",
            "torch.FloatTensor\n",
            "tensor([[ 6.4493,  6.0844,  7.3716,  ...,  8.6918, 10.8691, 11.2004],\n",
            "        [12.4170, 11.6782, 13.3738,  ...,  9.0700, 10.2089, 10.4571],\n",
            "        [ 8.1833,  6.4246, 10.5602,  ...,  7.3575,  6.6114,  7.7576],\n",
            "        ...,\n",
            "        [ 6.6002,  7.4879,  8.0421,  ...,  9.6510,  8.9851,  9.4696],\n",
            "        [ 6.6107,  7.4934,  8.0498,  ...,  9.6591,  8.9828,  9.4788],\n",
            "        [ 6.6001,  7.4911,  8.0561,  ...,  9.6553,  8.9820,  9.4658]])\n",
            "torch.Size([90, 60])\n"
          ]
        }
      ]
    },
    {
      "cell_type": "markdown",
      "source": [
        "**Step2 (preparing edge_index)**: Read adjacency matrix from gdrive and convert the type to what is needed in PyG."
      ],
      "metadata": {
        "id": "1VVXQyd-1Run"
      }
    },
    {
      "cell_type": "code",
      "source": [
        "from scipy.sparse import coo_matrix\n",
        "#edge_index_csv = pd.read_csv('/gdrive/MyDrive/gene_150/adj_gene.csv',sep =',',header = None)\n",
        "#edge_index_csv = pd.read_csv('/gdrive/MyDrive/gene_3_prior/adj_gene.csv',sep =',',header = None)\n",
        "#dge_index_csv = pd.read_csv('/gdrive/MyDrive/gene_6_prior/adj_gene.csv',sep =',',header = None)\n",
        "\n",
        "\n",
        "edge_index_csv = pd.read_csv('/gdrive/MyDrive/gene_better/adj_gene.csv',sep =',',header = None)\n",
        "edge_index_numpy_ndarry = edge_index_csv.values #convert xlsx file to numpy.ndarry\n",
        "edge_index_coo = coo_matrix(edge_index_numpy_ndarry) #convert symmetric matrix to coo_matrix\n",
        "print(edge_index_coo)"
      ],
      "metadata": {
        "id": "iGhkDJWUFoai",
        "colab": {
          "base_uri": "https://localhost:8080/"
        },
        "outputId": "c3ad9d46-bc68-415a-fd7d-fccf8c6d0cad"
      },
      "execution_count": null,
      "outputs": [
        {
          "output_type": "stream",
          "name": "stdout",
          "text": [
            "  (0, 8)\t1\n",
            "  (0, 10)\t1\n",
            "  (0, 57)\t1\n",
            "  (0, 58)\t1\n",
            "  (0, 76)\t1\n",
            "  (0, 83)\t1\n",
            "  (1, 4)\t1\n",
            "  (1, 17)\t1\n",
            "  (1, 19)\t1\n",
            "  (1, 30)\t1\n",
            "  (1, 42)\t1\n",
            "  (1, 48)\t1\n",
            "  (1, 65)\t1\n",
            "  (2, 17)\t1\n",
            "  (2, 21)\t1\n",
            "  (2, 24)\t1\n",
            "  (2, 27)\t1\n",
            "  (2, 30)\t1\n",
            "  (2, 35)\t1\n",
            "  (2, 76)\t1\n",
            "  (2, 78)\t1\n",
            "  (2, 88)\t1\n",
            "  (3, 7)\t1\n",
            "  (3, 29)\t1\n",
            "  (3, 46)\t1\n",
            "  :\t:\n",
            "  (88, 85)\t1\n",
            "  (88, 86)\t1\n",
            "  (89, 15)\t1\n",
            "  (89, 33)\t1\n",
            "  (89, 46)\t1\n",
            "  (89, 50)\t1\n",
            "  (89, 52)\t1\n",
            "  (89, 55)\t1\n",
            "  (89, 56)\t1\n",
            "  (89, 59)\t1\n",
            "  (89, 62)\t1\n",
            "  (89, 63)\t1\n",
            "  (89, 64)\t1\n",
            "  (89, 67)\t1\n",
            "  (89, 70)\t1\n",
            "  (89, 71)\t1\n",
            "  (89, 73)\t1\n",
            "  (89, 74)\t1\n",
            "  (89, 78)\t1\n",
            "  (89, 81)\t1\n",
            "  (89, 82)\t1\n",
            "  (89, 83)\t1\n",
            "  (89, 85)\t1\n",
            "  (89, 86)\t1\n",
            "  (89, 87)\t1\n"
          ]
        }
      ]
    },
    {
      "cell_type": "code",
      "source": [
        "edge_index_numpy = np.vstack((edge_index_coo.row, edge_index_coo.col)) #convert coo_matrix to numpy.ndarray\n",
        "edge_index_torch_int32 = torch.from_numpy(edge_index_numpy) #convert numpy.ndarray to torch.int32\n",
        "edge_index = edge_index_torch_int32.to(torch.int64) #convert torch.int32 to torch.long\n",
        "print(edge_index)\n",
        "print(edge_index.dtype)\n",
        "print(edge_index.type())\n",
        "print(edge_index.size())"
      ],
      "metadata": {
        "id": "QzTC5oZzFxr8",
        "colab": {
          "base_uri": "https://localhost:8080/"
        },
        "outputId": "3a8256f9-7e6a-45d9-d2cd-bccf38ccec2d"
      },
      "execution_count": null,
      "outputs": [
        {
          "output_type": "stream",
          "name": "stdout",
          "text": [
            "tensor([[ 0,  0,  0,  ..., 89, 89, 89],\n",
            "        [ 8, 10, 57,  ..., 85, 86, 87]])\n",
            "torch.int64\n",
            "torch.LongTensor\n",
            "torch.Size([2, 1650])\n"
          ]
        }
      ]
    },
    {
      "cell_type": "markdown",
      "source": [
        "**Step3 (preparing y)**: Read labels from gdrive and convert the type to what is needed in PyG."
      ],
      "metadata": {
        "id": "axGCXsh11WJQ"
      }
    },
    {
      "cell_type": "code",
      "source": [
        "#labels_csv = pd.read_csv('/gdrive/MyDrive/gene_6_prior/labels_gene.csv',sep=',',header=None)\n",
        "#labels_csv = pd.read_csv('/gdrive/MyDrive/gene_3_prior/labels_gene.csv',sep=',',header=None)\n",
        "\n",
        "labels_csv = pd.read_csv('/gdrive/MyDrive/gene_better/labels_gene.csv',sep=',',header=None)\n",
        "y = torch.tensor(labels_csv.values)\n",
        "y.resize_(90)\n",
        "print(y)"
      ],
      "metadata": {
        "id": "Hb0Lltj8F1dk",
        "colab": {
          "base_uri": "https://localhost:8080/"
        },
        "outputId": "1861297d-0dde-4e9a-b97c-33b9f7b0c4a6"
      },
      "execution_count": null,
      "outputs": [
        {
          "output_type": "stream",
          "name": "stdout",
          "text": [
            "tensor([0, 0, 0, 0, 0, 0, 0, 0, 0, 0, 0, 0, 0, 0, 0, 0, 0, 0, 0, 0, 0, 0, 0, 0,\n",
            "        0, 0, 0, 0, 0, 0, 1, 1, 1, 1, 1, 1, 1, 1, 1, 1, 1, 1, 1, 1, 1, 1, 1, 1,\n",
            "        1, 1, 1, 1, 1, 1, 1, 1, 1, 1, 1, 1, 2, 2, 2, 2, 2, 2, 2, 2, 2, 2, 2, 2,\n",
            "        2, 2, 2, 2, 2, 2, 2, 2, 2, 2, 2, 2, 2, 2, 2, 2, 2, 2])\n"
          ]
        }
      ]
    },
    {
      "cell_type": "markdown",
      "source": [
        "**Step4 (preparing train_mask, test_mask)**: split x and y into train and test set."
      ],
      "metadata": {
        "id": "Tuzf5I1w1aJQ"
      }
    },
    {
      "cell_type": "code",
      "source": [
        "import tensorflow as tf\n",
        "\n",
        "test_mask_GI = x[0:2,]\n",
        "val_mask_GI = x[2:4,]\n",
        "train_mask_GI = x[4:31,]\n",
        "\n",
        "\n",
        "\n",
        "test_mask_H = x[31:33,]\n",
        "val_mask_H = x[33:35,]\n",
        "train_mask_H = x[35:60]\n",
        "\n",
        "\n",
        "\n",
        "\n",
        "test_mask_hm = x[60:62,]\n",
        "val_mask_hm = x[62:64,]\n",
        "train_mask_hm = x[64:91,]\n",
        "\n",
        "\n",
        "test_mask = np.concatenate([test_mask_GI, test_mask_H, test_mask_hm], axis=0)\n",
        "test_mask = torch.FloatTensor(test_mask)\n",
        "\n",
        "\n",
        "\n",
        "val_mask = np.concatenate([val_mask_GI, val_mask_H, val_mask_hm], axis=0)\n",
        "val_mask = torch.FloatTensor(val_mask)\n",
        "\n",
        "\n",
        "\n",
        "train_mask = np.concatenate([train_mask_GI, train_mask_H, train_mask_hm],  axis=0)\n",
        "train_mask = torch.FloatTensor(train_mask)\n",
        "\n",
        "\n",
        "\n",
        "print(train_mask.type())\n",
        "print(test_mask.type())\n",
        "print(val_mask.type())\n",
        "\n",
        "print(train_mask.size())\n",
        "print(test_mask.size())\n",
        "print(val_mask.size())"
      ],
      "metadata": {
        "colab": {
          "base_uri": "https://localhost:8080/"
        },
        "id": "LQmIwU63PyGP",
        "outputId": "7a3803f6-bc99-4446-84d7-7ef61a0fc844"
      },
      "execution_count": null,
      "outputs": [
        {
          "output_type": "stream",
          "name": "stdout",
          "text": [
            "torch.FloatTensor\n",
            "torch.FloatTensor\n",
            "torch.FloatTensor\n",
            "torch.Size([78, 60])\n",
            "torch.Size([6, 60])\n",
            "torch.Size([6, 60])\n"
          ]
        }
      ]
    },
    {
      "cell_type": "code",
      "source": [
        "\n",
        "label_test_mask_GI = y[0:2]\n",
        "label_val_mask_GI = y[2:4]\n",
        "label_train_mask_GI = y[4:31]\n",
        "\n",
        "\n",
        "\n",
        "\n",
        "label_test_mask_H = y[31:33]\n",
        "label_val_mask_H = y[33:35]\n",
        "label_train_mask_H = y[35:60]\n",
        "\n",
        "\n",
        "\n",
        "label_test_mask_hm = y[60:62]\n",
        "label_val_mask_hm = y[62:64]\n",
        "label_train_mask_hm= y[64:91]\n",
        "\n",
        "\n",
        "\n",
        "y_test = np.concatenate([label_test_mask_GI, label_test_mask_H, label_test_mask_hm],\n",
        "                            axis=0)\n",
        "y_val = np.concatenate([label_val_mask_GI, label_val_mask_H, label_val_mask_hm],\n",
        "                           axis=0)\n",
        "\n",
        "\n",
        "y_train = np.concatenate([label_train_mask_GI, label_train_mask_H, label_train_mask_hm], axis=0)\n",
        "\n",
        "print(y_train)\n",
        "print(y_val)\n",
        "print(y_test)"
      ],
      "metadata": {
        "id": "JO6L1yH9eRrR",
        "colab": {
          "base_uri": "https://localhost:8080/"
        },
        "outputId": "77d8c73c-794b-4e49-ec30-473e0e2b49ef"
      },
      "execution_count": null,
      "outputs": [
        {
          "output_type": "stream",
          "name": "stdout",
          "text": [
            "[0 0 0 0 0 0 0 0 0 0 0 0 0 0 0 0 0 0 0 0 0 0 0 0 0 0 1 1 1 1 1 1 1 1 1 1 1\n",
            " 1 1 1 1 1 1 1 1 1 1 1 1 1 1 1 2 2 2 2 2 2 2 2 2 2 2 2 2 2 2 2 2 2 2 2 2 2\n",
            " 2 2 2 2]\n",
            "[0 0 1 1 2 2]\n",
            "[0 0 1 1 2 2]\n"
          ]
        }
      ]
    },
    {
      "cell_type": "markdown",
      "source": [
        "## To see how many percent of data belong to each class."
      ],
      "metadata": {
        "id": "a-YBIXMH4lBh"
      }
    },
    {
      "cell_type": "code",
      "source": [
        "labels, counts = np.unique(y, return_counts = True)\n",
        "print(counts/float(len(y)))"
      ],
      "metadata": {
        "colab": {
          "base_uri": "https://localhost:8080/"
        },
        "id": "XSJ8sEuT2hQq",
        "outputId": "918f962a-7442-4743-cbe2-670195eef9e2"
      },
      "execution_count": null,
      "outputs": [
        {
          "output_type": "stream",
          "name": "stdout",
          "text": [
            "[0.33333333 0.33333333 0.33333333]\n"
          ]
        }
      ]
    },
    {
      "cell_type": "code",
      "source": [
        "labels, counts = np.unique(y_train, return_counts = True)\n",
        "print(counts/float(len(y_train)))"
      ],
      "metadata": {
        "colab": {
          "base_uri": "https://localhost:8080/"
        },
        "id": "ms7xLrVx2miG",
        "outputId": "24c921ce-f508-4e95-f46e-2fb67e203ff2"
      },
      "execution_count": null,
      "outputs": [
        {
          "output_type": "stream",
          "name": "stdout",
          "text": [
            "[0.33333333 0.33333333 0.33333333]\n"
          ]
        }
      ]
    },
    {
      "cell_type": "code",
      "source": [
        "labels, counts = np.unique(y_test, return_counts = True)\n",
        "print(counts/float(len(y_test)))"
      ],
      "metadata": {
        "colab": {
          "base_uri": "https://localhost:8080/"
        },
        "id": "y14miOm52sQf",
        "outputId": "50db6fea-3292-45c6-bce3-0d8fbb898457"
      },
      "execution_count": null,
      "outputs": [
        {
          "output_type": "stream",
          "name": "stdout",
          "text": [
            "[0.33333333 0.33333333 0.33333333]\n"
          ]
        }
      ]
    },
    {
      "cell_type": "code",
      "source": [
        "labels, counts = np.unique(y_val, return_counts = True)\n",
        "print(counts/float(len(y_val)))"
      ],
      "metadata": {
        "colab": {
          "base_uri": "https://localhost:8080/"
        },
        "id": "K7bAnq542wLI",
        "outputId": "35259c34-2328-4c81-9f70-84953f9ecf64"
      },
      "execution_count": null,
      "outputs": [
        {
          "output_type": "stream",
          "name": "stdout",
          "text": [
            "[0.33333333 0.33333333 0.33333333]\n"
          ]
        }
      ]
    },
    {
      "cell_type": "markdown",
      "source": [
        "## Preparing train_mask and test_mask based on PyG."
      ],
      "metadata": {
        "id": "l0QyEvRQ2zl5"
      }
    },
    {
      "cell_type": "code",
      "source": [
        "train_mask = (x.unsqueeze(0) == train_mask.unsqueeze(1)).all(dim=2).any(dim=0)\n",
        "print(train_mask)\n",
        "print(train_mask.size())\n",
        "print(sum(train_mask))\n",
        "\n",
        "val_mask = (x.unsqueeze(0) == val_mask.unsqueeze(1)).all(dim=2).any(dim=0)\n",
        "print(val_mask)\n",
        "print(val_mask.size())\n",
        "print(sum(val_mask))\n",
        "\n",
        "test_mask = (x.unsqueeze(0) == test_mask.unsqueeze(1)).all(dim=2).any(dim=0)\n",
        "print(test_mask)\n",
        "print(test_mask.size())\n",
        "print(sum(test_mask))"
      ],
      "metadata": {
        "colab": {
          "base_uri": "https://localhost:8080/"
        },
        "id": "VldMGvUQhy2w",
        "outputId": "c77c2b49-165e-4ddb-f42b-5d50e57de837"
      },
      "execution_count": null,
      "outputs": [
        {
          "output_type": "stream",
          "name": "stdout",
          "text": [
            "tensor([False, False, False, False,  True,  True,  True,  True,  True,  True,\n",
            "         True,  True,  True,  True,  True,  True,  True,  True,  True,  True,\n",
            "         True,  True,  True,  True,  True,  True,  True,  True,  True,  True,\n",
            "         True, False, False, False, False,  True,  True,  True,  True,  True,\n",
            "         True,  True,  True,  True,  True,  True,  True,  True,  True,  True,\n",
            "         True,  True,  True,  True,  True,  True,  True,  True,  True,  True,\n",
            "        False, False, False, False,  True,  True,  True,  True,  True,  True,\n",
            "         True,  True,  True,  True,  True,  True,  True,  True,  True,  True,\n",
            "         True,  True,  True,  True,  True,  True,  True,  True,  True,  True])\n",
            "torch.Size([90])\n",
            "tensor(78)\n",
            "tensor([False, False,  True,  True, False, False, False, False, False, False,\n",
            "        False, False, False, False, False, False, False, False, False, False,\n",
            "        False, False, False, False, False, False, False, False, False, False,\n",
            "        False, False, False,  True,  True, False, False, False, False, False,\n",
            "        False, False, False, False, False, False, False, False, False, False,\n",
            "        False, False, False, False, False, False, False, False, False, False,\n",
            "        False, False,  True,  True, False, False, False, False, False, False,\n",
            "        False, False, False, False, False, False, False, False, False, False,\n",
            "        False, False, False, False, False, False, False, False, False, False])\n",
            "torch.Size([90])\n",
            "tensor(6)\n",
            "tensor([ True,  True, False, False, False, False, False, False, False, False,\n",
            "        False, False, False, False, False, False, False, False, False, False,\n",
            "        False, False, False, False, False, False, False, False, False, False,\n",
            "        False,  True,  True, False, False, False, False, False, False, False,\n",
            "        False, False, False, False, False, False, False, False, False, False,\n",
            "        False, False, False, False, False, False, False, False, False, False,\n",
            "         True,  True, False, False, False, False, False, False, False, False,\n",
            "        False, False, False, False, False, False, False, False, False, False,\n",
            "        False, False, False, False, False, False, False, False, False, False])\n",
            "torch.Size([90])\n",
            "tensor(6)\n"
          ]
        }
      ]
    },
    {
      "cell_type": "markdown",
      "source": [
        "## It is time to use p_link as attentions."
      ],
      "metadata": {
        "id": "8tTHujoz1pZF"
      }
    },
    {
      "cell_type": "code",
      "source": [
        "#p_link = pd.read_csv('/gdrive/MyDrive/gene_150/p_links_gene.csv', sep=',',header=None)\n",
        "#p_link = pd.read_csv('/gdrive/MyDrive/gene_6_prior/p_links_gene.csv', sep=',',header=None)\n",
        "#p_link = pd.read_csv('/gdrive/MyDrive/gene_3_prior/p_links_gene.csv', sep=',',header=None)\n",
        "p_link = pd.read_csv('/gdrive/MyDrive/gene_better/p_links_gene.csv', sep=',',header=None)\n",
        "p_link = p_link.astype(np.float32)\n",
        "p_link = torch.tensor(p_link.values)\n",
        "#p_link = p_link.to(torch.float32)\n",
        "print(p_link.size())\n",
        "print(p_link.dtype)\n",
        "print(p_link.type())"
      ],
      "metadata": {
        "id": "YnomEV3QMPwk",
        "colab": {
          "base_uri": "https://localhost:8080/"
        },
        "outputId": "7d657f1e-9e38-41db-f1af-b3a3d9b2296d"
      },
      "execution_count": null,
      "outputs": [
        {
          "output_type": "stream",
          "name": "stdout",
          "text": [
            "torch.Size([90, 90])\n",
            "torch.float32\n",
            "torch.FloatTensor\n"
          ]
        }
      ]
    },
    {
      "cell_type": "markdown",
      "source": [
        "# Now everything is ready to develop our GNNs."
      ],
      "metadata": {
        "id": "7OJepfTR1tho"
      }
    },
    {
      "cell_type": "markdown",
      "source": [
        "# Install torch_geometric."
      ],
      "metadata": {
        "id": "vQkS1C1848bH"
      }
    },
    {
      "cell_type": "code",
      "source": [
        "import os\n",
        "os.environ['TORCH'] = torch.__version__\n",
        "print(torch.__version__)\n",
        "\n",
        "!pip install -q torch-scatter -f https://data.pyg.org/whl/torch-${TORCH}.html\n",
        "!pip install -q torch-sparse -f https://data.pyg.org/whl/torch-${TORCH}.html\n",
        "!pip install -q git+https://github.com/pyg-team/pytorch_geometric.git"
      ],
      "metadata": {
        "id": "N7NhPODCMdk1",
        "colab": {
          "base_uri": "https://localhost:8080/"
        },
        "outputId": "29c869eb-1ea7-45da-9f4c-19e827c20c31"
      },
      "execution_count": null,
      "outputs": [
        {
          "output_type": "stream",
          "name": "stdout",
          "text": [
            "2.1.0+cu118\n",
            "  Installing build dependencies ... \u001b[?25l\u001b[?25hdone\n",
            "  Getting requirements to build wheel ... \u001b[?25l\u001b[?25hdone\n",
            "  Preparing metadata (pyproject.toml) ... \u001b[?25l\u001b[?25hdone\n"
          ]
        }
      ]
    },
    {
      "cell_type": "code",
      "source": [
        "from torch_geometric.data import Data\n",
        "Data = Data(x=x, edge_index=edge_index, y = y, train_mask = train_mask, val_mask = val_mask, test_mask = test_mask)\n",
        "print(Data)"
      ],
      "metadata": {
        "colab": {
          "base_uri": "https://localhost:8080/"
        },
        "id": "CuRVOJWfleuK",
        "outputId": "b6a56bc9-697c-444b-9e41-53eedddef835"
      },
      "execution_count": null,
      "outputs": [
        {
          "output_type": "stream",
          "name": "stdout",
          "text": [
            "Data(x=[90, 60], edge_index=[2, 1650], y=[90], train_mask=[90], val_mask=[90], test_mask=[90])\n"
          ]
        }
      ]
    },
    {
      "cell_type": "markdown",
      "source": [
        "# Save data in order to use it."
      ],
      "metadata": {
        "id": "7lido70L1gXf"
      }
    },
    {
      "cell_type": "code",
      "source": [
        "data_save_name = 'gene.pt'\n",
        "#path = F\"/gdrive/MyDrive/gene_150/{data_save_name}\"\n",
        "#path = F\"/gdrive/MyDrive/gene_6_prior/{data_save_name}\"\n",
        "#path = F\"/gdrive/MyDrive/gene_3_prior/{data_save_name}\"\n",
        "\n",
        "path = F\"/gdrive/MyDrive/gene_better/{data_save_name}\"\n",
        "torch.save(Data.to_dict(), path)"
      ],
      "metadata": {
        "id": "gwuv2xfbMsEE"
      },
      "execution_count": null,
      "outputs": []
    },
    {
      "cell_type": "code",
      "source": [
        "p_link_save_name = 'p_links_gene.pt'\n",
        "#path = F\"/gdrive/MyDrive/gene_150/{p_link_save_name}\"\n",
        "#path = F\"/gdrive/MyDrive/gene_6_prior/{p_link_save_name}\"\n",
        "#path = F\"/gdrive/MyDrive/gene_3_prior/{p_link_save_name}\"\n",
        "\n",
        "path = F\"/gdrive/MyDrive/gene_better/{p_link_save_name}\"\n",
        "torch.save(p_link, path)"
      ],
      "metadata": {
        "id": "0NC5-ykDMxtm"
      },
      "execution_count": null,
      "outputs": []
    }
  ]
}
{
  "nbformat": 4,
  "nbformat_minor": 0,
  "metadata": {
    "colab": {
      "provenance": [],
      "authorship_tag": "ABX9TyPw9kcgLJyt6inK4TxkdV+l",
      "include_colab_link": true
    },
    "kernelspec": {
      "name": "python3",
      "display_name": "Python 3"
    },
    "language_info": {
      "name": "python"
    }
  },
  "cells": [
    {
      "cell_type": "markdown",
      "metadata": {
        "id": "view-in-github",
        "colab_type": "text"
      },
      "source": [
        "<a href=\"https://colab.research.google.com/github/nastaranmarzban/BGAT-and-GAT-Jupyter-notebook/blob/main/preprocessing_data_5classes_200nodes.ipynb\" target=\"_parent\"><img src=\"https://colab.research.google.com/assets/colab-badge.svg\" alt=\"Open In Colab\"/></a>"
      ]
    },
    {
      "cell_type": "markdown",
      "source": [
        "## Mount to gdrive to read data, adjacency matrix, p_link and labels."
      ],
      "metadata": {
        "id": "JfsCLQ3vuklD"
      }
    },
    {
      "cell_type": "code",
      "execution_count": null,
      "metadata": {
        "colab": {
          "base_uri": "https://localhost:8080/"
        },
        "id": "Ymp5yB7yHni2",
        "outputId": "be2819c6-c77d-43fb-997a-757e3536e46e"
      },
      "outputs": [
        {
          "output_type": "stream",
          "name": "stdout",
          "text": [
            "Mounted at /gdrive\n"
          ]
        }
      ],
      "source": [
        "from google.colab import drive\n",
        "drive.mount('/gdrive')"
      ]
    },
    {
      "cell_type": "markdown",
      "source": [
        "# Install pandas to read csv files from gdrive. Install torch and numpy which are packages that are needed durind coding."
      ],
      "metadata": {
        "id": "z6wPjHsvupm7"
      }
    },
    {
      "cell_type": "code",
      "source": [
        "!pip install pandas\n",
        "import pandas as pd\n",
        "import torch\n",
        "import numpy as np"
      ],
      "metadata": {
        "colab": {
          "base_uri": "https://localhost:8080/"
        },
        "id": "w0DzoUqNHtRu",
        "outputId": "d957f963-db6a-42c3-f73b-168af74e72d7"
      },
      "execution_count": null,
      "outputs": [
        {
          "output_type": "stream",
          "name": "stdout",
          "text": [
            "Requirement already satisfied: pandas in /usr/local/lib/python3.10/dist-packages (1.5.3)\n",
            "Requirement already satisfied: python-dateutil>=2.8.1 in /usr/local/lib/python3.10/dist-packages (from pandas) (2.8.2)\n",
            "Requirement already satisfied: pytz>=2020.1 in /usr/local/lib/python3.10/dist-packages (from pandas) (2023.4)\n",
            "Requirement already satisfied: numpy>=1.21.0 in /usr/local/lib/python3.10/dist-packages (from pandas) (1.23.5)\n",
            "Requirement already satisfied: six>=1.5 in /usr/local/lib/python3.10/dist-packages (from python-dateutil>=2.8.1->pandas) (1.16.0)\n"
          ]
        }
      ]
    },
    {
      "cell_type": "markdown",
      "source": [
        "## It is time to prepare x, edge_index, y, train_mask and test_mask which are needed for PyG."
      ],
      "metadata": {
        "id": "pQSVsWl5uuOb"
      }
    },
    {
      "cell_type": "markdown",
      "source": [
        "**Step1 (preparing x)**: Read multivariate dataset from gdrive and convert the type to what is needed in PyG."
      ],
      "metadata": {
        "id": "cOeZU-AtuzUz"
      }
    },
    {
      "cell_type": "code",
      "source": [
        "x = pd.read_csv('/gdrive/MyDrive/5classes_200_non.sim/df1_t_200.csv', sep = ',',header = None)\n",
        "x = x.astype(np.float32) #try to cast all DataFrame columns to specified numpy.dtype\n",
        "x = torch.tensor(x.values) #convert numpy.dtype to a tensor\n",
        "print(x.sum(dim = 1).unique().size()) #to see if there is a duplicate data in x or not\n",
        "print(x.dtype)\n",
        "print(x.type())\n",
        "print(x.size())\n",
        "print(x)"
      ],
      "metadata": {
        "colab": {
          "base_uri": "https://localhost:8080/"
        },
        "id": "gFbLJgyOHzHY",
        "outputId": "c11cf89b-3420-4596-98cd-0a1c1ae32a0a"
      },
      "execution_count": null,
      "outputs": [
        {
          "output_type": "stream",
          "name": "stdout",
          "text": [
            "torch.Size([200])\n",
            "torch.float32\n",
            "torch.FloatTensor\n",
            "torch.Size([200, 500])\n",
            "tensor([[ 0.1064,  0.0268,  0.0688,  ...,  0.1277,  0.0208,  0.0365],\n",
            "        [-1.1319,  0.0287, -1.2385,  ..., -0.1471,  1.4365, -0.7657],\n",
            "        [ 0.5656,  1.3512,  2.0302,  ...,  1.2031, -1.7998,  1.0181],\n",
            "        ...,\n",
            "        [-0.0979,  0.9709,  0.6932,  ..., -0.8765, -0.6086, -0.5979],\n",
            "        [ 1.9060, -0.2760,  1.1493,  ..., -1.1248,  0.7692,  0.6333],\n",
            "        [ 1.1451, -1.8192, -2.0841,  ...,  1.7384, -0.7770, -0.3205]])\n"
          ]
        }
      ]
    },
    {
      "cell_type": "markdown",
      "source": [
        "**Step2 (preparing edge_index)**: Read adjacency matrix from gdrive and convert the type to what is needed in PyG."
      ],
      "metadata": {
        "id": "L8EQ-ElVu3Gy"
      }
    },
    {
      "cell_type": "code",
      "source": [
        "from scipy.sparse import coo_matrix\n",
        "edge_index_csv = pd.read_csv('/gdrive/MyDrive/5classes_200_non.sim/adj_diag_200.csv',sep = ',',header = None)\n",
        "#print(edge_index_csv)\n",
        "edge_index_numpy_ndarry = edge_index_csv.values #convert xlsx file to numpy.ndarry\n",
        "edge_index_coo = coo_matrix(edge_index_numpy_ndarry) #convert symmetric matrix to coo_matrix\n",
        "print(edge_index_coo)"
      ],
      "metadata": {
        "colab": {
          "base_uri": "https://localhost:8080/"
        },
        "id": "C9_8IvH4JDSp",
        "outputId": "4c27bae5-961d-400d-aac7-3ed2b3f45913"
      },
      "execution_count": null,
      "outputs": [
        {
          "output_type": "stream",
          "name": "stdout",
          "text": [
            "  (0, 9)\t1\n",
            "  (0, 12)\t1\n",
            "  (0, 20)\t1\n",
            "  (0, 78)\t1\n",
            "  (0, 80)\t1\n",
            "  (0, 130)\t1\n",
            "  (0, 154)\t1\n",
            "  (0, 158)\t1\n",
            "  (1, 35)\t1\n",
            "  (1, 49)\t1\n",
            "  (1, 52)\t1\n",
            "  (1, 70)\t1\n",
            "  (1, 71)\t1\n",
            "  (1, 82)\t1\n",
            "  (2, 4)\t1\n",
            "  (2, 8)\t1\n",
            "  (2, 53)\t1\n",
            "  (2, 69)\t1\n",
            "  (2, 98)\t1\n",
            "  (2, 119)\t1\n",
            "  (2, 127)\t1\n",
            "  (2, 156)\t1\n",
            "  (2, 190)\t1\n",
            "  (3, 17)\t1\n",
            "  (3, 41)\t1\n",
            "  :\t:\n",
            "  (196, 144)\t1\n",
            "  (196, 158)\t1\n",
            "  (197, 21)\t1\n",
            "  (197, 51)\t1\n",
            "  (197, 61)\t1\n",
            "  (197, 68)\t1\n",
            "  (197, 97)\t1\n",
            "  (197, 115)\t1\n",
            "  (197, 139)\t1\n",
            "  (197, 151)\t1\n",
            "  (197, 157)\t1\n",
            "  (198, 22)\t1\n",
            "  (198, 56)\t1\n",
            "  (199, 27)\t1\n",
            "  (199, 32)\t1\n",
            "  (199, 45)\t1\n",
            "  (199, 49)\t1\n",
            "  (199, 55)\t1\n",
            "  (199, 60)\t1\n",
            "  (199, 66)\t1\n",
            "  (199, 70)\t1\n",
            "  (199, 75)\t1\n",
            "  (199, 90)\t1\n",
            "  (199, 100)\t1\n",
            "  (199, 174)\t1\n"
          ]
        }
      ]
    },
    {
      "cell_type": "code",
      "source": [
        "edge_index_numpy = np.vstack((edge_index_coo.row, edge_index_coo.col)) #convert coo_matrix to numpy.ndarray\n",
        "edge_index_torch_int32 = torch.from_numpy(edge_index_numpy) #convert numpy.ndarray to torch.int32\n",
        "edge_index = edge_index_torch_int32.to(torch.int64) #convert torch.int32 to torch.long\n",
        "print(edge_index)\n",
        "print(edge_index.dtype)\n",
        "print(edge_index.type())\n",
        "print(edge_index.size())"
      ],
      "metadata": {
        "colab": {
          "base_uri": "https://localhost:8080/"
        },
        "id": "PSg2oLF1JdTl",
        "outputId": "d094e0c5-cb42-48c6-ae99-76fe063adcfc"
      },
      "execution_count": null,
      "outputs": [
        {
          "output_type": "stream",
          "name": "stdout",
          "text": [
            "tensor([[  0,   0,   0,  ..., 199, 199, 199],\n",
            "        [  9,  12,  20,  ...,  90, 100, 174]])\n",
            "torch.int64\n",
            "torch.LongTensor\n",
            "torch.Size([2, 1790])\n"
          ]
        }
      ]
    },
    {
      "cell_type": "markdown",
      "source": [
        "**Step3 (preparing y)**: Read labels from gdrive and convert the type to what is needed in PyG."
      ],
      "metadata": {
        "id": "rP21M8UWu88M"
      }
    },
    {
      "cell_type": "code",
      "source": [
        "labels_csv = pd.read_csv('/gdrive/MyDrive/5classes_200_non.sim/labels_200.csv',sep = ',',header = None)\n",
        "y = torch.tensor(labels_csv.values)\n",
        "y.resize_((200))\n",
        "print(y)"
      ],
      "metadata": {
        "colab": {
          "base_uri": "https://localhost:8080/"
        },
        "id": "C0-pH_P-Jfum",
        "outputId": "5ed0df8a-cf0c-4e34-c095-9158c3db1935"
      },
      "execution_count": null,
      "outputs": [
        {
          "output_type": "stream",
          "name": "stdout",
          "text": [
            "tensor([2, 3, 4, 4, 4, 4, 0, 4, 4, 2, 3, 4, 1, 0, 2, 3, 1, 4, 3, 0, 0, 1, 1, 1,\n",
            "        1, 2, 4, 3, 1, 4, 1, 4, 0, 0, 2, 3, 0, 4, 1, 1, 3, 0, 0, 0, 1, 3, 4, 1,\n",
            "        3, 3, 0, 4, 2, 4, 4, 3, 3, 2, 2, 2, 3, 4, 4, 2, 4, 4, 3, 0, 4, 0, 3, 3,\n",
            "        0, 0, 1, 2, 4, 2, 0, 4, 4, 4, 2, 0, 0, 2, 0, 4, 0, 2, 3, 3, 2, 2, 3, 2,\n",
            "        2, 4, 4, 3, 3, 1, 1, 1, 0, 0, 2, 1, 2, 0, 0, 3, 3, 2, 1, 3, 3, 2, 1, 4,\n",
            "        0, 1, 3, 2, 3, 0, 4, 4, 0, 1, 2, 1, 3, 1, 4, 3, 2, 3, 4, 1, 4, 0, 1, 1,\n",
            "        2, 1, 2, 0, 3, 4, 2, 2, 2, 2, 3, 0, 4, 1, 2, 1, 2, 0, 0, 3, 0, 0, 0, 1,\n",
            "        1, 3, 1, 0, 1, 1, 3, 1, 4, 2, 2, 2, 1, 0, 3, 4, 1, 3, 0, 3, 0, 1, 4, 2,\n",
            "        0, 1, 2, 1, 2, 4, 3, 3])\n"
          ]
        }
      ]
    },
    {
      "cell_type": "markdown",
      "source": [
        "**Step4 (preparing train_mask, test_mask)**: split x and y into train and test set."
      ],
      "metadata": {
        "id": "bj8BNFjpvCk7"
      }
    },
    {
      "cell_type": "code",
      "source": [
        "from sklearn.model_selection import train_test_split\n",
        "main_mask, test_mask, y_main, y_test = train_test_split(x, y,  test_size = 20, random_state = 0, shuffle = True, stratify = y)\n",
        "train_mask, val_mask, y_train, y_val = train_test_split(main_mask, y_main,  test_size = 20, random_state = 0, shuffle = True, stratify = y_main)\n",
        "print(train_mask.size())\n",
        "print(val_mask.size())\n",
        "print(test_mask.size())\n",
        "print(train_mask.type())\n",
        "print(y_train.type())"
      ],
      "metadata": {
        "colab": {
          "base_uri": "https://localhost:8080/"
        },
        "id": "BGZWW0YDJn3u",
        "outputId": "858a369a-2796-46a2-b103-415bb464c7a3"
      },
      "execution_count": null,
      "outputs": [
        {
          "output_type": "stream",
          "name": "stdout",
          "text": [
            "torch.Size([160, 500])\n",
            "torch.Size([20, 500])\n",
            "torch.Size([20, 500])\n",
            "torch.FloatTensor\n",
            "torch.LongTensor\n"
          ]
        }
      ]
    },
    {
      "cell_type": "markdown",
      "source": [
        "## To see how many percent of data belong to each class."
      ],
      "metadata": {
        "id": "Pk3_cvaxvHJj"
      }
    },
    {
      "cell_type": "code",
      "source": [
        "labels, counts = np.unique(y, return_counts = True)\n",
        "print(counts/float(len(y)))"
      ],
      "metadata": {
        "colab": {
          "base_uri": "https://localhost:8080/"
        },
        "id": "lcVVTSGnKQNZ",
        "outputId": "4e4c0c55-af55-454d-fd8c-5b438c25654e"
      },
      "execution_count": null,
      "outputs": [
        {
          "output_type": "stream",
          "name": "stdout",
          "text": [
            "[0.2 0.2 0.2 0.2 0.2]\n"
          ]
        }
      ]
    },
    {
      "cell_type": "code",
      "source": [
        "labels, counts = np.unique(y_train, return_counts = True)\n",
        "print(counts/float(len(y_train)))"
      ],
      "metadata": {
        "colab": {
          "base_uri": "https://localhost:8080/"
        },
        "id": "q5gTJ2GhKSyA",
        "outputId": "0f7f6e44-ae8f-4944-dac9-15984b939a5b"
      },
      "execution_count": null,
      "outputs": [
        {
          "output_type": "stream",
          "name": "stdout",
          "text": [
            "[0.2 0.2 0.2 0.2 0.2]\n"
          ]
        }
      ]
    },
    {
      "cell_type": "code",
      "source": [
        "labels, counts = np.unique(y_test, return_counts = True)\n",
        "print(counts/float(len(y_val)))"
      ],
      "metadata": {
        "colab": {
          "base_uri": "https://localhost:8080/"
        },
        "id": "Ye_Kp1mHKVGZ",
        "outputId": "7a2979e0-548b-4655-e54b-c64c91ed1384"
      },
      "execution_count": null,
      "outputs": [
        {
          "output_type": "stream",
          "name": "stdout",
          "text": [
            "[0.2 0.2 0.2 0.2 0.2]\n"
          ]
        }
      ]
    },
    {
      "cell_type": "code",
      "source": [
        "labels, counts = np.unique(y_test, return_counts = True)\n",
        "print(counts/float(len(y_test)))"
      ],
      "metadata": {
        "colab": {
          "base_uri": "https://localhost:8080/"
        },
        "id": "GvPZkN_hKXKq",
        "outputId": "17935bf0-89a8-434f-ff02-750a799fa0c8"
      },
      "execution_count": null,
      "outputs": [
        {
          "output_type": "stream",
          "name": "stdout",
          "text": [
            "[0.2 0.2 0.2 0.2 0.2]\n"
          ]
        }
      ]
    },
    {
      "cell_type": "markdown",
      "source": [
        "## Preparing train_mask and test_mask based on PyG."
      ],
      "metadata": {
        "id": "ciX_djXTvK97"
      }
    },
    {
      "cell_type": "code",
      "source": [
        "train_mask = (x.unsqueeze(0) == train_mask.unsqueeze(1)).all(dim = 2).any(dim = 0)\n",
        "print(train_mask)\n",
        "print(train_mask.size())\n",
        "print(sum(train_mask))\n",
        "\n",
        "val_mask = (x.unsqueeze(0) == val_mask.unsqueeze(1)).all(dim = 2).any(dim = 0)\n",
        "print(val_mask)\n",
        "print(val_mask.size())\n",
        "print(sum(val_mask))\n",
        "\n",
        "test_mask = (x.unsqueeze(0) == test_mask.unsqueeze(1)).all(dim = 2 ).any(dim = 0)\n",
        "print(test_mask)\n",
        "print(test_mask.size())\n",
        "print(sum(test_mask))"
      ],
      "metadata": {
        "colab": {
          "base_uri": "https://localhost:8080/"
        },
        "id": "-Jh8-3hIKZhY",
        "outputId": "2ed0d197-a8ba-4cae-b6df-71b16eb01105"
      },
      "execution_count": null,
      "outputs": [
        {
          "output_type": "stream",
          "name": "stdout",
          "text": [
            "tensor([ True,  True,  True,  True,  True,  True, False,  True,  True,  True,\n",
            "         True,  True,  True,  True,  True, False,  True,  True,  True,  True,\n",
            "        False,  True,  True,  True,  True, False, False,  True,  True,  True,\n",
            "         True,  True,  True,  True, False,  True,  True,  True,  True,  True,\n",
            "         True,  True,  True, False, False, False,  True,  True,  True,  True,\n",
            "         True, False,  True,  True,  True, False, False,  True,  True,  True,\n",
            "         True,  True,  True, False,  True, False,  True,  True, False,  True,\n",
            "         True,  True,  True, False,  True,  True, False,  True,  True,  True,\n",
            "         True,  True, False,  True,  True,  True,  True,  True,  True,  True,\n",
            "         True,  True, False,  True, False,  True,  True,  True,  True,  True,\n",
            "         True,  True,  True,  True,  True,  True,  True,  True,  True,  True,\n",
            "         True,  True,  True,  True,  True, False,  True,  True,  True,  True,\n",
            "         True,  True,  True,  True,  True,  True,  True,  True,  True,  True,\n",
            "         True,  True,  True,  True, False,  True,  True,  True,  True, False,\n",
            "         True,  True,  True,  True, False,  True,  True,  True,  True,  True,\n",
            "         True,  True,  True,  True,  True,  True,  True,  True,  True,  True,\n",
            "         True, False,  True,  True, False, False,  True, False,  True,  True,\n",
            "        False,  True, False, False, False,  True,  True,  True,  True, False,\n",
            "        False,  True, False, False,  True,  True,  True,  True, False,  True,\n",
            "        False, False,  True, False,  True,  True,  True,  True,  True,  True])\n",
            "torch.Size([200])\n",
            "tensor(160)\n",
            "tensor([False, False, False, False, False, False, False, False, False, False,\n",
            "        False, False, False, False, False, False, False, False, False, False,\n",
            "        False, False, False, False, False, False, False, False, False, False,\n",
            "        False, False, False, False, False, False, False, False, False, False,\n",
            "        False, False, False, False, False,  True, False, False, False, False,\n",
            "        False, False, False, False, False,  True,  True, False, False, False,\n",
            "        False, False, False,  True, False, False, False, False,  True, False,\n",
            "        False, False, False,  True, False, False,  True, False, False, False,\n",
            "        False, False, False, False, False, False, False, False, False, False,\n",
            "        False, False,  True, False,  True, False, False, False, False, False,\n",
            "        False, False, False, False, False, False, False, False, False, False,\n",
            "        False, False, False, False, False, False, False, False, False, False,\n",
            "        False, False, False, False, False, False, False, False, False, False,\n",
            "        False, False, False, False, False, False, False, False, False, False,\n",
            "        False, False, False, False,  True, False, False, False, False, False,\n",
            "        False, False, False, False, False, False, False, False, False, False,\n",
            "        False,  True, False, False,  True,  True, False,  True, False, False,\n",
            "        False, False, False,  True, False, False, False, False, False, False,\n",
            "         True, False, False,  True, False, False, False, False, False, False,\n",
            "         True,  True, False,  True, False, False, False, False, False, False])\n",
            "torch.Size([200])\n",
            "tensor(20)\n",
            "tensor([False, False, False, False, False, False,  True, False, False, False,\n",
            "        False, False, False, False, False,  True, False, False, False, False,\n",
            "         True, False, False, False, False,  True,  True, False, False, False,\n",
            "        False, False, False, False,  True, False, False, False, False, False,\n",
            "        False, False, False,  True,  True, False, False, False, False, False,\n",
            "        False,  True, False, False, False, False, False, False, False, False,\n",
            "        False, False, False, False, False,  True, False, False, False, False,\n",
            "        False, False, False, False, False, False, False, False, False, False,\n",
            "        False, False,  True, False, False, False, False, False, False, False,\n",
            "        False, False, False, False, False, False, False, False, False, False,\n",
            "        False, False, False, False, False, False, False, False, False, False,\n",
            "        False, False, False, False, False,  True, False, False, False, False,\n",
            "        False, False, False, False, False, False, False, False, False, False,\n",
            "        False, False, False, False,  True, False, False, False, False,  True,\n",
            "        False, False, False, False, False, False, False, False, False, False,\n",
            "        False, False, False, False, False, False, False, False, False, False,\n",
            "        False, False, False, False, False, False, False, False, False, False,\n",
            "         True, False,  True, False,  True, False, False, False, False,  True,\n",
            "        False, False,  True, False, False, False, False, False,  True, False,\n",
            "        False, False, False, False, False, False, False, False, False, False])\n",
            "torch.Size([200])\n",
            "tensor(20)\n"
          ]
        }
      ]
    },
    {
      "cell_type": "markdown",
      "source": [
        "## It is time to use p_link as attentions."
      ],
      "metadata": {
        "id": "XIFl224pvRg5"
      }
    },
    {
      "cell_type": "code",
      "source": [
        "p_link = pd.read_csv('/gdrive/MyDrive/5classes_200_non.sim/p_links_200.csv', sep =',',header = None)\n",
        "p_link = p_link.astype(np.float32)\n",
        "p_link = torch.tensor(p_link.values)\n",
        "#p_link = p_link.to(torch.float32)\n",
        "print(p_link.size())\n",
        "print(p_link.dtype)\n",
        "print(p_link.type())"
      ],
      "metadata": {
        "colab": {
          "base_uri": "https://localhost:8080/"
        },
        "id": "6bYYeY7gKcxP",
        "outputId": "4ebc7f1a-31e4-4285-e46c-88ea6f243f5c"
      },
      "execution_count": null,
      "outputs": [
        {
          "output_type": "stream",
          "name": "stdout",
          "text": [
            "torch.Size([200, 200])\n",
            "torch.float32\n",
            "torch.FloatTensor\n"
          ]
        }
      ]
    },
    {
      "cell_type": "markdown",
      "source": [
        "# Now everything is ready to develop our GNNs."
      ],
      "metadata": {
        "id": "VuvcT90wvVIp"
      }
    },
    {
      "cell_type": "markdown",
      "source": [
        "# Install torch_geometric."
      ],
      "metadata": {
        "id": "00wsfVv2vYOk"
      }
    },
    {
      "cell_type": "code",
      "source": [
        "import os\n",
        "os.environ['TORCH'] = torch.__version__\n",
        "print(torch.__version__)\n",
        "\n",
        "!pip install -q torch-scatter -f https://data.pyg.org/whl/torch-${TORCH}.html\n",
        "!pip install -q torch-sparse -f https://data.pyg.org/whl/torch-${TORCH}.html\n",
        "!pip install -q git+https://github.com/pyg-team/pytorch_geometric.git"
      ],
      "metadata": {
        "colab": {
          "base_uri": "https://localhost:8080/"
        },
        "id": "kBVSxCjIKonp",
        "outputId": "e0d6f549-b73b-4b2c-c294-e6d155cf1c12"
      },
      "execution_count": null,
      "outputs": [
        {
          "output_type": "stream",
          "name": "stdout",
          "text": [
            "2.1.0+cu121\n",
            "\u001b[2K     \u001b[90m━━━━━━━━━━━━━━━━━━━━━━━━━━━━━━━━━━━━━━━━\u001b[0m \u001b[32m10.8/10.8 MB\u001b[0m \u001b[31m53.7 MB/s\u001b[0m eta \u001b[36m0:00:00\u001b[0m\n",
            "\u001b[2K     \u001b[90m━━━━━━━━━━━━━━━━━━━━━━━━━━━━━━━━━━━━━━━━\u001b[0m \u001b[32m5.0/5.0 MB\u001b[0m \u001b[31m41.0 MB/s\u001b[0m eta \u001b[36m0:00:00\u001b[0m\n",
            "\u001b[?25h  Installing build dependencies ... \u001b[?25l\u001b[?25hdone\n",
            "  Getting requirements to build wheel ... \u001b[?25l\u001b[?25hdone\n",
            "  Preparing metadata (pyproject.toml) ... \u001b[?25l\u001b[?25hdone\n",
            "  Building wheel for torch_geometric (pyproject.toml) ... \u001b[?25l\u001b[?25hdone\n"
          ]
        }
      ]
    },
    {
      "cell_type": "markdown",
      "source": [
        "# Save data in order to use it."
      ],
      "metadata": {
        "id": "qMeCy2sNvcti"
      }
    },
    {
      "cell_type": "code",
      "source": [
        "from torch_geometric.data import Data\n",
        "Data = Data(x = x, edge_index = edge_index, y = y, train_mask = train_mask, val_mask = val_mask, test_mask = test_mask)\n",
        "print(Data)"
      ],
      "metadata": {
        "colab": {
          "base_uri": "https://localhost:8080/"
        },
        "id": "1ruS50YQKrko",
        "outputId": "4934fe13-7384-4626-f8c8-ff3d3b7a5d41"
      },
      "execution_count": null,
      "outputs": [
        {
          "output_type": "stream",
          "name": "stdout",
          "text": [
            "Data(x=[200, 500], edge_index=[2, 1790], y=[200], train_mask=[200], val_mask=[200], test_mask=[200])\n"
          ]
        }
      ]
    },
    {
      "cell_type": "code",
      "source": [
        "data_save_name = 'data.pt'\n",
        "path = F\"/gdrive/MyDrive/5classes_200_non.sim/{data_save_name}\"\n",
        "torch.save(Data.to_dict(), path)"
      ],
      "metadata": {
        "id": "dCcCZTVEKtwn"
      },
      "execution_count": null,
      "outputs": []
    },
    {
      "cell_type": "code",
      "source": [
        "p_link_save_name = 'p_link.pt'\n",
        "path = F\"/gdrive/MyDrive/5classes_200_non.sim/{p_link_save_name}\"\n",
        "torch.save(p_link, path)"
      ],
      "metadata": {
        "id": "2Lu_PfooKvej"
      },
      "execution_count": null,
      "outputs": []
    },
    {
      "cell_type": "code",
      "source": [
        "from sklearn import svm\n",
        "from sklearn.model_selection import train_test_split\n",
        "from sklearn.metrics import accuracy_score\n",
        "\n",
        "# Split the data into training and testing sets\n",
        "X_train, X_test, y_train, y_test = train_test_split(x, y, test_size=0.2, random_state=42)\n",
        "\n",
        "# Create an SVM classifier\n",
        "clf = svm.SVC(kernel='linear', decision_function_shape='ovr')\n",
        "\n",
        "# Train the classifier on the training data\n",
        "clf.fit(X_train, y_train)\n",
        "\n",
        "# Make predictions on the test data\n",
        "y_pred = clf.predict(X_test)\n",
        "\n",
        "# Evaluate the accuracy of the classifier\n",
        "accuracy = accuracy_score(y_test, y_pred)\n",
        "print(\"Accuracy:\", accuracy)"
      ],
      "metadata": {
        "colab": {
          "base_uri": "https://localhost:8080/"
        },
        "id": "LyToAjzzZFsl",
        "outputId": "5a2cd2a1-af4e-426c-eebd-386e70d95ff0"
      },
      "execution_count": null,
      "outputs": [
        {
          "output_type": "stream",
          "name": "stdout",
          "text": [
            "Accuracy: 0.725\n"
          ]
        }
      ]
    },
    {
      "cell_type": "code",
      "source": [
        "from sklearn.ensemble import RandomForestClassifier\n",
        "from sklearn.model_selection import train_test_split\n",
        "from sklearn.metrics import accuracy_score\n",
        "\n",
        "# Split the data into training and testing sets\n",
        "X_train, X_test, y_train, y_test = train_test_split(x, y, test_size=0.2, random_state=42)\n",
        "\n",
        "# Create a Random Forest classifier\n",
        "clf = RandomForestClassifier(n_estimators=500)\n",
        "\n",
        "# Train the classifier on the training data\n",
        "clf.fit(X_train, y_train)\n",
        "\n",
        "# Make predictions on the test data\n",
        "y_pred = clf.predict(X_test)\n",
        "\n",
        "# Evaluate the accuracy of the classifier\n",
        "accuracy = accuracy_score(y_test, y_pred)\n",
        "print(\"Accuracy:\", accuracy)"
      ],
      "metadata": {
        "colab": {
          "base_uri": "https://localhost:8080/"
        },
        "id": "pWbcBGkMZaiw",
        "outputId": "de775356-6b97-4769-d68f-801a079e94b2"
      },
      "execution_count": null,
      "outputs": [
        {
          "output_type": "stream",
          "name": "stdout",
          "text": [
            "Accuracy: 0.725\n"
          ]
        }
      ]
    },
    {
      "cell_type": "code",
      "source": [
        "import numpy as np\n",
        "from keras.layers import Dense\n",
        "from keras.utils import to_categorical\n",
        "from sklearn.model_selection import train_test_split\n",
        "from sklearn.metrics import accuracy_score\n",
        "from keras.models import Sequential\n",
        "\n",
        "# Convert labels to one-hot encoding\n",
        "y_cat = to_categorical(y)  # Assuming 'y' is your original label array\n",
        "\n",
        "# Convert PyTorch tensor to NumPy array\n",
        "X_train_np = x.numpy()  # Assuming 'X_train' is a PyTorch tensor\n",
        "\n",
        "# Print the shapes of X_train_np and y_cat for debugging\n",
        "print(\"X_train_np shape:\", X_train_np.shape)\n",
        "print(\"y_cat shape:\", y_cat.shape)\n",
        "\n",
        "# Split the data into training and testing sets\n",
        "X_train_np, X_test, y_train_cat, y_test_cat = train_test_split(X_train_np, y_cat, test_size=0.2, random_state=42)\n",
        "\n",
        "# Create a neural network model\n",
        "model = Sequential()\n",
        "model.add(Dense(12, input_dim=X_train_np.shape[1], activation='relu'))\n",
        "model.add(Dense(8, activation='relu'))\n",
        "model.add(Dense(5, activation='softmax'))  # 5 classes\n",
        "\n",
        "# Compile the model\n",
        "model.compile(loss='categorical_crossentropy', optimizer='adam', metrics=['accuracy'])\n",
        "\n",
        "# Train the model on the training data\n",
        "model.fit(X_train_np, y_train_cat, epochs=100, batch_size=10)\n",
        "\n",
        "# Make predictions on the test data\n",
        "y_pred_probs = model.predict(X_test)\n",
        "y_pred = np.argmax(y_pred_probs, axis=1)\n",
        "\n",
        "# Convert one-hot encoded labels back to integers for evaluation\n",
        "y_test = np.argmax(y_test_cat, axis=1)\n",
        "\n",
        "# Evaluate the accuracy of the model\n",
        "accuracy = accuracy_score(y_test, y_pred)\n",
        "print(\"Accuracy:\", accuracy)"
      ],
      "metadata": {
        "id": "ZeI7ZSvfaTz2"
      },
      "execution_count": null,
      "outputs": []
    },
    {
      "cell_type": "code",
      "source": [
        "import numpy as np\n",
        "from keras.layers import Dense\n",
        "from keras.utils import to_categorical\n",
        "from sklearn.model_selection import train_test_split\n",
        "from sklearn.metrics import accuracy_score\n",
        "from keras.models import Sequential\n",
        "\n",
        "# Convert labels to one-hot encoding\n",
        "y_cat = to_categorical(y)  # Assuming 'y' is your original label array\n",
        "\n",
        "# Convert PyTorch tensor to NumPy array\n",
        "X_train_np = x.numpy()  # Assuming 'X_train' is a PyTorch tensor\n",
        "\n",
        "# Print the shapes of X_train_np and y_cat for debugging\n",
        "print(\"X_train_np shape:\", X_train_np.shape)\n",
        "print(\"y_cat shape:\", y_cat.shape)\n",
        "\n",
        "# Split the data into training and testing sets\n",
        "X_train, X_test, y_train_cat, y_test_cat = train_test_split(X_train_np, y_cat, test_size=0.2, random_state=42)\n",
        "\n",
        "# Create a neural network model\n",
        "model = Sequential()\n",
        "model.add(Dense(64, input_dim=X_train.shape[1], activation='relu'))\n",
        "model.add(Dense(10, activation='relu'))\n",
        "#model.add(Dense(16, activation='relu'))\n",
        "model.add(Dense(5, activation='softmax'))  # 5 classes\n",
        "\n",
        "# Compile the model\n",
        "model.compile(loss='categorical_crossentropy', optimizer='adam', metrics=['accuracy'])\n",
        "\n",
        "# Train the model on the training data\n",
        "model.fit(X_train, y_train_cat, epochs=100, batch_size=32, validation_split=0.1)\n",
        "\n",
        "# Make predictions on the test data\n",
        "y_pred_probs = model.predict(X_test)\n",
        "y_pred = np.argmax(y_pred_probs, axis=1)\n",
        "\n",
        "# Convert one-hot encoded labels back to integers for evaluation\n",
        "y_test = np.argmax(y_test_cat, axis=1)\n",
        "\n",
        "# Evaluate the accuracy of the model\n",
        "accuracy = accuracy_score(y_test, y_pred)\n",
        "print(\"Accuracy:\", accuracy)\n"
      ],
      "metadata": {
        "colab": {
          "base_uri": "https://localhost:8080/"
        },
        "id": "Gij1_xXGfP05",
        "outputId": "5911d1fd-3693-4dee-ea98-9b7b2578cf72"
      },
      "execution_count": null,
      "outputs": [
        {
          "output_type": "stream",
          "name": "stdout",
          "text": [
            "X_train_np shape: (200, 500)\n",
            "y_cat shape: (200, 5)\n",
            "Epoch 1/100\n",
            "5/5 [==============================] - 1s 52ms/step - loss: 1.7284 - accuracy: 0.2500 - val_loss: 1.5061 - val_accuracy: 0.5000\n",
            "Epoch 2/100\n",
            "5/5 [==============================] - 0s 9ms/step - loss: 1.3189 - accuracy: 0.5278 - val_loss: 1.3578 - val_accuracy: 0.5625\n",
            "Epoch 3/100\n",
            "5/5 [==============================] - 0s 9ms/step - loss: 1.0824 - accuracy: 0.6667 - val_loss: 1.1970 - val_accuracy: 0.6875\n",
            "Epoch 4/100\n",
            "5/5 [==============================] - 0s 9ms/step - loss: 0.9240 - accuracy: 0.7153 - val_loss: 1.0588 - val_accuracy: 0.6875\n",
            "Epoch 5/100\n",
            "5/5 [==============================] - 0s 9ms/step - loss: 0.8062 - accuracy: 0.7292 - val_loss: 0.9559 - val_accuracy: 0.6875\n",
            "Epoch 6/100\n",
            "5/5 [==============================] - 0s 9ms/step - loss: 0.7110 - accuracy: 0.7361 - val_loss: 0.8801 - val_accuracy: 0.6875\n",
            "Epoch 7/100\n",
            "5/5 [==============================] - 0s 9ms/step - loss: 0.6310 - accuracy: 0.7500 - val_loss: 0.8179 - val_accuracy: 0.6875\n",
            "Epoch 8/100\n",
            "5/5 [==============================] - 0s 9ms/step - loss: 0.5627 - accuracy: 0.7500 - val_loss: 0.7670 - val_accuracy: 0.7500\n",
            "Epoch 9/100\n",
            "5/5 [==============================] - 0s 10ms/step - loss: 0.5018 - accuracy: 0.7847 - val_loss: 0.7263 - val_accuracy: 0.7500\n",
            "Epoch 10/100\n",
            "5/5 [==============================] - 0s 9ms/step - loss: 0.4550 - accuracy: 0.7847 - val_loss: 0.6969 - val_accuracy: 0.7500\n",
            "Epoch 11/100\n",
            "5/5 [==============================] - 0s 9ms/step - loss: 0.4169 - accuracy: 0.7847 - val_loss: 0.6712 - val_accuracy: 0.7500\n",
            "Epoch 12/100\n",
            "5/5 [==============================] - 0s 9ms/step - loss: 0.3861 - accuracy: 0.7917 - val_loss: 0.6481 - val_accuracy: 0.7500\n",
            "Epoch 13/100\n",
            "5/5 [==============================] - 0s 9ms/step - loss: 0.3624 - accuracy: 0.8056 - val_loss: 0.6327 - val_accuracy: 0.8125\n",
            "Epoch 14/100\n",
            "5/5 [==============================] - 0s 10ms/step - loss: 0.3398 - accuracy: 0.8542 - val_loss: 0.6176 - val_accuracy: 0.8125\n",
            "Epoch 15/100\n",
            "5/5 [==============================] - 0s 12ms/step - loss: 0.3226 - accuracy: 0.8750 - val_loss: 0.6063 - val_accuracy: 0.8125\n",
            "Epoch 16/100\n",
            "5/5 [==============================] - 0s 10ms/step - loss: 0.3082 - accuracy: 0.9097 - val_loss: 0.5977 - val_accuracy: 0.8125\n",
            "Epoch 17/100\n",
            "5/5 [==============================] - 0s 9ms/step - loss: 0.2969 - accuracy: 0.9306 - val_loss: 0.5906 - val_accuracy: 0.8125\n",
            "Epoch 18/100\n",
            "5/5 [==============================] - 0s 14ms/step - loss: 0.2866 - accuracy: 0.9653 - val_loss: 0.5830 - val_accuracy: 0.8750\n",
            "Epoch 19/100\n",
            "5/5 [==============================] - 0s 9ms/step - loss: 0.2780 - accuracy: 0.9653 - val_loss: 0.5749 - val_accuracy: 0.8125\n",
            "Epoch 20/100\n",
            "5/5 [==============================] - 0s 9ms/step - loss: 0.2699 - accuracy: 0.9722 - val_loss: 0.5738 - val_accuracy: 0.7500\n",
            "Epoch 21/100\n",
            "5/5 [==============================] - 0s 9ms/step - loss: 0.2622 - accuracy: 0.9722 - val_loss: 0.5684 - val_accuracy: 0.6875\n",
            "Epoch 22/100\n",
            "5/5 [==============================] - 0s 9ms/step - loss: 0.2553 - accuracy: 0.9722 - val_loss: 0.5622 - val_accuracy: 0.6875\n",
            "Epoch 23/100\n",
            "5/5 [==============================] - 0s 9ms/step - loss: 0.2491 - accuracy: 0.9722 - val_loss: 0.5575 - val_accuracy: 0.6875\n",
            "Epoch 24/100\n",
            "5/5 [==============================] - 0s 9ms/step - loss: 0.2424 - accuracy: 0.9722 - val_loss: 0.5460 - val_accuracy: 0.7500\n",
            "Epoch 25/100\n",
            "5/5 [==============================] - 0s 9ms/step - loss: 0.2351 - accuracy: 0.9722 - val_loss: 0.5389 - val_accuracy: 0.7500\n",
            "Epoch 26/100\n",
            "5/5 [==============================] - 0s 10ms/step - loss: 0.2286 - accuracy: 0.9722 - val_loss: 0.5321 - val_accuracy: 0.7500\n",
            "Epoch 27/100\n",
            "5/5 [==============================] - 0s 9ms/step - loss: 0.2221 - accuracy: 0.9792 - val_loss: 0.5259 - val_accuracy: 0.7500\n",
            "Epoch 28/100\n",
            "5/5 [==============================] - 0s 9ms/step - loss: 0.2144 - accuracy: 0.9792 - val_loss: 0.5151 - val_accuracy: 0.8125\n",
            "Epoch 29/100\n",
            "5/5 [==============================] - 0s 9ms/step - loss: 0.2082 - accuracy: 0.9792 - val_loss: 0.5045 - val_accuracy: 0.8125\n",
            "Epoch 30/100\n",
            "5/5 [==============================] - 0s 14ms/step - loss: 0.2008 - accuracy: 0.9792 - val_loss: 0.5054 - val_accuracy: 0.8125\n",
            "Epoch 31/100\n",
            "5/5 [==============================] - 0s 9ms/step - loss: 0.1933 - accuracy: 0.9792 - val_loss: 0.5025 - val_accuracy: 0.8125\n",
            "Epoch 32/100\n",
            "5/5 [==============================] - 0s 10ms/step - loss: 0.1855 - accuracy: 0.9792 - val_loss: 0.4978 - val_accuracy: 0.8125\n",
            "Epoch 33/100\n",
            "5/5 [==============================] - 0s 10ms/step - loss: 0.1788 - accuracy: 0.9792 - val_loss: 0.4897 - val_accuracy: 0.8125\n",
            "Epoch 34/100\n",
            "5/5 [==============================] - 0s 10ms/step - loss: 0.1714 - accuracy: 0.9792 - val_loss: 0.4903 - val_accuracy: 0.8125\n",
            "Epoch 35/100\n",
            "5/5 [==============================] - 0s 14ms/step - loss: 0.1630 - accuracy: 0.9861 - val_loss: 0.4759 - val_accuracy: 0.8125\n",
            "Epoch 36/100\n",
            "5/5 [==============================] - 0s 10ms/step - loss: 0.1549 - accuracy: 0.9861 - val_loss: 0.4723 - val_accuracy: 0.8125\n",
            "Epoch 37/100\n",
            "5/5 [==============================] - 0s 10ms/step - loss: 0.1469 - accuracy: 0.9861 - val_loss: 0.4598 - val_accuracy: 0.8125\n",
            "Epoch 38/100\n",
            "5/5 [==============================] - 0s 9ms/step - loss: 0.1389 - accuracy: 0.9861 - val_loss: 0.4526 - val_accuracy: 0.8125\n",
            "Epoch 39/100\n",
            "5/5 [==============================] - 0s 10ms/step - loss: 0.1307 - accuracy: 0.9861 - val_loss: 0.4400 - val_accuracy: 0.8125\n",
            "Epoch 40/100\n",
            "5/5 [==============================] - 0s 10ms/step - loss: 0.1242 - accuracy: 0.9861 - val_loss: 0.4312 - val_accuracy: 0.8125\n",
            "Epoch 41/100\n",
            "5/5 [==============================] - 0s 10ms/step - loss: 0.1156 - accuracy: 0.9861 - val_loss: 0.4431 - val_accuracy: 0.8125\n",
            "Epoch 42/100\n",
            "5/5 [==============================] - 0s 10ms/step - loss: 0.1087 - accuracy: 0.9861 - val_loss: 0.4458 - val_accuracy: 0.8125\n",
            "Epoch 43/100\n",
            "5/5 [==============================] - 0s 10ms/step - loss: 0.1013 - accuracy: 0.9861 - val_loss: 0.4251 - val_accuracy: 0.8125\n",
            "Epoch 44/100\n",
            "5/5 [==============================] - 0s 9ms/step - loss: 0.0944 - accuracy: 0.9861 - val_loss: 0.4221 - val_accuracy: 0.8125\n",
            "Epoch 45/100\n",
            "5/5 [==============================] - 0s 10ms/step - loss: 0.0875 - accuracy: 0.9861 - val_loss: 0.4251 - val_accuracy: 0.8125\n",
            "Epoch 46/100\n",
            "5/5 [==============================] - 0s 11ms/step - loss: 0.0812 - accuracy: 0.9861 - val_loss: 0.4123 - val_accuracy: 0.8125\n",
            "Epoch 47/100\n",
            "5/5 [==============================] - 0s 10ms/step - loss: 0.0752 - accuracy: 0.9861 - val_loss: 0.4113 - val_accuracy: 0.8125\n",
            "Epoch 48/100\n",
            "5/5 [==============================] - 0s 10ms/step - loss: 0.0700 - accuracy: 0.9931 - val_loss: 0.4204 - val_accuracy: 0.8125\n",
            "Epoch 49/100\n",
            "5/5 [==============================] - 0s 9ms/step - loss: 0.0649 - accuracy: 0.9931 - val_loss: 0.4130 - val_accuracy: 0.8125\n",
            "Epoch 50/100\n",
            "5/5 [==============================] - 0s 9ms/step - loss: 0.0598 - accuracy: 0.9931 - val_loss: 0.4013 - val_accuracy: 0.8125\n",
            "Epoch 51/100\n",
            "5/5 [==============================] - 0s 10ms/step - loss: 0.0554 - accuracy: 1.0000 - val_loss: 0.3968 - val_accuracy: 0.8125\n",
            "Epoch 52/100\n",
            "5/5 [==============================] - 0s 10ms/step - loss: 0.0514 - accuracy: 1.0000 - val_loss: 0.3929 - val_accuracy: 0.8125\n",
            "Epoch 53/100\n",
            "5/5 [==============================] - 0s 19ms/step - loss: 0.0469 - accuracy: 1.0000 - val_loss: 0.4093 - val_accuracy: 0.8125\n",
            "Epoch 54/100\n",
            "5/5 [==============================] - 0s 9ms/step - loss: 0.0419 - accuracy: 1.0000 - val_loss: 0.4063 - val_accuracy: 0.8125\n",
            "Epoch 55/100\n",
            "5/5 [==============================] - 0s 12ms/step - loss: 0.0371 - accuracy: 1.0000 - val_loss: 0.4083 - val_accuracy: 0.8125\n",
            "Epoch 56/100\n",
            "5/5 [==============================] - 0s 13ms/step - loss: 0.0334 - accuracy: 1.0000 - val_loss: 0.4020 - val_accuracy: 0.8125\n",
            "Epoch 57/100\n",
            "5/5 [==============================] - 0s 10ms/step - loss: 0.0309 - accuracy: 1.0000 - val_loss: 0.3980 - val_accuracy: 0.8125\n",
            "Epoch 58/100\n",
            "5/5 [==============================] - 0s 10ms/step - loss: 0.0285 - accuracy: 1.0000 - val_loss: 0.4017 - val_accuracy: 0.8125\n",
            "Epoch 59/100\n",
            "5/5 [==============================] - 0s 9ms/step - loss: 0.0264 - accuracy: 1.0000 - val_loss: 0.4038 - val_accuracy: 0.8125\n",
            "Epoch 60/100\n",
            "5/5 [==============================] - 0s 9ms/step - loss: 0.0243 - accuracy: 1.0000 - val_loss: 0.4040 - val_accuracy: 0.8125\n",
            "Epoch 61/100\n",
            "5/5 [==============================] - 0s 10ms/step - loss: 0.0227 - accuracy: 1.0000 - val_loss: 0.4067 - val_accuracy: 0.8125\n",
            "Epoch 62/100\n",
            "5/5 [==============================] - 0s 10ms/step - loss: 0.0213 - accuracy: 1.0000 - val_loss: 0.4078 - val_accuracy: 0.8125\n",
            "Epoch 63/100\n",
            "5/5 [==============================] - 0s 9ms/step - loss: 0.0197 - accuracy: 1.0000 - val_loss: 0.4013 - val_accuracy: 0.8125\n",
            "Epoch 64/100\n",
            "5/5 [==============================] - 0s 9ms/step - loss: 0.0184 - accuracy: 1.0000 - val_loss: 0.3992 - val_accuracy: 0.8125\n",
            "Epoch 65/100\n",
            "5/5 [==============================] - 0s 10ms/step - loss: 0.0172 - accuracy: 1.0000 - val_loss: 0.4068 - val_accuracy: 0.8125\n",
            "Epoch 66/100\n",
            "5/5 [==============================] - 0s 9ms/step - loss: 0.0163 - accuracy: 1.0000 - val_loss: 0.4151 - val_accuracy: 0.8125\n",
            "Epoch 67/100\n",
            "5/5 [==============================] - 0s 9ms/step - loss: 0.0154 - accuracy: 1.0000 - val_loss: 0.4137 - val_accuracy: 0.8125\n",
            "Epoch 68/100\n",
            "5/5 [==============================] - 0s 9ms/step - loss: 0.0145 - accuracy: 1.0000 - val_loss: 0.4094 - val_accuracy: 0.8125\n",
            "Epoch 69/100\n",
            "5/5 [==============================] - 0s 9ms/step - loss: 0.0136 - accuracy: 1.0000 - val_loss: 0.4038 - val_accuracy: 0.8125\n",
            "Epoch 70/100\n",
            "5/5 [==============================] - 0s 9ms/step - loss: 0.0129 - accuracy: 1.0000 - val_loss: 0.4058 - val_accuracy: 0.8125\n",
            "Epoch 71/100\n",
            "5/5 [==============================] - 0s 10ms/step - loss: 0.0122 - accuracy: 1.0000 - val_loss: 0.4070 - val_accuracy: 0.8125\n",
            "Epoch 72/100\n",
            "5/5 [==============================] - 0s 9ms/step - loss: 0.0116 - accuracy: 1.0000 - val_loss: 0.4110 - val_accuracy: 0.8125\n",
            "Epoch 73/100\n",
            "5/5 [==============================] - 0s 10ms/step - loss: 0.0111 - accuracy: 1.0000 - val_loss: 0.4091 - val_accuracy: 0.8125\n",
            "Epoch 74/100\n",
            "5/5 [==============================] - 0s 9ms/step - loss: 0.0105 - accuracy: 1.0000 - val_loss: 0.4095 - val_accuracy: 0.8125\n",
            "Epoch 75/100\n",
            "5/5 [==============================] - 0s 10ms/step - loss: 0.0101 - accuracy: 1.0000 - val_loss: 0.4139 - val_accuracy: 0.8125\n",
            "Epoch 76/100\n",
            "5/5 [==============================] - 0s 13ms/step - loss: 0.0096 - accuracy: 1.0000 - val_loss: 0.4122 - val_accuracy: 0.8125\n",
            "Epoch 77/100\n",
            "5/5 [==============================] - 0s 10ms/step - loss: 0.0092 - accuracy: 1.0000 - val_loss: 0.4119 - val_accuracy: 0.8125\n",
            "Epoch 78/100\n",
            "5/5 [==============================] - 0s 9ms/step - loss: 0.0088 - accuracy: 1.0000 - val_loss: 0.4136 - val_accuracy: 0.8125\n",
            "Epoch 79/100\n",
            "5/5 [==============================] - 0s 10ms/step - loss: 0.0084 - accuracy: 1.0000 - val_loss: 0.4134 - val_accuracy: 0.8125\n",
            "Epoch 80/100\n",
            "5/5 [==============================] - 0s 9ms/step - loss: 0.0081 - accuracy: 1.0000 - val_loss: 0.4126 - val_accuracy: 0.8125\n",
            "Epoch 81/100\n",
            "5/5 [==============================] - 0s 9ms/step - loss: 0.0077 - accuracy: 1.0000 - val_loss: 0.4152 - val_accuracy: 0.8125\n",
            "Epoch 82/100\n",
            "5/5 [==============================] - 0s 10ms/step - loss: 0.0075 - accuracy: 1.0000 - val_loss: 0.4194 - val_accuracy: 0.8125\n",
            "Epoch 83/100\n",
            "5/5 [==============================] - 0s 10ms/step - loss: 0.0072 - accuracy: 1.0000 - val_loss: 0.4176 - val_accuracy: 0.8125\n",
            "Epoch 84/100\n",
            "5/5 [==============================] - 0s 9ms/step - loss: 0.0069 - accuracy: 1.0000 - val_loss: 0.4176 - val_accuracy: 0.8125\n",
            "Epoch 85/100\n",
            "5/5 [==============================] - 0s 9ms/step - loss: 0.0066 - accuracy: 1.0000 - val_loss: 0.4188 - val_accuracy: 0.8125\n",
            "Epoch 86/100\n",
            "5/5 [==============================] - 0s 9ms/step - loss: 0.0064 - accuracy: 1.0000 - val_loss: 0.4179 - val_accuracy: 0.8125\n",
            "Epoch 87/100\n",
            "5/5 [==============================] - 0s 9ms/step - loss: 0.0062 - accuracy: 1.0000 - val_loss: 0.4198 - val_accuracy: 0.8125\n",
            "Epoch 88/100\n",
            "5/5 [==============================] - 0s 9ms/step - loss: 0.0060 - accuracy: 1.0000 - val_loss: 0.4225 - val_accuracy: 0.8125\n",
            "Epoch 89/100\n",
            "5/5 [==============================] - 0s 9ms/step - loss: 0.0058 - accuracy: 1.0000 - val_loss: 0.4236 - val_accuracy: 0.8125\n",
            "Epoch 90/100\n",
            "5/5 [==============================] - 0s 10ms/step - loss: 0.0056 - accuracy: 1.0000 - val_loss: 0.4239 - val_accuracy: 0.8125\n",
            "Epoch 91/100\n",
            "5/5 [==============================] - 0s 10ms/step - loss: 0.0054 - accuracy: 1.0000 - val_loss: 0.4223 - val_accuracy: 0.8125\n",
            "Epoch 92/100\n",
            "5/5 [==============================] - 0s 10ms/step - loss: 0.0052 - accuracy: 1.0000 - val_loss: 0.4258 - val_accuracy: 0.8125\n",
            "Epoch 93/100\n",
            "5/5 [==============================] - 0s 10ms/step - loss: 0.0051 - accuracy: 1.0000 - val_loss: 0.4264 - val_accuracy: 0.8125\n",
            "Epoch 94/100\n",
            "5/5 [==============================] - 0s 10ms/step - loss: 0.0049 - accuracy: 1.0000 - val_loss: 0.4262 - val_accuracy: 0.8125\n",
            "Epoch 95/100\n",
            "5/5 [==============================] - 0s 14ms/step - loss: 0.0047 - accuracy: 1.0000 - val_loss: 0.4282 - val_accuracy: 0.8125\n",
            "Epoch 96/100\n",
            "5/5 [==============================] - 0s 16ms/step - loss: 0.0046 - accuracy: 1.0000 - val_loss: 0.4298 - val_accuracy: 0.8125\n",
            "Epoch 97/100\n",
            "5/5 [==============================] - 0s 9ms/step - loss: 0.0045 - accuracy: 1.0000 - val_loss: 0.4331 - val_accuracy: 0.8125\n",
            "Epoch 98/100\n",
            "5/5 [==============================] - 0s 9ms/step - loss: 0.0044 - accuracy: 1.0000 - val_loss: 0.4302 - val_accuracy: 0.8125\n",
            "Epoch 99/100\n",
            "5/5 [==============================] - 0s 10ms/step - loss: 0.0042 - accuracy: 1.0000 - val_loss: 0.4314 - val_accuracy: 0.8125\n",
            "Epoch 100/100\n",
            "5/5 [==============================] - 0s 9ms/step - loss: 0.0041 - accuracy: 1.0000 - val_loss: 0.4343 - val_accuracy: 0.8125\n",
            "2/2 [==============================] - 0s 11ms/step\n",
            "Accuracy: 0.775\n"
          ]
        }
      ]
    }
  ]
}
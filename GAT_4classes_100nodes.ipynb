{
  "cells": [
    {
      "cell_type": "markdown",
      "metadata": {
        "id": "view-in-github",
        "colab_type": "text"
      },
      "source": [
        "<a href=\"https://colab.research.google.com/github/nastaranmarzban/BGAT-and-GAT-Jupyter-notebook/blob/main/GAT_4classes_100nodes.ipynb\" target=\"_parent\"><img src=\"https://colab.research.google.com/assets/colab-badge.svg\" alt=\"Open In Colab\"/></a>"
      ]
    },
    {
      "cell_type": "markdown",
      "metadata": {
        "id": "eEvAm83aOzC8"
      },
      "source": [
        "## Mount to gdrive to read data, adjacency matrix, p_link and labels."
      ]
    },
    {
      "cell_type": "code",
      "execution_count": null,
      "metadata": {
        "colab": {
          "base_uri": "https://localhost:8080/"
        },
        "id": "5ksxtdcEeCwR",
        "outputId": "9acd0cc0-1455-419b-a323-85bf397ee51c"
      },
      "outputs": [
        {
          "output_type": "stream",
          "name": "stdout",
          "text": [
            "Mounted at /gdrive\n"
          ]
        }
      ],
      "source": [
        "from google.colab import drive\n",
        "drive.mount('/gdrive')"
      ]
    },
    {
      "cell_type": "markdown",
      "metadata": {
        "id": "n39JZ1WtO5p0"
      },
      "source": [
        "# Install pandas to read csv files from gdrive. Install torch and numpy which are packages that are needed durind coding."
      ]
    },
    {
      "cell_type": "code",
      "execution_count": null,
      "metadata": {
        "colab": {
          "base_uri": "https://localhost:8080/"
        },
        "id": "qkBVaL3xOx3x",
        "outputId": "5a28c9a5-fb86-4c08-b1b9-87eb538f21c9"
      },
      "outputs": [
        {
          "output_type": "stream",
          "name": "stdout",
          "text": [
            "Requirement already satisfied: pandas in /usr/local/lib/python3.10/dist-packages (1.5.3)\n",
            "Requirement already satisfied: python-dateutil>=2.8.1 in /usr/local/lib/python3.10/dist-packages (from pandas) (2.8.2)\n",
            "Requirement already satisfied: pytz>=2020.1 in /usr/local/lib/python3.10/dist-packages (from pandas) (2023.3.post1)\n",
            "Requirement already satisfied: numpy>=1.21.0 in /usr/local/lib/python3.10/dist-packages (from pandas) (1.23.5)\n",
            "Requirement already satisfied: six>=1.5 in /usr/local/lib/python3.10/dist-packages (from python-dateutil>=2.8.1->pandas) (1.16.0)\n"
          ]
        }
      ],
      "source": [
        "!pip install pandas\n",
        "import pandas as pd\n",
        "import torch\n",
        "import numpy as np"
      ]
    },
    {
      "cell_type": "markdown",
      "source": [
        "# Load data which are processed in preprocessing_data_4classdes.ipynb file."
      ],
      "metadata": {
        "id": "ENr711n2kqUK"
      }
    },
    {
      "cell_type": "code",
      "execution_count": null,
      "metadata": {
        "colab": {
          "base_uri": "https://localhost:8080/"
        },
        "id": "87QNqt-jVnYg",
        "outputId": "494f7ff7-d744-4bd0-db27-573840f9bbbe"
      },
      "outputs": [
        {
          "output_type": "execute_result",
          "data": {
            "text/plain": [
              "{'x': tensor([[-0.2138,  0.1836, -1.2796,  ..., -0.7865,  0.3766, -0.0634],\n",
              "         [ 0.1939, -1.7053,  0.0836,  ...,  1.9979, -0.0287,  0.2419],\n",
              "         [ 1.1427, -0.1411, -1.8947,  ..., -1.1283, -2.1305, -0.6967],\n",
              "         ...,\n",
              "         [ 0.2675, -1.8261,  0.3187,  ...,  1.4613, -0.2672,  0.4551],\n",
              "         [ 0.4348, -0.0747, -0.3687,  ..., -0.3990, -0.2855, -0.3294],\n",
              "         [ 1.1066,  0.3640, -1.1720,  ...,  0.7746,  0.5340, -0.4019]]),\n",
              " 'edge_index': tensor([[ 0,  0,  0,  0,  0,  1,  1,  1,  1,  1,  1,  1,  1,  1,  1,  1,  2,  3,\n",
              "           4,  5,  5,  5,  5,  5,  5,  5,  5,  5,  5,  6,  6,  7,  8,  8,  8,  9,\n",
              "           9,  9,  9, 10, 10, 11, 11, 12, 12, 13, 13, 13, 13, 13, 14, 15, 15, 16,\n",
              "          16, 17, 17, 17, 17, 17, 17, 17, 17, 17, 17, 17, 17, 17, 18, 18, 18, 18,\n",
              "          18, 19, 19, 19, 19, 19, 19, 19, 19, 20, 20, 20, 20, 20, 20, 21, 21, 21,\n",
              "          21, 21, 21, 21, 21, 21, 21, 21, 22, 22, 23, 23, 23, 23, 23, 23, 23, 23,\n",
              "          23, 23, 24, 24, 24, 24, 24, 24, 24, 24, 24, 24, 24, 25, 25, 26, 26, 27,\n",
              "          27, 27, 27, 27, 27, 27, 27, 27, 27, 27, 27, 28, 28, 31, 31, 31, 31, 31,\n",
              "          31, 31, 31, 31, 32, 33, 33, 33, 33, 34, 34, 34, 35, 35, 35, 36, 36, 36,\n",
              "          37, 37, 37, 37, 37, 37, 37, 37, 37, 37, 37, 38, 38, 38, 39, 39, 39, 39,\n",
              "          39, 39, 39, 39, 39, 39, 39, 39, 39, 39, 40, 40, 41, 41, 41, 41, 41, 41,\n",
              "          41, 41, 41, 42, 42, 42, 42, 42, 42, 43, 43, 43, 43, 43, 43, 43, 44, 44,\n",
              "          44, 44, 44, 44, 44, 44, 44, 44, 44, 44, 44, 45, 45, 45, 46, 46, 47, 47,\n",
              "          48, 48, 48, 48, 48, 48, 48, 48, 48, 48, 48, 48, 48, 48, 48, 48, 48, 48,\n",
              "          48, 48, 49, 49, 49, 50, 50, 51, 51, 52, 53, 53, 53, 53, 54, 55, 56, 56,\n",
              "          56, 57, 57, 57, 58, 58, 58, 59, 61, 61, 62, 62, 62, 62, 62, 63, 63, 63,\n",
              "          63, 63, 63, 63, 63, 63, 63, 63, 63, 63, 65, 65, 65, 65, 65, 65, 65, 65,\n",
              "          65, 65, 65, 65, 65, 65, 65, 65, 65, 65, 66, 67, 67, 68, 68, 68, 68, 68,\n",
              "          68, 68, 68, 68, 69, 69, 69, 69, 70, 70, 71, 71, 71, 71, 71, 71, 71, 71,\n",
              "          71, 71, 71, 72, 72, 72, 73, 73, 73, 74, 74, 74, 74, 74, 74, 74, 74, 74,\n",
              "          74, 75, 75, 76, 77, 78, 78, 78, 79, 79, 79, 80, 81, 81, 81, 81, 81, 82,\n",
              "          82, 82, 82, 82, 82, 82, 83, 83, 83, 83, 83, 83, 83, 83, 83, 83, 83, 83,\n",
              "          83, 84, 84, 84, 85, 85, 85, 85, 86, 86, 86, 86, 87, 87, 88, 89, 89, 89,\n",
              "          89, 89, 89, 89, 89, 90, 90, 90, 90, 90, 90, 90, 90, 90, 90, 90, 90, 90,\n",
              "          91, 91, 91, 91, 91, 92, 92, 92, 92, 92, 92, 92, 92, 92, 92, 92, 92, 93,\n",
              "          94, 94, 95, 95, 95, 96, 96, 96, 96, 96, 96, 96, 96, 96, 96, 97, 97, 97,\n",
              "          97, 97, 97, 97, 97, 97, 97, 97, 98, 99],\n",
              "         [ 6, 13, 20, 43, 95,  5, 17, 21, 31, 39, 44, 71, 89, 90, 96, 97,  9, 94,\n",
              "          57,  1, 17, 19, 41, 44, 71, 74, 83, 92, 96,  0, 86, 18, 57, 62, 88,  2,\n",
              "          14, 62, 87, 48, 65, 48, 65, 52, 65,  0, 33, 43, 72, 81,  9, 48, 65, 48,\n",
              "          65,  1,  5, 19, 27, 37, 39, 44, 71, 82, 83, 90, 92, 97,  7, 25, 26, 62,\n",
              "          93,  5, 17, 23, 24, 39, 71, 83, 92,  0, 24, 50, 58, 73, 85,  1, 24, 27,\n",
              "          37, 39, 43, 82, 89, 90, 92, 97, 48, 65, 19, 31, 37, 41, 63, 74, 83, 89,\n",
              "          90, 97, 19, 20, 21, 31, 39, 63, 74, 83, 90, 92, 96, 18, 77, 18, 40, 17,\n",
              "          21, 31, 37, 39, 44, 63, 68, 83, 90, 92, 97, 48, 65,  1, 23, 24, 27, 44,\n",
              "          63, 71, 82, 89, 95, 13, 43, 58, 91, 42, 69, 85, 46, 65, 68, 72, 84, 85,\n",
              "          17, 21, 23, 27, 39, 41, 44, 68, 74, 82, 90, 42, 73, 78,  1, 17, 19, 21,\n",
              "          24, 27, 37, 63, 71, 83, 90, 92, 96, 97, 26, 80,  5, 23, 37, 71, 89, 90,\n",
              "          92, 96, 97, 34, 38, 50, 69, 81, 86,  0, 13, 21, 33, 68, 73, 81,  1,  5,\n",
              "          17, 27, 31, 37, 63, 74, 83, 90, 92, 96, 97, 48, 65, 79, 35, 48, 48, 65,\n",
              "          10, 11, 15, 16, 22, 28, 45, 46, 47, 49, 51, 56, 61, 65, 66, 70, 75, 76,\n",
              "          79, 87, 48, 53, 65, 20, 42, 48, 65, 12, 49, 67, 78, 91, 65, 62, 48, 65,\n",
              "          69,  4,  8, 94, 20, 33, 98, 62, 48, 65,  8,  9, 18, 55, 59, 23, 24, 27,\n",
              "          31, 39, 44, 68, 79, 82, 89, 92, 96, 97, 10, 11, 12, 15, 16, 22, 28, 35,\n",
              "          45, 47, 48, 49, 51, 54, 56, 61, 70, 75, 48, 53, 91, 27, 35, 37, 43, 63,\n",
              "          74, 83, 90, 96, 34, 42, 56, 72, 48, 65,  1,  5, 17, 19, 31, 39, 41, 82,\n",
              "          83, 89, 92, 13, 36, 69, 20, 38, 43,  5, 23, 24, 37, 44, 68, 82, 83, 90,\n",
              "          96, 48, 65, 48, 25, 38, 53, 91, 45, 48, 63, 40, 13, 42, 43, 84, 91, 17,\n",
              "          21, 31, 37, 63, 71, 74,  5, 17, 19, 23, 24, 27, 39, 44, 68, 71, 74, 90,\n",
              "          96, 36, 81, 86, 20, 34, 36, 86,  6, 42, 84, 85,  9, 48,  8,  1, 21, 23,\n",
              "          31, 41, 63, 71, 97,  1, 17, 21, 23, 24, 27, 37, 39, 41, 44, 68, 74, 83,\n",
              "          33, 53, 67, 78, 81,  5, 17, 19, 21, 24, 27, 39, 41, 44, 63, 71, 97, 18,\n",
              "           3, 57,  0, 32, 99,  1,  5, 24, 39, 41, 44, 63, 68, 74, 83,  1, 17, 21,\n",
              "          23, 27, 39, 41, 44, 63, 89, 92, 58, 95]]),\n",
              " 'y': tensor([0, 1, 3, 3, 3, 1, 0, 3, 3, 3, 2, 2, 2, 0, 3, 2, 2, 1, 3, 1, 0, 1, 2, 1,\n",
              "         1, 3, 3, 1, 2, 3, 3, 1, 0, 0, 0, 2, 0, 1, 0, 1, 3, 1, 0, 0, 1, 2, 2, 2,\n",
              "         2, 2, 0, 2, 3, 0, 2, 3, 2, 3, 0, 3, 3, 2, 3, 1, 2, 2, 2, 0, 1, 0, 2, 1,\n",
              "         0, 0, 1, 2, 2, 3, 0, 2, 3, 0, 1, 1, 0, 0, 0, 2, 3, 1, 1, 0, 1, 3, 3, 0,\n",
              "         1, 1, 2, 0]),\n",
              " 'train_mask': tensor([False,  True,  True,  True,  True,  True,  True,  True,  True,  True,\n",
              "          True,  True, False,  True,  True,  True,  True,  True,  True,  True,\n",
              "          True,  True,  True,  True,  True,  True, False,  True,  True,  True,\n",
              "         False,  True, False,  True,  True,  True,  True,  True,  True,  True,\n",
              "          True,  True,  True,  True,  True,  True,  True, False,  True,  True,\n",
              "          True,  True,  True,  True,  True, False,  True,  True, False,  True,\n",
              "          True, False,  True,  True,  True, False,  True,  True,  True, False,\n",
              "         False,  True,  True, False, False,  True,  True,  True,  True, False,\n",
              "          True,  True,  True,  True,  True, False,  True,  True,  True, False,\n",
              "         False,  True,  True, False,  True,  True,  True, False,  True,  True]),\n",
              " 'val_mask': tensor([False, False, False, False, False, False, False, False, False, False,\n",
              "         False, False,  True, False, False, False, False, False, False, False,\n",
              "         False, False, False, False, False, False,  True, False, False, False,\n",
              "         False, False,  True, False, False, False, False, False, False, False,\n",
              "         False, False, False, False, False, False, False, False, False, False,\n",
              "         False, False, False, False, False, False, False, False,  True, False,\n",
              "         False,  True, False, False, False,  True, False, False, False, False,\n",
              "         False, False, False,  True,  True, False, False, False, False, False,\n",
              "         False, False, False, False, False, False, False, False, False, False,\n",
              "         False, False, False,  True, False, False, False,  True, False, False]),\n",
              " 'test_mask': tensor([ True, False, False, False, False, False, False, False, False, False,\n",
              "         False, False, False, False, False, False, False, False, False, False,\n",
              "         False, False, False, False, False, False, False, False, False, False,\n",
              "          True, False, False, False, False, False, False, False, False, False,\n",
              "         False, False, False, False, False, False, False,  True, False, False,\n",
              "         False, False, False, False, False,  True, False, False, False, False,\n",
              "         False, False, False, False, False, False, False, False, False,  True,\n",
              "          True, False, False, False, False, False, False, False, False,  True,\n",
              "         False, False, False, False, False,  True, False, False, False,  True,\n",
              "          True, False, False, False, False, False, False, False, False, False])}"
            ]
          },
          "metadata": {},
          "execution_count": 3
        }
      ],
      "source": [
        "path = F\"/gdrive/MyDrive/4classes_100.sim/data.pt\"\n",
        "Data = torch.load(path)\n",
        "Data"
      ]
    },
    {
      "cell_type": "markdown",
      "source": [
        "# Gather some statistics about the graph."
      ],
      "metadata": {
        "id": "yNhMiH82k-QZ"
      }
    },
    {
      "cell_type": "code",
      "execution_count": null,
      "metadata": {
        "colab": {
          "base_uri": "https://localhost:8080/"
        },
        "id": "EJ5rY4Y5aP9e",
        "outputId": "b37c3358-be95-4893-f535-26d81e87581f"
      },
      "outputs": [
        {
          "output_type": "stream",
          "name": "stdout",
          "text": [
            "Number of nodes: 100\n",
            "Number of features: 500\n",
            "Number of classes: 4\n",
            "Number of edges: 478\n",
            "Average node degree: 4.78\n",
            "Number of training nodes: 80\n",
            "Number of testing nodes: 10\n",
            "Training node label rate: 0.80\n"
          ]
        }
      ],
      "source": [
        "print(f'Number of nodes: {Data[\"x\"].size(0)}')\n",
        "print(f'Number of features: {Data[\"x\"].size(1)}')\n",
        "print(f'Number of classes: {torch.numel(torch.unique(Data[\"y\"],sorted=True))}')\n",
        "print(f'Number of edges: {Data[\"edge_index\"].size(1)}')\n",
        "print(f'Average node degree: {Data[\"edge_index\"].size(1) / Data[\"x\"].size(0):.2f}')\n",
        "print(f'Number of training nodes: {Data[\"train_mask\"].sum()}')\n",
        "print(f'Number of testing nodes: {Data[\"test_mask\"].sum()}')\n",
        "print(f'Training node label rate: {int(Data[\"train_mask\"].sum()) /  Data[\"x\"].size(0):.2f}')"
      ]
    },
    {
      "cell_type": "markdown",
      "source": [
        "# Install torch_geometic"
      ],
      "metadata": {
        "id": "MDxXRLYqlO3v"
      }
    },
    {
      "cell_type": "code",
      "execution_count": null,
      "metadata": {
        "id": "eW77qnhRWZCU",
        "colab": {
          "base_uri": "https://localhost:8080/"
        },
        "outputId": "aac378e4-f68d-4a2f-8ded-703837803906"
      },
      "outputs": [
        {
          "output_type": "stream",
          "name": "stdout",
          "text": [
            "2.1.0+cu118\n",
            "\u001b[2K     \u001b[90m━━━━━━━━━━━━━━━━━━━━━━━━━━━━━━━━━━━━━━━━\u001b[0m \u001b[32m10.2/10.2 MB\u001b[0m \u001b[31m32.4 MB/s\u001b[0m eta \u001b[36m0:00:00\u001b[0m\n",
            "\u001b[2K     \u001b[90m━━━━━━━━━━━━━━━━━━━━━━━━━━━━━━━━━━━━━━━━\u001b[0m \u001b[32m4.9/4.9 MB\u001b[0m \u001b[31m6.5 MB/s\u001b[0m eta \u001b[36m0:00:00\u001b[0m\n",
            "\u001b[?25h  Installing build dependencies ... \u001b[?25l\u001b[?25hdone\n",
            "  Getting requirements to build wheel ... \u001b[?25l\u001b[?25hdone\n",
            "  Preparing metadata (pyproject.toml) ... \u001b[?25l\u001b[?25hdone\n",
            "  Building wheel for torch_geometric (pyproject.toml) ... \u001b[?25l\u001b[?25hdone\n"
          ]
        }
      ],
      "source": [
        "import os\n",
        "os.environ['TORCH'] = torch.__version__\n",
        "print(torch.__version__)\n",
        "\n",
        "!pip install -q torch-scatter -f https://data.pyg.org/whl/torch-${TORCH}.html\n",
        "!pip install -q torch-sparse -f https://data.pyg.org/whl/torch-${TORCH}.html\n",
        "!pip install -q git+https://github.com/pyg-team/pytorch_geometric.git"
      ]
    },
    {
      "cell_type": "code",
      "execution_count": null,
      "metadata": {
        "id": "HFPqJh-_V03a"
      },
      "outputs": [],
      "source": [
        "from torch_geometric.nn import MessagePassing\n",
        "import torch_geometric.nn\n",
        "import torch.nn.functional as F\n",
        "from torch_geometric.nn import GATConv"
      ]
    },
    {
      "cell_type": "markdown",
      "source": [
        "# Creating message passing network."
      ],
      "metadata": {
        "id": "6plXlKZ8A-lg"
      }
    },
    {
      "cell_type": "code",
      "execution_count": null,
      "metadata": {
        "colab": {
          "base_uri": "https://localhost:8080/"
        },
        "id": "oJygDFuAVz3S",
        "outputId": "9bcda352-2a2f-491b-a56c-6394fab31eeb"
      },
      "outputs": [
        {
          "output_type": "stream",
          "name": "stdout",
          "text": [
            "Myconv(\n",
            "  (conv1): GATConv(500, 10, heads=1)\n",
            "  (conv2): GATConv(10, 8, heads=1)\n",
            "  (conv3): GATConv(8, 4, heads=1)\n",
            ")\n",
            "tensor([[-8.5833e-02,  2.2186e-02,  2.1388e-01,  1.3620e-01],\n",
            "        [ 2.1522e-02, -1.2953e+00, -3.1446e-02, -6.5495e-02],\n",
            "        [ 7.0047e-02, -1.0508e+00, -7.5006e-02, -5.5570e-03],\n",
            "        [ 8.2589e-02,  8.6290e-01, -6.5793e-01,  2.0400e-02],\n",
            "        [ 2.3856e-01,  2.0949e-01, -3.2960e-01, -3.1651e-04],\n",
            "        [ 2.8932e-02, -1.2391e+00, -1.0729e-02, -3.7505e-02],\n",
            "        [ 1.6480e-02, -4.2677e-01,  3.1041e-01,  9.3524e-02],\n",
            "        [ 2.2807e-01, -3.2771e-01,  3.1567e-01, -2.5026e-01],\n",
            "        [ 1.9845e-02,  1.2832e-02, -7.4272e-02,  1.7847e-01],\n",
            "        [ 6.2664e-03, -9.5121e-01,  4.6903e-02, -5.4209e-02],\n",
            "        [ 5.6934e-02, -6.0467e-01,  2.9550e-01, -3.5214e-01],\n",
            "        [ 7.0923e-02, -6.3220e-01,  3.0955e-01, -3.5184e-01],\n",
            "        [-1.7702e-01, -1.6906e-01,  5.6111e-01, -4.7541e-01],\n",
            "        [ 1.3140e-02, -6.3879e-01,  1.6451e-01, -5.8255e-03],\n",
            "        [ 2.4402e-02, -9.6146e-01,  1.3448e-01,  6.5502e-02],\n",
            "        [ 4.4178e-02, -6.1461e-01,  2.9157e-01, -3.4788e-01],\n",
            "        [ 4.3800e-02, -6.0407e-01,  2.8433e-01, -3.5239e-01],\n",
            "        [ 3.8976e-02, -1.3378e+00, -6.1741e-02, -6.9169e-02],\n",
            "        [ 7.6681e-02, -2.1219e-01,  8.3586e-02, -1.6832e-01],\n",
            "        [ 2.0621e-02, -1.2487e+00, -4.3141e-02, -4.9422e-02],\n",
            "        [-3.6245e-02, -8.7203e-01,  2.1631e-01,  7.3746e-02],\n",
            "        [ 3.2951e-02, -1.3403e+00, -4.7673e-02, -9.0033e-02],\n",
            "        [ 4.6136e-02, -5.9733e-01,  3.0799e-01, -3.7115e-01],\n",
            "        [ 2.8936e-02, -1.3312e+00, -9.1045e-03, -6.5084e-02],\n",
            "        [ 2.3418e-02, -1.2133e+00,  3.1516e-03, -4.0193e-02],\n",
            "        [-7.8463e-03, -5.9196e-01,  2.5086e-01, -3.2757e-01],\n",
            "        [ 1.6240e-01,  3.6681e-01,  2.9213e-02,  5.5860e-02],\n",
            "        [ 4.5664e-02, -1.3677e+00, -3.3366e-02, -7.5031e-02],\n",
            "        [ 5.5417e-02, -6.0041e-01,  2.8777e-01, -3.4918e-01],\n",
            "        [ 3.9295e-01, -1.0166e+00,  1.0942e-01, -2.4810e-01],\n",
            "        [ 1.2331e-02,  2.5267e-01, -9.2486e-01,  1.9533e-01],\n",
            "        [ 2.6016e-02, -1.3374e+00, -4.0411e-02, -7.3955e-02],\n",
            "        [-4.5446e-01,  1.2431e+00,  2.2231e-01,  4.5039e-01],\n",
            "        [-3.7973e-02, -6.7479e-01,  1.8645e-01, -6.5816e-02],\n",
            "        [ 6.3292e-02, -1.0436e+00,  2.8741e-01, -2.6372e-02],\n",
            "        [ 1.2893e-01, -4.6184e-01,  3.9712e-01,  1.9079e-01],\n",
            "        [ 1.3096e-01, -1.0488e+00,  3.0294e-01,  2.0375e-02],\n",
            "        [ 4.6655e-02, -1.3799e+00, -1.7742e-02, -7.2640e-02],\n",
            "        [-1.0625e-01, -8.5722e-01,  2.8946e-01, -7.6956e-02],\n",
            "        [ 3.5051e-02, -1.3319e+00, -4.9979e-02, -6.8274e-02],\n",
            "        [ 1.9515e-01,  5.0908e-01, -8.5089e-02,  3.0658e-03],\n",
            "        [ 2.2859e-02, -1.3184e+00, -2.9413e-02, -6.6188e-02],\n",
            "        [-2.2788e-02, -8.6979e-01,  2.6590e-01, -4.6757e-02],\n",
            "        [-1.7595e-02, -7.7181e-01,  1.6952e-01,  7.8104e-03],\n",
            "        [ 4.6303e-02, -1.3498e+00, -3.5615e-02, -7.1164e-02],\n",
            "        [ 1.1262e-01, -5.2657e-01,  2.7737e-01, -3.4376e-01],\n",
            "        [ 1.6562e-01, -2.4207e-01,  4.3650e-01,  2.7188e-01],\n",
            "        [ 4.3972e-02, -5.6500e-01,  2.9161e-01, -3.3426e-01],\n",
            "        [ 1.0584e-01, -5.6761e-01,  2.5539e-01, -2.6479e-01],\n",
            "        [-3.9049e-02, -5.8156e-01,  3.5854e-01, -3.3481e-01],\n",
            "        [-4.7703e-02, -7.5594e-01,  2.6520e-01, -2.8493e-02],\n",
            "        [ 5.2760e-02, -6.2216e-01,  3.1015e-01, -3.7573e-01],\n",
            "        [-2.4950e-01,  2.4925e-03,  6.5606e-01, -5.0156e-01],\n",
            "        [-1.4762e-01, -5.2326e-01,  3.8559e-01, -2.0455e-01],\n",
            "        [-7.1150e-02, -4.1612e-01,  2.2367e-01, -3.1361e-01],\n",
            "        [-1.8073e-01, -1.0339e+00,  8.8699e-02,  7.2489e-03],\n",
            "        [ 1.1150e-01, -6.7681e-01,  2.5783e-01, -2.9651e-01],\n",
            "        [ 1.8277e-01,  4.0642e-01, -3.1218e-01,  1.1036e-01],\n",
            "        [-4.3942e-02, -7.0011e-01,  8.9878e-03, -9.1621e-02],\n",
            "        [-1.5762e-01, -9.9789e-01, -2.0027e-03,  1.2578e-02],\n",
            "        [-4.1626e-01,  1.1109e+00,  5.8542e-01,  9.1454e-01],\n",
            "        [ 2.4548e-02, -5.7675e-01,  3.2225e-01, -3.6900e-01],\n",
            "        [-3.3846e-02, -6.3926e-01,  8.9042e-02,  7.3792e-02],\n",
            "        [ 4.9837e-02, -1.2773e+00, -1.2426e-02, -9.5901e-02],\n",
            "        [ 2.4087e-01, -1.3609e+00, -3.6055e-01, -4.7004e-01],\n",
            "        [ 7.0550e-02, -4.7412e-01,  2.8926e-01, -2.5160e-01],\n",
            "        [ 6.3394e-02, -8.4941e-01,  1.5860e-01, -3.6137e-01],\n",
            "        [-1.9009e-01, -4.6728e-01,  4.1703e-01, -2.0055e-01],\n",
            "        [ 8.2787e-02, -1.2228e+00,  6.9447e-02, -1.0908e-02],\n",
            "        [ 1.2804e-01, -9.0011e-01,  2.2359e-01, -9.0507e-02],\n",
            "        [ 6.4753e-02, -6.1213e-01,  3.2864e-01, -3.7886e-01],\n",
            "        [ 1.6165e-02, -1.2384e+00, -2.6345e-02, -4.4688e-02],\n",
            "        [ 1.5726e-01, -7.9183e-01,  1.5251e-01,  9.5975e-03],\n",
            "        [-5.8563e-02, -8.4127e-01,  2.1519e-01, -5.5799e-04],\n",
            "        [ 5.2095e-02, -1.3538e+00,  4.0107e-03, -6.0369e-02],\n",
            "        [ 6.3266e-02, -6.2803e-01,  3.0158e-01, -3.5693e-01],\n",
            "        [ 6.3664e-02, -7.2727e-01,  2.6987e-01, -4.7555e-01],\n",
            "        [-9.4894e-02, -7.8563e-01,  2.5597e-01, -4.2974e-01],\n",
            "        [-1.7035e-01, -6.0003e-01,  3.4375e-01, -1.7809e-01],\n",
            "        [ 1.3002e-01, -6.8352e-01,  2.0871e-01, -2.7230e-01],\n",
            "        [ 2.1113e-01,  4.9587e-01, -9.7226e-02, -3.7890e-02],\n",
            "        [-1.7051e-02, -6.2753e-01,  2.4610e-01, -9.6052e-02],\n",
            "        [ 3.5206e-02, -1.3426e+00, -1.4158e-02, -7.2618e-02],\n",
            "        [ 4.0780e-02, -1.3060e+00, -1.9273e-02, -5.2262e-02],\n",
            "        [ 2.4642e-02, -8.3259e-01,  3.0228e-01,  3.7797e-04],\n",
            "        [ 3.1255e-02, -9.8718e-01,  3.0362e-01,  9.2449e-02],\n",
            "        [ 4.9492e-02, -7.9579e-01,  3.6765e-01, -3.0303e-02],\n",
            "        [ 5.9992e-02, -8.9204e-01,  2.0798e-01, -2.6137e-01],\n",
            "        [ 3.8061e-02,  3.5778e-01,  4.2686e-02,  4.0049e-01],\n",
            "        [ 6.3555e-03, -1.2916e+00, -8.5065e-03, -6.4869e-02],\n",
            "        [ 4.2268e-02, -1.3532e+00, -1.3513e-02, -6.3871e-02],\n",
            "        [-1.5464e-01, -5.8257e-01,  3.3078e-01, -1.5334e-01],\n",
            "        [ 2.5711e-02, -1.2949e+00, -5.0212e-02, -6.1838e-02],\n",
            "        [ 1.1606e-01, -8.7836e-02,  3.6461e-02, -1.9203e-01],\n",
            "        [ 9.9967e-02,  6.3660e-01, -5.6655e-01, -2.3669e-03],\n",
            "        [-3.6651e-01,  9.2420e-01,  2.2527e-01,  3.8291e-01],\n",
            "        [ 3.9827e-02, -1.2673e+00,  2.2174e-02, -3.9831e-02],\n",
            "        [ 2.5009e-02, -1.3335e+00, -4.4381e-02, -7.7519e-02],\n",
            "        [-2.4891e-02, -7.1757e-01, -1.0217e-01, -1.4670e-01],\n",
            "        [-4.1564e-01,  1.2546e+00,  2.4370e-01,  3.8908e-01]],\n",
            "       grad_fn=<AddBackward0>)\n"
          ]
        }
      ],
      "source": [
        "class Myconv(torch.nn.Module):\n",
        "    def __init__(self):\n",
        "        super().__init__()\n",
        "        torch.manual_seed(2)\n",
        "        self.conv1 = GATConv(in_channels = 500, out_channels = 10)\n",
        "        self.conv2 =  GATConv(10, 8)\n",
        "        self.conv3 =  GATConv(8, 4)\n",
        "\n",
        "    def forward(self, x, edge_index):\n",
        "        h = self.conv1(x, edge_index)\n",
        "        h = F.tanh(h)\n",
        "        h = self.conv2(h, edge_index)\n",
        "        h = F.tanh(h)\n",
        "        h = self.conv3(h, edge_index)# Final GNN embedding space.\n",
        "        return h\n",
        "\n",
        "model = Myconv()\n",
        "print(model)\n",
        "print(model.forward(Data[\"x\"], Data[\"edge_index\"]))"
      ]
    },
    {
      "cell_type": "markdown",
      "source": [
        "# We take a look at the node embeddings produced by GAT (before training)."
      ],
      "metadata": {
        "id": "zfTPRc17BJLS"
      }
    },
    {
      "cell_type": "code",
      "execution_count": null,
      "metadata": {
        "id": "RG51_VTqWzhA"
      },
      "outputs": [],
      "source": [
        "import matplotlib.pyplot as plt\n",
        "from sklearn.manifold import TSNE\n",
        "import seaborn as sns\n",
        "\n",
        "def visualize(h):\n",
        "    z = TSNE(n_components = 2, random_state = 0).fit_transform(h.detach().numpy())\n",
        "    plt.figure(figsize = (6,4),  dpi = 120)\n",
        "    sns.scatterplot(x = z[:, 0], y = z[:, 1], hue = Data[\"y\"], palette=sns.color_palette(\"bright\",4)).set(title = \"First scenario data T-SNE projection before training (GAT)\")"
      ]
    },
    {
      "cell_type": "code",
      "execution_count": null,
      "metadata": {
        "colab": {
          "base_uri": "https://localhost:8080/",
          "height": 483
        },
        "id": "THw91BTTW4jT",
        "outputId": "2a3f4563-0345-40da-a1b4-492ed03f1eb8"
      },
      "outputs": [
        {
          "output_type": "stream",
          "name": "stdout",
          "text": [
            "Embedding shape: [100, 4]\n"
          ]
        },
        {
          "output_type": "display_data",
          "data": {
            "text/plain": [
              "<Figure size 720x480 with 1 Axes>"
            ],
            "image/png": "[encoded data removed]"
          },
          "metadata": {}
        }
      ],
      "source": [
        "model = Myconv()\n",
        "h = model(Data[\"x\"], Data[\"edge_index\"])\n",
        "\n",
        "print(f'Embedding shape: {list(h.shape)}')\n",
        "visualize(h)"
      ]
    },
    {
      "cell_type": "markdown",
      "source": [
        "# Start training the model."
      ],
      "metadata": {
        "id": "ZH9Tjd50Bm2i"
      }
    },
    {
      "cell_type": "code",
      "execution_count": null,
      "metadata": {
        "id": "XdDX0Qn9XE6g"
      },
      "outputs": [],
      "source": [
        "model = Myconv()\n",
        "criterion = torch.nn.CrossEntropyLoss()  # Define loss criterion.\n",
        "optimizer = torch.optim.Adam(model.parameters(),  lr = 0.0005)  # Define optimizer, an object for updating parameters\n",
        "#loss = loss + weight decay parameter * L2 norm of the weights, 1) To prevent overfitting 2) To keep the weights small and avoid exploding gradient\n",
        "\n",
        "def train(Data):\n",
        "    model.train()\n",
        "    optimizer.zero_grad()  # Clear gradients.\n",
        "    out = model(Data[\"x\"], Data[\"edge_index\"])\n",
        "    train_loss = criterion(out[Data[\"train_mask\"]], Data[\"y\"][Data[\"train_mask\"]])  # Compute the loss solely based on the training nodes.\n",
        "    train_loss.backward()  # Derive gradients.\n",
        "    optimizer.step()  # Update parameters based on gradients.\n",
        "    return train_loss\n",
        "\n",
        "\n",
        "def val(Data):\n",
        "      model.eval()\n",
        "      with torch.no_grad():\n",
        "        out = model(Data[\"x\"], Data[\"edge_index\"])\n",
        "        val_loss = criterion(out[Data[\"val_mask\"]], Data[\"y\"][Data[\"val_mask\"]])\n",
        "        return val_loss"
      ]
    },
    {
      "cell_type": "code",
      "source": [
        "train_loss_ = []\n",
        "val_loss_ = []\n",
        "\n",
        "for epoch in range(1, 56):\n",
        "\n",
        "  epoch_train_loss = []\n",
        "  epoch_val_loss = []\n",
        "  train_loss = train(Data)\n",
        "  val_loss = val(Data)\n",
        "\n",
        "\n",
        "\n",
        "\n",
        "\n",
        "\n",
        "  epoch_train_loss.append(train_loss.item())\n",
        "  epoch_val_loss.append(val_loss.item())\n",
        "\n",
        "\n",
        "\n",
        "\n",
        "\n",
        "\n",
        "  val_loss_.append(sum(epoch_val_loss)/len(epoch_val_loss))\n",
        "  train_loss_.append(sum(epoch_train_loss)/len(epoch_train_loss))\n",
        "  print(epoch,'Train Loss: %.3f | val Loss: %.3f'%( train_loss,val_loss))"
      ],
      "metadata": {
        "colab": {
          "base_uri": "https://localhost:8080/"
        },
        "id": "Y514DQRqAvLm",
        "outputId": "eac62243-150a-4a19-f79a-ea55bc6307b7"
      },
      "execution_count": null,
      "outputs": [
        {
          "output_type": "stream",
          "name": "stdout",
          "text": [
            "1 Train Loss: 1.601 | val Loss: 1.538\n",
            "2 Train Loss: 1.537 | val Loss: 1.477\n",
            "3 Train Loss: 1.465 | val Loss: 1.411\n",
            "4 Train Loss: 1.387 | val Loss: 1.346\n",
            "5 Train Loss: 1.310 | val Loss: 1.295\n",
            "6 Train Loss: 1.253 | val Loss: 1.261\n",
            "7 Train Loss: 1.217 | val Loss: 1.232\n",
            "8 Train Loss: 1.185 | val Loss: 1.203\n",
            "9 Train Loss: 1.154 | val Loss: 1.176\n",
            "10 Train Loss: 1.123 | val Loss: 1.149\n",
            "11 Train Loss: 1.092 | val Loss: 1.124\n",
            "12 Train Loss: 1.063 | val Loss: 1.100\n",
            "13 Train Loss: 1.035 | val Loss: 1.078\n",
            "14 Train Loss: 1.009 | val Loss: 1.059\n",
            "15 Train Loss: 0.985 | val Loss: 1.040\n",
            "16 Train Loss: 0.964 | val Loss: 1.023\n",
            "17 Train Loss: 0.944 | val Loss: 1.007\n",
            "18 Train Loss: 0.925 | val Loss: 0.991\n",
            "19 Train Loss: 0.907 | val Loss: 0.976\n",
            "20 Train Loss: 0.889 | val Loss: 0.961\n",
            "21 Train Loss: 0.872 | val Loss: 0.947\n",
            "22 Train Loss: 0.855 | val Loss: 0.933\n",
            "23 Train Loss: 0.839 | val Loss: 0.919\n",
            "24 Train Loss: 0.823 | val Loss: 0.906\n",
            "25 Train Loss: 0.809 | val Loss: 0.893\n",
            "26 Train Loss: 0.795 | val Loss: 0.880\n",
            "27 Train Loss: 0.782 | val Loss: 0.868\n",
            "28 Train Loss: 0.769 | val Loss: 0.856\n",
            "29 Train Loss: 0.757 | val Loss: 0.844\n",
            "30 Train Loss: 0.746 | val Loss: 0.833\n",
            "31 Train Loss: 0.735 | val Loss: 0.821\n",
            "32 Train Loss: 0.724 | val Loss: 0.809\n",
            "33 Train Loss: 0.714 | val Loss: 0.797\n",
            "34 Train Loss: 0.704 | val Loss: 0.785\n",
            "35 Train Loss: 0.695 | val Loss: 0.773\n",
            "36 Train Loss: 0.685 | val Loss: 0.761\n",
            "37 Train Loss: 0.676 | val Loss: 0.749\n",
            "38 Train Loss: 0.666 | val Loss: 0.737\n",
            "39 Train Loss: 0.657 | val Loss: 0.725\n",
            "40 Train Loss: 0.648 | val Loss: 0.712\n",
            "41 Train Loss: 0.640 | val Loss: 0.700\n",
            "42 Train Loss: 0.632 | val Loss: 0.688\n",
            "43 Train Loss: 0.623 | val Loss: 0.676\n",
            "44 Train Loss: 0.615 | val Loss: 0.665\n",
            "45 Train Loss: 0.608 | val Loss: 0.653\n",
            "46 Train Loss: 0.600 | val Loss: 0.641\n",
            "47 Train Loss: 0.593 | val Loss: 0.630\n",
            "48 Train Loss: 0.586 | val Loss: 0.620\n",
            "49 Train Loss: 0.580 | val Loss: 0.610\n",
            "50 Train Loss: 0.574 | val Loss: 0.600\n",
            "51 Train Loss: 0.568 | val Loss: 0.592\n",
            "52 Train Loss: 0.562 | val Loss: 0.584\n",
            "53 Train Loss: 0.557 | val Loss: 0.577\n",
            "54 Train Loss: 0.552 | val Loss: 0.570\n",
            "55 Train Loss: 0.547 | val Loss: 0.563\n"
          ]
        }
      ]
    },
    {
      "cell_type": "markdown",
      "source": [
        "# Visualize train loss and val loss."
      ],
      "metadata": {
        "id": "tnGzSD2bBq8W"
      }
    },
    {
      "cell_type": "code",
      "source": [
        "plt.plot(train_loss_, \"c\", linewidth = 3)\n",
        "plt.plot(val_loss_, \"k\", linewidth = 3)\n",
        "plt.xlabel('epoch')\n",
        "plt.ylabel('loss')\n",
        "plt.legend(['Train','Val'])\n",
        "plt.title('Train vs Val Loss for the first scenario (GAT)')\n",
        "plt.grid()\n",
        "plt.show()"
      ],
      "metadata": {
        "colab": {
          "base_uri": "https://localhost:8080/"
        },
        "id": "KZv1RpBrAxRr",
        "outputId": "2c4041f6-e24e-4cac-a2a7-cbab73a39796"
      },
      "execution_count": null,
      "outputs": [
        {
          "output_type": "display_data",
          "data": {
            "text/plain": [
              "<Figure size 640x480 with 1 Axes>"
            ],
            "image/png": "[encoded data removed]"
          },
          "metadata": {}
        }
      ]
    },
    {
      "cell_type": "markdown",
      "source": [
        "# Compute the accuracy of the model."
      ],
      "metadata": {
        "id": "a1tqUvjnB5xg"
      }
    },
    {
      "cell_type": "code",
      "source": [
        "def test(Data):\n",
        "      model.eval()\n",
        "      with torch.no_grad():\n",
        "        out = model(Data[\"x\"], Data[\"edge_index\"])\n",
        "        pred = out.argmax(dim = 1)\n",
        "        test_correct = pred[Data[\"test_mask\"]] == Data[\"y\"][Data[\"test_mask\"]]  # Check against ground-truth labels.\n",
        "        test_acc = int(test_correct.sum()) / int(Data[\"test_mask\"].sum())  # Derive ratio of correct predictions.\n",
        "        return test_acc"
      ],
      "metadata": {
        "id": "BqmJpxygAzK0"
      },
      "execution_count": null,
      "outputs": []
    },
    {
      "cell_type": "code",
      "source": [
        "test_acc = test(Data)\n",
        "print(f'Test Accuracy: {100*test_acc:.2f}')"
      ],
      "metadata": {
        "colab": {
          "base_uri": "https://localhost:8080/"
        },
        "id": "38dolsiUA06U",
        "outputId": "0e6522b7-d5b1-4a81-dba2-a1182ea99278"
      },
      "execution_count": null,
      "outputs": [
        {
          "output_type": "stream",
          "name": "stdout",
          "text": [
            "Test Accuracy: 90.00\n"
          ]
        }
      ]
    },
    {
      "cell_type": "markdown",
      "source": [
        "# We take a look at the node embeddings produced by GAT (after training)."
      ],
      "metadata": {
        "id": "4t06HccFCIVv"
      }
    },
    {
      "cell_type": "code",
      "source": [
        "import matplotlib.pyplot as plt\n",
        "from sklearn.manifold import TSNE\n",
        "import seaborn as sns\n",
        "\n",
        "def visualize(h):\n",
        "    z = TSNE(n_components = 2, random_state = 0).fit_transform(h.detach().numpy())\n",
        "    plt.figure(figsize = (6,4),  dpi = 120)\n",
        "    sns.scatterplot(x = z[:, 0], y = z[:, 1], hue = Data[\"y\"], palette=sns.color_palette(\"bright\",4)).set(title = \"First scenario data T-SNE projection after training (GAT)\")"
      ],
      "metadata": {
        "id": "xqqjZR0h6XQx"
      },
      "execution_count": null,
      "outputs": []
    },
    {
      "cell_type": "code",
      "execution_count": null,
      "metadata": {
        "colab": {
          "base_uri": "https://localhost:8080/"
        },
        "id": "7ryK2AHvObte",
        "outputId": "3903cd44-edc0-4ae9-c63b-c7d143403f98"
      },
      "outputs": [
        {
          "output_type": "stream",
          "name": "stdout",
          "text": [
            "Embedding shape: [100, 4]\n"
          ]
        },
        {
          "output_type": "display_data",
          "data": {
            "text/plain": [
              "<Figure size 720x480 with 1 Axes>"
            ],
            "image/png": "[encoded data removed]"
          },
          "metadata": {}
        }
      ],
      "source": [
        "model.eval()\n",
        "out = model(Data[\"x\"], Data[\"edge_index\"])\n",
        "print(f'Embedding shape: {list(h.shape)}')\n",
        "visualize(out)\n"
      ]
    },
    {
      "cell_type": "markdown",
      "source": [
        "# Confusion matrix."
      ],
      "metadata": {
        "id": "sWVTqJd2CkuZ"
      }
    },
    {
      "cell_type": "code",
      "execution_count": null,
      "metadata": {
        "id": "ZAvUxs2xZna3",
        "colab": {
          "base_uri": "https://localhost:8080/"
        },
        "outputId": "63dff395-168f-42fb-8e6a-3dc3492b9585"
      },
      "outputs": [
        {
          "output_type": "execute_result",
          "data": {
            "text/plain": [
              "tensor([0, 1, 3, 3, 3, 1, 0, 3, 3, 3, 2, 2, 2, 0, 3, 2, 2, 1, 3, 1, 0, 1, 2, 1,\n",
              "        1, 3, 3, 1, 2, 0, 0, 1, 0, 0, 0, 2, 0, 1, 0, 1, 3, 1, 0, 0, 1, 2, 2, 2,\n",
              "        2, 2, 0, 2, 2, 0, 2, 3, 2, 3, 0, 3, 3, 2, 3, 1, 2, 2, 2, 0, 1, 0, 2, 1,\n",
              "        0, 0, 1, 2, 2, 3, 0, 2, 3, 0, 1, 1, 0, 0, 0, 2, 3, 1, 1, 0, 1, 3, 3, 0,\n",
              "        1, 1, 0, 0])"
            ]
          },
          "metadata": {},
          "execution_count": 17
        }
      ],
      "source": [
        "pred_t = out.argmax(dim=1)\n",
        "pred_t"
      ]
    },
    {
      "cell_type": "code",
      "execution_count": null,
      "metadata": {
        "id": "1KWZubSgZpw-",
        "colab": {
          "base_uri": "https://localhost:8080/"
        },
        "outputId": "b582083b-6b20-4c6f-a5f0-780904a67a5c"
      },
      "outputs": [
        {
          "output_type": "execute_result",
          "data": {
            "text/plain": [
              "tensor([0, 1, 3, 3, 3, 1, 0, 3, 3, 3, 2, 2, 2, 0, 3, 2, 2, 1, 3, 1, 0, 1, 2, 1,\n",
              "        1, 3, 3, 1, 2, 3, 3, 1, 0, 0, 0, 2, 0, 1, 0, 1, 3, 1, 0, 0, 1, 2, 2, 2,\n",
              "        2, 2, 0, 2, 3, 0, 2, 3, 2, 3, 0, 3, 3, 2, 3, 1, 2, 2, 2, 0, 1, 0, 2, 1,\n",
              "        0, 0, 1, 2, 2, 3, 0, 2, 3, 0, 1, 1, 0, 0, 0, 2, 3, 1, 1, 0, 1, 3, 3, 0,\n",
              "        1, 1, 2, 0])"
            ]
          },
          "metadata": {},
          "execution_count": 18
        }
      ],
      "source": [
        "Data[\"y\"]"
      ]
    },
    {
      "cell_type": "code",
      "source": [
        "import seaborn as sn\n",
        "confusion_matrix = pd.crosstab(Data['y'], pred_t, rownames=['Actual'], colnames = ['Predicted'], margins = True)\n",
        "plt.figure(figsize=(8, 6))\n",
        "sn.heatmap(confusion_matrix, annot=True,  cmap=\"Blues\", fmt='g')\n",
        "plt.title('First scenario, confusion matrix (GAT) for the whole data')\n",
        "plt.show()"
      ],
      "metadata": {
        "id": "yyjMhcDJPq3P",
        "colab": {
          "base_uri": "https://localhost:8080/"
        },
        "outputId": "698e2831-3df3-4a0b-e220-d73ce3f9e5b5"
      },
      "execution_count": null,
      "outputs": [
        {
          "output_type": "display_data",
          "data": {
            "text/plain": [
              "<Figure size 800x600 with 2 Axes>"
            ],
            "image/png": "[encoded data removed]"
          },
          "metadata": {}
        }
      ]
    },
    {
      "cell_type": "code",
      "source": [
        "pred = pred_t[Data[\"test_mask\"]]"
      ],
      "metadata": {
        "id": "j8lQC_VfPsaa"
      },
      "execution_count": null,
      "outputs": []
    },
    {
      "cell_type": "code",
      "source": [
        "act = Data[\"y\"][Data[\"test_mask\"]]"
      ],
      "metadata": {
        "id": "W6IWZUG-PuP4"
      },
      "execution_count": null,
      "outputs": []
    },
    {
      "cell_type": "code",
      "source": [
        "data = {'y_Actual':    act,\n",
        "        'y_Predicted':pred\n",
        "        }\n",
        "\n",
        "df = pd.DataFrame(data, columns = ['y_Actual','y_Predicted'])\n",
        "df"
      ],
      "metadata": {
        "colab": {
          "base_uri": "https://localhost:8080/"
        },
        "id": "G2QTNO8gO_FR",
        "outputId": "1b57b014-72c5-43d5-b460-0dc2cb6e3f6f"
      },
      "execution_count": null,
      "outputs": [
        {
          "output_type": "execute_result",
          "data": {
            "text/plain": [
              "   y_Actual  y_Predicted\n",
              "0         0            0\n",
              "1         3            0\n",
              "2         2            2\n",
              "3         3            3\n",
              "4         0            0\n",
              "5         2            2\n",
              "6         2            2\n",
              "7         0            0\n",
              "8         1            1\n",
              "9         1            1"
            ],
            "text/html": [
              "\n",
              "  <div id=\"df-a7c7f567-f07c-4c89-a7a3-1042ecf69716\" class=\"colab-df-container\">\n",
              "    <div>\n",
              "<style scoped>\n",
              "    .dataframe tbody tr th:only-of-type {\n",
              "        vertical-align: middle;\n",
              "    }\n",
              "\n",
              "    .dataframe tbody tr th {\n",
              "        vertical-align: top;\n",
              "    }\n",
              "\n",
              "    .dataframe thead th {\n",
              "        text-align: right;\n",
              "    }\n",
              "</style>\n",
              "<table border=\"1\" class=\"dataframe\">\n",
              "  <thead>\n",
              "    <tr style=\"text-align: right;\">\n",
              "      <th></th>\n",
              "      <th>y_Actual</th>\n",
              "      <th>y_Predicted</th>\n",
              "    </tr>\n",
              "  </thead>\n",
              "  <tbody>\n",
              "    <tr>\n",
              "      <th>0</th>\n",
              "      <td>0</td>\n",
              "      <td>0</td>\n",
              "    </tr>\n",
              "    <tr>\n",
              "      <th>1</th>\n",
              "      <td>3</td>\n",
              "      <td>0</td>\n",
              "    </tr>\n",
              "    <tr>\n",
              "      <th>2</th>\n",
              "      <td>2</td>\n",
              "      <td>2</td>\n",
              "    </tr>\n",
              "    <tr>\n",
              "      <th>3</th>\n",
              "      <td>3</td>\n",
              "      <td>3</td>\n",
              "    </tr>\n",
              "    <tr>\n",
              "      <th>4</th>\n",
              "      <td>0</td>\n",
              "      <td>0</td>\n",
              "    </tr>\n",
              "    <tr>\n",
              "      <th>5</th>\n",
              "      <td>2</td>\n",
              "      <td>2</td>\n",
              "    </tr>\n",
              "    <tr>\n",
              "      <th>6</th>\n",
              "      <td>2</td>\n",
              "      <td>2</td>\n",
              "    </tr>\n",
              "    <tr>\n",
              "      <th>7</th>\n",
              "      <td>0</td>\n",
              "      <td>0</td>\n",
              "    </tr>\n",
              "    <tr>\n",
              "      <th>8</th>\n",
              "      <td>1</td>\n",
              "      <td>1</td>\n",
              "    </tr>\n",
              "    <tr>\n",
              "      <th>9</th>\n",
              "      <td>1</td>\n",
              "      <td>1</td>\n",
              "    </tr>\n",
              "  </tbody>\n",
              "</table>\n",
              "</div>\n",
              "    <div class=\"colab-df-buttons\">\n",
              "\n",
              "  <div class=\"colab-df-container\">\n",
              "    <button class=\"colab-df-convert\" onclick=\"convertToInteractive('df-a7c7f567-f07c-4c89-a7a3-1042ecf69716')\"\n",
              "            title=\"Convert this dataframe to an interactive table.\"\n",
              "            style=\"display:none;\">\n",
              "\n",
              "  <svg xmlns=\"http://www.w3.org/2000/svg\" height=\"24px\" viewBox=\"0 -960 960 960\">\n",
              "    <path d=\"M120-120v-720h720v720H120Zm60-500h600v-160H180v160Zm220 220h160v-160H400v160Zm0 220h160v-160H400v160ZM180-400h160v-160H180v160Zm440 0h160v-160H620v160ZM180-180h160v-160H180v160Zm440 0h160v-160H620v160Z\"/>\n",
              "  </svg>\n",
              "    </button>\n",
              "\n",
              "  <style>\n",
              "    .colab-df-container {\n",
              "      display:flex;\n",
              "      gap: 12px;\n",
              "    }\n",
              "\n",
              "    .colab-df-convert {\n",
              "      background-color: #E8F0FE;\n",
              "      border: none;\n",
              "      border-radius: 50%;\n",
              "      cursor: pointer;\n",
              "      display: none;\n",
              "      fill: #1967D2;\n",
              "      height: 32px;\n",
              "      padding: 0 0 0 0;\n",
              "      width: 32px;\n",
              "    }\n",
              "\n",
              "    .colab-df-convert:hover {\n",
              "      background-color: #E2EBFA;\n",
              "      box-shadow: 0px 1px 2px rgba(60, 64, 67, 0.3), 0px 1px 3px 1px rgba(60, 64, 67, 0.15);\n",
              "      fill: #174EA6;\n",
              "    }\n",
              "\n",
              "    .colab-df-buttons div {\n",
              "      margin-bottom: 4px;\n",
              "    }\n",
              "\n",
              "    [theme=dark] .colab-df-convert {\n",
              "      background-color: #3B4455;\n",
              "      fill: #D2E3FC;\n",
              "    }\n",
              "\n",
              "    [theme=dark] .colab-df-convert:hover {\n",
              "      background-color: #434B5C;\n",
              "      box-shadow: 0px 1px 3px 1px rgba(0, 0, 0, 0.15);\n",
              "      filter: drop-shadow(0px 1px 2px rgba(0, 0, 0, 0.3));\n",
              "      fill: #FFFFFF;\n",
              "    }\n",
              "  </style>\n",
              "\n",
              "    <script>\n",
              "      const buttonEl =\n",
              "        document.querySelector('#df-a7c7f567-f07c-4c89-a7a3-1042ecf69716 button.colab-df-convert');\n",
              "      buttonEl.style.display =\n",
              "        google.colab.kernel.accessAllowed ? 'block' : 'none';\n",
              "\n",
              "      async function convertToInteractive(key) {\n",
              "        const element = document.querySelector('#df-a7c7f567-f07c-4c89-a7a3-1042ecf69716');\n",
              "        const dataTable =\n",
              "          await google.colab.kernel.invokeFunction('convertToInteractive',\n",
              "                                                    [key], {});\n",
              "        if (!dataTable) return;\n",
              "\n",
              "        const docLinkHtml = 'Like what you see? Visit the ' +\n",
              "          '<a target=\"_blank\" href=https://colab.research.google.com/notebooks/data_table.ipynb>data table notebook</a>'\n",
              "          + ' to learn more about interactive tables.';\n",
              "        element.innerHTML = '';\n",
              "        dataTable['output_type'] = 'display_data';\n",
              "        await google.colab.output.renderOutput(dataTable, element);\n",
              "        const docLink = document.createElement('div');\n",
              "        docLink.innerHTML = docLinkHtml;\n",
              "        element.appendChild(docLink);\n",
              "      }\n",
              "    </script>\n",
              "  </div>\n",
              "\n",
              "\n",
              "<div id=\"df-3d8441f2-9328-44d3-87dc-18773bb5a835\">\n",
              "  <button class=\"colab-df-quickchart\" onclick=\"quickchart('df-3d8441f2-9328-44d3-87dc-18773bb5a835')\"\n",
              "            title=\"Suggest charts\"\n",
              "            style=\"display:none;\">\n",
              "\n",
              "<svg xmlns=\"http://www.w3.org/2000/svg\" height=\"24px\"viewBox=\"0 0 24 24\"\n",
              "     width=\"24px\">\n",
              "    <g>\n",
              "        <path d=\"M19 3H5c-1.1 0-2 .9-2 2v14c0 1.1.9 2 2 2h14c1.1 0 2-.9 2-2V5c0-1.1-.9-2-2-2zM9 17H7v-7h2v7zm4 0h-2V7h2v10zm4 0h-2v-4h2v4z\"/>\n",
              "    </g>\n",
              "</svg>\n",
              "  </button>\n",
              "\n",
              "<style>\n",
              "  .colab-df-quickchart {\n",
              "      --bg-color: #E8F0FE;\n",
              "      --fill-color: #1967D2;\n",
              "      --hover-bg-color: #E2EBFA;\n",
              "      --hover-fill-color: #174EA6;\n",
              "      --disabled-fill-color: #AAA;\n",
              "      --disabled-bg-color: #DDD;\n",
              "  }\n",
              "\n",
              "  [theme=dark] .colab-df-quickchart {\n",
              "      --bg-color: #3B4455;\n",
              "      --fill-color: #D2E3FC;\n",
              "      --hover-bg-color: #434B5C;\n",
              "      --hover-fill-color: #FFFFFF;\n",
              "      --disabled-bg-color: #3B4455;\n",
              "      --disabled-fill-color: #666;\n",
              "  }\n",
              "\n",
              "  .colab-df-quickchart {\n",
              "    background-color: var(--bg-color);\n",
              "    border: none;\n",
              "    border-radius: 50%;\n",
              "    cursor: pointer;\n",
              "    display: none;\n",
              "    fill: var(--fill-color);\n",
              "    height: 32px;\n",
              "    padding: 0;\n",
              "    width: 32px;\n",
              "  }\n",
              "\n",
              "  .colab-df-quickchart:hover {\n",
              "    background-color: var(--hover-bg-color);\n",
              "    box-shadow: 0 1px 2px rgba(60, 64, 67, 0.3), 0 1px 3px 1px rgba(60, 64, 67, 0.15);\n",
              "    fill: var(--button-hover-fill-color);\n",
              "  }\n",
              "\n",
              "  .colab-df-quickchart-complete:disabled,\n",
              "  .colab-df-quickchart-complete:disabled:hover {\n",
              "    background-color: var(--disabled-bg-color);\n",
              "    fill: var(--disabled-fill-color);\n",
              "    box-shadow: none;\n",
              "  }\n",
              "\n",
              "  .colab-df-spinner {\n",
              "    border: 2px solid var(--fill-color);\n",
              "    border-color: transparent;\n",
              "    border-bottom-color: var(--fill-color);\n",
              "    animation:\n",
              "      spin 1s steps(1) infinite;\n",
              "  }\n",
              "\n",
              "  @keyframes spin {\n",
              "    0% {\n",
              "      border-color: transparent;\n",
              "      border-bottom-color: var(--fill-color);\n",
              "      border-left-color: var(--fill-color);\n",
              "    }\n",
              "    20% {\n",
              "      border-color: transparent;\n",
              "      border-left-color: var(--fill-color);\n",
              "      border-top-color: var(--fill-color);\n",
              "    }\n",
              "    30% {\n",
              "      border-color: transparent;\n",
              "      border-left-color: var(--fill-color);\n",
              "      border-top-color: var(--fill-color);\n",
              "      border-right-color: var(--fill-color);\n",
              "    }\n",
              "    40% {\n",
              "      border-color: transparent;\n",
              "      border-right-color: var(--fill-color);\n",
              "      border-top-color: var(--fill-color);\n",
              "    }\n",
              "    60% {\n",
              "      border-color: transparent;\n",
              "      border-right-color: var(--fill-color);\n",
              "    }\n",
              "    80% {\n",
              "      border-color: transparent;\n",
              "      border-right-color: var(--fill-color);\n",
              "      border-bottom-color: var(--fill-color);\n",
              "    }\n",
              "    90% {\n",
              "      border-color: transparent;\n",
              "      border-bottom-color: var(--fill-color);\n",
              "    }\n",
              "  }\n",
              "</style>\n",
              "\n",
              "  <script>\n",
              "    async function quickchart(key) {\n",
              "      const quickchartButtonEl =\n",
              "        document.querySelector('#' + key + ' button');\n",
              "      quickchartButtonEl.disabled = true;  // To prevent multiple clicks.\n",
              "      quickchartButtonEl.classList.add('colab-df-spinner');\n",
              "      try {\n",
              "        const charts = await google.colab.kernel.invokeFunction(\n",
              "            'suggestCharts', [key], {});\n",
              "      } catch (error) {\n",
              "        console.error('Error during call to suggestCharts:', error);\n",
              "      }\n",
              "      quickchartButtonEl.classList.remove('colab-df-spinner');\n",
              "      quickchartButtonEl.classList.add('colab-df-quickchart-complete');\n",
              "    }\n",
              "    (() => {\n",
              "      let quickchartButtonEl =\n",
              "        document.querySelector('#df-3d8441f2-9328-44d3-87dc-18773bb5a835 button');\n",
              "      quickchartButtonEl.style.display =\n",
              "        google.colab.kernel.accessAllowed ? 'block' : 'none';\n",
              "    })();\n",
              "  </script>\n",
              "</div>\n",
              "    </div>\n",
              "  </div>\n"
            ]
          },
          "metadata": {},
          "execution_count": 22
        }
      ]
    },
    {
      "cell_type": "code",
      "source": [
        "import seaborn as sn\n",
        "confusion_matrix = pd.crosstab(act, pred, rownames=['Actual'], colnames = ['Predicted'], margins = True)\n",
        "plt.figure(figsize=(8, 6))\n",
        "sn.heatmap(confusion_matrix, annot=True,  cmap=\"Blues\", fmt='g')\n",
        "plt.title('First scenario, confusion matrix (GAT) for the test data')\n",
        "plt.show()"
      ],
      "metadata": {
        "colab": {
          "base_uri": "https://localhost:8080/",
          "height": 564
        },
        "id": "ECXZ_AmEPA-C",
        "outputId": "a3539fca-99a3-439d-a815-e73140cf9e65"
      },
      "execution_count": null,
      "outputs": [
        {
          "output_type": "display_data",
          "data": {
            "text/plain": [
              "<Figure size 800x600 with 2 Axes>"
            ],
            "image/png": "[encoded data removed]"
          },
          "metadata": {}
        }
      ]
    }
  ],
  "metadata": {
    "colab": {
      "provenance": [],
      "authorship_tag": "ABX9TyPZWhOfkDqy6PNCrY53isa8",
      "include_colab_link": true
    },
    "kernelspec": {
      "display_name": "Python 3",
      "name": "python3"
    },
    "language_info": {
      "name": "python"
    }
  },
  "nbformat": 4,
  "nbformat_minor": 0
}
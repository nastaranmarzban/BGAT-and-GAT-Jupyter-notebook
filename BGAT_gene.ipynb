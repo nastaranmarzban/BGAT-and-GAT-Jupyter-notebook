{
  "nbformat": 4,
  "nbformat_minor": 0,
  "metadata": {
    "colab": {
      "provenance": [],
      "authorship_tag": "ABX9TyMij+PAqXh7QoWBpdyy0QeE",
      "include_colab_link": true
    },
    "kernelspec": {
      "name": "python3",
      "display_name": "Python 3"
    },
    "language_info": {
      "name": "python"
    }
  },
  "cells": [
    {
      "cell_type": "markdown",
      "metadata": {
        "id": "view-in-github",
        "colab_type": "text"
      },
      "source": [
        "<a href=\"https://colab.research.google.com/github/nastaranmarzban/BGAT-and-GAT-Jupyter-notebook/blob/main/BGAT_gene.ipynb\" target=\"_parent\"><img src=\"https://colab.research.google.com/assets/colab-badge.svg\" alt=\"Open In Colab\"/></a>"
      ]
    },
    {
      "cell_type": "markdown",
      "source": [
        "## Mount to gdrive to read data, adjacency matrix, p_link and labels."
      ],
      "metadata": {
        "id": "XJpt6MI6HHb5"
      }
    },
    {
      "cell_type": "code",
      "execution_count": null,
      "metadata": {
        "id": "sflUIaNYHBhO",
        "colab": {
          "base_uri": "https://localhost:8080/"
        },
        "outputId": "f666cc52-682e-4347-b776-30ce7e85b8a1"
      },
      "outputs": [
        {
          "output_type": "stream",
          "name": "stdout",
          "text": [
            "Mounted at /gdrive\n"
          ]
        }
      ],
      "source": [
        "from google.colab import drive\n",
        "drive.mount('/gdrive')"
      ]
    },
    {
      "cell_type": "markdown",
      "source": [
        "# Install pandas to read csv files from gdrive. Install torch and numpy which are packages that are needed durind coding."
      ],
      "metadata": {
        "id": "Y31xHt_DHKSP"
      }
    },
    {
      "cell_type": "code",
      "source": [
        "!pip install pandas\n",
        "import pandas as pd\n",
        "import torch\n",
        "import numpy as np"
      ],
      "metadata": {
        "id": "FeAq9GyUHEkv",
        "colab": {
          "base_uri": "https://localhost:8080/"
        },
        "outputId": "77d49add-6e8c-4ea6-e3b8-b74c452e50d5"
      },
      "execution_count": null,
      "outputs": [
        {
          "output_type": "stream",
          "name": "stdout",
          "text": [
            "Requirement already satisfied: pandas in /usr/local/lib/python3.10/dist-packages (1.5.3)\n",
            "Requirement already satisfied: python-dateutil>=2.8.1 in /usr/local/lib/python3.10/dist-packages (from pandas) (2.8.2)\n",
            "Requirement already satisfied: pytz>=2020.1 in /usr/local/lib/python3.10/dist-packages (from pandas) (2023.3.post1)\n",
            "Requirement already satisfied: numpy>=1.21.0 in /usr/local/lib/python3.10/dist-packages (from pandas) (1.23.5)\n",
            "Requirement already satisfied: six>=1.5 in /usr/local/lib/python3.10/dist-packages (from python-dateutil>=2.8.1->pandas) (1.16.0)\n"
          ]
        }
      ]
    },
    {
      "cell_type": "markdown",
      "source": [
        "# Load data which are processed in preprocessing_gene.ipynb file."
      ],
      "metadata": {
        "id": "KIOxovTxHNGu"
      }
    },
    {
      "cell_type": "code",
      "source": [
        "path = F\"/gdrive/MyDrive/gene_better/gene.pt\"\n",
        "Data = torch.load(path)\n",
        "Data"
      ],
      "metadata": {
        "id": "3NooqtcZHpbN",
        "colab": {
          "base_uri": "https://localhost:8080/"
        },
        "outputId": "56825d94-6826-4593-ba96-07a17eb3c192"
      },
      "execution_count": null,
      "outputs": [
        {
          "output_type": "execute_result",
          "data": {
            "text/plain": [
              "{'x': tensor([[ 6.4493,  6.0844,  7.3716,  ...,  8.6918, 10.8691, 11.2004],\n",
              "         [12.4170, 11.6782, 13.3738,  ...,  9.0700, 10.2089, 10.4571],\n",
              "         [ 8.1833,  6.4246, 10.5602,  ...,  7.3575,  6.6114,  7.7576],\n",
              "         ...,\n",
              "         [ 6.6002,  7.4879,  8.0421,  ...,  9.6510,  8.9851,  9.4696],\n",
              "         [ 6.6107,  7.4934,  8.0498,  ...,  9.6591,  8.9828,  9.4788],\n",
              "         [ 6.6001,  7.4911,  8.0561,  ...,  9.6553,  8.9820,  9.4658]]),\n",
              " 'edge_index': tensor([[ 0,  0,  0,  ..., 89, 89, 89],\n",
              "         [ 8, 10, 57,  ..., 85, 86, 87]]),\n",
              " 'y': tensor([0, 0, 0, 0, 0, 0, 0, 0, 0, 0, 0, 0, 0, 0, 0, 0, 0, 0, 0, 0, 0, 0, 0, 0,\n",
              "         0, 0, 0, 0, 0, 0, 1, 1, 1, 1, 1, 1, 1, 1, 1, 1, 1, 1, 1, 1, 1, 1, 1, 1,\n",
              "         1, 1, 1, 1, 1, 1, 1, 1, 1, 1, 1, 1, 2, 2, 2, 2, 2, 2, 2, 2, 2, 2, 2, 2,\n",
              "         2, 2, 2, 2, 2, 2, 2, 2, 2, 2, 2, 2, 2, 2, 2, 2, 2, 2]),\n",
              " 'train_mask': tensor([False, False, False, False,  True,  True,  True,  True,  True,  True,\n",
              "          True,  True,  True,  True,  True,  True,  True,  True,  True,  True,\n",
              "          True,  True,  True,  True,  True,  True,  True,  True,  True,  True,\n",
              "          True, False, False, False, False,  True,  True,  True,  True,  True,\n",
              "          True,  True,  True,  True,  True,  True,  True,  True,  True,  True,\n",
              "          True,  True,  True,  True,  True,  True,  True,  True,  True,  True,\n",
              "         False, False, False, False,  True,  True,  True,  True,  True,  True,\n",
              "          True,  True,  True,  True,  True,  True,  True,  True,  True,  True,\n",
              "          True,  True,  True,  True,  True,  True,  True,  True,  True,  True]),\n",
              " 'val_mask': tensor([False, False,  True,  True, False, False, False, False, False, False,\n",
              "         False, False, False, False, False, False, False, False, False, False,\n",
              "         False, False, False, False, False, False, False, False, False, False,\n",
              "         False, False, False,  True,  True, False, False, False, False, False,\n",
              "         False, False, False, False, False, False, False, False, False, False,\n",
              "         False, False, False, False, False, False, False, False, False, False,\n",
              "         False, False,  True,  True, False, False, False, False, False, False,\n",
              "         False, False, False, False, False, False, False, False, False, False,\n",
              "         False, False, False, False, False, False, False, False, False, False]),\n",
              " 'test_mask': tensor([ True,  True, False, False, False, False, False, False, False, False,\n",
              "         False, False, False, False, False, False, False, False, False, False,\n",
              "         False, False, False, False, False, False, False, False, False, False,\n",
              "         False,  True,  True, False, False, False, False, False, False, False,\n",
              "         False, False, False, False, False, False, False, False, False, False,\n",
              "         False, False, False, False, False, False, False, False, False, False,\n",
              "          True,  True, False, False, False, False, False, False, False, False,\n",
              "         False, False, False, False, False, False, False, False, False, False,\n",
              "         False, False, False, False, False, False, False, False, False, False])}"
            ]
          },
          "metadata": {},
          "execution_count": 3
        }
      ]
    },
    {
      "cell_type": "markdown",
      "source": [
        "# Gather some statistics about the graph."
      ],
      "metadata": {
        "id": "Q7lVUylvHQJ_"
      }
    },
    {
      "cell_type": "code",
      "source": [
        "print(f'Number of nodes: {Data[\"x\"].size(0)}')\n",
        "print(f'Number of features: {Data[\"x\"].size(1)}')\n",
        "print(f'Number of classes: {torch.numel(torch.unique(Data[\"y\"],sorted=True))}')\n",
        "print(f'Number of edges: {Data[\"edge_index\"].size(1)}')\n",
        "print(f'Average node degree: {Data[\"edge_index\"].size(1) / Data[\"x\"].size(0):.2f}')\n",
        "print(f'Number of training nodes: {Data[\"train_mask\"].sum()}')\n",
        "print(f'Number of testing nodes: {Data[\"test_mask\"].sum()}')\n",
        "print(f'Training node label rate: {int(Data[\"train_mask\"].sum()) /  Data[\"x\"].size(0):.2f}')"
      ],
      "metadata": {
        "id": "5GJAxJLlHvlg",
        "colab": {
          "base_uri": "https://localhost:8080/"
        },
        "outputId": "6bf7c403-d3db-4c33-bc68-4f399cc0b1b0"
      },
      "execution_count": null,
      "outputs": [
        {
          "output_type": "stream",
          "name": "stdout",
          "text": [
            "Number of nodes: 90\n",
            "Number of features: 60\n",
            "Number of classes: 3\n",
            "Number of edges: 1650\n",
            "Average node degree: 18.33\n",
            "Number of training nodes: 78\n",
            "Number of testing nodes: 6\n",
            "Training node label rate: 0.87\n"
          ]
        }
      ]
    },
    {
      "cell_type": "markdown",
      "source": [
        "# Read p_link from gdrive to use it as the attention."
      ],
      "metadata": {
        "id": "vkDpCVQcHSvm"
      }
    },
    {
      "cell_type": "code",
      "source": [
        "path = F\"/gdrive/MyDrive/gene_better/p_links_gene.pt\"\n",
        "p_link = torch.load(path)\n",
        "print(p_link.size())\n",
        "print(p_link.dtype)\n",
        "print(p_link.type())"
      ],
      "metadata": {
        "id": "-8SRw25iIH8G",
        "colab": {
          "base_uri": "https://localhost:8080/"
        },
        "outputId": "ac9c8029-88e9-4a28-c02a-76e36e767345"
      },
      "execution_count": null,
      "outputs": [
        {
          "output_type": "stream",
          "name": "stdout",
          "text": [
            "torch.Size([90, 90])\n",
            "torch.float32\n",
            "torch.FloatTensor\n"
          ]
        }
      ]
    },
    {
      "cell_type": "markdown",
      "source": [
        "# Install torch_geometic."
      ],
      "metadata": {
        "id": "3n21IcfeHVpi"
      }
    },
    {
      "cell_type": "code",
      "source": [
        "import os\n",
        "os.environ['TORCH'] = torch.__version__\n",
        "print(torch.__version__)\n",
        "\n",
        "!pip install -q torch-scatter -f https://data.pyg.org/whl/torch-${TORCH}.html\n",
        "!pip install -q torch-sparse -f https://data.pyg.org/whl/torch-${TORCH}.html\n",
        "!pip install -q git+https://github.com/pyg-team/pytorch_geometric.git"
      ],
      "metadata": {
        "id": "z_frgXbNIOw7",
        "colab": {
          "base_uri": "https://localhost:8080/"
        },
        "outputId": "569a80e5-104b-451b-b763-d151d7fb9f7b"
      },
      "execution_count": null,
      "outputs": [
        {
          "output_type": "stream",
          "name": "stdout",
          "text": [
            "2.1.0+cu118\n",
            "\u001b[2K     \u001b[90m━━━━━━━━━━━━━━━━━━━━━━━━━━━━━━━━━━━━━━━━\u001b[0m \u001b[32m10.2/10.2 MB\u001b[0m \u001b[31m34.6 MB/s\u001b[0m eta \u001b[36m0:00:00\u001b[0m\n",
            "\u001b[2K     \u001b[90m━━━━━━━━━━━━━━━━━━━━━━━━━━━━━━━━━━━━━━━━\u001b[0m \u001b[32m4.9/4.9 MB\u001b[0m \u001b[31m18.3 MB/s\u001b[0m eta \u001b[36m0:00:00\u001b[0m\n",
            "\u001b[?25h  Installing build dependencies ... \u001b[?25l\u001b[?25hdone\n",
            "  Getting requirements to build wheel ... \u001b[?25l\u001b[?25hdone\n",
            "  Preparing metadata (pyproject.toml) ... \u001b[?25l\u001b[?25hdone\n",
            "  Building wheel for torch_geometric (pyproject.toml) ... \u001b[?25l\u001b[?25hdone\n"
          ]
        }
      ]
    },
    {
      "cell_type": "markdown",
      "source": [
        "# Developing our own model (making our own message passing layers)."
      ],
      "metadata": {
        "id": "1VCacUAJHZC_"
      }
    },
    {
      "cell_type": "markdown",
      "source": [
        "# BGATConv\n",
        "$$ X^\\prime _i = \\sum_{j \\in N(i)\\cup i} \\alpha_{ij}\\Theta X_j$$\n",
        "In which $\\alpha$s are computed via BDgraph(p_link) and $\\Theta$ is learnable parameter."
      ],
      "metadata": {
        "id": "2JTJQ35UHcwP"
      }
    },
    {
      "cell_type": "code",
      "source": [
        "from torch_geometric.nn import MessagePassing\n",
        "import torch_geometric.nn\n",
        "import torch.nn.functional as F\n",
        "from torch_geometric.utils import add_self_loops"
      ],
      "metadata": {
        "id": "68a6PEk4IRJR"
      },
      "execution_count": null,
      "outputs": []
    },
    {
      "cell_type": "markdown",
      "source": [
        "# Creating message passing network."
      ],
      "metadata": {
        "id": "nxqtRqgcHf4v"
      }
    },
    {
      "cell_type": "code",
      "source": [
        "class BGATConv(MessagePassing):\n",
        "    def __init__(\n",
        "        self,\n",
        "        in_channels,\n",
        "        out_channels,\n",
        "        **kwargs,\n",
        "    ):\n",
        "        kwargs.setdefault('aggr', 'add')\n",
        "        super().__init__(node_dim = 0, **kwargs)\n",
        "        self.in_channels = in_channels\n",
        "        self.out_channels = out_channels\n",
        "        self.lin = torch.nn.Linear(in_channels, out_channels)\n",
        "\n",
        "    def forward(self, x, edge_index):\n",
        "        edge_index, _ = add_self_loops(Data[\"edge_index\"], num_nodes = Data[\"x\"].size(0))\n",
        "        x = self.lin(x)\n",
        "        atten = p_link\n",
        "        return self.propagate(edge_index, x=x, atten = atten)\n",
        "\n",
        "    def message(self, x_j, atten, edge_index_i, edge_index_j):\n",
        "        return atten[edge_index_i, edge_index_j].reshape(-1,1) * x_j\n",
        "\n",
        "    def __repr__(self):\n",
        "        return '{}({}, {})'.format(self.__class__.__name__, self.in_channels, self.out_channels)"
      ],
      "metadata": {
        "id": "c-rTCjPhIUGq"
      },
      "execution_count": null,
      "outputs": []
    },
    {
      "cell_type": "markdown",
      "source": [
        "# Make GNN layers with our own model, BGAT. We use three BGAT conv."
      ],
      "metadata": {
        "id": "9WGSW4rKHiZ4"
      }
    },
    {
      "cell_type": "code",
      "source": [
        "class Myconv(torch.nn.Module):\n",
        "    def __init__(self):\n",
        "        super().__init__()\n",
        "        torch.manual_seed(2)\n",
        "        self.conv1 = BGATConv(in_channels = 60, out_channels = 50)\n",
        "        self.conv2 =  BGATConv(50, 40)\n",
        "        self.conv3 =  BGATConv(40,3)\n",
        "\n",
        "    def forward(self, x, edge_index):\n",
        "        h = self.conv1(x, edge_index)\n",
        "        h = F.tanh(h)\n",
        "        h = self.conv2(h, edge_index)\n",
        "        h = F.tanh(h)\n",
        "        h = self.conv3(h, edge_index)# Final GNN embedding space.\n",
        "        #h = F.log_softmax(h)\n",
        "        return h\n",
        "\n",
        "model = Myconv()\n",
        "print(model)\n",
        "print(model.forward(Data[\"x\"], Data[\"edge_index\"]))"
      ],
      "metadata": {
        "id": "G4I7BvwCIXhx",
        "colab": {
          "base_uri": "https://localhost:8080/"
        },
        "outputId": "171286ac-4ece-42bb-c56e-a6d0ca78b7fb"
      },
      "execution_count": null,
      "outputs": [
        {
          "output_type": "stream",
          "name": "stdout",
          "text": [
            "Myconv(\n",
            "  (conv1): BGATConv(60, 50)\n",
            "  (conv2): BGATConv(50, 40)\n",
            "  (conv3): BGATConv(40, 3)\n",
            ")\n",
            "tensor([[ 1.4922,  1.5166, -1.6515],\n",
            "        [ 1.9044,  1.6444, -1.8727],\n",
            "        [ 2.1815,  1.7250, -1.9218],\n",
            "        [ 1.5220,  1.5679, -1.7114],\n",
            "        [ 2.0908,  2.0201, -2.2341],\n",
            "        [ 1.4520,  1.2701, -1.4096],\n",
            "        [ 0.6078,  0.7121, -0.7961],\n",
            "        [ 2.6852,  2.4455, -2.8045],\n",
            "        [ 2.7774,  2.8129, -3.0090],\n",
            "        [ 4.0700,  3.7438, -4.3121],\n",
            "        [ 3.2382,  2.8873, -3.2800],\n",
            "        [ 2.5982,  2.5244, -2.8736],\n",
            "        [ 1.6162,  1.3235, -1.4535],\n",
            "        [ 2.5006,  2.0557, -2.2244],\n",
            "        [ 1.9941,  1.7188, -1.9233],\n",
            "        [ 3.4362,  3.5050, -3.7774],\n",
            "        [ 3.6530,  3.7594, -4.0105],\n",
            "        [ 3.7242,  3.6521, -3.9556],\n",
            "        [ 2.4622,  2.3954, -2.6249],\n",
            "        [ 3.8446,  3.9358, -4.3069],\n",
            "        [ 1.5139,  1.6826, -1.8428],\n",
            "        [ 2.1299,  1.8178, -2.0525],\n",
            "        [ 1.9001,  1.3478, -1.6110],\n",
            "        [ 2.0278,  1.9502, -2.1932],\n",
            "        [ 2.2703,  2.0994, -2.2914],\n",
            "        [ 1.4993,  1.0638, -1.1649],\n",
            "        [ 1.3829,  1.2483, -1.3894],\n",
            "        [ 1.7363,  1.6653, -1.7791],\n",
            "        [ 1.1533,  1.2260, -1.3262],\n",
            "        [ 2.2650,  2.3166, -2.5662],\n",
            "        [ 2.1011,  1.6676, -1.9064],\n",
            "        [ 1.9983,  2.1147, -2.3543],\n",
            "        [ 0.8883,  0.9507, -1.0210],\n",
            "        [ 2.1171,  2.0241, -2.4003],\n",
            "        [ 3.4884,  3.4026, -3.7158],\n",
            "        [ 2.6848,  2.6789, -2.9304],\n",
            "        [ 1.2976,  1.2468, -1.4148],\n",
            "        [ 2.3282,  2.3372, -2.6537],\n",
            "        [ 2.0498,  2.0193, -2.2565],\n",
            "        [ 2.2699,  2.5021, -2.7409],\n",
            "        [ 4.9479,  5.6577, -5.9514],\n",
            "        [ 5.2255,  5.6625, -5.9926],\n",
            "        [ 5.8745,  6.5076, -6.8767],\n",
            "        [ 6.1318,  6.4732, -6.8444],\n",
            "        [ 5.9055,  6.4443, -6.8449],\n",
            "        [ 6.4639,  7.2330, -7.5753],\n",
            "        [ 5.0657,  5.6216, -5.9782],\n",
            "        [ 5.0302,  5.3387, -5.7699],\n",
            "        [ 5.9901,  6.1701, -6.7204],\n",
            "        [ 5.8745,  6.3828, -6.6719],\n",
            "        [ 4.8833,  5.6062, -5.9190],\n",
            "        [ 6.2931,  6.9598, -7.4687],\n",
            "        [ 4.9976,  5.5166, -5.8368],\n",
            "        [ 4.9275,  5.5329, -5.8532],\n",
            "        [ 4.1159,  4.7709, -4.9223],\n",
            "        [ 6.9045,  7.7174, -8.1448],\n",
            "        [ 5.1591,  5.7824, -6.0513],\n",
            "        [ 5.3583,  6.1650, -6.4951],\n",
            "        [ 6.1240,  6.9765, -7.2339],\n",
            "        [ 5.6950,  6.3065, -6.6930],\n",
            "        [ 7.2704,  7.9345, -8.4514],\n",
            "        [ 5.4532,  5.8659, -6.3018],\n",
            "        [ 5.4360,  5.9510, -6.4982],\n",
            "        [ 6.0485,  6.5916, -7.0600],\n",
            "        [ 5.7145,  5.9099, -6.4078],\n",
            "        [ 4.4774,  4.6809, -5.0505],\n",
            "        [ 5.8826,  6.3874, -6.9131],\n",
            "        [ 5.4262,  5.8803, -6.3195],\n",
            "        [ 4.9142,  5.3025, -5.6498],\n",
            "        [ 4.5630,  4.9847, -5.3104],\n",
            "        [ 4.8341,  5.4330, -5.7819],\n",
            "        [ 5.3346,  5.8647, -6.2995],\n",
            "        [ 4.0742,  4.7558, -5.0388],\n",
            "        [ 6.0921,  6.6578, -7.0751],\n",
            "        [ 8.2266,  8.8508, -9.5605],\n",
            "        [ 5.8276,  6.6242, -6.9873],\n",
            "        [ 5.8730,  6.4069, -6.7575],\n",
            "        [ 5.1986,  5.7209, -6.1267],\n",
            "        [ 6.4788,  6.4562, -7.0214],\n",
            "        [ 5.5007,  6.0404, -6.4979],\n",
            "        [ 6.1718,  6.6109, -7.1043],\n",
            "        [ 6.2333,  6.9793, -7.3710],\n",
            "        [ 5.6833,  6.1383, -6.5790],\n",
            "        [ 5.4373,  5.7588, -6.1201],\n",
            "        [ 7.2734,  7.9247, -8.4102],\n",
            "        [ 6.4931,  6.9029, -7.4684],\n",
            "        [ 4.8098,  5.2390, -5.7048],\n",
            "        [ 4.9615,  5.5450, -5.9232],\n",
            "        [ 6.7309,  7.0519, -7.5713],\n",
            "        [ 5.0666,  5.7865, -6.1314]], grad_fn=<ScatterAddBackward0>)\n"
          ]
        }
      ]
    },
    {
      "cell_type": "markdown",
      "source": [
        "# We take a look at the node embeddings produced by our GNN (before training)."
      ],
      "metadata": {
        "id": "k-ns1aGwHnV7"
      }
    },
    {
      "cell_type": "code",
      "source": [
        "import matplotlib.pyplot as plt\n",
        "from sklearn.manifold import TSNE\n",
        "import seaborn as sns\n",
        "\n",
        "def visualize(h):\n",
        "    z = TSNE(n_components = 2, random_state = 0).fit_transform(h.detach().numpy())\n",
        "    plt.figure(figsize = (6,4),  dpi = 120)\n",
        "    sns.scatterplot(x = z[:, 0], y = z[:, 1], hue = Data[\"y\"], palette=sns.color_palette(\"bright\",3)).set(title = \"Gene expression data T-SNE projection before training (BGAT)\")"
      ],
      "metadata": {
        "id": "9X57t2luIdq-"
      },
      "execution_count": null,
      "outputs": []
    },
    {
      "cell_type": "code",
      "source": [
        "model = Myconv()\n",
        "h = model(Data[\"x\"], Data[\"edge_index\"])\n",
        "\n",
        "print(f'Embedding shape: {list(h.shape)}')\n",
        "visualize(h)"
      ],
      "metadata": {
        "id": "XIOt_sIuIgb6",
        "colab": {
          "base_uri": "https://localhost:8080/",
          "height": 482
        },
        "outputId": "1e8802ef-b92f-4936-c2c8-ef38bde30bdf"
      },
      "execution_count": null,
      "outputs": [
        {
          "output_type": "stream",
          "name": "stdout",
          "text": [
            "Embedding shape: [90, 3]\n"
          ]
        },
        {
          "output_type": "display_data",
          "data": {
            "text/plain": [
              "<Figure size 720x480 with 1 Axes>"
            ],
            "image/png": "[encoded data removed]"
          },
          "metadata": {}
        }
      ]
    },
    {
      "cell_type": "markdown",
      "source": [
        "# Start training the model."
      ],
      "metadata": {
        "id": "7VP4YMpiHqpG"
      }
    },
    {
      "cell_type": "code",
      "source": [
        "model = Myconv()\n",
        "criterion = torch.nn.CrossEntropyLoss()  # Define loss criterion.\n",
        "optimizer = torch.optim.Adam(model.parameters(),  lr = 0.0001, weight_decay = 0.05)  # Define optimizer, an object for updating parameters\n",
        "#loss = loss + weight decay parameter * L2 norm of the weights, 1) To prevent overfitting 2) To keep the weights small and avoid exploding gradient\n",
        "\n",
        "def train(Data):\n",
        "    model.train()\n",
        "    optimizer.zero_grad()  # Clear gradients.\n",
        "    out = model(Data[\"x\"], Data[\"edge_index\"])\n",
        "    train_loss = criterion(out[Data[\"train_mask\"]], Data[\"y\"][Data[\"train_mask\"]])  # Compute the loss solely based on the training nodes.\n",
        "    train_loss.backward()  # Derive gradients.\n",
        "    optimizer.step()  # Update parameters based on gradients.\n",
        "    return train_loss\n",
        "\n",
        "\n",
        "def val(Data):\n",
        "      model.eval()\n",
        "      with torch.no_grad():\n",
        "        out = model(Data[\"x\"], Data[\"edge_index\"])\n",
        "        val_loss = criterion(out[Data[\"val_mask\"]], Data[\"y\"][Data[\"val_mask\"]])\n",
        "        #pred = out.argmax(dim=1)\n",
        "        #test_correct = pred[Data[\"val_mask\"]] == Data[\"y\"][Data[\"val_mask\"]]  # Check against ground-truth labels.\n",
        "        #test_acc = int(test_correct.sum()) / int(Data[\"val_mask\"].sum())  # Derive ratio of correct predictions.\n",
        "        return val_loss"
      ],
      "metadata": {
        "id": "rEEYCfq0IqJ0"
      },
      "execution_count": null,
      "outputs": []
    },
    {
      "cell_type": "code",
      "source": [
        "train_loss_ = []\n",
        "val_loss_ = []\n",
        "\n",
        "for epoch in range(1,79):\n",
        "\n",
        "  epoch_train_loss = []\n",
        "  epoch_val_loss = []\n",
        "  train_loss = train(Data)\n",
        "  val_loss = val(Data)\n",
        "\n",
        "\n",
        "\n",
        "\n",
        "\n",
        "\n",
        "  epoch_train_loss.append(train_loss.item())\n",
        "  epoch_val_loss.append(val_loss.item())\n",
        "\n",
        "\n",
        "\n",
        "\n",
        "\n",
        "\n",
        "  val_loss_.append(sum(epoch_val_loss)/len(epoch_val_loss))\n",
        "  train_loss_.append(sum(epoch_train_loss)/len(epoch_train_loss))\n",
        "  print(epoch,'Train Loss: %.3f | val Loss: %.3f'%( train_loss,val_loss))"
      ],
      "metadata": {
        "id": "TC40WS2IItMC",
        "colab": {
          "base_uri": "https://localhost:8080/"
        },
        "outputId": "eed59008-9373-4576-edb5-9917509e95c7"
      },
      "execution_count": null,
      "outputs": [
        {
          "output_type": "stream",
          "name": "stdout",
          "text": [
            "1 Train Loss: 4.792 | val Loss: 4.515\n",
            "2 Train Loss: 4.353 | val Loss: 4.147\n",
            "3 Train Loss: 3.985 | val Loss: 3.803\n",
            "4 Train Loss: 3.642 | val Loss: 3.474\n",
            "5 Train Loss: 3.316 | val Loss: 3.161\n",
            "6 Train Loss: 3.005 | val Loss: 2.863\n",
            "7 Train Loss: 2.709 | val Loss: 2.578\n",
            "8 Train Loss: 2.426 | val Loss: 2.307\n",
            "9 Train Loss: 2.154 | val Loss: 2.047\n",
            "10 Train Loss: 1.894 | val Loss: 1.800\n",
            "11 Train Loss: 1.646 | val Loss: 1.567\n",
            "12 Train Loss: 1.414 | val Loss: 1.356\n",
            "13 Train Loss: 1.210 | val Loss: 1.184\n",
            "14 Train Loss: 1.060 | val Loss: 1.077\n",
            "15 Train Loss: 1.006 | val Loss: 1.054\n",
            "16 Train Loss: 1.067 | val Loss: 1.081\n",
            "17 Train Loss: 1.169 | val Loss: 1.105\n",
            "18 Train Loss: 1.228 | val Loss: 1.113\n",
            "19 Train Loss: 1.233 | val Loss: 1.109\n",
            "20 Train Loss: 1.205 | val Loss: 1.106\n",
            "21 Train Loss: 1.167 | val Loss: 1.108\n",
            "22 Train Loss: 1.137 | val Loss: 1.117\n",
            "23 Train Loss: 1.119 | val Loss: 1.127\n",
            "24 Train Loss: 1.109 | val Loss: 1.133\n",
            "25 Train Loss: 1.097 | val Loss: 1.130\n",
            "26 Train Loss: 1.080 | val Loss: 1.119\n",
            "27 Train Loss: 1.054 | val Loss: 1.102\n",
            "28 Train Loss: 1.025 | val Loss: 1.087\n",
            "29 Train Loss: 1.000 | val Loss: 1.082\n",
            "30 Train Loss: 0.992 | val Loss: 1.093\n",
            "31 Train Loss: 1.008 | val Loss: 1.110\n",
            "32 Train Loss: 1.030 | val Loss: 1.115\n",
            "33 Train Loss: 1.033 | val Loss: 1.109\n",
            "34 Train Loss: 1.017 | val Loss: 1.101\n",
            "35 Train Loss: 0.999 | val Loss: 1.098\n",
            "36 Train Loss: 0.990 | val Loss: 1.100\n",
            "37 Train Loss: 0.991 | val Loss: 1.104\n",
            "38 Train Loss: 0.995 | val Loss: 1.105\n",
            "39 Train Loss: 0.999 | val Loss: 1.102\n",
            "40 Train Loss: 0.997 | val Loss: 1.094\n",
            "41 Train Loss: 0.992 | val Loss: 1.083\n",
            "42 Train Loss: 0.984 | val Loss: 1.072\n",
            "43 Train Loss: 0.976 | val Loss: 1.063\n",
            "44 Train Loss: 0.972 | val Loss: 1.056\n",
            "45 Train Loss: 0.971 | val Loss: 1.052\n",
            "46 Train Loss: 0.973 | val Loss: 1.050\n",
            "47 Train Loss: 0.975 | val Loss: 1.048\n",
            "48 Train Loss: 0.974 | val Loss: 1.045\n",
            "49 Train Loss: 0.971 | val Loss: 1.042\n",
            "50 Train Loss: 0.966 | val Loss: 1.039\n",
            "51 Train Loss: 0.959 | val Loss: 1.029\n",
            "52 Train Loss: 0.949 | val Loss: 1.021\n",
            "53 Train Loss: 0.938 | val Loss: 1.018\n",
            "54 Train Loss: 0.933 | val Loss: 1.018\n",
            "55 Train Loss: 0.929 | val Loss: 1.018\n",
            "56 Train Loss: 0.926 | val Loss: 1.016\n",
            "57 Train Loss: 0.921 | val Loss: 1.002\n",
            "58 Train Loss: 0.905 | val Loss: 0.974\n",
            "59 Train Loss: 0.889 | val Loss: 0.970\n",
            "60 Train Loss: 0.895 | val Loss: 0.968\n",
            "61 Train Loss: 0.865 | val Loss: 0.984\n",
            "62 Train Loss: 0.864 | val Loss: 0.990\n",
            "63 Train Loss: 0.862 | val Loss: 0.974\n",
            "64 Train Loss: 0.842 | val Loss: 0.955\n",
            "65 Train Loss: 0.830 | val Loss: 0.956\n",
            "66 Train Loss: 0.836 | val Loss: 0.945\n",
            "67 Train Loss: 0.811 | val Loss: 0.952\n",
            "68 Train Loss: 0.812 | val Loss: 0.936\n",
            "69 Train Loss: 0.801 | val Loss: 0.906\n",
            "70 Train Loss: 0.784 | val Loss: 0.883\n",
            "71 Train Loss: 0.781 | val Loss: 0.867\n",
            "72 Train Loss: 0.777 | val Loss: 0.862\n",
            "73 Train Loss: 0.763 | val Loss: 0.869\n",
            "74 Train Loss: 0.760 | val Loss: 0.867\n",
            "75 Train Loss: 0.758 | val Loss: 0.844\n",
            "76 Train Loss: 0.746 | val Loss: 0.822\n",
            "77 Train Loss: 0.742 | val Loss: 0.816\n",
            "78 Train Loss: 0.737 | val Loss: 0.824\n"
          ]
        }
      ]
    },
    {
      "cell_type": "markdown",
      "source": [
        "# Visualize train loss and val loss."
      ],
      "metadata": {
        "id": "rECAVfL-HuM3"
      }
    },
    {
      "cell_type": "code",
      "source": [
        "plt.plot(train_loss_, \"m\", linewidth = 3)\n",
        "plt.plot(val_loss_, \"k\", linewidth = 3)\n",
        "plt.xlabel('epoch')\n",
        "plt.ylabel('loss')\n",
        "plt.legend(['Train','Val'])\n",
        "plt.title('Train vs Val Loss for the gene expression (BGAT)')\n",
        "plt.grid()\n",
        "plt.show()"
      ],
      "metadata": {
        "id": "jfWsribSIyCZ",
        "colab": {
          "base_uri": "https://localhost:8080/",
          "height": 472
        },
        "outputId": "7e03ba86-8ec2-4259-adc0-4eeac23d021e"
      },
      "execution_count": null,
      "outputs": [
        {
          "output_type": "display_data",
          "data": {
            "text/plain": [
              "<Figure size 640x480 with 1 Axes>"
            ],
            "image/png": "[encoded data removed]"
          },
          "metadata": {}
        }
      ]
    },
    {
      "cell_type": "markdown",
      "source": [
        "# Compute the accuracy of the model."
      ],
      "metadata": {
        "id": "pWmrgyerHwqb"
      }
    },
    {
      "cell_type": "code",
      "source": [
        "def valid(Data):\n",
        "      model.eval()\n",
        "      with torch.no_grad():\n",
        "        out = model(Data[\"x\"], Data[\"edge_index\"])\n",
        "        pred = out.argmax(dim=1)\n",
        "        test_correct = pred[Data[\"val_mask\"]] == Data[\"y\"][Data[\"val_mask\"]]  # Check against ground-truth labels.\n",
        "        valid_acc = int(test_correct.sum()) / int(Data[\"val_mask\"].sum())  # Derive ratio of correct predictions.\n",
        "        return valid_acc"
      ],
      "metadata": {
        "id": "u0catUucY6Ce"
      },
      "execution_count": null,
      "outputs": []
    },
    {
      "cell_type": "code",
      "source": [
        "valid_acc = valid(Data)\n",
        "print(f'Test Accuracy: {100*valid_acc:.2f}')"
      ],
      "metadata": {
        "colab": {
          "base_uri": "https://localhost:8080/"
        },
        "id": "Gju1q8LJY9y6",
        "outputId": "f4b9916b-f7c4-448d-f892-589a0c1b2764"
      },
      "execution_count": null,
      "outputs": [
        {
          "output_type": "stream",
          "name": "stdout",
          "text": [
            "Test Accuracy: 50.00\n"
          ]
        }
      ]
    },
    {
      "cell_type": "code",
      "source": [
        "def test(Data):\n",
        "      model.eval()\n",
        "      with torch.no_grad():\n",
        "        out = model(Data[\"x\"], Data[\"edge_index\"])\n",
        "        pred = out.argmax(dim=1)\n",
        "        test_correct = pred[Data[\"test_mask\"]] == Data[\"y\"][Data[\"test_mask\"]]  # Check against ground-truth labels.\n",
        "        test_acc = int(test_correct.sum()) / int(Data[\"test_mask\"].sum())  # Derive ratio of correct predictions.\n",
        "        return test_acc"
      ],
      "metadata": {
        "id": "AYuzbP8QI1FB"
      },
      "execution_count": null,
      "outputs": []
    },
    {
      "cell_type": "code",
      "source": [
        "test_acc = test(Data)\n",
        "print(f'Test Accuracy: {100*test_acc:.2f}')"
      ],
      "metadata": {
        "id": "Bo8skfVlI3Cj",
        "colab": {
          "base_uri": "https://localhost:8080/"
        },
        "outputId": "2e0ae488-c012-4776-abf3-5982be229b04"
      },
      "execution_count": null,
      "outputs": [
        {
          "output_type": "stream",
          "name": "stdout",
          "text": [
            "Test Accuracy: 83.33\n"
          ]
        }
      ]
    },
    {
      "cell_type": "markdown",
      "source": [
        "# We take a look at the node embeddings produced by our GNN (after training)."
      ],
      "metadata": {
        "id": "3TLQJ02SH0Nf"
      }
    },
    {
      "cell_type": "code",
      "source": [
        "import matplotlib.pyplot as plt\n",
        "from sklearn.manifold import TSNE\n",
        "import seaborn as sns\n",
        "\n",
        "def visualize(h):\n",
        "    z = TSNE(n_components = 2, random_state = 0).fit_transform(h.detach().numpy())\n",
        "    plt.figure(figsize = (6,4),  dpi = 120)\n",
        "    sns.scatterplot(x = z[:, 0], y = z[:, 1], hue = Data[\"y\"], palette=sns.color_palette(\"bright\",3)).set(title = \"Gene expression data T-SNE projection after training (BGAT)\")"
      ],
      "metadata": {
        "id": "FX8ECiogWhB4"
      },
      "execution_count": null,
      "outputs": []
    },
    {
      "cell_type": "code",
      "source": [
        "model.eval()\n",
        "out = model(Data[\"x\"], Data[\"edge_index\"])\n",
        "visualize(out)"
      ],
      "metadata": {
        "id": "6sy0W82RI6l7",
        "colab": {
          "base_uri": "https://localhost:8080/",
          "height": 465
        },
        "outputId": "1becab05-b8c2-4f9d-ab27-f6ccb1224c05"
      },
      "execution_count": null,
      "outputs": [
        {
          "output_type": "display_data",
          "data": {
            "text/plain": [
              "<Figure size 720x480 with 1 Axes>"
            ],
            "image/png": "[encoded data removed]"
          },
          "metadata": {}
        }
      ]
    },
    {
      "cell_type": "markdown",
      "source": [
        "# Confusion matrix."
      ],
      "metadata": {
        "id": "iczh9jlEH3bu"
      }
    },
    {
      "cell_type": "code",
      "source": [
        "pred_t = out.argmax(dim=1)\n",
        "pred_t"
      ],
      "metadata": {
        "id": "XSIj0zy8I8qk",
        "colab": {
          "base_uri": "https://localhost:8080/"
        },
        "outputId": "50c5ff38-942f-47e9-ca87-c3bd10157b5e"
      },
      "execution_count": null,
      "outputs": [
        {
          "output_type": "execute_result",
          "data": {
            "text/plain": [
              "tensor([0, 0, 0, 1, 0, 0, 1, 0, 1, 0, 0, 0, 0, 0, 0, 1, 1, 1, 0, 2, 1, 0, 0, 0,\n",
              "        0, 0, 0, 0, 1, 2, 0, 1, 0, 0, 0, 1, 0, 0, 1, 1, 1, 1, 1, 2, 1, 1, 1, 1,\n",
              "        2, 1, 1, 1, 1, 1, 1, 2, 1, 2, 1, 1, 2, 2, 2, 2, 2, 2, 2, 2, 2, 2, 2, 2,\n",
              "        2, 2, 2, 2, 2, 2, 2, 2, 2, 2, 2, 2, 2, 2, 2, 2, 2, 2])"
            ]
          },
          "metadata": {},
          "execution_count": 90
        }
      ]
    },
    {
      "cell_type": "code",
      "source": [
        "Data[\"y\"]"
      ],
      "metadata": {
        "colab": {
          "base_uri": "https://localhost:8080/"
        },
        "id": "HnTlG2vxbI30",
        "outputId": "eccdcc6e-b391-4e70-ae4d-4eafc4ee742e"
      },
      "execution_count": null,
      "outputs": [
        {
          "output_type": "execute_result",
          "data": {
            "text/plain": [
              "tensor([0, 0, 0, 0, 0, 0, 0, 0, 0, 0, 0, 0, 0, 0, 0, 0, 0, 0, 0, 0, 0, 0, 0, 0,\n",
              "        0, 0, 0, 0, 0, 0, 1, 1, 1, 1, 1, 1, 1, 1, 1, 1, 1, 1, 1, 1, 1, 1, 1, 1,\n",
              "        1, 1, 1, 1, 1, 1, 1, 1, 1, 1, 1, 1, 2, 2, 2, 2, 2, 2, 2, 2, 2, 2, 2, 2,\n",
              "        2, 2, 2, 2, 2, 2, 2, 2, 2, 2, 2, 2, 2, 2, 2, 2, 2, 2])"
            ]
          },
          "metadata": {},
          "execution_count": 91
        }
      ]
    },
    {
      "cell_type": "code",
      "source": [
        "import seaborn as sn\n",
        "confusion_matrix = pd.crosstab(Data['y'], pred_t, rownames=['Actual'], colnames = ['Predicted'], margins = True)\n",
        "plt.figure(figsize=(8, 6))\n",
        "sn.heatmap(confusion_matrix, annot=True,  cmap=\"Blues\", fmt='g')\n",
        "plt.title('Gene Expression, confusion matrix (BGAT) for the whole data')\n",
        "plt.show()"
      ],
      "metadata": {
        "colab": {
          "base_uri": "https://localhost:8080/",
          "height": 564
        },
        "id": "o69cITcdzAl8",
        "outputId": "0afb0105-50fd-488e-dd9d-c4428df45263"
      },
      "execution_count": null,
      "outputs": [
        {
          "output_type": "display_data",
          "data": {
            "text/plain": [
              "<Figure size 800x600 with 2 Axes>"
            ],
            "image/png": "[encoded data removed]"
          },
          "metadata": {}
        }
      ]
    },
    {
      "cell_type": "code",
      "source": [
        "pred = pred_t[Data[\"test_mask\"]]"
      ],
      "metadata": {
        "id": "8tT47OIn1A_F"
      },
      "execution_count": null,
      "outputs": []
    },
    {
      "cell_type": "code",
      "source": [
        "act = Data[\"y\"][Data[\"test_mask\"]]"
      ],
      "metadata": {
        "id": "aoPNjquz1G-7"
      },
      "execution_count": null,
      "outputs": []
    },
    {
      "cell_type": "code",
      "source": [
        "data = {'y_Actual':    act,\n",
        "        'y_Predicted':pred\n",
        "        }\n",
        "\n",
        "df = pd.DataFrame(data, columns = ['y_Actual','y_Predicted'])\n",
        "df"
      ],
      "metadata": {
        "colab": {
          "base_uri": "https://localhost:8080/",
          "height": 238
        },
        "id": "6MhtFtnHzHJz",
        "outputId": "dc573636-775e-4c2c-b5a4-9994b4046eec"
      },
      "execution_count": null,
      "outputs": [
        {
          "output_type": "execute_result",
          "data": {
            "text/plain": [
              "   y_Actual  y_Predicted\n",
              "0         0            0\n",
              "1         0            0\n",
              "2         1            1\n",
              "3         1            0\n",
              "4         2            2\n",
              "5         2            2"
            ],
            "text/html": [
              "\n",
              "  <div id=\"df-2c251f52-32f1-4a03-ab2e-ee2200c6f339\" class=\"colab-df-container\">\n",
              "    <div>\n",
              "<style scoped>\n",
              "    .dataframe tbody tr th:only-of-type {\n",
              "        vertical-align: middle;\n",
              "    }\n",
              "\n",
              "    .dataframe tbody tr th {\n",
              "        vertical-align: top;\n",
              "    }\n",
              "\n",
              "    .dataframe thead th {\n",
              "        text-align: right;\n",
              "    }\n",
              "</style>\n",
              "<table border=\"1\" class=\"dataframe\">\n",
              "  <thead>\n",
              "    <tr style=\"text-align: right;\">\n",
              "      <th></th>\n",
              "      <th>y_Actual</th>\n",
              "      <th>y_Predicted</th>\n",
              "    </tr>\n",
              "  </thead>\n",
              "  <tbody>\n",
              "    <tr>\n",
              "      <th>0</th>\n",
              "      <td>0</td>\n",
              "      <td>0</td>\n",
              "    </tr>\n",
              "    <tr>\n",
              "      <th>1</th>\n",
              "      <td>0</td>\n",
              "      <td>0</td>\n",
              "    </tr>\n",
              "    <tr>\n",
              "      <th>2</th>\n",
              "      <td>1</td>\n",
              "      <td>1</td>\n",
              "    </tr>\n",
              "    <tr>\n",
              "      <th>3</th>\n",
              "      <td>1</td>\n",
              "      <td>0</td>\n",
              "    </tr>\n",
              "    <tr>\n",
              "      <th>4</th>\n",
              "      <td>2</td>\n",
              "      <td>2</td>\n",
              "    </tr>\n",
              "    <tr>\n",
              "      <th>5</th>\n",
              "      <td>2</td>\n",
              "      <td>2</td>\n",
              "    </tr>\n",
              "  </tbody>\n",
              "</table>\n",
              "</div>\n",
              "    <div class=\"colab-df-buttons\">\n",
              "\n",
              "  <div class=\"colab-df-container\">\n",
              "    <button class=\"colab-df-convert\" onclick=\"convertToInteractive('df-2c251f52-32f1-4a03-ab2e-ee2200c6f339')\"\n",
              "            title=\"Convert this dataframe to an interactive table.\"\n",
              "            style=\"display:none;\">\n",
              "\n",
              "  <svg xmlns=\"http://www.w3.org/2000/svg\" height=\"24px\" viewBox=\"0 -960 960 960\">\n",
              "    <path d=\"M120-120v-720h720v720H120Zm60-500h600v-160H180v160Zm220 220h160v-160H400v160Zm0 220h160v-160H400v160ZM180-400h160v-160H180v160Zm440 0h160v-160H620v160ZM180-180h160v-160H180v160Zm440 0h160v-160H620v160Z\"/>\n",
              "  </svg>\n",
              "    </button>\n",
              "\n",
              "  <style>\n",
              "    .colab-df-container {\n",
              "      display:flex;\n",
              "      gap: 12px;\n",
              "    }\n",
              "\n",
              "    .colab-df-convert {\n",
              "      background-color: #E8F0FE;\n",
              "      border: none;\n",
              "      border-radius: 50%;\n",
              "      cursor: pointer;\n",
              "      display: none;\n",
              "      fill: #1967D2;\n",
              "      height: 32px;\n",
              "      padding: 0 0 0 0;\n",
              "      width: 32px;\n",
              "    }\n",
              "\n",
              "    .colab-df-convert:hover {\n",
              "      background-color: #E2EBFA;\n",
              "      box-shadow: 0px 1px 2px rgba(60, 64, 67, 0.3), 0px 1px 3px 1px rgba(60, 64, 67, 0.15);\n",
              "      fill: #174EA6;\n",
              "    }\n",
              "\n",
              "    .colab-df-buttons div {\n",
              "      margin-bottom: 4px;\n",
              "    }\n",
              "\n",
              "    [theme=dark] .colab-df-convert {\n",
              "      background-color: #3B4455;\n",
              "      fill: #D2E3FC;\n",
              "    }\n",
              "\n",
              "    [theme=dark] .colab-df-convert:hover {\n",
              "      background-color: #434B5C;\n",
              "      box-shadow: 0px 1px 3px 1px rgba(0, 0, 0, 0.15);\n",
              "      filter: drop-shadow(0px 1px 2px rgba(0, 0, 0, 0.3));\n",
              "      fill: #FFFFFF;\n",
              "    }\n",
              "  </style>\n",
              "\n",
              "    <script>\n",
              "      const buttonEl =\n",
              "        document.querySelector('#df-2c251f52-32f1-4a03-ab2e-ee2200c6f339 button.colab-df-convert');\n",
              "      buttonEl.style.display =\n",
              "        google.colab.kernel.accessAllowed ? 'block' : 'none';\n",
              "\n",
              "      async function convertToInteractive(key) {\n",
              "        const element = document.querySelector('#df-2c251f52-32f1-4a03-ab2e-ee2200c6f339');\n",
              "        const dataTable =\n",
              "          await google.colab.kernel.invokeFunction('convertToInteractive',\n",
              "                                                    [key], {});\n",
              "        if (!dataTable) return;\n",
              "\n",
              "        const docLinkHtml = 'Like what you see? Visit the ' +\n",
              "          '<a target=\"_blank\" href=https://colab.research.google.com/notebooks/data_table.ipynb>data table notebook</a>'\n",
              "          + ' to learn more about interactive tables.';\n",
              "        element.innerHTML = '';\n",
              "        dataTable['output_type'] = 'display_data';\n",
              "        await google.colab.output.renderOutput(dataTable, element);\n",
              "        const docLink = document.createElement('div');\n",
              "        docLink.innerHTML = docLinkHtml;\n",
              "        element.appendChild(docLink);\n",
              "      }\n",
              "    </script>\n",
              "  </div>\n",
              "\n",
              "\n",
              "<div id=\"df-55279a9c-d142-441f-b82a-c1d7880b5df1\">\n",
              "  <button class=\"colab-df-quickchart\" onclick=\"quickchart('df-55279a9c-d142-441f-b82a-c1d7880b5df1')\"\n",
              "            title=\"Suggest charts\"\n",
              "            style=\"display:none;\">\n",
              "\n",
              "<svg xmlns=\"http://www.w3.org/2000/svg\" height=\"24px\"viewBox=\"0 0 24 24\"\n",
              "     width=\"24px\">\n",
              "    <g>\n",
              "        <path d=\"M19 3H5c-1.1 0-2 .9-2 2v14c0 1.1.9 2 2 2h14c1.1 0 2-.9 2-2V5c0-1.1-.9-2-2-2zM9 17H7v-7h2v7zm4 0h-2V7h2v10zm4 0h-2v-4h2v4z\"/>\n",
              "    </g>\n",
              "</svg>\n",
              "  </button>\n",
              "\n",
              "<style>\n",
              "  .colab-df-quickchart {\n",
              "      --bg-color: #E8F0FE;\n",
              "      --fill-color: #1967D2;\n",
              "      --hover-bg-color: #E2EBFA;\n",
              "      --hover-fill-color: #174EA6;\n",
              "      --disabled-fill-color: #AAA;\n",
              "      --disabled-bg-color: #DDD;\n",
              "  }\n",
              "\n",
              "  [theme=dark] .colab-df-quickchart {\n",
              "      --bg-color: #3B4455;\n",
              "      --fill-color: #D2E3FC;\n",
              "      --hover-bg-color: #434B5C;\n",
              "      --hover-fill-color: #FFFFFF;\n",
              "      --disabled-bg-color: #3B4455;\n",
              "      --disabled-fill-color: #666;\n",
              "  }\n",
              "\n",
              "  .colab-df-quickchart {\n",
              "    background-color: var(--bg-color);\n",
              "    border: none;\n",
              "    border-radius: 50%;\n",
              "    cursor: pointer;\n",
              "    display: none;\n",
              "    fill: var(--fill-color);\n",
              "    height: 32px;\n",
              "    padding: 0;\n",
              "    width: 32px;\n",
              "  }\n",
              "\n",
              "  .colab-df-quickchart:hover {\n",
              "    background-color: var(--hover-bg-color);\n",
              "    box-shadow: 0 1px 2px rgba(60, 64, 67, 0.3), 0 1px 3px 1px rgba(60, 64, 67, 0.15);\n",
              "    fill: var(--button-hover-fill-color);\n",
              "  }\n",
              "\n",
              "  .colab-df-quickchart-complete:disabled,\n",
              "  .colab-df-quickchart-complete:disabled:hover {\n",
              "    background-color: var(--disabled-bg-color);\n",
              "    fill: var(--disabled-fill-color);\n",
              "    box-shadow: none;\n",
              "  }\n",
              "\n",
              "  .colab-df-spinner {\n",
              "    border: 2px solid var(--fill-color);\n",
              "    border-color: transparent;\n",
              "    border-bottom-color: var(--fill-color);\n",
              "    animation:\n",
              "      spin 1s steps(1) infinite;\n",
              "  }\n",
              "\n",
              "  @keyframes spin {\n",
              "    0% {\n",
              "      border-color: transparent;\n",
              "      border-bottom-color: var(--fill-color);\n",
              "      border-left-color: var(--fill-color);\n",
              "    }\n",
              "    20% {\n",
              "      border-color: transparent;\n",
              "      border-left-color: var(--fill-color);\n",
              "      border-top-color: var(--fill-color);\n",
              "    }\n",
              "    30% {\n",
              "      border-color: transparent;\n",
              "      border-left-color: var(--fill-color);\n",
              "      border-top-color: var(--fill-color);\n",
              "      border-right-color: var(--fill-color);\n",
              "    }\n",
              "    40% {\n",
              "      border-color: transparent;\n",
              "      border-right-color: var(--fill-color);\n",
              "      border-top-color: var(--fill-color);\n",
              "    }\n",
              "    60% {\n",
              "      border-color: transparent;\n",
              "      border-right-color: var(--fill-color);\n",
              "    }\n",
              "    80% {\n",
              "      border-color: transparent;\n",
              "      border-right-color: var(--fill-color);\n",
              "      border-bottom-color: var(--fill-color);\n",
              "    }\n",
              "    90% {\n",
              "      border-color: transparent;\n",
              "      border-bottom-color: var(--fill-color);\n",
              "    }\n",
              "  }\n",
              "</style>\n",
              "\n",
              "  <script>\n",
              "    async function quickchart(key) {\n",
              "      const quickchartButtonEl =\n",
              "        document.querySelector('#' + key + ' button');\n",
              "      quickchartButtonEl.disabled = true;  // To prevent multiple clicks.\n",
              "      quickchartButtonEl.classList.add('colab-df-spinner');\n",
              "      try {\n",
              "        const charts = await google.colab.kernel.invokeFunction(\n",
              "            'suggestCharts', [key], {});\n",
              "      } catch (error) {\n",
              "        console.error('Error during call to suggestCharts:', error);\n",
              "      }\n",
              "      quickchartButtonEl.classList.remove('colab-df-spinner');\n",
              "      quickchartButtonEl.classList.add('colab-df-quickchart-complete');\n",
              "    }\n",
              "    (() => {\n",
              "      let quickchartButtonEl =\n",
              "        document.querySelector('#df-55279a9c-d142-441f-b82a-c1d7880b5df1 button');\n",
              "      quickchartButtonEl.style.display =\n",
              "        google.colab.kernel.accessAllowed ? 'block' : 'none';\n",
              "    })();\n",
              "  </script>\n",
              "</div>\n",
              "    </div>\n",
              "  </div>\n"
            ]
          },
          "metadata": {},
          "execution_count": 95
        }
      ]
    },
    {
      "cell_type": "code",
      "source": [
        "import seaborn as sn\n",
        "confusion_matrix = pd.crosstab(act, pred, rownames=['Actual'], colnames = ['Predicted'], margins = True)\n",
        "plt.figure(figsize=(8, 6))\n",
        "sn.heatmap(confusion_matrix, annot=True,  cmap=\"Blues\", fmt='g')\n",
        "plt.title('Gene Expression, confusion matrix (BGAT) for the test data')\n",
        "plt.show()"
      ],
      "metadata": {
        "id": "6iZ_7eqjI-Z7",
        "colab": {
          "base_uri": "https://localhost:8080/",
          "height": 564
        },
        "outputId": "95f10a7c-28c4-4837-d040-b0a5176793cf"
      },
      "execution_count": null,
      "outputs": [
        {
          "output_type": "display_data",
          "data": {
            "text/plain": [
              "<Figure size 800x600 with 2 Axes>"
            ],
            "image/png": "[encoded data removed]"
          },
          "metadata": {}
        }
      ]
    }
  ]
}
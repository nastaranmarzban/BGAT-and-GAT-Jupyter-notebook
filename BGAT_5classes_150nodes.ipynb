{
  "nbformat": 4,
  "nbformat_minor": 0,
  "metadata": {
    "colab": {
      "provenance": [],
      "authorship_tag": "ABX9TyPfb/pbSoa/XoL5sjNpJ7Sn",
      "include_colab_link": true
    },
    "kernelspec": {
      "name": "python3",
      "display_name": "Python 3"
    },
    "language_info": {
      "name": "python"
    }
  },
  "cells": [
    {
      "cell_type": "markdown",
      "metadata": {
        "id": "view-in-github",
        "colab_type": "text"
      },
      "source": [
        "<a href=\"https://colab.research.google.com/github/nastaranmarzban/BGAT-and-GAT-Jupyter-notebook/blob/main/BGAT_5classes_150nodes.ipynb\" target=\"_parent\"><img src=\"https://colab.research.google.com/assets/colab-badge.svg\" alt=\"Open In Colab\"/></a>"
      ]
    },
    {
      "cell_type": "markdown",
      "source": [
        "## Mount to gdrive to read data, adjacency matrix, p_link and labels."
      ],
      "metadata": {
        "id": "D5liF2Ip1nKF"
      }
    },
    {
      "cell_type": "code",
      "source": [
        "from google.colab import drive\n",
        "drive.mount('/gdrive')"
      ],
      "metadata": {
        "id": "rsdB4zCeHw4d",
        "colab": {
          "base_uri": "https://localhost:8080/"
        },
        "outputId": "6196ce4e-9743-43c4-9488-0dd7bdd79040"
      },
      "execution_count": null,
      "outputs": [
        {
          "output_type": "stream",
          "name": "stdout",
          "text": [
            "Mounted at /gdrive\n"
          ]
        }
      ]
    },
    {
      "cell_type": "markdown",
      "source": [
        "# Install pandas to read csv files from gdrive. Install torch and numpy which are packages that are needed durind coding."
      ],
      "metadata": {
        "id": "vsenwLFGtkgN"
      }
    },
    {
      "cell_type": "code",
      "source": [
        "!pip install pandas\n",
        "!pip install kneed\n",
        "import pandas as pd\n",
        "import torch\n",
        "import numpy as np"
      ],
      "metadata": {
        "id": "B41ftWgpjMEf",
        "colab": {
          "base_uri": "https://localhost:8080/"
        },
        "outputId": "431df8b7-5154-4a1e-939c-e45f155776fa"
      },
      "execution_count": null,
      "outputs": [
        {
          "output_type": "stream",
          "name": "stdout",
          "text": [
            "Requirement already satisfied: pandas in /usr/local/lib/python3.10/dist-packages (2.2.2)\n",
            "Requirement already satisfied: numpy>=1.22.4 in /usr/local/lib/python3.10/dist-packages (from pandas) (1.26.4)\n",
            "Requirement already satisfied: python-dateutil>=2.8.2 in /usr/local/lib/python3.10/dist-packages (from pandas) (2.8.2)\n",
            "Requirement already satisfied: pytz>=2020.1 in /usr/local/lib/python3.10/dist-packages (from pandas) (2024.2)\n",
            "Requirement already satisfied: tzdata>=2022.7 in /usr/local/lib/python3.10/dist-packages (from pandas) (2024.2)\n",
            "Requirement already satisfied: six>=1.5 in /usr/local/lib/python3.10/dist-packages (from python-dateutil>=2.8.2->pandas) (1.17.0)\n",
            "Collecting kneed\n",
            "  Downloading kneed-0.8.5-py3-none-any.whl.metadata (5.5 kB)\n",
            "Requirement already satisfied: numpy>=1.14.2 in /usr/local/lib/python3.10/dist-packages (from kneed) (1.26.4)\n",
            "Requirement already satisfied: scipy>=1.0.0 in /usr/local/lib/python3.10/dist-packages (from kneed) (1.13.1)\n",
            "Downloading kneed-0.8.5-py3-none-any.whl (10 kB)\n",
            "Installing collected packages: kneed\n",
            "Successfully installed kneed-0.8.5\n"
          ]
        }
      ]
    },
    {
      "cell_type": "markdown",
      "source": [
        "# Load data which are processed in preprocessing data_5classdes_150nodes.ipynb file."
      ],
      "metadata": {
        "id": "4DAtS1Fr1ssF"
      }
    },
    {
      "cell_type": "code",
      "source": [
        "path = F\"/gdrive/MyDrive/5classes_150.sim/data.pt\"\n",
        "Data = torch.load(path)\n",
        "Data"
      ],
      "metadata": {
        "id": "9p-js3RgH1eK",
        "colab": {
          "base_uri": "https://localhost:8080/"
        },
        "outputId": "ebafc194-4c58-4bc5-d368-6917e614f62b"
      },
      "execution_count": null,
      "outputs": [
        {
          "output_type": "stream",
          "name": "stderr",
          "text": [
            "<ipython-input-4-221c7c8f21bf>:2: FutureWarning: You are using `torch.load` with `weights_only=False` (the current default value), which uses the default pickle module implicitly. It is possible to construct malicious pickle data which will execute arbitrary code during unpickling (See https://github.com/pytorch/pytorch/blob/main/SECURITY.md#untrusted-models for more details). In a future release, the default value for `weights_only` will be flipped to `True`. This limits the functions that could be executed during unpickling. Arbitrary objects will no longer be allowed to be loaded via this mode unless they are explicitly allowlisted by the user via `torch.serialization.add_safe_globals`. We recommend you start setting `weights_only=True` for any use case where you don't have full control of the loaded file. Please open an issue on GitHub for any issues related to this experimental feature.\n",
            "  Data = torch.load(path)\n"
          ]
        },
        {
          "output_type": "execute_result",
          "data": {
            "text/plain": [
              "{'x': tensor([[-1.1996, -0.5363, -1.0551,  ...,  1.0784, -0.1099,  0.6258],\n",
              "         [ 1.9717,  1.5424,  1.0104,  ..., -0.6536,  2.3499, -0.1438],\n",
              "         [-0.3870,  0.3711, -1.0519,  ..., -0.6554,  2.1013, -0.8379],\n",
              "         ...,\n",
              "         [-1.4236, -1.3652, -1.1248,  ..., -1.0004,  0.0174,  1.6165],\n",
              "         [-0.5597, -2.0122,  0.3641,  ...,  0.2956, -0.0478, -0.5333],\n",
              "         [ 0.5681, -0.7714,  0.7749,  ..., -0.5489, -1.6281,  1.2040]]),\n",
              " 'edge_index': tensor([[  0,   0,   0,  ..., 149, 149, 149],\n",
              "         [ 21,  57,  97,  ..., 109, 128, 141]]),\n",
              " 'y': tensor([2, 1, 3, 4, 4, 1, 0, 4, 4, 2, 4, 3, 1, 0, 2, 4, 2, 1, 3, 0, 0, 1, 2, 1,\n",
              "         1, 2, 3, 0, 2, 4, 2, 1, 0, 0, 0, 3, 0, 0, 1, 1, 3, 0, 0, 1, 1, 4, 4, 1,\n",
              "         3, 4, 0, 4, 3, 3, 3, 3, 4, 2, 2, 2, 4, 4, 3, 2, 1, 3, 3, 0, 3, 0, 4, 4,\n",
              "         0, 0, 1, 2, 4, 1, 0, 4, 1, 3, 2, 0, 0, 4, 1, 3, 0, 4, 2, 2, 3, 2, 4, 3,\n",
              "         3, 2, 1, 4, 4, 2, 4, 2, 0, 0, 4, 2, 3, 0, 0, 3, 1, 4, 3, 1, 1, 1, 1, 3,\n",
              "         2, 1, 2, 4, 1, 0, 1, 3, 0, 2, 1, 3, 3, 2, 2, 4, 3, 4, 2, 3, 0, 0, 2, 3,\n",
              "         1, 1, 2, 2, 4, 0]),\n",
              " 'train_mask': tensor([ True, False,  True,  True,  True,  True, False,  True, False,  True,\n",
              "          True, False,  True,  True,  True,  True,  True,  True,  True,  True,\n",
              "         False,  True,  True,  True,  True, False,  True,  True, False,  True,\n",
              "          True,  True,  True,  True,  True, False,  True,  True,  True,  True,\n",
              "          True,  True,  True,  True, False, False,  True,  True,  True,  True,\n",
              "         False,  True,  True,  True,  True,  True,  True, False,  True,  True,\n",
              "          True, False,  True,  True,  True,  True,  True,  True,  True,  True,\n",
              "          True,  True, False,  True,  True,  True, False, False,  True,  True,\n",
              "          True, False,  True, False,  True,  True,  True,  True,  True,  True,\n",
              "          True,  True, False,  True,  True,  True,  True,  True,  True,  True,\n",
              "          True,  True,  True,  True, False,  True,  True, False, False,  True,\n",
              "          True, False,  True, False,  True, False,  True,  True,  True,  True,\n",
              "          True,  True,  True,  True,  True,  True,  True,  True,  True,  True,\n",
              "         False,  True,  True,  True,  True,  True,  True,  True, False,  True,\n",
              "          True,  True, False,  True,  True, False,  True,  True, False,  True]),\n",
              " 'val_mask': tensor([False, False, False, False, False, False,  True, False,  True, False,\n",
              "         False,  True, False, False, False, False, False, False, False, False,\n",
              "          True, False, False, False, False, False, False, False, False, False,\n",
              "         False, False, False, False, False, False, False, False, False, False,\n",
              "         False, False, False, False,  True, False, False, False, False, False,\n",
              "         False, False, False, False, False, False, False, False, False, False,\n",
              "         False, False, False, False, False, False, False, False, False, False,\n",
              "         False, False, False, False, False, False, False, False, False, False,\n",
              "         False, False, False,  True, False, False, False, False, False, False,\n",
              "         False, False,  True, False, False, False, False, False, False, False,\n",
              "         False, False, False, False, False, False, False,  True, False, False,\n",
              "         False,  True, False,  True, False,  True, False, False, False, False,\n",
              "         False, False, False, False, False, False, False, False, False, False,\n",
              "          True, False, False, False, False, False, False, False,  True, False,\n",
              "         False, False,  True, False, False, False, False, False,  True, False]),\n",
              " 'test_mask': tensor([False,  True, False, False, False, False, False, False, False, False,\n",
              "         False, False, False, False, False, False, False, False, False, False,\n",
              "         False, False, False, False, False,  True, False, False,  True, False,\n",
              "         False, False, False, False, False,  True, False, False, False, False,\n",
              "         False, False, False, False, False,  True, False, False, False, False,\n",
              "          True, False, False, False, False, False, False,  True, False, False,\n",
              "         False,  True, False, False, False, False, False, False, False, False,\n",
              "         False, False,  True, False, False, False,  True,  True, False, False,\n",
              "         False,  True, False, False, False, False, False, False, False, False,\n",
              "         False, False, False, False, False, False, False, False, False, False,\n",
              "         False, False, False, False,  True, False, False, False,  True, False,\n",
              "         False, False, False, False, False, False, False, False, False, False,\n",
              "         False, False, False, False, False, False, False, False, False, False,\n",
              "         False, False, False, False, False, False, False, False, False, False,\n",
              "         False, False, False, False, False,  True, False, False, False, False])}"
            ]
          },
          "metadata": {},
          "execution_count": 4
        }
      ]
    },
    {
      "cell_type": "markdown",
      "source": [
        "# Gather some statistics about the graph."
      ],
      "metadata": {
        "id": "nQx2wcoO39Hp"
      }
    },
    {
      "cell_type": "code",
      "source": [
        "print(f'Number of nodes: {Data[\"x\"].size(0)}')\n",
        "print(f'Number of features: {Data[\"x\"].size(1)}')\n",
        "print(f'Number of classes: {torch.numel(torch.unique(Data[\"y\"],sorted=True))}')\n",
        "print(f'Number of edges: {Data[\"edge_index\"].size(1)}')\n",
        "print(f'Average node degree: {Data[\"edge_index\"].size(1) / Data[\"x\"].size(0):.2f}')\n",
        "print(f'Number of training nodes: {Data[\"train_mask\"].sum()}')\n",
        "print(f'Number of testing nodes: {Data[\"test_mask\"].sum()}')\n",
        "print(f'Training node label rate: {int(Data[\"train_mask\"].sum()) /  Data[\"x\"].size(0):.2f}')"
      ],
      "metadata": {
        "id": "6Ru1IVdY15nG",
        "colab": {
          "base_uri": "https://localhost:8080/"
        },
        "outputId": "781b61dc-7fc8-48bb-b305-2725e108c902"
      },
      "execution_count": null,
      "outputs": [
        {
          "output_type": "stream",
          "name": "stdout",
          "text": [
            "Number of nodes: 150\n",
            "Number of features: 500\n",
            "Number of classes: 5\n",
            "Number of edges: 954\n",
            "Average node degree: 6.36\n",
            "Number of training nodes: 120\n",
            "Number of testing nodes: 15\n",
            "Training node label rate: 0.80\n"
          ]
        }
      ]
    },
    {
      "cell_type": "markdown",
      "source": [
        "# Read p_link from gdrive to use it as the attention."
      ],
      "metadata": {
        "id": "qjeVY6RB4D-W"
      }
    },
    {
      "cell_type": "code",
      "source": [
        "path = F\"/gdrive/MyDrive/5classes_150.sim/p_link.pt\"\n",
        "p_link = torch.load(path)\n",
        "print(p_link.size())\n",
        "print(p_link.dtype)\n",
        "print(p_link.type())"
      ],
      "metadata": {
        "id": "q_Cysw6JH-Aq",
        "colab": {
          "base_uri": "https://localhost:8080/"
        },
        "outputId": "ce44cec3-7f41-414f-ead0-d0067079371b"
      },
      "execution_count": null,
      "outputs": [
        {
          "output_type": "stream",
          "name": "stderr",
          "text": [
            "<ipython-input-6-56b0c5e0348b>:2: FutureWarning: You are using `torch.load` with `weights_only=False` (the current default value), which uses the default pickle module implicitly. It is possible to construct malicious pickle data which will execute arbitrary code during unpickling (See https://github.com/pytorch/pytorch/blob/main/SECURITY.md#untrusted-models for more details). In a future release, the default value for `weights_only` will be flipped to `True`. This limits the functions that could be executed during unpickling. Arbitrary objects will no longer be allowed to be loaded via this mode unless they are explicitly allowlisted by the user via `torch.serialization.add_safe_globals`. We recommend you start setting `weights_only=True` for any use case where you don't have full control of the loaded file. Please open an issue on GitHub for any issues related to this experimental feature.\n",
            "  p_link = torch.load(path)\n"
          ]
        },
        {
          "output_type": "stream",
          "name": "stdout",
          "text": [
            "torch.Size([150, 150])\n",
            "torch.float32\n",
            "torch.FloatTensor\n"
          ]
        }
      ]
    },
    {
      "cell_type": "markdown",
      "source": [
        "# Install torch_geometic."
      ],
      "metadata": {
        "id": "RK412ZmA4OAt"
      }
    },
    {
      "cell_type": "code",
      "source": [
        "import os\n",
        "os.environ['TORCH'] = torch.__version__\n",
        "print(torch.__version__)\n",
        "\n",
        "!pip install -q torch-scatter -f https://data.pyg.org/whl/torch-${TORCH}.html\n",
        "!pip install -q torch-sparse -f https://data.pyg.org/whl/torch-${TORCH}.html\n",
        "!pip install -q git+https://github.com/pyg-team/pytorch_geometric.git"
      ],
      "metadata": {
        "id": "GzvWqyyxH_4V",
        "colab": {
          "base_uri": "https://localhost:8080/"
        },
        "outputId": "dc03c413-5562-4362-8de7-8d2e57331d0b"
      },
      "execution_count": null,
      "outputs": [
        {
          "output_type": "stream",
          "name": "stdout",
          "text": [
            "2.5.1+cu121\n",
            "\u001b[2K     \u001b[90m━━━━━━━━━━━━━━━━━━━━━━━━━━━━━━━━━━━━━━━━\u001b[0m \u001b[32m10.9/10.9 MB\u001b[0m \u001b[31m62.4 MB/s\u001b[0m eta \u001b[36m0:00:00\u001b[0m\n",
            "\u001b[2K     \u001b[90m━━━━━━━━━━━━━━━━━━━━━━━━━━━━━━━━━━━━━━━━\u001b[0m \u001b[32m5.1/5.1 MB\u001b[0m \u001b[31m15.3 MB/s\u001b[0m eta \u001b[36m0:00:00\u001b[0m\n",
            "\u001b[?25h  Installing build dependencies ... \u001b[?25l\u001b[?25hdone\n",
            "  Getting requirements to build wheel ... \u001b[?25l\u001b[?25hdone\n",
            "  Preparing metadata (pyproject.toml) ... \u001b[?25l\u001b[?25hdone\n",
            "  Building wheel for torch-geometric (pyproject.toml) ... \u001b[?25l\u001b[?25hdone\n"
          ]
        }
      ]
    },
    {
      "cell_type": "markdown",
      "source": [
        "# Developing my own model (making our own message passing layers), which name is BGAT.\n",
        "\n",
        "**BGATConv**\n",
        "$$ X^\\prime _i = \\sum_{j \\in N(i)\\cup i} \\alpha_{ij}\\Theta X_j$$\n",
        "In which $\\alpha$s are computed via BDgraph (p_link) and $\\Theta$ is learnable parameter"
      ],
      "metadata": {
        "id": "IkWEHj7e4Svg"
      }
    },
    {
      "cell_type": "code",
      "source": [
        "from torch_geometric.nn import MessagePassing\n",
        "import torch_geometric.nn\n",
        "import torch.nn.functional as F\n",
        "from torch_geometric.utils import add_self_loops"
      ],
      "metadata": {
        "id": "046h0k_IIB35"
      },
      "execution_count": null,
      "outputs": []
    },
    {
      "cell_type": "markdown",
      "source": [
        "# Creating message passing network."
      ],
      "metadata": {
        "id": "Kau4CtSN4fAO"
      }
    },
    {
      "cell_type": "code",
      "source": [
        "class BGATConv(MessagePassing):\n",
        "    def __init__(\n",
        "        self,\n",
        "        in_channels,\n",
        "        out_channels,\n",
        "        **kwargs,\n",
        "    ):\n",
        "        kwargs.setdefault('aggr', 'add')\n",
        "        super().__init__(node_dim = 0, **kwargs)\n",
        "        self.in_channels = in_channels\n",
        "        self.out_channels = out_channels\n",
        "        self.lin = torch.nn.Linear(in_channels, out_channels)\n",
        "\n",
        "    def forward(self, x, edge_index):\n",
        "        edge_index, _ = add_self_loops(Data[\"edge_index\"], num_nodes = Data[\"x\"].size(0))\n",
        "        x = self.lin(x)\n",
        "        atten = p_link\n",
        "        return self.propagate(edge_index, x=x, atten = atten)\n",
        "\n",
        "    def message(self, x_j, atten, edge_index_i, edge_index_j):\n",
        "        return atten[edge_index_i, edge_index_j].reshape(-1,1) * x_j\n",
        "\n",
        "    def __repr__(self):\n",
        "        return '{}({}, {})'.format(self.__class__.__name__, self.in_channels, self.out_channels)"
      ],
      "metadata": {
        "id": "fSmNiDaPIEGZ"
      },
      "execution_count": null,
      "outputs": []
    },
    {
      "cell_type": "markdown",
      "source": [
        "# Make GNN layers with our own model, BGAT. We use three BGAT conv"
      ],
      "metadata": {
        "id": "dFWGda4Z4i1v"
      }
    },
    {
      "cell_type": "code",
      "source": [
        "class Myconv(torch.nn.Module):\n",
        "    def __init__(self):\n",
        "        super().__init__()\n",
        "        torch.manual_seed(2)\n",
        "        self.conv1 = BGATConv(in_channels = 500, out_channels = 7)\n",
        "        self.conv2 =  BGATConv(7, 5)\n",
        "\n",
        "\n",
        "    def forward(self, x, edge_index):\n",
        "        h = self.conv1(x, edge_index)\n",
        "        h = F.torch.tanh(h)\n",
        "        h = self.conv2(h, edge_index)\n",
        "        return h\n",
        "\n",
        "model = Myconv()\n",
        "print(model)\n",
        "print(model.forward(Data[\"x\"], Data[\"edge_index\"]))"
      ],
      "metadata": {
        "id": "DMIxOfQJIg2C",
        "colab": {
          "base_uri": "https://localhost:8080/"
        },
        "outputId": "b54252b9-4300-42c1-b96e-57e0549801ad"
      },
      "execution_count": null,
      "outputs": [
        {
          "output_type": "stream",
          "name": "stdout",
          "text": [
            "Myconv(\n",
            "  (conv1): BGATConv(500, 7)\n",
            "  (conv2): BGATConv(7, 5)\n",
            ")\n",
            "tensor([[ 1.5747e+00,  1.6276e-01, -5.9854e-02,  6.2066e-01,  1.8008e-01],\n",
            "        [ 3.3387e+00, -3.7619e+00,  1.3379e+00,  4.0181e-01, -4.7789e+00],\n",
            "        [-5.0024e-01, -1.1075e+00, -1.2383e+00,  2.2114e+00, -1.2564e+00],\n",
            "        [-3.0328e-01, -4.4268e-01, -3.9769e-01,  3.3618e+00,  7.2928e-01],\n",
            "        [ 2.2614e+00, -9.7887e-01, -1.3257e-03,  6.0135e-01,  2.0692e-01],\n",
            "        [ 6.1851e+00, -3.2715e+00,  1.7243e+00, -4.4195e-01, -4.6266e+00],\n",
            "        [ 6.6987e+00,  3.2991e-01, -2.4755e+00,  3.2885e+00, -1.5619e+00],\n",
            "        [-7.7724e-01,  7.9944e-02, -5.7655e-01,  1.3206e-01, -6.1286e-01],\n",
            "        [-2.5452e+00, -1.0275e-01, -4.4038e-01,  3.3876e+00, -1.1169e+00],\n",
            "        [ 1.5450e+00, -1.7516e+00, -1.6505e+00,  3.0160e+00, -9.0901e-01],\n",
            "        [ 1.9426e+00, -1.6184e+00, -1.5471e+00,  4.2116e-02,  2.5391e-01],\n",
            "        [ 3.0346e-02, -1.0381e+00, -1.9407e+00,  2.4746e+00, -1.0803e+00],\n",
            "        [ 4.3604e+00, -3.7654e+00,  3.0977e+00,  4.2402e+00, -6.9849e+00],\n",
            "        [ 9.2727e+00, -8.6810e-01, -2.7219e+00,  6.8330e+00, -5.6197e+00],\n",
            "        [ 9.3839e-01, -1.3240e+00, -1.1193e+00,  2.0190e+00,  4.6847e-01],\n",
            "        [ 1.4411e-01, -1.3650e-01, -2.4586e+00,  2.0704e+00,  6.8911e-01],\n",
            "        [ 2.7574e+00, -1.2307e+00, -1.9231e+00,  1.3566e+00,  8.9873e-01],\n",
            "        [ 5.5698e+00, -5.5217e+00,  2.0472e+00,  3.9854e+00, -8.5032e+00],\n",
            "        [ 1.8906e+00, -1.0218e+00, -8.3480e-01, -9.8162e-01,  3.6936e-01],\n",
            "        [ 1.2252e+01, -1.6716e+00, -2.3099e+00,  7.9030e+00, -6.6317e+00],\n",
            "        [ 7.5237e+00, -4.3186e-01, -1.7221e+00,  4.5896e+00, -4.0535e+00],\n",
            "        [ 1.8477e+00, -2.6976e+00,  4.0552e+00, -6.5188e-01, -4.9083e+00],\n",
            "        [ 2.4728e+00, -1.5818e+00, -1.1537e+00,  1.9312e+00,  8.7285e-01],\n",
            "        [ 6.2910e+00, -4.1268e+00,  2.5394e+00,  5.3362e+00, -7.2836e+00],\n",
            "        [ 4.1530e+00, -3.2797e+00,  2.7128e+00,  2.5205e+00, -6.5232e+00],\n",
            "        [ 1.8961e+00, -5.4551e-01, -1.5167e+00,  8.5142e-01,  1.2526e+00],\n",
            "        [-7.4603e-02, -1.0527e+00, -2.1440e+00,  2.4287e+00, -8.8748e-01],\n",
            "        [ 1.5569e+01, -2.6261e+00, -3.1269e+00,  9.6401e+00, -8.8232e+00],\n",
            "        [ 1.8306e+00, -1.2044e+00, -1.3825e+00,  1.3119e+00,  9.6813e-01],\n",
            "        [ 2.6928e+00, -1.6100e+00, -4.1510e-01, -3.6175e-02,  3.6155e-04],\n",
            "        [ 1.8485e+00, -1.4983e+00, -1.8978e+00,  2.0794e+00,  5.7856e-01],\n",
            "        [ 2.1294e+00, -2.0382e+00,  1.7450e+00, -2.1296e+00, -2.6825e+00],\n",
            "        [ 9.9803e+00, -1.1721e+00, -2.9834e+00,  6.4838e+00, -5.5255e+00],\n",
            "        [ 7.0760e+00,  9.7759e-01, -2.1887e+00,  4.6576e+00, -2.7741e+00],\n",
            "        [ 1.2418e+01, -2.6325e+00, -2.8098e+00,  9.2536e+00, -9.0206e+00],\n",
            "        [-7.5514e-02, -2.9007e-02,  7.5284e-01,  5.2345e-01, -3.4185e-01],\n",
            "        [ 1.2028e+01, -2.0815e-01, -1.5644e+00,  6.7322e+00, -5.6785e+00],\n",
            "        [ 8.3388e+00, -1.2719e+00, -1.5149e+00,  4.4567e+00, -4.2858e+00],\n",
            "        [ 6.4482e+00, -4.4281e+00,  3.8626e+00,  4.0311e+00, -7.9321e+00],\n",
            "        [ 6.9618e+00, -6.1962e+00,  1.9178e+00,  2.4864e+00, -8.2211e+00],\n",
            "        [ 9.8570e-01, -6.7522e-01, -3.9208e-02, -1.0820e+00,  5.5919e-01],\n",
            "        [ 9.2766e+00,  1.9408e-01, -2.8236e+00,  6.7185e+00, -5.0486e+00],\n",
            "        [ 1.0239e+01, -1.0850e+00, -1.6515e+00,  5.7450e+00, -5.7412e+00],\n",
            "        [ 5.3373e+00, -2.3545e+00,  1.6631e+00,  2.2447e+00, -4.3156e+00],\n",
            "        [ 6.0922e+00, -5.0471e+00,  5.0238e-01,  2.6096e+00, -6.1531e+00],\n",
            "        [ 1.4313e+00, -1.3568e+00,  4.2876e-02,  1.5573e+00,  8.4864e-02],\n",
            "        [-3.6489e+00, -1.5059e+00, -4.1041e-02,  5.6167e+00, -2.1286e+00],\n",
            "        [ 4.3135e+00, -5.4846e+00,  1.8396e+00,  4.6632e+00, -7.0123e+00],\n",
            "        [ 5.7171e-01, -2.0059e+00, -2.4718e-01,  4.2967e-01, -3.8322e-01],\n",
            "        [-2.1692e+00, -9.5133e-01, -5.2150e-01,  3.4997e+00, -2.0115e+00],\n",
            "        [ 1.0182e+01, -2.0863e+00, -9.0455e-01,  6.3810e+00, -6.3504e+00],\n",
            "        [-1.0986e+00, -5.9803e-01,  1.0617e+00,  1.9381e+00,  1.1441e-01],\n",
            "        [ 9.0966e-01, -5.5986e-01,  1.0622e+00,  2.8099e-01, -1.7170e+00],\n",
            "        [ 7.7819e-01,  1.0537e+00,  8.5777e-01, -9.4371e-01, -9.4948e-01],\n",
            "        [ 1.0326e-01, -2.1531e-01, -1.7576e-01,  8.5816e-01, -1.5946e+00],\n",
            "        [ 1.2247e+00, -1.1105e+00, -1.5363e+00, -4.9397e-01,  7.1406e-01],\n",
            "        [ 8.1734e-01, -1.6524e-02, -2.7582e+00,  9.8047e-01,  7.2269e-01],\n",
            "        [ 6.2580e+00, -5.8584e+00, -4.0001e+00,  1.0848e+01,  2.4650e-01],\n",
            "        [ 1.9198e+00, -7.5695e-01, -1.3565e+00,  1.1483e+00,  9.5968e-01],\n",
            "        [ 1.5093e+00,  4.8116e-02, -1.1982e-01, -2.2466e-01,  2.0268e-01],\n",
            "        [ 3.1085e-01, -4.7620e-01, -1.0220e-01,  4.2343e-02, -5.7393e-01],\n",
            "        [ 7.4311e-02, -3.4693e-01,  5.2311e-01,  1.2915e+00,  8.4907e-03],\n",
            "        [ 2.0883e+00,  1.7922e+00,  1.2768e+00, -7.4948e-01, -1.0534e+00],\n",
            "        [ 2.4784e+00, -3.9685e-01, -1.0023e+00,  5.3975e-01,  7.6995e-01],\n",
            "        [ 3.3127e+00, -3.0287e+00,  2.6770e+00, -1.3304e+00, -3.6989e+00],\n",
            "        [ 1.5832e+00, -7.8070e-01, -7.7657e-01, -8.5432e-02,  5.7150e-02],\n",
            "        [-3.9899e-02, -5.6976e-02, -1.7863e-01,  6.5991e-02,  6.3780e-01],\n",
            "        [ 1.0571e+01, -9.0690e-01, -5.7346e-01,  5.1957e+00, -4.6259e+00],\n",
            "        [ 1.0539e+00, -6.4647e-01, -1.2144e+00, -1.1320e-01,  5.5860e-01],\n",
            "        [ 5.8494e+00, -1.9443e+00, -1.9466e+00,  5.8585e+00, -6.1955e+00],\n",
            "        [-1.1461e+00,  2.2488e-01, -9.1188e-01,  1.4128e+00, -2.7241e-01],\n",
            "        [-1.6295e+00,  1.4640e-01, -8.2929e-01,  1.9707e-01, -6.4111e-01],\n",
            "        [ 7.9152e+00, -1.9969e+00, -4.2857e-01,  6.3130e+00, -7.6775e+00],\n",
            "        [ 9.6120e+00, -9.1501e-01, -2.0150e+00,  6.4183e+00, -5.3412e+00],\n",
            "        [ 5.0447e+00, -5.4569e+00,  2.3018e-01,  4.5543e+00, -5.1566e+00],\n",
            "        [ 7.9344e-01,  3.4289e-01, -5.4717e-01,  1.8575e-01,  7.2490e-03],\n",
            "        [ 7.0382e-01,  5.3623e-01, -2.8483e+00,  1.6314e+00,  8.7905e-01],\n",
            "        [ 4.6288e+00, -4.3893e+00,  4.5051e-01,  2.1414e+00, -4.5597e+00],\n",
            "        [ 1.0596e+01, -9.2569e-01, -3.7552e+00,  8.4894e+00, -7.1017e+00],\n",
            "        [-4.2370e-01,  2.6931e-01, -5.4353e-01,  3.8323e-01, -9.8839e-01],\n",
            "        [ 2.3878e+00, -2.9562e+00, -7.9390e-01,  5.4351e-01, -3.4379e+00],\n",
            "        [ 9.1184e-02,  4.7945e-01,  3.1703e-01, -2.8011e-01,  5.7498e-01],\n",
            "        [ 2.7171e+00, -2.0082e+00, -6.6068e-01,  3.6608e+00,  6.6772e-01],\n",
            "        [ 1.4395e+01, -2.2398e+00, -8.2044e-01,  8.5603e+00, -9.0501e+00],\n",
            "        [ 1.3915e+01, -7.0241e-01, -2.0858e+00,  7.2369e+00, -6.2590e+00],\n",
            "        [-3.9350e-01, -6.9607e-01, -9.7907e-01,  2.4584e+00, -2.1218e+00],\n",
            "        [ 4.4701e+00, -4.8820e+00,  3.6673e+00,  3.6446e+00, -7.5300e+00],\n",
            "        [ 1.3663e-01, -6.6885e-01,  6.0526e-01,  7.6050e-01, -1.5267e+00],\n",
            "        [ 1.4259e+01, -1.4929e+00, -2.0099e+00,  7.8737e+00, -7.8588e+00],\n",
            "        [ 8.2972e-01,  8.7376e-02, -2.1301e-01,  9.4796e-01, -2.9212e-01],\n",
            "        [ 2.3009e+00, -2.0235e+00, -9.7648e-01,  1.9721e+00, -6.9851e-01],\n",
            "        [ 2.1967e+00, -2.1137e+00, -2.6673e+00,  2.3934e+00,  1.1659e-01],\n",
            "        [ 4.3054e+00, -2.6585e+00, -1.8733e+00, -1.2532e+00,  7.3656e-01],\n",
            "        [ 4.5206e+00, -1.1811e+01, -9.2034e+00,  1.5282e+01, -1.9618e+00],\n",
            "        [ 2.5231e-01, -1.1379e+00, -3.4736e-01,  1.2006e+00,  2.1141e-01],\n",
            "        [ 3.6123e+00, -8.6240e-01, -1.4511e+00,  3.1378e+00, -2.6788e+00],\n",
            "        [-1.9444e-01, -2.6545e+00, -4.3734e+00,  5.1623e+00, -2.4351e+00],\n",
            "        [ 3.9740e+00, -2.2403e+00, -1.5606e+00,  4.9101e+00,  1.0409e+00],\n",
            "        [ 4.5422e+00, -1.8495e+00,  1.6110e+00,  4.5513e+00, -4.1882e+00],\n",
            "        [-2.2007e-01, -8.3941e-01, -1.4809e+00, -5.1757e-01,  4.8993e-01],\n",
            "        [ 9.6037e-01, -4.4547e-01, -1.3576e+00,  2.7341e-01,  2.9045e-01],\n",
            "        [ 1.3505e+00, -1.8694e+00, -2.4790e+00,  2.1783e+00,  3.4992e-02],\n",
            "        [ 2.8361e-01, -7.1831e-01,  3.0195e-01,  4.0356e-01, -1.1767e+00],\n",
            "        [ 1.9813e+00, -2.8147e+00, -3.0050e+00,  3.6459e+00,  8.2967e-02],\n",
            "        [ 1.0071e+01, -1.0802e+00, -2.1598e+00,  6.3152e+00, -5.7878e+00],\n",
            "        [ 6.6589e+00,  2.0448e-01, -2.1192e+00,  3.9922e+00, -2.3664e+00],\n",
            "        [-2.1527e-01,  2.3504e-02,  9.6107e-02,  9.2885e-02,  1.4720e-01],\n",
            "        [ 1.4646e+00,  3.4853e-02, -2.9517e-01,  4.0460e-01, -1.6269e-01],\n",
            "        [ 2.8532e-01, -1.3184e-01, -4.4925e-02,  3.5236e-01, -3.7609e-01],\n",
            "        [ 1.1930e+01, -1.6092e+00, -3.6124e+00,  8.5488e+00, -7.7820e+00],\n",
            "        [ 1.3228e+01, -2.8034e+00, -2.6861e-01,  6.3417e+00, -7.9581e+00],\n",
            "        [ 4.2093e-01, -4.9628e-02, -1.6142e-01,  5.2289e-01, -5.3856e-01],\n",
            "        [ 7.5930e+00, -5.9626e+00,  1.3164e+00,  4.3296e+00, -6.1712e+00],\n",
            "        [-1.0361e+00,  1.0460e-01, -3.1075e-01,  8.2475e-01, -8.9354e-01],\n",
            "        [ 2.4027e-01, -2.6291e+00, -2.2306e+00,  2.2855e+00, -1.1485e+00],\n",
            "        [ 1.6697e+00, -3.9087e+00,  2.4342e+00,  6.0218e-01, -4.8965e+00],\n",
            "        [ 4.3857e+00, -3.4877e+00,  5.5412e+00,  2.0985e+00, -6.7508e+00],\n",
            "        [ 4.3138e+00, -4.6561e+00,  2.4617e+00,  4.3797e-01, -6.2310e+00],\n",
            "        [ 5.7053e+00, -4.4350e+00,  2.0566e+00,  2.9059e+00, -4.8677e+00],\n",
            "        [-3.1819e-01, -2.1736e-01,  4.0730e-01,  5.6686e-01, -8.2743e-01],\n",
            "        [ 1.4988e+00, -1.0944e+00, -2.0832e+00,  1.4704e+00,  6.6776e-01],\n",
            "        [ 4.8068e+00, -4.9530e+00, -5.9047e-01,  4.4710e+00, -4.4456e+00],\n",
            "        [ 1.1214e+00, -3.4755e-01, -7.1614e-01,  1.3219e+00,  1.6283e-01],\n",
            "        [-1.7724e+00, -5.3792e-01, -1.4616e+00,  3.8352e-01, -7.8829e-01],\n",
            "        [ 7.2630e+00, -5.6353e+00,  1.4841e+00,  4.1055e+00, -6.1664e+00],\n",
            "        [ 5.3471e+00, -2.5772e+00, -1.4689e+00,  4.8453e+00, -6.4455e+00],\n",
            "        [ 7.0054e+00, -4.7937e+00,  2.1899e+00,  5.6159e+00, -8.1520e+00],\n",
            "        [ 4.0378e-01, -6.2315e-01, -9.0783e-01,  6.7696e-01,  1.5273e-01],\n",
            "        [ 1.1560e+01, -1.3704e+00, -1.3138e+00,  5.2912e+00, -5.0609e+00],\n",
            "        [ 1.4356e+00,  1.2522e-01,  6.4523e-02,  2.2764e-01,  1.6047e-01],\n",
            "        [ 5.7120e+00, -5.5904e+00,  4.6945e+00,  1.6819e+00, -5.9351e+00],\n",
            "        [ 1.3247e+00, -5.8888e-01,  3.8683e-01, -2.4468e-01, -8.6694e-01],\n",
            "        [-2.4557e-01, -1.9704e+00, -2.7234e+00,  3.4293e+00, -1.7654e+00],\n",
            "        [ 1.5363e+00, -6.8292e-01, -1.0769e+00,  1.1080e+00,  8.0283e-01],\n",
            "        [ 2.1398e+00, -2.1476e+00,  5.4772e-01,  8.0672e-02,  2.1011e-01],\n",
            "        [-1.4371e+00, -3.1105e-01,  1.0832e+00,  1.5888e+00,  2.3144e-01],\n",
            "        [-3.1092e-01,  9.0547e-02,  6.3066e-01,  4.2822e-02, -1.3243e+00],\n",
            "        [ 2.7987e+00,  5.3647e-01, -4.0339e-01,  1.9067e+00,  1.4144e-01],\n",
            "        [ 2.0553e+00, -1.7901e+00, -1.8339e+00,  2.1474e+00,  8.1154e-01],\n",
            "        [ 1.8828e+00, -7.2300e-01, -5.2748e-01, -5.0590e-01,  7.6252e-02],\n",
            "        [ 7.5632e+00, -1.2475e+00, -3.3600e+00,  6.5159e+00, -5.7639e+00],\n",
            "        [ 7.9563e+00,  1.8000e+00, -3.2816e+00,  4.8807e+00, -1.8475e+00],\n",
            "        [ 1.1403e+00, -1.3004e+00, -9.5081e-01,  2.9913e+00, -2.2845e-01],\n",
            "        [ 1.1173e+00,  7.8049e-01,  8.7003e-01, -2.1321e-01, -3.5870e-01],\n",
            "        [ 5.8167e+00, -4.9445e+00,  8.8997e-01,  3.5572e+00, -5.7632e+00],\n",
            "        [ 2.9304e+00, -3.7831e+00,  2.5221e+00,  4.9672e-01, -5.0574e+00],\n",
            "        [ 2.7806e+00, -1.2443e+00,  4.0449e-02,  2.4123e+00,  2.7871e-01],\n",
            "        [ 1.7236e+00, -7.2698e-01, -1.1657e+00,  2.2217e-01,  9.2783e-01],\n",
            "        [-1.2306e+00, -1.1402e+00, -5.2372e-01,  4.0842e+00, -2.0568e+00],\n",
            "        [ 1.1124e+01,  8.6399e-02, -2.7220e+00,  6.3441e+00, -5.6224e+00]],\n",
            "       grad_fn=<ScatterAddBackward0>)\n"
          ]
        }
      ]
    },
    {
      "cell_type": "markdown",
      "source": [
        "# We take a look at the node embeddings produced by our GNN (before training)."
      ],
      "metadata": {
        "id": "vWjrz7vj4rJ1"
      }
    },
    {
      "cell_type": "code",
      "source": [
        "import matplotlib.pyplot as plt\n",
        "from sklearn.manifold import TSNE\n",
        "import seaborn as sns\n",
        "\n",
        "def visualize(h):\n",
        "    z = TSNE(n_components = 2, random_state = 0).fit_transform(h.detach().numpy())\n",
        "    plt.figure(figsize = (6,4),  dpi = 120)\n",
        "    sns.scatterplot(x = z[:, 0], y = z[:, 1], hue = Data[\"y\"], palette=sns.color_palette(\"bright\",7)).set(title = \"First scenario data T-SNE projection before training (BGAT)\")"
      ],
      "metadata": {
        "id": "IVtBPrD7Ikh7"
      },
      "execution_count": null,
      "outputs": []
    },
    {
      "cell_type": "markdown",
      "source": [
        "Here, we pass in the initial node features x and the graph connectivity information edge_index to the model, and visualize its 2-dimensional embedding."
      ],
      "metadata": {
        "id": "A2kuI8wkmVu3"
      }
    },
    {
      "cell_type": "code",
      "source": [
        "model = Myconv()\n",
        "h = model(Data[\"x\"], Data[\"edge_index\"])\n",
        "\n",
        "print(f'Embedding shape: {list(h.shape)}')\n",
        "visualize(h)"
      ],
      "metadata": {
        "id": "xQhmk3d8IoPy",
        "colab": {
          "base_uri": "https://localhost:8080/",
          "height": 519
        },
        "outputId": "922228f7-562b-4bc8-f82e-b60aeb340b38"
      },
      "execution_count": null,
      "outputs": [
        {
          "output_type": "stream",
          "name": "stdout",
          "text": [
            "Embedding shape: [150, 5]\n"
          ]
        },
        {
          "output_type": "stream",
          "name": "stderr",
          "text": [
            "<ipython-input-11-36cf21ec46a1>:8: UserWarning: The palette list has more values (7) than needed (5), which may not be intended.\n",
            "  sns.scatterplot(x = z[:, 0], y = z[:, 1], hue = Data[\"y\"], palette=sns.color_palette(\"bright\",7)).set(title = \"First scenario data T-SNE projection before training (BGAT)\")\n"
          ]
        },
        {
          "output_type": "display_data",
          "data": {
            "text/plain": [
              "<Figure size 720x480 with 1 Axes>"
            ],
            "image/png": "[encoded data removed]"
          },
          "metadata": {}
        }
      ]
    },
    {
      "cell_type": "markdown",
      "source": [
        "# Start training the model."
      ],
      "metadata": {
        "id": "POJzK3aOIl9w"
      }
    },
    {
      "cell_type": "code",
      "source": [
        "import time\n",
        "start_time = time.time()"
      ],
      "metadata": {
        "id": "fIImdvn6Ff6T"
      },
      "execution_count": null,
      "outputs": []
    },
    {
      "cell_type": "code",
      "source": [
        "model = Myconv()\n",
        "criterion = torch.nn.CrossEntropyLoss()  # Define loss criterion.\n",
        "optimizer = torch.optim.Adam(model.parameters(),  lr = 0.0005)  # Define optimizer, an object for updating parameters\n",
        "#loss = loss + weight decay parameter * L2 norm of the weights, 1) To prevent overfitting 2) To keep the weights small and avoid exploding gradient\n",
        "\n",
        "def train(Data):\n",
        "    model.train()\n",
        "    optimizer.zero_grad()  # Clear gradients.\n",
        "    # Start forward pass timer\n",
        "    forward_start = time.time()\n",
        "    out = model(Data[\"x\"], Data[\"edge_index\"])\n",
        "    forward_end = time.time()\n",
        "    train_loss = criterion(out[Data[\"train_mask\"]], Data[\"y\"][Data[\"train_mask\"]])  # Compute the loss solely based on the training nodes.\n",
        "    # Start backward pass timer\n",
        "    backward_start = time.time()\n",
        "    train_loss.backward()  # Derive gradients.\n",
        "    optimizer.step()  # Update parameters based on gradients.\n",
        "    backward_end = time.time()\n",
        "\n",
        "    forward_time = forward_end - forward_start\n",
        "    backward_time = backward_end - backward_start\n",
        "    print(f\"Forward Pass Time: {forward_time:.4f} seconds | Backward Pass Time: {backward_time:.4f} seconds\")\n",
        "    return train_loss\n",
        "\n",
        "\n",
        "def val(Data):\n",
        "      model.eval()\n",
        "      with torch.no_grad():\n",
        "        out = model(Data[\"x\"], Data[\"edge_index\"])\n",
        "        val_loss = criterion(out[Data[\"val_mask\"]], Data[\"y\"][Data[\"val_mask\"]])\n",
        "        return val_loss\n"
      ],
      "metadata": {
        "id": "69Q_WAuoJuSp"
      },
      "execution_count": null,
      "outputs": []
    },
    {
      "cell_type": "code",
      "source": [
        "end_time = time.time()\n",
        "run_time = end_time - start_time\n",
        "print(f\"Runtime: {run_time} seconds\")"
      ],
      "metadata": {
        "colab": {
          "base_uri": "https://localhost:8080/"
        },
        "id": "TOWhqvEgFcmo",
        "outputId": "2416f122-51ae-42fe-843a-f7bafc001de1"
      },
      "execution_count": null,
      "outputs": [
        {
          "output_type": "stream",
          "name": "stdout",
          "text": [
            "Runtime: 0.06969761848449707 seconds\n"
          ]
        }
      ]
    },
    {
      "cell_type": "code",
      "source": [
        "train_loss_ = []\n",
        "val_loss_ = []\n",
        "\n",
        "# Start timer before training begins\n",
        "start_time = time.time()\n",
        "\n",
        "for epoch in range(1, 101):\n",
        "    # Start timer for the epoch\n",
        "    epoch_start_time = time.time()\n",
        "\n",
        "    # Initialize lists to track forward and backward pass times\n",
        "    forward_times = []\n",
        "    backward_times = []\n",
        "\n",
        "    epoch_train_loss = []\n",
        "    epoch_val_loss = []\n",
        "\n",
        "    # Training\n",
        "    model.train()\n",
        "    optimizer.zero_grad()  # Clear gradients\n",
        "\n",
        "    # Measure forward pass time\n",
        "    forward_start = time.time()\n",
        "    out = model(Data[\"x\"], Data[\"edge_index\"])  # Forward pass\n",
        "    forward_end = time.time()\n",
        "\n",
        "    # Compute loss\n",
        "    train_loss = criterion(out[Data[\"train_mask\"]], Data[\"y\"][Data[\"train_mask\"]])\n",
        "\n",
        "    # Measure backward pass time\n",
        "    backward_start = time.time()\n",
        "    train_loss.backward()  # Backward pass\n",
        "    optimizer.step()  # Update parameters\n",
        "    backward_end = time.time()\n",
        "\n",
        "    # Record forward and backward pass times\n",
        "    forward_times.append(forward_end - forward_start)\n",
        "    backward_times.append(backward_end - backward_start)\n",
        "\n",
        "    # Record training loss\n",
        "    epoch_train_loss.append(train_loss.item())\n",
        "\n",
        "    # Validation\n",
        "    model.eval()\n",
        "    with torch.no_grad():\n",
        "        out = model(Data[\"x\"], Data[\"edge_index\"])\n",
        "        val_loss = criterion(out[Data[\"val_mask\"]], Data[\"y\"][Data[\"val_mask\"]])\n",
        "        epoch_val_loss.append(val_loss.item())\n",
        "\n",
        "    # Append epoch-wise average loss\n",
        "    train_loss_.append(sum(epoch_train_loss) / len(epoch_train_loss))\n",
        "    val_loss_.append(sum(epoch_val_loss) / len(epoch_val_loss))\n",
        "\n",
        "    # End timer for the epoch\n",
        "    epoch_end_time = time.time()\n",
        "    epoch_time = epoch_end_time - epoch_start_time\n",
        "\n",
        "    # Log losses and times\n",
        "    print(epoch,\n",
        "      f'Train Loss: {train_loss_[-1]:.3f} | Val Loss: {val_loss_[-1]:.3f} | '\n",
        "      f'Forward Time: {np.mean(forward_times):.4f}s | Backward Time: {np.mean(backward_times):.4f}s | '\n",
        "      f'Epoch Time: {epoch_time:.2f}s')\n",
        "\n",
        "# End timer after training completes\n",
        "end_time = time.time()\n",
        "total_training_time = end_time - start_time\n",
        "\n",
        "print(f\"Total training time: {total_training_time/101:.2f} seconds\")\n",
        "\n"
      ],
      "metadata": {
        "id": "b5qYgRCKJwy8",
        "colab": {
          "base_uri": "https://localhost:8080/"
        },
        "outputId": "5f047b18-3b15-44a4-b752-4ac6c6d9e99a"
      },
      "execution_count": null,
      "outputs": [
        {
          "output_type": "stream",
          "name": "stdout",
          "text": [
            "1 Train Loss: 3.753 | Val Loss: 2.949 | Forward Time: 0.0019s | Backward Time: 0.0449s | Epoch Time: 0.06s\n",
            "2 Train Loss: 2.721 | Val Loss: 1.958 | Forward Time: 0.0015s | Backward Time: 0.0019s | Epoch Time: 0.01s\n",
            "3 Train Loss: 1.718 | Val Loss: 1.448 | Forward Time: 0.0013s | Backward Time: 0.0018s | Epoch Time: 0.01s\n",
            "4 Train Loss: 1.204 | Val Loss: 1.174 | Forward Time: 0.0014s | Backward Time: 0.0017s | Epoch Time: 0.01s\n",
            "5 Train Loss: 0.935 | Val Loss: 1.002 | Forward Time: 0.0014s | Backward Time: 0.0018s | Epoch Time: 0.01s\n",
            "6 Train Loss: 0.811 | Val Loss: 0.886 | Forward Time: 0.0016s | Backward Time: 0.0037s | Epoch Time: 0.01s\n",
            "7 Train Loss: 0.754 | Val Loss: 0.800 | Forward Time: 0.0015s | Backward Time: 0.0018s | Epoch Time: 0.01s\n",
            "8 Train Loss: 0.715 | Val Loss: 0.733 | Forward Time: 0.0015s | Backward Time: 0.0062s | Epoch Time: 0.01s\n",
            "9 Train Loss: 0.683 | Val Loss: 0.679 | Forward Time: 0.0073s | Backward Time: 0.0051s | Epoch Time: 0.02s\n",
            "10 Train Loss: 0.656 | Val Loss: 0.634 | Forward Time: 0.0060s | Backward Time: 0.0022s | Epoch Time: 0.01s\n",
            "11 Train Loss: 0.632 | Val Loss: 0.597 | Forward Time: 0.0018s | Backward Time: 0.0022s | Epoch Time: 0.01s\n",
            "12 Train Loss: 0.610 | Val Loss: 0.564 | Forward Time: 0.0127s | Backward Time: 0.0026s | Epoch Time: 0.03s\n",
            "13 Train Loss: 0.590 | Val Loss: 0.536 | Forward Time: 0.0039s | Backward Time: 0.0054s | Epoch Time: 0.02s\n",
            "14 Train Loss: 0.571 | Val Loss: 0.510 | Forward Time: 0.0020s | Backward Time: 0.0024s | Epoch Time: 0.01s\n",
            "15 Train Loss: 0.553 | Val Loss: 0.488 | Forward Time: 0.0015s | Backward Time: 0.0018s | Epoch Time: 0.01s\n",
            "16 Train Loss: 0.535 | Val Loss: 0.467 | Forward Time: 0.0016s | Backward Time: 0.0018s | Epoch Time: 0.01s\n",
            "17 Train Loss: 0.518 | Val Loss: 0.448 | Forward Time: 0.0018s | Backward Time: 0.0019s | Epoch Time: 0.01s\n",
            "18 Train Loss: 0.501 | Val Loss: 0.432 | Forward Time: 0.0015s | Backward Time: 0.0019s | Epoch Time: 0.01s\n",
            "19 Train Loss: 0.485 | Val Loss: 0.417 | Forward Time: 0.0014s | Backward Time: 0.0020s | Epoch Time: 0.01s\n",
            "20 Train Loss: 0.470 | Val Loss: 0.403 | Forward Time: 0.0014s | Backward Time: 0.0020s | Epoch Time: 0.01s\n",
            "21 Train Loss: 0.455 | Val Loss: 0.391 | Forward Time: 0.0018s | Backward Time: 0.0018s | Epoch Time: 0.01s\n",
            "22 Train Loss: 0.440 | Val Loss: 0.381 | Forward Time: 0.0032s | Backward Time: 0.0023s | Epoch Time: 0.01s\n",
            "23 Train Loss: 0.426 | Val Loss: 0.371 | Forward Time: 0.0021s | Backward Time: 0.0018s | Epoch Time: 0.01s\n",
            "24 Train Loss: 0.413 | Val Loss: 0.363 | Forward Time: 0.0018s | Backward Time: 0.0019s | Epoch Time: 0.01s\n",
            "25 Train Loss: 0.400 | Val Loss: 0.355 | Forward Time: 0.0017s | Backward Time: 0.0020s | Epoch Time: 0.01s\n",
            "26 Train Loss: 0.387 | Val Loss: 0.348 | Forward Time: 0.0014s | Backward Time: 0.0021s | Epoch Time: 0.01s\n",
            "27 Train Loss: 0.374 | Val Loss: 0.342 | Forward Time: 0.0014s | Backward Time: 0.0130s | Epoch Time: 0.02s\n",
            "28 Train Loss: 0.361 | Val Loss: 0.336 | Forward Time: 0.0017s | Backward Time: 0.0020s | Epoch Time: 0.01s\n",
            "29 Train Loss: 0.349 | Val Loss: 0.331 | Forward Time: 0.0018s | Backward Time: 0.0020s | Epoch Time: 0.01s\n",
            "30 Train Loss: 0.336 | Val Loss: 0.326 | Forward Time: 0.0018s | Backward Time: 0.0020s | Epoch Time: 0.02s\n",
            "31 Train Loss: 0.324 | Val Loss: 0.321 | Forward Time: 0.0019s | Backward Time: 0.0020s | Epoch Time: 0.01s\n",
            "32 Train Loss: 0.312 | Val Loss: 0.317 | Forward Time: 0.0018s | Backward Time: 0.0025s | Epoch Time: 0.01s\n",
            "33 Train Loss: 0.302 | Val Loss: 0.313 | Forward Time: 0.0017s | Backward Time: 0.0020s | Epoch Time: 0.01s\n",
            "34 Train Loss: 0.292 | Val Loss: 0.308 | Forward Time: 0.0016s | Backward Time: 0.0019s | Epoch Time: 0.01s\n",
            "35 Train Loss: 0.283 | Val Loss: 0.304 | Forward Time: 0.0014s | Backward Time: 0.0019s | Epoch Time: 0.01s\n",
            "36 Train Loss: 0.275 | Val Loss: 0.300 | Forward Time: 0.0016s | Backward Time: 0.0019s | Epoch Time: 0.01s\n",
            "37 Train Loss: 0.268 | Val Loss: 0.296 | Forward Time: 0.0014s | Backward Time: 0.0019s | Epoch Time: 0.01s\n",
            "38 Train Loss: 0.261 | Val Loss: 0.292 | Forward Time: 0.0014s | Backward Time: 0.0019s | Epoch Time: 0.01s\n",
            "39 Train Loss: 0.256 | Val Loss: 0.289 | Forward Time: 0.0014s | Backward Time: 0.0016s | Epoch Time: 0.01s\n",
            "40 Train Loss: 0.250 | Val Loss: 0.285 | Forward Time: 0.0019s | Backward Time: 0.0019s | Epoch Time: 0.01s\n",
            "41 Train Loss: 0.246 | Val Loss: 0.281 | Forward Time: 0.0016s | Backward Time: 0.0019s | Epoch Time: 0.01s\n",
            "42 Train Loss: 0.241 | Val Loss: 0.278 | Forward Time: 0.0015s | Backward Time: 0.0019s | Epoch Time: 0.01s\n",
            "43 Train Loss: 0.237 | Val Loss: 0.274 | Forward Time: 0.0014s | Backward Time: 0.0028s | Epoch Time: 0.01s\n",
            "44 Train Loss: 0.233 | Val Loss: 0.271 | Forward Time: 0.0017s | Backward Time: 0.0019s | Epoch Time: 0.01s\n",
            "45 Train Loss: 0.230 | Val Loss: 0.267 | Forward Time: 0.0015s | Backward Time: 0.0019s | Epoch Time: 0.01s\n",
            "46 Train Loss: 0.226 | Val Loss: 0.264 | Forward Time: 0.0014s | Backward Time: 0.0126s | Epoch Time: 0.02s\n",
            "47 Train Loss: 0.223 | Val Loss: 0.261 | Forward Time: 0.0021s | Backward Time: 0.0020s | Epoch Time: 0.01s\n",
            "48 Train Loss: 0.220 | Val Loss: 0.258 | Forward Time: 0.0133s | Backward Time: 0.0034s | Epoch Time: 0.02s\n",
            "49 Train Loss: 0.217 | Val Loss: 0.255 | Forward Time: 0.0016s | Backward Time: 0.0022s | Epoch Time: 0.01s\n",
            "50 Train Loss: 0.215 | Val Loss: 0.252 | Forward Time: 0.0016s | Backward Time: 0.0020s | Epoch Time: 0.01s\n",
            "51 Train Loss: 0.212 | Val Loss: 0.250 | Forward Time: 0.0082s | Backward Time: 0.0021s | Epoch Time: 0.01s\n",
            "52 Train Loss: 0.210 | Val Loss: 0.247 | Forward Time: 0.0021s | Backward Time: 0.0021s | Epoch Time: 0.01s\n",
            "53 Train Loss: 0.207 | Val Loss: 0.245 | Forward Time: 0.0174s | Backward Time: 0.0020s | Epoch Time: 0.03s\n",
            "54 Train Loss: 0.205 | Val Loss: 0.242 | Forward Time: 0.0019s | Backward Time: 0.0021s | Epoch Time: 0.01s\n",
            "55 Train Loss: 0.203 | Val Loss: 0.240 | Forward Time: 0.0015s | Backward Time: 0.0019s | Epoch Time: 0.01s\n",
            "56 Train Loss: 0.201 | Val Loss: 0.238 | Forward Time: 0.0016s | Backward Time: 0.0020s | Epoch Time: 0.01s\n",
            "57 Train Loss: 0.199 | Val Loss: 0.236 | Forward Time: 0.0017s | Backward Time: 0.0040s | Epoch Time: 0.02s\n",
            "58 Train Loss: 0.197 | Val Loss: 0.233 | Forward Time: 0.0017s | Backward Time: 0.0056s | Epoch Time: 0.01s\n",
            "59 Train Loss: 0.195 | Val Loss: 0.231 | Forward Time: 0.0015s | Backward Time: 0.0019s | Epoch Time: 0.01s\n",
            "60 Train Loss: 0.193 | Val Loss: 0.229 | Forward Time: 0.0019s | Backward Time: 0.0020s | Epoch Time: 0.01s\n",
            "61 Train Loss: 0.191 | Val Loss: 0.227 | Forward Time: 0.0016s | Backward Time: 0.0019s | Epoch Time: 0.01s\n",
            "62 Train Loss: 0.189 | Val Loss: 0.225 | Forward Time: 0.0014s | Backward Time: 0.0019s | Epoch Time: 0.01s\n",
            "63 Train Loss: 0.187 | Val Loss: 0.223 | Forward Time: 0.0013s | Backward Time: 0.0020s | Epoch Time: 0.01s\n",
            "64 Train Loss: 0.186 | Val Loss: 0.221 | Forward Time: 0.0014s | Backward Time: 0.0018s | Epoch Time: 0.01s\n",
            "65 Train Loss: 0.184 | Val Loss: 0.220 | Forward Time: 0.0014s | Backward Time: 0.0017s | Epoch Time: 0.01s\n",
            "66 Train Loss: 0.182 | Val Loss: 0.218 | Forward Time: 0.0014s | Backward Time: 0.0020s | Epoch Time: 0.01s\n",
            "67 Train Loss: 0.180 | Val Loss: 0.216 | Forward Time: 0.0015s | Backward Time: 0.0018s | Epoch Time: 0.01s\n",
            "68 Train Loss: 0.179 | Val Loss: 0.214 | Forward Time: 0.0014s | Backward Time: 0.0019s | Epoch Time: 0.01s\n",
            "69 Train Loss: 0.177 | Val Loss: 0.212 | Forward Time: 0.0015s | Backward Time: 0.0019s | Epoch Time: 0.01s\n",
            "70 Train Loss: 0.175 | Val Loss: 0.210 | Forward Time: 0.0012s | Backward Time: 0.0015s | Epoch Time: 0.00s\n",
            "71 Train Loss: 0.173 | Val Loss: 0.209 | Forward Time: 0.0017s | Backward Time: 0.0070s | Epoch Time: 0.01s\n",
            "72 Train Loss: 0.171 | Val Loss: 0.207 | Forward Time: 0.0016s | Backward Time: 0.0023s | Epoch Time: 0.01s\n",
            "73 Train Loss: 0.170 | Val Loss: 0.205 | Forward Time: 0.0018s | Backward Time: 0.0022s | Epoch Time: 0.01s\n",
            "74 Train Loss: 0.168 | Val Loss: 0.203 | Forward Time: 0.0018s | Backward Time: 0.0131s | Epoch Time: 0.02s\n",
            "75 Train Loss: 0.166 | Val Loss: 0.202 | Forward Time: 0.0018s | Backward Time: 0.0020s | Epoch Time: 0.01s\n",
            "76 Train Loss: 0.164 | Val Loss: 0.200 | Forward Time: 0.0018s | Backward Time: 0.0020s | Epoch Time: 0.01s\n",
            "77 Train Loss: 0.162 | Val Loss: 0.198 | Forward Time: 0.0020s | Backward Time: 0.0020s | Epoch Time: 0.01s\n",
            "78 Train Loss: 0.160 | Val Loss: 0.197 | Forward Time: 0.0119s | Backward Time: 0.0069s | Epoch Time: 0.02s\n",
            "79 Train Loss: 0.159 | Val Loss: 0.195 | Forward Time: 0.0020s | Backward Time: 0.0074s | Epoch Time: 0.01s\n",
            "80 Train Loss: 0.157 | Val Loss: 0.194 | Forward Time: 0.0017s | Backward Time: 0.0061s | Epoch Time: 0.01s\n",
            "81 Train Loss: 0.156 | Val Loss: 0.192 | Forward Time: 0.0028s | Backward Time: 0.0044s | Epoch Time: 0.02s\n",
            "82 Train Loss: 0.154 | Val Loss: 0.191 | Forward Time: 0.0020s | Backward Time: 0.0019s | Epoch Time: 0.02s\n",
            "83 Train Loss: 0.152 | Val Loss: 0.189 | Forward Time: 0.0017s | Backward Time: 0.0020s | Epoch Time: 0.01s\n",
            "84 Train Loss: 0.151 | Val Loss: 0.188 | Forward Time: 0.0178s | Backward Time: 0.0022s | Epoch Time: 0.03s\n",
            "85 Train Loss: 0.149 | Val Loss: 0.187 | Forward Time: 0.0017s | Backward Time: 0.0021s | Epoch Time: 0.01s\n",
            "86 Train Loss: 0.148 | Val Loss: 0.186 | Forward Time: 0.0020s | Backward Time: 0.0020s | Epoch Time: 0.02s\n",
            "87 Train Loss: 0.146 | Val Loss: 0.185 | Forward Time: 0.0019s | Backward Time: 0.0020s | Epoch Time: 0.01s\n",
            "88 Train Loss: 0.144 | Val Loss: 0.184 | Forward Time: 0.0016s | Backward Time: 0.0036s | Epoch Time: 0.02s\n",
            "89 Train Loss: 0.143 | Val Loss: 0.183 | Forward Time: 0.0021s | Backward Time: 0.0021s | Epoch Time: 0.02s\n",
            "90 Train Loss: 0.141 | Val Loss: 0.182 | Forward Time: 0.0035s | Backward Time: 0.0022s | Epoch Time: 0.01s\n",
            "91 Train Loss: 0.139 | Val Loss: 0.181 | Forward Time: 0.0016s | Backward Time: 0.0019s | Epoch Time: 0.01s\n",
            "92 Train Loss: 0.137 | Val Loss: 0.180 | Forward Time: 0.0077s | Backward Time: 0.0057s | Epoch Time: 0.02s\n",
            "93 Train Loss: 0.136 | Val Loss: 0.180 | Forward Time: 0.0024s | Backward Time: 0.0021s | Epoch Time: 0.01s\n",
            "94 Train Loss: 0.134 | Val Loss: 0.179 | Forward Time: 0.0020s | Backward Time: 0.0021s | Epoch Time: 0.01s\n",
            "95 Train Loss: 0.133 | Val Loss: 0.178 | Forward Time: 0.0016s | Backward Time: 0.0019s | Epoch Time: 0.01s\n",
            "96 Train Loss: 0.132 | Val Loss: 0.178 | Forward Time: 0.0015s | Backward Time: 0.0018s | Epoch Time: 0.01s\n",
            "97 Train Loss: 0.130 | Val Loss: 0.177 | Forward Time: 0.0015s | Backward Time: 0.0019s | Epoch Time: 0.01s\n",
            "98 Train Loss: 0.129 | Val Loss: 0.177 | Forward Time: 0.0013s | Backward Time: 0.0017s | Epoch Time: 0.01s\n",
            "99 Train Loss: 0.128 | Val Loss: 0.176 | Forward Time: 0.0014s | Backward Time: 0.0018s | Epoch Time: 0.01s\n",
            "100 Train Loss: 0.127 | Val Loss: 0.175 | Forward Time: 0.0096s | Backward Time: 0.0023s | Epoch Time: 0.01s\n",
            "Total training time: 0.01 seconds\n"
          ]
        }
      ]
    },
    {
      "cell_type": "markdown",
      "source": [
        "# Visualize train loss and val loss."
      ],
      "metadata": {
        "id": "29zlzkdyIp9_"
      }
    },
    {
      "cell_type": "code",
      "source": [
        "plt.plot(train_loss_, \"m\", linewidth = 3)\n",
        "plt.plot(val_loss_, \"k\", linewidth = 3)\n",
        "plt.xlabel('epoch')\n",
        "plt.ylabel('loss')\n",
        "plt.legend(['Train','Val'])\n",
        "plt.title('Train vs Val Loss for the first scenario (BGAT)')\n",
        "plt.grid()\n",
        "plt.show()"
      ],
      "metadata": {
        "id": "VkMWKS4WJy1C",
        "colab": {
          "base_uri": "https://localhost:8080/",
          "height": 472
        },
        "outputId": "c2995b42-53ee-4632-8517-93300dcec0e5"
      },
      "execution_count": null,
      "outputs": [
        {
          "output_type": "display_data",
          "data": {
            "text/plain": [
              "<Figure size 640x480 with 1 Axes>"
            ],
            "image/png": "[encoded data removed]"
          },
          "metadata": {}
        }
      ]
    },
    {
      "cell_type": "code",
      "source": [
        "from kneed import KneeLocator\n",
        "\n",
        "# Plot training and validation loss\n",
        "plt.plot(train_loss_, \"m\", linewidth=3, label=\"Train Loss\")\n",
        "plt.plot(val_loss_, \"k\", linewidth=3, label=\"Validation Loss\")\n",
        "plt.xlabel('Epoch')\n",
        "plt.ylabel('Loss')\n",
        "plt.title('Train vs Val Loss for the First Scenario (BGAT)')\n",
        "plt.legend()\n",
        "plt.grid()\n",
        "\n",
        "# Identify the elbow point\n",
        "epochs = list(range(1, len(train_loss_) + 1))\n",
        "knee_locator = KneeLocator(epochs, val_loss_, curve='convex', direction='decreasing')\n",
        "elbow_epoch = knee_locator.knee\n",
        "print(f\"Elbow Point (Optimal Epoch): {elbow_epoch}\")\n",
        "\n",
        "# Highlight the elbow point on the plot\n",
        "plt.axvline(x=elbow_epoch, color='r', linestyle='--', label=f'Elbow Point: {elbow_epoch}')\n",
        "plt.legend()\n",
        "plt.show()\n"
      ],
      "metadata": {
        "colab": {
          "base_uri": "https://localhost:8080/",
          "height": 490
        },
        "id": "67E12ZO_AeGI",
        "outputId": "7ea73983-e531-45a7-eebb-20ae2e054061"
      },
      "execution_count": null,
      "outputs": [
        {
          "output_type": "stream",
          "name": "stdout",
          "text": [
            "Elbow Point (Optimal Epoch): 13\n"
          ]
        },
        {
          "output_type": "display_data",
          "data": {
            "text/plain": [
              "<Figure size 640x480 with 1 Axes>"
            ],
            "image/png": "[encoded data removed]"
          },
          "metadata": {}
        }
      ]
    },
    {
      "cell_type": "markdown",
      "source": [
        "# Compute the accuracy of the model."
      ],
      "metadata": {
        "id": "XkuGsrzXIs83"
      }
    },
    {
      "cell_type": "code",
      "source": [
        "def test(Data):\n",
        "      model.eval()\n",
        "      with torch.no_grad():\n",
        "        out = model(Data[\"x\"], Data[\"edge_index\"])\n",
        "        pred = out.argmax(dim=1)\n",
        "        test_correct = pred[Data[\"test_mask\"]] == Data[\"y\"][Data[\"test_mask\"]]  # Check against ground-truth labels.\n",
        "        test_acc = int(test_correct.sum()) / int(Data[\"test_mask\"].sum())  # Derive ratio of correct predictions.\n",
        "        return test_acc"
      ],
      "metadata": {
        "id": "SBbfBO5EOsDV"
      },
      "execution_count": null,
      "outputs": []
    },
    {
      "cell_type": "code",
      "source": [
        "test_acc = test(Data)\n",
        "print(f'Test Accuracy: {100*test_acc:.2f}')"
      ],
      "metadata": {
        "id": "Gh89C6dRJ2sb",
        "colab": {
          "base_uri": "https://localhost:8080/"
        },
        "outputId": "17d8f3f4-a74b-4bd9-abbf-7992d6283f46"
      },
      "execution_count": null,
      "outputs": [
        {
          "output_type": "stream",
          "name": "stdout",
          "text": [
            "Test Accuracy: 93.33\n"
          ]
        }
      ]
    },
    {
      "cell_type": "markdown",
      "source": [
        "# We take a look at the node embeddings produced by our GNN (after training)."
      ],
      "metadata": {
        "id": "WVU773LQIwRX"
      }
    },
    {
      "cell_type": "code",
      "source": [
        "import matplotlib.pyplot as plt\n",
        "from sklearn.manifold import TSNE\n",
        "import seaborn as sns\n",
        "\n",
        "def visualize(h):\n",
        "    z = TSNE(n_components = 2, random_state = 0).fit_transform(h.detach().numpy())\n",
        "    plt.figure(figsize = (6,4),  dpi = 120)\n",
        "    sns.scatterplot(x = z[:, 0], y = z[:, 1], hue = Data[\"y\"], palette=sns.color_palette(\"bright\",7)).set(title = \"First scenario T-SNE projection after training (BGAT)\")"
      ],
      "metadata": {
        "id": "pVCxS6l45Fna"
      },
      "execution_count": null,
      "outputs": []
    },
    {
      "cell_type": "code",
      "source": [
        "model.eval()\n",
        "out = model(Data[\"x\"], Data[\"edge_index\"])\n",
        "visualize(out)"
      ],
      "metadata": {
        "id": "RhPNAmcZKeU6",
        "colab": {
          "base_uri": "https://localhost:8080/",
          "height": 501
        },
        "outputId": "44a279b7-eb01-4e69-c492-03cfbf3b71ce"
      },
      "execution_count": null,
      "outputs": [
        {
          "output_type": "stream",
          "name": "stderr",
          "text": [
            "<ipython-input-21-89a0fc2848bb>:8: UserWarning: The palette list has more values (7) than needed (5), which may not be intended.\n",
            "  sns.scatterplot(x = z[:, 0], y = z[:, 1], hue = Data[\"y\"], palette=sns.color_palette(\"bright\",7)).set(title = \"First scenario T-SNE projection after training (BGAT)\")\n"
          ]
        },
        {
          "output_type": "display_data",
          "data": {
            "text/plain": [
              "<Figure size 720x480 with 1 Axes>"
            ],
            "image/png": "[encoded data removed]"
          },
          "metadata": {}
        }
      ]
    },
    {
      "cell_type": "markdown",
      "source": [
        "# Confusion matrix."
      ],
      "metadata": {
        "id": "JfX0fs3yXazh"
      }
    },
    {
      "cell_type": "code",
      "source": [
        "pred_t = out.argmax(dim=1)\n",
        "pred_t"
      ],
      "metadata": {
        "id": "xbDyi9yZ8N9g",
        "colab": {
          "base_uri": "https://localhost:8080/"
        },
        "outputId": "e89a8502-0bf6-4b18-b6e3-c2e91a27ea80"
      },
      "execution_count": null,
      "outputs": [
        {
          "output_type": "execute_result",
          "data": {
            "text/plain": [
              "tensor([2, 1, 3, 4, 4, 1, 0, 4, 4, 2, 4, 3, 1, 0, 2, 4, 2, 1, 3, 0, 0, 1, 2, 1,\n",
              "        1, 2, 3, 0, 2, 4, 2, 1, 0, 0, 0, 4, 0, 0, 1, 1, 3, 0, 0, 1, 1, 4, 4, 1,\n",
              "        3, 4, 0, 4, 3, 3, 3, 3, 4, 2, 2, 2, 4, 4, 3, 2, 1, 3, 3, 0, 3, 0, 4, 4,\n",
              "        0, 0, 1, 2, 4, 1, 0, 4, 1, 3, 2, 0, 0, 4, 1, 3, 0, 4, 2, 2, 3, 2, 4, 3,\n",
              "        3, 2, 1, 4, 4, 2, 1, 2, 0, 0, 4, 2, 3, 0, 0, 0, 1, 4, 3, 1, 1, 1, 1, 3,\n",
              "        2, 1, 2, 4, 1, 0, 1, 2, 0, 2, 1, 3, 3, 2, 2, 4, 3, 4, 2, 3, 0, 0, 2, 3,\n",
              "        1, 1, 2, 2, 4, 0])"
            ]
          },
          "metadata": {},
          "execution_count": 23
        }
      ]
    },
    {
      "cell_type": "code",
      "source": [
        "Data[\"y\"]"
      ],
      "metadata": {
        "colab": {
          "base_uri": "https://localhost:8080/"
        },
        "id": "AyhKrzCJMCR5",
        "outputId": "dc96e5fd-6e7c-4a11-ba8e-2ef90fbaf919"
      },
      "execution_count": null,
      "outputs": [
        {
          "output_type": "execute_result",
          "data": {
            "text/plain": [
              "tensor([2, 1, 3, 4, 4, 1, 0, 4, 4, 2, 4, 3, 1, 0, 2, 4, 2, 1, 3, 0, 0, 1, 2, 1,\n",
              "        1, 2, 3, 0, 2, 4, 2, 1, 0, 0, 0, 3, 0, 0, 1, 1, 3, 0, 0, 1, 1, 4, 4, 1,\n",
              "        3, 4, 0, 4, 3, 3, 3, 3, 4, 2, 2, 2, 4, 4, 3, 2, 1, 3, 3, 0, 3, 0, 4, 4,\n",
              "        0, 0, 1, 2, 4, 1, 0, 4, 1, 3, 2, 0, 0, 4, 1, 3, 0, 4, 2, 2, 3, 2, 4, 3,\n",
              "        3, 2, 1, 4, 4, 2, 4, 2, 0, 0, 4, 2, 3, 0, 0, 3, 1, 4, 3, 1, 1, 1, 1, 3,\n",
              "        2, 1, 2, 4, 1, 0, 1, 3, 0, 2, 1, 3, 3, 2, 2, 4, 3, 4, 2, 3, 0, 0, 2, 3,\n",
              "        1, 1, 2, 2, 4, 0])"
            ]
          },
          "metadata": {},
          "execution_count": 24
        }
      ]
    },
    {
      "cell_type": "code",
      "source": [
        "import seaborn as sn\n",
        "confusion_matrix = pd.crosstab(Data['y'], pred_t, rownames=['Actual'], colnames = ['Predicted'], margins = True)\n",
        "plt.figure(figsize=(8, 6))\n",
        "sn.heatmap(confusion_matrix, annot=True,  cmap=\"Blues\", fmt='g')\n",
        "plt.title('First scenario, confusion matrix (BGAT) for the whole data')\n",
        "plt.show()"
      ],
      "metadata": {
        "colab": {
          "base_uri": "https://localhost:8080/",
          "height": 564
        },
        "id": "dLhrRNZWMEfp",
        "outputId": "fb46b440-65a3-4f02-fb1e-b13f4d0f0c96"
      },
      "execution_count": null,
      "outputs": [
        {
          "output_type": "display_data",
          "data": {
            "text/plain": [
              "<Figure size 800x600 with 2 Axes>"
            ],
            "image/png": "[encoded data removed]"
          },
          "metadata": {}
        }
      ]
    },
    {
      "cell_type": "code",
      "source": [
        "pred = pred_t[Data[\"test_mask\"]]"
      ],
      "metadata": {
        "id": "zcYjhtWZMGbM"
      },
      "execution_count": null,
      "outputs": []
    },
    {
      "cell_type": "code",
      "source": [
        "act = Data[\"y\"][Data[\"test_mask\"]]"
      ],
      "metadata": {
        "id": "98XQZKoYMHjY"
      },
      "execution_count": null,
      "outputs": []
    },
    {
      "cell_type": "code",
      "source": [
        "data = {'y_Actual':    act,\n",
        "        'y_Predicted':pred\n",
        "        }\n",
        "\n",
        "df = pd.DataFrame(data, columns = ['y_Actual','y_Predicted'])\n",
        "df"
      ],
      "metadata": {
        "colab": {
          "base_uri": "https://localhost:8080/",
          "height": 519
        },
        "id": "-VJ9j9SfMJOs",
        "outputId": "a533acac-1ab8-45e9-9b5d-ea3f04c3a51f"
      },
      "execution_count": null,
      "outputs": [
        {
          "output_type": "execute_result",
          "data": {
            "text/plain": [
              "    y_Actual  y_Predicted\n",
              "0          1            1\n",
              "1          2            2\n",
              "2          2            2\n",
              "3          3            4\n",
              "4          4            4\n",
              "5          0            0\n",
              "6          2            2\n",
              "7          4            4\n",
              "8          0            0\n",
              "9          4            4\n",
              "10         1            1\n",
              "11         3            3\n",
              "12         0            0\n",
              "13         3            3\n",
              "14         1            1"
            ],
            "text/html": [
              "\n",
              "  <div id=\"df-aa8f8ec2-3913-4677-abff-ba894f6e2e90\" class=\"colab-df-container\">\n",
              "    <div>\n",
              "<style scoped>\n",
              "    .dataframe tbody tr th:only-of-type {\n",
              "        vertical-align: middle;\n",
              "    }\n",
              "\n",
              "    .dataframe tbody tr th {\n",
              "        vertical-align: top;\n",
              "    }\n",
              "\n",
              "    .dataframe thead th {\n",
              "        text-align: right;\n",
              "    }\n",
              "</style>\n",
              "<table border=\"1\" class=\"dataframe\">\n",
              "  <thead>\n",
              "    <tr style=\"text-align: right;\">\n",
              "      <th></th>\n",
              "      <th>y_Actual</th>\n",
              "      <th>y_Predicted</th>\n",
              "    </tr>\n",
              "  </thead>\n",
              "  <tbody>\n",
              "    <tr>\n",
              "      <th>0</th>\n",
              "      <td>1</td>\n",
              "      <td>1</td>\n",
              "    </tr>\n",
              "    <tr>\n",
              "      <th>1</th>\n",
              "      <td>2</td>\n",
              "      <td>2</td>\n",
              "    </tr>\n",
              "    <tr>\n",
              "      <th>2</th>\n",
              "      <td>2</td>\n",
              "      <td>2</td>\n",
              "    </tr>\n",
              "    <tr>\n",
              "      <th>3</th>\n",
              "      <td>3</td>\n",
              "      <td>4</td>\n",
              "    </tr>\n",
              "    <tr>\n",
              "      <th>4</th>\n",
              "      <td>4</td>\n",
              "      <td>4</td>\n",
              "    </tr>\n",
              "    <tr>\n",
              "      <th>5</th>\n",
              "      <td>0</td>\n",
              "      <td>0</td>\n",
              "    </tr>\n",
              "    <tr>\n",
              "      <th>6</th>\n",
              "      <td>2</td>\n",
              "      <td>2</td>\n",
              "    </tr>\n",
              "    <tr>\n",
              "      <th>7</th>\n",
              "      <td>4</td>\n",
              "      <td>4</td>\n",
              "    </tr>\n",
              "    <tr>\n",
              "      <th>8</th>\n",
              "      <td>0</td>\n",
              "      <td>0</td>\n",
              "    </tr>\n",
              "    <tr>\n",
              "      <th>9</th>\n",
              "      <td>4</td>\n",
              "      <td>4</td>\n",
              "    </tr>\n",
              "    <tr>\n",
              "      <th>10</th>\n",
              "      <td>1</td>\n",
              "      <td>1</td>\n",
              "    </tr>\n",
              "    <tr>\n",
              "      <th>11</th>\n",
              "      <td>3</td>\n",
              "      <td>3</td>\n",
              "    </tr>\n",
              "    <tr>\n",
              "      <th>12</th>\n",
              "      <td>0</td>\n",
              "      <td>0</td>\n",
              "    </tr>\n",
              "    <tr>\n",
              "      <th>13</th>\n",
              "      <td>3</td>\n",
              "      <td>3</td>\n",
              "    </tr>\n",
              "    <tr>\n",
              "      <th>14</th>\n",
              "      <td>1</td>\n",
              "      <td>1</td>\n",
              "    </tr>\n",
              "  </tbody>\n",
              "</table>\n",
              "</div>\n",
              "    <div class=\"colab-df-buttons\">\n",
              "\n",
              "  <div class=\"colab-df-container\">\n",
              "    <button class=\"colab-df-convert\" onclick=\"convertToInteractive('df-aa8f8ec2-3913-4677-abff-ba894f6e2e90')\"\n",
              "            title=\"Convert this dataframe to an interactive table.\"\n",
              "            style=\"display:none;\">\n",
              "\n",
              "  <svg xmlns=\"http://www.w3.org/2000/svg\" height=\"24px\" viewBox=\"0 -960 960 960\">\n",
              "    <path d=\"M120-120v-720h720v720H120Zm60-500h600v-160H180v160Zm220 220h160v-160H400v160Zm0 220h160v-160H400v160ZM180-400h160v-160H180v160Zm440 0h160v-160H620v160ZM180-180h160v-160H180v160Zm440 0h160v-160H620v160Z\"/>\n",
              "  </svg>\n",
              "    </button>\n",
              "\n",
              "  <style>\n",
              "    .colab-df-container {\n",
              "      display:flex;\n",
              "      gap: 12px;\n",
              "    }\n",
              "\n",
              "    .colab-df-convert {\n",
              "      background-color: #E8F0FE;\n",
              "      border: none;\n",
              "      border-radius: 50%;\n",
              "      cursor: pointer;\n",
              "      display: none;\n",
              "      fill: #1967D2;\n",
              "      height: 32px;\n",
              "      padding: 0 0 0 0;\n",
              "      width: 32px;\n",
              "    }\n",
              "\n",
              "    .colab-df-convert:hover {\n",
              "      background-color: #E2EBFA;\n",
              "      box-shadow: 0px 1px 2px rgba(60, 64, 67, 0.3), 0px 1px 3px 1px rgba(60, 64, 67, 0.15);\n",
              "      fill: #174EA6;\n",
              "    }\n",
              "\n",
              "    .colab-df-buttons div {\n",
              "      margin-bottom: 4px;\n",
              "    }\n",
              "\n",
              "    [theme=dark] .colab-df-convert {\n",
              "      background-color: #3B4455;\n",
              "      fill: #D2E3FC;\n",
              "    }\n",
              "\n",
              "    [theme=dark] .colab-df-convert:hover {\n",
              "      background-color: #434B5C;\n",
              "      box-shadow: 0px 1px 3px 1px rgba(0, 0, 0, 0.15);\n",
              "      filter: drop-shadow(0px 1px 2px rgba(0, 0, 0, 0.3));\n",
              "      fill: #FFFFFF;\n",
              "    }\n",
              "  </style>\n",
              "\n",
              "    <script>\n",
              "      const buttonEl =\n",
              "        document.querySelector('#df-aa8f8ec2-3913-4677-abff-ba894f6e2e90 button.colab-df-convert');\n",
              "      buttonEl.style.display =\n",
              "        google.colab.kernel.accessAllowed ? 'block' : 'none';\n",
              "\n",
              "      async function convertToInteractive(key) {\n",
              "        const element = document.querySelector('#df-aa8f8ec2-3913-4677-abff-ba894f6e2e90');\n",
              "        const dataTable =\n",
              "          await google.colab.kernel.invokeFunction('convertToInteractive',\n",
              "                                                    [key], {});\n",
              "        if (!dataTable) return;\n",
              "\n",
              "        const docLinkHtml = 'Like what you see? Visit the ' +\n",
              "          '<a target=\"_blank\" href=https://colab.research.google.com/notebooks/data_table.ipynb>data table notebook</a>'\n",
              "          + ' to learn more about interactive tables.';\n",
              "        element.innerHTML = '';\n",
              "        dataTable['output_type'] = 'display_data';\n",
              "        await google.colab.output.renderOutput(dataTable, element);\n",
              "        const docLink = document.createElement('div');\n",
              "        docLink.innerHTML = docLinkHtml;\n",
              "        element.appendChild(docLink);\n",
              "      }\n",
              "    </script>\n",
              "  </div>\n",
              "\n",
              "\n",
              "<div id=\"df-bd4fe4fe-327e-4a28-a08d-797cfdc85d7a\">\n",
              "  <button class=\"colab-df-quickchart\" onclick=\"quickchart('df-bd4fe4fe-327e-4a28-a08d-797cfdc85d7a')\"\n",
              "            title=\"Suggest charts\"\n",
              "            style=\"display:none;\">\n",
              "\n",
              "<svg xmlns=\"http://www.w3.org/2000/svg\" height=\"24px\"viewBox=\"0 0 24 24\"\n",
              "     width=\"24px\">\n",
              "    <g>\n",
              "        <path d=\"M19 3H5c-1.1 0-2 .9-2 2v14c0 1.1.9 2 2 2h14c1.1 0 2-.9 2-2V5c0-1.1-.9-2-2-2zM9 17H7v-7h2v7zm4 0h-2V7h2v10zm4 0h-2v-4h2v4z\"/>\n",
              "    </g>\n",
              "</svg>\n",
              "  </button>\n",
              "\n",
              "<style>\n",
              "  .colab-df-quickchart {\n",
              "      --bg-color: #E8F0FE;\n",
              "      --fill-color: #1967D2;\n",
              "      --hover-bg-color: #E2EBFA;\n",
              "      --hover-fill-color: #174EA6;\n",
              "      --disabled-fill-color: #AAA;\n",
              "      --disabled-bg-color: #DDD;\n",
              "  }\n",
              "\n",
              "  [theme=dark] .colab-df-quickchart {\n",
              "      --bg-color: #3B4455;\n",
              "      --fill-color: #D2E3FC;\n",
              "      --hover-bg-color: #434B5C;\n",
              "      --hover-fill-color: #FFFFFF;\n",
              "      --disabled-bg-color: #3B4455;\n",
              "      --disabled-fill-color: #666;\n",
              "  }\n",
              "\n",
              "  .colab-df-quickchart {\n",
              "    background-color: var(--bg-color);\n",
              "    border: none;\n",
              "    border-radius: 50%;\n",
              "    cursor: pointer;\n",
              "    display: none;\n",
              "    fill: var(--fill-color);\n",
              "    height: 32px;\n",
              "    padding: 0;\n",
              "    width: 32px;\n",
              "  }\n",
              "\n",
              "  .colab-df-quickchart:hover {\n",
              "    background-color: var(--hover-bg-color);\n",
              "    box-shadow: 0 1px 2px rgba(60, 64, 67, 0.3), 0 1px 3px 1px rgba(60, 64, 67, 0.15);\n",
              "    fill: var(--button-hover-fill-color);\n",
              "  }\n",
              "\n",
              "  .colab-df-quickchart-complete:disabled,\n",
              "  .colab-df-quickchart-complete:disabled:hover {\n",
              "    background-color: var(--disabled-bg-color);\n",
              "    fill: var(--disabled-fill-color);\n",
              "    box-shadow: none;\n",
              "  }\n",
              "\n",
              "  .colab-df-spinner {\n",
              "    border: 2px solid var(--fill-color);\n",
              "    border-color: transparent;\n",
              "    border-bottom-color: var(--fill-color);\n",
              "    animation:\n",
              "      spin 1s steps(1) infinite;\n",
              "  }\n",
              "\n",
              "  @keyframes spin {\n",
              "    0% {\n",
              "      border-color: transparent;\n",
              "      border-bottom-color: var(--fill-color);\n",
              "      border-left-color: var(--fill-color);\n",
              "    }\n",
              "    20% {\n",
              "      border-color: transparent;\n",
              "      border-left-color: var(--fill-color);\n",
              "      border-top-color: var(--fill-color);\n",
              "    }\n",
              "    30% {\n",
              "      border-color: transparent;\n",
              "      border-left-color: var(--fill-color);\n",
              "      border-top-color: var(--fill-color);\n",
              "      border-right-color: var(--fill-color);\n",
              "    }\n",
              "    40% {\n",
              "      border-color: transparent;\n",
              "      border-right-color: var(--fill-color);\n",
              "      border-top-color: var(--fill-color);\n",
              "    }\n",
              "    60% {\n",
              "      border-color: transparent;\n",
              "      border-right-color: var(--fill-color);\n",
              "    }\n",
              "    80% {\n",
              "      border-color: transparent;\n",
              "      border-right-color: var(--fill-color);\n",
              "      border-bottom-color: var(--fill-color);\n",
              "    }\n",
              "    90% {\n",
              "      border-color: transparent;\n",
              "      border-bottom-color: var(--fill-color);\n",
              "    }\n",
              "  }\n",
              "</style>\n",
              "\n",
              "  <script>\n",
              "    async function quickchart(key) {\n",
              "      const quickchartButtonEl =\n",
              "        document.querySelector('#' + key + ' button');\n",
              "      quickchartButtonEl.disabled = true;  // To prevent multiple clicks.\n",
              "      quickchartButtonEl.classList.add('colab-df-spinner');\n",
              "      try {\n",
              "        const charts = await google.colab.kernel.invokeFunction(\n",
              "            'suggestCharts', [key], {});\n",
              "      } catch (error) {\n",
              "        console.error('Error during call to suggestCharts:', error);\n",
              "      }\n",
              "      quickchartButtonEl.classList.remove('colab-df-spinner');\n",
              "      quickchartButtonEl.classList.add('colab-df-quickchart-complete');\n",
              "    }\n",
              "    (() => {\n",
              "      let quickchartButtonEl =\n",
              "        document.querySelector('#df-bd4fe4fe-327e-4a28-a08d-797cfdc85d7a button');\n",
              "      quickchartButtonEl.style.display =\n",
              "        google.colab.kernel.accessAllowed ? 'block' : 'none';\n",
              "    })();\n",
              "  </script>\n",
              "</div>\n",
              "\n",
              "  <div id=\"id_5c677e1d-3c97-414d-85ea-8801ef118a3c\">\n",
              "    <style>\n",
              "      .colab-df-generate {\n",
              "        background-color: #E8F0FE;\n",
              "        border: none;\n",
              "        border-radius: 50%;\n",
              "        cursor: pointer;\n",
              "        display: none;\n",
              "        fill: #1967D2;\n",
              "        height: 32px;\n",
              "        padding: 0 0 0 0;\n",
              "        width: 32px;\n",
              "      }\n",
              "\n",
              "      .colab-df-generate:hover {\n",
              "        background-color: #E2EBFA;\n",
              "        box-shadow: 0px 1px 2px rgba(60, 64, 67, 0.3), 0px 1px 3px 1px rgba(60, 64, 67, 0.15);\n",
              "        fill: #174EA6;\n",
              "      }\n",
              "\n",
              "      [theme=dark] .colab-df-generate {\n",
              "        background-color: #3B4455;\n",
              "        fill: #D2E3FC;\n",
              "      }\n",
              "\n",
              "      [theme=dark] .colab-df-generate:hover {\n",
              "        background-color: #434B5C;\n",
              "        box-shadow: 0px 1px 3px 1px rgba(0, 0, 0, 0.15);\n",
              "        filter: drop-shadow(0px 1px 2px rgba(0, 0, 0, 0.3));\n",
              "        fill: #FFFFFF;\n",
              "      }\n",
              "    </style>\n",
              "    <button class=\"colab-df-generate\" onclick=\"generateWithVariable('df')\"\n",
              "            title=\"Generate code using this dataframe.\"\n",
              "            style=\"display:none;\">\n",
              "\n",
              "  <svg xmlns=\"http://www.w3.org/2000/svg\" height=\"24px\"viewBox=\"0 0 24 24\"\n",
              "       width=\"24px\">\n",
              "    <path d=\"M7,19H8.4L18.45,9,17,7.55,7,17.6ZM5,21V16.75L18.45,3.32a2,2,0,0,1,2.83,0l1.4,1.43a1.91,1.91,0,0,1,.58,1.4,1.91,1.91,0,0,1-.58,1.4L9.25,21ZM18.45,9,17,7.55Zm-12,3A5.31,5.31,0,0,0,4.9,8.1,5.31,5.31,0,0,0,1,6.5,5.31,5.31,0,0,0,4.9,4.9,5.31,5.31,0,0,0,6.5,1,5.31,5.31,0,0,0,8.1,4.9,5.31,5.31,0,0,0,12,6.5,5.46,5.46,0,0,0,6.5,12Z\"/>\n",
              "  </svg>\n",
              "    </button>\n",
              "    <script>\n",
              "      (() => {\n",
              "      const buttonEl =\n",
              "        document.querySelector('#id_5c677e1d-3c97-414d-85ea-8801ef118a3c button.colab-df-generate');\n",
              "      buttonEl.style.display =\n",
              "        google.colab.kernel.accessAllowed ? 'block' : 'none';\n",
              "\n",
              "      buttonEl.onclick = () => {\n",
              "        google.colab.notebook.generateWithVariable('df');\n",
              "      }\n",
              "      })();\n",
              "    </script>\n",
              "  </div>\n",
              "\n",
              "    </div>\n",
              "  </div>\n"
            ],
            "application/vnd.google.colaboratory.intrinsic+json": {
              "type": "dataframe",
              "variable_name": "df",
              "summary": "{\n  \"name\": \"df\",\n  \"rows\": 15,\n  \"fields\": [\n    {\n      \"column\": \"y_Actual\",\n      \"properties\": {\n        \"dtype\": \"number\",\n        \"std\": 1,\n        \"min\": 0,\n        \"max\": 4,\n        \"num_unique_values\": 5,\n        \"samples\": [\n          2,\n          0,\n          3\n        ],\n        \"semantic_type\": \"\",\n        \"description\": \"\"\n      }\n    },\n    {\n      \"column\": \"y_Predicted\",\n      \"properties\": {\n        \"dtype\": \"number\",\n        \"std\": 1,\n        \"min\": 0,\n        \"max\": 4,\n        \"num_unique_values\": 5,\n        \"samples\": [\n          2,\n          3,\n          4\n        ],\n        \"semantic_type\": \"\",\n        \"description\": \"\"\n      }\n    }\n  ]\n}"
            }
          },
          "metadata": {},
          "execution_count": 28
        }
      ]
    },
    {
      "cell_type": "code",
      "source": [
        "import seaborn as sn\n",
        "confusion_matrix = pd.crosstab(act, pred, rownames=['Actual'], colnames = ['Predicted'], margins = True)\n",
        "plt.figure(figsize=(8, 6))\n",
        "sn.heatmap(confusion_matrix, annot=True,  cmap=\"Blues\", fmt='g')\n",
        "plt.title('First scenario, confusion matrix (BGAT) for the test data')\n",
        "plt.show()"
      ],
      "metadata": {
        "colab": {
          "base_uri": "https://localhost:8080/",
          "height": 564
        },
        "id": "H6HPp2BxMLno",
        "outputId": "6ef32014-4a50-48e9-ef48-8d117f01eeaf"
      },
      "execution_count": null,
      "outputs": [
        {
          "output_type": "display_data",
          "data": {
            "text/plain": [
              "<Figure size 800x600 with 2 Axes>"
            ],
            "image/png": "[encoded data removed]"
          },
          "metadata": {}
        }
      ]
    },
    {
      "cell_type": "code",
      "source": [
        "from sklearn.metrics import roc_auc_score, f1_score, recall_score\n",
        "# Assuming these are your predicted and true labels in PyTorch tensors\n",
        "out = model(Data[\"x\"], Data[\"edge_index\"])\n",
        "pred = out.argmax(dim = 1)\n",
        "y_pred_np = pred[Data[\"test_mask\"]]\n",
        "\n",
        "y_true_np = Data[\"y\"][Data[\"test_mask\"]]\n",
        "\n",
        "# Calculate F-score and recall per class\n",
        "f_score = f1_score(y_true_np, y_pred_np, average='macro')\n",
        "recall = recall_score(y_true_np, y_pred_np, average='macro')\n",
        "\n",
        "print(f'F-score: {f_score :.3f}')\n",
        "print(f'Recall: {recall :.3f}')\n",
        "\n"
      ],
      "metadata": {
        "id": "bWEbev2UBt7V",
        "colab": {
          "base_uri": "https://localhost:8080/"
        },
        "outputId": "8232da73-bd4c-4cd9-8aad-db0399b84239"
      },
      "execution_count": null,
      "outputs": [
        {
          "output_type": "stream",
          "name": "stdout",
          "text": [
            "F-score: 0.931\n",
            "Recall: 0.933\n"
          ]
        }
      ]
    },
    {
      "cell_type": "code",
      "source": [
        "from sklearn.metrics import cohen_kappa_score\n",
        "\n",
        "# Calculate Cohen's Kappa\n",
        "kappa = cohen_kappa_score(y_true_np, y_pred_np)\n",
        "\n",
        "print(f'Cohen\\'s Kappa: {kappa:.3f}')"
      ],
      "metadata": {
        "colab": {
          "base_uri": "https://localhost:8080/"
        },
        "id": "lt7d1eg9_8Gr",
        "outputId": "bf108013-bbd1-4a51-dd32-ad17b3e0b099"
      },
      "execution_count": null,
      "outputs": [
        {
          "output_type": "stream",
          "name": "stdout",
          "text": [
            "Cohen's Kappa: 0.917\n"
          ]
        }
      ]
    },
    {
      "cell_type": "code",
      "source": [
        "from sklearn.metrics import precision_score\n",
        "average_precision = precision_score(y_true_np, y_pred_np, average='macro')\n",
        "print(f'Average Precision: {average_precision:.3f}')"
      ],
      "metadata": {
        "colab": {
          "base_uri": "https://localhost:8080/"
        },
        "id": "pXiBAKKxZ7E4",
        "outputId": "3c2b3f1f-12bd-4b58-bac3-c0c50c0b41df"
      },
      "execution_count": null,
      "outputs": [
        {
          "output_type": "stream",
          "name": "stdout",
          "text": [
            "Average Precision: 0.950\n"
          ]
        }
      ]
    }
  ]
}
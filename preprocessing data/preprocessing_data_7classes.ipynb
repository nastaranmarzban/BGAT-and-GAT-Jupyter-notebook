{
  "nbformat": 4,
  "nbformat_minor": 0,
  "metadata": {
    "colab": {
      "provenance": []
    },
    "kernelspec": {
      "name": "python3",
      "display_name": "Python 3"
    },
    "language_info": {
      "name": "python"
    }
  },
  "cells": [
    {
      "cell_type": "markdown",
      "source": [
        "## Mount to gdrive to read data, adjacency matrix, p_link and labels. "
      ],
      "metadata": {
        "id": "k78DdtqvvrhO"
      }
    },
    {
      "cell_type": "code",
      "source": [
        "from google.colab import drive\n",
        "drive.mount('/gdrive')"
      ],
      "metadata": {
        "id": "Qco-Lha9AkV3",
        "colab": {
          "base_uri": "https://localhost:8080/"
        },
        "outputId": "0a142f3f-2176-445b-c843-b475d30c4e19"
      },
      "execution_count": 1,
      "outputs": [
        {
          "output_type": "stream",
          "name": "stdout",
          "text": [
            "Mounted at /gdrive\n"
          ]
        }
      ]
    },
    {
      "cell_type": "markdown",
      "source": [
        "# Install pandas to read csv files from gdrive. Install torch and numpy which are packages that are needed durind coding."
      ],
      "metadata": {
        "id": "zY04jlv0vymW"
      }
    },
    {
      "cell_type": "code",
      "source": [
        "!pip install pandas\n",
        "import pandas as pd\n",
        "import torch\n",
        "import numpy as np"
      ],
      "metadata": {
        "id": "XgaoAf4pAmAf",
        "colab": {
          "base_uri": "https://localhost:8080/"
        },
        "outputId": "a7c64813-18eb-4c5b-a305-c2bee4d89682"
      },
      "execution_count": 2,
      "outputs": [
        {
          "output_type": "stream",
          "name": "stdout",
          "text": [
            "Looking in indexes: https://pypi.org/simple, https://us-python.pkg.dev/colab-wheels/public/simple/\n",
            "Requirement already satisfied: pandas in /usr/local/lib/python3.8/dist-packages (1.3.5)\n",
            "Requirement already satisfied: pytz>=2017.3 in /usr/local/lib/python3.8/dist-packages (from pandas) (2022.6)\n",
            "Requirement already satisfied: numpy>=1.17.3 in /usr/local/lib/python3.8/dist-packages (from pandas) (1.21.6)\n",
            "Requirement already satisfied: python-dateutil>=2.7.3 in /usr/local/lib/python3.8/dist-packages (from pandas) (2.8.2)\n",
            "Requirement already satisfied: six>=1.5 in /usr/local/lib/python3.8/dist-packages (from python-dateutil>=2.7.3->pandas) (1.15.0)\n"
          ]
        }
      ]
    },
    {
      "cell_type": "markdown",
      "source": [
        "## It is time to prepare x, edge_index, y, train_mask and test_mask which are needed for PyG. "
      ],
      "metadata": {
        "id": "HvqMXxKKQisB"
      }
    },
    {
      "cell_type": "markdown",
      "source": [
        "**Step1 (preparing x)**: Read multivariate dataset from gdrive and convert the type to what is needed in PyG."
      ],
      "metadata": {
        "id": "CJR5cM1qv-Fm"
      }
    },
    {
      "cell_type": "code",
      "source": [
        "x = pd.read_csv('/gdrive/MyDrive/7classes.sim/df1_t_7classes.csv', sep =',',header = None)\n",
        "x = x.astype(np.float32) #try to cast all DataFrame columns to specified numpy.dtype\n",
        "x = torch.tensor(x.values) #convert numpy.dtype to a tensor\n",
        "print(x.sum(dim = 1).unique().size()) #to see if there is a duplicate data in x or not\n",
        "print(x.dtype)\n",
        "print(x.type())\n",
        "print(x)\n",
        "print(x.size())"
      ],
      "metadata": {
        "colab": {
          "base_uri": "https://localhost:8080/"
        },
        "id": "attmZxR9AnlO",
        "outputId": "0cef8d74-0563-420e-f323-b641d55c057c"
      },
      "execution_count": 3,
      "outputs": [
        {
          "output_type": "stream",
          "name": "stdout",
          "text": [
            "torch.Size([70])\n",
            "torch.float32\n",
            "torch.FloatTensor\n",
            "tensor([[-0.6680,  0.3545,  0.1382,  ...,  2.1196,  0.2813,  1.3384],\n",
            "        [ 0.0282,  1.6481,  1.9474,  ...,  0.8241,  0.9470,  1.9798],\n",
            "        [-0.4644,  0.5799,  0.0618,  ..., -0.5351, -0.2698,  0.9294],\n",
            "        ...,\n",
            "        [-0.2195, -0.8809,  0.0466,  ..., -0.5610,  2.1045, -0.2778],\n",
            "        [-0.7321,  0.0596,  1.4736,  ...,  0.7870,  0.7216, -1.5205],\n",
            "        [ 1.0196,  0.5744,  0.3943,  ...,  1.7039, -1.3692,  0.6619]])\n",
            "torch.Size([70, 500])\n"
          ]
        }
      ]
    },
    {
      "cell_type": "markdown",
      "source": [
        "**Step2 (preparing edge_index)**: Read adjacency matrix from gdrive and convert the type to what is needed in PyG. "
      ],
      "metadata": {
        "id": "IoE70OFkwSO9"
      }
    },
    {
      "cell_type": "code",
      "source": [
        "from scipy.sparse import coo_matrix\n",
        "edge_index_csv = pd.read_csv('/gdrive/MyDrive/7classes.sim/adj_7classes.csv',sep =',',header = None)\n",
        "#print(edge_index_csv)\n",
        "edge_index_numpy_ndarry = edge_index_csv.values #convert xlsx file to numpy.ndarry\n",
        "edge_index_coo = coo_matrix(edge_index_numpy_ndarry) #convert symmetric matrix to coo_matrix\n",
        "print(edge_index_coo)"
      ],
      "metadata": {
        "colab": {
          "base_uri": "https://localhost:8080/"
        },
        "id": "o2ThP4VNAsoF",
        "outputId": "ae96ad6a-28bc-4230-9f4d-66b33f1ad7fa"
      },
      "execution_count": 4,
      "outputs": [
        {
          "output_type": "stream",
          "name": "stdout",
          "text": [
            "  (0, 21)\t1\n",
            "  (0, 22)\t1\n",
            "  (0, 26)\t1\n",
            "  (0, 36)\t1\n",
            "  (0, 38)\t1\n",
            "  (0, 65)\t1\n",
            "  (1, 12)\t1\n",
            "  (1, 19)\t1\n",
            "  (1, 63)\t1\n",
            "  (2, 3)\t1\n",
            "  (2, 4)\t1\n",
            "  (2, 19)\t1\n",
            "  (2, 30)\t1\n",
            "  (2, 42)\t1\n",
            "  (2, 67)\t1\n",
            "  (3, 2)\t1\n",
            "  (3, 16)\t1\n",
            "  (4, 2)\t1\n",
            "  (4, 10)\t1\n",
            "  (4, 16)\t1\n",
            "  (4, 23)\t1\n",
            "  (4, 31)\t1\n",
            "  (4, 49)\t1\n",
            "  (4, 51)\t1\n",
            "  (4, 62)\t1\n",
            "  :\t:\n",
            "  (61, 45)\t1\n",
            "  (61, 53)\t1\n",
            "  (62, 4)\t1\n",
            "  (62, 15)\t1\n",
            "  (62, 39)\t1\n",
            "  (62, 63)\t1\n",
            "  (63, 1)\t1\n",
            "  (63, 21)\t1\n",
            "  (63, 62)\t1\n",
            "  (64, 34)\t1\n",
            "  (65, 0)\t1\n",
            "  (65, 44)\t1\n",
            "  (65, 54)\t1\n",
            "  (66, 18)\t1\n",
            "  (66, 39)\t1\n",
            "  (66, 51)\t1\n",
            "  (67, 2)\t1\n",
            "  (67, 4)\t1\n",
            "  (68, 24)\t1\n",
            "  (68, 26)\t1\n",
            "  (68, 28)\t1\n",
            "  (68, 29)\t1\n",
            "  (69, 38)\t1\n",
            "  (69, 42)\t1\n",
            "  (69, 58)\t1\n"
          ]
        }
      ]
    },
    {
      "cell_type": "code",
      "source": [
        "edge_index_numpy = np.vstack((edge_index_coo.row, edge_index_coo.col)) #convert coo_matrix to numpy.ndarray\n",
        "edge_index_torch_int32 = torch.from_numpy(edge_index_numpy) #convert numpy.ndarray to torch.int32\n",
        "edge_index = edge_index_torch_int32.to(torch.int64) #convert torch.int32 to torch.long\n",
        "print(edge_index)\n",
        "print(edge_index.dtype)\n",
        "print(edge_index.type())\n",
        "print(edge_index.size())"
      ],
      "metadata": {
        "colab": {
          "base_uri": "https://localhost:8080/"
        },
        "id": "rei2Br3zA6EK",
        "outputId": "eae4fc6a-55f5-4a88-b9a4-972da92eff58"
      },
      "execution_count": 5,
      "outputs": [
        {
          "output_type": "stream",
          "name": "stdout",
          "text": [
            "tensor([[ 0,  0,  0,  0,  0,  0,  1,  1,  1,  2,  2,  2,  2,  2,  2,  3,  3,  4,\n",
            "          4,  4,  4,  4,  4,  4,  4,  4,  5,  5,  6,  6,  6,  6,  6,  6,  6,  6,\n",
            "          6,  7,  8,  8,  8,  8,  8,  8,  8,  9,  9,  9,  9,  9,  9,  9,  9,  9,\n",
            "          9, 10, 10, 11, 11, 11, 12, 12, 13, 13, 14, 14, 14, 14, 15, 15, 16, 16,\n",
            "         17, 17, 17, 18, 18, 19, 19, 19, 20, 20, 20, 20, 20, 20, 20, 21, 21, 21,\n",
            "         21, 21, 22, 22, 22, 22, 23, 24, 24, 24, 24, 25, 25, 26, 26, 26, 26, 27,\n",
            "         27, 27, 28, 28, 29, 29, 29, 30, 30, 30, 31, 32, 32, 32, 32, 32, 32, 33,\n",
            "         33, 33, 34, 34, 34, 35, 35, 35, 36, 36, 36, 36, 37, 37, 37, 38, 38, 39,\n",
            "         39, 39, 40, 40, 40, 40, 40, 41, 41, 41, 41, 41, 41, 42, 42, 42, 43, 43,\n",
            "         43, 43, 43, 44, 44, 44, 44, 44, 44, 44, 45, 45, 45, 45, 45, 45, 45, 46,\n",
            "         46, 46, 46, 47, 47, 47, 48, 48, 48, 48, 49, 49, 50, 50, 50, 51, 51, 51,\n",
            "         51, 53, 53, 53, 53, 53, 53, 54, 54, 54, 54, 54, 54, 54, 54, 54, 55, 55,\n",
            "         56, 56, 56, 56, 56, 58, 58, 58, 59, 59, 60, 60, 60, 60, 61, 61, 61, 61,\n",
            "         61, 61, 61, 62, 62, 62, 62, 63, 63, 63, 64, 65, 65, 65, 66, 66, 66, 67,\n",
            "         67, 68, 68, 68, 68, 69, 69, 69],\n",
            "        [21, 22, 26, 36, 38, 65, 12, 19, 63,  3,  4, 19, 30, 42, 67,  2, 16,  2,\n",
            "         10, 16, 23, 31, 49, 51, 62, 67, 49, 60,  8,  9, 14, 20, 32, 41, 45, 53,\n",
            "         55, 22,  6,  9, 20, 32, 41, 45, 61,  6,  8, 14, 41, 42, 45, 46, 48, 53,\n",
            "         61,  4, 25, 17, 35, 47,  1, 15, 33, 58,  6,  9, 20, 61, 12, 62,  3,  4,\n",
            "         11, 22, 46, 43, 66,  1,  2, 59,  6,  8, 14, 32, 40, 41, 61,  0, 43, 44,\n",
            "         58, 63,  0,  7, 17, 47,  4, 40, 44, 54, 68, 10, 27,  0, 28, 56, 68, 25,\n",
            "         33, 60, 26, 68, 30, 35, 68,  2, 29, 35,  4,  6,  8, 20, 45, 53, 61, 13,\n",
            "         27, 50, 37, 43, 64, 11, 29, 30,  0, 43, 50, 54, 34, 51, 54,  0, 69, 43,\n",
            "         62, 66, 20, 24, 51, 54, 56,  6,  8,  9, 20, 45, 53,  2,  9, 69, 18, 21,\n",
            "         34, 36, 39, 21, 24, 46, 48, 54, 56, 65,  6,  8,  9, 32, 41, 53, 61,  9,\n",
            "         17, 44, 54, 11, 22, 50,  9, 44, 54, 56,  4,  5, 33, 36, 47,  4, 37, 40,\n",
            "         66,  6,  9, 32, 41, 45, 61, 24, 36, 37, 40, 44, 46, 48, 56, 65,  6, 60,\n",
            "         26, 40, 44, 48, 54, 13, 21, 69, 19, 60,  5, 27, 55, 59,  8,  9, 14, 20,\n",
            "         32, 45, 53,  4, 15, 39, 63,  1, 21, 62, 34,  0, 44, 54, 18, 39, 51,  2,\n",
            "          4, 24, 26, 28, 29, 38, 42, 58]])\n",
            "torch.int64\n",
            "torch.LongTensor\n",
            "torch.Size([2, 260])\n"
          ]
        }
      ]
    },
    {
      "cell_type": "markdown",
      "source": [
        "**Step3 (preparing y)**: Read labels from gdrive and convert the type to what is needed in PyG."
      ],
      "metadata": {
        "id": "kuzAwDRnwb90"
      }
    },
    {
      "cell_type": "code",
      "source": [
        "labels_csv = pd.read_csv('/gdrive/MyDrive/7classes.sim/labels_7classes.csv',sep =',',header=None)\n",
        "y = torch.tensor(labels_csv.values)\n",
        "y.resize_((70))\n",
        "print(y)"
      ],
      "metadata": {
        "colab": {
          "base_uri": "https://localhost:8080/"
        },
        "id": "siCs9uBcA_Ca",
        "outputId": "56baf5af-68b9-4d44-b7d3-bb8acddc7da5"
      },
      "execution_count": 6,
      "outputs": [
        {
          "output_type": "stream",
          "name": "stdout",
          "text": [
            "tensor([0, 5, 6, 6, 6, 3, 1, 4, 1, 1, 6, 4, 5, 0, 1, 5, 6, 0, 5, 3, 1, 5, 4, 6,\n",
            "        2, 3, 4, 3, 4, 4, 6, 6, 1, 0, 3, 4, 2, 3, 0, 5, 2, 1, 0, 5, 2, 1, 2, 4,\n",
            "        2, 6, 0, 6, 4, 1, 2, 3, 2, 2, 0, 3, 3, 1, 5, 5, 3, 2, 5, 0, 4, 0])\n"
          ]
        }
      ]
    },
    {
      "cell_type": "markdown",
      "source": [
        "**Step4 (preparing train_mask, test_mask)**: split x and y into train and test set."
      ],
      "metadata": {
        "id": "mqLlnOx0wg9U"
      }
    },
    {
      "cell_type": "code",
      "source": [
        "from sklearn.model_selection import train_test_split\n",
        "main_mask, test_mask, y_main, y_test = train_test_split(x, y,  test_size = 39, random_state = 0, shuffle = True, stratify = y)\n",
        "train_mask, val_mask, y_train, y_val = train_test_split(main_mask, y_main,  test_size = 10, random_state = 0, shuffle = True, stratify = y_main)\n",
        "#train_mask = train_mask.to(torch.long)\n",
        "#test_mask = test_mask.to(torch.long)\n",
        "print(train_mask)\n",
        "print(test_mask)\n",
        "print(train_mask.size())\n",
        "print(val_mask.size())\n",
        "print(test_mask.size())"
      ],
      "metadata": {
        "colab": {
          "base_uri": "https://localhost:8080/"
        },
        "id": "2dLVUDsxBCR6",
        "outputId": "1cfbf940-a25f-4d94-8632-1b733f68e9b1"
      },
      "execution_count": 7,
      "outputs": [
        {
          "output_type": "stream",
          "name": "stdout",
          "text": [
            "tensor([[-1.0609,  2.1436, -0.1678,  ...,  0.4928,  0.4604,  1.2071],\n",
            "        [-0.4210,  1.0202, -0.0709,  ..., -1.3458, -0.7098, -0.6120],\n",
            "        [-0.2456, -1.2005, -2.0871,  ...,  1.1912, -0.8355, -0.3074],\n",
            "        ...,\n",
            "        [-0.6386,  0.3763,  0.4909,  ..., -1.3751, -0.3818,  1.0854],\n",
            "        [ 0.2696,  1.7279,  0.5187,  ...,  0.2844, -0.1213,  0.3580],\n",
            "        [-0.5474,  0.1105, -1.1235,  ...,  1.8091, -1.0986,  0.8451]])\n",
            "tensor([[ 1.1026,  1.3767,  1.3339,  ..., -0.6261, -1.1796,  1.2935],\n",
            "        [ 0.8492,  0.3485, -0.2633,  ..., -1.0214,  1.6695,  0.7288],\n",
            "        [ 1.1908, -0.8032,  0.7891,  ..., -0.5562, -1.4553, -0.8918],\n",
            "        ...,\n",
            "        [ 0.8753,  2.1445,  1.9234,  ...,  0.7838,  0.9486,  1.0234],\n",
            "        [ 1.0196,  0.5744,  0.3943,  ...,  1.7039, -1.3692,  0.6619],\n",
            "        [-1.0942,  1.5473,  0.8378,  ...,  1.2226, -0.5648,  0.7292]])\n",
            "torch.Size([21, 500])\n",
            "torch.Size([10, 500])\n",
            "torch.Size([39, 500])\n"
          ]
        }
      ]
    },
    {
      "cell_type": "markdown",
      "source": [
        "## To see how many percent of data belong to each class."
      ],
      "metadata": {
        "id": "C94cSz8TzHJC"
      }
    },
    {
      "cell_type": "code",
      "source": [
        "labels, counts = np.unique(y, return_counts = True)\n",
        "print(counts/float(len(y)))"
      ],
      "metadata": {
        "colab": {
          "base_uri": "https://localhost:8080/"
        },
        "id": "5lbsuzQ7BGAh",
        "outputId": "7018a93e-756a-4a29-8a9b-2091b342fccc"
      },
      "execution_count": 8,
      "outputs": [
        {
          "output_type": "stream",
          "name": "stdout",
          "text": [
            "[0.14285714 0.14285714 0.14285714 0.14285714 0.14285714 0.14285714\n",
            " 0.14285714]\n"
          ]
        }
      ]
    },
    {
      "cell_type": "code",
      "source": [
        "labels, counts = np.unique(y_train, return_counts = True)\n",
        "print(counts/float(len(y_train)))"
      ],
      "metadata": {
        "colab": {
          "base_uri": "https://localhost:8080/"
        },
        "id": "R3mGUONLfz2p",
        "outputId": "07abace4-e557-4515-b420-2737bea5620d"
      },
      "execution_count": 9,
      "outputs": [
        {
          "output_type": "stream",
          "name": "stdout",
          "text": [
            "[0.14285714 0.14285714 0.14285714 0.14285714 0.14285714 0.14285714\n",
            " 0.14285714]\n"
          ]
        }
      ]
    },
    {
      "cell_type": "code",
      "source": [
        "labels, counts = np.unique(y_test, return_counts = True)\n",
        "print(counts/float(len(y_val)))"
      ],
      "metadata": {
        "colab": {
          "base_uri": "https://localhost:8080/"
        },
        "id": "dm62LCZqf4Xd",
        "outputId": "be4495a3-dc19-4766-ca88-698a05ed3d2c"
      },
      "execution_count": 10,
      "outputs": [
        {
          "output_type": "stream",
          "name": "stdout",
          "text": [
            "[0.6 0.5 0.5 0.6 0.6 0.6 0.5]\n"
          ]
        }
      ]
    },
    {
      "cell_type": "code",
      "source": [
        "labels, counts = np.unique(y_test, return_counts = True)\n",
        "print(counts/float(len(y_test)))"
      ],
      "metadata": {
        "colab": {
          "base_uri": "https://localhost:8080/"
        },
        "id": "Aa4w5bS6f_EL",
        "outputId": "bb776ea7-cc8f-40f8-d8e9-3548621d2dbf"
      },
      "execution_count": 11,
      "outputs": [
        {
          "output_type": "stream",
          "name": "stdout",
          "text": [
            "[0.15384615 0.12820513 0.12820513 0.15384615 0.15384615 0.15384615\n",
            " 0.12820513]\n"
          ]
        }
      ]
    },
    {
      "cell_type": "markdown",
      "source": [
        "## Preparing train_mask and test_mask based on PyG."
      ],
      "metadata": {
        "id": "B3ddHHbnxTC3"
      }
    },
    {
      "cell_type": "code",
      "source": [
        "train_mask = (x.unsqueeze(0) == train_mask.unsqueeze(1)).all(dim = 2).any(dim = 0)\n",
        "print(train_mask)\n",
        "print(train_mask.size())\n",
        "print(sum(train_mask))\n",
        "\n",
        "val_mask = (x.unsqueeze(0) == val_mask.unsqueeze(1)).all(dim = 2).any(dim = 0)\n",
        "print(val_mask)\n",
        "print(val_mask.size())\n",
        "print(sum(val_mask))\n",
        "\n",
        "test_mask = (x.unsqueeze(0) == test_mask.unsqueeze(1)).all(dim = 2).any(dim = 0)\n",
        "print(test_mask)\n",
        "print(test_mask.size())\n",
        "print(sum(test_mask))"
      ],
      "metadata": {
        "colab": {
          "base_uri": "https://localhost:8080/"
        },
        "id": "TbVMD42VBOG6",
        "outputId": "dfc7d55a-18ed-46de-ab2b-1f62d67aff5c"
      },
      "execution_count": 12,
      "outputs": [
        {
          "output_type": "stream",
          "name": "stdout",
          "text": [
            "tensor([False, False,  True, False,  True, False, False, False, False,  True,\n",
            "        False,  True,  True,  True,  True,  True, False, False,  True, False,\n",
            "        False, False, False,  True, False, False, False, False, False,  True,\n",
            "        False, False,  True, False,  True, False,  True,  True, False, False,\n",
            "         True, False, False, False, False, False, False, False, False, False,\n",
            "        False, False,  True, False,  True, False, False, False,  True,  True,\n",
            "        False, False, False, False, False, False, False,  True, False, False])\n",
            "torch.Size([70])\n",
            "tensor(21)\n",
            "tensor([False, False, False, False, False, False, False, False,  True, False,\n",
            "         True, False, False, False, False, False, False, False, False, False,\n",
            "         True, False, False, False, False,  True, False, False, False, False,\n",
            "        False, False, False,  True, False, False, False, False, False, False,\n",
            "        False, False, False, False, False, False, False, False,  True, False,\n",
            "        False,  True, False, False, False, False, False, False, False, False,\n",
            "        False, False,  True, False, False,  True, False, False,  True, False])\n",
            "torch.Size([70])\n",
            "tensor(10)\n",
            "tensor([ True,  True, False,  True, False,  True,  True,  True, False, False,\n",
            "        False, False, False, False, False, False,  True,  True, False,  True,\n",
            "        False,  True,  True, False,  True, False,  True,  True,  True, False,\n",
            "         True,  True, False, False, False,  True, False, False,  True,  True,\n",
            "        False,  True,  True,  True,  True,  True,  True,  True, False,  True,\n",
            "         True, False, False,  True, False,  True,  True,  True, False, False,\n",
            "         True,  True, False,  True,  True, False,  True, False, False,  True])\n",
            "torch.Size([70])\n",
            "tensor(39)\n"
          ]
        }
      ]
    },
    {
      "cell_type": "markdown",
      "source": [
        "## It is time to use p_link as attentions."
      ],
      "metadata": {
        "id": "ag3VNL14xd0W"
      }
    },
    {
      "cell_type": "code",
      "source": [
        "p_link = pd.read_csv('/gdrive/MyDrive/7classes.sim/p_links_7classes.csv', sep =',',header = None)\n",
        "p_link = p_link.astype(np.float32)\n",
        "p_link = torch.tensor(p_link.values)\n",
        "#p_link = p_link.to(torch.float32)\n",
        "print(p_link.size())\n",
        "print(p_link.dtype)\n",
        "print(p_link.type())"
      ],
      "metadata": {
        "colab": {
          "base_uri": "https://localhost:8080/"
        },
        "id": "sIkAh1HGBQ8F",
        "outputId": "ab3ab784-d65f-43ea-e30b-1a7d38d2623c"
      },
      "execution_count": 13,
      "outputs": [
        {
          "output_type": "stream",
          "name": "stdout",
          "text": [
            "torch.Size([70, 70])\n",
            "torch.float32\n",
            "torch.FloatTensor\n"
          ]
        }
      ]
    },
    {
      "cell_type": "markdown",
      "source": [
        "# Now everything is ready to develop our GNNs."
      ],
      "metadata": {
        "id": "3fH-6AFzRgaE"
      }
    },
    {
      "cell_type": "markdown",
      "source": [
        "# Install torch_geometric."
      ],
      "metadata": {
        "id": "xVPvbWA-xqQc"
      }
    },
    {
      "cell_type": "code",
      "source": [
        "import os\n",
        "os.environ['TORCH'] = torch.__version__\n",
        "print(torch.__version__)\n",
        "\n",
        "!pip install -q torch-scatter -f https://data.pyg.org/whl/torch-${TORCH}.html\n",
        "!pip install -q torch-sparse -f https://data.pyg.org/whl/torch-${TORCH}.html\n",
        "!pip install -q git+https://github.com/pyg-team/pytorch_geometric.git"
      ],
      "metadata": {
        "id": "tzhdikh_htu5",
        "colab": {
          "base_uri": "https://localhost:8080/"
        },
        "outputId": "6c148278-e7c1-4f16-cf0e-159ba1231760"
      },
      "execution_count": 14,
      "outputs": [
        {
          "output_type": "stream",
          "name": "stdout",
          "text": [
            "1.13.0+cu116\n",
            "\u001b[K     |████████████████████████████████| 9.4 MB 2.9 MB/s \n",
            "\u001b[K     |████████████████████████████████| 4.6 MB 2.9 MB/s \n",
            "\u001b[K     |████████████████████████████████| 280 kB 5.4 MB/s \n",
            "\u001b[?25h  Building wheel for torch-geometric (setup.py) ... \u001b[?25l\u001b[?25hdone\n"
          ]
        }
      ]
    },
    {
      "cell_type": "markdown",
      "source": [
        "# Save data in order to use it. "
      ],
      "metadata": {
        "id": "73yP0j8Exxdm"
      }
    },
    {
      "cell_type": "code",
      "source": [
        "from torch_geometric.data import Data\n",
        "Data = Data(x = x, edge_index = edge_index, y = y, train_mask = train_mask, val_mask = val_mask, test_mask = test_mask)\n",
        "print(Data)"
      ],
      "metadata": {
        "id": "PHTzlwIBCKa7",
        "colab": {
          "base_uri": "https://localhost:8080/"
        },
        "outputId": "f1c5ba28-f9d1-45f5-fe24-08049814ea5e"
      },
      "execution_count": 15,
      "outputs": [
        {
          "output_type": "stream",
          "name": "stdout",
          "text": [
            "Data(x=[70, 500], edge_index=[2, 260], y=[70], train_mask=[70], val_mask=[70], test_mask=[70])\n"
          ]
        }
      ]
    },
    {
      "cell_type": "code",
      "source": [
        "data_save_name = 'data_7classes.pt'  \n",
        "path = F\"/gdrive/MyDrive/7classes.sim/{data_save_name}\" \n",
        "torch.save(Data.to_dict(), path)"
      ],
      "metadata": {
        "id": "l9e6lVFkCMTd"
      },
      "execution_count": 16,
      "outputs": []
    },
    {
      "cell_type": "code",
      "source": [
        "p_link_save_name = 'p_links_7classes.pt'  \n",
        "path = F\"/gdrive/MyDrive/7classes.sim/{p_link_save_name}\" \n",
        "torch.save(p_link, path)"
      ],
      "metadata": {
        "id": "XkBHDafP28e4"
      },
      "execution_count": 17,
      "outputs": []
    }
  ]
}